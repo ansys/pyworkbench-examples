{
 "cells": [
  {
   "cell_type": "markdown",
   "id": "bc1f6db8",
   "metadata": {},
   "source": [
    "# Ansys Fluent workflow\n",
    "\n",
    "In this example, the application of PyWorkbench, a Python client scripting tool for Ansys Workbench, is demonstrated in a use case for Ansys Fluent Workflow. The Ansys Fluent TUI (Text User Interface) journal files are utilized to set up and solve the simulation. For meshing Ansys Fluent Meshing WTM (Water Tight Meshing Workflow)is employed through recorded journaling capabilites of Ansys Fluent. As aware, Workbench offers the ability to record actions performed in the user interface, also known as journaling. These recorded actions are saved as Python scripts, which allow for extending functionality, automating repetitive analyses, and running analyses in batch mode. This example demonstrates how to use such a journal file with PyWorkbench for Ansys Fluent Workflow."
   ]
  },
  {
   "cell_type": "markdown",
   "id": "8bab6818",
   "metadata": {},
   "source": [
    "This example sets up and solves a three-dimensional turbulent fluid flow and heat transfer problem in a mixing elbow, which is common in piping systems in power plants and process industries. Predicting the flow field and temperature field in the area of the mixing region is important to designing the junction properly.\n",
    "\n",
    "# Problem description\n",
    "A cold fluid at 20 deg C flows into the pipe through a large inlet. It then mixes with a warmer fluid at 40 deg C that enters through a smaller inlet located at the elbow. The pipe dimensions are in inches, and the fluid properties and boundary conditions are given in SI units. Because the Reynolds number for the flow at the larger inlet is ``50,800``, a turbulent flow model is required."
   ]
  },
  {
   "cell_type": "markdown",
   "id": "89e5ac83",
   "metadata": {},
   "source": [
    "# What this tutorial covers\n",
    "\n",
    "This use case that demonstrates following PyWorkbench API capabilities such as:\n",
    "- Initiating the Ansys Workbench server locally and establishing a connection with a local client.\n",
    "- Uploading the required input data from client working directory to server working directory.\n",
    "- Executing the Ansys Workbench journal (.wbjn) script on the server, which will execute the Fluent simulation using setup.jou and solve.jou TUI scripts. refer assets for simulation input data.\n",
    "- Downloading the results from the server to client.\n",
    "- Shutting down the server."
   ]
  },
  {
   "cell_type": "markdown",
   "id": "3ddc1dca",
   "metadata": {},
   "source": [
    "## Performed required imports\n",
    "Performing essential imports for Ansys Workbench, pathlib to handle filesystems path."
   ]
  },
  {
   "cell_type": "code",
   "execution_count": 1,
   "id": "72e25a92",
   "metadata": {
    "execution": {
     "iopub.execute_input": "2024-06-14T08:09:34.468959Z",
     "iopub.status.busy": "2024-06-14T08:09:34.468959Z",
     "iopub.status.idle": "2024-06-14T08:09:34.736819Z",
     "shell.execute_reply": "2024-06-14T08:09:34.736819Z"
    }
   },
   "outputs": [],
   "source": [
    "import pathlib\n",
    "from ansys.workbench.core import launch_workbench"
   ]
  },
  {
   "cell_type": "markdown",
   "id": "78a541c0",
   "metadata": {},
   "source": [
    "## Setting up server Working directory and asset paths"
   ]
  },
  {
   "cell_type": "code",
   "execution_count": 2,
   "id": "deeac5b9",
   "metadata": {
    "execution": {
     "iopub.execute_input": "2024-06-14T08:09:34.736819Z",
     "iopub.status.busy": "2024-06-14T08:09:34.736819Z",
     "iopub.status.idle": "2024-06-14T08:09:34.746920Z",
     "shell.execute_reply": "2024-06-14T08:09:34.746920Z"
    }
   },
   "outputs": [],
   "source": [
    "workdir = pathlib.Path(\"__file__\").parent\n",
    "\n",
    "server_workdir = workdir / 'server_workdir'  \n",
    "server_workdir.mkdir(exist_ok=True)  \n",
    "\n",
    "assets = workdir / \"assets\"\n",
    "scdoc = assets /\"scdoc\"\n",
    "jou = assets / \"jou\""
   ]
  },
  {
   "cell_type": "markdown",
   "id": "8e559721",
   "metadata": {},
   "source": [
    "## Launch the workbench session with specified Ansys release version, server and client working directories"
   ]
  },
  {
   "cell_type": "code",
   "execution_count": 3,
   "id": "929042c2",
   "metadata": {
    "execution": {
     "iopub.execute_input": "2024-06-14T08:09:34.746920Z",
     "iopub.status.busy": "2024-06-14T08:09:34.746920Z",
     "iopub.status.idle": "2024-06-14T08:11:52.260790Z",
     "shell.execute_reply": "2024-06-14T08:11:52.260790Z"
    }
   },
   "outputs": [],
   "source": [
    "wb = launch_workbench(release=\"241\", server_workdir=str(server_workdir.absolute()), client_workdir=str(workdir.absolute()))"
   ]
  },
  {
   "cell_type": "markdown",
   "id": "528fa57e",
   "metadata": {},
   "source": [
    "## Uploading the input data\n",
    "Upload several input files (Geometry, Ansys Fluent simulation setup and solve journal files ), which will be transferred to the host."
   ]
  },
  {
   "cell_type": "code",
   "execution_count": 4,
   "id": "ba628e98",
   "metadata": {
    "execution": {
     "iopub.execute_input": "2024-06-14T08:11:52.260790Z",
     "iopub.status.busy": "2024-06-14T08:11:52.260790Z",
     "iopub.status.idle": "2024-06-14T08:11:52.443888Z",
     "shell.execute_reply": "2024-06-14T08:11:52.443888Z"
    }
   },
   "outputs": [
    {
     "name": "stderr",
     "output_type": "stream",
     "text": [
      "\r",
      "Uploading mixing_elbow.scdoc:   0%|          | 0.00/89.5k [00:00<?, ?B/s]"
     ]
    },
    {
     "name": "stderr",
     "output_type": "stream",
     "text": [
      "\r",
      "Uploading mixing_elbow.scdoc: 100%|██████████| 89.5k/89.5k [00:00<00:00, 5.87MB/s]"
     ]
    },
    {
     "name": "stderr",
     "output_type": "stream",
     "text": [
      "\n"
     ]
    },
    {
     "name": "stderr",
     "output_type": "stream",
     "text": [
      "\r",
      "Uploading setup.jou:   0%|          | 0.00/2.00k [00:00<?, ?B/s]"
     ]
    },
    {
     "name": "stderr",
     "output_type": "stream",
     "text": [
      "\r",
      "Uploading setup.jou: 100%|██████████| 2.00k/2.00k [00:00<?, ?B/s]"
     ]
    },
    {
     "name": "stderr",
     "output_type": "stream",
     "text": [
      "\n"
     ]
    },
    {
     "name": "stderr",
     "output_type": "stream",
     "text": [
      "\r",
      "Uploading solve.jou:   0%|          | 0.00/758 [00:00<?, ?B/s]"
     ]
    },
    {
     "name": "stderr",
     "output_type": "stream",
     "text": [
      "\r",
      "Uploading solve.jou: 100%|██████████| 758/758 [00:00<?, ?B/s] "
     ]
    },
    {
     "name": "stderr",
     "output_type": "stream",
     "text": [
      "\n"
     ]
    }
   ],
   "source": [
    "wb.upload_file(str(scdoc / \"mixing_elbow.scdoc\"))\n",
    "wb.upload_file(str(jou / \"setup.jou\"))\n",
    "wb.upload_file(str(jou / \"solve.jou\"))"
   ]
  },
  {
   "cell_type": "markdown",
   "id": "6fd9b9b5",
   "metadata": {},
   "source": [
    "## Executing a workbench script \n",
    "This will configure the workbench project schematic. This file is Ansys Workbench recorded journal file (Python Script). This can be easily configured as per requirement.\n",
    ">Note: For a better understanding of how meshing, setup, and solve workflows are being utilized, please refer to the project.wbjn file."
   ]
  },
  {
   "cell_type": "code",
   "execution_count": 5,
   "id": "6ba3f136",
   "metadata": {
    "execution": {
     "iopub.execute_input": "2024-06-14T08:11:52.443888Z",
     "iopub.status.busy": "2024-06-14T08:11:52.443888Z",
     "iopub.status.idle": "2024-06-14T08:12:13.659598Z",
     "shell.execute_reply": "2024-06-14T08:12:13.659598Z"
    }
   },
   "outputs": [
    {
     "name": "stderr",
     "output_type": "stream",
     "text": [
      "ERROR:root:Error when running the script: CommandFailedException: The FLUENT application failed to validate the connection.\n"
     ]
    }
   ],
   "source": [
    "sys_name = wb.run_script_file(str((assets / \"project.wbjn\").absolute()))"
   ]
  },
  {
   "cell_type": "markdown",
   "id": "65a15303",
   "metadata": {},
   "source": [
    "## Downloading output files to the client-side working directory\n",
    "Here, only the contour saved during the simulation data post-processing is being downloaded. But one can download all the output as required."
   ]
  },
  {
   "cell_type": "code",
   "execution_count": 6,
   "id": "e0f07a9c",
   "metadata": {
    "execution": {
     "iopub.execute_input": "2024-06-14T08:12:13.659598Z",
     "iopub.status.busy": "2024-06-14T08:12:13.659598Z",
     "iopub.status.idle": "2024-06-14T08:12:13.689332Z",
     "shell.execute_reply": "2024-06-14T08:12:13.689332Z"
    }
   },
   "outputs": [
    {
     "name": "stderr",
     "output_type": "stream",
     "text": [
      "ERROR:root:Error during file download: Could not find file 'C:/Users/ansys/actions-runner/_work/pyworkbench-examples/pyworkbench-examples/pyworkbench-examples/doc/source/examples/ansys-fluent-workflow/server_workdir\\temperature_contour.jpeg'.\n"
     ]
    }
   ],
   "source": [
    "wb.download_file(\"temperature_contour.jpeg\")"
   ]
  },
  {
   "cell_type": "markdown",
   "id": "d086f62f",
   "metadata": {},
   "source": [
    "## Shutdown the Ansys Workbench server session"
   ]
  },
  {
   "cell_type": "code",
   "execution_count": 7,
   "id": "3445e7a8",
   "metadata": {
    "execution": {
     "iopub.execute_input": "2024-06-14T08:12:13.689332Z",
     "iopub.status.busy": "2024-06-14T08:12:13.689332Z",
     "iopub.status.idle": "2024-06-14T08:12:20.406106Z",
     "shell.execute_reply": "2024-06-14T08:12:20.406106Z"
    }
   },
   "outputs": [],
   "source": [
    "wb.exit()"
   ]
  },
  {
   "cell_type": "code",
   "execution_count": null,
   "id": "bf2e39b0",
   "metadata": {},
   "outputs": [],
   "source": []
  }
 ],
 "metadata": {
  "jupytext": {
   "cell_metadata_filter": "-all",
   "main_language": "python",
   "notebook_metadata_filter": "-all",
   "text_representation": {
    "extension": ".py",
    "format_name": "light"
   }
  },
  "language_info": {
   "codemirror_mode": {
    "name": "ipython",
    "version": 3
   },
   "file_extension": ".py",
   "mimetype": "text/x-python",
   "name": "python",
   "nbconvert_exporter": "python",
   "pygments_lexer": "ipython3",
   "version": "3.11.9"
  }
 },
 "nbformat": 4,
 "nbformat_minor": 5
}
