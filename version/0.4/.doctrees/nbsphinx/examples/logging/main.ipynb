{
 "cells": [
  {
   "cell_type": "markdown",
   "id": "a1d7b065",
   "metadata": {},
   "source": [
    "# Logging\n",
    "\n",
    "This example showcases the logging capabilities of PyWorkbench."
   ]
  },
  {
   "cell_type": "code",
   "execution_count": 1,
   "id": "af42a420",
   "metadata": {
    "execution": {
     "iopub.execute_input": "2024-06-14T08:49:52.522148Z",
     "iopub.status.busy": "2024-06-14T08:49:52.522148Z",
     "iopub.status.idle": "2024-06-14T08:49:52.681095Z",
     "shell.execute_reply": "2024-06-14T08:49:52.681095Z"
    }
   },
   "outputs": [],
   "source": [
    "import pathlib\n",
    "import os\n",
    "from ansys.workbench.core import launch_workbench"
   ]
  },
  {
   "cell_type": "markdown",
   "id": "78cc30c6",
   "metadata": {},
   "source": [
    "First, import the necessary modules. We import `pathlib` for handling filesystem paths and `os` for interacting with the operating system. The `launch_workbench` function from `ansys.workbench.core` is imported to start a Workbench session."
   ]
  },
  {
   "cell_type": "markdown",
   "id": "8438551b",
   "metadata": {},
   "source": [
    "Next, launch a Workbench session using PyWorkbench. Different directories are declared, including the working directory and the server directory. Both of them are set to be the current working directory."
   ]
  },
  {
   "cell_type": "code",
   "execution_count": 2,
   "id": "f7489e4a",
   "metadata": {
    "execution": {
     "iopub.execute_input": "2024-06-14T08:49:52.681095Z",
     "iopub.status.busy": "2024-06-14T08:49:52.681095Z",
     "iopub.status.idle": "2024-06-14T08:49:52.690014Z",
     "shell.execute_reply": "2024-06-14T08:49:52.690014Z"
    }
   },
   "outputs": [],
   "source": [
    "workdir = pathlib.Path(\"__file__\").parent\n",
    "server_workdir = workdir / \"server_workdir\"\n",
    "client_workdir = workdir / \"client_workdir\"\n",
    "alternative_target_dir = workdir / \"alternative_target_dir\""
   ]
  },
  {
   "cell_type": "markdown",
   "id": "bdcb41fe",
   "metadata": {},
   "source": [
    "Here, we define several directories that will be used during the session. \n",
    "`workdir` is set to the parent directory of the current file. \n",
    "`server_workdir`, `client_workdir`, and `alternative_target_dir` are subdirectories within the working directory."
   ]
  },
  {
   "cell_type": "markdown",
   "id": "72bb26d3",
   "metadata": {},
   "source": [
    "Launch Workbench using previous directories:"
   ]
  },
  {
   "cell_type": "code",
   "execution_count": 3,
   "id": "c484ad6b",
   "metadata": {
    "execution": {
     "iopub.execute_input": "2024-06-14T08:49:52.690014Z",
     "iopub.status.busy": "2024-06-14T08:49:52.690014Z",
     "iopub.status.idle": "2024-06-14T08:51:59.602761Z",
     "shell.execute_reply": "2024-06-14T08:51:59.602761Z"
    }
   },
   "outputs": [],
   "source": [
    "wb = launch_workbench(release=\"241\", server_workdir=str(server_workdir.absolute()), client_workdir=str(client_workdir.absolute()))"
   ]
  },
  {
   "cell_type": "markdown",
   "id": "2022d432",
   "metadata": {},
   "source": [
    "The `launch_workbench` function is called to start a Workbench session. \n",
    "The `release` parameter specifies the version of Workbench to launch. \n",
    "`server_workdir` and `client_workdir` are set to their absolute paths to avoid any ambiguity in directory locations."
   ]
  },
  {
   "cell_type": "code",
   "execution_count": 4,
   "id": "764e2697",
   "metadata": {
    "execution": {
     "iopub.execute_input": "2024-06-14T08:51:59.602761Z",
     "iopub.status.busy": "2024-06-14T08:51:59.602761Z",
     "iopub.status.idle": "2024-06-14T08:52:00.806787Z",
     "shell.execute_reply": "2024-06-14T08:52:00.806787Z"
    }
   },
   "outputs": [
    {
     "name": "stderr",
     "output_type": "stream",
     "text": [
      "\r",
      "Downloading server1._.zip:   0%|          | 0.00/337 [00:00<?, ?B/s]"
     ]
    },
    {
     "name": "stderr",
     "output_type": "stream",
     "text": [
      "\r",
      "Downloading server1._.zip: 100%|██████████| 337/337 [00:01<00:00, 332B/s]"
     ]
    },
    {
     "name": "stderr",
     "output_type": "stream",
     "text": [
      "\n"
     ]
    }
   ],
   "source": [
    "downloaded1 = wb.download_file('server1.*')"
   ]
  },
  {
   "cell_type": "markdown",
   "id": "25d50756",
   "metadata": {},
   "source": [
    "This command demonstrates how to download files from the server using a wildcard. \n",
    "The `download_file` method is used to fetch all files matching the pattern `server1.*` from the server to the client."
   ]
  },
  {
   "cell_type": "code",
   "execution_count": 5,
   "id": "5126e631",
   "metadata": {
    "execution": {
     "iopub.execute_input": "2024-06-14T08:52:00.806787Z",
     "iopub.status.busy": "2024-06-14T08:52:00.806787Z",
     "iopub.status.idle": "2024-06-14T08:52:01.858926Z",
     "shell.execute_reply": "2024-06-14T08:52:01.858926Z"
    }
   },
   "outputs": [
    {
     "name": "stderr",
     "output_type": "stream",
     "text": [
      "\r",
      "Downloading _.zip:   0%|          | 0.00/652 [00:00<?, ?B/s]"
     ]
    },
    {
     "name": "stderr",
     "output_type": "stream",
     "text": [
      "\r",
      "Downloading _.zip: 100%|██████████| 652/652 [00:01<00:00, 632B/s]"
     ]
    },
    {
     "name": "stderr",
     "output_type": "stream",
     "text": [
      "\n"
     ]
    }
   ],
   "source": [
    "downloaded2 = wb.download_file('*', target_dir=alternative_target_dir)"
   ]
  },
  {
   "cell_type": "markdown",
   "id": "72c8a7e9",
   "metadata": {},
   "source": [
    "This command downloads the entire contents of the server directory to an alternative local directory specified by `alternative_target_dir`."
   ]
  },
  {
   "cell_type": "code",
   "execution_count": 6,
   "id": "47ff5528",
   "metadata": {
    "execution": {
     "iopub.execute_input": "2024-06-14T08:52:01.858926Z",
     "iopub.status.busy": "2024-06-14T08:52:01.858926Z",
     "iopub.status.idle": "2024-06-14T08:52:01.955465Z",
     "shell.execute_reply": "2024-06-14T08:52:01.955465Z"
    }
   },
   "outputs": [
    {
     "name": "stderr",
     "output_type": "stream",
     "text": [
      "\r",
      "Uploading cylinder.txt:   0%|          | 0.00/10.0 [00:00<?, ?B/s]"
     ]
    },
    {
     "name": "stderr",
     "output_type": "stream",
     "text": [
      "\r",
      "Uploading cylinder.txt: 100%|██████████| 10.0/10.0 [00:00<00:00, 639B/s]"
     ]
    },
    {
     "name": "stderr",
     "output_type": "stream",
     "text": [
      "\n"
     ]
    },
    {
     "name": "stderr",
     "output_type": "stream",
     "text": [
      "\r",
      "Uploading longbar.txt:   0%|          | 0.00/9.00 [00:00<?, ?B/s]"
     ]
    },
    {
     "name": "stderr",
     "output_type": "stream",
     "text": [
      "\r",
      "Uploading longbar.txt: 100%|██████████| 9.00/9.00 [00:00<00:00, 574B/s]"
     ]
    },
    {
     "name": "stderr",
     "output_type": "stream",
     "text": [
      "\n"
     ]
    },
    {
     "name": "stderr",
     "output_type": "stream",
     "text": [
      "\r",
      "Uploading model3.prt:   0%|          | 0.00/8.00 [00:00<?, ?B/s]"
     ]
    },
    {
     "name": "stderr",
     "output_type": "stream",
     "text": [
      "\r",
      "Uploading model3.prt: 100%|██████████| 8.00/8.00 [00:00<?, ?B/s]"
     ]
    },
    {
     "name": "stderr",
     "output_type": "stream",
     "text": [
      "\n"
     ]
    },
    {
     "name": "stderr",
     "output_type": "stream",
     "text": [
      "\r",
      "Uploading model7.prt:   0%|          | 0.00/8.00 [00:00<?, ?B/s]"
     ]
    },
    {
     "name": "stderr",
     "output_type": "stream",
     "text": [
      "\r",
      "Uploading model7.prt: 100%|██████████| 8.00/8.00 [00:00<?, ?B/s]"
     ]
    },
    {
     "name": "stderr",
     "output_type": "stream",
     "text": [
      "\n"
     ]
    }
   ],
   "source": [
    "wb.upload_file('*.txt', 'model?.prt')"
   ]
  },
  {
   "cell_type": "markdown",
   "id": "c00a023b",
   "metadata": {},
   "source": [
    "This command shows how to upload files to the server using wildcards. \n",
    "All `.txt` files and files matching the pattern `model?.prt` in the client directory are uploaded to the server."
   ]
  },
  {
   "cell_type": "code",
   "execution_count": 7,
   "id": "d4051c41",
   "metadata": {
    "execution": {
     "iopub.execute_input": "2024-06-14T08:52:01.955465Z",
     "iopub.status.busy": "2024-06-14T08:52:01.955465Z",
     "iopub.status.idle": "2024-06-14T08:52:01.964500Z",
     "shell.execute_reply": "2024-06-14T08:52:01.964500Z"
    }
   },
   "outputs": [
    {
     "name": "stderr",
     "output_type": "stream",
     "text": [
      "WARNING:root:The following files do not exist and are skipped: C:\\Users\\ansys\\actions-runner\\_work\\pyworkbench-examples\\pyworkbench-examples\\pyworkbench-examples\\doc\\source\\examples\\logging\\client_workdir\\alternative_target_dir\\app.py\n",
      "C:\\Users\\ansys\\actions-runner\\_work\\pyworkbench-examples\\pyworkbench-examples\\pyworkbench-examples\\doc\\source\\examples\\logging\\client_workdir\\non_existing_file1\n",
      "C:\\Users\\ansys\\actions-runner\\_work\\pyworkbench-examples\\pyworkbench-examples\\pyworkbench-examples\\doc\\source\\examples\\logging\\client_workdir\\non_existing_file2\n"
     ]
    }
   ],
   "source": [
    "wb.upload_file(os.path.join(alternative_target_dir, 'app.py'), 'non_existing_file1', 'non_existing_file2', show_progress=False)"
   ]
  },
  {
   "cell_type": "markdown",
   "id": "2b354ad0",
   "metadata": {},
   "source": [
    "Here, files are uploaded from an alternative directory, and non-existing files are specified. \n",
    "The `show_progress` parameter is set to `False` to disable the progress bar during the upload."
   ]
  },
  {
   "cell_type": "code",
   "execution_count": 8,
   "id": "2cabe079",
   "metadata": {
    "execution": {
     "iopub.execute_input": "2024-06-14T08:52:01.964500Z",
     "iopub.status.busy": "2024-06-14T08:52:01.964500Z",
     "iopub.status.idle": "2024-06-14T08:52:02.156755Z",
     "shell.execute_reply": "2024-06-14T08:52:02.156755Z"
    }
   },
   "outputs": [
    {
     "name": "stderr",
     "output_type": "stream",
     "text": [
      "ERROR:root:Error when running the script: CommandFailedException: Template Thermal not found in Project.\n"
     ]
    },
    {
     "name": "stdout",
     "output_type": "stream",
     "text": [
      "None\n"
     ]
    }
   ],
   "source": [
    "export_path = 'wb_log_file.log'\n",
    "wb.set_log_file(export_path)\n",
    "print(wb.run_script_file('wb.wbjn', log_level='info'))"
   ]
  },
  {
   "cell_type": "markdown",
   "id": "447b8138",
   "metadata": {},
   "source": [
    "This segment sets up a log file for the script execution. \n",
    "The `set_log_file` method directs the logs to `wb_log_file.log`, and `run_script_file` executes a script with `info` log level. \n",
    "The output of the script is printed to the console."
   ]
  },
  {
   "cell_type": "code",
   "execution_count": 9,
   "id": "48e33738",
   "metadata": {
    "execution": {
     "iopub.execute_input": "2024-06-14T08:52:02.156755Z",
     "iopub.status.busy": "2024-06-14T08:52:02.156755Z",
     "iopub.status.idle": "2024-06-14T08:52:02.171781Z",
     "shell.execute_reply": "2024-06-14T08:52:02.171781Z"
    }
   },
   "outputs": [
    {
     "name": "stderr",
     "output_type": "stream",
     "text": [
      "ERROR:root:Error when running the script: CommandFailedException: Template Thermal not found in Project.\n"
     ]
    },
    {
     "name": "stdout",
     "output_type": "stream",
     "text": [
      "None\n"
     ]
    }
   ],
   "source": [
    "wb.reset_log_file()\n",
    "wb.set_console_log_level('info')\n",
    "print(wb.run_script_file('wb.wbjn', log_level='info'))"
   ]
  },
  {
   "cell_type": "markdown",
   "id": "49b6581f",
   "metadata": {},
   "source": [
    "To change the logging configuration, we first disable the log file using `reset_log_file`. \n",
    "The console log level is then set to `info` using `set_console_log_level`. \n",
    "The script is run again with the same log level, and the output is printed."
   ]
  },
  {
   "cell_type": "code",
   "execution_count": 10,
   "id": "393d7548",
   "metadata": {
    "execution": {
     "iopub.execute_input": "2024-06-14T08:52:02.171781Z",
     "iopub.status.busy": "2024-06-14T08:52:02.171781Z",
     "iopub.status.idle": "2024-06-14T08:52:02.186199Z",
     "shell.execute_reply": "2024-06-14T08:52:02.186199Z"
    }
   },
   "outputs": [
    {
     "name": "stderr",
     "output_type": "stream",
     "text": [
      "ERROR:root:Error when running the script: CommandFailedException: Template Thermal not found in Project.\n"
     ]
    },
    {
     "name": "stdout",
     "output_type": "stream",
     "text": [
      "None\n"
     ]
    }
   ],
   "source": [
    "wb.set_console_log_level('error')\n",
    "print(wb.run_script_file('wb.wbjn', log_level='info'))"
   ]
  },
  {
   "cell_type": "markdown",
   "id": "0889fa71",
   "metadata": {},
   "source": [
    "In this step, the console log level is set to `error`, making the logging more restrictive. \n",
    "The script is executed again, and only error-level logs are shown."
   ]
  },
  {
   "cell_type": "code",
   "execution_count": 11,
   "id": "68fb169b",
   "metadata": {
    "execution": {
     "iopub.execute_input": "2024-06-14T08:52:02.186199Z",
     "iopub.status.busy": "2024-06-14T08:52:02.186199Z",
     "iopub.status.idle": "2024-06-14T08:52:08.760928Z",
     "shell.execute_reply": "2024-06-14T08:52:08.760928Z"
    }
   },
   "outputs": [],
   "source": [
    "wb.exit()"
   ]
  }
 ],
 "metadata": {
  "jupytext": {
   "cell_metadata_filter": "-all",
   "main_language": "python",
   "notebook_metadata_filter": "-all",
   "text_representation": {
    "extension": ".py",
    "format_name": "light"
   }
  },
  "language_info": {
   "codemirror_mode": {
    "name": "ipython",
    "version": 3
   },
   "file_extension": ".py",
   "mimetype": "text/x-python",
   "name": "python",
   "nbconvert_exporter": "python",
   "pygments_lexer": "ipython3",
   "version": "3.11.9"
  }
 },
 "nbformat": 4,
 "nbformat_minor": 5
}
