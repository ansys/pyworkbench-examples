{
 "cells": [
  {
   "cell_type": "markdown",
   "id": "b3f43bce",
   "metadata": {},
   "source": [
    "# Cooled turbine blade"
   ]
  },
  {
   "cell_type": "markdown",
   "id": "6e98f41c",
   "metadata": {},
   "source": [
    "This notebook demonstrates the process of using the Workbench client to upload project files, run scripts, start services, and handle output files. \n",
    "It also includes launching PyMechanical to solve models and visualize results."
   ]
  },
  {
   "cell_type": "markdown",
   "id": "2b1b1a3f",
   "metadata": {},
   "source": [
    "First, import the necessary modules. We import `pathlib` for handling filesystem paths and `os` for interacting with the operating system.\n",
    "The `launch_workbench` function from `ansys.workbench.core` is imported to start a Workbench session, and `launch_mechanical` from `ansys.mechanical.core` to start a Mechanical session."
   ]
  },
  {
   "cell_type": "code",
   "execution_count": 1,
   "id": "9bf24feb",
   "metadata": {
    "execution": {
     "iopub.execute_input": "2024-06-14T08:32:12.515014Z",
     "iopub.status.busy": "2024-06-14T08:32:12.515014Z",
     "iopub.status.idle": "2024-06-14T08:32:12.530376Z",
     "shell.execute_reply": "2024-06-14T08:32:12.530376Z"
    }
   },
   "outputs": [],
   "source": [
    "import os\n",
    "import pathlib"
   ]
  },
  {
   "cell_type": "code",
   "execution_count": 2,
   "id": "0f5f500e",
   "metadata": {
    "execution": {
     "iopub.execute_input": "2024-06-14T08:32:12.530376Z",
     "iopub.status.busy": "2024-06-14T08:32:12.530376Z",
     "iopub.status.idle": "2024-06-14T08:32:13.853214Z",
     "shell.execute_reply": "2024-06-14T08:32:13.853214Z"
    }
   },
   "outputs": [],
   "source": [
    "from ansys.workbench.core import launch_workbench\n",
    "from ansys.mechanical.core import launch_mechanical"
   ]
  },
  {
   "cell_type": "markdown",
   "id": "5b17a7db",
   "metadata": {},
   "source": [
    "Launch the Workbench service on the local machine, using some options. \n",
    "Define several directories that will be used during the session. \n",
    "`workdir` is set to the parent directory of the current file. \n",
    "`assets`, `scripts`, and `wbpz` are subdirectories within the working directory. \n",
    "The `launch_workbench` function is called to start a Workbench session with specified directories."
   ]
  },
  {
   "cell_type": "code",
   "execution_count": 3,
   "id": "74015307",
   "metadata": {
    "execution": {
     "iopub.execute_input": "2024-06-14T08:32:13.853214Z",
     "iopub.status.busy": "2024-06-14T08:32:13.853214Z",
     "iopub.status.idle": "2024-06-14T08:32:13.862718Z",
     "shell.execute_reply": "2024-06-14T08:32:13.862718Z"
    }
   },
   "outputs": [],
   "source": [
    "workdir = pathlib.Path(\"__file__\").parent\n",
    "assets = workdir / \"assets\"\n",
    "scripts = workdir / \"scripts\"\n",
    "wbpz = workdir / \"wbpz\""
   ]
  },
  {
   "cell_type": "code",
   "execution_count": 4,
   "id": "2154e2a2",
   "metadata": {
    "execution": {
     "iopub.execute_input": "2024-06-14T08:32:13.862718Z",
     "iopub.status.busy": "2024-06-14T08:32:13.862718Z",
     "iopub.status.idle": "2024-06-14T08:34:31.104040Z",
     "shell.execute_reply": "2024-06-14T08:34:31.104040Z"
    }
   },
   "outputs": [],
   "source": [
    "wb = launch_workbench(release=\"241\", server_workdir=str(workdir.absolute()), client_workdir=str(workdir.absolute()))"
   ]
  },
  {
   "cell_type": "markdown",
   "id": "c3fe42f6",
   "metadata": {},
   "source": [
    "Upload project files to the server using the `upload_file` method. \n",
    "The files uploaded are `cooled_turbine_blade.wbpz` and `cooled_turbine_blade.py`."
   ]
  },
  {
   "cell_type": "code",
   "execution_count": 5,
   "id": "2db97486",
   "metadata": {
    "execution": {
     "iopub.execute_input": "2024-06-14T08:34:31.104040Z",
     "iopub.status.busy": "2024-06-14T08:34:31.104040Z",
     "iopub.status.idle": "2024-06-14T08:34:31.292085Z",
     "shell.execute_reply": "2024-06-14T08:34:31.292085Z"
    }
   },
   "outputs": [
    {
     "name": "stderr",
     "output_type": "stream",
     "text": [
      "\r",
      "Uploading cooled_turbine_blade.wbpz:   0%|          | 0.00/1.18M [00:00<?, ?B/s]"
     ]
    },
    {
     "name": "stderr",
     "output_type": "stream",
     "text": [
      "\r",
      "Uploading cooled_turbine_blade.wbpz: 100%|██████████| 1.18M/1.18M [00:00<00:00, 79.1MB/s]"
     ]
    },
    {
     "name": "stderr",
     "output_type": "stream",
     "text": [
      "\n"
     ]
    },
    {
     "name": "stderr",
     "output_type": "stream",
     "text": [
      "\r",
      "Uploading cooled_turbine_blade.py:   0%|          | 0.00/13.9k [00:00<?, ?B/s]"
     ]
    },
    {
     "name": "stderr",
     "output_type": "stream",
     "text": [
      "\r",
      "Uploading cooled_turbine_blade.py: 100%|██████████| 13.9k/13.9k [00:00<?, ?B/s]"
     ]
    },
    {
     "name": "stderr",
     "output_type": "stream",
     "text": [
      "\n"
     ]
    }
   ],
   "source": [
    "wb.upload_file(str(wbpz / \"cooled_turbine_blade.wbpz\"))\n",
    "wb.upload_file(str(scripts / \"cooled_turbine_blade.py\"))"
   ]
  },
  {
   "cell_type": "markdown",
   "id": "df6fab96",
   "metadata": {},
   "source": [
    "Execute a Workbench script (`project.wbjn`) to define the project and load the geometry using the `run_script_file` method. \n",
    "The `set_log_file` method is used to direct the logs to `wb_log_file.log`. \n",
    "The name of the system created is stored in `sys_name` and printed."
   ]
  },
  {
   "cell_type": "code",
   "execution_count": 6,
   "id": "1b9cfccf",
   "metadata": {
    "execution": {
     "iopub.execute_input": "2024-06-14T08:34:31.292085Z",
     "iopub.status.busy": "2024-06-14T08:34:31.292085Z",
     "iopub.status.idle": "2024-06-14T08:35:03.597826Z",
     "shell.execute_reply": "2024-06-14T08:35:03.597826Z"
    }
   },
   "outputs": [
    {
     "name": "stdout",
     "output_type": "stream",
     "text": [
      "SYS\n"
     ]
    }
   ],
   "source": [
    "export_path = 'wb_log_file.log'\n",
    "wb.set_log_file(export_path)\n",
    "sys_name = wb.run_script_file(str((assets / \"project.wbjn\").absolute()), log_level='info')\n",
    "print(sys_name)"
   ]
  },
  {
   "cell_type": "markdown",
   "id": "bee82759",
   "metadata": {},
   "source": [
    "Start a PyMechanical server for the system using the `start_mechanical_server` method. \n",
    "Create a PyMechanical client session connected to this server using `launch_mechanical`. \n",
    "The project directory is printed to verify the connection."
   ]
  },
  {
   "cell_type": "code",
   "execution_count": 7,
   "id": "65de8d76",
   "metadata": {
    "execution": {
     "iopub.execute_input": "2024-06-14T08:35:03.597826Z",
     "iopub.status.busy": "2024-06-14T08:35:03.597826Z",
     "iopub.status.idle": "2024-06-14T08:35:30.784594Z",
     "shell.execute_reply": "2024-06-14T08:35:30.783560Z"
    }
   },
   "outputs": [],
   "source": [
    "server_port = wb.start_mechanical_server(system_name=sys_name)\n",
    "mechanical = launch_mechanical(start_instance=False, ip='localhost', port=server_port)"
   ]
  },
  {
   "cell_type": "code",
   "execution_count": 8,
   "id": "9d9c1e7a",
   "metadata": {
    "execution": {
     "iopub.execute_input": "2024-06-14T08:35:30.790579Z",
     "iopub.status.busy": "2024-06-14T08:35:30.789585Z",
     "iopub.status.idle": "2024-06-14T08:35:30.798719Z",
     "shell.execute_reply": "2024-06-14T08:35:30.797705Z"
    }
   },
   "outputs": [
    {
     "name": "stdout",
     "output_type": "stream",
     "text": [
      "C:\\Users\\ansys\\actions-runner\\_work\\pyworkbench-examples\\pyworkbench-examples\\pyworkbench-examples\\doc\\source\\examples\\cooled-turbine-bladewbpj\\example_02_Cooled_Turbine_Blade_files\\\n"
     ]
    }
   ],
   "source": [
    "print(mechanical.project_directory)"
   ]
  },
  {
   "cell_type": "markdown",
   "id": "55d48d60",
   "metadata": {},
   "source": [
    "Read and execute the script `cooled_turbine_blade.py` via the PyMechanical client using `run_python_script`. \n",
    "This script typically contains commands to mesh and solve the turbine blade model. \n",
    "The output of the script is printed."
   ]
  },
  {
   "cell_type": "code",
   "execution_count": 9,
   "id": "e0c52c7b",
   "metadata": {
    "execution": {
     "iopub.execute_input": "2024-06-14T08:35:30.802721Z",
     "iopub.status.busy": "2024-06-14T08:35:30.802721Z",
     "iopub.status.idle": "2024-06-14T08:36:04.902329Z",
     "shell.execute_reply": "2024-06-14T08:36:04.901308Z"
    }
   },
   "outputs": [
    {
     "name": "stdout",
     "output_type": "stream",
     "text": [
      "{\"Stress\": \"2802182020.5917487 [Pa]\"}\n"
     ]
    }
   ],
   "source": [
    "with open(scripts / \"cooled_turbine_blade.py\") as sf:\n",
    "    mech_script = sf.read()\n",
    "mech_output = mechanical.run_python_script(mech_script)\n",
    "print(mech_output)"
   ]
  },
  {
   "cell_type": "markdown",
   "id": "d92196a7",
   "metadata": {},
   "source": [
    "Specify the Mechanical directory and run a script to fetch the working directory path. \n",
    "The path where all solver files are stored on the server is printed. \n",
    "Download the solver output file (`solve.out`) from the server to the client's current working directory and print its contents."
   ]
  },
  {
   "cell_type": "code",
   "execution_count": 10,
   "id": "cc31f317",
   "metadata": {
    "execution": {
     "iopub.execute_input": "2024-06-14T08:36:04.907332Z",
     "iopub.status.busy": "2024-06-14T08:36:04.907332Z",
     "iopub.status.idle": "2024-06-14T08:36:04.923674Z",
     "shell.execute_reply": "2024-06-14T08:36:04.923674Z"
    }
   },
   "outputs": [
    {
     "data": {
      "text/plain": [
       "''"
      ]
     },
     "execution_count": 10,
     "metadata": {},
     "output_type": "execute_result"
    }
   ],
   "source": [
    "mechanical.run_python_script(f\"solve_dir=ExtAPI.DataModel.AnalysisList[1].WorkingDir\")"
   ]
  },
  {
   "cell_type": "code",
   "execution_count": 11,
   "id": "ccaf9c0a",
   "metadata": {
    "execution": {
     "iopub.execute_input": "2024-06-14T08:36:04.927697Z",
     "iopub.status.busy": "2024-06-14T08:36:04.926688Z",
     "iopub.status.idle": "2024-06-14T08:36:04.934046Z",
     "shell.execute_reply": "2024-06-14T08:36:04.933029Z"
    }
   },
   "outputs": [
    {
     "name": "stdout",
     "output_type": "stream",
     "text": [
      "All solver files are stored on the server at: C:\\Users\\ansys\\actions-runner\\_work\\pyworkbench-examples\\pyworkbench-examples\\pyworkbench-examples\\doc\\source\\examples\\cooled-turbine-bladewbpj\\example_02_Cooled_Turbine_Blade_files\\dp0\\SYS-8\\MECH\\\n"
     ]
    }
   ],
   "source": [
    "result_solve_dir_server = mechanical.run_python_script(f\"solve_dir\")\n",
    "print(f\"All solver files are stored on the server at: {result_solve_dir_server}\")"
   ]
  },
  {
   "cell_type": "code",
   "execution_count": 12,
   "id": "9ddb9f0f",
   "metadata": {
    "execution": {
     "iopub.execute_input": "2024-06-14T08:36:04.937054Z",
     "iopub.status.busy": "2024-06-14T08:36:04.937054Z",
     "iopub.status.idle": "2024-06-14T08:36:04.940671Z",
     "shell.execute_reply": "2024-06-14T08:36:04.940671Z"
    },
    "lines_to_next_cell": 1
   },
   "outputs": [],
   "source": [
    "solve_out_path = os.path.join(result_solve_dir_server, \"solve.out\")"
   ]
  },
  {
   "cell_type": "code",
   "execution_count": 13,
   "id": "eda07ecf",
   "metadata": {
    "execution": {
     "iopub.execute_input": "2024-06-14T08:36:04.944688Z",
     "iopub.status.busy": "2024-06-14T08:36:04.943682Z",
     "iopub.status.idle": "2024-06-14T08:36:04.948450Z",
     "shell.execute_reply": "2024-06-14T08:36:04.948450Z"
    },
    "lines_to_next_cell": 1
   },
   "outputs": [],
   "source": [
    "def write_file_contents_to_console(path):\n",
    "    \"\"\"Write file contents to console.\"\"\"\n",
    "    with open(path, \"rt\") as file:\n",
    "        for line in file:\n",
    "            print(line, end=\"\")"
   ]
  },
  {
   "cell_type": "code",
   "execution_count": 14,
   "id": "9d9120df",
   "metadata": {
    "execution": {
     "iopub.execute_input": "2024-06-14T08:36:04.952469Z",
     "iopub.status.busy": "2024-06-14T08:36:04.951459Z",
     "iopub.status.idle": "2024-06-14T08:36:05.073873Z",
     "shell.execute_reply": "2024-06-14T08:36:05.073873Z"
    }
   },
   "outputs": [
    {
     "name": "stderr",
     "output_type": "stream",
     "text": [
      "\r",
      "Downloading dns:///127.0.0.1:62222:C:\\Users\\ansys\\actions-runner\\_work\\pyworkbench-examples\\pyworkbench-examples\\pyworkbench-examples\\doc\\source\\examples\\cooled-turbine-bladewbpj\\example_02_Cooled_Turbine_Blade_files\\dp0\\SYS-8\\MECH\\solve.out to C:\\Users\\ansys\\actions-runner\\_work\\pyworkbench-examples\\pyworkbench-examples\\pyworkbench-examples\\doc\\source\\examples\\cooled-turbine-blade\\solve.out:   0%|          | 0.00/30.8k [00:00<?, ?B/s]"
     ]
    },
    {
     "name": "stderr",
     "output_type": "stream",
     "text": [
      "\r",
      "Downloading dns:///127.0.0.1:62222:C:\\Users\\ansys\\actions-runner\\_work\\pyworkbench-examples\\pyworkbench-examples\\pyworkbench-examples\\doc\\source\\examples\\cooled-turbine-bladewbpj\\example_02_Cooled_Turbine_Blade_files\\dp0\\SYS-8\\MECH\\solve.out to C:\\Users\\ansys\\actions-runner\\_work\\pyworkbench-examples\\pyworkbench-examples\\pyworkbench-examples\\doc\\source\\examples\\cooled-turbine-blade\\solve.out: 100%|██████████| 30.8k/30.8k [00:00<?, ?B/s]"
     ]
    },
    {
     "name": "stdout",
     "output_type": "stream",
     "text": [
      "\n",
      " Ansys Mechanical Enterprise                       \n",
      "\n",
      "\n",
      " *------------------------------------------------------------------*\n",
      " |                                                                  |\n",
      " |   W E L C O M E   T O   T H E   A N S Y S (R)  P R O G R A M     |\n",
      " |                                                                  |\n",
      " *------------------------------------------------------------------*\n",
      "\n",
      "\n",
      "\n",
      "\n",
      " ***************************************************************\n",
      " *         ANSYS MAPDL 2024 R1          LEGAL NOTICES          *\n",
      " ***************************************************************\n",
      " *                                                             *\n",
      " * Copyright 1971-2024 Ansys, Inc.  All rights reserved.       *\n",
      " * Unauthorized use, distribution or duplication is            *\n",
      " * prohibited.                                                 *\n",
      " *                                                             *\n",
      " * Ansys is a registered trademark of Ansys, Inc. or its       *\n",
      " * subsidiaries in the United States or other countries.       *\n",
      " * See the Ansys, Inc. online documentation or the Ansys, Inc. *\n",
      " * documentation CD or online help for the complete Legal      *\n",
      " * Notice.                                                     *\n",
      " *                                                             *\n",
      " ***************************************************************\n",
      " *                                                             *\n",
      " * THIS ANSYS SOFTWARE PRODUCT AND PROGRAM DOCUMENTATION       *\n",
      " * INCLUDE TRADE SECRETS AND CONFIDENTIAL AND PROPRIETARY      *\n",
      " * PRODUCTS OF ANSYS, INC., ITS SUBSIDIARIES, OR LICENSORS.    *\n",
      " * The software products and documentation are furnished by    *\n",
      " * Ansys, Inc. or its subsidiaries under a software license    *\n",
      " * agreement that contains provisions concerning               *\n",
      " * non-disclosure, copying, length and nature of use,          *\n",
      " * compliance with exporting laws, warranties, disclaimers,    *\n",
      " * limitations of liability, and remedies, and other           *\n",
      " * provisions.  The software products and documentation may be *\n",
      " * used, disclosed, transferred, or copied only in accordance  *\n",
      " * with the terms and conditions of that software license      *\n",
      " * agreement.                                                  *\n",
      " *                                                             *\n",
      " * Ansys, Inc. is a UL registered                              *\n",
      " * ISO 9001:2015 company.                                      *\n",
      " *                                                             *\n",
      " ***************************************************************\n",
      " *                                                             *\n",
      " * This product is subject to U.S. laws governing export and   *\n",
      " * re-export.                                                  *\n",
      " *                                                             *\n",
      " * For U.S. Government users, except as specifically granted   *\n",
      " * by the Ansys, Inc. software license agreement, the use,     *\n",
      " * duplication, or disclosure by the United States Government  *\n",
      " * is subject to restrictions stated in the Ansys, Inc.        *\n",
      " * software license agreement and FAR 12.212 (for non-DOD      *\n",
      " * licenses).                                                  *\n",
      " *                                                             *\n",
      " ***************************************************************\n",
      "\n",
      " 2024 R1 \n",
      "     \n",
      " Point Releases and Patches installed:   \n",
      "     \n",
      " Ansys Service Pack 2024 R1.01   \n",
      " Ansys Service Pack 2024 R1.02   \n",
      " Ansys Service Pack 2024 R1.03   \n",
      " Ansys, Inc. License Manager 2024 R1 \n",
      " Ansys, Inc. License Manager 2024 R1.01  \n",
      " Ansys, Inc. License Manager 2024 R1.02  \n",
      " Ansys, Inc. License Manager 2024 R1.03  \n",
      " Discovery 2024 R1   \n",
      " Discovery 2024 R1.01\n",
      " Discovery 2024 R1.02\n",
      " Discovery 2024 R1.03\n",
      " SpaceClaim 2024 R1  \n",
      " SpaceClaim 2024 R1.01   \n",
      " SpaceClaim 2024 R1.02   \n",
      " SpaceClaim 2024 R1.03   \n",
      " Icepak (includes CFD-Post) 2024 R1  \n",
      " Icepak (includes CFD-Post) 2024 R1.01   \n",
      " Icepak (includes CFD-Post) 2024 R1.02   \n",
      " Icepak (includes CFD-Post) 2024 R1.03   \n",
      " Fluids 2024 R1  \n",
      " Fluids 2024 R1.01   \n",
      " Fluids 2024 R1.02   \n",
      " Fluids 2024 R1.03   \n",
      " CFD-Post only 2024 R1   \n",
      " CFD-Post only 2024 R1.01\n",
      " CFD-Post only 2024 R1.02\n",
      " CFD-Post only 2024 R1.03\n",
      " CFX (includes CFD-Post) 2024 R1 \n",
      " CFX (includes CFD-Post) 2024 R1.01  \n",
      " CFX (includes CFD-Post) 2024 R1.02  \n",
      " CFX (includes CFD-Post) 2024 R1.03  \n",
      " Chemkin 2024 R1 \n",
      " Chemkin 2024 R1.01  \n",
      " Chemkin 2024 R1.02  \n",
      " Chemkin 2024 R1.03  \n",
      " EnSight 2024 R1 \n",
      " EnSight 2024 R1.01  \n",
      " EnSight 2024 R1.02  \n",
      " EnSight 2024 R1.03  \n",
      " FENSAP-ICE 2024 R1  \n",
      " FENSAP-ICE 2024 R1.01   \n",
      " FENSAP-ICE 2024 R1.02   \n",
      " FENSAP-ICE 2024 R1.03   \n",
      " Fluent (includes CFD-Post) 2024 R1  \n",
      " Fluent (includes CFD-Post) 2024 R1.01   \n",
      " Fluent (includes CFD-Post) 2024 R1.02   \n",
      " Fluent (includes CFD-Post) 2024 R1.03   \n",
      " Polyflow (includes CFD-Post) 2024 R1\n",
      " Polyflow (includes CFD-Post) 2024 R1.01 \n",
      " Polyflow (includes CFD-Post) 2024 R1.02 \n",
      " Polyflow (includes CFD-Post) 2024 R1.03 \n",
      " Forte (includes EnSight) 2024 R1\n",
      " Forte (includes EnSight) 2024 R1.01 \n",
      " Forte (includes EnSight) 2024 R1.02 \n",
      " Forte (includes EnSight) 2024 R1.03 \n",
      " ICEM CFD 2024 R1\n",
      " ICEM CFD 2024 R1.01 \n",
      " ICEM CFD 2024 R1.02 \n",
      " ICEM CFD 2024 R1.03 \n",
      " TurboGrid 2024 R1   \n",
      " TurboGrid 2024 R1.01\n",
      " TurboGrid 2024 R1.02\n",
      " TurboGrid 2024 R1.03\n",
      " Speos 2024 R1   \n",
      " Speos 2024 R1.01\n",
      " Speos 2024 R1.02\n",
      " Speos 2024 R1.03\n",
      " Speos HPC 2024 R1   \n",
      " Speos HPC 2024 R1.01\n",
      " Speos HPC 2024 R1.02\n",
      " Speos HPC 2024 R1.03\n",
      " optiSLang 2024 R1   \n",
      " optiSLang 2024 R1.01\n",
      " optiSLang 2024 R1.02\n",
      " optiSLang 2024 R1.03\n",
      " Additive 2024 R1\n",
      " Additive 2024 R1.01 \n",
      " Additive 2024 R1.02 \n",
      " Additive 2024 R1.03 \n",
      " Aqwa 2024 R1\n",
      " Aqwa 2024 R1.01 \n",
      " Aqwa 2024 R1.02 \n",
      " Aqwa 2024 R1.03 \n",
      " Autodyn 2024 R1 \n",
      " Autodyn 2024 R1.01  \n",
      " Autodyn 2024 R1.02  \n",
      " Autodyn 2024 R1.03  \n",
      " Customization Files for User Programmable Features 2024 R1  \n",
      " Customization Files for User Programmable Features 2024 R1.01   \n",
      " Customization Files for User Programmable Features 2024 R1.02   \n",
      " Customization Files for User Programmable Features 2024 R1.03   \n",
      " LS-DYNA 2024 R1 \n",
      " LS-DYNA 2024 R1.01  \n",
      " LS-DYNA 2024 R1.02  \n",
      " LS-DYNA 2024 R1.03  \n",
      " Mechanical Products 2024 R1 \n",
      " Mechanical Products 2024 R1.01  \n",
      " Mechanical Products 2024 R1.02  \n",
      " Mechanical Products 2024 R1.03  \n",
      " Motion 2024 R1  \n",
      " Motion 2024 R1.01   \n",
      " Motion 2024 R1.02   \n",
      " Motion 2024 R1.03   \n",
      " Sherlock 2024 R1\n",
      " Sherlock 2024 R1.01 \n",
      " Sherlock 2024 R1.02 \n",
      " Sherlock 2024 R1.03 \n",
      " Sound - SAS 2024 R1 \n",
      " Sound - SAS 2024 R1.01  \n",
      " Sound - SAS 2024 R1.02  \n",
      " Sound - SAS 2024 R1.03  \n",
      "\n",
      "\n",
      "          *****  MAPDL COMMAND LINE ARGUMENTS  *****\n",
      "  BATCH MODE REQUESTED (-b)    = NOLIST\n",
      "  INPUT FILE COPY MODE (-c)    = COPY\n",
      "  DISTRIBUTED MEMORY PARALLEL REQUESTED\n",
      "       4 PARALLEL PROCESSES REQUESTED WITH SINGLE THREAD PER PROCESS\n",
      "    TOTAL OF     4 CORES REQUESTED\n",
      "  INPUT FILE NAME              = C:\\Users\\ansys\\actions-runner\\_work\\pyworkbench-examples\\pyworkbench-examples\\pyworkbench-examples\\doc\\source\\examples\\cooled-turbine-bladewbpj\\_ProjectScratch\\Scr9C9B\\dummy.dat\n",
      "  OUTPUT FILE NAME             = C:\\Users\\ansys\\actions-runner\\_work\\pyworkbench-examples\\pyworkbench-examples\\pyworkbench-examples\\doc\\source\\examples\\cooled-turbine-bladewbpj\\_ProjectScratch\\Scr9C9B\\solve.out\n",
      "  START-UP FILE MODE           = NOREAD\n",
      "  STOP FILE MODE               = NOREAD\n",
      "\n",
      " RELEASE= 2024 R1              BUILD= 24.1      UP20231106   VERSION=WINDOWS x64 \n",
      " CURRENT JOBNAME=file0  08:35:56  JUN 14, 2024 CP=      0.078\n",
      "\n",
      "\n",
      " PARAMETER _DS_PROGRESS =     999.0000000    \n",
      "\n",
      " /INPUT FILE= ds.dat  LINE=       0\n",
      "\n",
      "\n",
      "\n",
      " *** NOTE ***                            CP =       0.250   TIME= 08:35:57\n",
      " The /CONFIG,NOELDB command is not valid in a distributed memory         \n",
      " parallel solution.  Command is ignored.                                 \n",
      "\n",
      " *GET  _WALLSTRT  FROM  ACTI  ITEM=TIME WALL  VALUE=  8.59916667    \n",
      "\n",
      " TITLE= \n",
      " example_02_Cooled_Turbine_Blade--Static Structural (C5)                       \n",
      "\n",
      "  ACT Extensions:\n",
      "      LSDYNA, 2024.1\n",
      "      5f463412-bd3e-484b-87e7-cbc0a665e474, wbex\n",
      " /COM,     ANSYSMotion, 2024.1\n",
      "      20180725-3f81-49eb-9f31-41364844c769, wbex\n",
      "  \n",
      "\n",
      " SET PARAMETER DIMENSIONS ON  _WB_PROJECTSCRATCH_DIR\n",
      "  TYPE=STRI  DIMENSIONS=      248        1        1\n",
      "\n",
      " PARAMETER _WB_PROJECTSCRATCH_DIR(1) = C:\\Users\\ansys\\actions-runner\\_work\\pyworkbench-examples\\pyworkbench-examples\\pyworkbench-examples\\doc\\source\\examples\\cooled-turbine-bladewbpj\\_ProjectScratch\\Scr9C9B\\\n",
      "\n",
      " SET PARAMETER DIMENSIONS ON  _WB_SOLVERFILES_DIR\n",
      "  TYPE=STRI  DIMENSIONS=      248        1        1\n",
      "\n",
      " PARAMETER _WB_SOLVERFILES_DIR(1) = C:\\Users\\ansys\\actions-runner\\_work\\pyworkbench-examples\\pyworkbench-examples\\pyworkbench-examples\\doc\\source\\examples\\cooled-turbine-bladewbpj\\example_02_Cooled_Turbine_Blade_files\\dp0\\SYS-8\\MECH\\\n",
      "\n",
      " SET PARAMETER DIMENSIONS ON  _WB_USERFILES_DIR\n",
      "  TYPE=STRI  DIMENSIONS=      248        1        1\n",
      "\n",
      " PARAMETER _WB_USERFILES_DIR(1) = C:\\Users\\ansys\\actions-runner\\_work\\pyworkbench-examples\\pyworkbench-examples\\pyworkbench-examples\\doc\\source\\examples\\cooled-turbine-bladewbpj\\example_02_Cooled_Turbine_Blade_files\\user_files\\\n",
      " --- Data in consistent MKS units. See Solving Units in the help system for more\n",
      "\n",
      " MKS UNITS SPECIFIED FOR INTERNAL    \n",
      "  LENGTH        (l)  = METER (M)\n",
      "  MASS          (M)  = KILOGRAM (KG)\n",
      "  TIME          (t)  = SECOND (SEC)\n",
      "  TEMPERATURE   (T)  = CELSIUS (C)\n",
      "  TOFFSET            = 273.0\n",
      "  CHARGE        (Q)  = COULOMB\n",
      "  FORCE         (f)  = NEWTON (N) (KG-M/SEC2)\n",
      "  HEAT               = JOULE (N-M)\n",
      "\n",
      "  PRESSURE           = PASCAL (NEWTON/M**2)\n",
      "  ENERGY        (W)  = JOULE (N-M)\n",
      "  POWER         (P)  = WATT (N-M/SEC)\n",
      "  CURRENT       (i)  = AMPERE (COULOMBS/SEC)\n",
      "  CAPACITANCE   (C)  = FARAD\n",
      "  INDUCTANCE    (L)  = HENRY\n",
      "  MAGNETIC FLUX      = WEBER\n",
      "  RESISTANCE    (R)  = OHM\n",
      "  ELECTRIC POTENTIAL = VOLT\n",
      "\n",
      " INPUT  UNITS ARE ALSO SET TO MKS \n",
      "\n",
      " *** MAPDL - ENGINEERING ANALYSIS SYSTEM  RELEASE 2024 R1          24.1     ***\n",
      " Ansys Mechanical Enterprise                       \n",
      " 00000000  VERSION=WINDOWS x64   08:35:57  JUN 14, 2024 CP=      0.281\n",
      "\n",
      " example_02_Cooled_Turbine_Blade--Static Structural (C5)                       \n",
      "\n",
      "\n",
      "\n",
      "          ***** MAPDL ANALYSIS DEFINITION (PREP7) *****\n",
      " *********** Nodes for the whole assembly ***********\n",
      " *********** Elements for Body 1 \"SYS-3\\Solid\" ***********\n",
      " *********** Send User Defined Coordinate System(s) ***********\n",
      " *********** Set Reference Temperature ***********\n",
      " *********** Send Materials ***********\n",
      " *********** Send Named Selection as Node Component ***********\n",
      " *********** Send Named Selection as Node Component ***********\n",
      " *********** Send Named Selection as Node Component ***********\n",
      " *********** Send Named Selection as Node Component ***********\n",
      " *********** Send Named Selection as Node Component ***********\n",
      " *********** Send Named Selection as Node Component ***********\n",
      " *********** Send Named Selection as Node Component ***********\n",
      " *********** Send Named Selection as Node Component ***********\n",
      " *********** Send Named Selection as Node Component ***********\n",
      " *********** Send Named Selection as Node Component ***********\n",
      " *********** Send Named Selection as Node Component ***********\n",
      " *********** Send Named Selection as Node Component ***********\n",
      " *********** Send Named Selection as Node Component ***********\n",
      " *********** Send Named Selection as Node Component ***********\n",
      " *********** Send Named Selection as Node Component ***********\n",
      " *********** Send Named Selection as Node Component ***********\n",
      " *********** Send Named Selection as Node Component ***********\n",
      " *********** Send Named Selection as Node Component ***********\n",
      " *********** Send Named Selection as Node Component ***********\n",
      " *********** Send Named Selection as Node Component ***********\n",
      " *********** Send Named Selection as Node Component ***********\n",
      " *********** Send Named Selection as Node Component ***********\n",
      " *********** Send Named Selection as Node Component ***********\n",
      " *********** Send Named Selection as Node Component ***********\n",
      " *********** Send Named Selection as Node Component ***********\n",
      " *********** Send Named Selection as Node Component ***********\n",
      " *********** Send Named Selection as Node Component ***********\n",
      " *********** Send Named Selection as Node Component ***********\n",
      " *********** Send Named Selection as Node Component ***********\n",
      " *********** Send Named Selection as Node Component ***********\n",
      " *********** Send Named Selection as Node Component ***********\n",
      " *********** Send Named Selection as Node Component ***********\n",
      " *********** Send Named Selection as Node Component ***********\n",
      " *********** Send Named Selection as Element Component ***********\n",
      " *********** Send Named Selection as Element Component ***********\n",
      " *********** Fixed Supports ***********\n",
      "\n",
      "\n",
      " ***** ROUTINE COMPLETED *****  CP =         1.281\n",
      "\n",
      "\n",
      " --- Number of total nodes = 37315\n",
      " --- Number of contact elements = 0\n",
      " --- Number of spring elements = 0\n",
      " --- Number of bearing elements = 0\n",
      " --- Number of solid elements = 29976\n",
      " --- Number of condensed parts = 0\n",
      " --- Number of total elements = 29736\n",
      "\n",
      " *GET  _WALLBSOL  FROM  ACTI  ITEM=TIME WALL  VALUE=  8.59916667    \n",
      " ****************************************************************************\n",
      " *************************    SOLUTION       ********************************\n",
      " ****************************************************************************\n",
      "\n",
      " *****  MAPDL SOLUTION ROUTINE  *****\n",
      "\n",
      "\n",
      " PERFORM A STATIC ANALYSIS\n",
      "  THIS WILL BE A NEW ANALYSIS\n",
      "\n",
      " PARAMETER _THICKRATIO =    0.9090000000E-01\n",
      "\n",
      " USE SPARSE MATRIX DIRECT SOLVER\n",
      "\n",
      " CONTACT INFORMATION PRINTOUT LEVEL       1\n",
      "\n",
      " CHECK INITIAL OPEN/CLOSED STATUS OF SELECTED CONTACT ELEMENTS\n",
      "      AND LIST DETAILED CONTACT PAIR INFORMATION\n",
      "\n",
      " SPLIT CONTACT SURFACES AT SOLVE PHASE\n",
      "\n",
      "    NUMBER OF SPLITTING TBD BY PROGRAM\n",
      "\n",
      " DO NOT COMBINE ELEMENT MATRIX FILES (.emat) AFTER DISTRIBUTED PARALLEL SOLUTION\n",
      "\n",
      " DO NOT COMBINE ELEMENT SAVE DATA FILES (.esav) AFTER DISTRIBUTED PARALLEL SOLUTION\n",
      "\n",
      " NLDIAG: Nonlinear diagnostics CONT option is set to ON. \n",
      "         Writing frequency : each ITERATION.\n",
      "\n",
      " DO NOT SAVE ANY RESTART FILES AT ALL\n",
      " ****************************************************\n",
      " ******************* SOLVE FOR LS 1 OF 1 ****************\n",
      " *********** Create Imported Load \"Imported Body Temperature\" ***********\n",
      "\n",
      " PRINTOUT RESUMED BY /GOP\n",
      "\n",
      " PRINTOUT RESUMED BY /GOP\n",
      "\n",
      " USE       1 SUBSTEPS INITIALLY THIS LOAD STEP FOR ALL  DEGREES OF FREEDOM\n",
      " FOR AUTOMATIC TIME STEPPING:\n",
      "   USE      1 SUBSTEPS AS A MAXIMUM\n",
      "   USE      1 SUBSTEPS AS A MINIMUM\n",
      "\n",
      " TIME=  1.0000    \n",
      "\n",
      " ERASE THE CURRENT DATABASE OUTPUT CONTROL TABLE.\n",
      "\n",
      "\n",
      " WRITE ALL  ITEMS TO THE DATABASE WITH A FREQUENCY OF NONE\n",
      "   FOR ALL APPLICABLE ENTITIES\n",
      "\n",
      " WRITE NSOL ITEMS TO THE DATABASE WITH A FREQUENCY OF ALL \n",
      "   FOR ALL APPLICABLE ENTITIES\n",
      "\n",
      " WRITE RSOL ITEMS TO THE DATABASE WITH A FREQUENCY OF ALL \n",
      "   FOR ALL APPLICABLE ENTITIES\n",
      "\n",
      " WRITE EANG ITEMS TO THE DATABASE WITH A FREQUENCY OF ALL \n",
      "   FOR ALL APPLICABLE ENTITIES\n",
      "\n",
      " WRITE ETMP ITEMS TO THE DATABASE WITH A FREQUENCY OF ALL \n",
      "   FOR ALL APPLICABLE ENTITIES\n",
      "\n",
      " WRITE VENG ITEMS TO THE DATABASE WITH A FREQUENCY OF ALL \n",
      "   FOR ALL APPLICABLE ENTITIES\n",
      "\n",
      " WRITE STRS ITEMS TO THE DATABASE WITH A FREQUENCY OF ALL \n",
      "   FOR ALL APPLICABLE ENTITIES\n",
      "\n",
      " WRITE EPEL ITEMS TO THE DATABASE WITH A FREQUENCY OF ALL \n",
      "   FOR ALL APPLICABLE ENTITIES\n",
      "\n",
      " WRITE EPPL ITEMS TO THE DATABASE WITH A FREQUENCY OF ALL \n",
      "   FOR ALL APPLICABLE ENTITIES\n",
      "\n",
      " WRITE EPTH ITEMS TO THE DATABASE WITH A FREQUENCY OF ALL \n",
      "   FOR ALL APPLICABLE ENTITIES\n",
      "\n",
      " WRITE CONT ITEMS TO THE DATABASE WITH A FREQUENCY OF ALL \n",
      "   FOR ALL APPLICABLE ENTITIES\n",
      "\n",
      " *GET  ANSINTER_  FROM  ACTI  ITEM=INT        VALUE=  0.00000000    \n",
      "\n",
      " *IF  ANSINTER_                         ( =   0.00000     )  NE  \n",
      "      0                                 ( =   0.00000     )  THEN    \n",
      "\n",
      " *ENDIF\n",
      "\n",
      " *** NOTE ***                            CP =       1.766   TIME= 08:35:57\n",
      " The automatic domain decomposition logic has selected the MESH domain   \n",
      " decomposition method with 4 processes per solution.                     \n",
      "\n",
      " *****  MAPDL SOLVE    COMMAND  *****\n",
      "\n",
      " *** WARNING ***                         CP =       2.062   TIME= 08:35:57\n",
      " Element shape checking is currently inactive.  Issue SHPP,ON or         \n",
      " SHPP,WARN to reactivate, if desired.                                    \n",
      "\n",
      " *** WARNING ***                         CP =       2.188   TIME= 08:35:57\n",
      " SOLID185 wedges are recommended only in regions of relatively low       \n",
      " stress gradients.                                                       \n",
      "\n",
      " *** NOTE ***                            CP =       2.188   TIME= 08:35:57\n",
      " The model data was checked and warning messages were found.             \n",
      "  Please review output or errors file (                                  \n",
      " C:\\Users\\ansys\\actions-runner\\_work\\pyworkbench-examples\\pyworkbench-ex \n",
      " amples\\pyworkbench-examples\\doc\\source\\examples\\cooled-turbine-bladewbp \n",
      " pj\\_ProjectScratch\\Scr9C9B\\file0.err ) for these warning messages.      \n",
      "\n",
      " *** SELECTION OF ELEMENT TECHNOLOGIES FOR APPLICABLE ELEMENTS ***\n",
      "      --- GIVE SUGGESTIONS AND RESET THE KEY OPTIONS ---\n",
      "\n",
      " ELEMENT TYPE         1 IS SOLID185. IT IS ASSOCIATED WITH LINEAR MATERIALS ONLY\n",
      " AND POISSON'S RATIO IS NOT GREATER THAN 0.49. KEYOPT(2)=3 IS SUGGESTED AND\n",
      " HAS BEEN RESET.\n",
      "  KEYOPT(1-12)=    0    3    0    0    0    0    0    0    0    0    0    0\n",
      "\n",
      "\n",
      "\n",
      " *** MAPDL - ENGINEERING ANALYSIS SYSTEM  RELEASE 2024 R1          24.1     ***\n",
      " Ansys Mechanical Enterprise                       \n",
      " 00000000  VERSION=WINDOWS x64   08:35:57  JUN 14, 2024 CP=      2.250\n",
      "\n",
      " example_02_Cooled_Turbine_Blade--Static Structural (C5)                       \n",
      "\n",
      "\n",
      "\n",
      "                       S O L U T I O N   O P T I O N S\n",
      "\n",
      "   PROBLEM DIMENSIONALITY. . . . . . . . . . . . .3-D                  \n",
      "   DEGREES OF FREEDOM. . . . . . UX   UY   UZ  \n",
      "   ANALYSIS TYPE . . . . . . . . . . . . . . . . .STATIC (STEADY-STATE)\n",
      "   OFFSET TEMPERATURE FROM ABSOLUTE ZERO . . . . .  273.15    \n",
      "   EQUATION SOLVER OPTION. . . . . . . . . . . . .SPARSE             \n",
      "   GLOBALLY ASSEMBLED MATRIX . . . . . . . . . . .SYMMETRIC  \n",
      "\n",
      " *** NOTE ***                            CP =       2.375   TIME= 08:35:57\n",
      " The conditions for direct assembly have been met.  No .emat or .erot    \n",
      " files will be produced.                                                 \n",
      "\n",
      "  \n",
      "  \n",
      "     D I S T R I B U T E D   D O M A I N   D E C O M P O S E R\n",
      "  \n",
      "  ...Number of elements: 29736\n",
      "  ...Number of nodes:    37315\n",
      "  ...Decompose to 4 CPU domains\n",
      "  ...Element load balance ratio =     1.000\n",
      "\n",
      "\n",
      "                      L O A D   S T E P   O P T I O N S\n",
      "\n",
      "   LOAD STEP NUMBER. . . . . . . . . . . . . . . .     1\n",
      "   TIME AT END OF THE LOAD STEP. . . . . . . . . .  1.0000    \n",
      "   NUMBER OF SUBSTEPS. . . . . . . . . . . . . . .     1\n",
      "   STEP CHANGE BOUNDARY CONDITIONS . . . . . . . .    NO\n",
      "   PRINT OUTPUT CONTROLS . . . . . . . . . . . . .NO PRINTOUT\n",
      "   DATABASE OUTPUT CONTROLS\n",
      "      ITEM     FREQUENCY   COMPONENT\n",
      "       ALL       NONE               \n",
      "      NSOL        ALL               \n",
      "      RSOL        ALL               \n",
      "      EANG        ALL               \n",
      "      ETMP        ALL               \n",
      "      VENG        ALL               \n",
      "      STRS        ALL               \n",
      "      EPEL        ALL               \n",
      "      EPPL        ALL               \n",
      "      EPTH        ALL               \n",
      "      CONT        ALL               \n",
      "\n",
      "\n",
      " SOLUTION MONITORING INFO IS WRITTEN TO FILE= file.mntr                                                                                                                                                                                                                                                           \n",
      "\n",
      "\n",
      " Range of element maximum matrix coefficients in global coordinates\n",
      " Maximum = 3.950515708E+09 at element 28705.                             \n",
      " Minimum = 125678644 at element 5064.                                    \n",
      "\n",
      "   *** ELEMENT MATRIX FORMULATION TIMES\n",
      "     TYPE    NUMBER   ENAME      TOTAL CP  AVE CP\n",
      "\n",
      "        1     29736  SOLID185      3.797   0.000128\n",
      " Time at end of element matrix formulation CP = 4.671875.                \n",
      "\n",
      " DISTRIBUTED SPARSE MATRIX DIRECT SOLVER.\n",
      "  Number of equations =      101637,    Maximum wavefront =    132\n",
      "\n",
      "  Process memory allocated for solver              =   122.361 MB\n",
      "  Process memory required for in-core solution     =   117.315 MB\n",
      "  Process memory required for out-of-core solution =    47.728 MB\n",
      "\n",
      "  Total memory allocated for solver                =   511.345 MB\n",
      "  Total memory required for in-core solution       =   490.030 MB\n",
      "  Total memory required for out-of-core solution   =   194.206 MB\n",
      "\n",
      " *** NOTE ***                            CP =       5.062   TIME= 08:35:59\n",
      " The Distributed Sparse Matrix Solver is currently running in the        \n",
      " in-core memory mode.  This memory mode uses the most amount of memory   \n",
      " in order to avoid using the hard drive as much as possible, which most  \n",
      " often results in the fastest solution time.  This mode is recommended   \n",
      " if enough physical memory is present to accommodate all of the solver   \n",
      " data.                                                                   \n",
      " curEqn=  27348  totEqn=  27348 Job CP sec=      5.719\n",
      "      Factor Done= 100% Factor Wall sec=      0.483 rate=      10.3 GFlops\n",
      " Distributed sparse solver maximum pivot= 7.299354972E+09 at node 30840  \n",
      " UY.                                                                     \n",
      " Distributed sparse solver minimum pivot= 54855431.6 at node 36377 UZ.   \n",
      " Distributed sparse solver minimum pivot in absolute value= 54855431.6   \n",
      " at node 36377 UZ.                                                       \n",
      "\n",
      "   *** ELEMENT RESULT CALCULATION TIMES\n",
      "     TYPE    NUMBER   ENAME      TOTAL CP  AVE CP\n",
      "\n",
      "        1     29736  SOLID185      5.891   0.000198\n",
      "\n",
      "   *** NODAL LOAD CALCULATION TIMES\n",
      "     TYPE    NUMBER   ENAME      TOTAL CP  AVE CP\n",
      "\n",
      "        1     29736  SOLID185      0.516   0.000017\n",
      " *** LOAD STEP     1   SUBSTEP     1  COMPLETED.    CUM ITER =      1\n",
      " *** TIME =   1.00000         TIME INC =   1.00000      NEW TRIANG MATRIX\n",
      "\n",
      "\n",
      " *** MAPDL BINARY FILE STATISTICS\n",
      "  BUFFER SIZE USED= 16384\n",
      "       12.188 MB WRITTEN ON ASSEMBLED MATRIX FILE: file0.full\n",
      "        7.312 MB WRITTEN ON RESULTS FILE: file0.rst\n",
      " *************** Write FE CONNECTORS *********\n",
      "\n",
      " WRITE OUT CONSTRAINT EQUATIONS TO FILE= file.ce                                                                                                                                                                                                                                                             \n",
      " ****************************************************\n",
      " *************** FINISHED SOLVE FOR LS 1 *************\n",
      "\n",
      " *GET  _WALLASOL  FROM  ACTI  ITEM=TIME WALL  VALUE=  8.60055556    \n",
      "\n",
      " PRINTOUT RESUMED BY /GOP\n",
      "\n",
      " FINISH SOLUTION PROCESSING\n",
      "\n",
      "\n",
      " ***** ROUTINE COMPLETED *****  CP =         8.469\n",
      "\n",
      "\n",
      "\n",
      " *** MAPDL - ENGINEERING ANALYSIS SYSTEM  RELEASE 2024 R1          24.1     ***\n",
      " Ansys Mechanical Enterprise                       \n",
      " 00000000  VERSION=WINDOWS x64   08:36:02  JUN 14, 2024 CP=      8.469\n",
      "\n",
      " example_02_Cooled_Turbine_Blade--Static Structural (C5)                       \n",
      "\n",
      "\n",
      "\n",
      "          ***** MAPDL RESULTS INTERPRETATION (POST1) *****\n",
      "\n",
      " *** NOTE ***                            CP =       8.469   TIME= 08:36:02\n",
      " Reading results into the database (SET command) will update the current \n",
      " displacement and force boundary conditions in the database with the     \n",
      " values from the results file for that load set.  Note that any          \n",
      " subsequent solutions will use these values unless action is taken to    \n",
      " either SAVE the current values or not overwrite them (/EXIT,NOSAVE).    \n",
      "\n",
      " Set Encoding of XML File to:ISO-8859-1\n",
      "\n",
      " Set Output of XML File to:\n",
      "     PARM,     ,     ,     ,     ,     ,     ,     ,     ,     ,     ,     ,\n",
      "         ,     ,     ,     ,     ,     ,     ,\n",
      "\n",
      " DATABASE WRITTEN ON FILE  parm.xml                                                                                                                                                                                                                                                            \n",
      "\n",
      " EXIT THE MAPDL POST1 DATABASE PROCESSOR\n",
      "\n",
      "\n",
      " ***** ROUTINE COMPLETED *****  CP =         8.469\n",
      "\n",
      "\n",
      "\n",
      " PRINTOUT RESUMED BY /GOP\n",
      "\n",
      " *GET  _WALLDONE  FROM  ACTI  ITEM=TIME WALL  VALUE=  8.60055556    \n",
      "\n",
      " PARAMETER _PREPTIME =     0.000000000    \n",
      "\n",
      " PARAMETER _SOLVTIME =     5.000000000    \n",
      "\n",
      " PARAMETER _POSTTIME =     0.000000000    \n",
      "\n",
      " PARAMETER _TOTALTIM =     5.000000000    \n",
      "\n",
      " *GET  _DLBRATIO  FROM  ACTI  ITEM=SOLU DLBR  VALUE=  1.00000000    \n",
      "\n",
      " *GET  _COMBTIME  FROM  ACTI  ITEM=SOLU COMB  VALUE= 0.169510500    \n",
      "\n",
      " *GET  _SSMODE   FROM  ACTI  ITEM=SOLU SSMM  VALUE=  2.00000000    \n",
      "\n",
      " *GET  _NDOFS    FROM  ACTI  ITEM=SOLU NDOF  VALUE=  101637.000    \n",
      "\n",
      " *GET  _SOL_END_TIME  FROM  ACTI  ITEM=SET  TIME  VALUE=  1.00000000    \n",
      "\n",
      " *IF  _sol_end_time                     ( =   1.00000     )  EQ  \n",
      "      1.000000                          ( =   1.00000     )  THEN    \n",
      "\n",
      " /FCLEAN COMMAND REMOVING ALL LOCAL FILES\n",
      "\n",
      " *ENDIF\n",
      " --- Total number of nodes = 37315\n",
      " --- Total number of elements = 29736\n",
      " --- Element load balance ratio = 1\n",
      " --- Time to combine distributed files = 0.1695105\n",
      " --- Sparse memory mode = 2\n",
      " --- Number of DOF = 101637\n",
      "\n",
      " EXIT MAPDL WITHOUT SAVING DATABASE\n",
      "\n",
      "\n",
      " NUMBER OF WARNING MESSAGES ENCOUNTERED=          2\n",
      " NUMBER OF ERROR   MESSAGES ENCOUNTERED=          0\n",
      "\n",
      "+--------------------- M A P D L   S T A T I S T I C S ------------------------+\n",
      "\n",
      "Release: 2024 R1            Build: 24.1       Update: UP20231106   Platform: WINDOWS x64 \n",
      "Date Run: 06/14/2024   Time: 08:36     Process ID: 4088\n",
      "Operating System: Windows 10  (Build: 19045)\n",
      "\n",
      "Processor Model: Intel(R) Xeon(R) Platinum 8171M CPU @ 2.60GHz\n",
      "\n",
      "Compiler: Intel(R) Fortran Compiler Classic Version 2021.9  (Build: 20230302)\n",
      "          Intel(R) C/C++ Compiler Classic Version 2021.9  (Build: 20230302)\n",
      "          Intel(R) Math Kernel Library Version 2020.0.0 Product Build 20191125\n",
      "          BLAS Library supplied by Intel(R) MKL\n",
      "\n",
      "Number of machines requested            :    1\n",
      "Total number of cores available         :    8\n",
      "Number of physical cores available      :    4\n",
      "Number of processes requested           :    4\n",
      "Number of threads per process requested :    1\n",
      "Total number of cores requested         :    4 (Distributed Memory Parallel)               \n",
      "MPI Type: INTELMPI\n",
      "MPI Version: Intel(R) MPI Library 2021.10 for Windows* OS\n",
      "\n",
      "\n",
      "GPU Acceleration: Not Requested\n",
      "\n",
      "Job Name: file0\n",
      "Input File: dummy.dat\n",
      "\n",
      "  Core                Machine Name   Working Directory\n",
      " -----------------------------------------------------\n",
      "     0                 pyworkbench   C:\\Users\\ansys\\actions-runner\\_work\\pyworkbench-examples\\pyworkbench-examples\\pyworkbench-examples\\doc\\source\\examples\\cooled-turbine-bladewbpj\\_ProjectScratch\\Scr9C9B\n",
      "     1                 pyworkbench   C:\\Users\\ansys\\actions-runner\\_work\\pyworkbench-examples\\pyworkbench-examples\\pyworkbench-examples\\doc\\source\\examples\\cooled-turbine-bladewbpj\\_ProjectScratch\\Scr9C9B\n",
      "     2                 pyworkbench   C:\\Users\\ansys\\actions-runner\\_work\\pyworkbench-examples\\pyworkbench-examples\\pyworkbench-examples\\doc\\source\\examples\\cooled-turbine-bladewbpj\\_ProjectScratch\\Scr9C9B\n",
      "     3                 pyworkbench   C:\\Users\\ansys\\actions-runner\\_work\\pyworkbench-examples\\pyworkbench-examples\\pyworkbench-examples\\doc\\source\\examples\\cooled-turbine-bladewbpj\\_ProjectScratch\\Scr9C9B\n",
      " \n",
      "Latency time from master to core     1 =    3.022 microseconds\n",
      "Latency time from master to core     2 =    3.029 microseconds\n",
      "Latency time from master to core     3 =    3.289 microseconds\n",
      " \n",
      "Communication speed from master to core     1 =  5440.29 MB/sec\n",
      "Communication speed from master to core     2 =  5677.38 MB/sec\n",
      "Communication speed from master to core     3 =  3595.83 MB/sec\n",
      "\n",
      "Total CPU time for main thread                    :        5.8 seconds\n",
      "Total CPU time summed for all threads             :        9.2 seconds\n",
      "\n",
      "Elapsed time spent obtaining a license            :        0.4 seconds\n",
      "Elapsed time spent pre-processing model (/PREP7)  :        0.2 seconds\n",
      "Elapsed time spent solution - preprocessing       :        0.4 seconds\n",
      "Elapsed time spent computing solution             :        4.0 seconds\n",
      "Elapsed time spent solution - postprocessing      :        0.2 seconds\n",
      "Elapsed time spent post-processing model (/POST1) :        0.0 seconds\n",
      " \n",
      "Equation solver used                              :            Sparse (symmetric)\n",
      "Equation solver computational rate                :       48.5 Gflops\n",
      "Equation solver effective I/O rate                :       15.7 GB/sec\n",
      "\n",
      "Sum of disk space used on all processes           :      107.3 MB\n",
      "\n",
      "Sum of memory used on all processes               :      720.0 MB\n",
      "Sum of memory allocated on all processes          :     3246.0 MB\n",
      "Physical memory available                         :         32 GB\n",
      "Total amount of I/O written to disk               :        0.1 GB\n",
      "Total amount of I/O read from disk                :        0.0 GB\n",
      "\n",
      "+------------------ E N D   M A P D L   S T A T I S T I C S -------------------+\n",
      "\n",
      "\n",
      " *-----------------------------------------------------------------------------*\n",
      " |                                                                             |\n",
      " |                               RUN COMPLETED                                 |\n",
      " |                                                                             |\n",
      " |-----------------------------------------------------------------------------|\n",
      " |                                                                             |\n",
      " |  Ansys MAPDL 2024 R1         Build 24.1         UP20231106    WINDOWS x64   |\n",
      " |                                                                             |\n",
      " |-----------------------------------------------------------------------------|\n",
      " |                                                                             |\n",
      " |  Database Requested(-db)     1024 MB     Scratch Memory Requested   1024 MB |\n",
      " |  Max Database Used(Master)     39 MB     Max Scratch Used(Master)    177 MB |\n",
      " |  Max Database Used(Workers)     1 MB     Max Scratch Used(Workers)   170 MB |\n",
      " |  Sum Database Used(All)        42 MB     Sum Scratch Used(All)       678 MB |\n",
      " |                                                                             |\n",
      " |-----------------------------------------------------------------------------|\n",
      " |                                                                             |\n",
      " |        CP Time      (sec) =          9.188       Time  =  08:36:02          |\n",
      " |        Elapsed Time (sec) =          7.000       Date  =  06/14/2024        |\n",
      " |                                                                             |\n",
      " *-----------------------------------------------------------------------------*\n"
     ]
    },
    {
     "name": "stderr",
     "output_type": "stream",
     "text": [
      "\n"
     ]
    }
   ],
   "source": [
    "current_working_directory = os.getcwd()\n",
    "mechanical.download(solve_out_path, target_dir=current_working_directory)\n",
    "solve_out_local_path = os.path.join(current_working_directory, \"solve.out\")\n",
    "write_file_contents_to_console(solve_out_local_path)\n",
    "os.remove(solve_out_local_path)"
   ]
  },
  {
   "cell_type": "markdown",
   "id": "a03808d0",
   "metadata": {},
   "source": [
    "Specify the Mechanical directory path for images and run a script to fetch the directory path. \n",
    "The path where images are stored on the server is printed. \n",
    "Download an image file (`stress.png`) from the server to the client's current working directory and display it using `matplotlib`."
   ]
  },
  {
   "cell_type": "code",
   "execution_count": 15,
   "id": "967fc3fe",
   "metadata": {
    "execution": {
     "iopub.execute_input": "2024-06-14T08:36:05.077891Z",
     "iopub.status.busy": "2024-06-14T08:36:05.077891Z",
     "iopub.status.idle": "2024-06-14T08:36:05.081418Z",
     "shell.execute_reply": "2024-06-14T08:36:05.081418Z"
    }
   },
   "outputs": [],
   "source": [
    "from matplotlib import image as mpimg\n",
    "from matplotlib import pyplot as plt"
   ]
  },
  {
   "cell_type": "code",
   "execution_count": 16,
   "id": "e8b3a83e",
   "metadata": {
    "execution": {
     "iopub.execute_input": "2024-06-14T08:36:05.085431Z",
     "iopub.status.busy": "2024-06-14T08:36:05.084430Z",
     "iopub.status.idle": "2024-06-14T08:36:05.092683Z",
     "shell.execute_reply": "2024-06-14T08:36:05.092683Z"
    }
   },
   "outputs": [
    {
     "data": {
      "text/plain": [
       "''"
      ]
     },
     "execution_count": 16,
     "metadata": {},
     "output_type": "execute_result"
    }
   ],
   "source": [
    "mechanical.run_python_script(f\"image_dir=ExtAPI.DataModel.AnalysisList[1].WorkingDir\")"
   ]
  },
  {
   "cell_type": "code",
   "execution_count": 17,
   "id": "b991dbc5",
   "metadata": {
    "execution": {
     "iopub.execute_input": "2024-06-14T08:36:05.096694Z",
     "iopub.status.busy": "2024-06-14T08:36:05.095701Z",
     "iopub.status.idle": "2024-06-14T08:36:05.101944Z",
     "shell.execute_reply": "2024-06-14T08:36:05.101944Z"
    },
    "lines_to_next_cell": 1
   },
   "outputs": [
    {
     "name": "stdout",
     "output_type": "stream",
     "text": [
      "Images are stored on the server at: C:\\Users\\ansys\\actions-runner\\_work\\pyworkbench-examples\\pyworkbench-examples\\pyworkbench-examples\\doc\\source\\examples\\cooled-turbine-bladewbpj\\example_02_Cooled_Turbine_Blade_files\\dp0\\SYS-8\\MECH\\\n"
     ]
    }
   ],
   "source": [
    "result_image_dir_server = mechanical.run_python_script(f\"image_dir\")\n",
    "print(f\"Images are stored on the server at: {result_image_dir_server}\")"
   ]
  },
  {
   "cell_type": "code",
   "execution_count": 18,
   "id": "d8a20a1e",
   "metadata": {
    "execution": {
     "iopub.execute_input": "2024-06-14T08:36:05.105959Z",
     "iopub.status.busy": "2024-06-14T08:36:05.104954Z",
     "iopub.status.idle": "2024-06-14T08:36:05.109170Z",
     "shell.execute_reply": "2024-06-14T08:36:05.109170Z"
    },
    "lines_to_next_cell": 1
   },
   "outputs": [],
   "source": [
    "def get_image_path(image_name):\n",
    "    return os.path.join(result_image_dir_server, image_name)"
   ]
  },
  {
   "cell_type": "code",
   "execution_count": 19,
   "id": "29c3d73f",
   "metadata": {
    "execution": {
     "iopub.execute_input": "2024-06-14T08:36:05.117637Z",
     "iopub.status.busy": "2024-06-14T08:36:05.116641Z",
     "iopub.status.idle": "2024-06-14T08:36:05.122636Z",
     "shell.execute_reply": "2024-06-14T08:36:05.121620Z"
    },
    "lines_to_next_cell": 1
   },
   "outputs": [],
   "source": [
    "def display_image(path):\n",
    "    print(f\"Printing {path} using matplotlib\")\n",
    "    image1 = mpimg.imread(path)\n",
    "    plt.figure(figsize=(15, 15))\n",
    "    plt.axis(\"off\")\n",
    "    plt.imshow(image1)\n",
    "    plt.show()"
   ]
  },
  {
   "cell_type": "code",
   "execution_count": 20,
   "id": "5634561b",
   "metadata": {
    "execution": {
     "iopub.execute_input": "2024-06-14T08:36:05.126631Z",
     "iopub.status.busy": "2024-06-14T08:36:05.125631Z",
     "iopub.status.idle": "2024-06-14T08:36:05.129515Z",
     "shell.execute_reply": "2024-06-14T08:36:05.129515Z"
    }
   },
   "outputs": [],
   "source": [
    "image_name = \"stress.png\"\n",
    "image_path_server = get_image_path(image_name)"
   ]
  },
  {
   "cell_type": "code",
   "execution_count": 21,
   "id": "18489ef0",
   "metadata": {
    "execution": {
     "iopub.execute_input": "2024-06-14T08:36:05.133525Z",
     "iopub.status.busy": "2024-06-14T08:36:05.132525Z",
     "iopub.status.idle": "2024-06-14T08:36:05.416042Z",
     "shell.execute_reply": "2024-06-14T08:36:05.415028Z"
    }
   },
   "outputs": [
    {
     "name": "stderr",
     "output_type": "stream",
     "text": [
      "\r",
      "Downloading dns:///127.0.0.1:62222:C:\\Users\\ansys\\actions-runner\\_work\\pyworkbench-examples\\pyworkbench-examples\\pyworkbench-examples\\doc\\source\\examples\\cooled-turbine-bladewbpj\\example_02_Cooled_Turbine_Blade_files\\dp0\\SYS-8\\MECH\\stress.png to C:\\Users\\ansys\\actions-runner\\_work\\pyworkbench-examples\\pyworkbench-examples\\pyworkbench-examples\\doc\\source\\examples\\cooled-turbine-blade\\stress.png:   0%|          | 0.00/12.0k [00:00<?, ?B/s]"
     ]
    },
    {
     "name": "stderr",
     "output_type": "stream",
     "text": [
      "\r",
      "Downloading dns:///127.0.0.1:62222:C:\\Users\\ansys\\actions-runner\\_work\\pyworkbench-examples\\pyworkbench-examples\\pyworkbench-examples\\doc\\source\\examples\\cooled-turbine-bladewbpj\\example_02_Cooled_Turbine_Blade_files\\dp0\\SYS-8\\MECH\\stress.png to C:\\Users\\ansys\\actions-runner\\_work\\pyworkbench-examples\\pyworkbench-examples\\pyworkbench-examples\\doc\\source\\examples\\cooled-turbine-blade\\stress.png: 100%|██████████| 12.0k/12.0k [00:00<?, ?B/s]"
     ]
    },
    {
     "name": "stderr",
     "output_type": "stream",
     "text": [
      "\n"
     ]
    },
    {
     "name": "stdout",
     "output_type": "stream",
     "text": [
      "Local image path : C:\\Users\\ansys\\actions-runner\\_work\\pyworkbench-examples\\pyworkbench-examples\\pyworkbench-examples\\doc\\source\\examples\\cooled-turbine-blade\\stress.png\n",
      "Printing C:\\Users\\ansys\\actions-runner\\_work\\pyworkbench-examples\\pyworkbench-examples\\pyworkbench-examples\\doc\\source\\examples\\cooled-turbine-blade\\stress.png using matplotlib\n"
     ]
    },
    {
     "data": {
      "image/png": "[encoded data removed]",
      "text/plain": [
       "<Figure size 1500x1500 with 1 Axes>"
      ]
     },
     "metadata": {},
     "output_type": "display_data"
    }
   ],
   "source": [
    "if image_path_server != \"\":\n",
    "    current_working_directory = os.getcwd()\n",
    "\n",
    "    local_file_path_list = mechanical.download(\n",
    "        image_path_server, target_dir=current_working_directory\n",
    "    )\n",
    "    image_local_path = local_file_path_list[0]\n",
    "    print(f\"Local image path : {image_local_path}\")\n",
    "    \n",
    "    display_image(image_local_path)"
   ]
  },
  {
   "cell_type": "markdown",
   "id": "a32cabd6",
   "metadata": {},
   "source": [
    "Download all the files from the server to the current working directory. \n",
    "Verify the target and source paths and copy all files from the server to the client."
   ]
  },
  {
   "cell_type": "code",
   "execution_count": 22,
   "id": "4a0e9d30",
   "metadata": {
    "execution": {
     "iopub.execute_input": "2024-06-14T08:36:05.420043Z",
     "iopub.status.busy": "2024-06-14T08:36:05.419048Z",
     "iopub.status.idle": "2024-06-14T08:36:05.424855Z",
     "shell.execute_reply": "2024-06-14T08:36:05.422843Z"
    }
   },
   "outputs": [],
   "source": [
    "import shutil\n",
    "import glob"
   ]
  },
  {
   "cell_type": "code",
   "execution_count": 23,
   "id": "38a129fc",
   "metadata": {
    "execution": {
     "iopub.execute_input": "2024-06-14T08:36:05.427855Z",
     "iopub.status.busy": "2024-06-14T08:36:05.427855Z",
     "iopub.status.idle": "2024-06-14T08:36:05.434012Z",
     "shell.execute_reply": "2024-06-14T08:36:05.432999Z"
    }
   },
   "outputs": [
    {
     "name": "stdout",
     "output_type": "stream",
     "text": [
      "Files to be copied from server path at: C:\\Users\\ansys\\actions-runner\\_work\\pyworkbench-examples\\pyworkbench-examples\\pyworkbench-examples\\doc\\source\\examples\\cooled-turbine-blade\n"
     ]
    }
   ],
   "source": [
    "current_working_directory = os.getcwd()\n",
    "target_dir2 = current_working_directory\n",
    "print(f\"Files to be copied from server path at: {target_dir2}\")"
   ]
  },
  {
   "cell_type": "code",
   "execution_count": 24,
   "id": "03e20c0a",
   "metadata": {
    "execution": {
     "iopub.execute_input": "2024-06-14T08:36:05.437013Z",
     "iopub.status.busy": "2024-06-14T08:36:05.436010Z",
     "iopub.status.idle": "2024-06-14T08:36:05.442073Z",
     "shell.execute_reply": "2024-06-14T08:36:05.442073Z"
    }
   },
   "outputs": [
    {
     "name": "stdout",
     "output_type": "stream",
     "text": [
      "All the solver file is stored on the server at: C:\\Users\\ansys\\actions-runner\\_work\\pyworkbench-examples\\pyworkbench-examples\\pyworkbench-examples\\doc\\source\\examples\\cooled-turbine-bladewbpj\\example_02_Cooled_Turbine_Blade_files\\dp0\\SYS-8\\MECH\\\n"
     ]
    }
   ],
   "source": [
    "print(f\"All the solver file is stored on the server at: {result_solve_dir_server}\")"
   ]
  },
  {
   "cell_type": "code",
   "execution_count": 25,
   "id": "63a811b6",
   "metadata": {
    "execution": {
     "iopub.execute_input": "2024-06-14T08:36:05.446090Z",
     "iopub.status.busy": "2024-06-14T08:36:05.445088Z",
     "iopub.status.idle": "2024-06-14T08:36:05.450026Z",
     "shell.execute_reply": "2024-06-14T08:36:05.449006Z"
    }
   },
   "outputs": [],
   "source": [
    "source_dir = result_solve_dir_server\n",
    "destination_dir = target_dir2"
   ]
  },
  {
   "cell_type": "code",
   "execution_count": 26,
   "id": "40a31c64",
   "metadata": {
    "execution": {
     "iopub.execute_input": "2024-06-14T08:36:05.453025Z",
     "iopub.status.busy": "2024-06-14T08:36:05.453025Z",
     "iopub.status.idle": "2024-06-14T08:36:05.501060Z",
     "shell.execute_reply": "2024-06-14T08:36:05.500044Z"
    }
   },
   "outputs": [],
   "source": [
    "for file in glob.glob(source_dir + '/*'):\n",
    "    shutil.copy(file, destination_dir)"
   ]
  },
  {
   "cell_type": "markdown",
   "id": "e16a4b6a",
   "metadata": {},
   "source": [
    "Finally, the `exit` method is called on both the PyMechanical and Workbench clients to gracefully shut down the services, ensuring that all resources are properly released."
   ]
  },
  {
   "cell_type": "code",
   "execution_count": 27,
   "id": "68501723",
   "metadata": {
    "execution": {
     "iopub.execute_input": "2024-06-14T08:36:05.504056Z",
     "iopub.status.busy": "2024-06-14T08:36:05.504056Z",
     "iopub.status.idle": "2024-06-14T08:36:12.687544Z",
     "shell.execute_reply": "2024-06-14T08:36:12.687544Z"
    }
   },
   "outputs": [],
   "source": [
    "mechanical.exit()\n",
    "wb.exit()"
   ]
  }
 ],
 "metadata": {
  "jupytext": {
   "cell_metadata_filter": "-all",
   "main_language": "python",
   "notebook_metadata_filter": "-all",
   "text_representation": {
    "extension": ".py",
    "format_name": "light"
   }
  },
  "language_info": {
   "codemirror_mode": {
    "name": "ipython",
    "version": 3
   },
   "file_extension": ".py",
   "mimetype": "text/x-python",
   "name": "python",
   "nbconvert_exporter": "python",
   "pygments_lexer": "ipython3",
   "version": "3.11.9"
  }
 },
 "nbformat": 4,
 "nbformat_minor": 5
}
