{
 "cells": [
  {
   "cell_type": "markdown",
   "id": "986152ce",
   "metadata": {},
   "source": [
    "# Cyclic symmetry analysis"
   ]
  },
  {
   "cell_type": "markdown",
   "id": "259a1167",
   "metadata": {},
   "source": [
    "This notebook demonstrates how to use the Workbench client to manage projects on a remote host, run scripts, and handle output files. \n",
    "It covers launching services, uploading files, executing scripts, and visualizing results using PyMechanical."
   ]
  },
  {
   "cell_type": "code",
   "execution_count": 1,
   "id": "34a222ab",
   "metadata": {
    "execution": {
     "iopub.execute_input": "2024-06-14T08:36:16.406591Z",
     "iopub.status.busy": "2024-06-14T08:36:16.406591Z",
     "iopub.status.idle": "2024-06-14T08:36:16.422671Z",
     "shell.execute_reply": "2024-06-14T08:36:16.422671Z"
    }
   },
   "outputs": [],
   "source": [
    "import os\n",
    "import pathlib"
   ]
  },
  {
   "cell_type": "code",
   "execution_count": 2,
   "id": "46139a0f",
   "metadata": {
    "execution": {
     "iopub.execute_input": "2024-06-14T08:36:16.422671Z",
     "iopub.status.busy": "2024-06-14T08:36:16.422671Z",
     "iopub.status.idle": "2024-06-14T08:36:17.751498Z",
     "shell.execute_reply": "2024-06-14T08:36:17.751498Z"
    }
   },
   "outputs": [],
   "source": [
    "from ansys.workbench.core import launch_workbench\n",
    "from ansys.mechanical.core import launch_mechanical"
   ]
  },
  {
   "cell_type": "markdown",
   "id": "0ebb60c7",
   "metadata": {},
   "source": [
    "Launch the Workbench service on a remote host machine, specifying the remote host machine name and user login credentials. \n",
    "Define several directories that will be used during the session. \n",
    "`workdir` is set to the parent directory of the current file. \n",
    "`assets`, `scripts`, and `cdb` are subdirectories within the working directory. \n",
    "The `launch_workbench` function is called to start a Workbench session with specified directories."
   ]
  },
  {
   "cell_type": "code",
   "execution_count": 3,
   "id": "e400443c",
   "metadata": {
    "execution": {
     "iopub.execute_input": "2024-06-14T08:36:17.751498Z",
     "iopub.status.busy": "2024-06-14T08:36:17.751498Z",
     "iopub.status.idle": "2024-06-14T08:36:17.761345Z",
     "shell.execute_reply": "2024-06-14T08:36:17.761345Z"
    }
   },
   "outputs": [],
   "source": [
    "workdir = pathlib.Path(\"__file__\").parent\n",
    "assets = workdir / \"assets\"\n",
    "scripts = workdir / \"scripts\"\n",
    "cdb = workdir / \"cdb\""
   ]
  },
  {
   "cell_type": "code",
   "execution_count": 4,
   "id": "294b75de",
   "metadata": {
    "execution": {
     "iopub.execute_input": "2024-06-14T08:36:17.761345Z",
     "iopub.status.busy": "2024-06-14T08:36:17.761345Z",
     "iopub.status.idle": "2024-06-14T08:38:24.575523Z",
     "shell.execute_reply": "2024-06-14T08:38:24.575523Z"
    }
   },
   "outputs": [],
   "source": [
    "wb = launch_workbench(release=\"241\", server_workdir=str(workdir.absolute()), client_workdir=str(workdir.absolute()))"
   ]
  },
  {
   "cell_type": "markdown",
   "id": "e6bcccac",
   "metadata": {},
   "source": [
    "Upload project files to the server using the `upload_file` method. \n",
    "The files uploaded are `sector_model.cdb` and `cyclic_symmetry_analysis.py`."
   ]
  },
  {
   "cell_type": "code",
   "execution_count": 5,
   "id": "10095b8c",
   "metadata": {
    "execution": {
     "iopub.execute_input": "2024-06-14T08:38:24.575523Z",
     "iopub.status.busy": "2024-06-14T08:38:24.575523Z",
     "iopub.status.idle": "2024-06-14T08:38:24.778532Z",
     "shell.execute_reply": "2024-06-14T08:38:24.778532Z"
    }
   },
   "outputs": [
    {
     "name": "stderr",
     "output_type": "stream",
     "text": [
      "\r",
      "Uploading sector_model.cdb:   0%|          | 0.00/7.96M [00:00<?, ?B/s]"
     ]
    },
    {
     "name": "stderr",
     "output_type": "stream",
     "text": [
      "\r",
      "Uploading sector_model.cdb: 100%|██████████| 7.96M/7.96M [00:00<00:00, 89.0MB/s]"
     ]
    },
    {
     "name": "stderr",
     "output_type": "stream",
     "text": [
      "\n"
     ]
    },
    {
     "name": "stderr",
     "output_type": "stream",
     "text": [
      "\r",
      "Uploading cyclic_symmetry_analysis.py:   0%|          | 0.00/13.0k [00:00<?, ?B/s]"
     ]
    },
    {
     "name": "stderr",
     "output_type": "stream",
     "text": [
      "\r",
      "Uploading cyclic_symmetry_analysis.py: 100%|██████████| 13.0k/13.0k [00:00<00:00, 855kB/s]"
     ]
    },
    {
     "name": "stderr",
     "output_type": "stream",
     "text": [
      "\n"
     ]
    }
   ],
   "source": [
    "wb.upload_file(str(cdb / \"sector_model.cdb\"))\n",
    "wb.upload_file(str(scripts / \"cyclic_symmetry_analysis.py\"))"
   ]
  },
  {
   "cell_type": "markdown",
   "id": "0e9d791a",
   "metadata": {},
   "source": [
    "Execute a Workbench script (`project.wbjn`) to define the project and load the geometry using the `run_script_file` method. \n",
    "The `set_log_file` method is used to direct the logs to `wb_log_file.log`. \n",
    "The name of the system created is stored in `sys_name` and printed."
   ]
  },
  {
   "cell_type": "code",
   "execution_count": 6,
   "id": "5de8a82f",
   "metadata": {
    "execution": {
     "iopub.execute_input": "2024-06-14T08:38:24.778532Z",
     "iopub.status.busy": "2024-06-14T08:38:24.778532Z",
     "iopub.status.idle": "2024-06-14T08:39:01.412919Z",
     "shell.execute_reply": "2024-06-14T08:39:01.412919Z"
    }
   },
   "outputs": [
    {
     "name": "stdout",
     "output_type": "stream",
     "text": [
      "SYS 1\n"
     ]
    }
   ],
   "source": [
    "export_path = 'wb_log_file.log'\n",
    "wb.set_log_file(export_path)\n",
    "sys_name = wb.run_script_file(str((assets / \"project.wbjn\").absolute()), log_level='info')\n",
    "print(sys_name)"
   ]
  },
  {
   "cell_type": "markdown",
   "id": "a7790957",
   "metadata": {},
   "source": [
    "Start a PyMechanical server for the system using the `start_mechanical_server` method. \n",
    "Create a PyMechanical client session connected to this server using `launch_mechanical`. \n",
    "The project directory is printed to verify the connection."
   ]
  },
  {
   "cell_type": "code",
   "execution_count": 7,
   "id": "efd8d37f",
   "metadata": {
    "execution": {
     "iopub.execute_input": "2024-06-14T08:39:01.412919Z",
     "iopub.status.busy": "2024-06-14T08:39:01.412919Z",
     "iopub.status.idle": "2024-06-14T08:39:31.741622Z",
     "shell.execute_reply": "2024-06-14T08:39:31.741622Z"
    }
   },
   "outputs": [],
   "source": [
    "server_port = wb.start_mechanical_server(system_name=sys_name)\n",
    "mechanical = launch_mechanical(start_instance=False, ip='localhost', port=server_port)"
   ]
  },
  {
   "cell_type": "code",
   "execution_count": 8,
   "id": "4561df02",
   "metadata": {
    "execution": {
     "iopub.execute_input": "2024-06-14T08:39:31.741622Z",
     "iopub.status.busy": "2024-06-14T08:39:31.741622Z",
     "iopub.status.idle": "2024-06-14T08:39:31.753422Z",
     "shell.execute_reply": "2024-06-14T08:39:31.753422Z"
    }
   },
   "outputs": [
    {
     "name": "stdout",
     "output_type": "stream",
     "text": [
      "C:\\Users\\ansys\\AppData\\Local\\Temp\\WB_ansys_5796_2\\wbnew_files\\\n"
     ]
    }
   ],
   "source": [
    "print(mechanical.project_directory)"
   ]
  },
  {
   "cell_type": "markdown",
   "id": "a1211152",
   "metadata": {},
   "source": [
    "Read and execute the script `cyclic_symmetry_analysis.py` via the PyMechanical client using `run_python_script`. \n",
    "This script typically contains commands to mesh and solve the model. \n",
    "The output of the script is printed."
   ]
  },
  {
   "cell_type": "code",
   "execution_count": 9,
   "id": "08831f12",
   "metadata": {
    "execution": {
     "iopub.execute_input": "2024-06-14T08:39:31.753422Z",
     "iopub.status.busy": "2024-06-14T08:39:31.753422Z",
     "iopub.status.idle": "2024-06-14T08:49:39.261888Z",
     "shell.execute_reply": "2024-06-14T08:49:39.261888Z"
    }
   },
   "outputs": [
    {
     "name": "stdout",
     "output_type": "stream",
     "text": [
      "{\"Total Deformation\": \"0 [mm]\", \"Total Deformation 2\": \"0 [mm]\"}\n"
     ]
    }
   ],
   "source": [
    "with open(scripts / \"cyclic_symmetry_analysis.py\") as sf:\n",
    "    mech_script = sf.read()\n",
    "mech_output = mechanical.run_python_script(mech_script)\n",
    "print(mech_output)"
   ]
  },
  {
   "cell_type": "markdown",
   "id": "63e2be16",
   "metadata": {},
   "source": [
    "Specify the Mechanical directory and run a script to fetch the working directory path. \n",
    "The path where all solver files are stored on the server is printed. \n",
    "Download the solver output file (`solve.out`) from the server to the client's current working directory and print its contents."
   ]
  },
  {
   "cell_type": "code",
   "execution_count": 10,
   "id": "cd83411b",
   "metadata": {
    "execution": {
     "iopub.execute_input": "2024-06-14T08:49:39.261888Z",
     "iopub.status.busy": "2024-06-14T08:49:39.261888Z",
     "iopub.status.idle": "2024-06-14T08:49:39.281576Z",
     "shell.execute_reply": "2024-06-14T08:49:39.281576Z"
    }
   },
   "outputs": [
    {
     "name": "stdout",
     "output_type": "stream",
     "text": [
      "All solver files are stored on the server at: C:\\Users\\ansys\\AppData\\Local\\Temp\\WB_ansys_5796_2\\wbnew_files\\dp0\\SYS-6\\MECH\\\n"
     ]
    }
   ],
   "source": [
    "mechanical.run_python_script(f\"solve_dir=ExtAPI.DataModel.AnalysisList[5].WorkingDir\")\n",
    "result_solve_dir_server = mechanical.run_python_script(f\"solve_dir\")\n",
    "print(f\"All solver files are stored on the server at: {result_solve_dir_server}\")"
   ]
  },
  {
   "cell_type": "code",
   "execution_count": 11,
   "id": "a8010a8e",
   "metadata": {
    "execution": {
     "iopub.execute_input": "2024-06-14T08:49:39.281576Z",
     "iopub.status.busy": "2024-06-14T08:49:39.281576Z",
     "iopub.status.idle": "2024-06-14T08:49:39.289039Z",
     "shell.execute_reply": "2024-06-14T08:49:39.289039Z"
    },
    "lines_to_next_cell": 1
   },
   "outputs": [],
   "source": [
    "solve_out_path = os.path.join(result_solve_dir_server, \"solve.out\")"
   ]
  },
  {
   "cell_type": "code",
   "execution_count": 12,
   "id": "ea134686",
   "metadata": {
    "execution": {
     "iopub.execute_input": "2024-06-14T08:49:39.289039Z",
     "iopub.status.busy": "2024-06-14T08:49:39.289039Z",
     "iopub.status.idle": "2024-06-14T08:49:39.296898Z",
     "shell.execute_reply": "2024-06-14T08:49:39.296898Z"
    },
    "lines_to_next_cell": 1
   },
   "outputs": [],
   "source": [
    "def write_file_contents_to_console(path):\n",
    "    \"\"\"Write file contents to console.\"\"\"\n",
    "    with open(path, \"rt\") as file:\n",
    "        for line in file:\n",
    "            print(line, end=\"\")"
   ]
  },
  {
   "cell_type": "code",
   "execution_count": 13,
   "id": "ec947faf",
   "metadata": {
    "execution": {
     "iopub.execute_input": "2024-06-14T08:49:39.296898Z",
     "iopub.status.busy": "2024-06-14T08:49:39.296898Z",
     "iopub.status.idle": "2024-06-14T08:49:39.499256Z",
     "shell.execute_reply": "2024-06-14T08:49:39.499256Z"
    }
   },
   "outputs": [
    {
     "name": "stderr",
     "output_type": "stream",
     "text": [
      "\r",
      "Downloading dns:///127.0.0.1:62741:C:\\Users\\ansys\\AppData\\Local\\Temp\\WB_ansys_5796_2\\wbnew_files\\dp0\\SYS-6\\MECH\\solve.out to C:\\Users\\ansys\\actions-runner\\_work\\pyworkbench-examples\\pyworkbench-examples\\pyworkbench-examples\\doc\\source\\examples\\cyclic-symmetry-analysis\\solve.out:   0%|          | 0.00/44.0k [00:00<?, ?B/s]"
     ]
    },
    {
     "name": "stderr",
     "output_type": "stream",
     "text": [
      "\r",
      "Downloading dns:///127.0.0.1:62741:C:\\Users\\ansys\\AppData\\Local\\Temp\\WB_ansys_5796_2\\wbnew_files\\dp0\\SYS-6\\MECH\\solve.out to C:\\Users\\ansys\\actions-runner\\_work\\pyworkbench-examples\\pyworkbench-examples\\pyworkbench-examples\\doc\\source\\examples\\cyclic-symmetry-analysis\\solve.out: 100%|██████████| 44.0k/44.0k [00:00<?, ?B/s]"
     ]
    },
    {
     "name": "stdout",
     "output_type": "stream",
     "text": [
      "\n",
      " Ansys Mechanical Enterprise                       \n",
      "\n",
      "\n",
      " *------------------------------------------------------------------*\n",
      " |                                                                  |\n",
      " |   W E L C O M E   T O   T H E   A N S Y S (R)  P R O G R A M     |\n",
      " |                                                                  |\n",
      " *------------------------------------------------------------------*\n",
      "\n",
      "\n",
      "\n",
      "\n",
      " ***************************************************************\n",
      " *         ANSYS MAPDL 2024 R1          LEGAL NOTICES          *\n",
      " ***************************************************************\n",
      " *                                                             *\n",
      " * Copyright 1971-2024 Ansys, Inc.  All rights reserved.       *\n",
      " * Unauthorized use, distribution or duplication is            *\n",
      " * prohibited.                                                 *\n",
      " *                                                             *\n",
      " * Ansys is a registered trademark of Ansys, Inc. or its       *\n",
      " * subsidiaries in the United States or other countries.       *\n",
      " * See the Ansys, Inc. online documentation or the Ansys, Inc. *\n",
      " * documentation CD or online help for the complete Legal      *\n",
      " * Notice.                                                     *\n",
      " *                                                             *\n",
      " ***************************************************************\n",
      " *                                                             *\n",
      " * THIS ANSYS SOFTWARE PRODUCT AND PROGRAM DOCUMENTATION       *\n",
      " * INCLUDE TRADE SECRETS AND CONFIDENTIAL AND PROPRIETARY      *\n",
      " * PRODUCTS OF ANSYS, INC., ITS SUBSIDIARIES, OR LICENSORS.    *\n",
      " * The software products and documentation are furnished by    *\n",
      " * Ansys, Inc. or its subsidiaries under a software license    *\n",
      " * agreement that contains provisions concerning               *\n",
      " * non-disclosure, copying, length and nature of use,          *\n",
      " * compliance with exporting laws, warranties, disclaimers,    *\n",
      " * limitations of liability, and remedies, and other           *\n",
      " * provisions.  The software products and documentation may be *\n",
      " * used, disclosed, transferred, or copied only in accordance  *\n",
      " * with the terms and conditions of that software license      *\n",
      " * agreement.                                                  *\n",
      " *                                                             *\n",
      " * Ansys, Inc. is a UL registered                              *\n",
      " * ISO 9001:2015 company.                                      *\n",
      " *                                                             *\n",
      " ***************************************************************\n",
      " *                                                             *\n",
      " * This product is subject to U.S. laws governing export and   *\n",
      " * re-export.                                                  *\n",
      " *                                                             *\n",
      " * For U.S. Government users, except as specifically granted   *\n",
      " * by the Ansys, Inc. software license agreement, the use,     *\n",
      " * duplication, or disclosure by the United States Government  *\n",
      " * is subject to restrictions stated in the Ansys, Inc.        *\n",
      " * software license agreement and FAR 12.212 (for non-DOD      *\n",
      " * licenses).                                                  *\n",
      " *                                                             *\n",
      " ***************************************************************\n",
      "\n",
      " 2024 R1 \n",
      "     \n",
      " Point Releases and Patches installed:   \n",
      "     \n",
      " Ansys Service Pack 2024 R1.01   \n",
      " Ansys Service Pack 2024 R1.02   \n",
      " Ansys Service Pack 2024 R1.03   \n",
      " Ansys, Inc. License Manager 2024 R1 \n",
      " Ansys, Inc. License Manager 2024 R1.01  \n",
      " Ansys, Inc. License Manager 2024 R1.02  \n",
      " Ansys, Inc. License Manager 2024 R1.03  \n",
      " Discovery 2024 R1   \n",
      " Discovery 2024 R1.01\n",
      " Discovery 2024 R1.02\n",
      " Discovery 2024 R1.03\n",
      " SpaceClaim 2024 R1  \n",
      " SpaceClaim 2024 R1.01   \n",
      " SpaceClaim 2024 R1.02   \n",
      " SpaceClaim 2024 R1.03   \n",
      " Icepak (includes CFD-Post) 2024 R1  \n",
      " Icepak (includes CFD-Post) 2024 R1.01   \n",
      " Icepak (includes CFD-Post) 2024 R1.02   \n",
      " Icepak (includes CFD-Post) 2024 R1.03   \n",
      " Fluids 2024 R1  \n",
      " Fluids 2024 R1.01   \n",
      " Fluids 2024 R1.02   \n",
      " Fluids 2024 R1.03   \n",
      " CFD-Post only 2024 R1   \n",
      " CFD-Post only 2024 R1.01\n",
      " CFD-Post only 2024 R1.02\n",
      " CFD-Post only 2024 R1.03\n",
      " CFX (includes CFD-Post) 2024 R1 \n",
      " CFX (includes CFD-Post) 2024 R1.01  \n",
      " CFX (includes CFD-Post) 2024 R1.02  \n",
      " CFX (includes CFD-Post) 2024 R1.03  \n",
      " Chemkin 2024 R1 \n",
      " Chemkin 2024 R1.01  \n",
      " Chemkin 2024 R1.02  \n",
      " Chemkin 2024 R1.03  \n",
      " EnSight 2024 R1 \n",
      " EnSight 2024 R1.01  \n",
      " EnSight 2024 R1.02  \n",
      " EnSight 2024 R1.03  \n",
      " FENSAP-ICE 2024 R1  \n",
      " FENSAP-ICE 2024 R1.01   \n",
      " FENSAP-ICE 2024 R1.02   \n",
      " FENSAP-ICE 2024 R1.03   \n",
      " Fluent (includes CFD-Post) 2024 R1  \n",
      " Fluent (includes CFD-Post) 2024 R1.01   \n",
      " Fluent (includes CFD-Post) 2024 R1.02   \n",
      " Fluent (includes CFD-Post) 2024 R1.03   \n",
      " Polyflow (includes CFD-Post) 2024 R1\n",
      " Polyflow (includes CFD-Post) 2024 R1.01 \n",
      " Polyflow (includes CFD-Post) 2024 R1.02 \n",
      " Polyflow (includes CFD-Post) 2024 R1.03 \n",
      " Forte (includes EnSight) 2024 R1\n",
      " Forte (includes EnSight) 2024 R1.01 \n",
      " Forte (includes EnSight) 2024 R1.02 \n",
      " Forte (includes EnSight) 2024 R1.03 \n",
      " ICEM CFD 2024 R1\n",
      " ICEM CFD 2024 R1.01 \n",
      " ICEM CFD 2024 R1.02 \n",
      " ICEM CFD 2024 R1.03 \n",
      " TurboGrid 2024 R1   \n",
      " TurboGrid 2024 R1.01\n",
      " TurboGrid 2024 R1.02\n",
      " TurboGrid 2024 R1.03\n",
      " Speos 2024 R1   \n",
      " Speos 2024 R1.01\n",
      " Speos 2024 R1.02\n",
      " Speos 2024 R1.03\n",
      " Speos HPC 2024 R1   \n",
      " Speos HPC 2024 R1.01\n",
      " Speos HPC 2024 R1.02\n",
      " Speos HPC 2024 R1.03\n",
      " optiSLang 2024 R1   \n",
      " optiSLang 2024 R1.01\n",
      " optiSLang 2024 R1.02\n",
      " optiSLang 2024 R1.03\n",
      " Additive 2024 R1\n",
      " Additive 2024 R1.01 \n",
      " Additive 2024 R1.02 \n",
      " Additive 2024 R1.03 \n",
      " Aqwa 2024 R1\n",
      " Aqwa 2024 R1.01 \n",
      " Aqwa 2024 R1.02 \n",
      " Aqwa 2024 R1.03 \n",
      " Autodyn 2024 R1 \n",
      " Autodyn 2024 R1.01  \n",
      " Autodyn 2024 R1.02  \n",
      " Autodyn 2024 R1.03  \n",
      " Customization Files for User Programmable Features 2024 R1  \n",
      " Customization Files for User Programmable Features 2024 R1.01   \n",
      " Customization Files for User Programmable Features 2024 R1.02   \n",
      " Customization Files for User Programmable Features 2024 R1.03   \n",
      " LS-DYNA 2024 R1 \n",
      " LS-DYNA 2024 R1.01  \n",
      " LS-DYNA 2024 R1.02  \n",
      " LS-DYNA 2024 R1.03  \n",
      " Mechanical Products 2024 R1 \n",
      " Mechanical Products 2024 R1.01  \n",
      " Mechanical Products 2024 R1.02  \n",
      " Mechanical Products 2024 R1.03  \n",
      " Motion 2024 R1  \n",
      " Motion 2024 R1.01   \n",
      " Motion 2024 R1.02   \n",
      " Motion 2024 R1.03   \n",
      " Sherlock 2024 R1\n",
      " Sherlock 2024 R1.01 \n",
      " Sherlock 2024 R1.02 \n",
      " Sherlock 2024 R1.03 \n",
      " Sound - SAS 2024 R1 \n",
      " Sound - SAS 2024 R1.01  \n",
      " Sound - SAS 2024 R1.02  \n",
      " Sound - SAS 2024 R1.03  \n",
      "\n",
      "\n",
      "          *****  MAPDL COMMAND LINE ARGUMENTS  *****\n",
      "  BATCH MODE REQUESTED (-b)    = NOLIST\n",
      "  INPUT FILE COPY MODE (-c)    = COPY\n",
      "  DISTRIBUTED MEMORY PARALLEL REQUESTED\n",
      "       4 PARALLEL PROCESSES REQUESTED WITH SINGLE THREAD PER PROCESS\n",
      "    TOTAL OF     4 CORES REQUESTED\n",
      "  INPUT FILE NAME              = C:\\Users\\ansys\\AppData\\Local\\Temp\\WB_ansys_5796_2\\_ProjectScratch\\ScrB761\\dummy.dat\n",
      "  OUTPUT FILE NAME             = C:\\Users\\ansys\\AppData\\Local\\Temp\\WB_ansys_5796_2\\_ProjectScratch\\ScrB761\\solve.out\n",
      "  START-UP FILE MODE           = NOREAD\n",
      "  STOP FILE MODE               = NOREAD\n",
      "\n",
      " RELEASE= 2024 R1              BUILD= 24.1      UP20231106   VERSION=WINDOWS x64 \n",
      " CURRENT JOBNAME=file0  08:45:49  JUN 14, 2024 CP=      0.078\n",
      "\n",
      "\n",
      " PARAMETER _DS_PROGRESS =     999.0000000    \n",
      "\n",
      " /INPUT FILE= ds.dat  LINE=       0\n",
      "\n",
      "\n",
      "\n",
      " *** NOTE ***                            CP =       0.234   TIME= 08:45:49\n",
      " The /CONFIG,NOELDB command is not valid in a distributed memory         \n",
      " parallel solution.  Command is ignored.                                 \n",
      "\n",
      " *GET  _WALLSTRT  FROM  ACTI  ITEM=TIME WALL  VALUE=  8.76361111    \n",
      "\n",
      " TITLE= \n",
      " wbnew--Harmonic Response (G4)                                                 \n",
      "\n",
      "  ACT Extensions:\n",
      "      LSDYNA, 2024.1\n",
      "      5f463412-bd3e-484b-87e7-cbc0a665e474, wbex\n",
      " /COM,     ANSYSMotion, 2024.1\n",
      "      20180725-3f81-49eb-9f31-41364844c769, wbex\n",
      "  \n",
      "\n",
      " SET PARAMETER DIMENSIONS ON  _WB_PROJECTSCRATCH_DIR\n",
      "  TYPE=STRI  DIMENSIONS=      248        1        1\n",
      "\n",
      " PARAMETER _WB_PROJECTSCRATCH_DIR(1) = C:\\Users\\ansys\\AppData\\Local\\Temp\\WB_ansys_5796_2\\_ProjectScratch\\ScrB761\\\n",
      "\n",
      " SET PARAMETER DIMENSIONS ON  _WB_SOLVERFILES_DIR\n",
      "  TYPE=STRI  DIMENSIONS=      248        1        1\n",
      "\n",
      " PARAMETER _WB_SOLVERFILES_DIR(1) = C:\\Users\\ansys\\AppData\\Local\\Temp\\WB_ansys_5796_2\\wbnew_files\\dp0\\SYS-6\\MECH\\\n",
      "\n",
      " SET PARAMETER DIMENSIONS ON  _WB_USERFILES_DIR\n",
      "  TYPE=STRI  DIMENSIONS=      248        1        1\n",
      "\n",
      " PARAMETER _WB_USERFILES_DIR(1) = C:\\Users\\ansys\\AppData\\Local\\Temp\\WB_ansys_5796_2\\wbnew_files\\user_files\\\n",
      " --- Data in consistent NMM units. See Solving Units in the help system for more\n",
      "\n",
      " MPA UNITS SPECIFIED FOR INTERNAL    \n",
      "  LENGTH      = MILLIMETERS (mm)\n",
      "  MASS        = TONNE (Mg)\n",
      "  TIME        = SECONDS (sec)\n",
      "  TEMPERATURE = CELSIUS (C)\n",
      "  TOFFSET     = 273.0\n",
      "  FORCE       = NEWTON (N)\n",
      "  HEAT        = MILLIJOULES (mJ)\n",
      "\n",
      " INPUT  UNITS ARE ALSO SET TO MPA \n",
      "\n",
      " *** MAPDL - ENGINEERING ANALYSIS SYSTEM  RELEASE 2024 R1          24.1     ***\n",
      " Ansys Mechanical Enterprise                       \n",
      " 00000000  VERSION=WINDOWS x64   08:45:49  JUN 14, 2024 CP=      0.266\n",
      "\n",
      " wbnew--Harmonic Response (G4)                                                 \n",
      "\n",
      "\n",
      "\n",
      "          ***** MAPDL ANALYSIS DEFINITION (PREP7) *****\n",
      " *********** Nodes for the whole assembly ***********\n",
      " *********** Elements for Body 1 \"Solid Body 1(External Model)\" ***********\n",
      " *********** Elements for Body 2 \"Solid Body 2(External Model)\" ***********\n",
      " *********** Send User Defined Coordinate System(s) ***********\n",
      " *********** Set Reference Temperature ***********\n",
      " *********** Send Materials ***********\n",
      " *********** Create Contact \"Contacts(External Model) Index = 1\" ***********\n",
      "             Real Constant Set For Above Contact Is 4 & 3\n",
      " *********** Create Contact \"Contacts(External Model) Index = 2\" ***********\n",
      "             Real Constant Set For Above Contact Is 6 & 5\n",
      " *********** Send Named Selection as Node Component ***********\n",
      " *********** Send Named Selection as Node Component ***********\n",
      " *********** Send Named Selection as Node Component ***********\n",
      " *********** Send Named Selection as Element Component ***********\n",
      " *********** Send Named Selection as Node Component ***********\n",
      " *********** Define Pressure Using Surface Effect Elements \"Pressure\" **********\n",
      " *********** Create Pre-Meshed Cyclic Symmetry ***********\n",
      "\n",
      "\n",
      " ***** ROUTINE COMPLETED *****  CP =         2.391\n",
      "\n",
      "\n",
      " --- Number of total nodes = 40644\n",
      " --- Number of contact elements = 2930\n",
      " --- Number of spring elements = 0\n",
      " --- Number of bearing elements = 0\n",
      " --- Number of solid elements = 23239\n",
      " --- Number of condensed parts = 0\n",
      " --- Number of total elements = 26169\n",
      "\n",
      " *GET  _WALLBSOL  FROM  ACTI  ITEM=TIME WALL  VALUE=  8.76388889    \n",
      "\n",
      " *****  MAPDL SOLUTION ROUTINE  *****\n",
      "\n",
      "\n",
      " PERFORM A HARMONIC ANALYSIS\n",
      "  THIS WILL BE A NEW ANALYSIS\n",
      "\n",
      "\n",
      " PERFORM A FULL HARMONIC RESPONSE ANALYSIS\n",
      "\n",
      " THERMAL STRAINS ARE NOT INCLUDED IN THE LOAD VECTOR.\n",
      "\n",
      " STEP BOUNDARY CONDITION KEY= 1\n",
      "\n",
      " HARMONIC FREQUENCY RANGE - END=  5500.0      BEGIN=  1200.0    \n",
      "\n",
      " USE    20 SUBSTEP(S) THIS LOAD STEP FOR ALL  DEGREES OF FREEDOM\n",
      "\n",
      " STRUCTURAL DAMPING COEFFICIENT = 0.20000E-01\n",
      "\n",
      " ERASE THE CURRENT DATABASE OUTPUT CONTROL TABLE.\n",
      "\n",
      "\n",
      " WRITE ALL  ITEMS TO THE DATABASE WITH A FREQUENCY OF NONE\n",
      "   FOR ALL APPLICABLE ENTITIES\n",
      "\n",
      " WRITE NSOL ITEMS TO THE DATABASE WITH A FREQUENCY OF ALL \n",
      "   FOR ALL APPLICABLE ENTITIES\n",
      "\n",
      " WRITE EANG ITEMS TO THE DATABASE WITH A FREQUENCY OF ALL \n",
      "   FOR ALL APPLICABLE ENTITIES\n",
      "\n",
      " WRITE ETMP ITEMS TO THE DATABASE WITH A FREQUENCY OF ALL \n",
      "   FOR ALL APPLICABLE ENTITIES\n",
      "\n",
      " WRITE VENG ITEMS TO THE DATABASE WITH A FREQUENCY OF ALL \n",
      "   FOR ALL APPLICABLE ENTITIES\n",
      "\n",
      " WRITE STRS ITEMS TO THE DATABASE WITH A FREQUENCY OF ALL \n",
      "   FOR ALL APPLICABLE ENTITIES\n",
      "\n",
      " WRITE EPEL ITEMS TO THE DATABASE WITH A FREQUENCY OF ALL \n",
      "   FOR ALL APPLICABLE ENTITIES\n",
      "\n",
      " WRITE RSOL ITEMS TO THE DATABASE WITH A FREQUENCY OF ALL \n",
      "   FOR ALL APPLICABLE ENTITIES\n",
      "\n",
      " WRITE CONT ITEMS TO THE DATABASE WITH A FREQUENCY OF ALL \n",
      "   FOR ALL APPLICABLE ENTITIES\n",
      "\n",
      " *GET  ANSINTER_  FROM  ACTI  ITEM=INT        VALUE=  0.00000000    \n",
      "\n",
      " *IF  ANSINTER_                         ( =   0.00000     )  NE  \n",
      "      0                                 ( =   0.00000     )  THEN    \n",
      "\n",
      " *ENDIF\n",
      "\n",
      " *** NOTE ***                            CP =       3.250   TIME= 08:45:50\n",
      " The automatic domain decomposition logic has selected the FREQ domain   \n",
      " decomposition method with 1 processes per frequency solution.           \n",
      "\n",
      " *** SELECTION OF ELEMENT TECHNOLOGIES FOR APPLICABLE ELEMENTS ***\n",
      "      --- GIVE SUGGESTIONS AND RESET THE KEY OPTIONS ---\n",
      "\n",
      " ELEMENT TYPE         1 IS SOLID187. IT IS NOT ASSOCIATED WITH FULLY INCOMPRESSIBLE\n",
      " HYPERELASTIC MATERIALS. NO SUGGESTION IS AVAILABLE AND NO RESETTING IS NEEDED.\n",
      "\n",
      " ELEMENT TYPE         2 IS SOLID187. IT IS NOT ASSOCIATED WITH FULLY INCOMPRESSIBLE\n",
      " HYPERELASTIC MATERIALS. NO SUGGESTION IS AVAILABLE AND NO RESETTING IS NEEDED.\n",
      "\n",
      "\n",
      "\n",
      " *** WARNING ***                         CP =       6.469   TIME= 08:45:52\n",
      " Element shape checking is currently inactive.  Issue SHPP,ON or         \n",
      " SHPP,WARN to reactivate, if desired.                                    \n",
      "\n",
      " *** NOTE ***                            CP =       7.031   TIME= 08:45:52\n",
      " The model data was checked and warning messages were found.             \n",
      "  Please review output or errors file (                                  \n",
      " C:\\Users\\ansys\\AppData\\Local\\Temp\\WB_ansys_5796_2\\_ProjectScratch\\ScrB7 \n",
      " 761\\file0.err ) for these warning messages.                             \n",
      "\n",
      " GENERATE CYCLIC SYMMETRY CONSTRAINT EQUATIONS \n",
      "\n",
      " NUMBER OF CONSTRAINT EQUATIONS GENERATED=  6669\n",
      "   (USING THE MATCHED NODES ALGORITHM -- MAX NODE LOCATION ERROR = 0.78308E-02)\n",
      "\n",
      " *****  MAPDL SOLVE    COMMAND  *****\n",
      "\n",
      "\n",
      "\n",
      "   D I S T R I B U T E D   D O M A I N   D E C O M P O S E R\n",
      "\n",
      " ...Number of frequency solutions:  20\n",
      " ...Decompose to 4 frequency domains (with 1 processes per domain)\n",
      "\n",
      "\n",
      " *** SELECTION OF ELEMENT TECHNOLOGIES FOR APPLICABLE ELEMENTS ***\n",
      "      --- GIVE SUGGESTIONS AND RESET THE KEY OPTIONS ---\n",
      "\n",
      " ELEMENT TYPE         1 IS SOLID187. IT IS NOT ASSOCIATED WITH FULLY INCOMPRESSIBLE\n",
      " HYPERELASTIC MATERIALS. NO SUGGESTION IS AVAILABLE AND NO RESETTING IS NEEDED.\n",
      "\n",
      " ELEMENT TYPE         2 IS SOLID187. IT IS NOT ASSOCIATED WITH FULLY INCOMPRESSIBLE\n",
      " HYPERELASTIC MATERIALS. NO SUGGESTION IS AVAILABLE AND NO RESETTING IS NEEDED.\n",
      "\n",
      "\n",
      "\n",
      " *** MAPDL - ENGINEERING ANALYSIS SYSTEM  RELEASE 2024 R1          24.1     ***\n",
      " Ansys Mechanical Enterprise                       \n",
      " 00000000  VERSION=WINDOWS x64   08:45:53  JUN 14, 2024 CP=      9.906\n",
      "\n",
      " wbnew--Harmonic Response (G4)                                                 \n",
      "\n",
      "\n",
      "\n",
      "                       S O L U T I O N   O P T I O N S\n",
      "\n",
      "   PROBLEM DIMENSIONALITY. . . . . . . . . . . . .3-D                  \n",
      "   CYCLIC SYMMETRY SECTOR ANGLE. . . . . . . . . .   27.692     DEGREES\n",
      "   DEGREES OF FREEDOM. . . . . . UX   UY   UZ  \n",
      "   ANALYSIS TYPE . . . . . . . . . . . . . . . . .HARMONIC             \n",
      "      SOLUTION METHOD. . . . . . . . . . . . . . .FULL       \n",
      "   OFFSET TEMPERATURE FROM ABSOLUTE ZERO . . . . .  273.15    \n",
      "   THERMAL EXPANSION . . . . . . . . . . . . . . .OFF\n",
      "   COMPLEX DISPLACEMENT PRINT OPTION . . . . . . .REAL AND IMAGINARY       \n",
      "   GLOBALLY ASSEMBLED MATRIX . . . . . . . . . . .SYMMETRIC  \n",
      "\n",
      " *** WARNING ***                         CP =      10.094   TIME= 08:45:53\n",
      " Material number 7 (used by element 33548) should normally have at least \n",
      " one MP or one TB type command associated with it.  Output of energy by  \n",
      " material may not be available.                                          \n",
      "\n",
      " *** NOTE ***                            CP =      10.281   TIME= 08:45:53\n",
      " The step data was checked and warning messages were found.              \n",
      "  Please review output or errors file (                                  \n",
      " C:\\Users\\ansys\\AppData\\Local\\Temp\\WB_ansys_5796_2\\_ProjectScratch\\ScrB7 \n",
      " 761\\file0.err ) for these warning messages.                             \n",
      "\n",
      " *** NOTE ***                            CP =      10.281   TIME= 08:45:53\n",
      " The conditions for direct assembly have been met.  No .emat or .erot    \n",
      " files will be produced.                                                 \n",
      "\n",
      " *** NOTE ***                            CP =      11.344   TIME= 08:45:54\n",
      " Symmetric Deformable- deformable contact pair identified by real        \n",
      " constant set 3 and contact element type 3 has been set up.  The         \n",
      " companion pair has real constant set ID 5.  Both pairs should have the  \n",
      " same behavior.                                                          \n",
      " For asymmetric contact analysis, you may deactivate the current pair    \n",
      " and keep its companion pair.                                            \n",
      " Contact algorithm: Penalty method\n",
      " Contact detection at: Gauss integration point\n",
      " Contact stiffness factor FKN                  10.000    \n",
      " The resulting initial contact stiffness      0.27905E+08\n",
      " Default penetration tolerance factor FTOLN   0.10000    \n",
      " The resulting penetration tolerance          0.14334    \n",
      " Default opening contact stiffness OPSF will be used.\n",
      " Default tangent stiffness factor FKT          1.0000    \n",
      " Default elastic slip factor SLTOL            0.50000E-02\n",
      " The resulting elastic slip tolerance         0.92303E-02\n",
      " Update contact stiffness at each iteration\n",
      " Default Max. friction stress TAUMAX          0.10000E+21\n",
      " Average contact surface length                1.8461    \n",
      " Average contact pair depth                    1.4334    \n",
      " Average target surface length                 1.4202    \n",
      " Default pinball region factor PINB           0.25000    \n",
      " The resulting pinball region                 0.35836    \n",
      " Initial penetration/gap is excluded.\n",
      " Bonded contact (always) is defined.\n",
      "\n",
      " *** NOTE ***                            CP =      11.344   TIME= 08:45:54\n",
      " Min.  Initial gap 0.119687086 was detected between contact element      \n",
      " 32561 and target element 32831.                                         \n",
      " Contact is detected due to initial settings.                            \n",
      "  \n",
      " Max.  Geometric gap 0.136413796 has been detected between contact       \n",
      " element 32668 and target element 32894.                                 \n",
      " ****************************************\n",
      "  \n",
      "\n",
      " *** WARNING ***                         CP =      11.344   TIME= 08:45:54\n",
      " Material number 7 (used by element 33548) should normally have at least \n",
      " one MP or one TB type command associated with it.  Output of energy by  \n",
      " material may not be available.                                          \n",
      "\n",
      " *** WARNING ***                         CP =      11.344   TIME= 08:45:54\n",
      " Material number 7 (used by element 33548) should normally have at least \n",
      " one MP or one TB type command associated with it.  Output of energy by  \n",
      " material may not be available.                                          \n",
      "\n",
      " *** NOTE ***                            CP =      11.344   TIME= 08:45:54\n",
      " Symmetric Deformable- deformable contact pair identified by real        \n",
      " constant set 5 and contact element type 5 has been set up.  The         \n",
      " companion pair has real constant set ID 3.  Both pairs should have the  \n",
      " same behavior.                                                          \n",
      " For asymmetric contact analysis, you may keep the current pair and      \n",
      " deactivate its companion pair.                                          \n",
      " Contact algorithm: Penalty method\n",
      " Contact detection at: Gauss integration point\n",
      " Contact stiffness factor FKN                  10.000    \n",
      " The resulting initial contact stiffness      0.27905E+08\n",
      " Default penetration tolerance factor FTOLN   0.10000    \n",
      " The resulting penetration tolerance          0.11335    \n",
      " Default opening contact stiffness OPSF will be used.\n",
      " Default tangent stiffness factor FKT          1.0000    \n",
      " Default elastic slip factor SLTOL            0.50000E-02\n",
      " The resulting elastic slip tolerance         0.71970E-02\n",
      " Update contact stiffness at each iteration\n",
      " Default Max. friction stress TAUMAX          0.10000E+21\n",
      " Average contact surface length                1.4394    \n",
      " Average contact pair depth                    1.1335    \n",
      " Average target surface length                 1.8316    \n",
      " Default pinball region factor PINB           0.25000    \n",
      " The resulting pinball region                 0.28337    \n",
      " Initial penetration/gap is excluded.\n",
      " Bonded contact (always) is defined.\n",
      "\n",
      " *** NOTE ***                            CP =      11.344   TIME= 08:45:54\n",
      " Min.  Initial gap 0.121762256 was detected between contact element      \n",
      " 32999 and target element 33214.                                         \n",
      " Contact is detected due to initial settings.                            \n",
      "  \n",
      " Max.  Geometric gap 0.136856675 has been detected between contact       \n",
      " element 33059 and target element 33401.                                 \n",
      " ****************************************\n",
      "  \n",
      "\n",
      " *** WARNING ***                         CP =      11.344   TIME= 08:45:54\n",
      " Material number 7 (used by element 33548) should normally have at least \n",
      " one MP or one TB type command associated with it.  Output of energy by  \n",
      " material may not be available.                                          \n",
      "\n",
      " *** NOTE ***                            CP =      11.344   TIME= 08:45:54\n",
      " Symmetric Deformable- deformable contact pair identified by real        \n",
      " constant set 10 and contact element type 3 has been set up.  The        \n",
      " companion pair has real constant set ID 12.  Both pairs should have     \n",
      " the same behavior.                                                      \n",
      " For asymmetric contact analysis, you may deactivate the current pair    \n",
      " and keep its companion pair.                                            \n",
      " Contact algorithm: Penalty method\n",
      " Contact detection at: Gauss integration point\n",
      " Contact stiffness factor FKN                  10.000    \n",
      " The resulting initial contact stiffness      0.27905E+08\n",
      " Default penetration tolerance factor FTOLN   0.10000    \n",
      " The resulting penetration tolerance          0.14334    \n",
      " Default opening contact stiffness OPSF will be used.\n",
      " Default tangent stiffness factor FKT          1.0000    \n",
      " Default elastic slip factor SLTOL            0.50000E-02\n",
      " The resulting elastic slip tolerance         0.92303E-02\n",
      " Update contact stiffness at each iteration\n",
      " Default Max. friction stress TAUMAX          0.10000E+21\n",
      " Average contact surface length                1.8461    \n",
      " Average contact pair depth                    1.4334    \n",
      " Average target surface length                 1.4202    \n",
      " Default pinball region factor PINB           0.25000    \n",
      " The resulting pinball region                 0.35836    \n",
      " Initial penetration/gap is excluded.\n",
      " Bonded contact (always) is defined.\n",
      "\n",
      " *** NOTE ***                            CP =      11.344   TIME= 08:45:54\n",
      " Min.  Initial gap 0.119687086 was detected between contact element      \n",
      " 67902 and target element 68172.                                         \n",
      " Contact is detected due to initial settings.                            \n",
      "  \n",
      " Max.  Geometric gap 0.136413796 has been detected between contact       \n",
      " element 68009 and target element 68235.                                 \n",
      " ****************************************\n",
      "  \n",
      "\n",
      " *** NOTE ***                            CP =      11.344   TIME= 08:45:54\n",
      " Symmetric Deformable- deformable contact pair identified by real        \n",
      " constant set 12 and contact element type 5 has been set up.  The        \n",
      " companion pair has real constant set ID 10.  Both pairs should have     \n",
      " the same behavior.                                                      \n",
      " For asymmetric contact analysis, you may keep the current pair and      \n",
      " deactivate its companion pair.                                          \n",
      " Contact algorithm: Penalty method\n",
      " Contact detection at: Gauss integration point\n",
      " Contact stiffness factor FKN                  10.000    \n",
      " The resulting initial contact stiffness      0.27905E+08\n",
      " Default penetration tolerance factor FTOLN   0.10000    \n",
      " The resulting penetration tolerance          0.11335    \n",
      " Default opening contact stiffness OPSF will be used.\n",
      " Default tangent stiffness factor FKT          1.0000    \n",
      " Default elastic slip factor SLTOL            0.50000E-02\n",
      " The resulting elastic slip tolerance         0.71970E-02\n",
      " Update contact stiffness at each iteration\n",
      " Default Max. friction stress TAUMAX          0.10000E+21\n",
      " Average contact surface length                1.4394    \n",
      " Average contact pair depth                    1.1335    \n",
      " Average target surface length                 1.8316    \n",
      " Default pinball region factor PINB           0.25000    \n",
      " The resulting pinball region                 0.28337    \n",
      " Initial penetration/gap is excluded.\n",
      " Bonded contact (always) is defined.\n",
      "\n",
      " *** NOTE ***                            CP =      11.344   TIME= 08:45:54\n",
      " Min.  Initial gap 0.121762256 was detected between contact element      \n",
      " 68340 and target element 68555.                                         \n",
      " Contact is detected due to initial settings.                            \n",
      "  \n",
      " Max.  Geometric gap 0.136856675 has been detected between contact       \n",
      " element 68400 and target element 68742.                                 \n",
      " ****************************************\n",
      "  \n",
      "  \n",
      "  \n",
      "\n",
      "                      L O A D   S T E P   O P T I O N S\n",
      "\n",
      "   LOAD STEP NUMBER. . . . . . . . . . . . . . . .     1\n",
      "   CYCLIC SYMMETRY HARMONIC INDEX. . . . . . . . .     0\n",
      "   FREQUENCY RANGE . . . . . . . . . . . . . . . .  1200.0     TO   5500.0    \n",
      "   NUMBER OF SUBSTEPS. . . . . . . . . . . . . . .    20\n",
      "   STEP CHANGE BOUNDARY CONDITIONS . . . . . . . .   YES\n",
      "   STRUCTURAL DAMPING COEFFICIENT. . . . . . . . . 0.20000E-01\n",
      "   PRINT OUTPUT CONTROLS . . . . . . . . . . . . .NO PRINTOUT\n",
      "   DATABASE OUTPUT CONTROLS\n",
      "      ITEM     FREQUENCY   COMPONENT\n",
      "       ALL       NONE               \n",
      "      NSOL        ALL               \n",
      "      EANG        ALL               \n",
      "      ETMP        ALL               \n",
      "      VENG        ALL               \n",
      "      STRS        ALL               \n",
      "      EPEL        ALL               \n",
      "      RSOL        ALL               \n",
      "      CONT        ALL               \n",
      "\n",
      "\n",
      " *** NOTE ***                            CP =      14.234   TIME= 08:45:54\n",
      " Symmetric Deformable- deformable contact pair identified by real        \n",
      " constant set 3 and contact element type 3 has been set up.  The         \n",
      " companion pair has real constant set ID 5.  Both pairs should have the  \n",
      " same behavior.                                                          \n",
      " For asymmetric contact analysis, you may deactivate the current pair    \n",
      " and keep its companion pair.                                            \n",
      " Contact algorithm: Penalty method\n",
      " Contact detection at: Gauss integration point\n",
      " Contact stiffness factor FKN                  10.000    \n",
      " The resulting initial contact stiffness      0.27905E+08\n",
      " Default penetration tolerance factor FTOLN   0.10000    \n",
      " The resulting penetration tolerance          0.14334    \n",
      " Default opening contact stiffness OPSF will be used.\n",
      " Default tangent stiffness factor FKT          1.0000    \n",
      " Default elastic slip factor SLTOL            0.50000E-02\n",
      " The resulting elastic slip tolerance         0.92303E-02\n",
      " Update contact stiffness at each iteration\n",
      " Default Max. friction stress TAUMAX          0.10000E+21\n",
      " Average contact surface length                1.8461    \n",
      " Average contact pair depth                    1.4334    \n",
      " Average target surface length                 1.4202    \n",
      " Default pinball region factor PINB           0.25000    \n",
      " The resulting pinball region                 0.35836    \n",
      " Initial penetration/gap is excluded.\n",
      " Bonded contact (always) is defined.\n",
      "\n",
      " *** NOTE ***                            CP =      14.234   TIME= 08:45:54\n",
      " Min.  Initial gap 0.119687086 was detected between contact element      \n",
      " 32561 and target element 32831.                                         \n",
      " Contact is detected due to initial settings.                            \n",
      "  \n",
      " Max.  Geometric gap 0.136413796 has been detected between contact       \n",
      " element 32668 and target element 32894.                                 \n",
      " ****************************************\n",
      "  \n",
      "\n",
      " *** NOTE ***                            CP =      14.234   TIME= 08:45:54\n",
      " Symmetric Deformable- deformable contact pair identified by real        \n",
      " constant set 5 and contact element type 5 has been set up.  The         \n",
      " companion pair has real constant set ID 3.  Both pairs should have the  \n",
      " same behavior.                                                          \n",
      " For asymmetric contact analysis, you may keep the current pair and      \n",
      " deactivate its companion pair.                                          \n",
      " Contact algorithm: Penalty method\n",
      " Contact detection at: Gauss integration point\n",
      " Contact stiffness factor FKN                  10.000    \n",
      " The resulting initial contact stiffness      0.27905E+08\n",
      " Default penetration tolerance factor FTOLN   0.10000    \n",
      " The resulting penetration tolerance          0.11335    \n",
      " Default opening contact stiffness OPSF will be used.\n",
      " Default tangent stiffness factor FKT          1.0000    \n",
      " Default elastic slip factor SLTOL            0.50000E-02\n",
      " The resulting elastic slip tolerance         0.71970E-02\n",
      " Update contact stiffness at each iteration\n",
      " Default Max. friction stress TAUMAX          0.10000E+21\n",
      " Average contact surface length                1.4394    \n",
      " Average contact pair depth                    1.1335    \n",
      " Average target surface length                 1.8316    \n",
      " Default pinball region factor PINB           0.25000    \n",
      " The resulting pinball region                 0.28337    \n",
      " Initial penetration/gap is excluded.\n",
      " Bonded contact (always) is defined.\n",
      "\n",
      " *** NOTE ***                            CP =      14.234   TIME= 08:45:54\n",
      " Min.  Initial gap 0.121762256 was detected between contact element      \n",
      " 32999 and target element 33214.                                         \n",
      " Contact is detected due to initial settings.                            \n",
      "  \n",
      " Max.  Geometric gap 0.136856675 has been detected between contact       \n",
      " element 33059 and target element 33401.                                 \n",
      " ****************************************\n",
      "  \n",
      "\n",
      " *** NOTE ***                            CP =      14.234   TIME= 08:45:54\n",
      " Symmetric Deformable- deformable contact pair identified by real        \n",
      " constant set 10 and contact element type 3 has been set up.  The        \n",
      " companion pair has real constant set ID 12.  Both pairs should have     \n",
      " the same behavior.                                                      \n",
      " For asymmetric contact analysis, you may deactivate the current pair    \n",
      " and keep its companion pair.                                            \n",
      " Contact algorithm: Penalty method\n",
      " Contact detection at: Gauss integration point\n",
      " Contact stiffness factor FKN                  10.000    \n",
      " The resulting initial contact stiffness      0.27905E+08\n",
      " Default penetration tolerance factor FTOLN   0.10000    \n",
      " The resulting penetration tolerance          0.14334    \n",
      " Default opening contact stiffness OPSF will be used.\n",
      " Default tangent stiffness factor FKT          1.0000    \n",
      " Default elastic slip factor SLTOL            0.50000E-02\n",
      " The resulting elastic slip tolerance         0.92303E-02\n",
      " Update contact stiffness at each iteration\n",
      " Default Max. friction stress TAUMAX          0.10000E+21\n",
      " Average contact surface length                1.8461    \n",
      " Average contact pair depth                    1.4334    \n",
      " Average target surface length                 1.4202    \n",
      " Default pinball region factor PINB           0.25000    \n",
      " The resulting pinball region                 0.35836    \n",
      " Initial penetration/gap is excluded.\n",
      " Bonded contact (always) is defined.\n",
      "\n",
      " *** NOTE ***                            CP =      14.234   TIME= 08:45:54\n",
      " Min.  Initial gap 0.119687086 was detected between contact element      \n",
      " 67902 and target element 68172.                                         \n",
      " Contact is detected due to initial settings.                            \n",
      "  \n",
      " Max.  Geometric gap 0.136413796 has been detected between contact       \n",
      " element 68009 and target element 68235.                                 \n",
      " ****************************************\n",
      "  \n",
      "\n",
      " *** NOTE ***                            CP =      14.234   TIME= 08:45:54\n",
      " Symmetric Deformable- deformable contact pair identified by real        \n",
      " constant set 12 and contact element type 5 has been set up.  The        \n",
      " companion pair has real constant set ID 10.  Both pairs should have     \n",
      " the same behavior.                                                      \n",
      " For asymmetric contact analysis, you may keep the current pair and      \n",
      " deactivate its companion pair.                                          \n",
      " Contact algorithm: Penalty method\n",
      " Contact detection at: Gauss integration point\n",
      " Contact stiffness factor FKN                  10.000    \n",
      " The resulting initial contact stiffness      0.27905E+08\n",
      " Default penetration tolerance factor FTOLN   0.10000    \n",
      " The resulting penetration tolerance          0.11335    \n",
      " Default opening contact stiffness OPSF will be used.\n",
      " Default tangent stiffness factor FKT          1.0000    \n",
      " Default elastic slip factor SLTOL            0.50000E-02\n",
      " The resulting elastic slip tolerance         0.71970E-02\n",
      " Update contact stiffness at each iteration\n",
      " Default Max. friction stress TAUMAX          0.10000E+21\n",
      " Average contact surface length                1.4394    \n",
      " Average contact pair depth                    1.1335    \n",
      " Average target surface length                 1.8316    \n",
      " Default pinball region factor PINB           0.25000    \n",
      " The resulting pinball region                 0.28337    \n",
      " Initial penetration/gap is excluded.\n",
      " Bonded contact (always) is defined.\n",
      "\n",
      " *** NOTE ***                            CP =      14.234   TIME= 08:45:54\n",
      " Min.  Initial gap 0.121762256 was detected between contact element      \n",
      " 68340 and target element 68555.                                         \n",
      " Contact is detected due to initial settings.                            \n",
      "  \n",
      " Max.  Geometric gap 0.136856675 has been detected between contact       \n",
      " element 68400 and target element 68742.                                 \n",
      " ****************************************\n",
      "  \n",
      "\n",
      "\n",
      "\n",
      "            **** CENTER OF MASS, MASS, AND MASS MOMENTS OF INERTIA ****\n",
      "\n",
      "  CALCULATIONS ASSUME ELEMENT MASS AT ELEMENT CENTROID\n",
      "\n",
      "  TOTAL MASS =  0.38387E-03\n",
      "\n",
      "                           MOM. OF INERTIA         MOM. OF INERTIA\n",
      "  CENTER OF MASS            ABOUT ORIGIN        ABOUT CENTER OF MASS\n",
      "\n",
      "  XC =   36.912          IXX =    5.701          IXX =   0.7970E-01\n",
      "  YC =   117.35          IYY =    1.140          IYY =   0.2817    \n",
      "  ZC =   29.541          IZZ =    6.082          IZZ =   0.2729    \n",
      "                         IXY =   -1.699          IXY =  -0.3613E-01\n",
      "                         IYZ =   -1.329          IYZ =   0.1306E-02\n",
      "                         IZX =  -0.4730          IZX =  -0.5439E-01\n",
      "\n",
      "\n",
      "  *** MASS SUMMARY BY ELEMENT TYPE ***\n",
      "\n",
      "  TYPE      MASS\n",
      "     1  0.190222E-03\n",
      "     2  0.193645E-03\n",
      "\n",
      " Range of element maximum matrix coefficients in global coordinates\n",
      " Maximum = 9031711.02 at element 67895.                                  \n",
      " Minimum = 40118.4069 at element 49928.                                  \n",
      "\n",
      "   *** ELEMENT MATRIX FORMULATION TIMES\n",
      "     TYPE    NUMBER   ENAME      TOTAL CP  AVE CP\n",
      "\n",
      "        1     24706  SOLID187      3.750   0.000152\n",
      "        2     21772  SOLID187      3.188   0.000146\n",
      "        3       806  CONTA174      0.219   0.000271\n",
      "        4       330  TARGE170      0.016   0.000047\n",
      "        5       330  CONTA174      0.203   0.000616\n",
      "        6       806  TARGE170      0.000   0.000000\n",
      "        7      3588  SURF154       0.234   0.000065\n",
      " Time at end of element matrix formulation CP = 22.734375.               \n",
      "\n",
      " *** NOTE ***                            CP =      24.203   TIME= 08:46:04\n",
      " The initial memory allocation (-m) has been exceeded.                   \n",
      "  Supplemental memory allocations are being used.                        \n",
      "\n",
      " SPARSE MATRIX DIRECT SOLVER.\n",
      "  Number of equations =      229620,    Maximum wavefront =    276\n",
      "  Memory allocated for solver              =  2531.406 MB\n",
      "  Memory required for in-core solution     =  2421.917 MB\n",
      "  Memory required for out-of-core solution =   701.570 MB\n",
      "\n",
      " *** NOTE ***                            CP =      27.031   TIME= 08:46:07\n",
      " The Sparse Matrix Solver is currently running in the in-core memory     \n",
      " mode.  This memory mode uses the most amount of memory in order to      \n",
      " avoid using the hard drive as much as possible, which most often        \n",
      " results in the fastest solution time.  This mode is recommended if      \n",
      " enough physical memory is present to accommodate all of the solver      \n",
      " data.                                                                   \n",
      " Sparse solver maximum pivot= 17281797.7 at node 27603 UY.               \n",
      " Sparse solver minimum pivot= 10088.7419 at node 1358 UY.                \n",
      " Sparse solver minimum pivot in absolute value= 10088.7419 at node 1358  \n",
      " UY.                                                                     \n",
      "\n",
      "   *** ELEMENT RESULT CALCULATION TIMES\n",
      "     TYPE    NUMBER   ENAME      TOTAL CP  AVE CP\n",
      "\n",
      "        1     24706  SOLID187      3.328   0.000135\n",
      "        2     21772  SOLID187      2.734   0.000126\n",
      "        3       806  CONTA174      0.094   0.000116\n",
      "        5       330  CONTA174      0.047   0.000142\n",
      "        7      3588  SURF154       0.188   0.000052\n",
      "\n",
      "   *** NODAL LOAD CALCULATION TIMES\n",
      "     TYPE    NUMBER   ENAME      TOTAL CP  AVE CP\n",
      "\n",
      "        1     24706  SOLID187      0.906   0.000037\n",
      "        2     21772  SOLID187      0.672   0.000031\n",
      "        3       806  CONTA174      0.016   0.000019\n",
      "        5       330  CONTA174      0.000   0.000000\n",
      "        7      3588  SURF154       0.109   0.000030\n",
      " *** LOAD STEP     1   SUBSTEP     1  COMPLETED.  FREQUENCY=   1415.00    \n",
      " *** LOAD STEP     1   SUBSTEP     2  COMPLETED.  FREQUENCY=   1630.00    \n",
      " *** LOAD STEP     1   SUBSTEP     3  COMPLETED.  FREQUENCY=   1845.00    \n",
      " *** LOAD STEP     1   SUBSTEP     4  COMPLETED.  FREQUENCY=   2060.00    \n",
      " *** LOAD STEP     1   SUBSTEP     5  COMPLETED.  FREQUENCY=   2275.00    \n",
      " *** LOAD STEP     1   SUBSTEP     6  COMPLETED.  FREQUENCY=   2490.00    \n",
      " *** LOAD STEP     1   SUBSTEP     7  COMPLETED.  FREQUENCY=   2705.00    \n",
      " *** LOAD STEP     1   SUBSTEP     8  COMPLETED.  FREQUENCY=   2920.00    \n",
      " *** LOAD STEP     1   SUBSTEP     9  COMPLETED.  FREQUENCY=   3135.00    \n",
      " *** LOAD STEP     1   SUBSTEP    10  COMPLETED.  FREQUENCY=   3350.00    \n",
      " *** LOAD STEP     1   SUBSTEP    11  COMPLETED.  FREQUENCY=   3565.00    \n",
      " *** LOAD STEP     1   SUBSTEP    12  COMPLETED.  FREQUENCY=   3780.00    \n",
      " *** LOAD STEP     1   SUBSTEP    13  COMPLETED.  FREQUENCY=   3995.00    \n",
      " *** LOAD STEP     1   SUBSTEP    14  COMPLETED.  FREQUENCY=   4210.00    \n",
      " *** LOAD STEP     1   SUBSTEP    15  COMPLETED.  FREQUENCY=   4425.00    \n",
      " *** LOAD STEP     1   SUBSTEP    16  COMPLETED.  FREQUENCY=   4640.00    \n",
      " *** LOAD STEP     1   SUBSTEP    17  COMPLETED.  FREQUENCY=   4855.00    \n",
      " *** LOAD STEP     1   SUBSTEP    18  COMPLETED.  FREQUENCY=   5070.00    \n",
      " *** LOAD STEP     1   SUBSTEP    19  COMPLETED.  FREQUENCY=   5285.00    \n",
      " *** LOAD STEP     1   SUBSTEP    20  COMPLETED.  FREQUENCY=   5500.00    \n",
      "\n",
      "\n",
      " *** MAPDL BINARY FILE STATISTICS\n",
      "  BUFFER SIZE USED= 16384\n",
      "       24.000 MB WRITTEN ON ELEMENT SAVED DATA FILE: file0.esav\n",
      "      192.062 MB WRITTEN ON ASSEMBLED MATRIX FILE: file0.full\n",
      "      197.125 MB WRITTEN ON RESULTS FILE: file0.rst\n",
      " *************** Write FE CONNECTORS *********\n",
      "\n",
      " WRITE OUT CONSTRAINT EQUATIONS TO FILE= file.ce                                                                                                                                                                                                                                                             \n",
      " ************ Write Pre-Meshed Cyclic Pairs ************\n",
      "\n",
      " *GET  NUM_PAIRS  FROM  PARM  CYCLIC_XREF_N  ITEM=DIM  2     VALUE=  4446.00000    \n",
      "\n",
      " *IF  num_pairs                         ( =   4446.00     )  NE  \n",
      "      0                                 ( =   0.00000     )  THEN    \n",
      "\n",
      " OPENED FILE= cyclic_map.json FOR COMMAND FILE DATA \n",
      "\n",
      "\n",
      " *DO LOOP ON PARAMETER= I FROM  1.0000     TO  4446.0     BY  1.0000    \n",
      "\n",
      " *ENDDO  INDEX= I                               \n",
      "\n",
      "  COMMAND FILE CLOSED \n",
      "\n",
      "\n",
      " *ENDIF\n",
      "\n",
      " FINISH SOLUTION PROCESSING\n",
      "\n",
      " *** WARNING ***                         CP =     232.422   TIME= 08:49:33\n",
      " An error has occurred writing to file unit = 12 which may imply a full  \n",
      " disk.                                                                   \n",
      " The system I/O error = 28.  Please refer to your system documentation   \n",
      " on I/O errors.                                                          \n",
      "                                                                         \n",
      "                                                                         \n",
      "\n",
      "\n",
      "\n",
      " **********  CURRENT DISK AND DIRECTORY USAGE  **********\n",
      "\n",
      " Volume in drive C is Windows\n",
      " Volume Serial Number is A6EA-85DD\n",
      "\n",
      " Directory of C:\\Users\\ansys\\AppData\\Local\\Temp\\WB_ansys_5796_2\\_ProjectScratch\\ScrB761\n",
      "\n",
      "06/14/2024  08:49 AM    <DIR>          .\n",
      "06/14/2024  08:49 AM    <DIR>          ..\n",
      "06/14/2024  08:45 AM           174,881 CAERep.xml\n",
      "06/14/2024  08:45 AM               327 cleanup-ansys-pyworkbench-1744.bat\n",
      "06/14/2024  08:49 AM           111,156 cyclic_map.json\n",
      "06/14/2024  08:45 AM         7,869,212 ds.dat\n",
      "06/14/2024  08:49 AM                25 ds_file.stat\n",
      "06/14/2024  08:45 AM               115 ds_file.xml\n",
      "06/14/2024  08:45 AM                70 dummy.dat\n",
      "06/14/2024  08:49 AM                80 file.ce\n",
      "06/14/2024  08:45 AM                 0 file.lock\n",
      "06/14/2024  08:49 AM                 0 file.rst\n",
      "06/14/2024  08:45 AM                78 file0.bat\n",
      "06/14/2024  08:49 AM            13,294 file0.DSP\n",
      "06/14/2024  08:49 AM             2,048 file0.err\n",
      "06/14/2024  08:49 AM        25,165,824 file0.esav\n",
      "06/14/2024  08:49 AM       201,392,128 file0.full\n",
      "06/14/2024  08:45 AM                 0 file0.log\n",
      "06/14/2024  08:45 AM                 0 file0.page\n",
      "06/14/2024  08:49 AM       206,700,544 file0.rst\n",
      "06/14/2024  08:49 AM               154 file0.stat\n",
      "06/14/2024  08:45 AM               314 file0WBINFO.xml\n",
      "06/14/2024  08:48 AM            13,294 file1.DSP\n",
      "06/14/2024  08:45 AM               383 file1.err\n",
      "06/14/2024  08:49 AM        25,165,824 file1.esav\n",
      "06/14/2024  08:49 AM       201,392,128 file1.full\n",
      "06/14/2024  08:45 AM                 0 file1.log\n",
      "06/14/2024  08:45 AM                 2 file1.out\n",
      "06/14/2024  08:45 AM                 0 file1.page\n",
      "06/14/2024  08:49 AM       206,700,544 file1.rst\n",
      "06/14/2024  08:48 AM               154 file1.stat\n",
      "06/14/2024  08:48 AM            13,294 file2.DSP\n",
      "06/14/2024  08:45 AM               383 file2.err\n",
      "06/14/2024  08:49 AM        25,165,824 file2.esav\n",
      "06/14/2024  08:49 AM       201,392,128 file2.full\n",
      "06/14/2024  08:45 AM                 0 file2.log\n",
      "06/14/2024  08:45 AM                 2 file2.out\n",
      "06/14/2024  08:45 AM                 0 file2.page\n",
      "06/14/2024  08:49 AM       206,700,544 file2.rst\n",
      "06/14/2024  08:48 AM               154 file2.stat\n",
      "06/14/2024  08:48 AM            13,294 file3.DSP\n",
      "06/14/2024  08:45 AM               383 file3.err\n",
      "06/14/2024  08:49 AM        25,165,824 file3.esav\n",
      "06/14/2024  08:49 AM       201,392,128 file3.full\n",
      "06/14/2024  08:45 AM                 0 file3.log\n",
      "06/14/2024  08:45 AM                 2 file3.out\n",
      "06/14/2024  08:45 AM                 0 file3.page\n",
      "06/14/2024  08:49 AM       206,700,544 file3.rst\n",
      "06/14/2024  08:48 AM               154 file3.stat\n",
      "06/14/2024  08:45 AM            29,089 MatML.xml\n",
      "06/14/2024  08:45 AM               641 SecInput.txt\n",
      "06/14/2024  08:45 AM                 2 solve.out\n",
      "              50 File(s)  1,741,276,969 bytes\n",
      "               2 Dir(s)               0 bytes free\n",
      "\n",
      " *** FATAL ***\n",
      " Random write error on file unit=     12 possible full disk.\n",
      " I/O status error=     28\n",
      "\n",
      " ************************************************************************\n",
      " The above error is non-recoverable.\n",
      " MAPDL run terminated by the indicated error\n",
      " ************************************************************************\n"
     ]
    },
    {
     "name": "stderr",
     "output_type": "stream",
     "text": [
      "\n"
     ]
    }
   ],
   "source": [
    "current_working_directory = os.getcwd()\n",
    "mechanical.download(solve_out_path, target_dir=current_working_directory)\n",
    "solve_out_local_path = os.path.join(current_working_directory, \"solve.out\")\n",
    "write_file_contents_to_console(solve_out_local_path)\n",
    "os.remove(solve_out_local_path)"
   ]
  },
  {
   "cell_type": "markdown",
   "id": "9860aa0e",
   "metadata": {},
   "source": [
    "Specify the Mechanical directory path for images and run a script to fetch the directory path. \n",
    "The path where images are stored on the server is printed. \n",
    "Download an image file (`deformation.png`) from the server to the client's current working directory and display it using `matplotlib`."
   ]
  },
  {
   "cell_type": "code",
   "execution_count": 14,
   "id": "0e079d86",
   "metadata": {
    "execution": {
     "iopub.execute_input": "2024-06-14T08:49:39.499256Z",
     "iopub.status.busy": "2024-06-14T08:49:39.499256Z",
     "iopub.status.idle": "2024-06-14T08:49:39.507265Z",
     "shell.execute_reply": "2024-06-14T08:49:39.507265Z"
    }
   },
   "outputs": [],
   "source": [
    "from matplotlib import image as mpimg\n",
    "from matplotlib import pyplot as plt"
   ]
  },
  {
   "cell_type": "code",
   "execution_count": 15,
   "id": "5479b8c7",
   "metadata": {
    "execution": {
     "iopub.execute_input": "2024-06-14T08:49:39.507265Z",
     "iopub.status.busy": "2024-06-14T08:49:39.507265Z",
     "iopub.status.idle": "2024-06-14T08:49:39.522464Z",
     "shell.execute_reply": "2024-06-14T08:49:39.522464Z"
    },
    "lines_to_next_cell": 1
   },
   "outputs": [
    {
     "name": "stdout",
     "output_type": "stream",
     "text": [
      "Images are stored on the server at: C:\\Users\\ansys\\AppData\\Local\\Temp\\WB_ansys_5796_2\\wbnew_files\\dp0\\SYS-6\\MECH\\\n"
     ]
    }
   ],
   "source": [
    "mechanical.run_python_script(f\"image_dir=ExtAPI.DataModel.AnalysisList[5].WorkingDir\")\n",
    "result_image_dir_server = mechanical.run_python_script(f\"image_dir\")\n",
    "print(f\"Images are stored on the server at: {result_image_dir_server}\")"
   ]
  },
  {
   "cell_type": "code",
   "execution_count": 16,
   "id": "a02c8fb8",
   "metadata": {
    "execution": {
     "iopub.execute_input": "2024-06-14T08:49:39.522464Z",
     "iopub.status.busy": "2024-06-14T08:49:39.522464Z",
     "iopub.status.idle": "2024-06-14T08:49:39.529486Z",
     "shell.execute_reply": "2024-06-14T08:49:39.529486Z"
    },
    "lines_to_next_cell": 1
   },
   "outputs": [],
   "source": [
    "def get_image_path(image_name):\n",
    "    return os.path.join(result_image_dir_server, image_name)"
   ]
  },
  {
   "cell_type": "code",
   "execution_count": 17,
   "id": "5b80b002",
   "metadata": {
    "execution": {
     "iopub.execute_input": "2024-06-14T08:49:39.529486Z",
     "iopub.status.busy": "2024-06-14T08:49:39.529486Z",
     "iopub.status.idle": "2024-06-14T08:49:39.537898Z",
     "shell.execute_reply": "2024-06-14T08:49:39.537898Z"
    },
    "lines_to_next_cell": 1
   },
   "outputs": [],
   "source": [
    "def display_image(path):\n",
    "    print(f\"Printing {path} using matplotlib\")\n",
    "    image1 = mpimg.imread(path)\n",
    "    plt.figure(figsize=(15, 15))\n",
    "    plt.axis(\"off\")\n",
    "    plt.imshow(image1)\n",
    "    plt.show()"
   ]
  },
  {
   "cell_type": "code",
   "execution_count": 18,
   "id": "83291ea8",
   "metadata": {
    "execution": {
     "iopub.execute_input": "2024-06-14T08:49:39.537898Z",
     "iopub.status.busy": "2024-06-14T08:49:39.537898Z",
     "iopub.status.idle": "2024-06-14T08:49:39.545414Z",
     "shell.execute_reply": "2024-06-14T08:49:39.545414Z"
    }
   },
   "outputs": [],
   "source": [
    "image_name = \"deformation.png\"\n",
    "image_path_server = get_image_path(image_name)"
   ]
  },
  {
   "cell_type": "code",
   "execution_count": 19,
   "id": "b4f2ceb2",
   "metadata": {
    "execution": {
     "iopub.execute_input": "2024-06-14T08:49:39.545414Z",
     "iopub.status.busy": "2024-06-14T08:49:39.545414Z",
     "iopub.status.idle": "2024-06-14T08:49:39.867169Z",
     "shell.execute_reply": "2024-06-14T08:49:39.867169Z"
    }
   },
   "outputs": [
    {
     "name": "stderr",
     "output_type": "stream",
     "text": [
      "\r",
      "Downloading dns:///127.0.0.1:62741:C:\\Users\\ansys\\AppData\\Local\\Temp\\WB_ansys_5796_2\\wbnew_files\\dp0\\SYS-6\\MECH\\deformation.png to C:\\Users\\ansys\\actions-runner\\_work\\pyworkbench-examples\\pyworkbench-examples\\pyworkbench-examples\\doc\\source\\examples\\cyclic-symmetry-analysis\\deformation.png:   0%|          | 0.00/12.0k [00:00<?, ?B/s]"
     ]
    },
    {
     "name": "stderr",
     "output_type": "stream",
     "text": [
      "\r",
      "Downloading dns:///127.0.0.1:62741:C:\\Users\\ansys\\AppData\\Local\\Temp\\WB_ansys_5796_2\\wbnew_files\\dp0\\SYS-6\\MECH\\deformation.png to C:\\Users\\ansys\\actions-runner\\_work\\pyworkbench-examples\\pyworkbench-examples\\pyworkbench-examples\\doc\\source\\examples\\cyclic-symmetry-analysis\\deformation.png: 100%|██████████| 12.0k/12.0k [00:00<?, ?B/s]"
     ]
    },
    {
     "name": "stderr",
     "output_type": "stream",
     "text": [
      "\n"
     ]
    },
    {
     "name": "stdout",
     "output_type": "stream",
     "text": [
      "Local image path : C:\\Users\\ansys\\actions-runner\\_work\\pyworkbench-examples\\pyworkbench-examples\\pyworkbench-examples\\doc\\source\\examples\\cyclic-symmetry-analysis\\deformation.png\n",
      "Printing C:\\Users\\ansys\\actions-runner\\_work\\pyworkbench-examples\\pyworkbench-examples\\pyworkbench-examples\\doc\\source\\examples\\cyclic-symmetry-analysis\\deformation.png using matplotlib\n"
     ]
    },
    {
     "data": {
      "image/png": "[encoded data removed]",
      "text/plain": [
       "<Figure size 1500x1500 with 1 Axes>"
      ]
     },
     "metadata": {},
     "output_type": "display_data"
    }
   ],
   "source": [
    "if image_path_server != \"\":\n",
    "    current_working_directory = os.getcwd()\n",
    "\n",
    "    local_file_path_list = mechanical.download(\n",
    "        image_path_server, target_dir=current_working_directory\n",
    "    )\n",
    "    image_local_path = local_file_path_list[0]\n",
    "    print(f\"Local image path : {image_local_path}\")\n",
    "    \n",
    "    display_image(image_local_path)"
   ]
  },
  {
   "cell_type": "markdown",
   "id": "217e5ccb",
   "metadata": {},
   "source": [
    "Download all the files from the server to the current working directory. \n",
    "Verify the source path for the directory and copy all files from the server to the client."
   ]
  },
  {
   "cell_type": "code",
   "execution_count": 20,
   "id": "70e4eb81",
   "metadata": {
    "execution": {
     "iopub.execute_input": "2024-06-14T08:49:39.867169Z",
     "iopub.status.busy": "2024-06-14T08:49:39.867169Z",
     "iopub.status.idle": "2024-06-14T08:49:39.880596Z",
     "shell.execute_reply": "2024-06-14T08:49:39.880596Z"
    }
   },
   "outputs": [
    {
     "name": "stdout",
     "output_type": "stream",
     "text": [
      "All solver files are stored on the server at: C:\\Users\\ansys\\AppData\\Local\\Temp\\WB_ansys_5796_2\\wbnew_files\\dp0\\SYS-6\\MECH\\\n"
     ]
    }
   ],
   "source": [
    "mechanical.run_python_script(f\"solve_dir=ExtAPI.DataModel.AnalysisList[5].WorkingDir\")\n",
    "result_solve_dir_server = mechanical.run_python_script(f\"solve_dir\")\n",
    "print(f\"All solver files are stored on the server at: {result_solve_dir_server}\")"
   ]
  },
  {
   "cell_type": "code",
   "execution_count": 21,
   "id": "eb168be7",
   "metadata": {
    "execution": {
     "iopub.execute_input": "2024-06-14T08:49:39.880596Z",
     "iopub.status.busy": "2024-06-14T08:49:39.880596Z",
     "iopub.status.idle": "2024-06-14T08:49:39.888486Z",
     "shell.execute_reply": "2024-06-14T08:49:39.888486Z"
    }
   },
   "outputs": [],
   "source": [
    "solve_out_path = os.path.join(result_solve_dir_server, \"*.*\")"
   ]
  },
  {
   "cell_type": "code",
   "execution_count": 22,
   "id": "b1570ffe",
   "metadata": {
    "execution": {
     "iopub.execute_input": "2024-06-14T08:49:39.888486Z",
     "iopub.status.busy": "2024-06-14T08:49:39.888486Z",
     "iopub.status.idle": "2024-06-14T08:49:42.073353Z",
     "shell.execute_reply": "2024-06-14T08:49:42.073353Z"
    }
   },
   "outputs": [
    {
     "name": "stderr",
     "output_type": "stream",
     "text": [
      "\r",
      "Downloading dns:///127.0.0.1:62741:C:\\Users\\ansys\\AppData\\Local\\Temp\\WB_ansys_5796_2\\wbnew_files\\dp0\\SYS-6\\MECH\\CAERep.xml to C:\\Users\\ansys\\actions-runner\\_work\\pyworkbench-examples\\pyworkbench-examples\\pyworkbench-examples\\doc\\source\\examples\\cyclic-symmetry-analysis\\CAERep.xml:   0%|          | 0.00/171k [00:00<?, ?B/s]"
     ]
    },
    {
     "name": "stderr",
     "output_type": "stream",
     "text": [
      "\r",
      "Downloading dns:///127.0.0.1:62741:C:\\Users\\ansys\\AppData\\Local\\Temp\\WB_ansys_5796_2\\wbnew_files\\dp0\\SYS-6\\MECH\\CAERep.xml to C:\\Users\\ansys\\actions-runner\\_work\\pyworkbench-examples\\pyworkbench-examples\\pyworkbench-examples\\doc\\source\\examples\\cyclic-symmetry-analysis\\CAERep.xml: 100%|██████████| 171k/171k [00:00<?, ?B/s]"
     ]
    },
    {
     "name": "stderr",
     "output_type": "stream",
     "text": [
      "\n"
     ]
    },
    {
     "name": "stderr",
     "output_type": "stream",
     "text": [
      "\r",
      "Downloading dns:///127.0.0.1:62741:C:\\Users\\ansys\\AppData\\Local\\Temp\\WB_ansys_5796_2\\wbnew_files\\dp0\\SYS-6\\MECH\\CAERepOutput.xml to C:\\Users\\ansys\\actions-runner\\_work\\pyworkbench-examples\\pyworkbench-examples\\pyworkbench-examples\\doc\\source\\examples\\cyclic-symmetry-analysis\\CAERepOutput.xml:   0%|          | 0.00/789 [00:00<?, ?B/s]"
     ]
    },
    {
     "name": "stderr",
     "output_type": "stream",
     "text": [
      "\r",
      "Downloading dns:///127.0.0.1:62741:C:\\Users\\ansys\\AppData\\Local\\Temp\\WB_ansys_5796_2\\wbnew_files\\dp0\\SYS-6\\MECH\\CAERepOutput.xml to C:\\Users\\ansys\\actions-runner\\_work\\pyworkbench-examples\\pyworkbench-examples\\pyworkbench-examples\\doc\\source\\examples\\cyclic-symmetry-analysis\\CAERepOutput.xml: 100%|██████████| 789/789 [00:00<?, ?B/s] "
     ]
    },
    {
     "name": "stderr",
     "output_type": "stream",
     "text": [
      "\n"
     ]
    },
    {
     "name": "stderr",
     "output_type": "stream",
     "text": [
      "\r",
      "Downloading dns:///127.0.0.1:62741:C:\\Users\\ansys\\AppData\\Local\\Temp\\WB_ansys_5796_2\\wbnew_files\\dp0\\SYS-6\\MECH\\cleanup-ansys-pyworkbench-1744.bat to C:\\Users\\ansys\\actions-runner\\_work\\pyworkbench-examples\\pyworkbench-examples\\pyworkbench-examples\\doc\\source\\examples\\cyclic-symmetry-analysis\\cleanup-ansys-pyworkbench-1744.bat:   0%|          | 0.00/327 [00:00<?, ?B/s]"
     ]
    },
    {
     "name": "stderr",
     "output_type": "stream",
     "text": [
      "\r",
      "Downloading dns:///127.0.0.1:62741:C:\\Users\\ansys\\AppData\\Local\\Temp\\WB_ansys_5796_2\\wbnew_files\\dp0\\SYS-6\\MECH\\cleanup-ansys-pyworkbench-1744.bat to C:\\Users\\ansys\\actions-runner\\_work\\pyworkbench-examples\\pyworkbench-examples\\pyworkbench-examples\\doc\\source\\examples\\cyclic-symmetry-analysis\\cleanup-ansys-pyworkbench-1744.bat: 100%|██████████| 327/327 [00:00<?, ?B/s] "
     ]
    },
    {
     "name": "stderr",
     "output_type": "stream",
     "text": [
      "\n"
     ]
    },
    {
     "name": "stderr",
     "output_type": "stream",
     "text": [
      "\r",
      "Downloading dns:///127.0.0.1:62741:C:\\Users\\ansys\\AppData\\Local\\Temp\\WB_ansys_5796_2\\wbnew_files\\dp0\\SYS-6\\MECH\\cyclic_map.json to C:\\Users\\ansys\\actions-runner\\_work\\pyworkbench-examples\\pyworkbench-examples\\pyworkbench-examples\\doc\\source\\examples\\cyclic-symmetry-analysis\\cyclic_map.json:   0%|          | 0.00/109k [00:00<?, ?B/s]"
     ]
    },
    {
     "name": "stderr",
     "output_type": "stream",
     "text": [
      "\r",
      "Downloading dns:///127.0.0.1:62741:C:\\Users\\ansys\\AppData\\Local\\Temp\\WB_ansys_5796_2\\wbnew_files\\dp0\\SYS-6\\MECH\\cyclic_map.json to C:\\Users\\ansys\\actions-runner\\_work\\pyworkbench-examples\\pyworkbench-examples\\pyworkbench-examples\\doc\\source\\examples\\cyclic-symmetry-analysis\\cyclic_map.json: 100%|██████████| 109k/109k [00:00<?, ?B/s]"
     ]
    },
    {
     "name": "stderr",
     "output_type": "stream",
     "text": [
      "\n"
     ]
    },
    {
     "name": "stderr",
     "output_type": "stream",
     "text": [
      "\r",
      "Downloading dns:///127.0.0.1:62741:C:\\Users\\ansys\\AppData\\Local\\Temp\\WB_ansys_5796_2\\wbnew_files\\dp0\\SYS-6\\MECH\\deformation.png to C:\\Users\\ansys\\actions-runner\\_work\\pyworkbench-examples\\pyworkbench-examples\\pyworkbench-examples\\doc\\source\\examples\\cyclic-symmetry-analysis\\deformation.png:   0%|          | 0.00/12.0k [00:00<?, ?B/s]"
     ]
    },
    {
     "name": "stderr",
     "output_type": "stream",
     "text": [
      "\r",
      "Downloading dns:///127.0.0.1:62741:C:\\Users\\ansys\\AppData\\Local\\Temp\\WB_ansys_5796_2\\wbnew_files\\dp0\\SYS-6\\MECH\\deformation.png to C:\\Users\\ansys\\actions-runner\\_work\\pyworkbench-examples\\pyworkbench-examples\\pyworkbench-examples\\doc\\source\\examples\\cyclic-symmetry-analysis\\deformation.png: 100%|██████████| 12.0k/12.0k [00:00<?, ?B/s]"
     ]
    },
    {
     "name": "stderr",
     "output_type": "stream",
     "text": [
      "\n"
     ]
    },
    {
     "name": "stderr",
     "output_type": "stream",
     "text": [
      "\r",
      "Downloading dns:///127.0.0.1:62741:C:\\Users\\ansys\\AppData\\Local\\Temp\\WB_ansys_5796_2\\wbnew_files\\dp0\\SYS-6\\MECH\\ds.dat to C:\\Users\\ansys\\actions-runner\\_work\\pyworkbench-examples\\pyworkbench-examples\\pyworkbench-examples\\doc\\source\\examples\\cyclic-symmetry-analysis\\ds.dat:   0%|          | 0.00/7.50M [00:00<?, ?B/s]"
     ]
    },
    {
     "name": "stderr",
     "output_type": "stream",
     "text": [
      "\r",
      "Downloading dns:///127.0.0.1:62741:C:\\Users\\ansys\\AppData\\Local\\Temp\\WB_ansys_5796_2\\wbnew_files\\dp0\\SYS-6\\MECH\\ds.dat to C:\\Users\\ansys\\actions-runner\\_work\\pyworkbench-examples\\pyworkbench-examples\\pyworkbench-examples\\doc\\source\\examples\\cyclic-symmetry-analysis\\ds.dat: 100%|██████████| 7.50M/7.50M [00:00<00:00, 504MB/s]"
     ]
    },
    {
     "name": "stderr",
     "output_type": "stream",
     "text": [
      "\n"
     ]
    },
    {
     "name": "stderr",
     "output_type": "stream",
     "text": [
      "\r",
      "Downloading dns:///127.0.0.1:62741:C:\\Users\\ansys\\AppData\\Local\\Temp\\WB_ansys_5796_2\\wbnew_files\\dp0\\SYS-6\\MECH\\file.rst to C:\\Users\\ansys\\actions-runner\\_work\\pyworkbench-examples\\pyworkbench-examples\\pyworkbench-examples\\doc\\source\\examples\\cyclic-symmetry-analysis\\file.rst:   0%|          | 0.00/276M [00:00<?, ?B/s]"
     ]
    },
    {
     "name": "stderr",
     "output_type": "stream",
     "text": [
      "\r",
      "Downloading dns:///127.0.0.1:62741:C:\\Users\\ansys\\AppData\\Local\\Temp\\WB_ansys_5796_2\\wbnew_files\\dp0\\SYS-6\\MECH\\file.rst to C:\\Users\\ansys\\actions-runner\\_work\\pyworkbench-examples\\pyworkbench-examples\\pyworkbench-examples\\doc\\source\\examples\\cyclic-symmetry-analysis\\file.rst:   3%|▎         | 8.00M/276M [00:00<00:03, 76.7MB/s]"
     ]
    },
    {
     "name": "stderr",
     "output_type": "stream",
     "text": [
      "\r",
      "Downloading dns:///127.0.0.1:62741:C:\\Users\\ansys\\AppData\\Local\\Temp\\WB_ansys_5796_2\\wbnew_files\\dp0\\SYS-6\\MECH\\file.rst to C:\\Users\\ansys\\actions-runner\\_work\\pyworkbench-examples\\pyworkbench-examples\\pyworkbench-examples\\doc\\source\\examples\\cyclic-symmetry-analysis\\file.rst:   8%|▊         | 21.0M/276M [00:00<00:02, 105MB/s] "
     ]
    },
    {
     "name": "stderr",
     "output_type": "stream",
     "text": [
      "\r",
      "Downloading dns:///127.0.0.1:62741:C:\\Users\\ansys\\AppData\\Local\\Temp\\WB_ansys_5796_2\\wbnew_files\\dp0\\SYS-6\\MECH\\file.rst to C:\\Users\\ansys\\actions-runner\\_work\\pyworkbench-examples\\pyworkbench-examples\\pyworkbench-examples\\doc\\source\\examples\\cyclic-symmetry-analysis\\file.rst:  14%|█▍        | 38.0M/276M [00:00<00:01, 131MB/s]"
     ]
    },
    {
     "name": "stderr",
     "output_type": "stream",
     "text": [
      "\r",
      "Downloading dns:///127.0.0.1:62741:C:\\Users\\ansys\\AppData\\Local\\Temp\\WB_ansys_5796_2\\wbnew_files\\dp0\\SYS-6\\MECH\\file.rst to C:\\Users\\ansys\\actions-runner\\_work\\pyworkbench-examples\\pyworkbench-examples\\pyworkbench-examples\\doc\\source\\examples\\cyclic-symmetry-analysis\\file.rst:  18%|█▊        | 50.8M/276M [00:00<00:01, 128MB/s]"
     ]
    },
    {
     "name": "stderr",
     "output_type": "stream",
     "text": [
      "\r",
      "Downloading dns:///127.0.0.1:62741:C:\\Users\\ansys\\AppData\\Local\\Temp\\WB_ansys_5796_2\\wbnew_files\\dp0\\SYS-6\\MECH\\file.rst to C:\\Users\\ansys\\actions-runner\\_work\\pyworkbench-examples\\pyworkbench-examples\\pyworkbench-examples\\doc\\source\\examples\\cyclic-symmetry-analysis\\file.rst:  23%|██▎       | 64.5M/276M [00:00<00:01, 129MB/s]"
     ]
    },
    {
     "name": "stderr",
     "output_type": "stream",
     "text": [
      "\r",
      "Downloading dns:///127.0.0.1:62741:C:\\Users\\ansys\\AppData\\Local\\Temp\\WB_ansys_5796_2\\wbnew_files\\dp0\\SYS-6\\MECH\\file.rst to C:\\Users\\ansys\\actions-runner\\_work\\pyworkbench-examples\\pyworkbench-examples\\pyworkbench-examples\\doc\\source\\examples\\cyclic-symmetry-analysis\\file.rst:  29%|██▉       | 80.2M/276M [00:00<00:01, 137MB/s]"
     ]
    },
    {
     "name": "stderr",
     "output_type": "stream",
     "text": [
      "\r",
      "Downloading dns:///127.0.0.1:62741:C:\\Users\\ansys\\AppData\\Local\\Temp\\WB_ansys_5796_2\\wbnew_files\\dp0\\SYS-6\\MECH\\file.rst to C:\\Users\\ansys\\actions-runner\\_work\\pyworkbench-examples\\pyworkbench-examples\\pyworkbench-examples\\doc\\source\\examples\\cyclic-symmetry-analysis\\file.rst:  35%|███▍      | 96.0M/276M [00:00<00:01, 135MB/s]"
     ]
    },
    {
     "name": "stderr",
     "output_type": "stream",
     "text": [
      "\r",
      "Downloading dns:///127.0.0.1:62741:C:\\Users\\ansys\\AppData\\Local\\Temp\\WB_ansys_5796_2\\wbnew_files\\dp0\\SYS-6\\MECH\\file.rst to C:\\Users\\ansys\\actions-runner\\_work\\pyworkbench-examples\\pyworkbench-examples\\pyworkbench-examples\\doc\\source\\examples\\cyclic-symmetry-analysis\\file.rst:  40%|████      | 112M/276M [00:00<00:01, 139MB/s] "
     ]
    },
    {
     "name": "stderr",
     "output_type": "stream",
     "text": [
      "\r",
      "Downloading dns:///127.0.0.1:62741:C:\\Users\\ansys\\AppData\\Local\\Temp\\WB_ansys_5796_2\\wbnew_files\\dp0\\SYS-6\\MECH\\file.rst to C:\\Users\\ansys\\actions-runner\\_work\\pyworkbench-examples\\pyworkbench-examples\\pyworkbench-examples\\doc\\source\\examples\\cyclic-symmetry-analysis\\file.rst:  46%|████▌     | 127M/276M [00:01<00:01, 137MB/s]"
     ]
    },
    {
     "name": "stderr",
     "output_type": "stream",
     "text": [
      "\r",
      "Downloading dns:///127.0.0.1:62741:C:\\Users\\ansys\\AppData\\Local\\Temp\\WB_ansys_5796_2\\wbnew_files\\dp0\\SYS-6\\MECH\\file.rst to C:\\Users\\ansys\\actions-runner\\_work\\pyworkbench-examples\\pyworkbench-examples\\pyworkbench-examples\\doc\\source\\examples\\cyclic-symmetry-analysis\\file.rst:  52%|█████▏    | 143M/276M [00:01<00:00, 141MB/s]"
     ]
    },
    {
     "name": "stderr",
     "output_type": "stream",
     "text": [
      "\r",
      "Downloading dns:///127.0.0.1:62741:C:\\Users\\ansys\\AppData\\Local\\Temp\\WB_ansys_5796_2\\wbnew_files\\dp0\\SYS-6\\MECH\\file.rst to C:\\Users\\ansys\\actions-runner\\_work\\pyworkbench-examples\\pyworkbench-examples\\pyworkbench-examples\\doc\\source\\examples\\cyclic-symmetry-analysis\\file.rst:  57%|█████▋    | 158M/276M [00:01<00:00, 137MB/s]"
     ]
    },
    {
     "name": "stderr",
     "output_type": "stream",
     "text": [
      "\r",
      "Downloading dns:///127.0.0.1:62741:C:\\Users\\ansys\\AppData\\Local\\Temp\\WB_ansys_5796_2\\wbnew_files\\dp0\\SYS-6\\MECH\\file.rst to C:\\Users\\ansys\\actions-runner\\_work\\pyworkbench-examples\\pyworkbench-examples\\pyworkbench-examples\\doc\\source\\examples\\cyclic-symmetry-analysis\\file.rst:  63%|██████▎   | 174M/276M [00:01<00:00, 141MB/s]"
     ]
    },
    {
     "name": "stderr",
     "output_type": "stream",
     "text": [
      "\r",
      "Downloading dns:///127.0.0.1:62741:C:\\Users\\ansys\\AppData\\Local\\Temp\\WB_ansys_5796_2\\wbnew_files\\dp0\\SYS-6\\MECH\\file.rst to C:\\Users\\ansys\\actions-runner\\_work\\pyworkbench-examples\\pyworkbench-examples\\pyworkbench-examples\\doc\\source\\examples\\cyclic-symmetry-analysis\\file.rst:  69%|██████▉   | 190M/276M [00:01<00:00, 144MB/s]"
     ]
    },
    {
     "name": "stderr",
     "output_type": "stream",
     "text": [
      "\r",
      "Downloading dns:///127.0.0.1:62741:C:\\Users\\ansys\\AppData\\Local\\Temp\\WB_ansys_5796_2\\wbnew_files\\dp0\\SYS-6\\MECH\\file.rst to C:\\Users\\ansys\\actions-runner\\_work\\pyworkbench-examples\\pyworkbench-examples\\pyworkbench-examples\\doc\\source\\examples\\cyclic-symmetry-analysis\\file.rst:  75%|███████▍  | 206M/276M [00:01<00:00, 145MB/s]"
     ]
    },
    {
     "name": "stderr",
     "output_type": "stream",
     "text": [
      "\r",
      "Downloading dns:///127.0.0.1:62741:C:\\Users\\ansys\\AppData\\Local\\Temp\\WB_ansys_5796_2\\wbnew_files\\dp0\\SYS-6\\MECH\\file.rst to C:\\Users\\ansys\\actions-runner\\_work\\pyworkbench-examples\\pyworkbench-examples\\pyworkbench-examples\\doc\\source\\examples\\cyclic-symmetry-analysis\\file.rst:  80%|████████  | 221M/276M [00:01<00:00, 147MB/s]"
     ]
    },
    {
     "name": "stderr",
     "output_type": "stream",
     "text": [
      "\r",
      "Downloading dns:///127.0.0.1:62741:C:\\Users\\ansys\\AppData\\Local\\Temp\\WB_ansys_5796_2\\wbnew_files\\dp0\\SYS-6\\MECH\\file.rst to C:\\Users\\ansys\\actions-runner\\_work\\pyworkbench-examples\\pyworkbench-examples\\pyworkbench-examples\\doc\\source\\examples\\cyclic-symmetry-analysis\\file.rst:  86%|████████▌ | 237M/276M [00:01<00:00, 142MB/s]"
     ]
    },
    {
     "name": "stderr",
     "output_type": "stream",
     "text": [
      "\r",
      "Downloading dns:///127.0.0.1:62741:C:\\Users\\ansys\\AppData\\Local\\Temp\\WB_ansys_5796_2\\wbnew_files\\dp0\\SYS-6\\MECH\\file.rst to C:\\Users\\ansys\\actions-runner\\_work\\pyworkbench-examples\\pyworkbench-examples\\pyworkbench-examples\\doc\\source\\examples\\cyclic-symmetry-analysis\\file.rst:  92%|█████████▏| 252M/276M [00:01<00:00, 144MB/s]"
     ]
    },
    {
     "name": "stderr",
     "output_type": "stream",
     "text": [
      "\r",
      "Downloading dns:///127.0.0.1:62741:C:\\Users\\ansys\\AppData\\Local\\Temp\\WB_ansys_5796_2\\wbnew_files\\dp0\\SYS-6\\MECH\\file.rst to C:\\Users\\ansys\\actions-runner\\_work\\pyworkbench-examples\\pyworkbench-examples\\pyworkbench-examples\\doc\\source\\examples\\cyclic-symmetry-analysis\\file.rst:  97%|█████████▋| 268M/276M [00:02<00:00, 140MB/s]"
     ]
    },
    {
     "name": "stderr",
     "output_type": "stream",
     "text": [
      "\r",
      "Downloading dns:///127.0.0.1:62741:C:\\Users\\ansys\\AppData\\Local\\Temp\\WB_ansys_5796_2\\wbnew_files\\dp0\\SYS-6\\MECH\\file.rst to C:\\Users\\ansys\\actions-runner\\_work\\pyworkbench-examples\\pyworkbench-examples\\pyworkbench-examples\\doc\\source\\examples\\cyclic-symmetry-analysis\\file.rst: 100%|██████████| 276M/276M [00:02<00:00, 140MB/s]"
     ]
    },
    {
     "name": "stderr",
     "output_type": "stream",
     "text": [
      "\n"
     ]
    },
    {
     "name": "stderr",
     "output_type": "stream",
     "text": [
      "\r",
      "Downloading dns:///127.0.0.1:62741:C:\\Users\\ansys\\AppData\\Local\\Temp\\WB_ansys_5796_2\\wbnew_files\\dp0\\SYS-6\\MECH\\file0.err to C:\\Users\\ansys\\actions-runner\\_work\\pyworkbench-examples\\pyworkbench-examples\\pyworkbench-examples\\doc\\source\\examples\\cyclic-symmetry-analysis\\file0.err:   0%|          | 0.00/2.00k [00:00<?, ?B/s]"
     ]
    },
    {
     "name": "stderr",
     "output_type": "stream",
     "text": [
      "\r",
      "Downloading dns:///127.0.0.1:62741:C:\\Users\\ansys\\AppData\\Local\\Temp\\WB_ansys_5796_2\\wbnew_files\\dp0\\SYS-6\\MECH\\file0.err to C:\\Users\\ansys\\actions-runner\\_work\\pyworkbench-examples\\pyworkbench-examples\\pyworkbench-examples\\doc\\source\\examples\\cyclic-symmetry-analysis\\file0.err: 100%|██████████| 2.00k/2.00k [00:00<?, ?B/s]"
     ]
    },
    {
     "name": "stderr",
     "output_type": "stream",
     "text": [
      "\n"
     ]
    },
    {
     "name": "stderr",
     "output_type": "stream",
     "text": [
      "\r",
      "Downloading dns:///127.0.0.1:62741:C:\\Users\\ansys\\AppData\\Local\\Temp\\WB_ansys_5796_2\\wbnew_files\\dp0\\SYS-6\\MECH\\MatML.xml to C:\\Users\\ansys\\actions-runner\\_work\\pyworkbench-examples\\pyworkbench-examples\\pyworkbench-examples\\doc\\source\\examples\\cyclic-symmetry-analysis\\MatML.xml:   0%|          | 0.00/28.4k [00:00<?, ?B/s]"
     ]
    },
    {
     "name": "stderr",
     "output_type": "stream",
     "text": [
      "\r",
      "Downloading dns:///127.0.0.1:62741:C:\\Users\\ansys\\AppData\\Local\\Temp\\WB_ansys_5796_2\\wbnew_files\\dp0\\SYS-6\\MECH\\MatML.xml to C:\\Users\\ansys\\actions-runner\\_work\\pyworkbench-examples\\pyworkbench-examples\\pyworkbench-examples\\doc\\source\\examples\\cyclic-symmetry-analysis\\MatML.xml: 100%|██████████| 28.4k/28.4k [00:00<?, ?B/s]"
     ]
    },
    {
     "name": "stderr",
     "output_type": "stream",
     "text": [
      "\n"
     ]
    },
    {
     "name": "stderr",
     "output_type": "stream",
     "text": [
      "\r",
      "Downloading dns:///127.0.0.1:62741:C:\\Users\\ansys\\AppData\\Local\\Temp\\WB_ansys_5796_2\\wbnew_files\\dp0\\SYS-6\\MECH\\solve.out to C:\\Users\\ansys\\actions-runner\\_work\\pyworkbench-examples\\pyworkbench-examples\\pyworkbench-examples\\doc\\source\\examples\\cyclic-symmetry-analysis\\solve.out:   0%|          | 0.00/44.0k [00:00<?, ?B/s]"
     ]
    },
    {
     "name": "stderr",
     "output_type": "stream",
     "text": [
      "\r",
      "Downloading dns:///127.0.0.1:62741:C:\\Users\\ansys\\AppData\\Local\\Temp\\WB_ansys_5796_2\\wbnew_files\\dp0\\SYS-6\\MECH\\solve.out to C:\\Users\\ansys\\actions-runner\\_work\\pyworkbench-examples\\pyworkbench-examples\\pyworkbench-examples\\doc\\source\\examples\\cyclic-symmetry-analysis\\solve.out: 100%|██████████| 44.0k/44.0k [00:00<?, ?B/s]"
     ]
    },
    {
     "name": "stderr",
     "output_type": "stream",
     "text": [
      "\n"
     ]
    },
    {
     "data": {
      "text/plain": [
       "['C:\\\\Users\\\\ansys\\\\actions-runner\\\\_work\\\\pyworkbench-examples\\\\pyworkbench-examples\\\\pyworkbench-examples\\\\doc\\\\source\\\\examples\\\\cyclic-symmetry-analysis\\\\CAERep.xml',\n",
       " 'C:\\\\Users\\\\ansys\\\\actions-runner\\\\_work\\\\pyworkbench-examples\\\\pyworkbench-examples\\\\pyworkbench-examples\\\\doc\\\\source\\\\examples\\\\cyclic-symmetry-analysis\\\\CAERepOutput.xml',\n",
       " 'C:\\\\Users\\\\ansys\\\\actions-runner\\\\_work\\\\pyworkbench-examples\\\\pyworkbench-examples\\\\pyworkbench-examples\\\\doc\\\\source\\\\examples\\\\cyclic-symmetry-analysis\\\\cleanup-ansys-pyworkbench-1744.bat',\n",
       " 'C:\\\\Users\\\\ansys\\\\actions-runner\\\\_work\\\\pyworkbench-examples\\\\pyworkbench-examples\\\\pyworkbench-examples\\\\doc\\\\source\\\\examples\\\\cyclic-symmetry-analysis\\\\cyclic_map.json',\n",
       " 'C:\\\\Users\\\\ansys\\\\actions-runner\\\\_work\\\\pyworkbench-examples\\\\pyworkbench-examples\\\\pyworkbench-examples\\\\doc\\\\source\\\\examples\\\\cyclic-symmetry-analysis\\\\deformation.png',\n",
       " 'C:\\\\Users\\\\ansys\\\\actions-runner\\\\_work\\\\pyworkbench-examples\\\\pyworkbench-examples\\\\pyworkbench-examples\\\\doc\\\\source\\\\examples\\\\cyclic-symmetry-analysis\\\\ds.dat',\n",
       " 'C:\\\\Users\\\\ansys\\\\actions-runner\\\\_work\\\\pyworkbench-examples\\\\pyworkbench-examples\\\\pyworkbench-examples\\\\doc\\\\source\\\\examples\\\\cyclic-symmetry-analysis\\\\file.rst',\n",
       " 'C:\\\\Users\\\\ansys\\\\actions-runner\\\\_work\\\\pyworkbench-examples\\\\pyworkbench-examples\\\\pyworkbench-examples\\\\doc\\\\source\\\\examples\\\\cyclic-symmetry-analysis\\\\file0.err',\n",
       " 'C:\\\\Users\\\\ansys\\\\actions-runner\\\\_work\\\\pyworkbench-examples\\\\pyworkbench-examples\\\\pyworkbench-examples\\\\doc\\\\source\\\\examples\\\\cyclic-symmetry-analysis\\\\MatML.xml',\n",
       " 'C:\\\\Users\\\\ansys\\\\actions-runner\\\\_work\\\\pyworkbench-examples\\\\pyworkbench-examples\\\\pyworkbench-examples\\\\doc\\\\source\\\\examples\\\\cyclic-symmetry-analysis\\\\solve.out']"
      ]
     },
     "execution_count": 22,
     "metadata": {},
     "output_type": "execute_result"
    }
   ],
   "source": [
    "current_working_directory = os.getcwd()\n",
    "mechanical.download(solve_out_path, target_dir=current_working_directory)"
   ]
  },
  {
   "cell_type": "markdown",
   "id": "9b3de873",
   "metadata": {},
   "source": [
    "Finally, the `exit` method is called on both the PyMechanical and Workbench clients to gracefully shut down the services, ensuring that all resources are properly released."
   ]
  },
  {
   "cell_type": "code",
   "execution_count": 23,
   "id": "0ccc25e2",
   "metadata": {
    "execution": {
     "iopub.execute_input": "2024-06-14T08:49:42.073353Z",
     "iopub.status.busy": "2024-06-14T08:49:42.073353Z",
     "iopub.status.idle": "2024-06-14T08:49:48.943725Z",
     "shell.execute_reply": "2024-06-14T08:49:48.943725Z"
    }
   },
   "outputs": [],
   "source": [
    "mechanical.exit()\n",
    "wb.exit()"
   ]
  }
 ],
 "metadata": {
  "jupytext": {
   "cell_metadata_filter": "-all",
   "main_language": "python",
   "notebook_metadata_filter": "-all",
   "text_representation": {
    "extension": ".py",
    "format_name": "light"
   }
  },
  "language_info": {
   "codemirror_mode": {
    "name": "ipython",
    "version": 3
   },
   "file_extension": ".py",
   "mimetype": "text/x-python",
   "name": "python",
   "nbconvert_exporter": "python",
   "pygments_lexer": "ipython3",
   "version": "3.11.9"
  }
 },
 "nbformat": 4,
 "nbformat_minor": 5
}
