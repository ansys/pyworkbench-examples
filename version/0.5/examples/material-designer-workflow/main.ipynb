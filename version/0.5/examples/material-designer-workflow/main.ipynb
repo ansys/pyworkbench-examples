{
 "cells": [
  {
   "cell_type": "markdown",
   "id": "24f8b5e9",
   "metadata": {},
   "source": [
    "# Material Designer"
   ]
  },
  {
   "cell_type": "markdown",
   "id": "22c6d9a9",
   "metadata": {},
   "source": [
    "This notebook demonstrates the process of sending user-defined parameter values to a parameterized analysis and receive the corresponding simulation output via a Workbench service on a local machine."
   ]
  },
  {
   "cell_type": "code",
   "execution_count": 1,
   "id": "d97aca06",
   "metadata": {
    "execution": {
     "iopub.execute_input": "2024-10-24T14:45:00.941835Z",
     "iopub.status.busy": "2024-10-24T14:45:00.941835Z",
     "iopub.status.idle": "2024-10-24T14:45:00.957894Z",
     "shell.execute_reply": "2024-10-24T14:45:00.957894Z"
    }
   },
   "outputs": [],
   "source": [
    "import os\n",
    "import pathlib"
   ]
  },
  {
   "cell_type": "code",
   "execution_count": 2,
   "id": "1f398f67",
   "metadata": {
    "execution": {
     "iopub.execute_input": "2024-10-24T14:45:00.957894Z",
     "iopub.status.busy": "2024-10-24T14:45:00.957894Z",
     "iopub.status.idle": "2024-10-24T14:45:01.361462Z",
     "shell.execute_reply": "2024-10-24T14:45:01.361462Z"
    }
   },
   "outputs": [
    {
     "ename": "ModuleNotFoundError",
     "evalue": "No module named 'ansys'",
     "output_type": "error",
     "traceback": [
      "\u001b[1;31m---------------------------------------------------------------------------\u001b[0m",
      "\u001b[1;31mModuleNotFoundError\u001b[0m                       Traceback (most recent call last)",
      "Cell \u001b[1;32mIn[2], line 1\u001b[0m\n\u001b[1;32m----> 1\u001b[0m \u001b[38;5;28;01mfrom\u001b[39;00m \u001b[38;5;21;01mansys\u001b[39;00m\u001b[38;5;21;01m.\u001b[39;00m\u001b[38;5;21;01mworkbench\u001b[39;00m\u001b[38;5;21;01m.\u001b[39;00m\u001b[38;5;21;01mcore\u001b[39;00m \u001b[38;5;28;01mimport\u001b[39;00m launch_workbench\n",
      "\u001b[1;31mModuleNotFoundError\u001b[0m: No module named 'ansys'"
     ]
    }
   ],
   "source": [
    "from ansys.workbench.core import launch_workbench"
   ]
  },
  {
   "cell_type": "markdown",
   "id": "ab0161d8",
   "metadata": {},
   "source": [
    "Launch the Workbench service on the local machine, using some options.\n",
    "Define several directories that will be used during the session.\n",
    "`workdir` is set to the parent directory of the current file.\n",
    "`assets`, `scripts`, and `wbpz` are subdirectories within the working directory.\n",
    "The `launch_workbench` function is called to start a Workbench session with specified directory."
   ]
  },
  {
   "cell_type": "code",
   "execution_count": 3,
   "id": "c160c52c",
   "metadata": {
    "execution": {
     "iopub.execute_input": "2024-10-24T14:45:01.361462Z",
     "iopub.status.busy": "2024-10-24T14:45:01.361462Z",
     "iopub.status.idle": "2024-10-24T14:45:01.369053Z",
     "shell.execute_reply": "2024-10-24T14:45:01.369053Z"
    }
   },
   "outputs": [],
   "source": [
    "workdir = pathlib.Path(\"__file__\").parent"
   ]
  },
  {
   "cell_type": "code",
   "execution_count": 4,
   "id": "8a1a907c",
   "metadata": {
    "execution": {
     "iopub.execute_input": "2024-10-24T14:45:01.369053Z",
     "iopub.status.busy": "2024-10-24T14:45:01.369053Z",
     "iopub.status.idle": "2024-10-24T14:45:01.375825Z",
     "shell.execute_reply": "2024-10-24T14:45:01.375825Z"
    }
   },
   "outputs": [],
   "source": [
    "assets = workdir / \"assets\""
   ]
  },
  {
   "cell_type": "code",
   "execution_count": 5,
   "id": "5145879c",
   "metadata": {
    "execution": {
     "iopub.execute_input": "2024-10-24T14:45:01.375825Z",
     "iopub.status.busy": "2024-10-24T14:45:01.375825Z",
     "iopub.status.idle": "2024-10-24T14:45:01.401052Z",
     "shell.execute_reply": "2024-10-24T14:45:01.401052Z"
    }
   },
   "outputs": [
    {
     "ename": "NameError",
     "evalue": "name 'launch_workbench' is not defined",
     "output_type": "error",
     "traceback": [
      "\u001b[1;31m---------------------------------------------------------------------------\u001b[0m",
      "\u001b[1;31mNameError\u001b[0m                                 Traceback (most recent call last)",
      "Cell \u001b[1;32mIn[5], line 1\u001b[0m\n\u001b[1;32m----> 1\u001b[0m wb \u001b[38;5;241m=\u001b[39m \u001b[43mlaunch_workbench\u001b[49m(client_workdir\u001b[38;5;241m=\u001b[39m\u001b[38;5;28mstr\u001b[39m(workdir\u001b[38;5;241m.\u001b[39mabsolute()))\n",
      "\u001b[1;31mNameError\u001b[0m: name 'launch_workbench' is not defined"
     ]
    }
   ],
   "source": [
    "wb = launch_workbench(client_workdir=str(workdir.absolute()))"
   ]
  },
  {
   "cell_type": "markdown",
   "id": "df502ba8",
   "metadata": {},
   "source": [
    "Upload the project files to the server using the `upload_file_from_example_repo` method.\n",
    "The file to upload is `MatDesigner.wbpz`."
   ]
  },
  {
   "cell_type": "code",
   "execution_count": 6,
   "id": "bfd2c57a",
   "metadata": {
    "execution": {
     "iopub.execute_input": "2024-10-24T14:45:01.401052Z",
     "iopub.status.busy": "2024-10-24T14:45:01.401052Z",
     "iopub.status.idle": "2024-10-24T14:45:01.423871Z",
     "shell.execute_reply": "2024-10-24T14:45:01.423871Z"
    }
   },
   "outputs": [
    {
     "ename": "NameError",
     "evalue": "name 'wb' is not defined",
     "output_type": "error",
     "traceback": [
      "\u001b[1;31m---------------------------------------------------------------------------\u001b[0m",
      "\u001b[1;31mNameError\u001b[0m                                 Traceback (most recent call last)",
      "Cell \u001b[1;32mIn[6], line 1\u001b[0m\n\u001b[1;32m----> 1\u001b[0m \u001b[43mwb\u001b[49m\u001b[38;5;241m.\u001b[39mupload_file_from_example_repo(\u001b[38;5;124m'\u001b[39m\u001b[38;5;124mmaterial-designer-workflow/wbpz/MatDesigner.wbpz\u001b[39m\u001b[38;5;124m'\u001b[39m)\n",
      "\u001b[1;31mNameError\u001b[0m: name 'wb' is not defined"
     ]
    }
   ],
   "source": [
    "wb.upload_file_from_example_repo('material-designer-workflow/wbpz/MatDesigner.wbpz')"
   ]
  },
  {
   "cell_type": "markdown",
   "id": "91695d9c",
   "metadata": {},
   "source": [
    "Execute a Workbench script (`project.wbjn`) to define the project and load the geometry using the `run_script_file` method.\n",
    "The `set_log_file` method is used to direct the logs to `wb_log_file.log`."
   ]
  },
  {
   "cell_type": "code",
   "execution_count": 7,
   "id": "dc753791",
   "metadata": {
    "execution": {
     "iopub.execute_input": "2024-10-24T14:45:01.423871Z",
     "iopub.status.busy": "2024-10-24T14:45:01.423871Z",
     "iopub.status.idle": "2024-10-24T14:45:01.448255Z",
     "shell.execute_reply": "2024-10-24T14:45:01.448255Z"
    }
   },
   "outputs": [
    {
     "ename": "NameError",
     "evalue": "name 'wb' is not defined",
     "output_type": "error",
     "traceback": [
      "\u001b[1;31m---------------------------------------------------------------------------\u001b[0m",
      "\u001b[1;31mNameError\u001b[0m                                 Traceback (most recent call last)",
      "Cell \u001b[1;32mIn[7], line 2\u001b[0m\n\u001b[0;32m      1\u001b[0m export_path \u001b[38;5;241m=\u001b[39m \u001b[38;5;124m'\u001b[39m\u001b[38;5;124mwb_log_file.log\u001b[39m\u001b[38;5;124m'\u001b[39m\n\u001b[1;32m----> 2\u001b[0m \u001b[43mwb\u001b[49m\u001b[38;5;241m.\u001b[39mset_log_file(export_path)\n\u001b[0;32m      3\u001b[0m sys_name \u001b[38;5;241m=\u001b[39m wb\u001b[38;5;241m.\u001b[39mrun_script_file(\u001b[38;5;28mstr\u001b[39m((assets \u001b[38;5;241m/\u001b[39m \u001b[38;5;124m\"\u001b[39m\u001b[38;5;124mproject.wbjn\u001b[39m\u001b[38;5;124m\"\u001b[39m)\u001b[38;5;241m.\u001b[39mabsolute()), log_level\u001b[38;5;241m=\u001b[39m\u001b[38;5;124m'\u001b[39m\u001b[38;5;124minfo\u001b[39m\u001b[38;5;124m'\u001b[39m)\n",
      "\u001b[1;31mNameError\u001b[0m: name 'wb' is not defined"
     ]
    }
   ],
   "source": [
    "export_path = 'wb_log_file.log'\n",
    "wb.set_log_file(export_path)\n",
    "sys_name = wb.run_script_file(str((assets / \"project.wbjn\").absolute()), log_level='info')"
   ]
  },
  {
   "cell_type": "markdown",
   "id": "c6c8d1a2",
   "metadata": {},
   "source": [
    "Prepare the Workbench command template to make modifications to the material property, in this case the Young's modulus of the material"
   ]
  },
  {
   "cell_type": "code",
   "execution_count": 8,
   "id": "dfecdffd",
   "metadata": {
    "execution": {
     "iopub.execute_input": "2024-10-24T14:45:01.448255Z",
     "iopub.status.busy": "2024-10-24T14:45:01.448255Z",
     "iopub.status.idle": "2024-10-24T14:45:01.455668Z",
     "shell.execute_reply": "2024-10-24T14:45:01.455668Z"
    }
   },
   "outputs": [],
   "source": [
    "wbjn_template = \"\"\"designPoint1 = Parameters.GetDesignPoint(Name=\"0\")\n",
    "parameter1 = Parameters.GetParameter(Name=\"P1\")\n",
    "designPoint1.SetParameterExpression(\n",
    "    Parameter=parameter1,\n",
    "    Expression=\"{} [Pa]\")\n",
    "backgroundSession1 = UpdateAllDesignPoints(DesignPoints=[designPoint1])\n",
    "\"\"\""
   ]
  },
  {
   "cell_type": "markdown",
   "id": "63314fef",
   "metadata": {},
   "source": [
    "Update the project with a new value for the Young's modulus"
   ]
  },
  {
   "cell_type": "code",
   "execution_count": 9,
   "id": "c4d8ebd4",
   "metadata": {
    "execution": {
     "iopub.execute_input": "2024-10-24T14:45:01.455668Z",
     "iopub.status.busy": "2024-10-24T14:45:01.455668Z",
     "iopub.status.idle": "2024-10-24T14:45:01.478654Z",
     "shell.execute_reply": "2024-10-24T14:45:01.478654Z"
    }
   },
   "outputs": [
    {
     "ename": "NameError",
     "evalue": "name 'wb' is not defined",
     "output_type": "error",
     "traceback": [
      "\u001b[1;31m---------------------------------------------------------------------------\u001b[0m",
      "\u001b[1;31mNameError\u001b[0m                                 Traceback (most recent call last)",
      "Cell \u001b[1;32mIn[9], line 2\u001b[0m\n\u001b[0;32m      1\u001b[0m my_command \u001b[38;5;241m=\u001b[39m wbjn_template\u001b[38;5;241m.\u001b[39mformat( \u001b[38;5;241m1.6e10\u001b[39m )\n\u001b[1;32m----> 2\u001b[0m \u001b[43mwb\u001b[49m\u001b[38;5;241m.\u001b[39mrun_script_string( my_command )\n",
      "\u001b[1;31mNameError\u001b[0m: name 'wb' is not defined"
     ]
    }
   ],
   "source": [
    "my_command = wbjn_template.format( 1.6e10 )\n",
    "wb.run_script_string( my_command )"
   ]
  },
  {
   "cell_type": "markdown",
   "id": "be28eb2d",
   "metadata": {},
   "source": [
    "Extract output values. First, we prepare the Workbench script to quiry output parameter values"
   ]
  },
  {
   "cell_type": "code",
   "execution_count": 10,
   "id": "bccbd6b1",
   "metadata": {
    "execution": {
     "iopub.execute_input": "2024-10-24T14:45:01.478654Z",
     "iopub.status.busy": "2024-10-24T14:45:01.478654Z",
     "iopub.status.idle": "2024-10-24T14:45:01.486363Z",
     "shell.execute_reply": "2024-10-24T14:45:01.486363Z"
    }
   },
   "outputs": [],
   "source": [
    "extract_output = '''import json\n",
    "p = Parameters.GetParameter(Name=\"P{}\")\n",
    "my_tag = p.DisplayText\n",
    "wb_script_result =json.dumps( my_tag + ',' + str(p.Value) )\n",
    "'''"
   ]
  },
  {
   "cell_type": "markdown",
   "id": "28f02ab8",
   "metadata": {},
   "source": [
    "Get updated output values"
   ]
  },
  {
   "cell_type": "code",
   "execution_count": 11,
   "id": "8f91f5d9",
   "metadata": {
    "execution": {
     "iopub.execute_input": "2024-10-24T14:45:01.486363Z",
     "iopub.status.busy": "2024-10-24T14:45:01.486363Z",
     "iopub.status.idle": "2024-10-24T14:45:01.512721Z",
     "shell.execute_reply": "2024-10-24T14:45:01.512721Z"
    }
   },
   "outputs": [
    {
     "ename": "NameError",
     "evalue": "name 'wb' is not defined",
     "output_type": "error",
     "traceback": [
      "\u001b[1;31m---------------------------------------------------------------------------\u001b[0m",
      "\u001b[1;31mNameError\u001b[0m                                 Traceback (most recent call last)",
      "Cell \u001b[1;32mIn[11], line 3\u001b[0m\n\u001b[0;32m      1\u001b[0m outputs \u001b[38;5;241m=\u001b[39m {}\n\u001b[0;32m      2\u001b[0m \u001b[38;5;28;01mfor\u001b[39;00m p \u001b[38;5;129;01min\u001b[39;00m \u001b[38;5;28mrange\u001b[39m( \u001b[38;5;241m2\u001b[39m , \u001b[38;5;241m12\u001b[39m ):\n\u001b[1;32m----> 3\u001b[0m     return_val \u001b[38;5;241m=\u001b[39m \u001b[43mwb\u001b[49m\u001b[38;5;241m.\u001b[39mrun_script_string( extract_output\u001b[38;5;241m.\u001b[39mformat( p ) )\u001b[38;5;241m.\u001b[39msplit(\u001b[38;5;124m'\u001b[39m\u001b[38;5;124m,\u001b[39m\u001b[38;5;124m'\u001b[39m)\n\u001b[0;32m      4\u001b[0m     name \u001b[38;5;241m=\u001b[39m return_val[\u001b[38;5;241m0\u001b[39m]\n\u001b[0;32m      5\u001b[0m     parameter_val \u001b[38;5;241m=\u001b[39m \u001b[38;5;28mfloat\u001b[39m(return_val[\u001b[38;5;241m1\u001b[39m])\n",
      "\u001b[1;31mNameError\u001b[0m: name 'wb' is not defined"
     ]
    }
   ],
   "source": [
    "outputs = {}\n",
    "for p in range( 2 , 12 ):\n",
    "    return_val = wb.run_script_string( extract_output.format( p ) ).split(',')\n",
    "    name = return_val[0]\n",
    "    parameter_val = float(return_val[1])\n",
    "    outputs[ name ] = parameter_val\n",
    "print( outputs )"
   ]
  },
  {
   "cell_type": "markdown",
   "id": "c1422913",
   "metadata": {},
   "source": [
    "Finally, call the `exit` method on the Workbench client to gracefully shut down the service."
   ]
  },
  {
   "cell_type": "code",
   "execution_count": 12,
   "id": "af52f161",
   "metadata": {
    "execution": {
     "iopub.execute_input": "2024-10-24T14:45:01.512721Z",
     "iopub.status.busy": "2024-10-24T14:45:01.512721Z",
     "iopub.status.idle": "2024-10-24T14:45:01.535111Z",
     "shell.execute_reply": "2024-10-24T14:45:01.535111Z"
    }
   },
   "outputs": [
    {
     "ename": "NameError",
     "evalue": "name 'wb' is not defined",
     "output_type": "error",
     "traceback": [
      "\u001b[1;31m---------------------------------------------------------------------------\u001b[0m",
      "\u001b[1;31mNameError\u001b[0m                                 Traceback (most recent call last)",
      "Cell \u001b[1;32mIn[12], line 1\u001b[0m\n\u001b[1;32m----> 1\u001b[0m \u001b[43mwb\u001b[49m\u001b[38;5;241m.\u001b[39mexit()\n",
      "\u001b[1;31mNameError\u001b[0m: name 'wb' is not defined"
     ]
    }
   ],
   "source": [
    "wb.exit()"
   ]
  }
 ],
 "metadata": {
  "jupytext": {
   "cell_metadata_filter": "-all",
   "main_language": "python",
   "notebook_metadata_filter": "-all",
   "text_representation": {
    "extension": ".py",
    "format_name": "light"
   }
  },
  "language_info": {
   "codemirror_mode": {
    "name": "ipython",
    "version": 3
   },
   "file_extension": ".py",
   "mimetype": "text/x-python",
   "name": "python",
   "nbconvert_exporter": "python",
   "pygments_lexer": "ipython3",
   "version": "3.11.9"
  }
 },
 "nbformat": 4,
 "nbformat_minor": 5
}
