{
 "cells": [
  {
   "cell_type": "markdown",
   "id": "fcc1666b",
   "metadata": {},
   "source": [
    "# Cyclic symmetry analysis"
   ]
  },
  {
   "cell_type": "markdown",
   "id": "b804fb05",
   "metadata": {},
   "source": [
    "This notebook demonstrates how to use the Workbench client to manage projects on a remote host, run scripts, and handle output files.\n",
    "It covers launching services, uploading files, executing scripts, and visualizing results using PyMechanical."
   ]
  },
  {
   "cell_type": "code",
   "execution_count": 1,
   "id": "389530ce",
   "metadata": {
    "execution": {
     "iopub.execute_input": "2024-10-24T14:44:49.057547Z",
     "iopub.status.busy": "2024-10-24T14:44:49.057547Z",
     "iopub.status.idle": "2024-10-24T14:44:49.074116Z",
     "shell.execute_reply": "2024-10-24T14:44:49.074116Z"
    }
   },
   "outputs": [],
   "source": [
    "import os\n",
    "import pathlib"
   ]
  },
  {
   "cell_type": "code",
   "execution_count": 2,
   "id": "a55c428c",
   "metadata": {
    "execution": {
     "iopub.execute_input": "2024-10-24T14:44:49.074116Z",
     "iopub.status.busy": "2024-10-24T14:44:49.074116Z",
     "iopub.status.idle": "2024-10-24T14:44:49.455124Z",
     "shell.execute_reply": "2024-10-24T14:44:49.455124Z"
    }
   },
   "outputs": [
    {
     "ename": "ModuleNotFoundError",
     "evalue": "No module named 'ansys'",
     "output_type": "error",
     "traceback": [
      "\u001b[1;31m---------------------------------------------------------------------------\u001b[0m",
      "\u001b[1;31mModuleNotFoundError\u001b[0m                       Traceback (most recent call last)",
      "Cell \u001b[1;32mIn[2], line 1\u001b[0m\n\u001b[1;32m----> 1\u001b[0m \u001b[38;5;28;01mfrom\u001b[39;00m \u001b[38;5;21;01mansys\u001b[39;00m\u001b[38;5;21;01m.\u001b[39;00m\u001b[38;5;21;01mworkbench\u001b[39;00m\u001b[38;5;21;01m.\u001b[39;00m\u001b[38;5;21;01mcore\u001b[39;00m \u001b[38;5;28;01mimport\u001b[39;00m launch_workbench\n\u001b[0;32m      2\u001b[0m \u001b[38;5;28;01mfrom\u001b[39;00m \u001b[38;5;21;01mansys\u001b[39;00m\u001b[38;5;21;01m.\u001b[39;00m\u001b[38;5;21;01mmechanical\u001b[39;00m\u001b[38;5;21;01m.\u001b[39;00m\u001b[38;5;21;01mcore\u001b[39;00m \u001b[38;5;28;01mimport\u001b[39;00m launch_mechanical\n",
      "\u001b[1;31mModuleNotFoundError\u001b[0m: No module named 'ansys'"
     ]
    }
   ],
   "source": [
    "from ansys.workbench.core import launch_workbench\n",
    "from ansys.mechanical.core import launch_mechanical"
   ]
  },
  {
   "cell_type": "markdown",
   "id": "f98368c3",
   "metadata": {},
   "source": [
    "Launch the Workbench service on a remote host machine, specifying the remote host machine name and user login credentials.\n",
    "Define several directories that will be used during the session.\n",
    "`workdir` is set to the parent directory of the current file.\n",
    "`assets`, `scripts`, and `cdb` are subdirectories within the working directory.\n",
    "The `launch_workbench` function is called to start a Workbench session with specified directory."
   ]
  },
  {
   "cell_type": "code",
   "execution_count": 3,
   "id": "5c3a0936",
   "metadata": {
    "execution": {
     "iopub.execute_input": "2024-10-24T14:44:49.455124Z",
     "iopub.status.busy": "2024-10-24T14:44:49.455124Z",
     "iopub.status.idle": "2024-10-24T14:44:49.463515Z",
     "shell.execute_reply": "2024-10-24T14:44:49.463515Z"
    }
   },
   "outputs": [],
   "source": [
    "workdir = pathlib.Path(\"__file__\").parent"
   ]
  },
  {
   "cell_type": "code",
   "execution_count": 4,
   "id": "9bc23f2a",
   "metadata": {
    "execution": {
     "iopub.execute_input": "2024-10-24T14:44:49.463515Z",
     "iopub.status.busy": "2024-10-24T14:44:49.463515Z",
     "iopub.status.idle": "2024-10-24T14:44:49.470239Z",
     "shell.execute_reply": "2024-10-24T14:44:49.470239Z"
    }
   },
   "outputs": [],
   "source": [
    "assets = workdir / \"assets\"\n",
    "scripts = workdir / \"scripts\""
   ]
  },
  {
   "cell_type": "code",
   "execution_count": 5,
   "id": "a6321ee3",
   "metadata": {
    "execution": {
     "iopub.execute_input": "2024-10-24T14:44:49.470239Z",
     "iopub.status.busy": "2024-10-24T14:44:49.470239Z",
     "iopub.status.idle": "2024-10-24T14:44:49.492539Z",
     "shell.execute_reply": "2024-10-24T14:44:49.492539Z"
    }
   },
   "outputs": [
    {
     "ename": "NameError",
     "evalue": "name 'launch_workbench' is not defined",
     "output_type": "error",
     "traceback": [
      "\u001b[1;31m---------------------------------------------------------------------------\u001b[0m",
      "\u001b[1;31mNameError\u001b[0m                                 Traceback (most recent call last)",
      "Cell \u001b[1;32mIn[5], line 1\u001b[0m\n\u001b[1;32m----> 1\u001b[0m wb \u001b[38;5;241m=\u001b[39m \u001b[43mlaunch_workbench\u001b[49m(client_workdir\u001b[38;5;241m=\u001b[39m\u001b[38;5;28mstr\u001b[39m(workdir\u001b[38;5;241m.\u001b[39mabsolute()))\n",
      "\u001b[1;31mNameError\u001b[0m: name 'launch_workbench' is not defined"
     ]
    }
   ],
   "source": [
    "wb = launch_workbench(client_workdir=str(workdir.absolute()))"
   ]
  },
  {
   "cell_type": "markdown",
   "id": "f11930c6",
   "metadata": {},
   "source": [
    "Upload the project files to the server using the `upload_file_from_example_repo` method.\n",
    "The file to upload is `sector_model.cdb`."
   ]
  },
  {
   "cell_type": "code",
   "execution_count": 6,
   "id": "bf9e8f3b",
   "metadata": {
    "execution": {
     "iopub.execute_input": "2024-10-24T14:44:49.492539Z",
     "iopub.status.busy": "2024-10-24T14:44:49.492539Z",
     "iopub.status.idle": "2024-10-24T14:44:49.514486Z",
     "shell.execute_reply": "2024-10-24T14:44:49.514486Z"
    }
   },
   "outputs": [
    {
     "ename": "NameError",
     "evalue": "name 'wb' is not defined",
     "output_type": "error",
     "traceback": [
      "\u001b[1;31m---------------------------------------------------------------------------\u001b[0m",
      "\u001b[1;31mNameError\u001b[0m                                 Traceback (most recent call last)",
      "Cell \u001b[1;32mIn[6], line 1\u001b[0m\n\u001b[1;32m----> 1\u001b[0m \u001b[43mwb\u001b[49m\u001b[38;5;241m.\u001b[39mupload_file_from_example_repo(\u001b[38;5;124m\"\u001b[39m\u001b[38;5;124mcyclic-symmetry-analysis/cdb/sector_model.cdb\u001b[39m\u001b[38;5;124m\"\u001b[39m)\n",
      "\u001b[1;31mNameError\u001b[0m: name 'wb' is not defined"
     ]
    }
   ],
   "source": [
    "wb.upload_file_from_example_repo(\"cyclic-symmetry-analysis/cdb/sector_model.cdb\")"
   ]
  },
  {
   "cell_type": "markdown",
   "id": "3426df72",
   "metadata": {},
   "source": [
    "Execute a Workbench script (`project.wbjn`) to define the project and load the geometry using the `run_script_file` method.\n",
    "The `set_log_file` method is used to direct the logs to `wb_log_file.log`.\n",
    "The name of the system created is stored in `sys_name` and printed."
   ]
  },
  {
   "cell_type": "code",
   "execution_count": 7,
   "id": "82fbb50e",
   "metadata": {
    "execution": {
     "iopub.execute_input": "2024-10-24T14:44:49.514486Z",
     "iopub.status.busy": "2024-10-24T14:44:49.514486Z",
     "iopub.status.idle": "2024-10-24T14:44:49.536336Z",
     "shell.execute_reply": "2024-10-24T14:44:49.536336Z"
    }
   },
   "outputs": [
    {
     "ename": "NameError",
     "evalue": "name 'wb' is not defined",
     "output_type": "error",
     "traceback": [
      "\u001b[1;31m---------------------------------------------------------------------------\u001b[0m",
      "\u001b[1;31mNameError\u001b[0m                                 Traceback (most recent call last)",
      "Cell \u001b[1;32mIn[7], line 2\u001b[0m\n\u001b[0;32m      1\u001b[0m export_path \u001b[38;5;241m=\u001b[39m \u001b[38;5;124m'\u001b[39m\u001b[38;5;124mwb_log_file.log\u001b[39m\u001b[38;5;124m'\u001b[39m\n\u001b[1;32m----> 2\u001b[0m \u001b[43mwb\u001b[49m\u001b[38;5;241m.\u001b[39mset_log_file(export_path)\n\u001b[0;32m      3\u001b[0m sys_name \u001b[38;5;241m=\u001b[39m wb\u001b[38;5;241m.\u001b[39mrun_script_file(\u001b[38;5;28mstr\u001b[39m((assets \u001b[38;5;241m/\u001b[39m \u001b[38;5;124m\"\u001b[39m\u001b[38;5;124mproject.wbjn\u001b[39m\u001b[38;5;124m\"\u001b[39m)\u001b[38;5;241m.\u001b[39mabsolute()), log_level\u001b[38;5;241m=\u001b[39m\u001b[38;5;124m'\u001b[39m\u001b[38;5;124minfo\u001b[39m\u001b[38;5;124m'\u001b[39m)\n\u001b[0;32m      4\u001b[0m \u001b[38;5;28mprint\u001b[39m(sys_name)\n",
      "\u001b[1;31mNameError\u001b[0m: name 'wb' is not defined"
     ]
    }
   ],
   "source": [
    "export_path = 'wb_log_file.log'\n",
    "wb.set_log_file(export_path)\n",
    "sys_name = wb.run_script_file(str((assets / \"project.wbjn\").absolute()), log_level='info')\n",
    "print(sys_name)"
   ]
  },
  {
   "cell_type": "markdown",
   "id": "0f568d3e",
   "metadata": {},
   "source": [
    "Start a PyMechanical server for the system using the `start_mechanical_server` method.\n",
    "Create a PyMechanical client session connected to this server using `launch_mechanical`.\n",
    "The project directory is printed to verify the connection."
   ]
  },
  {
   "cell_type": "code",
   "execution_count": 8,
   "id": "23d894b6",
   "metadata": {
    "execution": {
     "iopub.execute_input": "2024-10-24T14:44:49.536336Z",
     "iopub.status.busy": "2024-10-24T14:44:49.536336Z",
     "iopub.status.idle": "2024-10-24T14:44:49.558404Z",
     "shell.execute_reply": "2024-10-24T14:44:49.558404Z"
    }
   },
   "outputs": [
    {
     "ename": "NameError",
     "evalue": "name 'wb' is not defined",
     "output_type": "error",
     "traceback": [
      "\u001b[1;31m---------------------------------------------------------------------------\u001b[0m",
      "\u001b[1;31mNameError\u001b[0m                                 Traceback (most recent call last)",
      "Cell \u001b[1;32mIn[8], line 1\u001b[0m\n\u001b[1;32m----> 1\u001b[0m server_port \u001b[38;5;241m=\u001b[39m \u001b[43mwb\u001b[49m\u001b[38;5;241m.\u001b[39mstart_mechanical_server(system_name\u001b[38;5;241m=\u001b[39msys_name)\n\u001b[0;32m      2\u001b[0m mechanical \u001b[38;5;241m=\u001b[39m launch_mechanical(start_instance\u001b[38;5;241m=\u001b[39m\u001b[38;5;28;01mFalse\u001b[39;00m, ip\u001b[38;5;241m=\u001b[39m\u001b[38;5;124m'\u001b[39m\u001b[38;5;124mlocalhost\u001b[39m\u001b[38;5;124m'\u001b[39m, port\u001b[38;5;241m=\u001b[39mserver_port)\n",
      "\u001b[1;31mNameError\u001b[0m: name 'wb' is not defined"
     ]
    }
   ],
   "source": [
    "server_port = wb.start_mechanical_server(system_name=sys_name)\n",
    "mechanical = launch_mechanical(start_instance=False, ip='localhost', port=server_port)"
   ]
  },
  {
   "cell_type": "code",
   "execution_count": 9,
   "id": "1063a785",
   "metadata": {
    "execution": {
     "iopub.execute_input": "2024-10-24T14:44:49.558404Z",
     "iopub.status.busy": "2024-10-24T14:44:49.558404Z",
     "iopub.status.idle": "2024-10-24T14:44:49.578899Z",
     "shell.execute_reply": "2024-10-24T14:44:49.578899Z"
    }
   },
   "outputs": [
    {
     "ename": "NameError",
     "evalue": "name 'mechanical' is not defined",
     "output_type": "error",
     "traceback": [
      "\u001b[1;31m---------------------------------------------------------------------------\u001b[0m",
      "\u001b[1;31mNameError\u001b[0m                                 Traceback (most recent call last)",
      "Cell \u001b[1;32mIn[9], line 1\u001b[0m\n\u001b[1;32m----> 1\u001b[0m \u001b[38;5;28mprint\u001b[39m(\u001b[43mmechanical\u001b[49m\u001b[38;5;241m.\u001b[39mproject_directory)\n",
      "\u001b[1;31mNameError\u001b[0m: name 'mechanical' is not defined"
     ]
    }
   ],
   "source": [
    "print(mechanical.project_directory)"
   ]
  },
  {
   "cell_type": "markdown",
   "id": "0eaeef0d",
   "metadata": {},
   "source": [
    "Read and execute the script `cyclic_symmetry_analysis.py` via the PyMechanical client using `run_python_script`.\n",
    "This script typically contains commands to mesh and solve the model.\n",
    "The output of the script is printed."
   ]
  },
  {
   "cell_type": "code",
   "execution_count": 10,
   "id": "b6de14f0",
   "metadata": {
    "execution": {
     "iopub.execute_input": "2024-10-24T14:44:49.578899Z",
     "iopub.status.busy": "2024-10-24T14:44:49.578899Z",
     "iopub.status.idle": "2024-10-24T14:44:49.616942Z",
     "shell.execute_reply": "2024-10-24T14:44:49.616942Z"
    }
   },
   "outputs": [
    {
     "ename": "NameError",
     "evalue": "name 'mechanical' is not defined",
     "output_type": "error",
     "traceback": [
      "\u001b[1;31m---------------------------------------------------------------------------\u001b[0m",
      "\u001b[1;31mNameError\u001b[0m                                 Traceback (most recent call last)",
      "Cell \u001b[1;32mIn[10], line 3\u001b[0m\n\u001b[0;32m      1\u001b[0m \u001b[38;5;28;01mwith\u001b[39;00m \u001b[38;5;28mopen\u001b[39m(scripts \u001b[38;5;241m/\u001b[39m \u001b[38;5;124m\"\u001b[39m\u001b[38;5;124mcyclic_symmetry_analysis.py\u001b[39m\u001b[38;5;124m\"\u001b[39m) \u001b[38;5;28;01mas\u001b[39;00m sf:\n\u001b[0;32m      2\u001b[0m     mech_script \u001b[38;5;241m=\u001b[39m sf\u001b[38;5;241m.\u001b[39mread()\n\u001b[1;32m----> 3\u001b[0m mech_output \u001b[38;5;241m=\u001b[39m \u001b[43mmechanical\u001b[49m\u001b[38;5;241m.\u001b[39mrun_python_script(mech_script)\n\u001b[0;32m      4\u001b[0m \u001b[38;5;28mprint\u001b[39m(mech_output)\n",
      "\u001b[1;31mNameError\u001b[0m: name 'mechanical' is not defined"
     ]
    }
   ],
   "source": [
    "with open(scripts / \"cyclic_symmetry_analysis.py\") as sf:\n",
    "    mech_script = sf.read()\n",
    "mech_output = mechanical.run_python_script(mech_script)\n",
    "print(mech_output)"
   ]
  },
  {
   "cell_type": "markdown",
   "id": "ef036a9d",
   "metadata": {},
   "source": [
    "Specify the Mechanical directory and run a script to fetch the working directory path.\n",
    "The path where all solver files are stored on the server is printed.\n",
    "Download the solver output file (`solve.out`) from the server to the client's current working directory and print its contents."
   ]
  },
  {
   "cell_type": "code",
   "execution_count": 11,
   "id": "ec3c648c",
   "metadata": {
    "execution": {
     "iopub.execute_input": "2024-10-24T14:44:49.616942Z",
     "iopub.status.busy": "2024-10-24T14:44:49.616942Z",
     "iopub.status.idle": "2024-10-24T14:44:49.641270Z",
     "shell.execute_reply": "2024-10-24T14:44:49.641270Z"
    }
   },
   "outputs": [
    {
     "ename": "NameError",
     "evalue": "name 'mechanical' is not defined",
     "output_type": "error",
     "traceback": [
      "\u001b[1;31m---------------------------------------------------------------------------\u001b[0m",
      "\u001b[1;31mNameError\u001b[0m                                 Traceback (most recent call last)",
      "Cell \u001b[1;32mIn[11], line 1\u001b[0m\n\u001b[1;32m----> 1\u001b[0m \u001b[43mmechanical\u001b[49m\u001b[38;5;241m.\u001b[39mrun_python_script(\u001b[38;5;124mf\u001b[39m\u001b[38;5;124m\"\u001b[39m\u001b[38;5;124msolve_dir=ExtAPI.DataModel.AnalysisList[5].WorkingDir\u001b[39m\u001b[38;5;124m\"\u001b[39m)\n\u001b[0;32m      2\u001b[0m result_solve_dir_server \u001b[38;5;241m=\u001b[39m mechanical\u001b[38;5;241m.\u001b[39mrun_python_script(\u001b[38;5;124mf\u001b[39m\u001b[38;5;124m\"\u001b[39m\u001b[38;5;124msolve_dir\u001b[39m\u001b[38;5;124m\"\u001b[39m)\n\u001b[0;32m      3\u001b[0m \u001b[38;5;28mprint\u001b[39m(\u001b[38;5;124mf\u001b[39m\u001b[38;5;124m\"\u001b[39m\u001b[38;5;124mAll solver files are stored on the server at: \u001b[39m\u001b[38;5;132;01m{\u001b[39;00mresult_solve_dir_server\u001b[38;5;132;01m}\u001b[39;00m\u001b[38;5;124m\"\u001b[39m)\n",
      "\u001b[1;31mNameError\u001b[0m: name 'mechanical' is not defined"
     ]
    }
   ],
   "source": [
    "mechanical.run_python_script(f\"solve_dir=ExtAPI.DataModel.AnalysisList[5].WorkingDir\")\n",
    "result_solve_dir_server = mechanical.run_python_script(f\"solve_dir\")\n",
    "print(f\"All solver files are stored on the server at: {result_solve_dir_server}\")"
   ]
  },
  {
   "cell_type": "code",
   "execution_count": 12,
   "id": "5cbdb349",
   "metadata": {
    "execution": {
     "iopub.execute_input": "2024-10-24T14:44:49.641270Z",
     "iopub.status.busy": "2024-10-24T14:44:49.641270Z",
     "iopub.status.idle": "2024-10-24T14:44:49.660772Z",
     "shell.execute_reply": "2024-10-24T14:44:49.660772Z"
    },
    "lines_to_next_cell": 1
   },
   "outputs": [
    {
     "ename": "NameError",
     "evalue": "name 'result_solve_dir_server' is not defined",
     "output_type": "error",
     "traceback": [
      "\u001b[1;31m---------------------------------------------------------------------------\u001b[0m",
      "\u001b[1;31mNameError\u001b[0m                                 Traceback (most recent call last)",
      "Cell \u001b[1;32mIn[12], line 1\u001b[0m\n\u001b[1;32m----> 1\u001b[0m solve_out_path \u001b[38;5;241m=\u001b[39m os\u001b[38;5;241m.\u001b[39mpath\u001b[38;5;241m.\u001b[39mjoin(\u001b[43mresult_solve_dir_server\u001b[49m, \u001b[38;5;124m\"\u001b[39m\u001b[38;5;124msolve.out\u001b[39m\u001b[38;5;124m\"\u001b[39m)\n",
      "\u001b[1;31mNameError\u001b[0m: name 'result_solve_dir_server' is not defined"
     ]
    }
   ],
   "source": [
    "solve_out_path = os.path.join(result_solve_dir_server, \"solve.out\")"
   ]
  },
  {
   "cell_type": "code",
   "execution_count": 13,
   "id": "b9954047",
   "metadata": {
    "execution": {
     "iopub.execute_input": "2024-10-24T14:44:49.660772Z",
     "iopub.status.busy": "2024-10-24T14:44:49.660772Z",
     "iopub.status.idle": "2024-10-24T14:44:49.668263Z",
     "shell.execute_reply": "2024-10-24T14:44:49.668263Z"
    },
    "lines_to_next_cell": 1
   },
   "outputs": [],
   "source": [
    "def write_file_contents_to_console(path):\n",
    "    \"\"\"Write file contents to console.\"\"\"\n",
    "    with open(path, \"rt\") as file:\n",
    "        for line in file:\n",
    "            print(line, end=\"\")"
   ]
  },
  {
   "cell_type": "code",
   "execution_count": 14,
   "id": "a14eb945",
   "metadata": {
    "execution": {
     "iopub.execute_input": "2024-10-24T14:44:49.668263Z",
     "iopub.status.busy": "2024-10-24T14:44:49.668263Z",
     "iopub.status.idle": "2024-10-24T14:44:49.690181Z",
     "shell.execute_reply": "2024-10-24T14:44:49.690181Z"
    }
   },
   "outputs": [
    {
     "ename": "NameError",
     "evalue": "name 'mechanical' is not defined",
     "output_type": "error",
     "traceback": [
      "\u001b[1;31m---------------------------------------------------------------------------\u001b[0m",
      "\u001b[1;31mNameError\u001b[0m                                 Traceback (most recent call last)",
      "Cell \u001b[1;32mIn[14], line 2\u001b[0m\n\u001b[0;32m      1\u001b[0m current_working_directory \u001b[38;5;241m=\u001b[39m os\u001b[38;5;241m.\u001b[39mgetcwd()\n\u001b[1;32m----> 2\u001b[0m \u001b[43mmechanical\u001b[49m\u001b[38;5;241m.\u001b[39mdownload(solve_out_path, target_dir\u001b[38;5;241m=\u001b[39mcurrent_working_directory)\n\u001b[0;32m      3\u001b[0m solve_out_local_path \u001b[38;5;241m=\u001b[39m os\u001b[38;5;241m.\u001b[39mpath\u001b[38;5;241m.\u001b[39mjoin(current_working_directory, \u001b[38;5;124m\"\u001b[39m\u001b[38;5;124msolve.out\u001b[39m\u001b[38;5;124m\"\u001b[39m)\n\u001b[0;32m      4\u001b[0m write_file_contents_to_console(solve_out_local_path)\n",
      "\u001b[1;31mNameError\u001b[0m: name 'mechanical' is not defined"
     ]
    }
   ],
   "source": [
    "current_working_directory = os.getcwd()\n",
    "mechanical.download(solve_out_path, target_dir=current_working_directory)\n",
    "solve_out_local_path = os.path.join(current_working_directory, \"solve.out\")\n",
    "write_file_contents_to_console(solve_out_local_path)\n",
    "os.remove(solve_out_local_path)"
   ]
  },
  {
   "cell_type": "markdown",
   "id": "6b82c48d",
   "metadata": {},
   "source": [
    "Specify the Mechanical directory path for images and run a script to fetch the directory path.\n",
    "The path where images are stored on the server is printed.\n",
    "Download an image file (`deformation.png`) from the server to the client's current working directory and display it using `matplotlib`."
   ]
  },
  {
   "cell_type": "code",
   "execution_count": 15,
   "id": "b4a467cd",
   "metadata": {
    "execution": {
     "iopub.execute_input": "2024-10-24T14:44:49.690181Z",
     "iopub.status.busy": "2024-10-24T14:44:49.690181Z",
     "iopub.status.idle": "2024-10-24T14:44:50.386136Z",
     "shell.execute_reply": "2024-10-24T14:44:50.386136Z"
    }
   },
   "outputs": [],
   "source": [
    "from matplotlib import image as mpimg\n",
    "from matplotlib import pyplot as plt"
   ]
  },
  {
   "cell_type": "code",
   "execution_count": 16,
   "id": "c6330be9",
   "metadata": {
    "execution": {
     "iopub.execute_input": "2024-10-24T14:44:50.386136Z",
     "iopub.status.busy": "2024-10-24T14:44:50.386136Z",
     "iopub.status.idle": "2024-10-24T14:44:50.464051Z",
     "shell.execute_reply": "2024-10-24T14:44:50.464051Z"
    },
    "lines_to_next_cell": 1
   },
   "outputs": [
    {
     "ename": "NameError",
     "evalue": "name 'mechanical' is not defined",
     "output_type": "error",
     "traceback": [
      "\u001b[1;31m---------------------------------------------------------------------------\u001b[0m",
      "\u001b[1;31mNameError\u001b[0m                                 Traceback (most recent call last)",
      "Cell \u001b[1;32mIn[16], line 1\u001b[0m\n\u001b[1;32m----> 1\u001b[0m \u001b[43mmechanical\u001b[49m\u001b[38;5;241m.\u001b[39mrun_python_script(\u001b[38;5;124mf\u001b[39m\u001b[38;5;124m\"\u001b[39m\u001b[38;5;124mimage_dir=ExtAPI.DataModel.AnalysisList[5].WorkingDir\u001b[39m\u001b[38;5;124m\"\u001b[39m)\n\u001b[0;32m      2\u001b[0m result_image_dir_server \u001b[38;5;241m=\u001b[39m mechanical\u001b[38;5;241m.\u001b[39mrun_python_script(\u001b[38;5;124mf\u001b[39m\u001b[38;5;124m\"\u001b[39m\u001b[38;5;124mimage_dir\u001b[39m\u001b[38;5;124m\"\u001b[39m)\n\u001b[0;32m      3\u001b[0m \u001b[38;5;28mprint\u001b[39m(\u001b[38;5;124mf\u001b[39m\u001b[38;5;124m\"\u001b[39m\u001b[38;5;124mImages are stored on the server at: \u001b[39m\u001b[38;5;132;01m{\u001b[39;00mresult_image_dir_server\u001b[38;5;132;01m}\u001b[39;00m\u001b[38;5;124m\"\u001b[39m)\n",
      "\u001b[1;31mNameError\u001b[0m: name 'mechanical' is not defined"
     ]
    }
   ],
   "source": [
    "mechanical.run_python_script(f\"image_dir=ExtAPI.DataModel.AnalysisList[5].WorkingDir\")\n",
    "result_image_dir_server = mechanical.run_python_script(f\"image_dir\")\n",
    "print(f\"Images are stored on the server at: {result_image_dir_server}\")"
   ]
  },
  {
   "cell_type": "code",
   "execution_count": 17,
   "id": "d3b5af27",
   "metadata": {
    "execution": {
     "iopub.execute_input": "2024-10-24T14:44:50.464051Z",
     "iopub.status.busy": "2024-10-24T14:44:50.464051Z",
     "iopub.status.idle": "2024-10-24T14:44:50.471982Z",
     "shell.execute_reply": "2024-10-24T14:44:50.471982Z"
    },
    "lines_to_next_cell": 1
   },
   "outputs": [],
   "source": [
    "def get_image_path(image_name):\n",
    "    return os.path.join(result_image_dir_server, image_name)"
   ]
  },
  {
   "cell_type": "code",
   "execution_count": 18,
   "id": "43ee639f",
   "metadata": {
    "execution": {
     "iopub.execute_input": "2024-10-24T14:44:50.471982Z",
     "iopub.status.busy": "2024-10-24T14:44:50.471982Z",
     "iopub.status.idle": "2024-10-24T14:44:50.479312Z",
     "shell.execute_reply": "2024-10-24T14:44:50.479312Z"
    },
    "lines_to_next_cell": 1
   },
   "outputs": [],
   "source": [
    "def display_image(path):\n",
    "    print(f\"Printing {path} using matplotlib\")\n",
    "    image1 = mpimg.imread(path)\n",
    "    plt.figure(figsize=(15, 15))\n",
    "    plt.axis(\"off\")\n",
    "    plt.imshow(image1)\n",
    "    plt.show()"
   ]
  },
  {
   "cell_type": "code",
   "execution_count": 19,
   "id": "006c645d",
   "metadata": {
    "execution": {
     "iopub.execute_input": "2024-10-24T14:44:50.479312Z",
     "iopub.status.busy": "2024-10-24T14:44:50.479312Z",
     "iopub.status.idle": "2024-10-24T14:44:50.508822Z",
     "shell.execute_reply": "2024-10-24T14:44:50.508822Z"
    }
   },
   "outputs": [
    {
     "ename": "NameError",
     "evalue": "name 'result_image_dir_server' is not defined",
     "output_type": "error",
     "traceback": [
      "\u001b[1;31m---------------------------------------------------------------------------\u001b[0m",
      "\u001b[1;31mNameError\u001b[0m                                 Traceback (most recent call last)",
      "Cell \u001b[1;32mIn[19], line 2\u001b[0m\n\u001b[0;32m      1\u001b[0m image_name \u001b[38;5;241m=\u001b[39m \u001b[38;5;124m\"\u001b[39m\u001b[38;5;124mdeformation.png\u001b[39m\u001b[38;5;124m\"\u001b[39m\n\u001b[1;32m----> 2\u001b[0m image_path_server \u001b[38;5;241m=\u001b[39m \u001b[43mget_image_path\u001b[49m\u001b[43m(\u001b[49m\u001b[43mimage_name\u001b[49m\u001b[43m)\u001b[49m\n",
      "Cell \u001b[1;32mIn[17], line 2\u001b[0m, in \u001b[0;36mget_image_path\u001b[1;34m(image_name)\u001b[0m\n\u001b[0;32m      1\u001b[0m \u001b[38;5;28;01mdef\u001b[39;00m \u001b[38;5;21mget_image_path\u001b[39m(image_name):\n\u001b[1;32m----> 2\u001b[0m     \u001b[38;5;28;01mreturn\u001b[39;00m os\u001b[38;5;241m.\u001b[39mpath\u001b[38;5;241m.\u001b[39mjoin(\u001b[43mresult_image_dir_server\u001b[49m, image_name)\n",
      "\u001b[1;31mNameError\u001b[0m: name 'result_image_dir_server' is not defined"
     ]
    }
   ],
   "source": [
    "image_name = \"deformation.png\"\n",
    "image_path_server = get_image_path(image_name)"
   ]
  },
  {
   "cell_type": "code",
   "execution_count": 20,
   "id": "176ac4fd",
   "metadata": {
    "execution": {
     "iopub.execute_input": "2024-10-24T14:44:50.508822Z",
     "iopub.status.busy": "2024-10-24T14:44:50.508822Z",
     "iopub.status.idle": "2024-10-24T14:44:50.533339Z",
     "shell.execute_reply": "2024-10-24T14:44:50.533339Z"
    }
   },
   "outputs": [
    {
     "ename": "NameError",
     "evalue": "name 'image_path_server' is not defined",
     "output_type": "error",
     "traceback": [
      "\u001b[1;31m---------------------------------------------------------------------------\u001b[0m",
      "\u001b[1;31mNameError\u001b[0m                                 Traceback (most recent call last)",
      "Cell \u001b[1;32mIn[20], line 1\u001b[0m\n\u001b[1;32m----> 1\u001b[0m \u001b[38;5;28;01mif\u001b[39;00m \u001b[43mimage_path_server\u001b[49m \u001b[38;5;241m!=\u001b[39m \u001b[38;5;124m\"\u001b[39m\u001b[38;5;124m\"\u001b[39m:\n\u001b[0;32m      2\u001b[0m     current_working_directory \u001b[38;5;241m=\u001b[39m os\u001b[38;5;241m.\u001b[39mgetcwd()\n\u001b[0;32m      4\u001b[0m     local_file_path_list \u001b[38;5;241m=\u001b[39m mechanical\u001b[38;5;241m.\u001b[39mdownload(\n\u001b[0;32m      5\u001b[0m         image_path_server, target_dir\u001b[38;5;241m=\u001b[39mcurrent_working_directory\n\u001b[0;32m      6\u001b[0m     )\n",
      "\u001b[1;31mNameError\u001b[0m: name 'image_path_server' is not defined"
     ]
    }
   ],
   "source": [
    "if image_path_server != \"\":\n",
    "    current_working_directory = os.getcwd()\n",
    "\n",
    "    local_file_path_list = mechanical.download(\n",
    "        image_path_server, target_dir=current_working_directory\n",
    "    )\n",
    "    image_local_path = local_file_path_list[0]\n",
    "    print(f\"Local image path : {image_local_path}\")\n",
    "\n",
    "    display_image(image_local_path)"
   ]
  },
  {
   "cell_type": "markdown",
   "id": "b38b3531",
   "metadata": {},
   "source": [
    "Download all the files from the server to the current working directory.\n",
    "Verify the source path for the directory and copy all files from the server to the client."
   ]
  },
  {
   "cell_type": "code",
   "execution_count": 21,
   "id": "d0319bab",
   "metadata": {
    "execution": {
     "iopub.execute_input": "2024-10-24T14:44:50.533339Z",
     "iopub.status.busy": "2024-10-24T14:44:50.533339Z",
     "iopub.status.idle": "2024-10-24T14:44:50.554288Z",
     "shell.execute_reply": "2024-10-24T14:44:50.554288Z"
    }
   },
   "outputs": [
    {
     "ename": "NameError",
     "evalue": "name 'mechanical' is not defined",
     "output_type": "error",
     "traceback": [
      "\u001b[1;31m---------------------------------------------------------------------------\u001b[0m",
      "\u001b[1;31mNameError\u001b[0m                                 Traceback (most recent call last)",
      "Cell \u001b[1;32mIn[21], line 1\u001b[0m\n\u001b[1;32m----> 1\u001b[0m \u001b[43mmechanical\u001b[49m\u001b[38;5;241m.\u001b[39mrun_python_script(\u001b[38;5;124mf\u001b[39m\u001b[38;5;124m\"\u001b[39m\u001b[38;5;124msolve_dir=ExtAPI.DataModel.AnalysisList[5].WorkingDir\u001b[39m\u001b[38;5;124m\"\u001b[39m)\n\u001b[0;32m      2\u001b[0m result_solve_dir_server \u001b[38;5;241m=\u001b[39m mechanical\u001b[38;5;241m.\u001b[39mrun_python_script(\u001b[38;5;124mf\u001b[39m\u001b[38;5;124m\"\u001b[39m\u001b[38;5;124msolve_dir\u001b[39m\u001b[38;5;124m\"\u001b[39m)\n\u001b[0;32m      3\u001b[0m \u001b[38;5;28mprint\u001b[39m(\u001b[38;5;124mf\u001b[39m\u001b[38;5;124m\"\u001b[39m\u001b[38;5;124mAll solver files are stored on the server at: \u001b[39m\u001b[38;5;132;01m{\u001b[39;00mresult_solve_dir_server\u001b[38;5;132;01m}\u001b[39;00m\u001b[38;5;124m\"\u001b[39m)\n",
      "\u001b[1;31mNameError\u001b[0m: name 'mechanical' is not defined"
     ]
    }
   ],
   "source": [
    "mechanical.run_python_script(f\"solve_dir=ExtAPI.DataModel.AnalysisList[5].WorkingDir\")\n",
    "result_solve_dir_server = mechanical.run_python_script(f\"solve_dir\")\n",
    "print(f\"All solver files are stored on the server at: {result_solve_dir_server}\")"
   ]
  },
  {
   "cell_type": "code",
   "execution_count": 22,
   "id": "fb1200c3",
   "metadata": {
    "execution": {
     "iopub.execute_input": "2024-10-24T14:44:50.554288Z",
     "iopub.status.busy": "2024-10-24T14:44:50.554288Z",
     "iopub.status.idle": "2024-10-24T14:44:50.575484Z",
     "shell.execute_reply": "2024-10-24T14:44:50.575484Z"
    }
   },
   "outputs": [
    {
     "ename": "NameError",
     "evalue": "name 'result_solve_dir_server' is not defined",
     "output_type": "error",
     "traceback": [
      "\u001b[1;31m---------------------------------------------------------------------------\u001b[0m",
      "\u001b[1;31mNameError\u001b[0m                                 Traceback (most recent call last)",
      "Cell \u001b[1;32mIn[22], line 1\u001b[0m\n\u001b[1;32m----> 1\u001b[0m solve_out_path \u001b[38;5;241m=\u001b[39m os\u001b[38;5;241m.\u001b[39mpath\u001b[38;5;241m.\u001b[39mjoin(\u001b[43mresult_solve_dir_server\u001b[49m, \u001b[38;5;124m\"\u001b[39m\u001b[38;5;124m*.*\u001b[39m\u001b[38;5;124m\"\u001b[39m)\n",
      "\u001b[1;31mNameError\u001b[0m: name 'result_solve_dir_server' is not defined"
     ]
    }
   ],
   "source": [
    "solve_out_path = os.path.join(result_solve_dir_server, \"*.*\")"
   ]
  },
  {
   "cell_type": "code",
   "execution_count": 23,
   "id": "b0accc1f",
   "metadata": {
    "execution": {
     "iopub.execute_input": "2024-10-24T14:44:50.575484Z",
     "iopub.status.busy": "2024-10-24T14:44:50.575484Z",
     "iopub.status.idle": "2024-10-24T14:44:50.596933Z",
     "shell.execute_reply": "2024-10-24T14:44:50.596933Z"
    }
   },
   "outputs": [
    {
     "ename": "NameError",
     "evalue": "name 'mechanical' is not defined",
     "output_type": "error",
     "traceback": [
      "\u001b[1;31m---------------------------------------------------------------------------\u001b[0m",
      "\u001b[1;31mNameError\u001b[0m                                 Traceback (most recent call last)",
      "Cell \u001b[1;32mIn[23], line 2\u001b[0m\n\u001b[0;32m      1\u001b[0m current_working_directory \u001b[38;5;241m=\u001b[39m os\u001b[38;5;241m.\u001b[39mgetcwd()\n\u001b[1;32m----> 2\u001b[0m \u001b[43mmechanical\u001b[49m\u001b[38;5;241m.\u001b[39mdownload(solve_out_path, target_dir\u001b[38;5;241m=\u001b[39mcurrent_working_directory)\n",
      "\u001b[1;31mNameError\u001b[0m: name 'mechanical' is not defined"
     ]
    }
   ],
   "source": [
    "current_working_directory = os.getcwd()\n",
    "mechanical.download(solve_out_path, target_dir=current_working_directory)"
   ]
  },
  {
   "cell_type": "markdown",
   "id": "eeddd1bf",
   "metadata": {},
   "source": [
    "Finally, the `exit` method is called on both the PyMechanical and Workbench clients to gracefully shut down the services, ensuring that all resources are properly released."
   ]
  },
  {
   "cell_type": "code",
   "execution_count": 24,
   "id": "d977feba",
   "metadata": {
    "execution": {
     "iopub.execute_input": "2024-10-24T14:44:50.596933Z",
     "iopub.status.busy": "2024-10-24T14:44:50.596933Z",
     "iopub.status.idle": "2024-10-24T14:44:50.632721Z",
     "shell.execute_reply": "2024-10-24T14:44:50.632721Z"
    }
   },
   "outputs": [
    {
     "ename": "NameError",
     "evalue": "name 'mechanical' is not defined",
     "output_type": "error",
     "traceback": [
      "\u001b[1;31m---------------------------------------------------------------------------\u001b[0m",
      "\u001b[1;31mNameError\u001b[0m                                 Traceback (most recent call last)",
      "Cell \u001b[1;32mIn[24], line 1\u001b[0m\n\u001b[1;32m----> 1\u001b[0m \u001b[43mmechanical\u001b[49m\u001b[38;5;241m.\u001b[39mexit()\n\u001b[0;32m      2\u001b[0m wb\u001b[38;5;241m.\u001b[39mexit()\n",
      "\u001b[1;31mNameError\u001b[0m: name 'mechanical' is not defined"
     ]
    }
   ],
   "source": [
    "mechanical.exit()\n",
    "wb.exit()"
   ]
  }
 ],
 "metadata": {
  "jupytext": {
   "cell_metadata_filter": "-all",
   "main_language": "python",
   "notebook_metadata_filter": "-all",
   "text_representation": {
    "extension": ".py",
    "format_name": "light"
   }
  },
  "language_info": {
   "codemirror_mode": {
    "name": "ipython",
    "version": 3
   },
   "file_extension": ".py",
   "mimetype": "text/x-python",
   "name": "python",
   "nbconvert_exporter": "python",
   "pygments_lexer": "ipython3",
   "version": "3.11.9"
  }
 },
 "nbformat": 4,
 "nbformat_minor": 5
}
