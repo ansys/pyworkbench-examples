{
 "cells": [
  {
   "cell_type": "markdown",
   "id": "0765e0bd",
   "metadata": {},
   "source": [
    "# Transient Electro-Thermal Simulation of Transient Voltage Suppression (TVS) Diodes"
   ]
  },
  {
   "cell_type": "markdown",
   "id": "fa43646f",
   "metadata": {
    "lines_to_next_cell": 2
   },
   "source": [
    "This notebook demonstrates the process of running a Workbench service with Electronic Desktop on a local machine to solve highly non-linear Diode response subjected to high thermal load and mechanical stresses.\n",
    "It includes steps for uploading project files, executing scripts."
   ]
  },
  {
   "cell_type": "code",
   "execution_count": 1,
   "id": "963e0fc2",
   "metadata": {
    "execution": {
     "iopub.execute_input": "2024-10-24T14:44:29.353143Z",
     "iopub.status.busy": "2024-10-24T14:44:29.353143Z",
     "iopub.status.idle": "2024-10-24T14:44:29.746930Z",
     "shell.execute_reply": "2024-10-24T14:44:29.746930Z"
    }
   },
   "outputs": [
    {
     "ename": "ModuleNotFoundError",
     "evalue": "No module named 'ansys'",
     "output_type": "error",
     "traceback": [
      "\u001b[1;31m---------------------------------------------------------------------------\u001b[0m",
      "\u001b[1;31mModuleNotFoundError\u001b[0m                       Traceback (most recent call last)",
      "Cell \u001b[1;32mIn[1], line 3\u001b[0m\n\u001b[0;32m      1\u001b[0m \u001b[38;5;28;01mimport\u001b[39;00m \u001b[38;5;21;01mpathlib\u001b[39;00m\n\u001b[0;32m      2\u001b[0m \u001b[38;5;28;01mimport\u001b[39;00m \u001b[38;5;21;01mos\u001b[39;00m\n\u001b[1;32m----> 3\u001b[0m \u001b[38;5;28;01mfrom\u001b[39;00m \u001b[38;5;21;01mansys\u001b[39;00m\u001b[38;5;21;01m.\u001b[39;00m\u001b[38;5;21;01mworkbench\u001b[39;00m\u001b[38;5;21;01m.\u001b[39;00m\u001b[38;5;21;01mcore\u001b[39;00m \u001b[38;5;28;01mimport\u001b[39;00m launch_workbench\n",
      "\u001b[1;31mModuleNotFoundError\u001b[0m: No module named 'ansys'"
     ]
    }
   ],
   "source": [
    "import pathlib\n",
    "import os\n",
    "from ansys.workbench.core import launch_workbench"
   ]
  },
  {
   "cell_type": "markdown",
   "id": "f743f1fd",
   "metadata": {
    "lines_to_next_cell": 2
   },
   "source": [
    "Launch the Workbench service on the local machine using specific options.\n",
    "Define the working directory and subdirectories for assets, scripts, and geometry databases (agdb).\n",
    "The `launch_workbench` function starts a Workbench session with the specified directories."
   ]
  },
  {
   "cell_type": "code",
   "execution_count": 2,
   "id": "4c9f52e5",
   "metadata": {
    "execution": {
     "iopub.execute_input": "2024-10-24T14:44:29.746930Z",
     "iopub.status.busy": "2024-10-24T14:44:29.746930Z",
     "iopub.status.idle": "2024-10-24T14:44:29.755425Z",
     "shell.execute_reply": "2024-10-24T14:44:29.755425Z"
    }
   },
   "outputs": [],
   "source": [
    "workdir = pathlib.Path(\"__file__\").parent"
   ]
  },
  {
   "cell_type": "code",
   "execution_count": 3,
   "id": "662d7d71",
   "metadata": {
    "execution": {
     "iopub.execute_input": "2024-10-24T14:44:29.755425Z",
     "iopub.status.busy": "2024-10-24T14:44:29.755425Z",
     "iopub.status.idle": "2024-10-24T14:44:29.763351Z",
     "shell.execute_reply": "2024-10-24T14:44:29.763351Z"
    },
    "lines_to_next_cell": 2
   },
   "outputs": [],
   "source": [
    "assets = workdir / \"assets\"\n",
    "scripts = workdir / \"scripts\""
   ]
  },
  {
   "cell_type": "code",
   "execution_count": 4,
   "id": "403612e4",
   "metadata": {
    "execution": {
     "iopub.execute_input": "2024-10-24T14:44:29.763351Z",
     "iopub.status.busy": "2024-10-24T14:44:29.763351Z",
     "iopub.status.idle": "2024-10-24T14:44:29.786069Z",
     "shell.execute_reply": "2024-10-24T14:44:29.786069Z"
    }
   },
   "outputs": [
    {
     "ename": "NameError",
     "evalue": "name 'launch_workbench' is not defined",
     "output_type": "error",
     "traceback": [
      "\u001b[1;31m---------------------------------------------------------------------------\u001b[0m",
      "\u001b[1;31mNameError\u001b[0m                                 Traceback (most recent call last)",
      "Cell \u001b[1;32mIn[4], line 1\u001b[0m\n\u001b[1;32m----> 1\u001b[0m wb \u001b[38;5;241m=\u001b[39m \u001b[43mlaunch_workbench\u001b[49m(client_workdir\u001b[38;5;241m=\u001b[39m\u001b[38;5;28mstr\u001b[39m(workdir\u001b[38;5;241m.\u001b[39mabsolute()))\n",
      "\u001b[1;31mNameError\u001b[0m: name 'launch_workbench' is not defined"
     ]
    }
   ],
   "source": [
    "wb = launch_workbench(client_workdir=str(workdir.absolute()))"
   ]
  },
  {
   "cell_type": "markdown",
   "id": "e2f33f8b",
   "metadata": {
    "lines_to_next_cell": 2
   },
   "source": [
    "Upload the project files to the server using the `upload_file` method.\n",
    "The files uploaded are `TVR14471_V_short.wbpz`, `10_1000_Pulse_short.csv`\n",
    "\n",
    "**Note**: use 10_1000_Pulse.csv for fullscale simulation"
   ]
  },
  {
   "cell_type": "code",
   "execution_count": 5,
   "id": "70d628e6",
   "metadata": {
    "execution": {
     "iopub.execute_input": "2024-10-24T14:44:29.786069Z",
     "iopub.status.busy": "2024-10-24T14:44:29.786069Z",
     "iopub.status.idle": "2024-10-24T14:44:29.807236Z",
     "shell.execute_reply": "2024-10-24T14:44:29.807236Z"
    }
   },
   "outputs": [
    {
     "ename": "NameError",
     "evalue": "name 'wb' is not defined",
     "output_type": "error",
     "traceback": [
      "\u001b[1;31m---------------------------------------------------------------------------\u001b[0m",
      "\u001b[1;31mNameError\u001b[0m                                 Traceback (most recent call last)",
      "Cell \u001b[1;32mIn[5], line 1\u001b[0m\n\u001b[1;32m----> 1\u001b[0m \u001b[43mwb\u001b[49m\u001b[38;5;241m.\u001b[39mupload_file_from_example_repo(\u001b[38;5;124m\"\u001b[39m\u001b[38;5;124mansys-aedt-workflow/wbpz/TVR14471_V_short.wbpz\u001b[39m\u001b[38;5;124m\"\u001b[39m)\n\u001b[0;32m      2\u001b[0m wb\u001b[38;5;241m.\u001b[39mupload_file(\u001b[38;5;28mstr\u001b[39m(assets \u001b[38;5;241m/\u001b[39m \u001b[38;5;124m\"\u001b[39m\u001b[38;5;124m10_1000_Pulse_short.csv\u001b[39m\u001b[38;5;124m\"\u001b[39m))\n",
      "\u001b[1;31mNameError\u001b[0m: name 'wb' is not defined"
     ]
    }
   ],
   "source": [
    "wb.upload_file_from_example_repo(\"ansys-aedt-workflow/wbpz/TVR14471_V_short.wbpz\")\n",
    "wb.upload_file(str(assets / \"10_1000_Pulse_short.csv\"))"
   ]
  },
  {
   "cell_type": "markdown",
   "id": "45dd7380",
   "metadata": {},
   "source": [
    "Execute a Workbench script (`project.wbjn`) to define the project and load the geometry using the `run_script_file` method.\n",
    "The `set_log_file` method is used to direct the logs to `wb_log_file.log`.\n",
    "\n",
    "**Note**: For full-scale simulation use `TVR14471_V.wbpz` in line 7 of `project.wbjn`"
   ]
  },
  {
   "cell_type": "code",
   "execution_count": 6,
   "id": "d4821f30",
   "metadata": {
    "execution": {
     "iopub.execute_input": "2024-10-24T14:44:29.807236Z",
     "iopub.status.busy": "2024-10-24T14:44:29.807236Z",
     "iopub.status.idle": "2024-10-24T14:44:29.831857Z",
     "shell.execute_reply": "2024-10-24T14:44:29.831857Z"
    }
   },
   "outputs": [
    {
     "ename": "NameError",
     "evalue": "name 'wb' is not defined",
     "output_type": "error",
     "traceback": [
      "\u001b[1;31m---------------------------------------------------------------------------\u001b[0m",
      "\u001b[1;31mNameError\u001b[0m                                 Traceback (most recent call last)",
      "Cell \u001b[1;32mIn[6], line 2\u001b[0m\n\u001b[0;32m      1\u001b[0m export_path \u001b[38;5;241m=\u001b[39m \u001b[38;5;124m'\u001b[39m\u001b[38;5;124mwb_log_file.log\u001b[39m\u001b[38;5;124m'\u001b[39m\n\u001b[1;32m----> 2\u001b[0m \u001b[43mwb\u001b[49m\u001b[38;5;241m.\u001b[39mset_log_file(export_path)\n\u001b[0;32m      3\u001b[0m wb\u001b[38;5;241m.\u001b[39mrun_script_file(\u001b[38;5;28mstr\u001b[39m((assets \u001b[38;5;241m/\u001b[39m \u001b[38;5;124m\"\u001b[39m\u001b[38;5;124mproject.wbjn\u001b[39m\u001b[38;5;124m\"\u001b[39m)\u001b[38;5;241m.\u001b[39mabsolute()), log_level\u001b[38;5;241m=\u001b[39m\u001b[38;5;124m'\u001b[39m\u001b[38;5;124minfo\u001b[39m\u001b[38;5;124m'\u001b[39m)\n",
      "\u001b[1;31mNameError\u001b[0m: name 'wb' is not defined"
     ]
    }
   ],
   "source": [
    "export_path = 'wb_log_file.log'\n",
    "wb.set_log_file(export_path)\n",
    "wb.run_script_file(str((assets / \"project.wbjn\").absolute()), log_level='info')"
   ]
  },
  {
   "cell_type": "markdown",
   "id": "42495d96",
   "metadata": {},
   "source": [
    "Start a Mechanical and AEDT client sessions to solve the Transient Electro-Thermal Simulation.\n",
    "Both MECHANICAL and AEDT sessions will be started\n",
    "\n",
    "**Note**: Disable the Distribution of the solution in Ansys Mechanical. For Full scale simulation use `10_1000_Pulse.csv` in line 232 of `DC_Cond_ThermTransient_VariableTimeStep.py`\n"
   ]
  },
  {
   "cell_type": "code",
   "execution_count": 7,
   "id": "9869e011",
   "metadata": {
    "execution": {
     "iopub.execute_input": "2024-10-24T14:44:29.831857Z",
     "iopub.status.busy": "2024-10-24T14:44:29.831857Z",
     "iopub.status.idle": "2024-10-24T14:44:29.854082Z",
     "shell.execute_reply": "2024-10-24T14:44:29.854082Z"
    }
   },
   "outputs": [
    {
     "ename": "NameError",
     "evalue": "name 'wb' is not defined",
     "output_type": "error",
     "traceback": [
      "\u001b[1;31m---------------------------------------------------------------------------\u001b[0m",
      "\u001b[1;31mNameError\u001b[0m                                 Traceback (most recent call last)",
      "Cell \u001b[1;32mIn[7], line 1\u001b[0m\n\u001b[1;32m----> 1\u001b[0m \u001b[43mwb\u001b[49m\u001b[38;5;241m.\u001b[39mrun_script_file(\u001b[38;5;28mstr\u001b[39m((scripts \u001b[38;5;241m/\u001b[39m \u001b[38;5;124m\"\u001b[39m\u001b[38;5;124mDC_Cond_ThermTransient_VariableTimeStep.py\u001b[39m\u001b[38;5;124m\"\u001b[39m)\u001b[38;5;241m.\u001b[39mabsolute()), log_level\u001b[38;5;241m=\u001b[39m\u001b[38;5;124m'\u001b[39m\u001b[38;5;124minfo\u001b[39m\u001b[38;5;124m'\u001b[39m)\n",
      "\u001b[1;31mNameError\u001b[0m: name 'wb' is not defined"
     ]
    }
   ],
   "source": [
    "wb.run_script_file(str((scripts / \"DC_Cond_ThermTransient_VariableTimeStep.py\").absolute()), log_level='info')"
   ]
  },
  {
   "cell_type": "markdown",
   "id": "4068f3bf",
   "metadata": {},
   "source": [
    "Shutdown the Ansys Workbench server session"
   ]
  },
  {
   "cell_type": "code",
   "execution_count": 8,
   "id": "364bc1d1",
   "metadata": {
    "execution": {
     "iopub.execute_input": "2024-10-24T14:44:29.854082Z",
     "iopub.status.busy": "2024-10-24T14:44:29.854082Z",
     "iopub.status.idle": "2024-10-24T14:44:29.874926Z",
     "shell.execute_reply": "2024-10-24T14:44:29.874926Z"
    }
   },
   "outputs": [
    {
     "ename": "NameError",
     "evalue": "name 'wb' is not defined",
     "output_type": "error",
     "traceback": [
      "\u001b[1;31m---------------------------------------------------------------------------\u001b[0m",
      "\u001b[1;31mNameError\u001b[0m                                 Traceback (most recent call last)",
      "Cell \u001b[1;32mIn[8], line 1\u001b[0m\n\u001b[1;32m----> 1\u001b[0m \u001b[43mwb\u001b[49m\u001b[38;5;241m.\u001b[39mexit()\n",
      "\u001b[1;31mNameError\u001b[0m: name 'wb' is not defined"
     ]
    }
   ],
   "source": [
    "wb.exit()"
   ]
  },
  {
   "cell_type": "code",
   "execution_count": null,
   "id": "c54614bb",
   "metadata": {},
   "outputs": [],
   "source": []
  }
 ],
 "metadata": {
  "jupytext": {
   "cell_metadata_filter": "-all",
   "main_language": "python",
   "notebook_metadata_filter": "-all",
   "text_representation": {
    "extension": ".py",
    "format_name": "light"
   }
  },
  "language_info": {
   "codemirror_mode": {
    "name": "ipython",
    "version": 3
   },
   "file_extension": ".py",
   "mimetype": "text/x-python",
   "name": "python",
   "nbconvert_exporter": "python",
   "pygments_lexer": "ipython3",
   "version": "3.11.9"
  }
 },
 "nbformat": 4,
 "nbformat_minor": 5
}
