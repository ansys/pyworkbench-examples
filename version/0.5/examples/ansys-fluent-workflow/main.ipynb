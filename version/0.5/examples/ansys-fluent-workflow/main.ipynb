{
 "cells": [
  {
   "cell_type": "markdown",
   "id": "36188bd6",
   "metadata": {},
   "source": [
    "# Ansys Fluent workflow\n",
    "\n",
    "In this example, the application of PyWorkbench, a Python client scripting tool for Ansys Workbench, is demonstrated in a use case for Ansys Fluent Workflow. The Ansys Fluent TUI (Text User Interface) journal files are utilized to set up and solve the simulation. For meshing Ansys Fluent Meshing WTM (Water Tight Meshing Workflow)is employed through recorded journaling capabilites of Ansys Fluent. As aware, Workbench offers the ability to record actions performed in the user interface, also known as journaling. These recorded actions are saved as Python scripts, which allow for extending functionality, automating repetitive analyses, and running analyses in batch mode. This example demonstrates how to use such a journal file with PyWorkbench for Ansys Fluent Workflow."
   ]
  },
  {
   "cell_type": "markdown",
   "id": "22e790b3",
   "metadata": {},
   "source": [
    "This example sets up and solves a three-dimensional turbulent fluid flow and heat transfer problem in a mixing elbow, which is common in piping systems in power plants and process industries. Predicting the flow field and temperature field in the area of the mixing region is important to designing the junction properly.\n",
    "\n",
    "# Problem description\n",
    "A cold fluid at 20 deg C flows into the pipe through a large inlet. It then mixes with a warmer fluid at 40 deg C that enters through a smaller inlet located at the elbow. The pipe dimensions are in inches, and the fluid properties and boundary conditions are given in SI units. Because the Reynolds number for the flow at the larger inlet is ``50,800``, a turbulent flow model is required."
   ]
  },
  {
   "cell_type": "markdown",
   "id": "386799a0",
   "metadata": {},
   "source": [
    "# What this tutorial covers\n",
    "\n",
    "This use case that demonstrates following PyWorkbench API capabilities such as:\n",
    "- Initiating the Ansys Workbench server locally and establishing a connection with a local client.\n",
    "- Uploading the required input data from client working directory to server working directory.\n",
    "- Executing the Ansys Workbench journal (.wbjn) script on the server, which will execute the Fluent simulation using setup.jou and solve.jou TUI scripts. refer assets for simulation input data.\n",
    "- Downloading the results from the server to client.\n",
    "- Shutting down the server."
   ]
  },
  {
   "cell_type": "markdown",
   "id": "e12cf0de",
   "metadata": {},
   "source": [
    "## Performed required imports\n",
    "Performing essential imports for Ansys Workbench, pathlib to handle filesystems path."
   ]
  },
  {
   "cell_type": "code",
   "execution_count": 1,
   "id": "acb6eb32",
   "metadata": {
    "execution": {
     "iopub.execute_input": "2024-10-24T14:44:33.328339Z",
     "iopub.status.busy": "2024-10-24T14:44:33.328339Z",
     "iopub.status.idle": "2024-10-24T14:44:33.699253Z",
     "shell.execute_reply": "2024-10-24T14:44:33.699253Z"
    }
   },
   "outputs": [
    {
     "ename": "ModuleNotFoundError",
     "evalue": "No module named 'ansys'",
     "output_type": "error",
     "traceback": [
      "\u001b[1;31m---------------------------------------------------------------------------\u001b[0m",
      "\u001b[1;31mModuleNotFoundError\u001b[0m                       Traceback (most recent call last)",
      "Cell \u001b[1;32mIn[1], line 2\u001b[0m\n\u001b[0;32m      1\u001b[0m \u001b[38;5;28;01mimport\u001b[39;00m \u001b[38;5;21;01mpathlib\u001b[39;00m\n\u001b[1;32m----> 2\u001b[0m \u001b[38;5;28;01mfrom\u001b[39;00m \u001b[38;5;21;01mansys\u001b[39;00m\u001b[38;5;21;01m.\u001b[39;00m\u001b[38;5;21;01mworkbench\u001b[39;00m\u001b[38;5;21;01m.\u001b[39;00m\u001b[38;5;21;01mcore\u001b[39;00m \u001b[38;5;28;01mimport\u001b[39;00m launch_workbench\n",
      "\u001b[1;31mModuleNotFoundError\u001b[0m: No module named 'ansys'"
     ]
    }
   ],
   "source": [
    "import pathlib\n",
    "from ansys.workbench.core import launch_workbench"
   ]
  },
  {
   "cell_type": "markdown",
   "id": "a4ddc7eb",
   "metadata": {},
   "source": [
    "## Setting up server Working directory and asset paths"
   ]
  },
  {
   "cell_type": "code",
   "execution_count": 2,
   "id": "7f81f9ed",
   "metadata": {
    "execution": {
     "iopub.execute_input": "2024-10-24T14:44:33.699253Z",
     "iopub.status.busy": "2024-10-24T14:44:33.699253Z",
     "iopub.status.idle": "2024-10-24T14:44:33.709011Z",
     "shell.execute_reply": "2024-10-24T14:44:33.709011Z"
    }
   },
   "outputs": [],
   "source": [
    "workdir = pathlib.Path(\"__file__\").parent\n",
    "\n",
    "server_workdir = workdir / 'server_workdir'\n",
    "server_workdir.mkdir(exist_ok=True)\n",
    "\n",
    "assets = workdir / \"assets\"\n",
    "scdoc = assets /\"scdoc\"\n",
    "jou = assets / \"jou\""
   ]
  },
  {
   "cell_type": "markdown",
   "id": "a6e85978",
   "metadata": {},
   "source": [
    "## Launch the workbench session with specified server and client working directories"
   ]
  },
  {
   "cell_type": "code",
   "execution_count": 3,
   "id": "807e595d",
   "metadata": {
    "execution": {
     "iopub.execute_input": "2024-10-24T14:44:33.709011Z",
     "iopub.status.busy": "2024-10-24T14:44:33.709011Z",
     "iopub.status.idle": "2024-10-24T14:44:33.731294Z",
     "shell.execute_reply": "2024-10-24T14:44:33.731294Z"
    }
   },
   "outputs": [
    {
     "ename": "NameError",
     "evalue": "name 'launch_workbench' is not defined",
     "output_type": "error",
     "traceback": [
      "\u001b[1;31m---------------------------------------------------------------------------\u001b[0m",
      "\u001b[1;31mNameError\u001b[0m                                 Traceback (most recent call last)",
      "Cell \u001b[1;32mIn[3], line 1\u001b[0m\n\u001b[1;32m----> 1\u001b[0m wb \u001b[38;5;241m=\u001b[39m \u001b[43mlaunch_workbench\u001b[49m(server_workdir\u001b[38;5;241m=\u001b[39m\u001b[38;5;28mstr\u001b[39m(server_workdir\u001b[38;5;241m.\u001b[39mabsolute()), client_workdir\u001b[38;5;241m=\u001b[39m\u001b[38;5;28mstr\u001b[39m(workdir\u001b[38;5;241m.\u001b[39mabsolute()))\n",
      "\u001b[1;31mNameError\u001b[0m: name 'launch_workbench' is not defined"
     ]
    }
   ],
   "source": [
    "wb = launch_workbench(server_workdir=str(server_workdir.absolute()), client_workdir=str(workdir.absolute()))"
   ]
  },
  {
   "cell_type": "markdown",
   "id": "3256aff2",
   "metadata": {},
   "source": [
    "## Uploading the input data\n",
    "Upload several input files (Geometry, Ansys Fluent simulation setup and solve journal files ), which will be transferred to the host."
   ]
  },
  {
   "cell_type": "code",
   "execution_count": 4,
   "id": "a2d947b3",
   "metadata": {
    "execution": {
     "iopub.execute_input": "2024-10-24T14:44:33.731294Z",
     "iopub.status.busy": "2024-10-24T14:44:33.731294Z",
     "iopub.status.idle": "2024-10-24T14:44:33.756784Z",
     "shell.execute_reply": "2024-10-24T14:44:33.756784Z"
    }
   },
   "outputs": [
    {
     "ename": "NameError",
     "evalue": "name 'wb' is not defined",
     "output_type": "error",
     "traceback": [
      "\u001b[1;31m---------------------------------------------------------------------------\u001b[0m",
      "\u001b[1;31mNameError\u001b[0m                                 Traceback (most recent call last)",
      "Cell \u001b[1;32mIn[4], line 1\u001b[0m\n\u001b[1;32m----> 1\u001b[0m \u001b[43mwb\u001b[49m\u001b[38;5;241m.\u001b[39mupload_file(\u001b[38;5;28mstr\u001b[39m(scdoc \u001b[38;5;241m/\u001b[39m \u001b[38;5;124m\"\u001b[39m\u001b[38;5;124mmixing_elbow.scdoc\u001b[39m\u001b[38;5;124m\"\u001b[39m))\n\u001b[0;32m      2\u001b[0m wb\u001b[38;5;241m.\u001b[39mupload_file(\u001b[38;5;28mstr\u001b[39m(jou \u001b[38;5;241m/\u001b[39m \u001b[38;5;124m\"\u001b[39m\u001b[38;5;124msetup.jou\u001b[39m\u001b[38;5;124m\"\u001b[39m))\n\u001b[0;32m      3\u001b[0m wb\u001b[38;5;241m.\u001b[39mupload_file(\u001b[38;5;28mstr\u001b[39m(jou \u001b[38;5;241m/\u001b[39m \u001b[38;5;124m\"\u001b[39m\u001b[38;5;124msolve.jou\u001b[39m\u001b[38;5;124m\"\u001b[39m))\n",
      "\u001b[1;31mNameError\u001b[0m: name 'wb' is not defined"
     ]
    }
   ],
   "source": [
    "wb.upload_file(str(scdoc / \"mixing_elbow.scdoc\"))\n",
    "wb.upload_file(str(jou / \"setup.jou\"))\n",
    "wb.upload_file(str(jou / \"solve.jou\"))"
   ]
  },
  {
   "cell_type": "markdown",
   "id": "a26f1f78",
   "metadata": {},
   "source": [
    "## Executing a workbench script\n",
    "This will configure the workbench project schematic. This file is Ansys Workbench recorded journal file (Python Script). This can be easily configured as per requirement.\n",
    ">Note: For a better understanding of how meshing, setup, and solve workflows are being utilized, please refer to the project.wbjn file."
   ]
  },
  {
   "cell_type": "code",
   "execution_count": 5,
   "id": "778279e3",
   "metadata": {
    "execution": {
     "iopub.execute_input": "2024-10-24T14:44:33.756784Z",
     "iopub.status.busy": "2024-10-24T14:44:33.756784Z",
     "iopub.status.idle": "2024-10-24T14:44:33.778307Z",
     "shell.execute_reply": "2024-10-24T14:44:33.778307Z"
    }
   },
   "outputs": [
    {
     "ename": "NameError",
     "evalue": "name 'wb' is not defined",
     "output_type": "error",
     "traceback": [
      "\u001b[1;31m---------------------------------------------------------------------------\u001b[0m",
      "\u001b[1;31mNameError\u001b[0m                                 Traceback (most recent call last)",
      "Cell \u001b[1;32mIn[5], line 1\u001b[0m\n\u001b[1;32m----> 1\u001b[0m sys_name \u001b[38;5;241m=\u001b[39m \u001b[43mwb\u001b[49m\u001b[38;5;241m.\u001b[39mrun_script_file(\u001b[38;5;28mstr\u001b[39m((assets \u001b[38;5;241m/\u001b[39m \u001b[38;5;124m\"\u001b[39m\u001b[38;5;124mproject.wbjn\u001b[39m\u001b[38;5;124m\"\u001b[39m)\u001b[38;5;241m.\u001b[39mabsolute()))\n",
      "\u001b[1;31mNameError\u001b[0m: name 'wb' is not defined"
     ]
    }
   ],
   "source": [
    "sys_name = wb.run_script_file(str((assets / \"project.wbjn\").absolute()))"
   ]
  },
  {
   "cell_type": "markdown",
   "id": "8533864e",
   "metadata": {},
   "source": [
    "## Downloading output files to the client-side working directory\n",
    "Here, only the contour saved during the simulation data post-processing is being downloaded. But one can download all the output as required."
   ]
  },
  {
   "cell_type": "code",
   "execution_count": 6,
   "id": "fa33856c",
   "metadata": {
    "execution": {
     "iopub.execute_input": "2024-10-24T14:44:33.778307Z",
     "iopub.status.busy": "2024-10-24T14:44:33.778307Z",
     "iopub.status.idle": "2024-10-24T14:44:33.798692Z",
     "shell.execute_reply": "2024-10-24T14:44:33.798692Z"
    }
   },
   "outputs": [
    {
     "ename": "NameError",
     "evalue": "name 'wb' is not defined",
     "output_type": "error",
     "traceback": [
      "\u001b[1;31m---------------------------------------------------------------------------\u001b[0m",
      "\u001b[1;31mNameError\u001b[0m                                 Traceback (most recent call last)",
      "Cell \u001b[1;32mIn[6], line 1\u001b[0m\n\u001b[1;32m----> 1\u001b[0m \u001b[43mwb\u001b[49m\u001b[38;5;241m.\u001b[39mdownload_file(\u001b[38;5;124m\"\u001b[39m\u001b[38;5;124mtemperature_contour.jpeg\u001b[39m\u001b[38;5;124m\"\u001b[39m)\n",
      "\u001b[1;31mNameError\u001b[0m: name 'wb' is not defined"
     ]
    }
   ],
   "source": [
    "wb.download_file(\"temperature_contour.jpeg\")"
   ]
  },
  {
   "cell_type": "markdown",
   "id": "a62bdea3",
   "metadata": {},
   "source": [
    "## Shutdown the Ansys Workbench server session"
   ]
  },
  {
   "cell_type": "code",
   "execution_count": 7,
   "id": "60949bfe",
   "metadata": {
    "execution": {
     "iopub.execute_input": "2024-10-24T14:44:33.798692Z",
     "iopub.status.busy": "2024-10-24T14:44:33.798692Z",
     "iopub.status.idle": "2024-10-24T14:44:33.818171Z",
     "shell.execute_reply": "2024-10-24T14:44:33.818171Z"
    }
   },
   "outputs": [
    {
     "ename": "NameError",
     "evalue": "name 'wb' is not defined",
     "output_type": "error",
     "traceback": [
      "\u001b[1;31m---------------------------------------------------------------------------\u001b[0m",
      "\u001b[1;31mNameError\u001b[0m                                 Traceback (most recent call last)",
      "Cell \u001b[1;32mIn[7], line 1\u001b[0m\n\u001b[1;32m----> 1\u001b[0m \u001b[43mwb\u001b[49m\u001b[38;5;241m.\u001b[39mexit()\n",
      "\u001b[1;31mNameError\u001b[0m: name 'wb' is not defined"
     ]
    }
   ],
   "source": [
    "wb.exit()"
   ]
  },
  {
   "cell_type": "code",
   "execution_count": null,
   "id": "e22ce81e",
   "metadata": {},
   "outputs": [],
   "source": []
  }
 ],
 "metadata": {
  "jupytext": {
   "cell_metadata_filter": "-all",
   "main_language": "python",
   "notebook_metadata_filter": "-all",
   "text_representation": {
    "extension": ".py",
    "format_name": "light"
   }
  },
  "language_info": {
   "codemirror_mode": {
    "name": "ipython",
    "version": 3
   },
   "file_extension": ".py",
   "mimetype": "text/x-python",
   "name": "python",
   "nbconvert_exporter": "python",
   "pygments_lexer": "ipython3",
   "version": "3.11.9"
  }
 },
 "nbformat": 4,
 "nbformat_minor": 5
}
