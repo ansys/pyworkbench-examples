{
 "cells": [
  {
   "cell_type": "markdown",
   "id": "dcc59fde",
   "metadata": {},
   "source": [
    "# PyMechanical integration"
   ]
  },
  {
   "cell_type": "markdown",
   "id": "76e4f002",
   "metadata": {},
   "source": [
    "This example demonstrates how to use PyWorkbench and PyMechanical together to upload geometry, run simulations, and visualize results.\n",
    "It covers launching services, running scripts, and handling files between the client and server."
   ]
  },
  {
   "cell_type": "markdown",
   "id": "6623b543",
   "metadata": {},
   "source": [
    "First, import the necessary modules. We import `pathlib` for handling filesystem paths, `os` for interacting with the operating system, and `pyvista` for visualization.\n",
    "The `launch_workbench` function from `ansys.workbench.core` is imported to start a Workbench session, and `launch_mechanical` from `ansys.mechanical.core` to start a Mechanical session."
   ]
  },
  {
   "cell_type": "code",
   "execution_count": 1,
   "id": "2a91e71d",
   "metadata": {
    "execution": {
     "iopub.execute_input": "2024-10-24T14:45:10.731822Z",
     "iopub.status.busy": "2024-10-24T14:45:10.731822Z",
     "iopub.status.idle": "2024-10-24T14:45:11.096344Z",
     "shell.execute_reply": "2024-10-24T14:45:11.096344Z"
    }
   },
   "outputs": [
    {
     "ename": "ModuleNotFoundError",
     "evalue": "No module named 'pyvista'",
     "output_type": "error",
     "traceback": [
      "\u001b[1;31m---------------------------------------------------------------------------\u001b[0m",
      "\u001b[1;31mModuleNotFoundError\u001b[0m                       Traceback (most recent call last)",
      "Cell \u001b[1;32mIn[1], line 3\u001b[0m\n\u001b[0;32m      1\u001b[0m \u001b[38;5;28;01mimport\u001b[39;00m \u001b[38;5;21;01mos\u001b[39;00m\n\u001b[0;32m      2\u001b[0m \u001b[38;5;28;01mimport\u001b[39;00m \u001b[38;5;21;01mpathlib\u001b[39;00m\n\u001b[1;32m----> 3\u001b[0m \u001b[38;5;28;01mimport\u001b[39;00m \u001b[38;5;21;01mpyvista\u001b[39;00m \u001b[38;5;28;01mas\u001b[39;00m \u001b[38;5;21;01mpv\u001b[39;00m\n\u001b[0;32m      4\u001b[0m \u001b[38;5;28;01mfrom\u001b[39;00m \u001b[38;5;21;01mansys\u001b[39;00m\u001b[38;5;21;01m.\u001b[39;00m\u001b[38;5;21;01mworkbench\u001b[39;00m\u001b[38;5;21;01m.\u001b[39;00m\u001b[38;5;21;01mcore\u001b[39;00m \u001b[38;5;28;01mimport\u001b[39;00m launch_workbench\n\u001b[0;32m      5\u001b[0m \u001b[38;5;28;01mfrom\u001b[39;00m \u001b[38;5;21;01mansys\u001b[39;00m\u001b[38;5;21;01m.\u001b[39;00m\u001b[38;5;21;01mmechanical\u001b[39;00m\u001b[38;5;21;01m.\u001b[39;00m\u001b[38;5;21;01mcore\u001b[39;00m \u001b[38;5;28;01mimport\u001b[39;00m launch_mechanical\n",
      "\u001b[1;31mModuleNotFoundError\u001b[0m: No module named 'pyvista'"
     ]
    }
   ],
   "source": [
    "import os\n",
    "import pathlib\n",
    "import pyvista as pv\n",
    "from ansys.workbench.core import launch_workbench\n",
    "from ansys.mechanical.core import launch_mechanical"
   ]
  },
  {
   "cell_type": "markdown",
   "id": "11323773",
   "metadata": {},
   "source": [
    "Define several directories that will be used during the session.\n",
    "`workdir` is set to the parent directory of the current file.\n",
    "`assets`, `scripts`, and `agdb` are subdirectories within the working directory.\n",
    "The `launch_workbench` function is called to start a Workbench session with specified directories."
   ]
  },
  {
   "cell_type": "code",
   "execution_count": 2,
   "id": "0d6abc33",
   "metadata": {
    "execution": {
     "iopub.execute_input": "2024-10-24T14:45:11.096344Z",
     "iopub.status.busy": "2024-10-24T14:45:11.096344Z",
     "iopub.status.idle": "2024-10-24T14:45:11.122892Z",
     "shell.execute_reply": "2024-10-24T14:45:11.122892Z"
    }
   },
   "outputs": [
    {
     "ename": "NameError",
     "evalue": "name 'launch_workbench' is not defined",
     "output_type": "error",
     "traceback": [
      "\u001b[1;31m---------------------------------------------------------------------------\u001b[0m",
      "\u001b[1;31mNameError\u001b[0m                                 Traceback (most recent call last)",
      "Cell \u001b[1;32mIn[2], line 5\u001b[0m\n\u001b[0;32m      3\u001b[0m scripts \u001b[38;5;241m=\u001b[39m workdir \u001b[38;5;241m/\u001b[39m \u001b[38;5;124m\"\u001b[39m\u001b[38;5;124mscripts\u001b[39m\u001b[38;5;124m\"\u001b[39m\n\u001b[0;32m      4\u001b[0m agdb \u001b[38;5;241m=\u001b[39m workdir \u001b[38;5;241m/\u001b[39m \u001b[38;5;124m\"\u001b[39m\u001b[38;5;124magdb\u001b[39m\u001b[38;5;124m\"\u001b[39m\n\u001b[1;32m----> 5\u001b[0m wb \u001b[38;5;241m=\u001b[39m \u001b[43mlaunch_workbench\u001b[49m(client_workdir\u001b[38;5;241m=\u001b[39m\u001b[38;5;28mstr\u001b[39m(workdir\u001b[38;5;241m.\u001b[39mabsolute()))\n",
      "\u001b[1;31mNameError\u001b[0m: name 'launch_workbench' is not defined"
     ]
    }
   ],
   "source": [
    "workdir = pathlib.Path(\"__file__\").parent\n",
    "assets = workdir / \"assets\"\n",
    "scripts = workdir / \"scripts\"\n",
    "agdb = workdir / \"agdb\"\n",
    "wb = launch_workbench(client_workdir=str(workdir.absolute()))"
   ]
  },
  {
   "cell_type": "markdown",
   "id": "569adfcf",
   "metadata": {},
   "source": [
    "Upload a geometry file (`two_pipes.agdb`) from the example database to the server using the `upload_file_from_example_repo` method."
   ]
  },
  {
   "cell_type": "code",
   "execution_count": 3,
   "id": "f0214417",
   "metadata": {
    "execution": {
     "iopub.execute_input": "2024-10-24T14:45:11.122892Z",
     "iopub.status.busy": "2024-10-24T14:45:11.122892Z",
     "iopub.status.idle": "2024-10-24T14:45:11.142671Z",
     "shell.execute_reply": "2024-10-24T14:45:11.142671Z"
    }
   },
   "outputs": [
    {
     "ename": "NameError",
     "evalue": "name 'wb' is not defined",
     "output_type": "error",
     "traceback": [
      "\u001b[1;31m---------------------------------------------------------------------------\u001b[0m",
      "\u001b[1;31mNameError\u001b[0m                                 Traceback (most recent call last)",
      "Cell \u001b[1;32mIn[3], line 1\u001b[0m\n\u001b[1;32m----> 1\u001b[0m \u001b[43mwb\u001b[49m\u001b[38;5;241m.\u001b[39mupload_file_from_example_repo(\u001b[38;5;124m\"\u001b[39m\u001b[38;5;124mpymechanical-integration/agdb/two_pipes.agdb\u001b[39m\u001b[38;5;124m\"\u001b[39m)\n",
      "\u001b[1;31mNameError\u001b[0m: name 'wb' is not defined"
     ]
    }
   ],
   "source": [
    "wb.upload_file_from_example_repo(\"pymechanical-integration/agdb/two_pipes.agdb\")"
   ]
  },
  {
   "cell_type": "markdown",
   "id": "4b4ef94c",
   "metadata": {},
   "source": [
    "Execute a Workbench script (`project.wbjn`) to create a mechanical system and load the geometry using the `run_script_file` method.\n",
    "The name of the system created is stored in `system_name`."
   ]
  },
  {
   "cell_type": "code",
   "execution_count": 4,
   "id": "4ad507c6",
   "metadata": {
    "execution": {
     "iopub.execute_input": "2024-10-24T14:45:11.142671Z",
     "iopub.status.busy": "2024-10-24T14:45:11.142671Z",
     "iopub.status.idle": "2024-10-24T14:45:11.164137Z",
     "shell.execute_reply": "2024-10-24T14:45:11.164137Z"
    }
   },
   "outputs": [
    {
     "ename": "NameError",
     "evalue": "name 'wb' is not defined",
     "output_type": "error",
     "traceback": [
      "\u001b[1;31m---------------------------------------------------------------------------\u001b[0m",
      "\u001b[1;31mNameError\u001b[0m                                 Traceback (most recent call last)",
      "Cell \u001b[1;32mIn[4], line 1\u001b[0m\n\u001b[1;32m----> 1\u001b[0m system_name \u001b[38;5;241m=\u001b[39m \u001b[43mwb\u001b[49m\u001b[38;5;241m.\u001b[39mrun_script_file(\u001b[38;5;28mstr\u001b[39m((assets \u001b[38;5;241m/\u001b[39m \u001b[38;5;124m\"\u001b[39m\u001b[38;5;124mproject.wbjn\u001b[39m\u001b[38;5;124m\"\u001b[39m)\u001b[38;5;241m.\u001b[39mabsolute()))\n",
      "\u001b[1;31mNameError\u001b[0m: name 'wb' is not defined"
     ]
    }
   ],
   "source": [
    "system_name = wb.run_script_file(str((assets / \"project.wbjn\").absolute()))"
   ]
  },
  {
   "cell_type": "markdown",
   "id": "9aabdadc",
   "metadata": {},
   "source": [
    "Start a PyMechanical service for the specified system using the `start_mechanical_server` method.\n",
    "Create a PyMechanical client connected to this service using `launch_mechanical`.\n",
    "The project directory is printed to verify the connection."
   ]
  },
  {
   "cell_type": "code",
   "execution_count": 5,
   "id": "9545f9fa",
   "metadata": {
    "execution": {
     "iopub.execute_input": "2024-10-24T14:45:11.164137Z",
     "iopub.status.busy": "2024-10-24T14:45:11.164137Z",
     "iopub.status.idle": "2024-10-24T14:45:11.186839Z",
     "shell.execute_reply": "2024-10-24T14:45:11.186839Z"
    }
   },
   "outputs": [
    {
     "ename": "NameError",
     "evalue": "name 'wb' is not defined",
     "output_type": "error",
     "traceback": [
      "\u001b[1;31m---------------------------------------------------------------------------\u001b[0m",
      "\u001b[1;31mNameError\u001b[0m                                 Traceback (most recent call last)",
      "Cell \u001b[1;32mIn[5], line 1\u001b[0m\n\u001b[1;32m----> 1\u001b[0m pymech_port \u001b[38;5;241m=\u001b[39m \u001b[43mwb\u001b[49m\u001b[38;5;241m.\u001b[39mstart_mechanical_server(system_name\u001b[38;5;241m=\u001b[39msystem_name)\n\u001b[0;32m      2\u001b[0m mechanical \u001b[38;5;241m=\u001b[39m launch_mechanical(start_instance\u001b[38;5;241m=\u001b[39m\u001b[38;5;28;01mFalse\u001b[39;00m, ip\u001b[38;5;241m=\u001b[39m\u001b[38;5;124m'\u001b[39m\u001b[38;5;124mlocalhost\u001b[39m\u001b[38;5;124m'\u001b[39m, port\u001b[38;5;241m=\u001b[39mpymech_port)\n\u001b[0;32m      3\u001b[0m \u001b[38;5;28mprint\u001b[39m(mechanical\u001b[38;5;241m.\u001b[39mproject_directory)\n",
      "\u001b[1;31mNameError\u001b[0m: name 'wb' is not defined"
     ]
    }
   ],
   "source": [
    "pymech_port = wb.start_mechanical_server(system_name=system_name)\n",
    "mechanical = launch_mechanical(start_instance=False, ip='localhost', port=pymech_port)\n",
    "print(mechanical.project_directory)"
   ]
  },
  {
   "cell_type": "markdown",
   "id": "a7855681",
   "metadata": {},
   "source": [
    "Read and execute the script `solve.py` via the PyMechanical client using `run_python_script`.\n",
    "This script typically contains commands to mesh and solve the model.\n",
    "The output of the script is printed."
   ]
  },
  {
   "cell_type": "code",
   "execution_count": 6,
   "id": "8b9f5749",
   "metadata": {
    "execution": {
     "iopub.execute_input": "2024-10-24T14:45:11.186839Z",
     "iopub.status.busy": "2024-10-24T14:45:11.186839Z",
     "iopub.status.idle": "2024-10-24T14:45:11.220988Z",
     "shell.execute_reply": "2024-10-24T14:45:11.220988Z"
    }
   },
   "outputs": [
    {
     "ename": "NameError",
     "evalue": "name 'mechanical' is not defined",
     "output_type": "error",
     "traceback": [
      "\u001b[1;31m---------------------------------------------------------------------------\u001b[0m",
      "\u001b[1;31mNameError\u001b[0m                                 Traceback (most recent call last)",
      "Cell \u001b[1;32mIn[6], line 3\u001b[0m\n\u001b[0;32m      1\u001b[0m \u001b[38;5;28;01mwith\u001b[39;00m \u001b[38;5;28mopen\u001b[39m(scripts \u001b[38;5;241m/\u001b[39m \u001b[38;5;124m\"\u001b[39m\u001b[38;5;124msolve.py\u001b[39m\u001b[38;5;124m\"\u001b[39m) \u001b[38;5;28;01mas\u001b[39;00m sf:\n\u001b[0;32m      2\u001b[0m     mech_script \u001b[38;5;241m=\u001b[39m sf\u001b[38;5;241m.\u001b[39mread()\n\u001b[1;32m----> 3\u001b[0m \u001b[38;5;28mprint\u001b[39m(\u001b[43mmechanical\u001b[49m\u001b[38;5;241m.\u001b[39mrun_python_script(mech_script))\n",
      "\u001b[1;31mNameError\u001b[0m: name 'mechanical' is not defined"
     ]
    }
   ],
   "source": [
    "with open(scripts / \"solve.py\") as sf:\n",
    "    mech_script = sf.read()\n",
    "print(mechanical.run_python_script(mech_script))"
   ]
  },
  {
   "cell_type": "markdown",
   "id": "a7c94912",
   "metadata": {},
   "source": [
    "Fetch output files (`*solve.out` and `*deformation.png`) from the solver directory to the client's working directory using the `download` method."
   ]
  },
  {
   "cell_type": "code",
   "execution_count": 7,
   "id": "d869d769",
   "metadata": {
    "execution": {
     "iopub.execute_input": "2024-10-24T14:45:11.220988Z",
     "iopub.status.busy": "2024-10-24T14:45:11.220988Z",
     "iopub.status.idle": "2024-10-24T14:45:11.242063Z",
     "shell.execute_reply": "2024-10-24T14:45:11.242063Z"
    }
   },
   "outputs": [
    {
     "ename": "NameError",
     "evalue": "name 'mechanical' is not defined",
     "output_type": "error",
     "traceback": [
      "\u001b[1;31m---------------------------------------------------------------------------\u001b[0m",
      "\u001b[1;31mNameError\u001b[0m                                 Traceback (most recent call last)",
      "Cell \u001b[1;32mIn[7], line 1\u001b[0m\n\u001b[1;32m----> 1\u001b[0m \u001b[43mmechanical\u001b[49m\u001b[38;5;241m.\u001b[39mdownload(\u001b[38;5;124m\"\u001b[39m\u001b[38;5;124m*solve.out\u001b[39m\u001b[38;5;124m\"\u001b[39m, target_dir\u001b[38;5;241m=\u001b[39mwb\u001b[38;5;241m.\u001b[39mclient_workdir)\n\u001b[0;32m      2\u001b[0m mechanical\u001b[38;5;241m.\u001b[39mdownload(\u001b[38;5;124m\"\u001b[39m\u001b[38;5;124m*deformation.png\u001b[39m\u001b[38;5;124m\"\u001b[39m, target_dir\u001b[38;5;241m=\u001b[39mwb\u001b[38;5;241m.\u001b[39mclient_workdir)\n",
      "\u001b[1;31mNameError\u001b[0m: name 'mechanical' is not defined"
     ]
    }
   ],
   "source": [
    "mechanical.download(\"*solve.out\", target_dir=wb.client_workdir)\n",
    "mechanical.download(\"*deformation.png\", target_dir=wb.client_workdir)"
   ]
  },
  {
   "cell_type": "markdown",
   "id": "599ef765",
   "metadata": {},
   "source": [
    "Read and print the content of the solver output file (`solve.out`) to the console."
   ]
  },
  {
   "cell_type": "code",
   "execution_count": 8,
   "id": "67492f65",
   "metadata": {
    "execution": {
     "iopub.execute_input": "2024-10-24T14:45:11.242063Z",
     "iopub.status.busy": "2024-10-24T14:45:11.242063Z",
     "iopub.status.idle": "2024-10-24T14:45:11.262710Z",
     "shell.execute_reply": "2024-10-24T14:45:11.262710Z"
    }
   },
   "outputs": [
    {
     "ename": "NameError",
     "evalue": "name 'wb' is not defined",
     "output_type": "error",
     "traceback": [
      "\u001b[1;31m---------------------------------------------------------------------------\u001b[0m",
      "\u001b[1;31mNameError\u001b[0m                                 Traceback (most recent call last)",
      "Cell \u001b[1;32mIn[8], line 1\u001b[0m\n\u001b[1;32m----> 1\u001b[0m \u001b[38;5;28;01mwith\u001b[39;00m \u001b[38;5;28mopen\u001b[39m(os\u001b[38;5;241m.\u001b[39mpath\u001b[38;5;241m.\u001b[39mjoin(\u001b[43mwb\u001b[49m\u001b[38;5;241m.\u001b[39mclient_workdir, \u001b[38;5;124m\"\u001b[39m\u001b[38;5;124msolve.out\u001b[39m\u001b[38;5;124m\"\u001b[39m), \u001b[38;5;124m\"\u001b[39m\u001b[38;5;124mr\u001b[39m\u001b[38;5;124m\"\u001b[39m) \u001b[38;5;28;01mas\u001b[39;00m f:\n\u001b[0;32m      2\u001b[0m     \u001b[38;5;28mprint\u001b[39m(f\u001b[38;5;241m.\u001b[39mread())\n",
      "\u001b[1;31mNameError\u001b[0m: name 'wb' is not defined"
     ]
    }
   ],
   "source": [
    "with open(os.path.join(wb.client_workdir, \"solve.out\"), \"r\") as f:\n",
    "    print(f.read())"
   ]
  },
  {
   "cell_type": "markdown",
   "id": "517a9e5d",
   "metadata": {},
   "source": [
    "Plot the deformation result (`deformation.png`) using `pyvista`.\n",
    "A `Plotter` object is created, and the image is added as a background.\n",
    "The plot is then displayed."
   ]
  },
  {
   "cell_type": "code",
   "execution_count": 9,
   "id": "e437e242",
   "metadata": {
    "execution": {
     "iopub.execute_input": "2024-10-24T14:45:11.262710Z",
     "iopub.status.busy": "2024-10-24T14:45:11.262710Z",
     "iopub.status.idle": "2024-10-24T14:45:11.286454Z",
     "shell.execute_reply": "2024-10-24T14:45:11.286454Z"
    }
   },
   "outputs": [
    {
     "ename": "NameError",
     "evalue": "name 'pv' is not defined",
     "output_type": "error",
     "traceback": [
      "\u001b[1;31m---------------------------------------------------------------------------\u001b[0m",
      "\u001b[1;31mNameError\u001b[0m                                 Traceback (most recent call last)",
      "Cell \u001b[1;32mIn[9], line 1\u001b[0m\n\u001b[1;32m----> 1\u001b[0m pl \u001b[38;5;241m=\u001b[39m \u001b[43mpv\u001b[49m\u001b[38;5;241m.\u001b[39mPlotter()\n\u001b[0;32m      2\u001b[0m pl\u001b[38;5;241m.\u001b[39madd_background_image(os\u001b[38;5;241m.\u001b[39mpath\u001b[38;5;241m.\u001b[39mjoin(wb\u001b[38;5;241m.\u001b[39mclient_workdir, \u001b[38;5;124m\"\u001b[39m\u001b[38;5;124mdeformation.png\u001b[39m\u001b[38;5;124m\"\u001b[39m))\n\u001b[0;32m      3\u001b[0m pl\u001b[38;5;241m.\u001b[39mshow()\n",
      "\u001b[1;31mNameError\u001b[0m: name 'pv' is not defined"
     ]
    }
   ],
   "source": [
    "pl = pv.Plotter()\n",
    "pl.add_background_image(os.path.join(wb.client_workdir, \"deformation.png\"))\n",
    "pl.show()"
   ]
  },
  {
   "cell_type": "markdown",
   "id": "75a0fdae",
   "metadata": {},
   "source": [
    "Finally, the `exit` method is called on both the PyMechanical and Workbench clients to gracefully shut down the services, ensuring that all resources are properly released."
   ]
  },
  {
   "cell_type": "code",
   "execution_count": 10,
   "id": "77eb41e9",
   "metadata": {
    "execution": {
     "iopub.execute_input": "2024-10-24T14:45:11.286454Z",
     "iopub.status.busy": "2024-10-24T14:45:11.286454Z",
     "iopub.status.idle": "2024-10-24T14:45:11.306930Z",
     "shell.execute_reply": "2024-10-24T14:45:11.306930Z"
    }
   },
   "outputs": [
    {
     "ename": "NameError",
     "evalue": "name 'mechanical' is not defined",
     "output_type": "error",
     "traceback": [
      "\u001b[1;31m---------------------------------------------------------------------------\u001b[0m",
      "\u001b[1;31mNameError\u001b[0m                                 Traceback (most recent call last)",
      "Cell \u001b[1;32mIn[10], line 1\u001b[0m\n\u001b[1;32m----> 1\u001b[0m \u001b[43mmechanical\u001b[49m\u001b[38;5;241m.\u001b[39mexit()\n\u001b[0;32m      2\u001b[0m wb\u001b[38;5;241m.\u001b[39mexit()\n",
      "\u001b[1;31mNameError\u001b[0m: name 'mechanical' is not defined"
     ]
    }
   ],
   "source": [
    "mechanical.exit()\n",
    "wb.exit()"
   ]
  }
 ],
 "metadata": {
  "jupytext": {
   "cell_metadata_filter": "-all",
   "main_language": "python",
   "notebook_metadata_filter": "-all",
   "text_representation": {
    "extension": ".py",
    "format_name": "light"
   }
  },
  "language_info": {
   "codemirror_mode": {
    "name": "ipython",
    "version": 3
   },
   "file_extension": ".py",
   "mimetype": "text/x-python",
   "name": "python",
   "nbconvert_exporter": "python",
   "pygments_lexer": "ipython3",
   "version": "3.11.9"
  }
 },
 "nbformat": 4,
 "nbformat_minor": 5
}
