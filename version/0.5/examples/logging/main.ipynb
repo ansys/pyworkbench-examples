{
 "cells": [
  {
   "cell_type": "markdown",
   "id": "ac2fc963",
   "metadata": {},
   "source": [
    "# Logging\n",
    "\n",
    "This example showcases the logging capabilities of PyWorkbench."
   ]
  },
  {
   "cell_type": "code",
   "execution_count": 1,
   "id": "6d35bf2b",
   "metadata": {
    "execution": {
     "iopub.execute_input": "2024-10-24T14:44:54.367331Z",
     "iopub.status.busy": "2024-10-24T14:44:54.367331Z",
     "iopub.status.idle": "2024-10-24T14:44:54.758956Z",
     "shell.execute_reply": "2024-10-24T14:44:54.758956Z"
    }
   },
   "outputs": [
    {
     "ename": "ModuleNotFoundError",
     "evalue": "No module named 'ansys'",
     "output_type": "error",
     "traceback": [
      "\u001b[1;31m---------------------------------------------------------------------------\u001b[0m",
      "\u001b[1;31mModuleNotFoundError\u001b[0m                       Traceback (most recent call last)",
      "Cell \u001b[1;32mIn[1], line 3\u001b[0m\n\u001b[0;32m      1\u001b[0m \u001b[38;5;28;01mimport\u001b[39;00m \u001b[38;5;21;01mpathlib\u001b[39;00m\n\u001b[0;32m      2\u001b[0m \u001b[38;5;28;01mimport\u001b[39;00m \u001b[38;5;21;01mos\u001b[39;00m\n\u001b[1;32m----> 3\u001b[0m \u001b[38;5;28;01mfrom\u001b[39;00m \u001b[38;5;21;01mansys\u001b[39;00m\u001b[38;5;21;01m.\u001b[39;00m\u001b[38;5;21;01mworkbench\u001b[39;00m\u001b[38;5;21;01m.\u001b[39;00m\u001b[38;5;21;01mcore\u001b[39;00m \u001b[38;5;28;01mimport\u001b[39;00m launch_workbench\n",
      "\u001b[1;31mModuleNotFoundError\u001b[0m: No module named 'ansys'"
     ]
    }
   ],
   "source": [
    "import pathlib\n",
    "import os\n",
    "from ansys.workbench.core import launch_workbench"
   ]
  },
  {
   "cell_type": "markdown",
   "id": "2137a650",
   "metadata": {},
   "source": [
    "First, import the necessary modules. We import `pathlib` for handling filesystem paths and `os` for interacting with the operating system. The `launch_workbench` function from `ansys.workbench.core` is imported to start a Workbench session."
   ]
  },
  {
   "cell_type": "markdown",
   "id": "d5d815f8",
   "metadata": {},
   "source": [
    "Next, launch a Workbench session using PyWorkbench. Different directories are declared, including the client and server working directories, which should NOT be the same."
   ]
  },
  {
   "cell_type": "code",
   "execution_count": 2,
   "id": "d17bddb3",
   "metadata": {
    "execution": {
     "iopub.execute_input": "2024-10-24T14:44:54.758956Z",
     "iopub.status.busy": "2024-10-24T14:44:54.758956Z",
     "iopub.status.idle": "2024-10-24T14:44:54.767041Z",
     "shell.execute_reply": "2024-10-24T14:44:54.767041Z"
    }
   },
   "outputs": [],
   "source": [
    "workdir = pathlib.Path(\"__file__\").parent\n",
    "server_workdir = workdir / \"server_workdir\"\n",
    "client_workdir = workdir / \"client_workdir\"\n",
    "alternative_target_dir = workdir / \"alternative_target_dir\""
   ]
  },
  {
   "cell_type": "markdown",
   "id": "eed0280e",
   "metadata": {},
   "source": [
    "Here, we define several directories that will be used during the session.\n",
    "`workdir` is set to the directory containing the current file.\n",
    "`server_workdir`, `client_workdir`, and `alternative_target_dir` are subdirectories within the working directory."
   ]
  },
  {
   "cell_type": "markdown",
   "id": "2e260277",
   "metadata": {},
   "source": [
    "Launch Workbench using previous directories:"
   ]
  },
  {
   "cell_type": "code",
   "execution_count": 3,
   "id": "5392c43b",
   "metadata": {
    "execution": {
     "iopub.execute_input": "2024-10-24T14:44:54.767041Z",
     "iopub.status.busy": "2024-10-24T14:44:54.767041Z",
     "iopub.status.idle": "2024-10-24T14:44:54.789682Z",
     "shell.execute_reply": "2024-10-24T14:44:54.789682Z"
    }
   },
   "outputs": [
    {
     "ename": "NameError",
     "evalue": "name 'launch_workbench' is not defined",
     "output_type": "error",
     "traceback": [
      "\u001b[1;31m---------------------------------------------------------------------------\u001b[0m",
      "\u001b[1;31mNameError\u001b[0m                                 Traceback (most recent call last)",
      "Cell \u001b[1;32mIn[3], line 1\u001b[0m\n\u001b[1;32m----> 1\u001b[0m wb \u001b[38;5;241m=\u001b[39m \u001b[43mlaunch_workbench\u001b[49m(server_workdir\u001b[38;5;241m=\u001b[39m\u001b[38;5;28mstr\u001b[39m(server_workdir\u001b[38;5;241m.\u001b[39mabsolute()), client_workdir\u001b[38;5;241m=\u001b[39m\u001b[38;5;28mstr\u001b[39m(client_workdir\u001b[38;5;241m.\u001b[39mabsolute()))\n",
      "\u001b[1;31mNameError\u001b[0m: name 'launch_workbench' is not defined"
     ]
    }
   ],
   "source": [
    "wb = launch_workbench(server_workdir=str(server_workdir.absolute()), client_workdir=str(client_workdir.absolute()))"
   ]
  },
  {
   "cell_type": "markdown",
   "id": "6564cb9f",
   "metadata": {},
   "source": [
    "The `launch_workbench` function is called to start a Workbench session.\n",
    "`server_workdir` and `client_workdir` are set to their absolute paths to avoid any ambiguity in directory locations."
   ]
  },
  {
   "cell_type": "code",
   "execution_count": 4,
   "id": "c5898975",
   "metadata": {
    "execution": {
     "iopub.execute_input": "2024-10-24T14:44:54.789682Z",
     "iopub.status.busy": "2024-10-24T14:44:54.789682Z",
     "iopub.status.idle": "2024-10-24T14:44:54.810813Z",
     "shell.execute_reply": "2024-10-24T14:44:54.810813Z"
    }
   },
   "outputs": [
    {
     "ename": "NameError",
     "evalue": "name 'wb' is not defined",
     "output_type": "error",
     "traceback": [
      "\u001b[1;31m---------------------------------------------------------------------------\u001b[0m",
      "\u001b[1;31mNameError\u001b[0m                                 Traceback (most recent call last)",
      "Cell \u001b[1;32mIn[4], line 1\u001b[0m\n\u001b[1;32m----> 1\u001b[0m downloaded1 \u001b[38;5;241m=\u001b[39m \u001b[43mwb\u001b[49m\u001b[38;5;241m.\u001b[39mdownload_file(\u001b[38;5;124m'\u001b[39m\u001b[38;5;124mserver1.*\u001b[39m\u001b[38;5;124m'\u001b[39m)\n",
      "\u001b[1;31mNameError\u001b[0m: name 'wb' is not defined"
     ]
    }
   ],
   "source": [
    "downloaded1 = wb.download_file('server1.*')"
   ]
  },
  {
   "cell_type": "markdown",
   "id": "b03b3922",
   "metadata": {},
   "source": [
    "This command demonstrates how to download files from the server using a wildcard.\n",
    "The `download_file` method is used to fetch all files matching the pattern `server1.*` from the server to the client."
   ]
  },
  {
   "cell_type": "code",
   "execution_count": 5,
   "id": "86618081",
   "metadata": {
    "execution": {
     "iopub.execute_input": "2024-10-24T14:44:54.810813Z",
     "iopub.status.busy": "2024-10-24T14:44:54.810813Z",
     "iopub.status.idle": "2024-10-24T14:44:54.830698Z",
     "shell.execute_reply": "2024-10-24T14:44:54.830698Z"
    }
   },
   "outputs": [
    {
     "ename": "NameError",
     "evalue": "name 'wb' is not defined",
     "output_type": "error",
     "traceback": [
      "\u001b[1;31m---------------------------------------------------------------------------\u001b[0m",
      "\u001b[1;31mNameError\u001b[0m                                 Traceback (most recent call last)",
      "Cell \u001b[1;32mIn[5], line 1\u001b[0m\n\u001b[1;32m----> 1\u001b[0m downloaded2 \u001b[38;5;241m=\u001b[39m \u001b[43mwb\u001b[49m\u001b[38;5;241m.\u001b[39mdownload_file(\u001b[38;5;124m'\u001b[39m\u001b[38;5;124m*\u001b[39m\u001b[38;5;124m'\u001b[39m, target_dir\u001b[38;5;241m=\u001b[39malternative_target_dir)\n",
      "\u001b[1;31mNameError\u001b[0m: name 'wb' is not defined"
     ]
    }
   ],
   "source": [
    "downloaded2 = wb.download_file('*', target_dir=alternative_target_dir)"
   ]
  },
  {
   "cell_type": "markdown",
   "id": "30941f69",
   "metadata": {},
   "source": [
    "This command downloads the entire contents of the server directory to an alternative local directory specified by `alternative_target_dir`."
   ]
  },
  {
   "cell_type": "code",
   "execution_count": 6,
   "id": "aacf3697",
   "metadata": {
    "execution": {
     "iopub.execute_input": "2024-10-24T14:44:54.830698Z",
     "iopub.status.busy": "2024-10-24T14:44:54.830698Z",
     "iopub.status.idle": "2024-10-24T14:44:54.851202Z",
     "shell.execute_reply": "2024-10-24T14:44:54.851202Z"
    }
   },
   "outputs": [
    {
     "ename": "NameError",
     "evalue": "name 'wb' is not defined",
     "output_type": "error",
     "traceback": [
      "\u001b[1;31m---------------------------------------------------------------------------\u001b[0m",
      "\u001b[1;31mNameError\u001b[0m                                 Traceback (most recent call last)",
      "Cell \u001b[1;32mIn[6], line 1\u001b[0m\n\u001b[1;32m----> 1\u001b[0m \u001b[43mwb\u001b[49m\u001b[38;5;241m.\u001b[39mupload_file(\u001b[38;5;124m'\u001b[39m\u001b[38;5;124m*.txt\u001b[39m\u001b[38;5;124m'\u001b[39m, \u001b[38;5;124m'\u001b[39m\u001b[38;5;124mmodel?.prt\u001b[39m\u001b[38;5;124m'\u001b[39m)\n",
      "\u001b[1;31mNameError\u001b[0m: name 'wb' is not defined"
     ]
    }
   ],
   "source": [
    "wb.upload_file('*.txt', 'model?.prt')"
   ]
  },
  {
   "cell_type": "markdown",
   "id": "d89e28f0",
   "metadata": {},
   "source": [
    "This command shows how to upload files to the server using wildcards.\n",
    "All `.txt` files and files matching the pattern `model?.prt` in the client directory are uploaded to the server."
   ]
  },
  {
   "cell_type": "code",
   "execution_count": 7,
   "id": "8077703e",
   "metadata": {
    "execution": {
     "iopub.execute_input": "2024-10-24T14:44:54.851202Z",
     "iopub.status.busy": "2024-10-24T14:44:54.851202Z",
     "iopub.status.idle": "2024-10-24T14:44:54.871896Z",
     "shell.execute_reply": "2024-10-24T14:44:54.871896Z"
    }
   },
   "outputs": [
    {
     "ename": "NameError",
     "evalue": "name 'wb' is not defined",
     "output_type": "error",
     "traceback": [
      "\u001b[1;31m---------------------------------------------------------------------------\u001b[0m",
      "\u001b[1;31mNameError\u001b[0m                                 Traceback (most recent call last)",
      "Cell \u001b[1;32mIn[7], line 1\u001b[0m\n\u001b[1;32m----> 1\u001b[0m \u001b[43mwb\u001b[49m\u001b[38;5;241m.\u001b[39mupload_file(os\u001b[38;5;241m.\u001b[39mpath\u001b[38;5;241m.\u001b[39mjoin(alternative_target_dir, \u001b[38;5;124m'\u001b[39m\u001b[38;5;124mapp.py\u001b[39m\u001b[38;5;124m'\u001b[39m), \u001b[38;5;124m'\u001b[39m\u001b[38;5;124mnon_existing_file1\u001b[39m\u001b[38;5;124m'\u001b[39m, \u001b[38;5;124m'\u001b[39m\u001b[38;5;124mnon_existing_file2\u001b[39m\u001b[38;5;124m'\u001b[39m, show_progress\u001b[38;5;241m=\u001b[39m\u001b[38;5;28;01mFalse\u001b[39;00m)\n",
      "\u001b[1;31mNameError\u001b[0m: name 'wb' is not defined"
     ]
    }
   ],
   "source": [
    "wb.upload_file(os.path.join(alternative_target_dir, 'app.py'), 'non_existing_file1', 'non_existing_file2', show_progress=False)"
   ]
  },
  {
   "cell_type": "markdown",
   "id": "c0fa0f1f",
   "metadata": {},
   "source": [
    "Here, files are uploaded from an alternative directory, and non-existing files are specified.\n",
    "The `show_progress` parameter is set to `False` to disable the progress bar during the upload."
   ]
  },
  {
   "cell_type": "code",
   "execution_count": 8,
   "id": "ec69c91a",
   "metadata": {
    "execution": {
     "iopub.execute_input": "2024-10-24T14:44:54.871896Z",
     "iopub.status.busy": "2024-10-24T14:44:54.871896Z",
     "iopub.status.idle": "2024-10-24T14:44:54.893593Z",
     "shell.execute_reply": "2024-10-24T14:44:54.893593Z"
    }
   },
   "outputs": [
    {
     "ename": "NameError",
     "evalue": "name 'wb' is not defined",
     "output_type": "error",
     "traceback": [
      "\u001b[1;31m---------------------------------------------------------------------------\u001b[0m",
      "\u001b[1;31mNameError\u001b[0m                                 Traceback (most recent call last)",
      "Cell \u001b[1;32mIn[8], line 2\u001b[0m\n\u001b[0;32m      1\u001b[0m export_path \u001b[38;5;241m=\u001b[39m \u001b[38;5;124m'\u001b[39m\u001b[38;5;124mwb_log_file.log\u001b[39m\u001b[38;5;124m'\u001b[39m\n\u001b[1;32m----> 2\u001b[0m \u001b[43mwb\u001b[49m\u001b[38;5;241m.\u001b[39mset_log_file(export_path)\n\u001b[0;32m      3\u001b[0m \u001b[38;5;28mprint\u001b[39m(wb\u001b[38;5;241m.\u001b[39mrun_script_file(\u001b[38;5;124m'\u001b[39m\u001b[38;5;124mwb.wbjn\u001b[39m\u001b[38;5;124m'\u001b[39m, log_level\u001b[38;5;241m=\u001b[39m\u001b[38;5;124m'\u001b[39m\u001b[38;5;124minfo\u001b[39m\u001b[38;5;124m'\u001b[39m))\n",
      "\u001b[1;31mNameError\u001b[0m: name 'wb' is not defined"
     ]
    }
   ],
   "source": [
    "export_path = 'wb_log_file.log'\n",
    "wb.set_log_file(export_path)\n",
    "print(wb.run_script_file('wb.wbjn', log_level='info'))"
   ]
  },
  {
   "cell_type": "markdown",
   "id": "84fb506f",
   "metadata": {},
   "source": [
    "This segment sets up a log file for the script execution.\n",
    "The `set_log_file` method directs the logs to `wb_log_file.log`, and `run_script_file` executes a script with `info` log level.\n",
    "The output of the script is printed to the console."
   ]
  },
  {
   "cell_type": "code",
   "execution_count": 9,
   "id": "9e5bb065",
   "metadata": {
    "execution": {
     "iopub.execute_input": "2024-10-24T14:44:54.893593Z",
     "iopub.status.busy": "2024-10-24T14:44:54.893593Z",
     "iopub.status.idle": "2024-10-24T14:44:54.915911Z",
     "shell.execute_reply": "2024-10-24T14:44:54.915911Z"
    }
   },
   "outputs": [
    {
     "ename": "NameError",
     "evalue": "name 'wb' is not defined",
     "output_type": "error",
     "traceback": [
      "\u001b[1;31m---------------------------------------------------------------------------\u001b[0m",
      "\u001b[1;31mNameError\u001b[0m                                 Traceback (most recent call last)",
      "Cell \u001b[1;32mIn[9], line 1\u001b[0m\n\u001b[1;32m----> 1\u001b[0m \u001b[43mwb\u001b[49m\u001b[38;5;241m.\u001b[39mreset_log_file()\n\u001b[0;32m      2\u001b[0m wb\u001b[38;5;241m.\u001b[39mset_console_log_level(\u001b[38;5;124m'\u001b[39m\u001b[38;5;124minfo\u001b[39m\u001b[38;5;124m'\u001b[39m)\n\u001b[0;32m      3\u001b[0m \u001b[38;5;28mprint\u001b[39m(wb\u001b[38;5;241m.\u001b[39mrun_script_file(\u001b[38;5;124m'\u001b[39m\u001b[38;5;124mwb.wbjn\u001b[39m\u001b[38;5;124m'\u001b[39m, log_level\u001b[38;5;241m=\u001b[39m\u001b[38;5;124m'\u001b[39m\u001b[38;5;124minfo\u001b[39m\u001b[38;5;124m'\u001b[39m))\n",
      "\u001b[1;31mNameError\u001b[0m: name 'wb' is not defined"
     ]
    }
   ],
   "source": [
    "wb.reset_log_file()\n",
    "wb.set_console_log_level('info')\n",
    "print(wb.run_script_file('wb.wbjn', log_level='info'))"
   ]
  },
  {
   "cell_type": "markdown",
   "id": "4ef40797",
   "metadata": {},
   "source": [
    "To change the logging configuration, we first disable the log file using `reset_log_file`.\n",
    "The console log level is then set to `info` using `set_console_log_level`.\n",
    "The script is run again with the same log level, and the output is printed."
   ]
  },
  {
   "cell_type": "code",
   "execution_count": 10,
   "id": "7b3e0347",
   "metadata": {
    "execution": {
     "iopub.execute_input": "2024-10-24T14:44:54.915911Z",
     "iopub.status.busy": "2024-10-24T14:44:54.915911Z",
     "iopub.status.idle": "2024-10-24T14:44:54.937259Z",
     "shell.execute_reply": "2024-10-24T14:44:54.937259Z"
    }
   },
   "outputs": [
    {
     "ename": "NameError",
     "evalue": "name 'wb' is not defined",
     "output_type": "error",
     "traceback": [
      "\u001b[1;31m---------------------------------------------------------------------------\u001b[0m",
      "\u001b[1;31mNameError\u001b[0m                                 Traceback (most recent call last)",
      "Cell \u001b[1;32mIn[10], line 1\u001b[0m\n\u001b[1;32m----> 1\u001b[0m \u001b[43mwb\u001b[49m\u001b[38;5;241m.\u001b[39mset_console_log_level(\u001b[38;5;124m'\u001b[39m\u001b[38;5;124merror\u001b[39m\u001b[38;5;124m'\u001b[39m)\n\u001b[0;32m      2\u001b[0m \u001b[38;5;28mprint\u001b[39m(wb\u001b[38;5;241m.\u001b[39mrun_script_file(\u001b[38;5;124m'\u001b[39m\u001b[38;5;124mwb.wbjn\u001b[39m\u001b[38;5;124m'\u001b[39m, log_level\u001b[38;5;241m=\u001b[39m\u001b[38;5;124m'\u001b[39m\u001b[38;5;124minfo\u001b[39m\u001b[38;5;124m'\u001b[39m))\n",
      "\u001b[1;31mNameError\u001b[0m: name 'wb' is not defined"
     ]
    }
   ],
   "source": [
    "wb.set_console_log_level('error')\n",
    "print(wb.run_script_file('wb.wbjn', log_level='info'))"
   ]
  },
  {
   "cell_type": "markdown",
   "id": "6e419293",
   "metadata": {},
   "source": [
    "In this step, the console log level is set to `error`, making the logging more restrictive.\n",
    "The script is executed again, and only error-level logs are shown."
   ]
  },
  {
   "cell_type": "code",
   "execution_count": 11,
   "id": "937515c8",
   "metadata": {
    "execution": {
     "iopub.execute_input": "2024-10-24T14:44:54.937259Z",
     "iopub.status.busy": "2024-10-24T14:44:54.937259Z",
     "iopub.status.idle": "2024-10-24T14:44:54.957019Z",
     "shell.execute_reply": "2024-10-24T14:44:54.957019Z"
    }
   },
   "outputs": [
    {
     "ename": "NameError",
     "evalue": "name 'wb' is not defined",
     "output_type": "error",
     "traceback": [
      "\u001b[1;31m---------------------------------------------------------------------------\u001b[0m",
      "\u001b[1;31mNameError\u001b[0m                                 Traceback (most recent call last)",
      "Cell \u001b[1;32mIn[11], line 1\u001b[0m\n\u001b[1;32m----> 1\u001b[0m \u001b[43mwb\u001b[49m\u001b[38;5;241m.\u001b[39mexit()\n",
      "\u001b[1;31mNameError\u001b[0m: name 'wb' is not defined"
     ]
    }
   ],
   "source": [
    "wb.exit()"
   ]
  }
 ],
 "metadata": {
  "jupytext": {
   "cell_metadata_filter": "-all",
   "main_language": "python",
   "notebook_metadata_filter": "-all",
   "text_representation": {
    "extension": ".py",
    "format_name": "light"
   }
  },
  "language_info": {
   "codemirror_mode": {
    "name": "ipython",
    "version": 3
   },
   "file_extension": ".py",
   "mimetype": "text/x-python",
   "name": "python",
   "nbconvert_exporter": "python",
   "pygments_lexer": "ipython3",
   "version": "3.11.9"
  }
 },
 "nbformat": 4,
 "nbformat_minor": 5
}
