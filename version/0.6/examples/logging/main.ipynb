{
 "cells": [
  {
   "cell_type": "markdown",
   "id": "92a1acca",
   "metadata": {},
   "source": [
    "# Logging\n",
    "\n",
    "This example showcases the logging capabilities of PyWorkbench."
   ]
  },
  {
   "cell_type": "code",
   "execution_count": 1,
   "id": "4a644659",
   "metadata": {
    "execution": {
     "iopub.execute_input": "2025-01-08T18:17:15.711509Z",
     "iopub.status.busy": "2025-01-08T18:17:15.711509Z",
     "iopub.status.idle": "2025-01-08T18:17:15.904611Z",
     "shell.execute_reply": "2025-01-08T18:17:15.904611Z"
    }
   },
   "outputs": [],
   "source": [
    "import pathlib\n",
    "import os\n",
    "from ansys.workbench.core import launch_workbench"
   ]
  },
  {
   "cell_type": "markdown",
   "id": "a5adb8f1",
   "metadata": {},
   "source": [
    "First, import the necessary modules. We import `pathlib` for handling filesystem paths and `os` for interacting with the operating system. The `launch_workbench` function from `ansys.workbench.core` is imported to start a Workbench session."
   ]
  },
  {
   "cell_type": "markdown",
   "id": "9e141d24",
   "metadata": {},
   "source": [
    "Next, launch a Workbench session using PyWorkbench. Different directories are declared, including the client and server working directories, which should NOT be the same."
   ]
  },
  {
   "cell_type": "code",
   "execution_count": 2,
   "id": "c2fa9bbb",
   "metadata": {
    "execution": {
     "iopub.execute_input": "2025-01-08T18:17:15.904611Z",
     "iopub.status.busy": "2025-01-08T18:17:15.904611Z",
     "iopub.status.idle": "2025-01-08T18:17:15.915221Z",
     "shell.execute_reply": "2025-01-08T18:17:15.915221Z"
    }
   },
   "outputs": [],
   "source": [
    "workdir = pathlib.Path(\"__file__\").parent\n",
    "server_workdir = workdir / \"server_workdir\"\n",
    "client_workdir = workdir / \"client_workdir\"\n",
    "alternative_target_dir = workdir / \"alternative_target_dir\""
   ]
  },
  {
   "cell_type": "markdown",
   "id": "eed935f1",
   "metadata": {},
   "source": [
    "Here, we define several directories that will be used during the session.\n",
    "`workdir` is set to the directory containing the current file.\n",
    "`server_workdir`, `client_workdir`, and `alternative_target_dir` are subdirectories within the working directory."
   ]
  },
  {
   "cell_type": "markdown",
   "id": "0bccb5c7",
   "metadata": {},
   "source": [
    "Launch Workbench using previous directories:"
   ]
  },
  {
   "cell_type": "code",
   "execution_count": 3,
   "id": "f9b243e4",
   "metadata": {
    "execution": {
     "iopub.execute_input": "2025-01-08T18:17:15.915221Z",
     "iopub.status.busy": "2025-01-08T18:17:15.915221Z",
     "iopub.status.idle": "2025-01-08T18:18:41.870301Z",
     "shell.execute_reply": "2025-01-08T18:18:41.870301Z"
    }
   },
   "outputs": [],
   "source": [
    "wb = launch_workbench(server_workdir=str(server_workdir.absolute()), client_workdir=str(client_workdir.absolute()))"
   ]
  },
  {
   "cell_type": "markdown",
   "id": "3a592abd",
   "metadata": {},
   "source": [
    "The `launch_workbench` function is called to start a Workbench session.\n",
    "`server_workdir` and `client_workdir` are set to their absolute paths to avoid any ambiguity in directory locations."
   ]
  },
  {
   "cell_type": "code",
   "execution_count": 4,
   "id": "4ea730e6",
   "metadata": {
    "execution": {
     "iopub.execute_input": "2025-01-08T18:18:41.874815Z",
     "iopub.status.busy": "2025-01-08T18:18:41.874815Z",
     "iopub.status.idle": "2025-01-08T18:18:43.134182Z",
     "shell.execute_reply": "2025-01-08T18:18:43.134182Z"
    }
   },
   "outputs": [
    {
     "name": "stderr",
     "output_type": "stream",
     "text": [
      "\r",
      "Downloading server1._.zip:   0%|          | 0.00/337 [00:00<?, ?B/s]"
     ]
    },
    {
     "name": "stderr",
     "output_type": "stream",
     "text": [
      "\r",
      "Downloading server1._.zip: 100%|██████████| 337/337 [00:01<00:00, 331B/s]"
     ]
    },
    {
     "name": "stderr",
     "output_type": "stream",
     "text": [
      "\n"
     ]
    }
   ],
   "source": [
    "downloaded1 = wb.download_file('server1.*')"
   ]
  },
  {
   "cell_type": "markdown",
   "id": "6738eafa",
   "metadata": {},
   "source": [
    "This command demonstrates how to download files from the server using a wildcard.\n",
    "The `download_file` method is used to fetch all files matching the pattern `server1.*` from the server to the client."
   ]
  },
  {
   "cell_type": "code",
   "execution_count": 5,
   "id": "8a202920",
   "metadata": {
    "execution": {
     "iopub.execute_input": "2025-01-08T18:18:43.134182Z",
     "iopub.status.busy": "2025-01-08T18:18:43.134182Z",
     "iopub.status.idle": "2025-01-08T18:18:44.205377Z",
     "shell.execute_reply": "2025-01-08T18:18:44.205377Z"
    }
   },
   "outputs": [
    {
     "name": "stderr",
     "output_type": "stream",
     "text": [
      "\r",
      "Downloading _.zip:   0%|          | 0.00/652 [00:00<?, ?B/s]"
     ]
    },
    {
     "name": "stderr",
     "output_type": "stream",
     "text": [
      "\r",
      "Downloading _.zip: 100%|██████████| 652/652 [00:01<00:00, 627B/s]"
     ]
    },
    {
     "name": "stderr",
     "output_type": "stream",
     "text": [
      "\n"
     ]
    }
   ],
   "source": [
    "downloaded2 = wb.download_file('*', target_dir=alternative_target_dir)"
   ]
  },
  {
   "cell_type": "markdown",
   "id": "70160b39",
   "metadata": {},
   "source": [
    "This command downloads the entire contents of the server directory to an alternative local directory specified by `alternative_target_dir`."
   ]
  },
  {
   "cell_type": "code",
   "execution_count": 6,
   "id": "b557c295",
   "metadata": {
    "execution": {
     "iopub.execute_input": "2025-01-08T18:18:44.205377Z",
     "iopub.status.busy": "2025-01-08T18:18:44.205377Z",
     "iopub.status.idle": "2025-01-08T18:18:44.321517Z",
     "shell.execute_reply": "2025-01-08T18:18:44.321517Z"
    }
   },
   "outputs": [
    {
     "name": "stderr",
     "output_type": "stream",
     "text": [
      "\r",
      "Uploading cylinder.txt:   0%|          | 0.00/10.0 [00:00<?, ?B/s]"
     ]
    },
    {
     "name": "stderr",
     "output_type": "stream",
     "text": [
      "\r",
      "Uploading cylinder.txt: 100%|██████████| 10.0/10.0 [00:00<00:00, 640B/s]"
     ]
    },
    {
     "name": "stderr",
     "output_type": "stream",
     "text": [
      "\n"
     ]
    },
    {
     "name": "stderr",
     "output_type": "stream",
     "text": [
      "\r",
      "Uploading longbar.txt:   0%|          | 0.00/9.00 [00:00<?, ?B/s]"
     ]
    },
    {
     "name": "stderr",
     "output_type": "stream",
     "text": [
      "\r",
      "Uploading longbar.txt: 100%|██████████| 9.00/9.00 [00:00<?, ?B/s]"
     ]
    },
    {
     "name": "stderr",
     "output_type": "stream",
     "text": [
      "\n"
     ]
    },
    {
     "name": "stderr",
     "output_type": "stream",
     "text": [
      "\r",
      "Uploading model3.prt:   0%|          | 0.00/8.00 [00:00<?, ?B/s]"
     ]
    },
    {
     "name": "stderr",
     "output_type": "stream",
     "text": [
      "\r",
      "Uploading model3.prt: 100%|██████████| 8.00/8.00 [00:00<?, ?B/s]"
     ]
    },
    {
     "name": "stderr",
     "output_type": "stream",
     "text": [
      "\n"
     ]
    },
    {
     "name": "stderr",
     "output_type": "stream",
     "text": [
      "\r",
      "Uploading model7.prt:   0%|          | 0.00/8.00 [00:00<?, ?B/s]"
     ]
    },
    {
     "name": "stderr",
     "output_type": "stream",
     "text": [
      "\r",
      "Uploading model7.prt: 100%|██████████| 8.00/8.00 [00:00<00:00, 512B/s]"
     ]
    },
    {
     "name": "stderr",
     "output_type": "stream",
     "text": [
      "\n"
     ]
    }
   ],
   "source": [
    "wb.upload_file('*.txt', 'model?.prt')"
   ]
  },
  {
   "cell_type": "markdown",
   "id": "09495c59",
   "metadata": {},
   "source": [
    "This command shows how to upload files to the server using wildcards.\n",
    "All `.txt` files and files matching the pattern `model?.prt` in the client directory are uploaded to the server."
   ]
  },
  {
   "cell_type": "code",
   "execution_count": 7,
   "id": "b0e51cb5",
   "metadata": {
    "execution": {
     "iopub.execute_input": "2025-01-08T18:18:44.324531Z",
     "iopub.status.busy": "2025-01-08T18:18:44.324531Z",
     "iopub.status.idle": "2025-01-08T18:18:44.336905Z",
     "shell.execute_reply": "2025-01-08T18:18:44.336905Z"
    }
   },
   "outputs": [
    {
     "name": "stderr",
     "output_type": "stream",
     "text": [
      "WARNING:root:The following files do not exist and are skipped: C:\\Users\\ansys\\actions-runner\\_work\\pyworkbench-examples\\pyworkbench-examples\\pyworkbench-examples\\doc\\source\\examples\\logging\\client_workdir\\alternative_target_dir\\app.py\n",
      "C:\\Users\\ansys\\actions-runner\\_work\\pyworkbench-examples\\pyworkbench-examples\\pyworkbench-examples\\doc\\source\\examples\\logging\\client_workdir\\non_existing_file1\n",
      "C:\\Users\\ansys\\actions-runner\\_work\\pyworkbench-examples\\pyworkbench-examples\\pyworkbench-examples\\doc\\source\\examples\\logging\\client_workdir\\non_existing_file2\n"
     ]
    }
   ],
   "source": [
    "wb.upload_file(os.path.join(alternative_target_dir, 'app.py'), 'non_existing_file1', 'non_existing_file2', show_progress=False)"
   ]
  },
  {
   "cell_type": "markdown",
   "id": "0186bbdb",
   "metadata": {},
   "source": [
    "Here, files are uploaded from an alternative directory, and non-existing files are specified.\n",
    "The `show_progress` parameter is set to `False` to disable the progress bar during the upload."
   ]
  },
  {
   "cell_type": "code",
   "execution_count": 8,
   "id": "a75b04e4",
   "metadata": {
    "execution": {
     "iopub.execute_input": "2025-01-08T18:18:44.340413Z",
     "iopub.status.busy": "2025-01-08T18:18:44.340413Z",
     "iopub.status.idle": "2025-01-08T18:18:44.399405Z",
     "shell.execute_reply": "2025-01-08T18:18:44.399405Z"
    }
   },
   "outputs": [
    {
     "name": "stderr",
     "output_type": "stream",
     "text": [
      "ERROR:root:Error when running the script: CommandFailedException: Template Thermal not found in Project.\n"
     ]
    },
    {
     "name": "stdout",
     "output_type": "stream",
     "text": [
      "None\n"
     ]
    }
   ],
   "source": [
    "export_path = 'wb_log_file.log'\n",
    "wb.set_log_file(export_path)\n",
    "print(wb.run_script_file('wb.wbjn', log_level='info'))"
   ]
  },
  {
   "cell_type": "markdown",
   "id": "c48aec2a",
   "metadata": {},
   "source": [
    "This segment sets up a log file for the script execution.\n",
    "The `set_log_file` method directs the logs to `wb_log_file.log`, and `run_script_file` executes a script with `info` log level.\n",
    "The output of the script is printed to the console."
   ]
  },
  {
   "cell_type": "code",
   "execution_count": 9,
   "id": "3893f327",
   "metadata": {
    "execution": {
     "iopub.execute_input": "2025-01-08T18:18:44.403413Z",
     "iopub.status.busy": "2025-01-08T18:18:44.403413Z",
     "iopub.status.idle": "2025-01-08T18:18:44.427185Z",
     "shell.execute_reply": "2025-01-08T18:18:44.427185Z"
    }
   },
   "outputs": [
    {
     "name": "stderr",
     "output_type": "stream",
     "text": [
      "ERROR:root:Error when running the script: CommandFailedException: Template Thermal not found in Project.\n"
     ]
    },
    {
     "name": "stdout",
     "output_type": "stream",
     "text": [
      "None\n"
     ]
    }
   ],
   "source": [
    "wb.reset_log_file()\n",
    "wb.set_console_log_level('info')\n",
    "print(wb.run_script_file('wb.wbjn', log_level='info'))"
   ]
  },
  {
   "cell_type": "markdown",
   "id": "3713190d",
   "metadata": {},
   "source": [
    "To change the logging configuration, we first disable the log file using `reset_log_file`.\n",
    "The console log level is then set to `info` using `set_console_log_level`.\n",
    "The script is run again with the same log level, and the output is printed."
   ]
  },
  {
   "cell_type": "code",
   "execution_count": 10,
   "id": "2d968f52",
   "metadata": {
    "execution": {
     "iopub.execute_input": "2025-01-08T18:18:44.427185Z",
     "iopub.status.busy": "2025-01-08T18:18:44.427185Z",
     "iopub.status.idle": "2025-01-08T18:18:44.450577Z",
     "shell.execute_reply": "2025-01-08T18:18:44.449566Z"
    }
   },
   "outputs": [
    {
     "name": "stderr",
     "output_type": "stream",
     "text": [
      "ERROR:root:Error when running the script: CommandFailedException: Template Thermal not found in Project.\n"
     ]
    },
    {
     "name": "stdout",
     "output_type": "stream",
     "text": [
      "None\n"
     ]
    }
   ],
   "source": [
    "wb.set_console_log_level('error')\n",
    "print(wb.run_script_file('wb.wbjn', log_level='info'))"
   ]
  },
  {
   "cell_type": "markdown",
   "id": "f086cf84",
   "metadata": {},
   "source": [
    "In this step, the console log level is set to `error`, making the logging more restrictive.\n",
    "The script is executed again, and only error-level logs are shown."
   ]
  },
  {
   "cell_type": "code",
   "execution_count": 11,
   "id": "e290a42f",
   "metadata": {
    "execution": {
     "iopub.execute_input": "2025-01-08T18:18:44.450577Z",
     "iopub.status.busy": "2025-01-08T18:18:44.450577Z",
     "iopub.status.idle": "2025-01-08T18:18:51.998386Z",
     "shell.execute_reply": "2025-01-08T18:18:51.998386Z"
    }
   },
   "outputs": [],
   "source": [
    "wb.exit()"
   ]
  }
 ],
 "metadata": {
  "jupytext": {
   "cell_metadata_filter": "-all",
   "main_language": "python",
   "notebook_metadata_filter": "-all",
   "text_representation": {
    "extension": ".py",
    "format_name": "light"
   }
  },
  "language_info": {
   "codemirror_mode": {
    "name": "ipython",
    "version": 3
   },
   "file_extension": ".py",
   "mimetype": "text/x-python",
   "name": "python",
   "nbconvert_exporter": "python",
   "pygments_lexer": "ipython3",
   "version": "3.11.9"
  }
 },
 "nbformat": 4,
 "nbformat_minor": 5
}
