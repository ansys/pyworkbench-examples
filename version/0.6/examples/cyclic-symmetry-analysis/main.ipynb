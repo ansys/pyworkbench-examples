{
 "cells": [
  {
   "cell_type": "markdown",
   "id": "8ad391a6",
   "metadata": {},
   "source": [
    "# Cyclic symmetry analysis"
   ]
  },
  {
   "cell_type": "markdown",
   "id": "551d6c53",
   "metadata": {},
   "source": [
    "This notebook demonstrates how to use the Workbench client to manage projects on a remote host, run scripts, and handle output files.\n",
    "It covers launching services, uploading files, executing scripts, and visualizing results using PyMechanical."
   ]
  },
  {
   "cell_type": "code",
   "execution_count": 1,
   "id": "f7506dae",
   "metadata": {
    "execution": {
     "iopub.execute_input": "2025-01-08T18:02:31.076043Z",
     "iopub.status.busy": "2025-01-08T18:02:31.076043Z",
     "iopub.status.idle": "2025-01-08T18:02:31.093770Z",
     "shell.execute_reply": "2025-01-08T18:02:31.093770Z"
    }
   },
   "outputs": [],
   "source": [
    "import os\n",
    "import pathlib"
   ]
  },
  {
   "cell_type": "code",
   "execution_count": 2,
   "id": "a69c88c1",
   "metadata": {
    "execution": {
     "iopub.execute_input": "2025-01-08T18:02:31.093770Z",
     "iopub.status.busy": "2025-01-08T18:02:31.093770Z",
     "iopub.status.idle": "2025-01-08T18:02:31.365187Z",
     "shell.execute_reply": "2025-01-08T18:02:31.365187Z"
    }
   },
   "outputs": [],
   "source": [
    "from ansys.workbench.core import launch_workbench\n",
    "from ansys.mechanical.core import connect_to_mechanical"
   ]
  },
  {
   "cell_type": "markdown",
   "id": "0c072ba3",
   "metadata": {},
   "source": [
    "Launch the Workbench service on a remote host machine, specifying the remote host machine name and user login credentials.\n",
    "Define several directories that will be used during the session.\n",
    "`workdir` is set to the parent directory of the current file.\n",
    "`assets`, `scripts`, and `cdb` are subdirectories within the working directory.\n",
    "The `launch_workbench` function is called to start a Workbench session with specified directory."
   ]
  },
  {
   "cell_type": "code",
   "execution_count": 3,
   "id": "fc9f1058",
   "metadata": {
    "execution": {
     "iopub.execute_input": "2025-01-08T18:02:31.365187Z",
     "iopub.status.busy": "2025-01-08T18:02:31.365187Z",
     "iopub.status.idle": "2025-01-08T18:02:31.374632Z",
     "shell.execute_reply": "2025-01-08T18:02:31.374632Z"
    }
   },
   "outputs": [],
   "source": [
    "workdir = pathlib.Path(\"__file__\").parent"
   ]
  },
  {
   "cell_type": "code",
   "execution_count": 4,
   "id": "a75f253f",
   "metadata": {
    "execution": {
     "iopub.execute_input": "2025-01-08T18:02:31.374632Z",
     "iopub.status.busy": "2025-01-08T18:02:31.374632Z",
     "iopub.status.idle": "2025-01-08T18:02:31.382884Z",
     "shell.execute_reply": "2025-01-08T18:02:31.382884Z"
    }
   },
   "outputs": [],
   "source": [
    "assets = workdir / \"assets\"\n",
    "scripts = workdir / \"scripts\""
   ]
  },
  {
   "cell_type": "code",
   "execution_count": 5,
   "id": "b34412f9",
   "metadata": {
    "execution": {
     "iopub.execute_input": "2025-01-08T18:02:31.382884Z",
     "iopub.status.busy": "2025-01-08T18:02:31.382884Z",
     "iopub.status.idle": "2025-01-08T18:03:57.148897Z",
     "shell.execute_reply": "2025-01-08T18:03:57.147384Z"
    }
   },
   "outputs": [],
   "source": [
    "wb = launch_workbench(client_workdir=str(workdir.absolute()))"
   ]
  },
  {
   "cell_type": "markdown",
   "id": "69e02245",
   "metadata": {},
   "source": [
    "Upload the project files to the server using the `upload_file_from_example_repo` method.\n",
    "The file to upload is `sector_model.cdb`."
   ]
  },
  {
   "cell_type": "code",
   "execution_count": 6,
   "id": "cb33d8ef",
   "metadata": {
    "execution": {
     "iopub.execute_input": "2025-01-08T18:03:57.148897Z",
     "iopub.status.busy": "2025-01-08T18:03:57.148897Z",
     "iopub.status.idle": "2025-01-08T18:03:58.023476Z",
     "shell.execute_reply": "2025-01-08T18:03:58.023476Z"
    }
   },
   "outputs": [
    {
     "name": "stderr",
     "output_type": "stream",
     "text": [
      "\r",
      "Uploading sector_model.cdb:   0%|          | 0.00/7.86M [00:00<?, ?B/s]"
     ]
    },
    {
     "name": "stderr",
     "output_type": "stream",
     "text": [
      "\r",
      "Uploading sector_model.cdb: 100%|██████████| 7.86M/7.86M [00:00<00:00, 87.9MB/s]"
     ]
    },
    {
     "name": "stderr",
     "output_type": "stream",
     "text": [
      "\n"
     ]
    }
   ],
   "source": [
    "wb.upload_file_from_example_repo(\"cyclic-symmetry-analysis/cdb/sector_model.cdb\")"
   ]
  },
  {
   "cell_type": "markdown",
   "id": "f41f46d3",
   "metadata": {},
   "source": [
    "Execute a Workbench script (`project.wbjn`) to define the project and load the geometry using the `run_script_file` method.\n",
    "The `set_log_file` method is used to direct the logs to `wb_log_file.log`.\n",
    "The name of the system created is stored in `sys_name` and printed."
   ]
  },
  {
   "cell_type": "code",
   "execution_count": 7,
   "id": "622717a2",
   "metadata": {
    "execution": {
     "iopub.execute_input": "2025-01-08T18:03:58.029990Z",
     "iopub.status.busy": "2025-01-08T18:03:58.023476Z",
     "iopub.status.idle": "2025-01-08T18:05:22.484446Z",
     "shell.execute_reply": "2025-01-08T18:05:22.484446Z"
    }
   },
   "outputs": [
    {
     "name": "stdout",
     "output_type": "stream",
     "text": [
      "SYS 1\n"
     ]
    }
   ],
   "source": [
    "export_path = 'wb_log_file.log'\n",
    "wb.set_log_file(export_path)\n",
    "sys_name = wb.run_script_file(str((assets / \"project.wbjn\").absolute()), log_level='info')\n",
    "print(sys_name)"
   ]
  },
  {
   "cell_type": "markdown",
   "id": "cacd4102",
   "metadata": {},
   "source": [
    "Start a PyMechanical server for the system using the `start_mechanical_server` method.\n",
    "Create a PyMechanical client session connected to this server using `connect_to_mechanical`.\n",
    "The project directory is printed to verify the connection."
   ]
  },
  {
   "cell_type": "code",
   "execution_count": 8,
   "id": "8e05e246",
   "metadata": {
    "execution": {
     "iopub.execute_input": "2025-01-08T18:05:22.484446Z",
     "iopub.status.busy": "2025-01-08T18:05:22.484446Z",
     "iopub.status.idle": "2025-01-08T18:06:00.367734Z",
     "shell.execute_reply": "2025-01-08T18:06:00.367734Z"
    }
   },
   "outputs": [],
   "source": [
    "server_port = wb.start_mechanical_server(system_name=sys_name)"
   ]
  },
  {
   "cell_type": "code",
   "execution_count": 9,
   "id": "751b9610",
   "metadata": {
    "execution": {
     "iopub.execute_input": "2025-01-08T18:06:00.367734Z",
     "iopub.status.busy": "2025-01-08T18:06:00.367734Z",
     "iopub.status.idle": "2025-01-08T18:06:00.444195Z",
     "shell.execute_reply": "2025-01-08T18:06:00.444195Z"
    }
   },
   "outputs": [],
   "source": [
    "mechanical = connect_to_mechanical(ip='localhost', port=server_port)"
   ]
  },
  {
   "cell_type": "code",
   "execution_count": 10,
   "id": "865b787e",
   "metadata": {
    "execution": {
     "iopub.execute_input": "2025-01-08T18:06:00.446203Z",
     "iopub.status.busy": "2025-01-08T18:06:00.446203Z",
     "iopub.status.idle": "2025-01-08T18:06:00.456042Z",
     "shell.execute_reply": "2025-01-08T18:06:00.456042Z"
    }
   },
   "outputs": [
    {
     "name": "stdout",
     "output_type": "stream",
     "text": [
      "C:\\Users\\ansys\\AppData\\Local\\Temp\\WB_ansys_19576_2\\wbnew_files\\\n"
     ]
    }
   ],
   "source": [
    "print(mechanical.project_directory)"
   ]
  },
  {
   "cell_type": "markdown",
   "id": "7e7133a1",
   "metadata": {},
   "source": [
    "Read and execute the script `cyclic_symmetry_analysis.py` via the PyMechanical client using `run_python_script`.\n",
    "This script typically contains commands to mesh and solve the model.\n",
    "The output of the script is printed."
   ]
  },
  {
   "cell_type": "code",
   "execution_count": 11,
   "id": "7d41d08b",
   "metadata": {
    "execution": {
     "iopub.execute_input": "2025-01-08T18:06:00.456042Z",
     "iopub.status.busy": "2025-01-08T18:06:00.456042Z",
     "iopub.status.idle": "2025-01-08T18:16:56.217863Z",
     "shell.execute_reply": "2025-01-08T18:16:56.217863Z"
    }
   },
   "outputs": [
    {
     "name": "stdout",
     "output_type": "stream",
     "text": [
      "{\"Total Deformation\": \"5.202362674608513 [mm]\", \"Total Deformation 2\": \"2.182211520602412 [mm]\"}\n"
     ]
    }
   ],
   "source": [
    "with open(scripts / \"cyclic_symmetry_analysis.py\") as sf:\n",
    "    mech_script = sf.read()\n",
    "mech_output = mechanical.run_python_script(mech_script)\n",
    "print(mech_output)"
   ]
  },
  {
   "cell_type": "markdown",
   "id": "5a082fa2",
   "metadata": {},
   "source": [
    "Specify the Mechanical directory and run a script to fetch the working directory path.\n",
    "The path where all solver files are stored on the server is printed.\n",
    "Download the solver output file (`solve.out`) from the server to the client's current working directory and print its contents."
   ]
  },
  {
   "cell_type": "code",
   "execution_count": 12,
   "id": "a3949152",
   "metadata": {
    "execution": {
     "iopub.execute_input": "2025-01-08T18:16:56.217863Z",
     "iopub.status.busy": "2025-01-08T18:16:56.217863Z",
     "iopub.status.idle": "2025-01-08T18:16:56.239467Z",
     "shell.execute_reply": "2025-01-08T18:16:56.238455Z"
    }
   },
   "outputs": [
    {
     "name": "stdout",
     "output_type": "stream",
     "text": [
      "All solver files are stored on the server at: C:\\Users\\ansys\\AppData\\Local\\Temp\\WB_ansys_19576_2\\wbnew_files\\dp0\\SYS-6\\MECH\\\n"
     ]
    }
   ],
   "source": [
    "mechanical.run_python_script(f\"solve_dir=ExtAPI.DataModel.AnalysisList[5].WorkingDir\")\n",
    "result_solve_dir_server = mechanical.run_python_script(f\"solve_dir\")\n",
    "print(f\"All solver files are stored on the server at: {result_solve_dir_server}\")"
   ]
  },
  {
   "cell_type": "code",
   "execution_count": 13,
   "id": "d8ab4983",
   "metadata": {
    "execution": {
     "iopub.execute_input": "2025-01-08T18:16:56.240593Z",
     "iopub.status.busy": "2025-01-08T18:16:56.240593Z",
     "iopub.status.idle": "2025-01-08T18:16:56.246059Z",
     "shell.execute_reply": "2025-01-08T18:16:56.246059Z"
    },
    "lines_to_next_cell": 1
   },
   "outputs": [],
   "source": [
    "solve_out_path = os.path.join(result_solve_dir_server, \"solve.out\")"
   ]
  },
  {
   "cell_type": "code",
   "execution_count": 14,
   "id": "df71f094",
   "metadata": {
    "execution": {
     "iopub.execute_input": "2025-01-08T18:16:56.246059Z",
     "iopub.status.busy": "2025-01-08T18:16:56.246059Z",
     "iopub.status.idle": "2025-01-08T18:16:56.254024Z",
     "shell.execute_reply": "2025-01-08T18:16:56.254024Z"
    },
    "lines_to_next_cell": 1
   },
   "outputs": [],
   "source": [
    "def write_file_contents_to_console(path):\n",
    "    \"\"\"Write file contents to console.\"\"\"\n",
    "    with open(path, \"rt\") as file:\n",
    "        for line in file:\n",
    "            print(line, end=\"\")"
   ]
  },
  {
   "cell_type": "code",
   "execution_count": 15,
   "id": "c4e760b6",
   "metadata": {
    "execution": {
     "iopub.execute_input": "2025-01-08T18:16:56.256535Z",
     "iopub.status.busy": "2025-01-08T18:16:56.256535Z",
     "iopub.status.idle": "2025-01-08T18:16:56.434854Z",
     "shell.execute_reply": "2025-01-08T18:16:56.434854Z"
    }
   },
   "outputs": [
    {
     "name": "stderr",
     "output_type": "stream",
     "text": [
      "\r",
      "Downloading dns:///127.0.0.1:57020:C:\\Users\\ansys\\AppData\\Local\\Temp\\WB_ansys_19576_2\\wbnew_files\\dp0\\SYS-6\\MECH\\solve.out to C:\\Users\\ansys\\actions-runner\\_work\\pyworkbench-examples\\pyworkbench-examples\\pyworkbench-examples\\doc\\source\\examples\\cyclic-symmetry-analysis\\solve.out:   0%|          | 0.00/50.3k [00:00<?, ?B/s]"
     ]
    },
    {
     "name": "stderr",
     "output_type": "stream",
     "text": [
      "\r",
      "Downloading dns:///127.0.0.1:57020:C:\\Users\\ansys\\AppData\\Local\\Temp\\WB_ansys_19576_2\\wbnew_files\\dp0\\SYS-6\\MECH\\solve.out to C:\\Users\\ansys\\actions-runner\\_work\\pyworkbench-examples\\pyworkbench-examples\\pyworkbench-examples\\doc\\source\\examples\\cyclic-symmetry-analysis\\solve.out: 100%|██████████| 50.3k/50.3k [00:00<?, ?B/s]"
     ]
    },
    {
     "name": "stdout",
     "output_type": "stream",
     "text": [
      "\n",
      " Ansys Mechanical Enterprise                       \n",
      "\n",
      "\n",
      " *------------------------------------------------------------------*\n",
      " |                                                                  |\n",
      " |   W E L C O M E   T O   T H E   A N S Y S (R)  P R O G R A M     |\n",
      " |                                                                  |\n",
      " *------------------------------------------------------------------*\n",
      "\n",
      "\n",
      "\n",
      "\n",
      " ***************************************************************\n",
      " *         ANSYS MAPDL 2024 R2          LEGAL NOTICES          *\n",
      " ***************************************************************\n",
      " *                                                             *\n",
      " * Copyright 1971-2024 Ansys, Inc.  All rights reserved.       *\n",
      " * Unauthorized use, distribution or duplication is            *\n",
      " * prohibited.                                                 *\n",
      " *                                                             *\n",
      " * Ansys is a registered trademark of Ansys, Inc. or its       *\n",
      " * subsidiaries in the United States or other countries.       *\n",
      " * See the Ansys, Inc. online documentation or the Ansys, Inc. *\n",
      " * documentation CD or online help for the complete Legal      *\n",
      " * Notice.                                                     *\n",
      " *                                                             *\n",
      " ***************************************************************\n",
      " *                                                             *\n",
      " * THIS ANSYS SOFTWARE PRODUCT AND PROGRAM DOCUMENTATION       *\n",
      " * INCLUDE TRADE SECRETS AND CONFIDENTIAL AND PROPRIETARY      *\n",
      " * PRODUCTS OF ANSYS, INC., ITS SUBSIDIARIES, OR LICENSORS.    *\n",
      " * The software products and documentation are furnished by    *\n",
      " * Ansys, Inc. or its subsidiaries under a software license    *\n",
      " * agreement that contains provisions concerning               *\n",
      " * non-disclosure, copying, length and nature of use,          *\n",
      " * compliance with exporting laws, warranties, disclaimers,    *\n",
      " * limitations of liability, and remedies, and other           *\n",
      " * provisions.  The software products and documentation may be *\n",
      " * used, disclosed, transferred, or copied only in accordance  *\n",
      " * with the terms and conditions of that software license      *\n",
      " * agreement.                                                  *\n",
      " *                                                             *\n",
      " * Ansys, Inc. is a UL registered                              *\n",
      " * ISO 9001:2015 company.                                      *\n",
      " *                                                             *\n",
      " ***************************************************************\n",
      " *                                                             *\n",
      " * This product is subject to U.S. laws governing export and   *\n",
      " * re-export.                                                  *\n",
      " *                                                             *\n",
      " * For U.S. Government users, except as specifically granted   *\n",
      " * by the Ansys, Inc. software license agreement, the use,     *\n",
      " * duplication, or disclosure by the United States Government  *\n",
      " * is subject to restrictions stated in the Ansys, Inc.        *\n",
      " * software license agreement and FAR 12.212 (for non-DOD      *\n",
      " * licenses).                                                  *\n",
      " *                                                             *\n",
      " ***************************************************************\n",
      "\n",
      " 2024 R2 \n",
      "     \n",
      " Point Releases and Patches installed:   \n",
      "     \n",
      " Ansys Service Pack 2024 R2.01   \n",
      " Ansys Service Pack 2024 R2.02   \n",
      " Ansys Service Pack 2024 R2.03   \n",
      " Ansys, Inc. License Manager 2024 R2 \n",
      " Ansys, Inc. License Manager 2024 R2.01  \n",
      " Ansys, Inc. License Manager 2024 R2.02  \n",
      " Ansys, Inc. License Manager 2024 R2.03  \n",
      " Discovery 2024 R2   \n",
      " Discovery 2024 R2.01\n",
      " Discovery 2024 R2.02\n",
      " Discovery 2024 R2.03\n",
      " Core WB Files 2024 R2   \n",
      " Core WB Files 2024 R2.01\n",
      " Core WB Files 2024 R2.02\n",
      " Core WB Files 2024 R2.03\n",
      " SpaceClaim 2024 R2  \n",
      " SpaceClaim 2024 R2.01   \n",
      " SpaceClaim 2024 R2.02   \n",
      " SpaceClaim 2024 R2.03   \n",
      " Icepak (includes CFD-Post) 2024 R2  \n",
      " Icepak (includes CFD-Post) 2024 R2.01   \n",
      " Icepak (includes CFD-Post) 2024 R2.02   \n",
      " Icepak (includes CFD-Post) 2024 R2.03   \n",
      " CFD-Post only 2024 R2   \n",
      " CFD-Post only 2024 R2.01\n",
      " CFD-Post only 2024 R2.02\n",
      " CFD-Post only 2024 R2.03\n",
      " CFX (includes CFD-Post) 2024 R2 \n",
      " CFX (includes CFD-Post) 2024 R2.01  \n",
      " CFX (includes CFD-Post) 2024 R2.02  \n",
      " CFX (includes CFD-Post) 2024 R2.03  \n",
      " Chemkin 2024 R2 \n",
      " Chemkin 2024 R2.01  \n",
      " Chemkin 2024 R2.02  \n",
      " Chemkin 2024 R2.03  \n",
      " EnSight 2024 R2 \n",
      " EnSight 2024 R2.01  \n",
      " EnSight 2024 R2.02  \n",
      " EnSight 2024 R2.03  \n",
      " FENSAP-ICE 2024 R2  \n",
      " FENSAP-ICE 2024 R2.01   \n",
      " FENSAP-ICE 2024 R2.02   \n",
      " FENSAP-ICE 2024 R2.03   \n",
      " Fluent (includes CFD-Post) 2024 R2  \n",
      " Fluent (includes CFD-Post) 2024 R2.01   \n",
      " Fluent (includes CFD-Post) 2024 R2.02   \n",
      " Fluent (includes CFD-Post) 2024 R2.03   \n",
      " Polyflow (includes CFD-Post) 2024 R2\n",
      " Polyflow (includes CFD-Post) 2024 R2.01 \n",
      " Polyflow (includes CFD-Post) 2024 R2.02 \n",
      " Polyflow (includes CFD-Post) 2024 R2.03 \n",
      " Forte (includes EnSight) 2024 R2\n",
      " Forte (includes EnSight) 2024 R2.01 \n",
      " Forte (includes EnSight) 2024 R2.02 \n",
      " Forte (includes EnSight) 2024 R2.03 \n",
      " ICEM CFD 2024 R2\n",
      " ICEM CFD 2024 R2.01 \n",
      " ICEM CFD 2024 R2.02 \n",
      " ICEM CFD 2024 R2.03 \n",
      " TurboGrid 2024 R2   \n",
      " TurboGrid 2024 R2.01\n",
      " TurboGrid 2024 R2.02\n",
      " TurboGrid 2024 R2.03\n",
      " Speos 2024 R2   \n",
      " Speos 2024 R2.01\n",
      " Speos 2024 R2.02\n",
      " Speos 2024 R2.03\n",
      " Speos HPC 2024 R2   \n",
      " Speos HPC 2024 R2.01\n",
      " Speos HPC 2024 R2.02\n",
      " Speos HPC 2024 R2.03\n",
      " optiSLang 2024 R2   \n",
      " optiSLang 2024 R2.01\n",
      " optiSLang 2024 R2.02\n",
      " optiSLang 2024 R2.03\n",
      " Remote Solve Manager Standalone Services 2024 R2\n",
      " Remote Solve Manager Standalone Services 2024 R2.01 \n",
      " Remote Solve Manager Standalone Services 2024 R2.02 \n",
      " Remote Solve Manager Standalone Services 2024 R2.03 \n",
      " Additive 2024 R2\n",
      " Additive 2024 R2.01 \n",
      " Additive 2024 R2.02 \n",
      " Additive 2024 R2.03 \n",
      " Aqwa 2024 R2\n",
      " Aqwa 2024 R2.01 \n",
      " Aqwa 2024 R2.02 \n",
      " Aqwa 2024 R2.03 \n",
      " Autodyn 2024 R2 \n",
      " Autodyn 2024 R2.01  \n",
      " Autodyn 2024 R2.02  \n",
      " Autodyn 2024 R2.03  \n",
      " Customization Files for User Programmable Features 2024 R2  \n",
      " Customization Files for User Programmable Features 2024 R2.01   \n",
      " Customization Files for User Programmable Features 2024 R2.02   \n",
      " Customization Files for User Programmable Features 2024 R2.03   \n",
      " LS-DYNA 2024 R2 \n",
      " LS-DYNA 2024 R2.01  \n",
      " LS-DYNA 2024 R2.02  \n",
      " LS-DYNA 2024 R2.03  \n",
      " Mechanical Products 2024 R2 \n",
      " Mechanical Products 2024 R2.01  \n",
      " Mechanical Products 2024 R2.02  \n",
      " Mechanical Products 2024 R2.03  \n",
      " Motion 2024 R2  \n",
      " Motion 2024 R2.01   \n",
      " Motion 2024 R2.02   \n",
      " Motion 2024 R2.03   \n",
      " Sherlock 2024 R2\n",
      " Sherlock 2024 R2.01 \n",
      " Sherlock 2024 R2.02 \n",
      " Sherlock 2024 R2.03 \n",
      " Sound - SAS 2024 R2 \n",
      " Sound - SAS 2024 R2.01  \n",
      " Sound - SAS 2024 R2.02  \n",
      " Sound - SAS 2024 R2.03  \n",
      " ACIS Geometry Interface 2024 R2 \n",
      " ACIS Geometry Interface 2024 R2.01  \n",
      " ACIS Geometry Interface 2024 R2.02  \n",
      " ACIS Geometry Interface 2024 R2.03  \n",
      " AutoCAD Geometry Interface 2024 R2  \n",
      " AutoCAD Geometry Interface 2024 R2.01   \n",
      " AutoCAD Geometry Interface 2024 R2.02   \n",
      " AutoCAD Geometry Interface 2024 R2.03   \n",
      " Catia, Version 4 Geometry Interface 2024 R2 \n",
      " Catia, Version 4 Geometry Interface 2024 R2.01  \n",
      " Catia, Version 4 Geometry Interface 2024 R2.02  \n",
      " Catia, Version 4 Geometry Interface 2024 R2.03  \n",
      " Catia, Version 5 Geometry Interface 2024 R2 \n",
      " Catia, Version 5 Geometry Interface 2024 R2.01  \n",
      " Catia, Version 5 Geometry Interface 2024 R2.02  \n",
      " Catia, Version 5 Geometry Interface 2024 R2.03  \n",
      " Catia, Version 6 Geometry Interface 2024 R2 \n",
      " Catia, Version 6 Geometry Interface 2024 R2.01  \n",
      " Catia, Version 6 Geometry Interface 2024 R2.02  \n",
      " Catia, Version 6 Geometry Interface 2024 R2.03  \n",
      " Creo Elements/Direct Modeling Geometry Interface 2024 R2\n",
      " Creo Elements/Direct Modeling Geometry Interface 2024 R2.01 \n",
      " Creo Elements/Direct Modeling Geometry Interface 2024 R2.02 \n",
      " Creo Elements/Direct Modeling Geometry Interface 2024 R2.03 \n",
      " Creo Parametric Geometry Interface 2024 R2  \n",
      " Creo Parametric Geometry Interface 2024 R2.01   \n",
      " Creo Parametric Geometry Interface 2024 R2.02   \n",
      " Creo Parametric Geometry Interface 2024 R2.03   \n",
      " Inventor Geometry Interface 2024 R2 \n",
      " Inventor Geometry Interface 2024 R2.01  \n",
      " Inventor Geometry Interface 2024 R2.02  \n",
      " Inventor Geometry Interface 2024 R2.03  \n",
      " JTOpen Geometry Interface 2024 R2   \n",
      " JTOpen Geometry Interface 2024 R2.01\n",
      " JTOpen Geometry Interface 2024 R2.02\n",
      " JTOpen Geometry Interface 2024 R2.03\n",
      " NX Geometry Interface 2024 R2   \n",
      " NX Geometry Interface 2024 R2.01\n",
      " NX Geometry Interface 2024 R2.02\n",
      " NX Geometry Interface 2024 R2.03\n",
      " Parasolid Geometry Interface  2024 R2   \n",
      " Parasolid Geometry Interface  2024 R2.01\n",
      " Parasolid Geometry Interface  2024 R2.02\n",
      " Parasolid Geometry Interface  2024 R2.03\n",
      " Solid Edge Geometry Interface 2024 R2   \n",
      " Solid Edge Geometry Interface 2024 R2.01\n",
      " Solid Edge Geometry Interface 2024 R2.02\n",
      " Solid Edge Geometry Interface 2024 R2.03\n",
      " SOLIDWORKS Geometry Interface 2024 R2   \n",
      " SOLIDWORKS Geometry Interface 2024 R2.01\n",
      " SOLIDWORKS Geometry Interface 2024 R2.02\n",
      " SOLIDWORKS Geometry Interface 2024 R2.03\n",
      "\n",
      "\n",
      "          *****  MAPDL COMMAND LINE ARGUMENTS  *****\n",
      "  BATCH MODE REQUESTED (-b)    = NOLIST\n",
      "  INPUT FILE COPY MODE (-c)    = COPY\n",
      "  DISTRIBUTED MEMORY PARALLEL REQUESTED\n",
      "       4 PARALLEL PROCESSES REQUESTED WITH SINGLE THREAD PER PROCESS\n",
      "    TOTAL OF     4 CORES REQUESTED\n",
      "  INPUT FILE NAME              = C:\\Users\\ansys\\AppData\\Local\\Temp\\WB_ansys_19576_2\\_ProjectScratch\\Scr5FBA\\dummy.dat\n",
      "  OUTPUT FILE NAME             = C:\\Users\\ansys\\AppData\\Local\\Temp\\WB_ansys_19576_2\\_ProjectScratch\\Scr5FBA\\solve.out\n",
      "  START-UP FILE MODE           = NOREAD\n",
      "  STOP FILE MODE               = NOREAD\n",
      "\n",
      " RELEASE= 2024 R2              BUILD= 24.2      UP20240603   VERSION=WINDOWS x64 \n",
      " CURRENT JOBNAME=file0  18:12:54  JAN 08, 2025 CP=      0.094\n",
      "\n",
      "\n",
      " PARAMETER _DS_PROGRESS =     999.0000000    \n",
      "\n",
      " /INPUT FILE= ds.dat  LINE=       0\n",
      "\n",
      "\n",
      "\n",
      " *** NOTE ***                            CP =       0.406   TIME= 18:12:54\n",
      " The /CONFIG,NOELDB command is not valid in a distributed memory         \n",
      " parallel solution.  Command is ignored.                                 \n",
      "\n",
      " *GET  _WALLSTRT  FROM  ACTI  ITEM=TIME WALL  VALUE=  18.2150000    \n",
      "\n",
      " TITLE= \n",
      " wbnew--Harmonic Response (G4)                                                 \n",
      "\n",
      "  ACT Extensions:\n",
      "      LSDYNA, 2024.2\n",
      "      5f463412-bd3e-484b-87e7-cbc0a665e474, wbex\n",
      " /COM,     ANSYSMotion, 2024.2\n",
      "      20180725-3f81-49eb-9f31-41364844c769, wbex\n",
      "  \n",
      "\n",
      " SET PARAMETER DIMENSIONS ON  _WB_PROJECTSCRATCH_DIR\n",
      "  TYPE=STRI  DIMENSIONS=      248        1        1\n",
      "\n",
      " PARAMETER _WB_PROJECTSCRATCH_DIR(1) = C:\\Users\\ansys\\AppData\\Local\\Temp\\WB_ansys_19576_2\\_ProjectScratch\\Scr5FBA\\\n",
      "\n",
      " SET PARAMETER DIMENSIONS ON  _WB_SOLVERFILES_DIR\n",
      "  TYPE=STRI  DIMENSIONS=      248        1        1\n",
      "\n",
      " PARAMETER _WB_SOLVERFILES_DIR(1) = C:\\Users\\ansys\\AppData\\Local\\Temp\\WB_ansys_19576_2\\wbnew_files\\dp0\\SYS-6\\MECH\\\n",
      "\n",
      " SET PARAMETER DIMENSIONS ON  _WB_USERFILES_DIR\n",
      "  TYPE=STRI  DIMENSIONS=      248        1        1\n",
      "\n",
      " PARAMETER _WB_USERFILES_DIR(1) = C:\\Users\\ansys\\AppData\\Local\\Temp\\WB_ansys_19576_2\\wbnew_files\\user_files\\\n",
      " --- Data in consistent NMM units. See Solving Units in the help system for more\n",
      "\n",
      " MPA UNITS SPECIFIED FOR INTERNAL    \n",
      "  LENGTH      = MILLIMETERS (mm)\n",
      "  MASS        = TONNE (Mg)\n",
      "  TIME        = SECONDS (sec)\n",
      "  TEMPERATURE = CELSIUS (C)\n",
      "  TOFFSET     = 273.0\n",
      "  FORCE       = NEWTON (N)\n",
      "  HEAT        = MILLIJOULES (mJ)\n",
      "\n",
      " INPUT  UNITS ARE ALSO SET TO MPA \n",
      "\n",
      " *** MAPDL - ENGINEERING ANALYSIS SYSTEM  RELEASE 2024 R2          24.2     ***\n",
      " Ansys Mechanical Enterprise                       \n",
      " 00000000  VERSION=WINDOWS x64   18:12:54  JAN 08, 2025 CP=      0.453\n",
      "\n",
      " wbnew--Harmonic Response (G4)                                                 \n",
      "\n",
      "\n",
      "\n",
      "          ***** MAPDL ANALYSIS DEFINITION (PREP7) *****\n",
      " *********** Nodes for the whole assembly ***********\n",
      " *********** Elements for Body 1 'Solid Body 1(External Model)' ***********\n",
      " *********** Elements for Body 2 'Solid Body 2(External Model)' ***********\n",
      " *********** Send User Defined Coordinate System(s) ***********\n",
      " *********** Set Reference Temperature ***********\n",
      " *********** Send Materials ***********\n",
      " *********** Create Contact \"Contacts(External Model) Index = 1\" ***********\n",
      "             Real Constant Set For Above Contact Is 4 & 3\n",
      " *********** Create Contact \"Contacts(External Model) Index = 2\" ***********\n",
      "             Real Constant Set For Above Contact Is 6 & 5\n",
      " *********** Send Named Selection as Node Component ***********\n",
      " *********** Send Named Selection as Node Component ***********\n",
      " *********** Send Named Selection as Node Component ***********\n",
      " *********** Send Named Selection as Element Component ***********\n",
      " *********** Send Named Selection as Node Component ***********\n",
      " *********** Define Pressure Using Surface Effect Elements \"Pressure\" **********\n",
      " *********** Create Pre-Meshed Cyclic Symmetry ***********\n",
      "\n",
      "\n",
      " ***** ROUTINE COMPLETED *****  CP =         2.234\n",
      "\n",
      "\n",
      " --- Number of total nodes = 40644\n",
      " --- Number of contact elements = 2930\n",
      " --- Number of spring elements = 0\n",
      " --- Number of bearing elements = 0\n",
      " --- Number of solid elements = 23239\n",
      " --- Number of condensed parts = 0\n",
      " --- Number of total elements = 26169\n",
      "\n",
      " *GET  _WALLBSOL  FROM  ACTI  ITEM=TIME WALL  VALUE=  18.2152778    \n",
      "\n",
      " *****  MAPDL SOLUTION ROUTINE  *****\n",
      "\n",
      "\n",
      " PERFORM A HARMONIC ANALYSIS\n",
      "  THIS WILL BE A NEW ANALYSIS\n",
      "\n",
      "\n",
      " PERFORM A FULL HARMONIC RESPONSE ANALYSIS\n",
      "\n",
      " THERMAL STRAINS ARE NOT INCLUDED IN THE LOAD VECTOR.\n",
      "\n",
      " STEP BOUNDARY CONDITION KEY= 1\n",
      "\n",
      " HARMONIC FREQUENCY RANGE - END=  5500.0      BEGIN=  1200.0    \n",
      "\n",
      " USE    20 SUBSTEP(S) THIS LOAD STEP FOR ALL  DEGREES OF FREEDOM\n",
      "\n",
      " STRUCTURAL DAMPING COEFFICIENT = 0.20000E-01\n",
      "\n",
      " ERASE THE CURRENT DATABASE OUTPUT CONTROL TABLE.\n",
      "\n",
      "\n",
      " WRITE ALL  ITEMS TO THE DATABASE WITH A FREQUENCY OF NONE\n",
      "   FOR ALL APPLICABLE ENTITIES\n",
      "\n",
      " WRITE NSOL ITEMS TO THE DATABASE WITH A FREQUENCY OF ALL \n",
      "   FOR ALL APPLICABLE ENTITIES\n",
      "\n",
      " WRITE EANG ITEMS TO THE DATABASE WITH A FREQUENCY OF ALL \n",
      "   FOR ALL APPLICABLE ENTITIES\n",
      "\n",
      " WRITE ETMP ITEMS TO THE DATABASE WITH A FREQUENCY OF ALL \n",
      "   FOR ALL APPLICABLE ENTITIES\n",
      "\n",
      " WRITE VENG ITEMS TO THE DATABASE WITH A FREQUENCY OF ALL \n",
      "   FOR ALL APPLICABLE ENTITIES\n",
      "\n",
      " WRITE STRS ITEMS TO THE DATABASE WITH A FREQUENCY OF ALL \n",
      "   FOR ALL APPLICABLE ENTITIES\n",
      "\n",
      " WRITE EPEL ITEMS TO THE DATABASE WITH A FREQUENCY OF ALL \n",
      "   FOR ALL APPLICABLE ENTITIES\n",
      "\n",
      " WRITE RSOL ITEMS TO THE DATABASE WITH A FREQUENCY OF ALL \n",
      "   FOR ALL APPLICABLE ENTITIES\n",
      "\n",
      " WRITE CONT ITEMS TO THE DATABASE WITH A FREQUENCY OF ALL \n",
      "   FOR ALL APPLICABLE ENTITIES\n",
      "\n",
      " *GET  ANSINTER_  FROM  ACTI  ITEM=INT        VALUE=  0.00000000    \n",
      "\n",
      " *IF  ANSINTER_  ( =   0.00000     )  NE  \n",
      "      0  ( =   0.00000     )  THEN    \n",
      "\n",
      " *ENDIF\n",
      "\n",
      " *** NOTE ***                            CP =       3.312   TIME= 18:12:56\n",
      " The automatic domain decomposition logic has selected the FREQ domain   \n",
      " decomposition method with 1 processes per frequency solution.           \n",
      "\n",
      " *** SELECTION OF ELEMENT TECHNOLOGIES FOR APPLICABLE ELEMENTS ***\n",
      "      --- GIVE SUGGESTIONS AND RESET THE KEY OPTIONS ---\n",
      "\n",
      " ELEMENT TYPE         1 IS SOLID187. IT IS NOT ASSOCIATED WITH FULLY INCOMPRESSIBLE\n",
      " HYPERELASTIC MATERIALS. NO SUGGESTION IS AVAILABLE AND NO RESETTING IS NEEDED.\n",
      "\n",
      " ELEMENT TYPE         2 IS SOLID187. IT IS NOT ASSOCIATED WITH FULLY INCOMPRESSIBLE\n",
      " HYPERELASTIC MATERIALS. NO SUGGESTION IS AVAILABLE AND NO RESETTING IS NEEDED.\n",
      "\n",
      "\n",
      "\n",
      " *** WARNING ***                         CP =       6.859   TIME= 18:12:58\n",
      " Element shape checking is currently inactive.  Issue SHPP,ON or         \n",
      " SHPP,WARN to reactivate, if desired.                                    \n",
      "\n",
      " *** NOTE ***                            CP =       7.422   TIME= 18:12:59\n",
      " The model data was checked and warning messages were found.             \n",
      "  Please review output or errors file (                                  \n",
      " C:\\Users\\ansys\\AppData\\Local\\Temp\\WB_ansys_19576_2\\_ProjectScratch\\Scr5 \n",
      " 5FBA\\file0.err ) for these warning messages.                            \n",
      "\n",
      " GENERATE CYCLIC SYMMETRY CONSTRAINT EQUATIONS \n",
      "\n",
      " NUMBER OF CONSTRAINT EQUATIONS GENERATED=  6669\n",
      "   (USING THE MATCHED NODES ALGORITHM -- MAX NODE LOCATION ERROR = 0.78308E-02)\n",
      "\n",
      " *****  MAPDL SOLVE    COMMAND  *****\n",
      "\n",
      "\n",
      "\n",
      "   D I S T R I B U T E D   D O M A I N   D E C O M P O S E R\n",
      "\n",
      " ...Number of frequency solutions:  20\n",
      " ...Decompose to 4 frequency domains (with 1 processes per domain)\n",
      "\n",
      "\n",
      " *** SELECTION OF ELEMENT TECHNOLOGIES FOR APPLICABLE ELEMENTS ***\n",
      "      --- GIVE SUGGESTIONS AND RESET THE KEY OPTIONS ---\n",
      "\n",
      " ELEMENT TYPE         1 IS SOLID187. IT IS NOT ASSOCIATED WITH FULLY INCOMPRESSIBLE\n",
      " HYPERELASTIC MATERIALS. NO SUGGESTION IS AVAILABLE AND NO RESETTING IS NEEDED.\n",
      "\n",
      " ELEMENT TYPE         2 IS SOLID187. IT IS NOT ASSOCIATED WITH FULLY INCOMPRESSIBLE\n",
      " HYPERELASTIC MATERIALS. NO SUGGESTION IS AVAILABLE AND NO RESETTING IS NEEDED.\n",
      "\n",
      "\n",
      "\n",
      " *** MAPDL - ENGINEERING ANALYSIS SYSTEM  RELEASE 2024 R2          24.2     ***\n",
      " Ansys Mechanical Enterprise                       \n",
      " 00000000  VERSION=WINDOWS x64   18:13:00  JAN 08, 2025 CP=      9.797\n",
      "\n",
      " wbnew--Harmonic Response (G4)                                                 \n",
      "\n",
      "\n",
      "\n",
      "                       S O L U T I O N   O P T I O N S\n",
      "\n",
      "   PROBLEM DIMENSIONALITY. . . . . . . . . . . . .3-D                  \n",
      "   CYCLIC SYMMETRY SECTOR ANGLE. . . . . . . . . .   27.692     DEGREES\n",
      "   DEGREES OF FREEDOM. . . . . . UX   UY   UZ  \n",
      "   ANALYSIS TYPE . . . . . . . . . . . . . . . . .HARMONIC             \n",
      "      SOLUTION METHOD. . . . . . . . . . . . . . .FULL\n",
      "   OFFSET TEMPERATURE FROM ABSOLUTE ZERO . . . . .  273.15    \n",
      "   THERMAL EXPANSION . . . . . . . . . . . . . . .OFF\n",
      "   COMPLEX DISPLACEMENT PRINT OPTION . . . . . . .REAL AND IMAGINARY       \n",
      "   GLOBALLY ASSEMBLED MATRIX . . . . . . . . . . .SYMMETRIC  \n",
      "\n",
      " *** WARNING ***                         CP =      10.109   TIME= 18:13:00\n",
      " Material number 7 (used by element 33548) should normally have at least \n",
      " one MP or one TB type command associated with it.  Output of energy by  \n",
      " material may not be available.                                          \n",
      "\n",
      " *** NOTE ***                            CP =      10.281   TIME= 18:13:00\n",
      " The step data was checked and warning messages were found.              \n",
      "  Please review output or errors file (                                  \n",
      " C:\\Users\\ansys\\AppData\\Local\\Temp\\WB_ansys_19576_2\\_ProjectScratch\\Scr5 \n",
      " 5FBA\\file0.err ) for these warning messages.                            \n",
      "\n",
      " *** NOTE ***                            CP =      10.281   TIME= 18:13:00\n",
      " The conditions for direct assembly have been met.  No .emat or .erot    \n",
      " files will be produced.                                                 \n",
      "\n",
      " *** NOTE ***                            CP =      11.406   TIME= 18:13:01\n",
      " Symmetric Deformable- deformable contact pair identified by real        \n",
      " constant set 3 and contact element type 3 has been set up.  The         \n",
      " companion pair has real constant set ID 5.  Both pairs should have the  \n",
      " same behavior.                                                          \n",
      " For asymmetric contact analysis, you may deactivate the current pair    \n",
      " and keep its companion pair.                                            \n",
      " Contact algorithm: Penalty method\n",
      " Contact detection at: Gauss integration point\n",
      " Contact stiffness factor FKN                  10.000    \n",
      " The resulting initial contact stiffness      0.27905E+08\n",
      " Default penetration tolerance factor FTOLN   0.10000    \n",
      " The resulting penetration tolerance          0.14334    \n",
      " Default opening contact stiffness OPSF will be used.\n",
      " Default tangent stiffness factor FKT          1.0000    \n",
      " Default elastic slip factor SLTOL            0.50000E-02\n",
      " The resulting elastic slip tolerance         0.92303E-02\n",
      " Update contact stiffness at each iteration\n",
      " Default Max. friction stress TAUMAX          0.10000E+21\n",
      " Average contact surface length                1.8461    \n",
      " Average contact pair depth                    1.4334    \n",
      " Average target surface length                 1.4202    \n",
      " Default pinball region factor PINB           0.25000    \n",
      " The resulting pinball region                 0.35836    \n",
      " Initial penetration/gap is excluded.\n",
      " Bonded contact (always) is defined.\n",
      "\n",
      " *** NOTE ***                            CP =      11.406   TIME= 18:13:01\n",
      " Min.  Initial gap 0.119687086 was detected between contact element      \n",
      " 32561 and target element 32831.                                         \n",
      " Contact is detected due to initial settings.                            \n",
      "  \n",
      " Max.  Geometric gap 0.136413796 has been detected between contact       \n",
      " element 32668 and target element 32894.                                 \n",
      " ****************************************\n",
      "  \n",
      "\n",
      " *** WARNING ***                         CP =      11.406   TIME= 18:13:01\n",
      " Material number 7 (used by element 33548) should normally have at least \n",
      " one MP or one TB type command associated with it.  Output of energy by  \n",
      " material may not be available.                                          \n",
      "\n",
      " *** WARNING ***                         CP =      11.406   TIME= 18:13:01\n",
      " Material number 7 (used by element 33548) should normally have at least \n",
      " one MP or one TB type command associated with it.  Output of energy by  \n",
      " material may not be available.                                          \n",
      "\n",
      " *** NOTE ***                            CP =      11.406   TIME= 18:13:01\n",
      " Symmetric Deformable- deformable contact pair identified by real        \n",
      " constant set 5 and contact element type 5 has been set up.  The         \n",
      " companion pair has real constant set ID 3.  Both pairs should have the  \n",
      " same behavior.                                                          \n",
      " For asymmetric contact analysis, you may keep the current pair and      \n",
      " deactivate its companion pair.                                          \n",
      " Contact algorithm: Penalty method\n",
      " Contact detection at: Gauss integration point\n",
      " Contact stiffness factor FKN                  10.000    \n",
      " The resulting initial contact stiffness      0.27905E+08\n",
      " Default penetration tolerance factor FTOLN   0.10000    \n",
      " The resulting penetration tolerance          0.11335    \n",
      " Default opening contact stiffness OPSF will be used.\n",
      " Default tangent stiffness factor FKT          1.0000    \n",
      " Default elastic slip factor SLTOL            0.50000E-02\n",
      " The resulting elastic slip tolerance         0.71970E-02\n",
      " Update contact stiffness at each iteration\n",
      " Default Max. friction stress TAUMAX          0.10000E+21\n",
      " Average contact surface length                1.4394    \n",
      " Average contact pair depth                    1.1335    \n",
      " Average target surface length                 1.8316    \n",
      " Default pinball region factor PINB           0.25000    \n",
      " The resulting pinball region                 0.28337    \n",
      " Initial penetration/gap is excluded.\n",
      " Bonded contact (always) is defined.\n",
      "\n",
      " *** NOTE ***                            CP =      11.406   TIME= 18:13:01\n",
      " Min.  Initial gap 0.121762256 was detected between contact element      \n",
      " 32999 and target element 33214.                                         \n",
      " Contact is detected due to initial settings.                            \n",
      "  \n",
      " Max.  Geometric gap 0.136856675 has been detected between contact       \n",
      " element 33059 and target element 33401.                                 \n",
      " ****************************************\n",
      "  \n",
      "\n",
      " *** WARNING ***                         CP =      11.406   TIME= 18:13:01\n",
      " Material number 7 (used by element 33548) should normally have at least \n",
      " one MP or one TB type command associated with it.  Output of energy by  \n",
      " material may not be available.                                          \n",
      "\n",
      " *** NOTE ***                            CP =      11.406   TIME= 18:13:01\n",
      " Symmetric Deformable- deformable contact pair identified by real        \n",
      " constant set 10 and contact element type 3 has been set up.  The        \n",
      " companion pair has real constant set ID 12.  Both pairs should have     \n",
      " the same behavior.                                                      \n",
      " For asymmetric contact analysis, you may deactivate the current pair    \n",
      " and keep its companion pair.                                            \n",
      " Contact algorithm: Penalty method\n",
      " Contact detection at: Gauss integration point\n",
      " Contact stiffness factor FKN                  10.000    \n",
      " The resulting initial contact stiffness      0.27905E+08\n",
      " Default penetration tolerance factor FTOLN   0.10000    \n",
      " The resulting penetration tolerance          0.14334    \n",
      " Default opening contact stiffness OPSF will be used.\n",
      " Default tangent stiffness factor FKT          1.0000    \n",
      " Default elastic slip factor SLTOL            0.50000E-02\n",
      " The resulting elastic slip tolerance         0.92303E-02\n",
      " Update contact stiffness at each iteration\n",
      " Default Max. friction stress TAUMAX          0.10000E+21\n",
      " Average contact surface length                1.8461    \n",
      " Average contact pair depth                    1.4334    \n",
      " Average target surface length                 1.4202    \n",
      " Default pinball region factor PINB           0.25000    \n",
      " The resulting pinball region                 0.35836    \n",
      " Initial penetration/gap is excluded.\n",
      " Bonded contact (always) is defined.\n",
      "\n",
      " *** NOTE ***                            CP =      11.406   TIME= 18:13:01\n",
      " Min.  Initial gap 0.119687086 was detected between contact element      \n",
      " 67902 and target element 68172.                                         \n",
      " Contact is detected due to initial settings.                            \n",
      "  \n",
      " Max.  Geometric gap 0.136413796 has been detected between contact       \n",
      " element 68009 and target element 68235.                                 \n",
      " ****************************************\n",
      "  \n",
      "\n",
      " *** NOTE ***                            CP =      11.406   TIME= 18:13:01\n",
      " Symmetric Deformable- deformable contact pair identified by real        \n",
      " constant set 12 and contact element type 5 has been set up.  The        \n",
      " companion pair has real constant set ID 10.  Both pairs should have     \n",
      " the same behavior.                                                      \n",
      " For asymmetric contact analysis, you may keep the current pair and      \n",
      " deactivate its companion pair.                                          \n",
      " Contact algorithm: Penalty method\n",
      " Contact detection at: Gauss integration point\n",
      " Contact stiffness factor FKN                  10.000    \n",
      " The resulting initial contact stiffness      0.27905E+08\n",
      " Default penetration tolerance factor FTOLN   0.10000    \n",
      " The resulting penetration tolerance          0.11335    \n",
      " Default opening contact stiffness OPSF will be used.\n",
      " Default tangent stiffness factor FKT          1.0000    \n",
      " Default elastic slip factor SLTOL            0.50000E-02\n",
      " The resulting elastic slip tolerance         0.71970E-02\n",
      " Update contact stiffness at each iteration\n",
      " Default Max. friction stress TAUMAX          0.10000E+21\n",
      " Average contact surface length                1.4394    \n",
      " Average contact pair depth                    1.1335    \n",
      " Average target surface length                 1.8316    \n",
      " Default pinball region factor PINB           0.25000    \n",
      " The resulting pinball region                 0.28337    \n",
      " Initial penetration/gap is excluded.\n",
      " Bonded contact (always) is defined.\n",
      "\n",
      " *** NOTE ***                            CP =      11.406   TIME= 18:13:01\n",
      " Min.  Initial gap 0.121762256 was detected between contact element      \n",
      " 68340 and target element 68555.                                         \n",
      " Contact is detected due to initial settings.                            \n",
      "  \n",
      " Max.  Geometric gap 0.136856675 has been detected between contact       \n",
      " element 68400 and target element 68742.                                 \n",
      " ****************************************\n",
      "  \n",
      "  \n",
      "  \n",
      "\n",
      "                      L O A D   S T E P   O P T I O N S\n",
      "\n",
      "   LOAD STEP NUMBER. . . . . . . . . . . . . . . .     1\n",
      "   CYCLIC SYMMETRY HARMONIC INDEX. . . . . . . . .     0\n",
      "   FREQUENCY RANGE . . . . . . . . . . . . . . . .  1200.0     TO   5500.0    \n",
      "   NUMBER OF SUBSTEPS. . . . . . . . . . . . . . .    20\n",
      "   STEP CHANGE BOUNDARY CONDITIONS . . . . . . . .   YES\n",
      "   STRUCTURAL DAMPING COEFFICIENT. . . . . . . . . 0.20000E-01\n",
      "   PRINT OUTPUT CONTROLS . . . . . . . . . . . . .NO PRINTOUT\n",
      "   DATABASE OUTPUT CONTROLS\n",
      "      ITEM     FREQUENCY   COMPONENT\n",
      "       ALL       NONE               \n",
      "      NSOL        ALL               \n",
      "      EANG        ALL               \n",
      "      ETMP        ALL               \n",
      "      VENG        ALL               \n",
      "      STRS        ALL               \n",
      "      EPEL        ALL               \n",
      "      RSOL        ALL               \n",
      "      CONT        ALL               \n",
      "\n",
      "\n",
      " *** NOTE ***                            CP =      14.391   TIME= 18:13:01\n",
      " Symmetric Deformable- deformable contact pair identified by real        \n",
      " constant set 3 and contact element type 3 has been set up.  The         \n",
      " companion pair has real constant set ID 5.  Both pairs should have the  \n",
      " same behavior.                                                          \n",
      " For asymmetric contact analysis, you may deactivate the current pair    \n",
      " and keep its companion pair.                                            \n",
      " Contact algorithm: Penalty method\n",
      " Contact detection at: Gauss integration point\n",
      " Contact stiffness factor FKN                  10.000    \n",
      " The resulting initial contact stiffness      0.27905E+08\n",
      " Default penetration tolerance factor FTOLN   0.10000    \n",
      " The resulting penetration tolerance          0.14334    \n",
      " Default opening contact stiffness OPSF will be used.\n",
      " Default tangent stiffness factor FKT          1.0000    \n",
      " Default elastic slip factor SLTOL            0.50000E-02\n",
      " The resulting elastic slip tolerance         0.92303E-02\n",
      " Update contact stiffness at each iteration\n",
      " Default Max. friction stress TAUMAX          0.10000E+21\n",
      " Average contact surface length                1.8461    \n",
      " Average contact pair depth                    1.4334    \n",
      " Average target surface length                 1.4202    \n",
      " Default pinball region factor PINB           0.25000    \n",
      " The resulting pinball region                 0.35836    \n",
      " Initial penetration/gap is excluded.\n",
      " Bonded contact (always) is defined.\n",
      "\n",
      " *** NOTE ***                            CP =      14.391   TIME= 18:13:01\n",
      " Min.  Initial gap 0.119687086 was detected between contact element      \n",
      " 32561 and target element 32831.                                         \n",
      " Contact is detected due to initial settings.                            \n",
      "  \n",
      " Max.  Geometric gap 0.136413796 has been detected between contact       \n",
      " element 32668 and target element 32894.                                 \n",
      " ****************************************\n",
      "  \n",
      "\n",
      " *** NOTE ***                            CP =      14.391   TIME= 18:13:01\n",
      " Symmetric Deformable- deformable contact pair identified by real        \n",
      " constant set 5 and contact element type 5 has been set up.  The         \n",
      " companion pair has real constant set ID 3.  Both pairs should have the  \n",
      " same behavior.                                                          \n",
      " For asymmetric contact analysis, you may keep the current pair and      \n",
      " deactivate its companion pair.                                          \n",
      " Contact algorithm: Penalty method\n",
      " Contact detection at: Gauss integration point\n",
      " Contact stiffness factor FKN                  10.000    \n",
      " The resulting initial contact stiffness      0.27905E+08\n",
      " Default penetration tolerance factor FTOLN   0.10000    \n",
      " The resulting penetration tolerance          0.11335    \n",
      " Default opening contact stiffness OPSF will be used.\n",
      " Default tangent stiffness factor FKT          1.0000    \n",
      " Default elastic slip factor SLTOL            0.50000E-02\n",
      " The resulting elastic slip tolerance         0.71970E-02\n",
      " Update contact stiffness at each iteration\n",
      " Default Max. friction stress TAUMAX          0.10000E+21\n",
      " Average contact surface length                1.4394    \n",
      " Average contact pair depth                    1.1335    \n",
      " Average target surface length                 1.8316    \n",
      " Default pinball region factor PINB           0.25000    \n",
      " The resulting pinball region                 0.28337    \n",
      " Initial penetration/gap is excluded.\n",
      " Bonded contact (always) is defined.\n",
      "\n",
      " *** NOTE ***                            CP =      14.391   TIME= 18:13:01\n",
      " Min.  Initial gap 0.121762256 was detected between contact element      \n",
      " 32999 and target element 33214.                                         \n",
      " Contact is detected due to initial settings.                            \n",
      "  \n",
      " Max.  Geometric gap 0.136856675 has been detected between contact       \n",
      " element 33059 and target element 33401.                                 \n",
      " ****************************************\n",
      "  \n",
      "\n",
      " *** NOTE ***                            CP =      14.391   TIME= 18:13:01\n",
      " Symmetric Deformable- deformable contact pair identified by real        \n",
      " constant set 10 and contact element type 3 has been set up.  The        \n",
      " companion pair has real constant set ID 12.  Both pairs should have     \n",
      " the same behavior.                                                      \n",
      " For asymmetric contact analysis, you may deactivate the current pair    \n",
      " and keep its companion pair.                                            \n",
      " Contact algorithm: Penalty method\n",
      " Contact detection at: Gauss integration point\n",
      " Contact stiffness factor FKN                  10.000    \n",
      " The resulting initial contact stiffness      0.27905E+08\n",
      " Default penetration tolerance factor FTOLN   0.10000    \n",
      " The resulting penetration tolerance          0.14334    \n",
      " Default opening contact stiffness OPSF will be used.\n",
      " Default tangent stiffness factor FKT          1.0000    \n",
      " Default elastic slip factor SLTOL            0.50000E-02\n",
      " The resulting elastic slip tolerance         0.92303E-02\n",
      " Update contact stiffness at each iteration\n",
      " Default Max. friction stress TAUMAX          0.10000E+21\n",
      " Average contact surface length                1.8461    \n",
      " Average contact pair depth                    1.4334    \n",
      " Average target surface length                 1.4202    \n",
      " Default pinball region factor PINB           0.25000    \n",
      " The resulting pinball region                 0.35836    \n",
      " Initial penetration/gap is excluded.\n",
      " Bonded contact (always) is defined.\n",
      "\n",
      " *** NOTE ***                            CP =      14.391   TIME= 18:13:01\n",
      " Min.  Initial gap 0.119687086 was detected between contact element      \n",
      " 67902 and target element 68172.                                         \n",
      " Contact is detected due to initial settings.                            \n",
      "  \n",
      " Max.  Geometric gap 0.136413796 has been detected between contact       \n",
      " element 68009 and target element 68235.                                 \n",
      " ****************************************\n",
      "  \n",
      "\n",
      " *** NOTE ***                            CP =      14.391   TIME= 18:13:01\n",
      " Symmetric Deformable- deformable contact pair identified by real        \n",
      " constant set 12 and contact element type 5 has been set up.  The        \n",
      " companion pair has real constant set ID 10.  Both pairs should have     \n",
      " the same behavior.                                                      \n",
      " For asymmetric contact analysis, you may keep the current pair and      \n",
      " deactivate its companion pair.                                          \n",
      " Contact algorithm: Penalty method\n",
      " Contact detection at: Gauss integration point\n",
      " Contact stiffness factor FKN                  10.000    \n",
      " The resulting initial contact stiffness      0.27905E+08\n",
      " Default penetration tolerance factor FTOLN   0.10000    \n",
      " The resulting penetration tolerance          0.11335    \n",
      " Default opening contact stiffness OPSF will be used.\n",
      " Default tangent stiffness factor FKT          1.0000    \n",
      " Default elastic slip factor SLTOL            0.50000E-02\n",
      " The resulting elastic slip tolerance         0.71970E-02\n",
      " Update contact stiffness at each iteration\n",
      " Default Max. friction stress TAUMAX          0.10000E+21\n",
      " Average contact surface length                1.4394    \n",
      " Average contact pair depth                    1.1335    \n",
      " Average target surface length                 1.8316    \n",
      " Default pinball region factor PINB           0.25000    \n",
      " The resulting pinball region                 0.28337    \n",
      " Initial penetration/gap is excluded.\n",
      " Bonded contact (always) is defined.\n",
      "\n",
      " *** NOTE ***                            CP =      14.391   TIME= 18:13:01\n",
      " Min.  Initial gap 0.121762256 was detected between contact element      \n",
      " 68340 and target element 68555.                                         \n",
      " Contact is detected due to initial settings.                            \n",
      "  \n",
      " Max.  Geometric gap 0.136856675 has been detected between contact       \n",
      " element 68400 and target element 68742.                                 \n",
      " ****************************************\n",
      "  \n",
      "\n",
      "\n",
      "\n",
      "            **** CENTER OF MASS, MASS, AND MASS MOMENTS OF INERTIA ****\n",
      "\n",
      "  CALCULATIONS ASSUME ELEMENT MASS AT ELEMENT CENTROID\n",
      "\n",
      "  TOTAL MASS =  0.38387E-03\n",
      "\n",
      "                           MOM. OF INERTIA         MOM. OF INERTIA\n",
      "  CENTER OF MASS            ABOUT ORIGIN        ABOUT CENTER OF MASS\n",
      "\n",
      "  XC =   36.912          IXX =    5.701          IXX =   0.7970E-01\n",
      "  YC =   117.35          IYY =    1.140          IYY =   0.2817    \n",
      "  ZC =   29.541          IZZ =    6.082          IZZ =   0.2729    \n",
      "                         IXY =   -1.699          IXY =  -0.3613E-01\n",
      "                         IYZ =   -1.329          IYZ =   0.1306E-02\n",
      "                         IZX =  -0.4730          IZX =  -0.5439E-01\n",
      "\n",
      "\n",
      "  *** MASS SUMMARY BY ELEMENT TYPE ***\n",
      "\n",
      "  TYPE      MASS\n",
      "     1  0.190222E-03\n",
      "     2  0.193645E-03\n",
      "\n",
      " Range of element maximum matrix coefficients in global coordinates\n",
      " Maximum = 9031711.02 at element 67895.                                  \n",
      " Minimum = 40118.4069 at element 49928.                                  \n",
      "\n",
      "   *** ELEMENT MATRIX FORMULATION TIMES\n",
      "     TYPE    NUMBER   ENAME      TOTAL CP  AVE CP\n",
      "\n",
      "        1     24706  SOLID187      2.891   0.000117\n",
      "        2     21772  SOLID187      2.750   0.000126\n",
      "        3       806  CONTA174      0.172   0.000213\n",
      "        4       330  TARGE170      0.000   0.000000\n",
      "        5       330  CONTA174      0.094   0.000284\n",
      "        6       806  TARGE170      0.000   0.000000\n",
      "        7      3588  SURF154       0.266   0.000074\n",
      " Time at end of element matrix formulation CP = 21.296875.               \n",
      "\n",
      " *** NOTE ***                            CP =      22.438   TIME= 18:13:11\n",
      " The initial memory allocation (-m) has been exceeded.                   \n",
      "  Supplemental memory allocations are being used.                        \n",
      "\n",
      " SPARSE MATRIX DIRECT SOLVER.\n",
      "  Number of equations =      229620,    Maximum wavefront =    276\n",
      "\n",
      "\n",
      "  Memory allocated on this process\n",
      "  -------------------------------------------------------------------\n",
      "  Equation solver memory allocated                     =  2531.406 MB\n",
      "  Equation solver memory required for in-core mode     =  2421.917 MB\n",
      "  Equation solver memory required for out-of-core mode =   701.570 MB\n",
      "  Total (solver and non-solver) memory allocated       =  4171.383 MB\n",
      "\n",
      " *** NOTE ***                            CP =      24.594   TIME= 18:13:14\n",
      " The Sparse Matrix Solver is currently running in the in-core memory     \n",
      " mode.  This memory mode uses the most amount of memory in order to      \n",
      " avoid using the hard drive as much as possible, which most often        \n",
      " results in the fastest solution time.  This mode is recommended if      \n",
      " enough physical memory is present to accommodate all of the solver      \n",
      " data.                                                                   \n",
      " Sparse solver maximum pivot= 17281797.7 at node 27603 UY.               \n",
      " Sparse solver minimum pivot= 10088.7419 at node 1358 UY.                \n",
      " Sparse solver minimum pivot in absolute value= 10088.7419 at node 1358  \n",
      " UY.                                                                     \n",
      "\n",
      "   *** ELEMENT RESULT CALCULATION TIMES\n",
      "     TYPE    NUMBER   ENAME      TOTAL CP  AVE CP\n",
      "\n",
      "        1     24706  SOLID187      2.391   0.000097\n",
      "        2     21772  SOLID187      2.312   0.000106\n",
      "        3       806  CONTA174      0.031   0.000039\n",
      "        5       330  CONTA174      0.078   0.000237\n",
      "        7      3588  SURF154       0.234   0.000065\n",
      "\n",
      "   *** NODAL LOAD CALCULATION TIMES\n",
      "     TYPE    NUMBER   ENAME      TOTAL CP  AVE CP\n",
      "\n",
      "        1     24706  SOLID187      0.641   0.000026\n",
      "        2     21772  SOLID187      0.641   0.000029\n",
      "        3       806  CONTA174      0.000   0.000000\n",
      "        5       330  CONTA174      0.016   0.000047\n",
      "        7      3588  SURF154       0.047   0.000013\n",
      " *** LOAD STEP     1   SUBSTEP     1  COMPLETED.  FREQUENCY=   1415.00    \n",
      " *** LOAD STEP     1   SUBSTEP     2  COMPLETED.  FREQUENCY=   1630.00    \n",
      " *** LOAD STEP     1   SUBSTEP     3  COMPLETED.  FREQUENCY=   1845.00    \n",
      " *** LOAD STEP     1   SUBSTEP     4  COMPLETED.  FREQUENCY=   2060.00    \n",
      " *** LOAD STEP     1   SUBSTEP     5  COMPLETED.  FREQUENCY=   2275.00    \n",
      " *** LOAD STEP     1   SUBSTEP     6  COMPLETED.  FREQUENCY=   2490.00    \n",
      " *** LOAD STEP     1   SUBSTEP     7  COMPLETED.  FREQUENCY=   2705.00    \n",
      " *** LOAD STEP     1   SUBSTEP     8  COMPLETED.  FREQUENCY=   2920.00    \n",
      " *** LOAD STEP     1   SUBSTEP     9  COMPLETED.  FREQUENCY=   3135.00    \n",
      " *** LOAD STEP     1   SUBSTEP    10  COMPLETED.  FREQUENCY=   3350.00    \n",
      " *** LOAD STEP     1   SUBSTEP    11  COMPLETED.  FREQUENCY=   3565.00    \n",
      " *** LOAD STEP     1   SUBSTEP    12  COMPLETED.  FREQUENCY=   3780.00    \n",
      " *** LOAD STEP     1   SUBSTEP    13  COMPLETED.  FREQUENCY=   3995.00    \n",
      " *** LOAD STEP     1   SUBSTEP    14  COMPLETED.  FREQUENCY=   4210.00    \n",
      " *** LOAD STEP     1   SUBSTEP    15  COMPLETED.  FREQUENCY=   4425.00    \n",
      " *** LOAD STEP     1   SUBSTEP    16  COMPLETED.  FREQUENCY=   4640.00    \n",
      " *** LOAD STEP     1   SUBSTEP    17  COMPLETED.  FREQUENCY=   4855.00    \n",
      " *** LOAD STEP     1   SUBSTEP    18  COMPLETED.  FREQUENCY=   5070.00    \n",
      " *** LOAD STEP     1   SUBSTEP    19  COMPLETED.  FREQUENCY=   5285.00    \n",
      " *** LOAD STEP     1   SUBSTEP    20  COMPLETED.  FREQUENCY=   5500.00    \n",
      "\n",
      "\n",
      " *** MAPDL BINARY FILE STATISTICS\n",
      "  BUFFER SIZE USED= 16384\n",
      "       24.000 MB WRITTEN ON ELEMENT SAVED DATA FILE: file0.esav\n",
      "      192.062 MB WRITTEN ON ASSEMBLED MATRIX FILE: file0.full\n",
      "      197.125 MB WRITTEN ON RESULTS FILE: file0.rst\n",
      " *************** Write FE CONNECTORS *********\n",
      "\n",
      " WRITE OUT CONSTRAINT EQUATIONS TO FILE= file.ce                                                                                                                                                                                                                                                             \n",
      " ************ Write Pre-Meshed Cyclic Pairs ************\n",
      "\n",
      " *GET  NUM_PAIRS  FROM  PARM  CYCLIC_XREF_N  ITEM=DIM  2     VALUE=  4446.00000    \n",
      "\n",
      " *IF  num_pairs  ( =   4446.00     )  NE  \n",
      "      0  ( =   0.00000     )  THEN    \n",
      "\n",
      " OPENED FILE= cyclic_map.json FOR COMMAND FILE DATA \n",
      "\n",
      "\n",
      " *DO LOOP ON PARAMETER= I FROM  1.0000     TO  4446.0     BY  1.0000    \n",
      "\n",
      " *ENDDO  INDEX= I                               \n",
      "\n",
      "  COMMAND FILE CLOSED \n",
      "\n",
      "\n",
      " *ENDIF\n",
      "\n",
      " FINISH SOLUTION PROCESSING\n",
      "\n",
      "\n",
      " ***** ROUTINE COMPLETED *****  CP =       211.078\n",
      "\n",
      "\n",
      "\n",
      " PRINTOUT RESUMED BY /GOP\n",
      "\n",
      " *GET  _WALLASOL  FROM  ACTI  ITEM=TIME WALL  VALUE=  18.2805556    \n",
      "\n",
      " *** MAPDL - ENGINEERING ANALYSIS SYSTEM  RELEASE 2024 R2          24.2     ***\n",
      " Ansys Mechanical Enterprise                       \n",
      " 00000000  VERSION=WINDOWS x64   18:16:50  JAN 08, 2025 CP=    211.109\n",
      "\n",
      " wbnew--Harmonic Response (G4)                                                 \n",
      "\n",
      "\n",
      "\n",
      "          ***** MAPDL RESULTS INTERPRETATION (POST1) *****\n",
      "\n",
      " *** NOTE ***                            CP =     211.109   TIME= 18:16:50\n",
      " Reading results into the database (SET command) will update the current \n",
      " displacement and force boundary conditions in the database with the     \n",
      " values from the results file for that load set.  Note that any          \n",
      " subsequent solutions will use these values unless action is taken to    \n",
      " either SAVE the current values or not overwrite them (/EXIT,NOSAVE).    \n",
      "\n",
      " Set Encoding of XML File to:ISO-8859-1\n",
      "\n",
      " Set Output of XML File to:\n",
      "     PARM,     ,     ,     ,     ,     ,     ,     ,     ,     ,     ,     ,\n",
      "         ,     ,     ,     ,     ,     ,     ,\n",
      "\n",
      " DATABASE WRITTEN ON FILE  parm.xml                                                                                                                                                                                                                                                            \n",
      "\n",
      " EXIT THE MAPDL POST1 DATABASE PROCESSOR\n",
      "\n",
      "\n",
      " ***** ROUTINE COMPLETED *****  CP =       211.125\n",
      "\n",
      "\n",
      "\n",
      " PRINTOUT RESUMED BY /GOP\n",
      "\n",
      " *GET  _WALLDONE  FROM  ACTI  ITEM=TIME WALL  VALUE=  18.2805556    \n",
      "\n",
      " PARAMETER _PREPTIME =     1.000000000    \n",
      "\n",
      " PARAMETER _SOLVTIME =     235.0000000    \n",
      "\n",
      " PARAMETER _POSTTIME =     0.000000000    \n",
      "\n",
      " PARAMETER _TOTALTIM =     236.0000000    \n",
      "\n",
      " *GET  _DLBRATIO  FROM  ACTI  ITEM=SOLU DLBR  VALUE=  0.00000000    \n",
      "\n",
      " *GET  _COMBTIME  FROM  ACTI  ITEM=SOLU COMB  VALUE=  1.52494450    \n",
      "\n",
      " *GET  _SSMODE   FROM  ACTI  ITEM=SOLU SSMM  VALUE=  2.00000000    \n",
      "\n",
      " *GET  _NDOFS    FROM  ACTI  ITEM=SOLU NDOF  VALUE=  229620.000    \n",
      "\n",
      " /FCLEAN COMMAND REMOVING ALL LOCAL FILES\n",
      " --- Total number of nodes = 81288\n",
      " --- Total number of elements = 52338\n",
      " --- Element load balance ratio = 0\n",
      " --- Time to combine distributed files = 1.5249445\n",
      " --- Sparse memory mode = 2\n",
      " --- Number of DOF = 229620\n",
      "\n",
      " EXIT MAPDL WITHOUT SAVING DATABASE\n",
      "\n",
      "\n",
      " NUMBER OF WARNING MESSAGES ENCOUNTERED=          5\n",
      " NUMBER OF ERROR   MESSAGES ENCOUNTERED=          0\n",
      "\n",
      "+--------------------- M A P D L   S T A T I S T I C S ------------------------+\n",
      "\n",
      "Release: 2024 R2            Build: 24.2       Update: UP20240603   Platform: WINDOWS x64 \n",
      "Date Run: 01/08/2025   Time: 18:16     Process ID: 14472\n",
      "Operating System: Windows 11  (Build: 22631)\n",
      "\n",
      "Processor Model: Intel(R) Xeon(R) Platinum 8171M CPU @ 2.60GHz\n",
      "\n",
      "Compiler: Intel(R) Fortran Compiler Classic Version 2021.9  (Build: 20230302)\n",
      "          Intel(R) C/C++ Compiler Classic Version 2021.9  (Build: 20230302)\n",
      "          Intel(R) oneAPI Math Kernel Library Version 2023.1-Product Build 20230303\n",
      "\n",
      "Number of machines requested            :    1\n",
      "Total number of cores available         :    8\n",
      "Number of physical cores available      :    4\n",
      "Number of processes requested           :    4\n",
      "Number of threads per process requested :    1\n",
      "Total number of cores requested         :    4 (Distributed Memory Parallel)               \n",
      "MPI Type: INTELMPI\n",
      "MPI Version: Intel(R) MPI Library 2021.11 for Windows* OS\n",
      "\n",
      "\n",
      "GPU Acceleration: Not Requested\n",
      "\n",
      "Job Name: file0\n",
      "Input File: dummy.dat\n",
      "\n",
      "  Core                Machine Name   Working Directory\n",
      " -----------------------------------------------------\n",
      "     0                 pyworkbench   C:\\Users\\ansys\\AppData\\Local\\Temp\\WB_ansys_19576_2\\_ProjectScratch\\Scr5FBA\n",
      "     1                 pyworkbench   C:\\Users\\ansys\\AppData\\Local\\Temp\\WB_ansys_19576_2\\_ProjectScratch\\Scr5FBA\n",
      "     2                 pyworkbench   C:\\Users\\ansys\\AppData\\Local\\Temp\\WB_ansys_19576_2\\_ProjectScratch\\Scr5FBA\n",
      "     3                 pyworkbench   C:\\Users\\ansys\\AppData\\Local\\Temp\\WB_ansys_19576_2\\_ProjectScratch\\Scr5FBA\n",
      " \n",
      "Latency time from master to core     1 =    3.113 microseconds\n",
      "Latency time from master to core     2 =    3.361 microseconds\n",
      "Latency time from master to core     3 =    3.056 microseconds\n",
      " \n",
      "Communication speed from master to core     1 =  4604.21 MB/sec\n",
      "Communication speed from master to core     2 =  4652.46 MB/sec\n",
      "Communication speed from master to core     3 =  5233.72 MB/sec\n",
      "\n",
      "Total CPU time for main thread                    :      203.2 seconds\n",
      "Total CPU time summed for all threads             :      211.3 seconds\n",
      "\n",
      "Elapsed time spent obtaining a license            :        0.5 seconds\n",
      "Elapsed time spent pre-processing model (/PREP7)  :        0.6 seconds\n",
      "Elapsed time spent solution - preprocessing       :        2.3 seconds\n",
      "Elapsed time spent computing solution             :      226.2 seconds\n",
      "Elapsed time spent solution - postprocessing      :        1.5 seconds\n",
      "Elapsed time spent post-processing model (/POST1) :        0.0 seconds\n",
      " \n",
      "Equation solver used                              :            Sparse (symmetric)\n",
      "Equation solver computational rate                :        6.8 Gflops\n",
      "\n",
      "Sum of disk space used on all processes           :     2301.8 MB\n",
      "\n",
      "Sum of memory used on all processes               :    11719.0 MB\n",
      "Sum of memory allocated on all processes          :    15207.0 MB\n",
      "Physical memory available                         :         32 GB\n",
      "Total amount of I/O written to disk               :        2.3 GB\n",
      "Total amount of I/O read from disk                :        1.8 GB\n",
      "\n",
      "+------------------ E N D   M A P D L   S T A T I S T I C S -------------------+\n",
      "\n",
      "\n",
      " *-----------------------------------------------------------------------------*\n",
      " |                                                                             |\n",
      " |                               RUN COMPLETED                                 |\n",
      " |                                                                             |\n",
      " |-----------------------------------------------------------------------------|\n",
      " |                                                                             |\n",
      " |  Ansys MAPDL 2024 R2         Build 24.2         UP20240603    WINDOWS x64   |\n",
      " |                                                                             |\n",
      " |-----------------------------------------------------------------------------|\n",
      " |                                                                             |\n",
      " |  Database Requested(-db)     1024 MB     Scratch Memory Requested   1024 MB |\n",
      " |  Max Database Used(Master)     61 MB     Max Scratch Used(Master)   2871 MB |\n",
      " |  Max Database Used(Workers)    59 MB     Max Scratch Used(Workers)  2870 MB |\n",
      " |  Sum Database Used(All)       238 MB     Sum Scratch Used(All)     11481 MB |\n",
      " |                                                                             |\n",
      " |-----------------------------------------------------------------------------|\n",
      " |                                                                             |\n",
      " |        CP Time      (sec) =        211.266       Time  =  18:16:52          |\n",
      " |        Elapsed Time (sec) =        240.000       Date  =  01/08/2025        |\n",
      " |                                                                             |\n",
      " *-----------------------------------------------------------------------------*\n"
     ]
    },
    {
     "name": "stderr",
     "output_type": "stream",
     "text": [
      "\n"
     ]
    }
   ],
   "source": [
    "current_working_directory = os.getcwd()\n",
    "mechanical.download(solve_out_path, target_dir=current_working_directory)\n",
    "solve_out_local_path = os.path.join(current_working_directory, \"solve.out\")\n",
    "write_file_contents_to_console(solve_out_local_path)\n",
    "os.remove(solve_out_local_path)"
   ]
  },
  {
   "cell_type": "markdown",
   "id": "4e453d37",
   "metadata": {},
   "source": [
    "Specify the Mechanical directory path for images and run a script to fetch the directory path.\n",
    "The path where images are stored on the server is printed.\n",
    "Download an image file (`deformation.png`) from the server to the client's current working directory and display it using `matplotlib`."
   ]
  },
  {
   "cell_type": "code",
   "execution_count": 16,
   "id": "1ee9dcc3",
   "metadata": {
    "execution": {
     "iopub.execute_input": "2025-01-08T18:16:56.434854Z",
     "iopub.status.busy": "2025-01-08T18:16:56.434854Z",
     "iopub.status.idle": "2025-01-08T18:16:57.332061Z",
     "shell.execute_reply": "2025-01-08T18:16:57.332061Z"
    }
   },
   "outputs": [],
   "source": [
    "from matplotlib import image as mpimg\n",
    "from matplotlib import pyplot as plt"
   ]
  },
  {
   "cell_type": "code",
   "execution_count": 17,
   "id": "5ff9257b",
   "metadata": {
    "execution": {
     "iopub.execute_input": "2025-01-08T18:16:57.335577Z",
     "iopub.status.busy": "2025-01-08T18:16:57.335577Z",
     "iopub.status.idle": "2025-01-08T18:16:57.350159Z",
     "shell.execute_reply": "2025-01-08T18:16:57.350159Z"
    },
    "lines_to_next_cell": 1
   },
   "outputs": [
    {
     "name": "stdout",
     "output_type": "stream",
     "text": [
      "Images are stored on the server at: C:\\Users\\ansys\\AppData\\Local\\Temp\\WB_ansys_19576_2\\wbnew_files\\dp0\\SYS-6\\MECH\\\n"
     ]
    }
   ],
   "source": [
    "mechanical.run_python_script(f\"image_dir=ExtAPI.DataModel.AnalysisList[5].WorkingDir\")\n",
    "result_image_dir_server = mechanical.run_python_script(f\"image_dir\")\n",
    "print(f\"Images are stored on the server at: {result_image_dir_server}\")"
   ]
  },
  {
   "cell_type": "code",
   "execution_count": 18,
   "id": "b6bef348",
   "metadata": {
    "execution": {
     "iopub.execute_input": "2025-01-08T18:16:57.351670Z",
     "iopub.status.busy": "2025-01-08T18:16:57.351670Z",
     "iopub.status.idle": "2025-01-08T18:16:57.359632Z",
     "shell.execute_reply": "2025-01-08T18:16:57.359632Z"
    },
    "lines_to_next_cell": 1
   },
   "outputs": [],
   "source": [
    "def get_image_path(image_name):\n",
    "    return os.path.join(result_image_dir_server, image_name)"
   ]
  },
  {
   "cell_type": "code",
   "execution_count": 19,
   "id": "021e2c03",
   "metadata": {
    "execution": {
     "iopub.execute_input": "2025-01-08T18:16:57.359632Z",
     "iopub.status.busy": "2025-01-08T18:16:57.359632Z",
     "iopub.status.idle": "2025-01-08T18:16:57.367747Z",
     "shell.execute_reply": "2025-01-08T18:16:57.367747Z"
    },
    "lines_to_next_cell": 1
   },
   "outputs": [],
   "source": [
    "def display_image(path):\n",
    "    print(f\"Printing {path} using matplotlib\")\n",
    "    image1 = mpimg.imread(path)\n",
    "    plt.figure(figsize=(15, 15))\n",
    "    plt.axis(\"off\")\n",
    "    plt.imshow(image1)\n",
    "    plt.show()"
   ]
  },
  {
   "cell_type": "code",
   "execution_count": 20,
   "id": "b1f08526",
   "metadata": {
    "execution": {
     "iopub.execute_input": "2025-01-08T18:16:57.367747Z",
     "iopub.status.busy": "2025-01-08T18:16:57.367747Z",
     "iopub.status.idle": "2025-01-08T18:16:57.377860Z",
     "shell.execute_reply": "2025-01-08T18:16:57.377860Z"
    }
   },
   "outputs": [],
   "source": [
    "image_name = \"deformation.png\"\n",
    "image_path_server = get_image_path(image_name)"
   ]
  },
  {
   "cell_type": "code",
   "execution_count": 21,
   "id": "9a057ed3",
   "metadata": {
    "execution": {
     "iopub.execute_input": "2025-01-08T18:16:57.377860Z",
     "iopub.status.busy": "2025-01-08T18:16:57.377860Z",
     "iopub.status.idle": "2025-01-08T18:16:57.713599Z",
     "shell.execute_reply": "2025-01-08T18:16:57.713599Z"
    }
   },
   "outputs": [
    {
     "name": "stderr",
     "output_type": "stream",
     "text": [
      "\r",
      "Downloading dns:///127.0.0.1:57020:C:\\Users\\ansys\\AppData\\Local\\Temp\\WB_ansys_19576_2\\wbnew_files\\dp0\\SYS-6\\MECH\\deformation.png to C:\\Users\\ansys\\actions-runner\\_work\\pyworkbench-examples\\pyworkbench-examples\\pyworkbench-examples\\doc\\source\\examples\\cyclic-symmetry-analysis\\deformation.png:   0%|          | 0.00/11.6k [00:00<?, ?B/s]"
     ]
    },
    {
     "name": "stderr",
     "output_type": "stream",
     "text": [
      "\r",
      "Downloading dns:///127.0.0.1:57020:C:\\Users\\ansys\\AppData\\Local\\Temp\\WB_ansys_19576_2\\wbnew_files\\dp0\\SYS-6\\MECH\\deformation.png to C:\\Users\\ansys\\actions-runner\\_work\\pyworkbench-examples\\pyworkbench-examples\\pyworkbench-examples\\doc\\source\\examples\\cyclic-symmetry-analysis\\deformation.png: 100%|██████████| 11.6k/11.6k [00:00<?, ?B/s]"
     ]
    },
    {
     "name": "stdout",
     "output_type": "stream",
     "text": [
      "Local image path : C:\\Users\\ansys\\actions-runner\\_work\\pyworkbench-examples\\pyworkbench-examples\\pyworkbench-examples\\doc\\source\\examples\\cyclic-symmetry-analysis\\deformation.png\n",
      "Printing C:\\Users\\ansys\\actions-runner\\_work\\pyworkbench-examples\\pyworkbench-examples\\pyworkbench-examples\\doc\\source\\examples\\cyclic-symmetry-analysis\\deformation.png using matplotlib\n"
     ]
    },
    {
     "name": "stderr",
     "output_type": "stream",
     "text": [
      "\n"
     ]
    },
    {
     "data": {
      "image/png": "[encoded data removed]",
      "text/plain": [
       "<Figure size 1500x1500 with 1 Axes>"
      ]
     },
     "metadata": {},
     "output_type": "display_data"
    }
   ],
   "source": [
    "if image_path_server != \"\":\n",
    "    current_working_directory = os.getcwd()\n",
    "\n",
    "    local_file_path_list = mechanical.download(\n",
    "        image_path_server, target_dir=current_working_directory\n",
    "    )\n",
    "    image_local_path = local_file_path_list[0]\n",
    "    print(f\"Local image path : {image_local_path}\")\n",
    "\n",
    "    display_image(image_local_path)"
   ]
  },
  {
   "cell_type": "markdown",
   "id": "eec602b3",
   "metadata": {},
   "source": [
    "Download all the files from the server to the current working directory.\n",
    "Verify the source path for the directory and copy all files from the server to the client."
   ]
  },
  {
   "cell_type": "code",
   "execution_count": 22,
   "id": "6eb92ad3",
   "metadata": {
    "execution": {
     "iopub.execute_input": "2025-01-08T18:16:57.713599Z",
     "iopub.status.busy": "2025-01-08T18:16:57.713599Z",
     "iopub.status.idle": "2025-01-08T18:16:57.731720Z",
     "shell.execute_reply": "2025-01-08T18:16:57.731720Z"
    }
   },
   "outputs": [
    {
     "name": "stdout",
     "output_type": "stream",
     "text": [
      "All solver files are stored on the server at: C:\\Users\\ansys\\AppData\\Local\\Temp\\WB_ansys_19576_2\\wbnew_files\\dp0\\SYS-6\\MECH\\\n"
     ]
    }
   ],
   "source": [
    "mechanical.run_python_script(f\"solve_dir=ExtAPI.DataModel.AnalysisList[5].WorkingDir\")\n",
    "result_solve_dir_server = mechanical.run_python_script(f\"solve_dir\")\n",
    "print(f\"All solver files are stored on the server at: {result_solve_dir_server}\")"
   ]
  },
  {
   "cell_type": "code",
   "execution_count": 23,
   "id": "c9a8b972",
   "metadata": {
    "execution": {
     "iopub.execute_input": "2025-01-08T18:16:57.731720Z",
     "iopub.status.busy": "2025-01-08T18:16:57.731720Z",
     "iopub.status.idle": "2025-01-08T18:16:57.739437Z",
     "shell.execute_reply": "2025-01-08T18:16:57.739437Z"
    }
   },
   "outputs": [],
   "source": [
    "solve_out_path = os.path.join(result_solve_dir_server, \"*.*\")"
   ]
  },
  {
   "cell_type": "code",
   "execution_count": 24,
   "id": "6a807e87",
   "metadata": {
    "execution": {
     "iopub.execute_input": "2025-01-08T18:16:57.739437Z",
     "iopub.status.busy": "2025-01-08T18:16:57.739437Z",
     "iopub.status.idle": "2025-01-08T18:17:04.586920Z",
     "shell.execute_reply": "2025-01-08T18:17:04.586920Z"
    }
   },
   "outputs": [
    {
     "name": "stderr",
     "output_type": "stream",
     "text": [
      "\r",
      "Downloading dns:///127.0.0.1:57020:C:\\Users\\ansys\\AppData\\Local\\Temp\\WB_ansys_19576_2\\wbnew_files\\dp0\\SYS-6\\MECH\\CAERep.xml to C:\\Users\\ansys\\actions-runner\\_work\\pyworkbench-examples\\pyworkbench-examples\\pyworkbench-examples\\doc\\source\\examples\\cyclic-symmetry-analysis\\CAERep.xml:   0%|          | 0.00/171k [00:00<?, ?B/s]"
     ]
    },
    {
     "name": "stderr",
     "output_type": "stream",
     "text": [
      "\r",
      "Downloading dns:///127.0.0.1:57020:C:\\Users\\ansys\\AppData\\Local\\Temp\\WB_ansys_19576_2\\wbnew_files\\dp0\\SYS-6\\MECH\\CAERep.xml to C:\\Users\\ansys\\actions-runner\\_work\\pyworkbench-examples\\pyworkbench-examples\\pyworkbench-examples\\doc\\source\\examples\\cyclic-symmetry-analysis\\CAERep.xml: 100%|██████████| 171k/171k [00:00<?, ?B/s]"
     ]
    },
    {
     "name": "stderr",
     "output_type": "stream",
     "text": [
      "\n"
     ]
    },
    {
     "name": "stderr",
     "output_type": "stream",
     "text": [
      "\r",
      "Downloading dns:///127.0.0.1:57020:C:\\Users\\ansys\\AppData\\Local\\Temp\\WB_ansys_19576_2\\wbnew_files\\dp0\\SYS-6\\MECH\\CAERepOutput.xml to C:\\Users\\ansys\\actions-runner\\_work\\pyworkbench-examples\\pyworkbench-examples\\pyworkbench-examples\\doc\\source\\examples\\cyclic-symmetry-analysis\\CAERepOutput.xml:   0%|          | 0.00/789 [00:00<?, ?B/s]"
     ]
    },
    {
     "name": "stderr",
     "output_type": "stream",
     "text": [
      "\r",
      "Downloading dns:///127.0.0.1:57020:C:\\Users\\ansys\\AppData\\Local\\Temp\\WB_ansys_19576_2\\wbnew_files\\dp0\\SYS-6\\MECH\\CAERepOutput.xml to C:\\Users\\ansys\\actions-runner\\_work\\pyworkbench-examples\\pyworkbench-examples\\pyworkbench-examples\\doc\\source\\examples\\cyclic-symmetry-analysis\\CAERepOutput.xml: 100%|██████████| 789/789 [00:00<?, ?B/s] "
     ]
    },
    {
     "name": "stderr",
     "output_type": "stream",
     "text": [
      "\n"
     ]
    },
    {
     "name": "stderr",
     "output_type": "stream",
     "text": [
      "\r",
      "Downloading dns:///127.0.0.1:57020:C:\\Users\\ansys\\AppData\\Local\\Temp\\WB_ansys_19576_2\\wbnew_files\\dp0\\SYS-6\\MECH\\cyclic_map.json to C:\\Users\\ansys\\actions-runner\\_work\\pyworkbench-examples\\pyworkbench-examples\\pyworkbench-examples\\doc\\source\\examples\\cyclic-symmetry-analysis\\cyclic_map.json:   0%|          | 0.00/109k [00:00<?, ?B/s]"
     ]
    },
    {
     "name": "stderr",
     "output_type": "stream",
     "text": [
      "\r",
      "Downloading dns:///127.0.0.1:57020:C:\\Users\\ansys\\AppData\\Local\\Temp\\WB_ansys_19576_2\\wbnew_files\\dp0\\SYS-6\\MECH\\cyclic_map.json to C:\\Users\\ansys\\actions-runner\\_work\\pyworkbench-examples\\pyworkbench-examples\\pyworkbench-examples\\doc\\source\\examples\\cyclic-symmetry-analysis\\cyclic_map.json: 100%|██████████| 109k/109k [00:00<?, ?B/s]"
     ]
    },
    {
     "name": "stderr",
     "output_type": "stream",
     "text": [
      "\n"
     ]
    },
    {
     "name": "stderr",
     "output_type": "stream",
     "text": [
      "\r",
      "Downloading dns:///127.0.0.1:57020:C:\\Users\\ansys\\AppData\\Local\\Temp\\WB_ansys_19576_2\\wbnew_files\\dp0\\SYS-6\\MECH\\deformation.png to C:\\Users\\ansys\\actions-runner\\_work\\pyworkbench-examples\\pyworkbench-examples\\pyworkbench-examples\\doc\\source\\examples\\cyclic-symmetry-analysis\\deformation.png:   0%|          | 0.00/11.6k [00:00<?, ?B/s]"
     ]
    },
    {
     "name": "stderr",
     "output_type": "stream",
     "text": [
      "\r",
      "Downloading dns:///127.0.0.1:57020:C:\\Users\\ansys\\AppData\\Local\\Temp\\WB_ansys_19576_2\\wbnew_files\\dp0\\SYS-6\\MECH\\deformation.png to C:\\Users\\ansys\\actions-runner\\_work\\pyworkbench-examples\\pyworkbench-examples\\pyworkbench-examples\\doc\\source\\examples\\cyclic-symmetry-analysis\\deformation.png: 100%|██████████| 11.6k/11.6k [00:00<?, ?B/s]"
     ]
    },
    {
     "name": "stderr",
     "output_type": "stream",
     "text": [
      "\n"
     ]
    },
    {
     "name": "stderr",
     "output_type": "stream",
     "text": [
      "\r",
      "Downloading dns:///127.0.0.1:57020:C:\\Users\\ansys\\AppData\\Local\\Temp\\WB_ansys_19576_2\\wbnew_files\\dp0\\SYS-6\\MECH\\ds.dat to C:\\Users\\ansys\\actions-runner\\_work\\pyworkbench-examples\\pyworkbench-examples\\pyworkbench-examples\\doc\\source\\examples\\cyclic-symmetry-analysis\\ds.dat:   0%|          | 0.00/7.50M [00:00<?, ?B/s]"
     ]
    },
    {
     "name": "stderr",
     "output_type": "stream",
     "text": [
      "\r",
      "Downloading dns:///127.0.0.1:57020:C:\\Users\\ansys\\AppData\\Local\\Temp\\WB_ansys_19576_2\\wbnew_files\\dp0\\SYS-6\\MECH\\ds.dat to C:\\Users\\ansys\\actions-runner\\_work\\pyworkbench-examples\\pyworkbench-examples\\pyworkbench-examples\\doc\\source\\examples\\cyclic-symmetry-analysis\\ds.dat: 100%|██████████| 7.50M/7.50M [00:00<00:00, 503MB/s]"
     ]
    },
    {
     "name": "stderr",
     "output_type": "stream",
     "text": [
      "\n"
     ]
    },
    {
     "name": "stderr",
     "output_type": "stream",
     "text": [
      "\r",
      "Downloading dns:///127.0.0.1:57020:C:\\Users\\ansys\\AppData\\Local\\Temp\\WB_ansys_19576_2\\wbnew_files\\dp0\\SYS-6\\MECH\\file.aapresults to C:\\Users\\ansys\\actions-runner\\_work\\pyworkbench-examples\\pyworkbench-examples\\pyworkbench-examples\\doc\\source\\examples\\cyclic-symmetry-analysis\\file.aapresults:   0%|          | 0.00/1.07k [00:00<?, ?B/s]"
     ]
    },
    {
     "name": "stderr",
     "output_type": "stream",
     "text": [
      "\r",
      "Downloading dns:///127.0.0.1:57020:C:\\Users\\ansys\\AppData\\Local\\Temp\\WB_ansys_19576_2\\wbnew_files\\dp0\\SYS-6\\MECH\\file.aapresults to C:\\Users\\ansys\\actions-runner\\_work\\pyworkbench-examples\\pyworkbench-examples\\pyworkbench-examples\\doc\\source\\examples\\cyclic-symmetry-analysis\\file.aapresults: 100%|██████████| 1.07k/1.07k [00:00<?, ?B/s]"
     ]
    },
    {
     "name": "stderr",
     "output_type": "stream",
     "text": [
      "\n"
     ]
    },
    {
     "name": "stderr",
     "output_type": "stream",
     "text": [
      "\r",
      "Downloading dns:///127.0.0.1:57020:C:\\Users\\ansys\\AppData\\Local\\Temp\\WB_ansys_19576_2\\wbnew_files\\dp0\\SYS-6\\MECH\\file.rst to C:\\Users\\ansys\\actions-runner\\_work\\pyworkbench-examples\\pyworkbench-examples\\pyworkbench-examples\\doc\\source\\examples\\cyclic-symmetry-analysis\\file.rst:   0%|          | 0.00/751M [00:00<?, ?B/s]"
     ]
    },
    {
     "name": "stderr",
     "output_type": "stream",
     "text": [
      "\r",
      "Downloading dns:///127.0.0.1:57020:C:\\Users\\ansys\\AppData\\Local\\Temp\\WB_ansys_19576_2\\wbnew_files\\dp0\\SYS-6\\MECH\\file.rst to C:\\Users\\ansys\\actions-runner\\_work\\pyworkbench-examples\\pyworkbench-examples\\pyworkbench-examples\\doc\\source\\examples\\cyclic-symmetry-analysis\\file.rst:   1%|          | 4.25M/751M [00:00<00:19, 40.7MB/s]"
     ]
    },
    {
     "name": "stderr",
     "output_type": "stream",
     "text": [
      "\r",
      "Downloading dns:///127.0.0.1:57020:C:\\Users\\ansys\\AppData\\Local\\Temp\\WB_ansys_19576_2\\wbnew_files\\dp0\\SYS-6\\MECH\\file.rst to C:\\Users\\ansys\\actions-runner\\_work\\pyworkbench-examples\\pyworkbench-examples\\pyworkbench-examples\\doc\\source\\examples\\cyclic-symmetry-analysis\\file.rst:   2%|▏         | 17.5M/751M [00:00<00:09, 84.4MB/s]"
     ]
    },
    {
     "name": "stderr",
     "output_type": "stream",
     "text": [
      "\r",
      "Downloading dns:///127.0.0.1:57020:C:\\Users\\ansys\\AppData\\Local\\Temp\\WB_ansys_19576_2\\wbnew_files\\dp0\\SYS-6\\MECH\\file.rst to C:\\Users\\ansys\\actions-runner\\_work\\pyworkbench-examples\\pyworkbench-examples\\pyworkbench-examples\\doc\\source\\examples\\cyclic-symmetry-analysis\\file.rst:   4%|▍         | 33.8M/751M [00:00<00:07, 103MB/s] "
     ]
    },
    {
     "name": "stderr",
     "output_type": "stream",
     "text": [
      "\r",
      "Downloading dns:///127.0.0.1:57020:C:\\Users\\ansys\\AppData\\Local\\Temp\\WB_ansys_19576_2\\wbnew_files\\dp0\\SYS-6\\MECH\\file.rst to C:\\Users\\ansys\\actions-runner\\_work\\pyworkbench-examples\\pyworkbench-examples\\pyworkbench-examples\\doc\\source\\examples\\cyclic-symmetry-analysis\\file.rst:   7%|▋         | 50.0M/751M [00:00<00:06, 110MB/s]"
     ]
    },
    {
     "name": "stderr",
     "output_type": "stream",
     "text": [
      "\r",
      "Downloading dns:///127.0.0.1:57020:C:\\Users\\ansys\\AppData\\Local\\Temp\\WB_ansys_19576_2\\wbnew_files\\dp0\\SYS-6\\MECH\\file.rst to C:\\Users\\ansys\\actions-runner\\_work\\pyworkbench-examples\\pyworkbench-examples\\pyworkbench-examples\\doc\\source\\examples\\cyclic-symmetry-analysis\\file.rst:   9%|▉         | 66.2M/751M [00:00<00:06, 110MB/s]"
     ]
    },
    {
     "name": "stderr",
     "output_type": "stream",
     "text": [
      "\r",
      "Downloading dns:///127.0.0.1:57020:C:\\Users\\ansys\\AppData\\Local\\Temp\\WB_ansys_19576_2\\wbnew_files\\dp0\\SYS-6\\MECH\\file.rst to C:\\Users\\ansys\\actions-runner\\_work\\pyworkbench-examples\\pyworkbench-examples\\pyworkbench-examples\\doc\\source\\examples\\cyclic-symmetry-analysis\\file.rst:  11%|█         | 82.5M/751M [00:00<00:06, 114MB/s]"
     ]
    },
    {
     "name": "stderr",
     "output_type": "stream",
     "text": [
      "\r",
      "Downloading dns:///127.0.0.1:57020:C:\\Users\\ansys\\AppData\\Local\\Temp\\WB_ansys_19576_2\\wbnew_files\\dp0\\SYS-6\\MECH\\file.rst to C:\\Users\\ansys\\actions-runner\\_work\\pyworkbench-examples\\pyworkbench-examples\\pyworkbench-examples\\doc\\source\\examples\\cyclic-symmetry-analysis\\file.rst:  13%|█▎        | 98.8M/751M [00:00<00:06, 112MB/s]"
     ]
    },
    {
     "name": "stderr",
     "output_type": "stream",
     "text": [
      "\r",
      "Downloading dns:///127.0.0.1:57020:C:\\Users\\ansys\\AppData\\Local\\Temp\\WB_ansys_19576_2\\wbnew_files\\dp0\\SYS-6\\MECH\\file.rst to C:\\Users\\ansys\\actions-runner\\_work\\pyworkbench-examples\\pyworkbench-examples\\pyworkbench-examples\\doc\\source\\examples\\cyclic-symmetry-analysis\\file.rst:  15%|█▌        | 115M/751M [00:01<00:05, 115MB/s] "
     ]
    },
    {
     "name": "stderr",
     "output_type": "stream",
     "text": [
      "\r",
      "Downloading dns:///127.0.0.1:57020:C:\\Users\\ansys\\AppData\\Local\\Temp\\WB_ansys_19576_2\\wbnew_files\\dp0\\SYS-6\\MECH\\file.rst to C:\\Users\\ansys\\actions-runner\\_work\\pyworkbench-examples\\pyworkbench-examples\\pyworkbench-examples\\doc\\source\\examples\\cyclic-symmetry-analysis\\file.rst:  17%|█▋        | 131M/751M [00:01<00:05, 117MB/s]"
     ]
    },
    {
     "name": "stderr",
     "output_type": "stream",
     "text": [
      "\r",
      "Downloading dns:///127.0.0.1:57020:C:\\Users\\ansys\\AppData\\Local\\Temp\\WB_ansys_19576_2\\wbnew_files\\dp0\\SYS-6\\MECH\\file.rst to C:\\Users\\ansys\\actions-runner\\_work\\pyworkbench-examples\\pyworkbench-examples\\pyworkbench-examples\\doc\\source\\examples\\cyclic-symmetry-analysis\\file.rst:  20%|█▉        | 148M/751M [00:01<00:05, 118MB/s]"
     ]
    },
    {
     "name": "stderr",
     "output_type": "stream",
     "text": [
      "\r",
      "Downloading dns:///127.0.0.1:57020:C:\\Users\\ansys\\AppData\\Local\\Temp\\WB_ansys_19576_2\\wbnew_files\\dp0\\SYS-6\\MECH\\file.rst to C:\\Users\\ansys\\actions-runner\\_work\\pyworkbench-examples\\pyworkbench-examples\\pyworkbench-examples\\doc\\source\\examples\\cyclic-symmetry-analysis\\file.rst:  22%|██▏       | 164M/751M [00:01<00:05, 112MB/s]"
     ]
    },
    {
     "name": "stderr",
     "output_type": "stream",
     "text": [
      "\r",
      "Downloading dns:///127.0.0.1:57020:C:\\Users\\ansys\\AppData\\Local\\Temp\\WB_ansys_19576_2\\wbnew_files\\dp0\\SYS-6\\MECH\\file.rst to C:\\Users\\ansys\\actions-runner\\_work\\pyworkbench-examples\\pyworkbench-examples\\pyworkbench-examples\\doc\\source\\examples\\cyclic-symmetry-analysis\\file.rst:  24%|██▍       | 180M/751M [00:01<00:05, 114MB/s]"
     ]
    },
    {
     "name": "stderr",
     "output_type": "stream",
     "text": [
      "\r",
      "Downloading dns:///127.0.0.1:57020:C:\\Users\\ansys\\AppData\\Local\\Temp\\WB_ansys_19576_2\\wbnew_files\\dp0\\SYS-6\\MECH\\file.rst to C:\\Users\\ansys\\actions-runner\\_work\\pyworkbench-examples\\pyworkbench-examples\\pyworkbench-examples\\doc\\source\\examples\\cyclic-symmetry-analysis\\file.rst:  26%|██▌       | 196M/751M [00:01<00:05, 116MB/s]"
     ]
    },
    {
     "name": "stderr",
     "output_type": "stream",
     "text": [
      "\r",
      "Downloading dns:///127.0.0.1:57020:C:\\Users\\ansys\\AppData\\Local\\Temp\\WB_ansys_19576_2\\wbnew_files\\dp0\\SYS-6\\MECH\\file.rst to C:\\Users\\ansys\\actions-runner\\_work\\pyworkbench-examples\\pyworkbench-examples\\pyworkbench-examples\\doc\\source\\examples\\cyclic-symmetry-analysis\\file.rst:  28%|██▊       | 212M/751M [00:02<00:05, 107MB/s]"
     ]
    },
    {
     "name": "stderr",
     "output_type": "stream",
     "text": [
      "\r",
      "Downloading dns:///127.0.0.1:57020:C:\\Users\\ansys\\AppData\\Local\\Temp\\WB_ansys_19576_2\\wbnew_files\\dp0\\SYS-6\\MECH\\file.rst to C:\\Users\\ansys\\actions-runner\\_work\\pyworkbench-examples\\pyworkbench-examples\\pyworkbench-examples\\doc\\source\\examples\\cyclic-symmetry-analysis\\file.rst:  30%|███       | 229M/751M [00:02<00:04, 111MB/s]"
     ]
    },
    {
     "name": "stderr",
     "output_type": "stream",
     "text": [
      "\r",
      "Downloading dns:///127.0.0.1:57020:C:\\Users\\ansys\\AppData\\Local\\Temp\\WB_ansys_19576_2\\wbnew_files\\dp0\\SYS-6\\MECH\\file.rst to C:\\Users\\ansys\\actions-runner\\_work\\pyworkbench-examples\\pyworkbench-examples\\pyworkbench-examples\\doc\\source\\examples\\cyclic-symmetry-analysis\\file.rst:  33%|███▎      | 245M/751M [00:02<00:04, 114MB/s]"
     ]
    },
    {
     "name": "stderr",
     "output_type": "stream",
     "text": [
      "\r",
      "Downloading dns:///127.0.0.1:57020:C:\\Users\\ansys\\AppData\\Local\\Temp\\WB_ansys_19576_2\\wbnew_files\\dp0\\SYS-6\\MECH\\file.rst to C:\\Users\\ansys\\actions-runner\\_work\\pyworkbench-examples\\pyworkbench-examples\\pyworkbench-examples\\doc\\source\\examples\\cyclic-symmetry-analysis\\file.rst:  35%|███▍      | 261M/751M [00:02<00:04, 116MB/s]"
     ]
    },
    {
     "name": "stderr",
     "output_type": "stream",
     "text": [
      "\r",
      "Downloading dns:///127.0.0.1:57020:C:\\Users\\ansys\\AppData\\Local\\Temp\\WB_ansys_19576_2\\wbnew_files\\dp0\\SYS-6\\MECH\\file.rst to C:\\Users\\ansys\\actions-runner\\_work\\pyworkbench-examples\\pyworkbench-examples\\pyworkbench-examples\\doc\\source\\examples\\cyclic-symmetry-analysis\\file.rst:  37%|███▋      | 278M/751M [00:02<00:04, 117MB/s]"
     ]
    },
    {
     "name": "stderr",
     "output_type": "stream",
     "text": [
      "\r",
      "Downloading dns:///127.0.0.1:57020:C:\\Users\\ansys\\AppData\\Local\\Temp\\WB_ansys_19576_2\\wbnew_files\\dp0\\SYS-6\\MECH\\file.rst to C:\\Users\\ansys\\actions-runner\\_work\\pyworkbench-examples\\pyworkbench-examples\\pyworkbench-examples\\doc\\source\\examples\\cyclic-symmetry-analysis\\file.rst:  39%|███▉      | 294M/751M [00:02<00:04, 118MB/s]"
     ]
    },
    {
     "name": "stderr",
     "output_type": "stream",
     "text": [
      "\r",
      "Downloading dns:///127.0.0.1:57020:C:\\Users\\ansys\\AppData\\Local\\Temp\\WB_ansys_19576_2\\wbnew_files\\dp0\\SYS-6\\MECH\\file.rst to C:\\Users\\ansys\\actions-runner\\_work\\pyworkbench-examples\\pyworkbench-examples\\pyworkbench-examples\\doc\\source\\examples\\cyclic-symmetry-analysis\\file.rst:  41%|████▏     | 310M/751M [00:02<00:03, 119MB/s]"
     ]
    },
    {
     "name": "stderr",
     "output_type": "stream",
     "text": [
      "\r",
      "Downloading dns:///127.0.0.1:57020:C:\\Users\\ansys\\AppData\\Local\\Temp\\WB_ansys_19576_2\\wbnew_files\\dp0\\SYS-6\\MECH\\file.rst to C:\\Users\\ansys\\actions-runner\\_work\\pyworkbench-examples\\pyworkbench-examples\\pyworkbench-examples\\doc\\source\\examples\\cyclic-symmetry-analysis\\file.rst:  43%|████▎     | 326M/751M [00:03<00:03, 120MB/s]"
     ]
    },
    {
     "name": "stderr",
     "output_type": "stream",
     "text": [
      "\r",
      "Downloading dns:///127.0.0.1:57020:C:\\Users\\ansys\\AppData\\Local\\Temp\\WB_ansys_19576_2\\wbnew_files\\dp0\\SYS-6\\MECH\\file.rst to C:\\Users\\ansys\\actions-runner\\_work\\pyworkbench-examples\\pyworkbench-examples\\pyworkbench-examples\\doc\\source\\examples\\cyclic-symmetry-analysis\\file.rst:  46%|████▌     | 342M/751M [00:03<00:03, 120MB/s]"
     ]
    },
    {
     "name": "stderr",
     "output_type": "stream",
     "text": [
      "\r",
      "Downloading dns:///127.0.0.1:57020:C:\\Users\\ansys\\AppData\\Local\\Temp\\WB_ansys_19576_2\\wbnew_files\\dp0\\SYS-6\\MECH\\file.rst to C:\\Users\\ansys\\actions-runner\\_work\\pyworkbench-examples\\pyworkbench-examples\\pyworkbench-examples\\doc\\source\\examples\\cyclic-symmetry-analysis\\file.rst:  48%|████▊     | 359M/751M [00:03<00:03, 121MB/s]"
     ]
    },
    {
     "name": "stderr",
     "output_type": "stream",
     "text": [
      "\r",
      "Downloading dns:///127.0.0.1:57020:C:\\Users\\ansys\\AppData\\Local\\Temp\\WB_ansys_19576_2\\wbnew_files\\dp0\\SYS-6\\MECH\\file.rst to C:\\Users\\ansys\\actions-runner\\_work\\pyworkbench-examples\\pyworkbench-examples\\pyworkbench-examples\\doc\\source\\examples\\cyclic-symmetry-analysis\\file.rst:  50%|████▉     | 375M/751M [00:03<00:03, 121MB/s]"
     ]
    },
    {
     "name": "stderr",
     "output_type": "stream",
     "text": [
      "\r",
      "Downloading dns:///127.0.0.1:57020:C:\\Users\\ansys\\AppData\\Local\\Temp\\WB_ansys_19576_2\\wbnew_files\\dp0\\SYS-6\\MECH\\file.rst to C:\\Users\\ansys\\actions-runner\\_work\\pyworkbench-examples\\pyworkbench-examples\\pyworkbench-examples\\doc\\source\\examples\\cyclic-symmetry-analysis\\file.rst:  52%|█████▏    | 391M/751M [00:03<00:03, 117MB/s]"
     ]
    },
    {
     "name": "stderr",
     "output_type": "stream",
     "text": [
      "\r",
      "Downloading dns:///127.0.0.1:57020:C:\\Users\\ansys\\AppData\\Local\\Temp\\WB_ansys_19576_2\\wbnew_files\\dp0\\SYS-6\\MECH\\file.rst to C:\\Users\\ansys\\actions-runner\\_work\\pyworkbench-examples\\pyworkbench-examples\\pyworkbench-examples\\doc\\source\\examples\\cyclic-symmetry-analysis\\file.rst:  54%|█████▍    | 408M/751M [00:03<00:03, 114MB/s]"
     ]
    },
    {
     "name": "stderr",
     "output_type": "stream",
     "text": [
      "\r",
      "Downloading dns:///127.0.0.1:57020:C:\\Users\\ansys\\AppData\\Local\\Temp\\WB_ansys_19576_2\\wbnew_files\\dp0\\SYS-6\\MECH\\file.rst to C:\\Users\\ansys\\actions-runner\\_work\\pyworkbench-examples\\pyworkbench-examples\\pyworkbench-examples\\doc\\source\\examples\\cyclic-symmetry-analysis\\file.rst:  56%|█████▋    | 424M/751M [00:03<00:02, 116MB/s]"
     ]
    },
    {
     "name": "stderr",
     "output_type": "stream",
     "text": [
      "\r",
      "Downloading dns:///127.0.0.1:57020:C:\\Users\\ansys\\AppData\\Local\\Temp\\WB_ansys_19576_2\\wbnew_files\\dp0\\SYS-6\\MECH\\file.rst to C:\\Users\\ansys\\actions-runner\\_work\\pyworkbench-examples\\pyworkbench-examples\\pyworkbench-examples\\doc\\source\\examples\\cyclic-symmetry-analysis\\file.rst:  59%|█████▊    | 440M/751M [00:04<00:02, 118MB/s]"
     ]
    },
    {
     "name": "stderr",
     "output_type": "stream",
     "text": [
      "\r",
      "Downloading dns:///127.0.0.1:57020:C:\\Users\\ansys\\AppData\\Local\\Temp\\WB_ansys_19576_2\\wbnew_files\\dp0\\SYS-6\\MECH\\file.rst to C:\\Users\\ansys\\actions-runner\\_work\\pyworkbench-examples\\pyworkbench-examples\\pyworkbench-examples\\doc\\source\\examples\\cyclic-symmetry-analysis\\file.rst:  61%|██████    | 456M/751M [00:04<00:02, 118MB/s]"
     ]
    },
    {
     "name": "stderr",
     "output_type": "stream",
     "text": [
      "\r",
      "Downloading dns:///127.0.0.1:57020:C:\\Users\\ansys\\AppData\\Local\\Temp\\WB_ansys_19576_2\\wbnew_files\\dp0\\SYS-6\\MECH\\file.rst to C:\\Users\\ansys\\actions-runner\\_work\\pyworkbench-examples\\pyworkbench-examples\\pyworkbench-examples\\doc\\source\\examples\\cyclic-symmetry-analysis\\file.rst:  63%|██████▎   | 472M/751M [00:04<00:02, 119MB/s]"
     ]
    },
    {
     "name": "stderr",
     "output_type": "stream",
     "text": [
      "\r",
      "Downloading dns:///127.0.0.1:57020:C:\\Users\\ansys\\AppData\\Local\\Temp\\WB_ansys_19576_2\\wbnew_files\\dp0\\SYS-6\\MECH\\file.rst to C:\\Users\\ansys\\actions-runner\\_work\\pyworkbench-examples\\pyworkbench-examples\\pyworkbench-examples\\doc\\source\\examples\\cyclic-symmetry-analysis\\file.rst:  65%|██████▌   | 489M/751M [00:04<00:02, 120MB/s]"
     ]
    },
    {
     "name": "stderr",
     "output_type": "stream",
     "text": [
      "\r",
      "Downloading dns:///127.0.0.1:57020:C:\\Users\\ansys\\AppData\\Local\\Temp\\WB_ansys_19576_2\\wbnew_files\\dp0\\SYS-6\\MECH\\file.rst to C:\\Users\\ansys\\actions-runner\\_work\\pyworkbench-examples\\pyworkbench-examples\\pyworkbench-examples\\doc\\source\\examples\\cyclic-symmetry-analysis\\file.rst:  67%|██████▋   | 505M/751M [00:04<00:02, 120MB/s]"
     ]
    },
    {
     "name": "stderr",
     "output_type": "stream",
     "text": [
      "\r",
      "Downloading dns:///127.0.0.1:57020:C:\\Users\\ansys\\AppData\\Local\\Temp\\WB_ansys_19576_2\\wbnew_files\\dp0\\SYS-6\\MECH\\file.rst to C:\\Users\\ansys\\actions-runner\\_work\\pyworkbench-examples\\pyworkbench-examples\\pyworkbench-examples\\doc\\source\\examples\\cyclic-symmetry-analysis\\file.rst:  69%|██████▉   | 521M/751M [00:04<00:02, 117MB/s]"
     ]
    },
    {
     "name": "stderr",
     "output_type": "stream",
     "text": [
      "\r",
      "Downloading dns:///127.0.0.1:57020:C:\\Users\\ansys\\AppData\\Local\\Temp\\WB_ansys_19576_2\\wbnew_files\\dp0\\SYS-6\\MECH\\file.rst to C:\\Users\\ansys\\actions-runner\\_work\\pyworkbench-examples\\pyworkbench-examples\\pyworkbench-examples\\doc\\source\\examples\\cyclic-symmetry-analysis\\file.rst:  72%|███████▏  | 538M/751M [00:04<00:01, 118MB/s]"
     ]
    },
    {
     "name": "stderr",
     "output_type": "stream",
     "text": [
      "\r",
      "Downloading dns:///127.0.0.1:57020:C:\\Users\\ansys\\AppData\\Local\\Temp\\WB_ansys_19576_2\\wbnew_files\\dp0\\SYS-6\\MECH\\file.rst to C:\\Users\\ansys\\actions-runner\\_work\\pyworkbench-examples\\pyworkbench-examples\\pyworkbench-examples\\doc\\source\\examples\\cyclic-symmetry-analysis\\file.rst:  74%|███████▎  | 554M/751M [00:05<00:01, 119MB/s]"
     ]
    },
    {
     "name": "stderr",
     "output_type": "stream",
     "text": [
      "\r",
      "Downloading dns:///127.0.0.1:57020:C:\\Users\\ansys\\AppData\\Local\\Temp\\WB_ansys_19576_2\\wbnew_files\\dp0\\SYS-6\\MECH\\file.rst to C:\\Users\\ansys\\actions-runner\\_work\\pyworkbench-examples\\pyworkbench-examples\\pyworkbench-examples\\doc\\source\\examples\\cyclic-symmetry-analysis\\file.rst:  76%|███████▌  | 570M/751M [00:05<00:01, 116MB/s]"
     ]
    },
    {
     "name": "stderr",
     "output_type": "stream",
     "text": [
      "\r",
      "Downloading dns:///127.0.0.1:57020:C:\\Users\\ansys\\AppData\\Local\\Temp\\WB_ansys_19576_2\\wbnew_files\\dp0\\SYS-6\\MECH\\file.rst to C:\\Users\\ansys\\actions-runner\\_work\\pyworkbench-examples\\pyworkbench-examples\\pyworkbench-examples\\doc\\source\\examples\\cyclic-symmetry-analysis\\file.rst:  78%|███████▊  | 586M/751M [00:05<00:01, 121MB/s]"
     ]
    },
    {
     "name": "stderr",
     "output_type": "stream",
     "text": [
      "\r",
      "Downloading dns:///127.0.0.1:57020:C:\\Users\\ansys\\AppData\\Local\\Temp\\WB_ansys_19576_2\\wbnew_files\\dp0\\SYS-6\\MECH\\file.rst to C:\\Users\\ansys\\actions-runner\\_work\\pyworkbench-examples\\pyworkbench-examples\\pyworkbench-examples\\doc\\source\\examples\\cyclic-symmetry-analysis\\file.rst:  80%|████████  | 602M/751M [00:05<00:01, 121MB/s]"
     ]
    },
    {
     "name": "stderr",
     "output_type": "stream",
     "text": [
      "\r",
      "Downloading dns:///127.0.0.1:57020:C:\\Users\\ansys\\AppData\\Local\\Temp\\WB_ansys_19576_2\\wbnew_files\\dp0\\SYS-6\\MECH\\file.rst to C:\\Users\\ansys\\actions-runner\\_work\\pyworkbench-examples\\pyworkbench-examples\\pyworkbench-examples\\doc\\source\\examples\\cyclic-symmetry-analysis\\file.rst:  82%|████████▏ | 619M/751M [00:05<00:01, 117MB/s]"
     ]
    },
    {
     "name": "stderr",
     "output_type": "stream",
     "text": [
      "\r",
      "Downloading dns:///127.0.0.1:57020:C:\\Users\\ansys\\AppData\\Local\\Temp\\WB_ansys_19576_2\\wbnew_files\\dp0\\SYS-6\\MECH\\file.rst to C:\\Users\\ansys\\actions-runner\\_work\\pyworkbench-examples\\pyworkbench-examples\\pyworkbench-examples\\doc\\source\\examples\\cyclic-symmetry-analysis\\file.rst:  85%|████████▍ | 635M/751M [00:05<00:01, 118MB/s]"
     ]
    },
    {
     "name": "stderr",
     "output_type": "stream",
     "text": [
      "\r",
      "Downloading dns:///127.0.0.1:57020:C:\\Users\\ansys\\AppData\\Local\\Temp\\WB_ansys_19576_2\\wbnew_files\\dp0\\SYS-6\\MECH\\file.rst to C:\\Users\\ansys\\actions-runner\\_work\\pyworkbench-examples\\pyworkbench-examples\\pyworkbench-examples\\doc\\source\\examples\\cyclic-symmetry-analysis\\file.rst:  87%|████████▋ | 651M/751M [00:05<00:00, 123MB/s]"
     ]
    },
    {
     "name": "stderr",
     "output_type": "stream",
     "text": [
      "\r",
      "Downloading dns:///127.0.0.1:57020:C:\\Users\\ansys\\AppData\\Local\\Temp\\WB_ansys_19576_2\\wbnew_files\\dp0\\SYS-6\\MECH\\file.rst to C:\\Users\\ansys\\actions-runner\\_work\\pyworkbench-examples\\pyworkbench-examples\\pyworkbench-examples\\doc\\source\\examples\\cyclic-symmetry-analysis\\file.rst:  89%|████████▉ | 668M/751M [00:06<00:00, 127MB/s]"
     ]
    },
    {
     "name": "stderr",
     "output_type": "stream",
     "text": [
      "\r",
      "Downloading dns:///127.0.0.1:57020:C:\\Users\\ansys\\AppData\\Local\\Temp\\WB_ansys_19576_2\\wbnew_files\\dp0\\SYS-6\\MECH\\file.rst to C:\\Users\\ansys\\actions-runner\\_work\\pyworkbench-examples\\pyworkbench-examples\\pyworkbench-examples\\doc\\source\\examples\\cyclic-symmetry-analysis\\file.rst:  91%|█████████ | 684M/751M [00:06<00:00, 125MB/s]"
     ]
    },
    {
     "name": "stderr",
     "output_type": "stream",
     "text": [
      "\r",
      "Downloading dns:///127.0.0.1:57020:C:\\Users\\ansys\\AppData\\Local\\Temp\\WB_ansys_19576_2\\wbnew_files\\dp0\\SYS-6\\MECH\\file.rst to C:\\Users\\ansys\\actions-runner\\_work\\pyworkbench-examples\\pyworkbench-examples\\pyworkbench-examples\\doc\\source\\examples\\cyclic-symmetry-analysis\\file.rst:  93%|█████████▎| 700M/751M [00:06<00:00, 120MB/s]"
     ]
    },
    {
     "name": "stderr",
     "output_type": "stream",
     "text": [
      "\r",
      "Downloading dns:///127.0.0.1:57020:C:\\Users\\ansys\\AppData\\Local\\Temp\\WB_ansys_19576_2\\wbnew_files\\dp0\\SYS-6\\MECH\\file.rst to C:\\Users\\ansys\\actions-runner\\_work\\pyworkbench-examples\\pyworkbench-examples\\pyworkbench-examples\\doc\\source\\examples\\cyclic-symmetry-analysis\\file.rst:  95%|█████████▌| 716M/751M [00:06<00:00, 120MB/s]"
     ]
    },
    {
     "name": "stderr",
     "output_type": "stream",
     "text": [
      "\r",
      "Downloading dns:///127.0.0.1:57020:C:\\Users\\ansys\\AppData\\Local\\Temp\\WB_ansys_19576_2\\wbnew_files\\dp0\\SYS-6\\MECH\\file.rst to C:\\Users\\ansys\\actions-runner\\_work\\pyworkbench-examples\\pyworkbench-examples\\pyworkbench-examples\\doc\\source\\examples\\cyclic-symmetry-analysis\\file.rst:  97%|█████████▋| 732M/751M [00:06<00:00, 120MB/s]"
     ]
    },
    {
     "name": "stderr",
     "output_type": "stream",
     "text": [
      "\r",
      "Downloading dns:///127.0.0.1:57020:C:\\Users\\ansys\\AppData\\Local\\Temp\\WB_ansys_19576_2\\wbnew_files\\dp0\\SYS-6\\MECH\\file.rst to C:\\Users\\ansys\\actions-runner\\_work\\pyworkbench-examples\\pyworkbench-examples\\pyworkbench-examples\\doc\\source\\examples\\cyclic-symmetry-analysis\\file.rst: 100%|█████████▉| 749M/751M [00:06<00:00, 121MB/s]"
     ]
    },
    {
     "name": "stderr",
     "output_type": "stream",
     "text": [
      "\r",
      "Downloading dns:///127.0.0.1:57020:C:\\Users\\ansys\\AppData\\Local\\Temp\\WB_ansys_19576_2\\wbnew_files\\dp0\\SYS-6\\MECH\\file.rst to C:\\Users\\ansys\\actions-runner\\_work\\pyworkbench-examples\\pyworkbench-examples\\pyworkbench-examples\\doc\\source\\examples\\cyclic-symmetry-analysis\\file.rst: 100%|██████████| 751M/751M [00:06<00:00, 117MB/s]"
     ]
    },
    {
     "name": "stderr",
     "output_type": "stream",
     "text": [
      "\n"
     ]
    },
    {
     "name": "stderr",
     "output_type": "stream",
     "text": [
      "\r",
      "Downloading dns:///127.0.0.1:57020:C:\\Users\\ansys\\AppData\\Local\\Temp\\WB_ansys_19576_2\\wbnew_files\\dp0\\SYS-6\\MECH\\file0.err to C:\\Users\\ansys\\actions-runner\\_work\\pyworkbench-examples\\pyworkbench-examples\\pyworkbench-examples\\doc\\source\\examples\\cyclic-symmetry-analysis\\file0.err:   0%|          | 0.00/1.48k [00:00<?, ?B/s]"
     ]
    },
    {
     "name": "stderr",
     "output_type": "stream",
     "text": [
      "\r",
      "Downloading dns:///127.0.0.1:57020:C:\\Users\\ansys\\AppData\\Local\\Temp\\WB_ansys_19576_2\\wbnew_files\\dp0\\SYS-6\\MECH\\file0.err to C:\\Users\\ansys\\actions-runner\\_work\\pyworkbench-examples\\pyworkbench-examples\\pyworkbench-examples\\doc\\source\\examples\\cyclic-symmetry-analysis\\file0.err: 100%|██████████| 1.48k/1.48k [00:00<?, ?B/s]"
     ]
    },
    {
     "name": "stderr",
     "output_type": "stream",
     "text": [
      "\n"
     ]
    },
    {
     "name": "stderr",
     "output_type": "stream",
     "text": [
      "\r",
      "Downloading dns:///127.0.0.1:57020:C:\\Users\\ansys\\AppData\\Local\\Temp\\WB_ansys_19576_2\\wbnew_files\\dp0\\SYS-6\\MECH\\MatML.xml to C:\\Users\\ansys\\actions-runner\\_work\\pyworkbench-examples\\pyworkbench-examples\\pyworkbench-examples\\doc\\source\\examples\\cyclic-symmetry-analysis\\MatML.xml:   0%|          | 0.00/28.4k [00:00<?, ?B/s]"
     ]
    },
    {
     "name": "stderr",
     "output_type": "stream",
     "text": [
      "\r",
      "Downloading dns:///127.0.0.1:57020:C:\\Users\\ansys\\AppData\\Local\\Temp\\WB_ansys_19576_2\\wbnew_files\\dp0\\SYS-6\\MECH\\MatML.xml to C:\\Users\\ansys\\actions-runner\\_work\\pyworkbench-examples\\pyworkbench-examples\\pyworkbench-examples\\doc\\source\\examples\\cyclic-symmetry-analysis\\MatML.xml: 100%|██████████| 28.4k/28.4k [00:00<?, ?B/s]"
     ]
    },
    {
     "name": "stderr",
     "output_type": "stream",
     "text": [
      "\n"
     ]
    },
    {
     "name": "stderr",
     "output_type": "stream",
     "text": [
      "\r",
      "Downloading dns:///127.0.0.1:57020:C:\\Users\\ansys\\AppData\\Local\\Temp\\WB_ansys_19576_2\\wbnew_files\\dp0\\SYS-6\\MECH\\solve.out to C:\\Users\\ansys\\actions-runner\\_work\\pyworkbench-examples\\pyworkbench-examples\\pyworkbench-examples\\doc\\source\\examples\\cyclic-symmetry-analysis\\solve.out:   0%|          | 0.00/50.3k [00:00<?, ?B/s]"
     ]
    },
    {
     "name": "stderr",
     "output_type": "stream",
     "text": [
      "\r",
      "Downloading dns:///127.0.0.1:57020:C:\\Users\\ansys\\AppData\\Local\\Temp\\WB_ansys_19576_2\\wbnew_files\\dp0\\SYS-6\\MECH\\solve.out to C:\\Users\\ansys\\actions-runner\\_work\\pyworkbench-examples\\pyworkbench-examples\\pyworkbench-examples\\doc\\source\\examples\\cyclic-symmetry-analysis\\solve.out: 100%|██████████| 50.3k/50.3k [00:00<?, ?B/s]"
     ]
    },
    {
     "name": "stderr",
     "output_type": "stream",
     "text": [
      "\n"
     ]
    },
    {
     "data": {
      "text/plain": [
       "['C:\\\\Users\\\\ansys\\\\actions-runner\\\\_work\\\\pyworkbench-examples\\\\pyworkbench-examples\\\\pyworkbench-examples\\\\doc\\\\source\\\\examples\\\\cyclic-symmetry-analysis\\\\CAERep.xml',\n",
       " 'C:\\\\Users\\\\ansys\\\\actions-runner\\\\_work\\\\pyworkbench-examples\\\\pyworkbench-examples\\\\pyworkbench-examples\\\\doc\\\\source\\\\examples\\\\cyclic-symmetry-analysis\\\\CAERepOutput.xml',\n",
       " 'C:\\\\Users\\\\ansys\\\\actions-runner\\\\_work\\\\pyworkbench-examples\\\\pyworkbench-examples\\\\pyworkbench-examples\\\\doc\\\\source\\\\examples\\\\cyclic-symmetry-analysis\\\\cyclic_map.json',\n",
       " 'C:\\\\Users\\\\ansys\\\\actions-runner\\\\_work\\\\pyworkbench-examples\\\\pyworkbench-examples\\\\pyworkbench-examples\\\\doc\\\\source\\\\examples\\\\cyclic-symmetry-analysis\\\\deformation.png',\n",
       " 'C:\\\\Users\\\\ansys\\\\actions-runner\\\\_work\\\\pyworkbench-examples\\\\pyworkbench-examples\\\\pyworkbench-examples\\\\doc\\\\source\\\\examples\\\\cyclic-symmetry-analysis\\\\ds.dat',\n",
       " 'C:\\\\Users\\\\ansys\\\\actions-runner\\\\_work\\\\pyworkbench-examples\\\\pyworkbench-examples\\\\pyworkbench-examples\\\\doc\\\\source\\\\examples\\\\cyclic-symmetry-analysis\\\\file.aapresults',\n",
       " 'C:\\\\Users\\\\ansys\\\\actions-runner\\\\_work\\\\pyworkbench-examples\\\\pyworkbench-examples\\\\pyworkbench-examples\\\\doc\\\\source\\\\examples\\\\cyclic-symmetry-analysis\\\\file.rst',\n",
       " 'C:\\\\Users\\\\ansys\\\\actions-runner\\\\_work\\\\pyworkbench-examples\\\\pyworkbench-examples\\\\pyworkbench-examples\\\\doc\\\\source\\\\examples\\\\cyclic-symmetry-analysis\\\\file0.err',\n",
       " 'C:\\\\Users\\\\ansys\\\\actions-runner\\\\_work\\\\pyworkbench-examples\\\\pyworkbench-examples\\\\pyworkbench-examples\\\\doc\\\\source\\\\examples\\\\cyclic-symmetry-analysis\\\\MatML.xml',\n",
       " 'C:\\\\Users\\\\ansys\\\\actions-runner\\\\_work\\\\pyworkbench-examples\\\\pyworkbench-examples\\\\pyworkbench-examples\\\\doc\\\\source\\\\examples\\\\cyclic-symmetry-analysis\\\\solve.out']"
      ]
     },
     "execution_count": 24,
     "metadata": {},
     "output_type": "execute_result"
    }
   ],
   "source": [
    "current_working_directory = os.getcwd()\n",
    "mechanical.download(solve_out_path, target_dir=current_working_directory)"
   ]
  },
  {
   "cell_type": "markdown",
   "id": "0372f7d4",
   "metadata": {},
   "source": [
    "Finally, the `exit` method is called on both the PyMechanical and Workbench clients to gracefully shut down the services, ensuring that all resources are properly released."
   ]
  },
  {
   "cell_type": "code",
   "execution_count": 25,
   "id": "8592e1fb",
   "metadata": {
    "execution": {
     "iopub.execute_input": "2025-01-08T18:17:04.586920Z",
     "iopub.status.busy": "2025-01-08T18:17:04.586920Z",
     "iopub.status.idle": "2025-01-08T18:17:11.726483Z",
     "shell.execute_reply": "2025-01-08T18:17:11.725474Z"
    }
   },
   "outputs": [],
   "source": [
    "mechanical.exit()\n",
    "wb.exit()"
   ]
  }
 ],
 "metadata": {
  "jupytext": {
   "cell_metadata_filter": "-all",
   "main_language": "python",
   "notebook_metadata_filter": "-all",
   "text_representation": {
    "extension": ".py",
    "format_name": "light"
   }
  },
  "language_info": {
   "codemirror_mode": {
    "name": "ipython",
    "version": 3
   },
   "file_extension": ".py",
   "mimetype": "text/x-python",
   "name": "python",
   "nbconvert_exporter": "python",
   "pygments_lexer": "ipython3",
   "version": "3.11.9"
  }
 },
 "nbformat": 4,
 "nbformat_minor": 5
}
