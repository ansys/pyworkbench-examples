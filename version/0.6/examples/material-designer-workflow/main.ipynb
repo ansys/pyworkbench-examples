{
 "cells": [
  {
   "cell_type": "markdown",
   "id": "aba88a2e",
   "metadata": {},
   "source": [
    "# Material Designer"
   ]
  },
  {
   "cell_type": "markdown",
   "id": "284ad112",
   "metadata": {},
   "source": [
    "This notebook demonstrates the process of sending user-defined parameter values to a parameterized analysis and receive the corresponding simulation output via a Workbench service on a local machine."
   ]
  },
  {
   "cell_type": "code",
   "execution_count": 1,
   "id": "838e732b",
   "metadata": {
    "execution": {
     "iopub.execute_input": "2025-01-08T18:18:55.735150Z",
     "iopub.status.busy": "2025-01-08T18:18:55.735150Z",
     "iopub.status.idle": "2025-01-08T18:18:55.751295Z",
     "shell.execute_reply": "2025-01-08T18:18:55.751295Z"
    }
   },
   "outputs": [],
   "source": [
    "import os\n",
    "import pathlib"
   ]
  },
  {
   "cell_type": "code",
   "execution_count": 2,
   "id": "f6d79129",
   "metadata": {
    "execution": {
     "iopub.execute_input": "2025-01-08T18:18:55.751295Z",
     "iopub.status.busy": "2025-01-08T18:18:55.751295Z",
     "iopub.status.idle": "2025-01-08T18:18:55.923585Z",
     "shell.execute_reply": "2025-01-08T18:18:55.922571Z"
    }
   },
   "outputs": [],
   "source": [
    "from ansys.workbench.core import launch_workbench"
   ]
  },
  {
   "cell_type": "markdown",
   "id": "b599d9d5",
   "metadata": {},
   "source": [
    "Launch the Workbench service on the local machine, using some options.\n",
    "Define several directories that will be used during the session.\n",
    "`workdir` is set to the parent directory of the current file.\n",
    "`assets`, `scripts`, and `wbpz` are subdirectories within the working directory.\n",
    "The `launch_workbench` function is called to start a Workbench session with specified directory."
   ]
  },
  {
   "cell_type": "code",
   "execution_count": 3,
   "id": "16facfd0",
   "metadata": {
    "execution": {
     "iopub.execute_input": "2025-01-08T18:18:55.923585Z",
     "iopub.status.busy": "2025-01-08T18:18:55.923585Z",
     "iopub.status.idle": "2025-01-08T18:18:55.932627Z",
     "shell.execute_reply": "2025-01-08T18:18:55.932627Z"
    }
   },
   "outputs": [],
   "source": [
    "workdir = pathlib.Path(\"__file__\").parent"
   ]
  },
  {
   "cell_type": "code",
   "execution_count": 4,
   "id": "104aff1e",
   "metadata": {
    "execution": {
     "iopub.execute_input": "2025-01-08T18:18:55.932627Z",
     "iopub.status.busy": "2025-01-08T18:18:55.932627Z",
     "iopub.status.idle": "2025-01-08T18:18:55.941269Z",
     "shell.execute_reply": "2025-01-08T18:18:55.941269Z"
    }
   },
   "outputs": [],
   "source": [
    "assets = workdir / \"assets\""
   ]
  },
  {
   "cell_type": "code",
   "execution_count": 5,
   "id": "40eb4227",
   "metadata": {
    "execution": {
     "iopub.execute_input": "2025-01-08T18:18:55.941269Z",
     "iopub.status.busy": "2025-01-08T18:18:55.941269Z",
     "iopub.status.idle": "2025-01-08T18:20:21.848662Z",
     "shell.execute_reply": "2025-01-08T18:20:21.848662Z"
    }
   },
   "outputs": [],
   "source": [
    "wb = launch_workbench(client_workdir=str(workdir.absolute()))"
   ]
  },
  {
   "cell_type": "markdown",
   "id": "0b1205eb",
   "metadata": {},
   "source": [
    "Upload the project files to the server using the `upload_file_from_example_repo` method.\n",
    "The file to upload is `MatDesigner.wbpz`."
   ]
  },
  {
   "cell_type": "code",
   "execution_count": 6,
   "id": "e2989737",
   "metadata": {
    "execution": {
     "iopub.execute_input": "2025-01-08T18:20:21.851673Z",
     "iopub.status.busy": "2025-01-08T18:20:21.851673Z",
     "iopub.status.idle": "2025-01-08T18:20:22.303234Z",
     "shell.execute_reply": "2025-01-08T18:20:22.303234Z"
    }
   },
   "outputs": [
    {
     "name": "stderr",
     "output_type": "stream",
     "text": [
      "\r",
      "Uploading MatDesigner.wbpz:   0%|          | 0.00/261k [00:00<?, ?B/s]"
     ]
    },
    {
     "name": "stderr",
     "output_type": "stream",
     "text": [
      "\r",
      "Uploading MatDesigner.wbpz: 100%|██████████| 261k/261k [00:00<00:00, 17.1MB/s]"
     ]
    },
    {
     "name": "stderr",
     "output_type": "stream",
     "text": [
      "\n"
     ]
    }
   ],
   "source": [
    "wb.upload_file_from_example_repo('material-designer-workflow/wbpz/MatDesigner.wbpz')"
   ]
  },
  {
   "cell_type": "markdown",
   "id": "8333826f",
   "metadata": {},
   "source": [
    "Execute a Workbench script (`project.wbjn`) to define the project and load the geometry using the `run_script_file` method.\n",
    "The `set_log_file` method is used to direct the logs to `wb_log_file.log`."
   ]
  },
  {
   "cell_type": "code",
   "execution_count": 7,
   "id": "9fb56027",
   "metadata": {
    "execution": {
     "iopub.execute_input": "2025-01-08T18:20:22.305248Z",
     "iopub.status.busy": "2025-01-08T18:20:22.305248Z",
     "iopub.status.idle": "2025-01-08T18:21:00.524262Z",
     "shell.execute_reply": "2025-01-08T18:21:00.523247Z"
    }
   },
   "outputs": [],
   "source": [
    "export_path = 'wb_log_file.log'\n",
    "wb.set_log_file(export_path)\n",
    "sys_name = wb.run_script_file(str((assets / \"project.wbjn\").absolute()), log_level='info')"
   ]
  },
  {
   "cell_type": "markdown",
   "id": "4b5ac93f",
   "metadata": {},
   "source": [
    "Prepare the Workbench command template to make modifications to the material property, in this case the Young's modulus of the material"
   ]
  },
  {
   "cell_type": "code",
   "execution_count": 8,
   "id": "9b6c0ef7",
   "metadata": {
    "execution": {
     "iopub.execute_input": "2025-01-08T18:21:00.528261Z",
     "iopub.status.busy": "2025-01-08T18:21:00.527263Z",
     "iopub.status.idle": "2025-01-08T18:21:00.532454Z",
     "shell.execute_reply": "2025-01-08T18:21:00.532454Z"
    }
   },
   "outputs": [],
   "source": [
    "wbjn_template = \"\"\"designPoint1 = Parameters.GetDesignPoint(Name=\"0\")\n",
    "parameter1 = Parameters.GetParameter(Name=\"P1\")\n",
    "designPoint1.SetParameterExpression(\n",
    "    Parameter=parameter1,\n",
    "    Expression=\"{} [Pa]\")\n",
    "backgroundSession1 = UpdateAllDesignPoints(DesignPoints=[designPoint1])\n",
    "\"\"\""
   ]
  },
  {
   "cell_type": "markdown",
   "id": "1631ef9c",
   "metadata": {},
   "source": [
    "Update the project with a new value for the Young's modulus"
   ]
  },
  {
   "cell_type": "code",
   "execution_count": 9,
   "id": "afbd3a94",
   "metadata": {
    "execution": {
     "iopub.execute_input": "2025-01-08T18:21:00.532454Z",
     "iopub.status.busy": "2025-01-08T18:21:00.532454Z",
     "iopub.status.idle": "2025-01-08T18:22:50.842728Z",
     "shell.execute_reply": "2025-01-08T18:22:50.842728Z"
    }
   },
   "outputs": [
    {
     "data": {
      "text/plain": [
       "{}"
      ]
     },
     "execution_count": 9,
     "metadata": {},
     "output_type": "execute_result"
    }
   ],
   "source": [
    "my_command = wbjn_template.format( 1.6e10 )\n",
    "wb.run_script_string( my_command )"
   ]
  },
  {
   "cell_type": "markdown",
   "id": "154cd4c3",
   "metadata": {},
   "source": [
    "Extract output values. First, we prepare the Workbench script to quiry output parameter values"
   ]
  },
  {
   "cell_type": "code",
   "execution_count": 10,
   "id": "55f13af7",
   "metadata": {
    "execution": {
     "iopub.execute_input": "2025-01-08T18:22:50.842728Z",
     "iopub.status.busy": "2025-01-08T18:22:50.842728Z",
     "iopub.status.idle": "2025-01-08T18:22:50.851642Z",
     "shell.execute_reply": "2025-01-08T18:22:50.851642Z"
    }
   },
   "outputs": [],
   "source": [
    "extract_output = '''import json\n",
    "p = Parameters.GetParameter(Name=\"P{}\")\n",
    "my_tag = p.DisplayText\n",
    "wb_script_result =json.dumps( my_tag + ',' + str(p.Value) )\n",
    "'''"
   ]
  },
  {
   "cell_type": "markdown",
   "id": "07ed0e4b",
   "metadata": {},
   "source": [
    "Get updated output values"
   ]
  },
  {
   "cell_type": "code",
   "execution_count": 11,
   "id": "ea3b2a7c",
   "metadata": {
    "execution": {
     "iopub.execute_input": "2025-01-08T18:22:50.851642Z",
     "iopub.status.busy": "2025-01-08T18:22:50.851642Z",
     "iopub.status.idle": "2025-01-08T18:22:51.104697Z",
     "shell.execute_reply": "2025-01-08T18:22:51.103671Z"
    }
   },
   "outputs": [
    {
     "name": "stdout",
     "output_type": "stream",
     "text": [
      "{'E1': 3610882.9131690366, 'E2': 3610879.6096576294, 'E3': 799999806.0920515, 'G12': 898955.9989929767, 'G23': 157509427.7626837, 'G31': 157509427.7626837, 'nu12': 0.9912444183605882, 'nu13': 0.0013540814399848606, 'nu23': 0.0013540802011677141, 'rho': 392.499922259344}\n"
     ]
    }
   ],
   "source": [
    "outputs = {}\n",
    "for p in range( 2 , 12 ):\n",
    "    return_val = wb.run_script_string( extract_output.format( p ) ).split(',')\n",
    "    name = return_val[0]\n",
    "    parameter_val = float(return_val[1])\n",
    "    outputs[ name ] = parameter_val\n",
    "print( outputs )"
   ]
  },
  {
   "cell_type": "markdown",
   "id": "5dda57e8",
   "metadata": {},
   "source": [
    "Finally, call the `exit` method on the Workbench client to gracefully shut down the service."
   ]
  },
  {
   "cell_type": "code",
   "execution_count": 12,
   "id": "5f2955bf",
   "metadata": {
    "execution": {
     "iopub.execute_input": "2025-01-08T18:22:51.108697Z",
     "iopub.status.busy": "2025-01-08T18:22:51.107694Z",
     "iopub.status.idle": "2025-01-08T18:22:58.014411Z",
     "shell.execute_reply": "2025-01-08T18:22:58.014411Z"
    }
   },
   "outputs": [],
   "source": [
    "wb.exit()"
   ]
  }
 ],
 "metadata": {
  "jupytext": {
   "cell_metadata_filter": "-all",
   "main_language": "python",
   "notebook_metadata_filter": "-all",
   "text_representation": {
    "extension": ".py",
    "format_name": "light"
   }
  },
  "language_info": {
   "codemirror_mode": {
    "name": "ipython",
    "version": 3
   },
   "file_extension": ".py",
   "mimetype": "text/x-python",
   "name": "python",
   "nbconvert_exporter": "python",
   "pygments_lexer": "ipython3",
   "version": "3.11.9"
  }
 },
 "nbformat": 4,
 "nbformat_minor": 5
}
