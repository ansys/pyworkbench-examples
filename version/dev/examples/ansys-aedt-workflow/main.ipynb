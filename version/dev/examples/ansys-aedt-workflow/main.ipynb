{
 "cells": [
  {
   "cell_type": "markdown",
   "id": "32d7d995",
   "metadata": {},
   "source": [
    "# Transient Electro-Thermal Simulation of Transient Voltage Suppression (TVS) Diodes"
   ]
  },
  {
   "cell_type": "markdown",
   "id": "ee919ef8",
   "metadata": {
    "lines_to_next_cell": 2
   },
   "source": [
    "This notebook demonstrates the process of running a Workbench service with Electronic Desktop on a local machine to solve highly non-linear Diode response subjected to high thermal load and mechanical stresses.\n",
    "It includes steps for uploading project files, executing scripts."
   ]
  },
  {
   "cell_type": "code",
   "execution_count": 1,
   "id": "0e88267b",
   "metadata": {
    "execution": {
     "iopub.execute_input": "2025-10-07T20:21:44.218454Z",
     "iopub.status.busy": "2025-10-07T20:21:44.218454Z",
     "iopub.status.idle": "2025-10-07T20:21:44.404677Z",
     "shell.execute_reply": "2025-10-07T20:21:44.404677Z"
    }
   },
   "outputs": [],
   "source": [
    "import pathlib\n",
    "import os\n",
    "from ansys.workbench.core import launch_workbench"
   ]
  },
  {
   "cell_type": "markdown",
   "id": "47dbd349",
   "metadata": {
    "lines_to_next_cell": 2
   },
   "source": [
    "Launch the Workbench service on the local machine using specific options.\n",
    "Define the working directory and subdirectories for assets, scripts, and geometry databases (agdb).\n",
    "The `launch_workbench` function starts a Workbench session with the specified directories."
   ]
  },
  {
   "cell_type": "code",
   "execution_count": 2,
   "id": "1e3f894e",
   "metadata": {
    "execution": {
     "iopub.execute_input": "2025-10-07T20:21:44.408436Z",
     "iopub.status.busy": "2025-10-07T20:21:44.408436Z",
     "iopub.status.idle": "2025-10-07T20:21:44.412884Z",
     "shell.execute_reply": "2025-10-07T20:21:44.412884Z"
    }
   },
   "outputs": [],
   "source": [
    "workdir = pathlib.Path(\"__file__\").parent"
   ]
  },
  {
   "cell_type": "code",
   "execution_count": 3,
   "id": "31b8e457",
   "metadata": {
    "execution": {
     "iopub.execute_input": "2025-10-07T20:21:44.414892Z",
     "iopub.status.busy": "2025-10-07T20:21:44.414892Z",
     "iopub.status.idle": "2025-10-07T20:21:44.420013Z",
     "shell.execute_reply": "2025-10-07T20:21:44.420013Z"
    },
    "lines_to_next_cell": 2
   },
   "outputs": [],
   "source": [
    "assets = workdir / \"assets\"\n",
    "scripts = workdir / \"scripts\""
   ]
  },
  {
   "cell_type": "code",
   "execution_count": 4,
   "id": "0c969962",
   "metadata": {
    "execution": {
     "iopub.execute_input": "2025-10-07T20:21:44.424077Z",
     "iopub.status.busy": "2025-10-07T20:21:44.424077Z",
     "iopub.status.idle": "2025-10-07T20:22:18.058412Z",
     "shell.execute_reply": "2025-10-07T20:22:18.058412Z"
    }
   },
   "outputs": [],
   "source": [
    "wb = launch_workbench(client_workdir=str(workdir.absolute()))"
   ]
  },
  {
   "cell_type": "markdown",
   "id": "42863512",
   "metadata": {
    "lines_to_next_cell": 2
   },
   "source": [
    "Upload the project files to the server using the `upload_file` method.\n",
    "The files uploaded are `TVR14471_V_short.wbpz`, `10_1000_Pulse_short.csv`\n",
    "\n",
    "**Note**: use 10_1000_Pulse.csv for fullscale simulation"
   ]
  },
  {
   "cell_type": "code",
   "execution_count": 5,
   "id": "96a4577d",
   "metadata": {
    "execution": {
     "iopub.execute_input": "2025-10-07T20:22:18.062109Z",
     "iopub.status.busy": "2025-10-07T20:22:18.062109Z",
     "iopub.status.idle": "2025-10-07T20:22:18.650420Z",
     "shell.execute_reply": "2025-10-07T20:22:18.649411Z"
    }
   },
   "outputs": [
    {
     "name": "stderr",
     "output_type": "stream",
     "text": [
      "\r",
      "Uploading TVR14471_V_short.wbpz:   0%|          | 0.00/1.06M [00:00<?, ?B/s]"
     ]
    },
    {
     "name": "stderr",
     "output_type": "stream",
     "text": [
      "\r",
      "Uploading TVR14471_V_short.wbpz: 100%|██████████| 1.06M/1.06M [00:00<00:00, 34.8MB/s]"
     ]
    },
    {
     "name": "stderr",
     "output_type": "stream",
     "text": [
      "\n"
     ]
    },
    {
     "name": "stderr",
     "output_type": "stream",
     "text": [
      "\r",
      "Uploading 10_1000_Pulse_short.csv:   0%|          | 0.00/38.0 [00:00<?, ?B/s]"
     ]
    },
    {
     "name": "stderr",
     "output_type": "stream",
     "text": [
      "\r",
      "Uploading 10_1000_Pulse_short.csv: 100%|██████████| 38.0/38.0 [00:00<?, ?B/s]"
     ]
    },
    {
     "name": "stderr",
     "output_type": "stream",
     "text": [
      "\n"
     ]
    }
   ],
   "source": [
    "wb.upload_file_from_example_repo(\"ansys-aedt-workflow/wbpz/TVR14471_V_short.wbpz\")\n",
    "wb.upload_file(str(assets / \"10_1000_Pulse_short.csv\"))"
   ]
  },
  {
   "cell_type": "markdown",
   "id": "eca68e7a",
   "metadata": {},
   "source": [
    "Execute a Workbench script (`project.wbjn`) to define the project and load the geometry using the `run_script_file` method.\n",
    "The `set_log_file` method is used to direct the logs to `wb_log_file.log`.\n",
    "\n",
    "**Note**: For full-scale simulation use `TVR14471_V.wbpz` in line 7 of `project.wbjn`"
   ]
  },
  {
   "cell_type": "code",
   "execution_count": 6,
   "id": "80e00289",
   "metadata": {
    "execution": {
     "iopub.execute_input": "2025-10-07T20:22:18.650420Z",
     "iopub.status.busy": "2025-10-07T20:22:18.650420Z",
     "iopub.status.idle": "2025-10-07T20:22:22.759638Z",
     "shell.execute_reply": "2025-10-07T20:22:22.759638Z"
    }
   },
   "outputs": [
    {
     "name": "stderr",
     "output_type": "stream",
     "text": [
      "WARNING: 10/7/2025 8:22:18 PM: [WARN] The script may not run properly as it was written for Workbench version 2024 R1 (24.1.144), and this is version 2024 R2 (24.2).\n"
     ]
    },
    {
     "name": "stderr",
     "output_type": "stream",
     "text": [
      "WARNING: 10/7/2025 8:22:18 PM: [WARN] The script may not run properly as it was written for Workbench version 2024 R1 (24.1.144), and this is version 2024 R2 (24.2).\n"
     ]
    },
    {
     "name": "stderr",
     "output_type": "stream",
     "text": [
      "WARNING: 10/7/2025 8:22:18 PM: [WARN] The script may not run properly as it was written for Workbench version 2024 R1 (24.1.144), and this is version 2024 R2 (24.2).\n"
     ]
    },
    {
     "name": "stderr",
     "output_type": "stream",
     "text": [
      "ERROR:root:Error when running the script: CommandFailedException: Unable to load project 'C:\\Users\\ansys\\AppData\\Local\\Temp\\wbpj\\TVR14471_V.wbpj': Ansys.Core.Commands.UserReadableFailureException: This project contains data that requires software modules that are not installed, see Details below. Please install the required modules and try again.\r\n",
      "   at Ansys.Core.Persistence.ProjectPersistDataValidator.throwAddinValidationErrorifNotRunningUnderTestBench(StringBuilder missingAddinsError, List`1 eventsToPublishAfterReset)\r\n",
      "   at Ansys.Core.Persistence.ProjectPersistDataValidator.ValidateAddinModules(PersistenceContext context, IStorageObjectReader rootStorage, PersistenceScope scope, List`1 eventsToPublishAfterReset)\r\n",
      "   at Ansys.Core.DataModel.ProjectSystem.Project.initAndValidatePersistanceStorage(PersistenceContext context, String projectFilePath, IStorageObjectReader& projectRootStorage, IStorageObjectReader& designPointRootStorage, TextReader& projectFileHandle, String& designPointDir, String& baseDpName, List`1 eventsToPublishAfterReset)\r\n",
      "   at Ansys.Core.DataModel.ProjectSystem.Project.LoadProject(String projectFilePath, PersistenceContext context, Boolean merge, Boolean import)\r\n",
      "   at Ansys.Core.Persistence.Commands.OpenCommand.LoadProjectInternal(IFullContext context, String projectFilePath, Boolean mergedProject, Boolean importProject, AccessLock shareLock, Boolean skipStartingEvents, IReadOnlyDictionary`2 addinsToPostMigrate)\n"
     ]
    }
   ],
   "source": [
    "export_path = 'wb_log_file.log'\n",
    "wb.set_log_file(export_path)\n",
    "wb.run_script_file(str((assets / \"project.wbjn\").absolute()), log_level='info')"
   ]
  },
  {
   "cell_type": "markdown",
   "id": "de49077b",
   "metadata": {},
   "source": [
    "Start a Mechanical and AEDT client sessions to solve the Transient Electro-Thermal Simulation.\n",
    "Both MECHANICAL and AEDT sessions will be started\n",
    "\n",
    "**Note**: Disable the Distribution of the solution in Ansys Mechanical. For Full scale simulation use `10_1000_Pulse.csv` in line 232 of `DC_Cond_ThermTransient_VariableTimeStep.py`\n"
   ]
  },
  {
   "cell_type": "code",
   "execution_count": 7,
   "id": "ef8a0cf0",
   "metadata": {
    "execution": {
     "iopub.execute_input": "2025-10-07T20:22:22.759638Z",
     "iopub.status.busy": "2025-10-07T20:22:22.759638Z",
     "iopub.status.idle": "2025-10-07T20:22:22.895881Z",
     "shell.execute_reply": "2025-10-07T20:22:22.895881Z"
    }
   },
   "outputs": [
    {
     "name": "stderr",
     "output_type": "stream",
     "text": [
      "ERROR:root:Error when running the script: UnboundNameException: name 'MechSys' is not defined\n"
     ]
    }
   ],
   "source": [
    "wb.run_script_file(str((scripts / \"DC_Cond_ThermTransient_VariableTimeStep.py\").absolute()), log_level='info')"
   ]
  },
  {
   "cell_type": "markdown",
   "id": "d29e47a3",
   "metadata": {},
   "source": [
    "Shutdown the Ansys Workbench server session"
   ]
  },
  {
   "cell_type": "code",
   "execution_count": 8,
   "id": "610e41a5",
   "metadata": {
    "execution": {
     "iopub.execute_input": "2025-10-07T20:22:22.901629Z",
     "iopub.status.busy": "2025-10-07T20:22:22.901629Z",
     "iopub.status.idle": "2025-10-07T20:22:35.286003Z",
     "shell.execute_reply": "2025-10-07T20:22:35.286003Z"
    }
   },
   "outputs": [],
   "source": [
    "wb.exit()"
   ]
  },
  {
   "cell_type": "code",
   "execution_count": null,
   "id": "6cfdfd5c",
   "metadata": {},
   "outputs": [],
   "source": []
  }
 ],
 "metadata": {
  "jupytext": {
   "cell_metadata_filter": "-all",
   "main_language": "python",
   "notebook_metadata_filter": "-all",
   "text_representation": {
    "extension": ".py",
    "format_name": "light"
   }
  },
  "language_info": {
   "codemirror_mode": {
    "name": "ipython",
    "version": 3
   },
   "file_extension": ".py",
   "mimetype": "text/x-python",
   "name": "python",
   "nbconvert_exporter": "python",
   "pygments_lexer": "ipython3",
   "version": "3.11.9"
  }
 },
 "nbformat": 4,
 "nbformat_minor": 5
}
