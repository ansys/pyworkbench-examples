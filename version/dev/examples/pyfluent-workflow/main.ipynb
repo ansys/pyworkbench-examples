{
 "cells": [
  {
   "cell_type": "markdown",
   "id": "27ae5b95",
   "metadata": {},
   "source": [
    "# Integrating PyFluent with PyWorkbench:\n",
    "This example showcases how to use PyFluent workflow together with PyWorkbench - (Python client scripting for Ansys Workbench).\n",
    "\n",
    "This example sets up and solves a three-dimensional turbulent fluid flow\n",
    "and heat transfer problem in a mixing elbow, which is common in piping\n",
    "systems in power plants and process industries. Predicting the flow field\n",
    "and temperature field in the area of the mixing region is important to\n",
    "designing the junction properly.\n",
    "\n",
    "This example uses Pyfluent settings objects API's.\n",
    "\n",
    "## Problem description\n",
    "\n",
    "A cold fluid at 20 deg C flows into the pipe through a large inlet. It then mixes\n",
    "with a warmer fluid at 40 deg C that enters through a smaller inlet located at\n",
    "the elbow. The pipe dimensions are in inches, and the fluid properties and\n",
    "boundary conditions are given in SI units. Because the Reynolds number for the\n",
    "flow at the larger inlet is ``50,800``, a turbulent flow model is required."
   ]
  },
  {
   "cell_type": "markdown",
   "id": "03aa8303",
   "metadata": {},
   "source": [
    "## Performed required imports\n",
    "Performing essential imports for Ansys Workbench, Fluent Pythonic Interface and for downloading examples data."
   ]
  },
  {
   "cell_type": "code",
   "execution_count": 1,
   "id": "19713d74",
   "metadata": {
    "execution": {
     "iopub.execute_input": "2025-10-07T20:56:22.926081Z",
     "iopub.status.busy": "2025-10-07T20:56:22.926081Z",
     "iopub.status.idle": "2025-10-07T20:56:24.126606Z",
     "shell.execute_reply": "2025-10-07T20:56:24.126606Z"
    }
   },
   "outputs": [],
   "source": [
    "import pathlib\n",
    "from ansys.workbench.core import launch_workbench\n",
    "import ansys.fluent.core as pyfluent\n",
    "from ansys.fluent.core import examples"
   ]
  },
  {
   "cell_type": "markdown",
   "id": "79642b39",
   "metadata": {},
   "source": [
    "## Specify client and server directories with launch WB service."
   ]
  },
  {
   "cell_type": "code",
   "execution_count": 2,
   "id": "ff3e119d",
   "metadata": {
    "execution": {
     "iopub.execute_input": "2025-10-07T20:56:24.126606Z",
     "iopub.status.busy": "2025-10-07T20:56:24.126606Z",
     "iopub.status.idle": "2025-10-07T20:56:24.136040Z",
     "shell.execute_reply": "2025-10-07T20:56:24.136040Z"
    },
    "lines_to_next_cell": 2
   },
   "outputs": [],
   "source": [
    "workdir = pathlib.Path(\"__file__\").parent"
   ]
  },
  {
   "cell_type": "code",
   "execution_count": 3,
   "id": "477a616d",
   "metadata": {
    "execution": {
     "iopub.execute_input": "2025-10-07T20:56:24.136040Z",
     "iopub.status.busy": "2025-10-07T20:56:24.136040Z",
     "iopub.status.idle": "2025-10-07T20:56:57.751184Z",
     "shell.execute_reply": "2025-10-07T20:56:57.751184Z"
    }
   },
   "outputs": [],
   "source": [
    "wb = launch_workbench(client_workdir=str(workdir.absolute()), show_gui=False, version=\"251\")"
   ]
  },
  {
   "cell_type": "markdown",
   "id": "52fabbf9",
   "metadata": {},
   "source": [
    "## Download the input file from example data and upload to server directory."
   ]
  },
  {
   "cell_type": "code",
   "execution_count": 4,
   "id": "1d1b1ec7",
   "metadata": {
    "execution": {
     "iopub.execute_input": "2025-10-07T20:56:57.756466Z",
     "iopub.status.busy": "2025-10-07T20:56:57.756466Z",
     "iopub.status.idle": "2025-10-07T20:56:58.384967Z",
     "shell.execute_reply": "2025-10-07T20:56:58.384967Z"
    }
   },
   "outputs": [
    {
     "name": "stderr",
     "output_type": "stream",
     "text": [
      "\r",
      "Uploading mixing_elbow.msh.h5:   0%|          | 0.00/2.68M [00:00<?, ?B/s]"
     ]
    },
    {
     "name": "stderr",
     "output_type": "stream",
     "text": [
      "\r",
      "Uploading mixing_elbow.msh.h5: 100%|██████████| 2.68M/2.68M [00:00<00:00, 82.3MB/s]"
     ]
    },
    {
     "name": "stderr",
     "output_type": "stream",
     "text": [
      "\n"
     ]
    }
   ],
   "source": [
    "import_filename = examples.download_file(\"mixing_elbow.msh.h5\", \"pyfluent/mixing_elbow\")\n",
    "wb.upload_file(import_filename)"
   ]
  },
  {
   "cell_type": "markdown",
   "id": "8b6f6f80",
   "metadata": {},
   "source": [
    "## Generate a \"FLUENT\" System using Ansys Workbench Scripting API (used for Journaling) and parse it to the PyWorkbench API."
   ]
  },
  {
   "cell_type": "code",
   "execution_count": 5,
   "id": "ac7f2821",
   "metadata": {
    "execution": {
     "iopub.execute_input": "2025-10-07T20:56:58.386984Z",
     "iopub.status.busy": "2025-10-07T20:56:58.386984Z",
     "iopub.status.idle": "2025-10-07T20:56:59.339431Z",
     "shell.execute_reply": "2025-10-07T20:56:59.339431Z"
    },
    "lines_to_next_cell": 2
   },
   "outputs": [
    {
     "data": {
      "text/plain": [
       "{}"
      ]
     },
     "execution_count": 5,
     "metadata": {},
     "output_type": "execute_result"
    }
   ],
   "source": [
    "export_path = \"wb_log_file.log\"\n",
    "wb.set_log_file(export_path)\n",
    "wb.run_script_string('template1 = GetTemplate(TemplateName=\"FLUENT\")', log_level=\"info\")\n",
    "wb.run_script_string(\"system1 = template1.CreateSystem()\")"
   ]
  },
  {
   "cell_type": "markdown",
   "id": "74bcfe7c",
   "metadata": {},
   "source": [
    "## Launch Fluent & Connect to Fluent\n",
    "Launch Fluent as server with PyWorkbench API and and connect to Pyfluent session"
   ]
  },
  {
   "cell_type": "code",
   "execution_count": 6,
   "id": "233898f4",
   "metadata": {
    "execution": {
     "iopub.execute_input": "2025-10-07T20:56:59.339431Z",
     "iopub.status.busy": "2025-10-07T20:56:59.339431Z",
     "iopub.status.idle": "2025-10-07T20:57:19.667481Z",
     "shell.execute_reply": "2025-10-07T20:57:19.666469Z"
    },
    "lines_to_next_cell": 2
   },
   "outputs": [],
   "source": [
    "server_info_file = wb.start_fluent_server(system_name=\"FLU\")\n",
    "fluent_session = pyfluent.connect_to_fluent(server_info_file_name=server_info_file)"
   ]
  },
  {
   "cell_type": "markdown",
   "id": "a2380979",
   "metadata": {},
   "source": [
    "## Import mesh and perform mesh check"
   ]
  },
  {
   "cell_type": "code",
   "execution_count": 7,
   "id": "bad031f3",
   "metadata": {
    "execution": {
     "iopub.execute_input": "2025-10-07T20:57:19.671479Z",
     "iopub.status.busy": "2025-10-07T20:57:19.671479Z",
     "iopub.status.idle": "2025-10-07T20:58:13.492434Z",
     "shell.execute_reply": "2025-10-07T20:58:13.491427Z"
    }
   },
   "outputs": [
    {
     "name": "stderr",
     "output_type": "stream",
     "text": [
      "pyfluent.settings_api WARNING: Mismatch between generated file and server object info. Dynamically created settings classes will be used.\n"
     ]
    },
    {
     "name": "stderr",
     "output_type": "stream",
     "text": [
      "WARNING:pyfluent.settings_api:Mismatch between generated file and server object info. Dynamically created settings classes will be used.\n"
     ]
    },
    {
     "name": "stdout",
     "output_type": "stream",
     "text": [
      "'file' is deprecated. Use 'settings.file' instead.\n"
     ]
    },
    {
     "name": "stdout",
     "output_type": "stream",
     "text": [
      "'mesh' is deprecated. Use 'settings.mesh' instead.\n"
     ]
    }
   ],
   "source": [
    "# Import the mesh and perform a mesh check, which lists the minimum and maximum\n",
    "# x, y, and z values from the mesh in the default SI units of meters. The mesh\n",
    "# check also reports a number of other mesh features that are checked. Any errors\n",
    "# in the mesh are reported. Ensure that the minimum volume is not negative because\n",
    "# Fluent cannot begin a calculation when this is the case.\n",
    "\n",
    "fluent_session.file.read_mesh(file_name=import_filename)\n",
    "fluent_session.mesh.check()\n"
   ]
  },
  {
   "cell_type": "markdown",
   "id": "2e84e95a",
   "metadata": {},
   "source": [
    "## Set working units for mesh"
   ]
  },
  {
   "cell_type": "markdown",
   "id": "76d097b9",
   "metadata": {},
   "source": [
    "Set the working units for the mesh to inches. Because the default SI units are\n",
    "used for everything except length, you do not have to change any other units\n",
    "in this example. If you want working units for length to be other than inches\n",
    "(for example, millimeters), make the appropriate change."
   ]
  },
  {
   "cell_type": "code",
   "execution_count": 8,
   "id": "eecc35a7",
   "metadata": {
    "execution": {
     "iopub.execute_input": "2025-10-07T20:58:13.496463Z",
     "iopub.status.busy": "2025-10-07T20:58:13.496463Z",
     "iopub.status.idle": "2025-10-07T20:58:14.631842Z",
     "shell.execute_reply": "2025-10-07T20:58:14.630823Z"
    },
    "lines_to_next_cell": 2
   },
   "outputs": [
    {
     "name": "stdout",
     "output_type": "stream",
     "text": [
      "The following solver settings object method could also be used to execute the above command:\n",
      "<solver_session>.settings.setup.general.units.set_units(quantity = \"length\", units_name = \"in\", scale_factor = 1., offset = 0.)\n"
     ]
    },
    {
     "data": {
      "text/plain": []
     },
     "execution_count": 8,
     "metadata": {},
     "output_type": "execute_result"
    }
   ],
   "source": [
    "fluent_session.tui.define.units(\"length\", \"in\")"
   ]
  },
  {
   "cell_type": "markdown",
   "id": "39391ba1",
   "metadata": {},
   "source": [
    "## Enable heat transfer\n",
    "Enable heat transfer by activating the energy equation."
   ]
  },
  {
   "cell_type": "code",
   "execution_count": 9,
   "id": "bb0076d6",
   "metadata": {
    "execution": {
     "iopub.execute_input": "2025-10-07T20:58:14.634830Z",
     "iopub.status.busy": "2025-10-07T20:58:14.634830Z",
     "iopub.status.idle": "2025-10-07T20:58:15.541483Z",
     "shell.execute_reply": "2025-10-07T20:58:15.540469Z"
    }
   },
   "outputs": [
    {
     "name": "stdout",
     "output_type": "stream",
     "text": [
      "'setup' is deprecated. Use 'settings.setup' instead.\n"
     ]
    }
   ],
   "source": [
    "fluent_session.setup.models.energy.enabled = True"
   ]
  },
  {
   "cell_type": "markdown",
   "id": "184f4eeb",
   "metadata": {},
   "source": [
    "## Create material\n",
    "Create a material named ``\"water-liquid\"``."
   ]
  },
  {
   "cell_type": "code",
   "execution_count": 10,
   "id": "442b74b4",
   "metadata": {
    "execution": {
     "iopub.execute_input": "2025-10-07T20:58:15.546491Z",
     "iopub.status.busy": "2025-10-07T20:58:15.545481Z",
     "iopub.status.idle": "2025-10-07T20:58:16.523935Z",
     "shell.execute_reply": "2025-10-07T20:58:16.522926Z"
    }
   },
   "outputs": [],
   "source": [
    "fluent_session.setup.materials.database.copy_by_name(type=\"fluid\", name=\"water-liquid\")"
   ]
  },
  {
   "cell_type": "markdown",
   "id": "b6ab56ef",
   "metadata": {},
   "source": [
    "## Set up cell zone conditions"
   ]
  },
  {
   "cell_type": "markdown",
   "id": "25e51c57",
   "metadata": {},
   "source": [
    "Set up the cell zone conditions for the fluid zone (``elbow-fluid``). Set ``material``\n",
    "to ``\"water-liquid\"``."
   ]
  },
  {
   "cell_type": "code",
   "execution_count": 11,
   "id": "fd971396",
   "metadata": {
    "execution": {
     "iopub.execute_input": "2025-10-07T20:58:16.527938Z",
     "iopub.status.busy": "2025-10-07T20:58:16.526935Z",
     "iopub.status.idle": "2025-10-07T20:58:17.020048Z",
     "shell.execute_reply": "2025-10-07T20:58:17.018529Z"
    }
   },
   "outputs": [],
   "source": [
    "fluent_session.setup.cell_zone_conditions.fluid['elbow-fluid'].general.material = \"water-liquid\""
   ]
  },
  {
   "cell_type": "markdown",
   "id": "fea07f93",
   "metadata": {},
   "source": [
    "## Set up boundary conditions for CFD analysis"
   ]
  },
  {
   "cell_type": "markdown",
   "id": "00816844",
   "metadata": {},
   "source": [
    "Set up the boundary conditions for the inlets, outlet, and walls for CFD\n",
    "analysis.\n",
    "- cold inlet (cold-inlet), Setting: Value:\n",
    "- Velocity Specification Method: Magnitude, Normal to Boundary\n",
    "- Velocity Magnitude: 0.4 [m/s]\n",
    "- Specification Method: Intensity and Hydraulic Diameter\n",
    "- Turbulent Intensity: 5 [%]\n",
    "- Hydraulic Diameter: 4 [inch]\n",
    "- Temperature: 293.15 [K]"
   ]
  },
  {
   "cell_type": "code",
   "execution_count": 12,
   "id": "238f700f",
   "metadata": {
    "execution": {
     "iopub.execute_input": "2025-10-07T20:58:17.023060Z",
     "iopub.status.busy": "2025-10-07T20:58:17.023060Z",
     "iopub.status.idle": "2025-10-07T20:58:18.272238Z",
     "shell.execute_reply": "2025-10-07T20:58:18.270756Z"
    }
   },
   "outputs": [
    {
     "name": "stdout",
     "output_type": "stream",
     "text": [
      "Note: A newer syntax is available to perform the last operation:\n",
      "solver.settings.setup.boundary_conditions.velocity_inlet['cold-inlet'].momentum.velocity_magnitude.value = 0.4\n",
      "\n",
      "Execute the following code to suppress future warnings like the above:\n",
      "\n",
      ">>> import warnings\n",
      ">>> warnings.filterwarnings(\"ignore\", category=DeprecatedSettingWarning)\n",
      "Note: A newer syntax is available to perform the last operation:\n",
      "solver.settings.setup.boundary_conditions.velocity_inlet['cold-inlet'].turbulence.turbulence_specification = \"Intensity and Hydraulic Diameter\"\n"
     ]
    },
    {
     "name": "stdout",
     "output_type": "stream",
     "text": [
      "Note: A newer syntax is available to perform the last operation:\n",
      "solver.settings.setup.boundary_conditions.velocity_inlet['cold-inlet'].thermal.temperature.value = 293.15\n"
     ]
    }
   ],
   "source": [
    "cold_inlet = fluent_session.setup.boundary_conditions.velocity_inlet[\"cold-inlet\"]\n",
    "cold_inlet.get_state()\n",
    "cold_inlet.momentum.velocity.value = 0.4\n",
    "cold_inlet.turbulence.turbulent_specification = \"Intensity and Hydraulic Diameter\"\n",
    "cold_inlet.turbulence.turbulent_intensity = 0.05\n",
    "cold_inlet.turbulence.hydraulic_diameter = \"4 [in]\"\n",
    "cold_inlet.thermal.t.value = 293.15"
   ]
  },
  {
   "cell_type": "markdown",
   "id": "2868a1a7",
   "metadata": {},
   "source": [
    "- hot inlet (hot-inlet), Setting: Value:\n",
    "- Velocity Specification Method: Magnitude, Normal to Boundary\n",
    "- Velocity Magnitude: 1.2 [m/s]\n",
    "- Specification Method: Intensity and Hydraulic Diameter\n",
    "- Turbulent Intensity: 5 [%]\n",
    "- Hydraulic Diameter: 1 [inch]\n",
    "- Temperature: 313.15 [K]"
   ]
  },
  {
   "cell_type": "code",
   "execution_count": 13,
   "id": "e05ac677",
   "metadata": {
    "execution": {
     "iopub.execute_input": "2025-10-07T20:58:18.275232Z",
     "iopub.status.busy": "2025-10-07T20:58:18.275232Z",
     "iopub.status.idle": "2025-10-07T20:58:19.560948Z",
     "shell.execute_reply": "2025-10-07T20:58:19.560948Z"
    }
   },
   "outputs": [
    {
     "name": "stdout",
     "output_type": "stream",
     "text": [
      "Note: A newer syntax is available to perform the last operation:\n",
      "solver.settings.setup.boundary_conditions.velocity_inlet['hot-inlet'].momentum.velocity_magnitude.value = 1.2\n"
     ]
    },
    {
     "name": "stdout",
     "output_type": "stream",
     "text": [
      "Note: A newer syntax is available to perform the last operation:\n",
      "solver.settings.setup.boundary_conditions.velocity_inlet['hot-inlet'].turbulence.turbulence_specification = \"Intensity and Hydraulic Diameter\"\n"
     ]
    },
    {
     "name": "stdout",
     "output_type": "stream",
     "text": [
      "Note: A newer syntax is available to perform the last operation:\n",
      "solver.settings.setup.boundary_conditions.velocity_inlet['hot-inlet'].thermal.temperature.value = 313.15\n"
     ]
    }
   ],
   "source": [
    "hot_inlet = fluent_session.setup.boundary_conditions.velocity_inlet[\"hot-inlet\"]\n",
    "hot_inlet.momentum.velocity.value = 1.2\n",
    "hot_inlet.turbulence.turbulent_specification = \"Intensity and Hydraulic Diameter\"\n",
    "hot_inlet.turbulence.turbulent_intensity = 0.05\n",
    "hot_inlet.turbulence.hydraulic_diameter = \"1 [in]\"\n",
    "hot_inlet.thermal.t.value = 313.15"
   ]
  },
  {
   "cell_type": "markdown",
   "id": "2fed5a82",
   "metadata": {},
   "source": [
    "- pressure outlet (outlet), Setting: Value:\n",
    "- Backflow Turbulent Intensity: 5 [%]\n",
    "- Backflow Turbulent Viscosity Ratio: 4"
   ]
  },
  {
   "cell_type": "code",
   "execution_count": 14,
   "id": "b690bc11",
   "metadata": {
    "execution": {
     "iopub.execute_input": "2025-10-07T20:58:19.565432Z",
     "iopub.status.busy": "2025-10-07T20:58:19.565432Z",
     "iopub.status.idle": "2025-10-07T20:58:20.497413Z",
     "shell.execute_reply": "2025-10-07T20:58:20.496903Z"
    }
   },
   "outputs": [],
   "source": [
    "fluent_session.setup.boundary_conditions.pressure_outlet[\n",
    "    \"outlet\"\n",
    "].turbulence.backflow_turbulent_viscosity_ratio = 4"
   ]
  },
  {
   "cell_type": "markdown",
   "id": "16bdabbb",
   "metadata": {},
   "source": [
    "## Initialize flow field"
   ]
  },
  {
   "cell_type": "code",
   "execution_count": 15,
   "id": "27619425",
   "metadata": {
    "execution": {
     "iopub.execute_input": "2025-10-07T20:58:20.502424Z",
     "iopub.status.busy": "2025-10-07T20:58:20.501422Z",
     "iopub.status.idle": "2025-10-07T20:58:24.604070Z",
     "shell.execute_reply": "2025-10-07T20:58:24.603063Z"
    }
   },
   "outputs": [
    {
     "name": "stdout",
     "output_type": "stream",
     "text": [
      "'solution' is deprecated. Use 'settings.solution' instead.\n"
     ]
    }
   ],
   "source": [
    "fluent_session.solution.initialization.hybrid_initialize()"
   ]
  },
  {
   "cell_type": "markdown",
   "id": "3f77bc1f",
   "metadata": {},
   "source": [
    "## Solve for 150 iterations\n",
    "Setting iteration count to 150 to solve the model."
   ]
  },
  {
   "cell_type": "code",
   "execution_count": 16,
   "id": "b6f26394",
   "metadata": {
    "execution": {
     "iopub.execute_input": "2025-10-07T20:58:24.608071Z",
     "iopub.status.busy": "2025-10-07T20:58:24.607072Z",
     "iopub.status.idle": "2025-10-07T20:58:25.289728Z",
     "shell.execute_reply": "2025-10-07T20:58:25.288716Z"
    },
    "lines_to_next_cell": 2
   },
   "outputs": [],
   "source": [
    "fluent_session.solution.run_calculation.iter_count = 100"
   ]
  },
  {
   "cell_type": "markdown",
   "id": "c34f4129",
   "metadata": {},
   "source": [
    "## Update Solution using Workbench Journal Commands"
   ]
  },
  {
   "cell_type": "code",
   "execution_count": 17,
   "id": "6ccd37fd",
   "metadata": {
    "execution": {
     "iopub.execute_input": "2025-10-07T20:58:25.300724Z",
     "iopub.status.busy": "2025-10-07T20:58:25.293745Z",
     "iopub.status.idle": "2025-10-07T20:58:25.305696Z",
     "shell.execute_reply": "2025-10-07T20:58:25.304688Z"
    }
   },
   "outputs": [],
   "source": [
    "script_string = \"\"\"\n",
    "solutionComponent1 = system1.GetComponent(Name=\"Solution\")\n",
    "system1 = GetSystem(Name=\"FLU\")\n",
    "solutionComponent1 = system1.GetComponent(Name=\"Solution\")\n",
    "solutionComponent1.Update(AllDependencies=True)\n",
    "\"\"\""
   ]
  },
  {
   "cell_type": "code",
   "execution_count": 18,
   "id": "5d18e118",
   "metadata": {
    "execution": {
     "iopub.execute_input": "2025-10-07T20:58:25.308699Z",
     "iopub.status.busy": "2025-10-07T20:58:25.307701Z",
     "iopub.status.idle": "2025-10-07T20:59:20.884495Z",
     "shell.execute_reply": "2025-10-07T20:59:20.883488Z"
    },
    "lines_to_next_cell": 2
   },
   "outputs": [
    {
     "data": {
      "text/plain": [
       "{}"
      ]
     },
     "execution_count": 18,
     "metadata": {},
     "output_type": "execute_result"
    }
   ],
   "source": [
    "wb.run_script_string(script_string)"
   ]
  },
  {
   "cell_type": "markdown",
   "id": "33f2a7c9",
   "metadata": {},
   "source": [
    "## Postprocessing\n",
    "Create and display velocity vectors on the ``symmetry-xyplane`` plane."
   ]
  },
  {
   "cell_type": "markdown",
   "id": "99b10ffc",
   "metadata": {},
   "source": [
    "## Configure graphics picture export\n",
    "Since Fluent is being run without the GUI, you must to export plots as picture files. Edit the picture settings to use a custom resolution so that the images are large enough."
   ]
  },
  {
   "cell_type": "code",
   "execution_count": 19,
   "id": "6f6ce173",
   "metadata": {
    "execution": {
     "iopub.execute_input": "2025-10-07T20:59:20.893495Z",
     "iopub.status.busy": "2025-10-07T20:59:20.887496Z",
     "iopub.status.idle": "2025-10-07T20:59:21.248601Z",
     "shell.execute_reply": "2025-10-07T20:59:21.247580Z"
    }
   },
   "outputs": [
    {
     "name": "stdout",
     "output_type": "stream",
     "text": [
      "'results' is deprecated. Use 'settings.results' instead.\n"
     ]
    }
   ],
   "source": [
    "graphics = fluent_session.results.graphics\n",
    "if graphics.picture.use_window_resolution.is_active():\n",
    "    graphics.picture.use_window_resolution = False\n",
    "graphics.picture.x_resolution = 1920\n",
    "graphics.picture.y_resolution = 1440"
   ]
  },
  {
   "cell_type": "markdown",
   "id": "73f61591",
   "metadata": {},
   "source": [
    "## Create velocity vectors\n",
    "Create and display velocity vectors on the ``symmetry-xyplane`` plane. Then, export the image for inspection."
   ]
  },
  {
   "cell_type": "code",
   "execution_count": 20,
   "id": "ba30d156",
   "metadata": {
    "execution": {
     "iopub.execute_input": "2025-10-07T20:59:21.251607Z",
     "iopub.status.busy": "2025-10-07T20:59:21.251607Z",
     "iopub.status.idle": "2025-10-07T20:59:21.293328Z",
     "shell.execute_reply": "2025-10-07T20:59:21.292304Z"
    }
   },
   "outputs": [],
   "source": [
    "graphics = fluent_session.results.graphics"
   ]
  },
  {
   "cell_type": "code",
   "execution_count": 21,
   "id": "166ac3ec",
   "metadata": {
    "execution": {
     "iopub.execute_input": "2025-10-07T20:59:21.297356Z",
     "iopub.status.busy": "2025-10-07T20:59:21.296360Z",
     "iopub.status.idle": "2025-10-07T20:59:21.972189Z",
     "shell.execute_reply": "2025-10-07T20:59:21.970509Z"
    }
   },
   "outputs": [
    {
     "name": "stdout",
     "output_type": "stream",
     "text": [
      "\n",
      "name : velocity_vector_symmetry\n",
      "vector_field : velocity\n",
      "field : velocity-magnitude\n",
      "range_option : \n",
      "  option : auto-range-on\n",
      "  auto_range_on : \n",
      "    global_range : True\n",
      "range_options : \n",
      "  global_range : True\n",
      "  auto_range : True\n",
      "  clip_to_range : False\n",
      "  minimum : 0.0\n",
      "  maximum : 0.0\n",
      "options : \n",
      "  auto_scale : True\n",
      "  vector_style : 3d arrow\n",
      "  scale : 1\n",
      "  skip : 0\n",
      "scale : \n",
      "  auto_scale : True\n",
      "  scale_f : 1\n",
      "style : 3d arrow\n",
      "skip : 0\n",
      "vector_opt : \n",
      "  in_plane : False\n",
      "  fixed_length : False\n",
      "  x_comp : True\n",
      "  y_comp : True\n",
      "  z_comp : True\n",
      "  scale_head : 0.3\n",
      "  tessellation : 24\n",
      "  color : \n",
      "color_map : \n",
      "  visible : True\n",
      "  color : field-velocity\n",
      "  size : 100\n",
      "  log_scale : False\n",
      "  format : %0.2e\n",
      "  user_skip : 9\n",
      "  show_all : True\n",
      "  position : 1\n",
      "  font_name : Helvetica\n",
      "  font_automatic : True\n",
      "  font_size : 0.032\n",
      "  length : 0.54\n",
      "  width : 6.0\n",
      "  bground_transparent : True\n",
      "  bground_color : #CCD3E2\n",
      "  title_elements : Variable and Object Name\n",
      "display_state_name : None\n"
     ]
    }
   ],
   "source": [
    "graphics.vector[\"velocity_vector_symmetry\"] = {}\n",
    "velocity_symmetry = fluent_session.results.graphics.vector[\"velocity_vector_symmetry\"]\n",
    "velocity_symmetry.print_state()\n",
    "velocity_symmetry.field = \"velocity-magnitude\"\n",
    "velocity_symmetry.surfaces_list = [\n",
    "    \"symmetry-xyplane\",\n",
    "]\n",
    "velocity_symmetry.scale.scale_f = 4\n",
    "velocity_symmetry.style = \"arrow\"\n",
    "velocity_symmetry.display()"
   ]
  },
  {
   "cell_type": "code",
   "execution_count": 22,
   "id": "53482716",
   "metadata": {
    "execution": {
     "iopub.execute_input": "2025-10-07T20:59:21.976036Z",
     "iopub.status.busy": "2025-10-07T20:59:21.975028Z",
     "iopub.status.idle": "2025-10-07T20:59:23.998721Z",
     "shell.execute_reply": "2025-10-07T20:59:23.997195Z"
    }
   },
   "outputs": [],
   "source": [
    "graphics.views.restore_view(view_name=\"front\")\n",
    "graphics.views.auto_scale()\n",
    "graphics.picture.save_picture(file_name=\"velocity_vector_symmetry.png\")"
   ]
  },
  {
   "cell_type": "markdown",
   "id": "ad91eba2",
   "metadata": {},
   "source": [
    "## Compute mass flow rate\n",
    "Compute the mass flow rate."
   ]
  },
  {
   "cell_type": "code",
   "execution_count": 23,
   "id": "c7801f98",
   "metadata": {
    "execution": {
     "iopub.execute_input": "2025-10-07T20:59:24.002722Z",
     "iopub.status.busy": "2025-10-07T20:59:24.001721Z",
     "iopub.status.idle": "2025-10-07T20:59:25.734363Z",
     "shell.execute_reply": "2025-10-07T20:59:25.734363Z"
    }
   },
   "outputs": [
    {
     "name": "stdout",
     "output_type": "stream",
     "text": [
      "'solution' is deprecated. Use 'settings.solution' instead.\n"
     ]
    },
    {
     "name": "stdout",
     "output_type": "stream",
     "text": [
      "\n",
      "name : mass_flow_rate\n",
      "report_type : flux-massflow\n",
      "boundaries : \n",
      "  0 : cold-inlet\n",
      "  1 : hot-inlet\n",
      "  2 : outlet\n",
      "per_zone : False\n",
      "average_over : 1\n",
      "retain_instantaneous_values : False\n",
      "output_parameter : False\n"
     ]
    },
    {
     "data": {
      "text/plain": [
       "[{'mass_flow_rate': [-5.185604095458984e-06, 0]}]"
      ]
     },
     "execution_count": 23,
     "metadata": {},
     "output_type": "execute_result"
    }
   ],
   "source": [
    "fluent_session.solution.report_definitions.flux[\"mass_flow_rate\"] = {}\n",
    "\n",
    "mass_flow_rate = fluent_session.solution.report_definitions.flux[\"mass_flow_rate\"]\n",
    "mass_flow_rate.boundaries = [\n",
    "    \"cold-inlet\",\n",
    "    \"hot-inlet\",\n",
    "    \"outlet\",\n",
    "]\n",
    "mass_flow_rate.print_state()\n",
    "fluent_session.solution.report_definitions.compute(report_defs=[\"mass_flow_rate\"])"
   ]
  },
  {
   "cell_type": "markdown",
   "id": "484d77a6",
   "metadata": {},
   "source": [
    "## Exit Fluent Session"
   ]
  },
  {
   "cell_type": "code",
   "execution_count": 24,
   "id": "5fc393cb",
   "metadata": {
    "execution": {
     "iopub.execute_input": "2025-10-07T20:59:25.738652Z",
     "iopub.status.busy": "2025-10-07T20:59:25.737645Z",
     "iopub.status.idle": "2025-10-07T20:59:25.746818Z",
     "shell.execute_reply": "2025-10-07T20:59:25.745810Z"
    }
   },
   "outputs": [],
   "source": [
    "fluent_session.exit()"
   ]
  },
  {
   "cell_type": "markdown",
   "id": "d111b271",
   "metadata": {},
   "source": [
    "## Save project"
   ]
  },
  {
   "cell_type": "code",
   "execution_count": 25,
   "id": "57368d09",
   "metadata": {
    "execution": {
     "iopub.execute_input": "2025-10-07T20:59:25.749822Z",
     "iopub.status.busy": "2025-10-07T20:59:25.748819Z",
     "iopub.status.idle": "2025-10-07T20:59:26.404295Z",
     "shell.execute_reply": "2025-10-07T20:59:26.403288Z"
    }
   },
   "outputs": [
    {
     "data": {
      "text/plain": [
       "{}"
      ]
     },
     "execution_count": 25,
     "metadata": {},
     "output_type": "execute_result"
    }
   ],
   "source": [
    "save_string = \"\"\"import os\n",
    "workdir = GetServerWorkingDirectory()\n",
    "path = os.path.join(workdir, \"mixing_elbow.wbpj\")\n",
    "Save(FilePath=path , Overwrite=True)\"\"\"\n",
    "wb.run_script_string(save_string)"
   ]
  },
  {
   "cell_type": "markdown",
   "id": "42bdf68d",
   "metadata": {},
   "source": [
    "## Archive Project"
   ]
  },
  {
   "cell_type": "code",
   "execution_count": 26,
   "id": "d903caa4",
   "metadata": {
    "execution": {
     "iopub.execute_input": "2025-10-07T20:59:26.407297Z",
     "iopub.status.busy": "2025-10-07T20:59:26.407297Z",
     "iopub.status.idle": "2025-10-07T20:59:29.913816Z",
     "shell.execute_reply": "2025-10-07T20:59:29.912806Z"
    }
   },
   "outputs": [
    {
     "data": {
      "text/plain": [
       "{}"
      ]
     },
     "execution_count": 26,
     "metadata": {},
     "output_type": "execute_result"
    }
   ],
   "source": [
    "archive_string =\"\"\"import os\n",
    "workdir = GetServerWorkingDirectory()\n",
    "path = os.path.join(workdir, \"mixing_elbow.wbpz\")\n",
    "Archive(FilePath=path , IncludeExternalImportedFiles=True)\"\"\"\n",
    "wb.run_script_string(archive_string)"
   ]
  },
  {
   "cell_type": "markdown",
   "id": "1ba60938",
   "metadata": {},
   "source": [
    "## Download the archived project which has all simulation data and results."
   ]
  },
  {
   "cell_type": "code",
   "execution_count": 27,
   "id": "e796d0db",
   "metadata": {
    "execution": {
     "iopub.execute_input": "2025-10-07T20:59:29.916824Z",
     "iopub.status.busy": "2025-10-07T20:59:29.915817Z",
     "iopub.status.idle": "2025-10-07T21:02:11.735930Z",
     "shell.execute_reply": "2025-10-07T21:02:11.734912Z"
    }
   },
   "outputs": [
    {
     "name": "stderr",
     "output_type": "stream",
     "text": [
      "\r",
      "Downloading mixing_elbow.wbpz:   0%|          | 0.00/9.98M [00:00<?, ?B/s]"
     ]
    },
    {
     "name": "stderr",
     "output_type": "stream",
     "text": [
      "\r",
      "Downloading mixing_elbow.wbpz:   1%|▏         | 128k/9.98M [00:01<01:19, 130kB/s]"
     ]
    },
    {
     "name": "stderr",
     "output_type": "stream",
     "text": [
      "\r",
      "Downloading mixing_elbow.wbpz:   2%|▏         | 192k/9.98M [00:02<01:51, 91.8kB/s]"
     ]
    },
    {
     "name": "stderr",
     "output_type": "stream",
     "text": [
      "\r",
      "Downloading mixing_elbow.wbpz:   3%|▎         | 256k/9.98M [00:03<02:08, 79.6kB/s]"
     ]
    },
    {
     "name": "stderr",
     "output_type": "stream",
     "text": [
      "\r",
      "Downloading mixing_elbow.wbpz:   3%|▎         | 320k/9.98M [00:04<02:17, 73.7kB/s]"
     ]
    },
    {
     "name": "stderr",
     "output_type": "stream",
     "text": [
      "\r",
      "Downloading mixing_elbow.wbpz:   4%|▍         | 384k/9.98M [00:05<02:23, 70.4kB/s]"
     ]
    },
    {
     "name": "stderr",
     "output_type": "stream",
     "text": [
      "\r",
      "Downloading mixing_elbow.wbpz:   4%|▍         | 448k/9.98M [00:06<02:26, 68.4kB/s]"
     ]
    },
    {
     "name": "stderr",
     "output_type": "stream",
     "text": [
      "\r",
      "Downloading mixing_elbow.wbpz:   5%|▌         | 512k/9.98M [00:07<02:28, 67.2kB/s]"
     ]
    },
    {
     "name": "stderr",
     "output_type": "stream",
     "text": [
      "\r",
      "Downloading mixing_elbow.wbpz:   6%|▌         | 576k/9.98M [00:08<02:28, 66.6kB/s]"
     ]
    },
    {
     "name": "stderr",
     "output_type": "stream",
     "text": [
      "\r",
      "Downloading mixing_elbow.wbpz:   6%|▋         | 640k/9.98M [00:09<02:28, 66.0kB/s]"
     ]
    },
    {
     "name": "stderr",
     "output_type": "stream",
     "text": [
      "\r",
      "Downloading mixing_elbow.wbpz:   7%|▋         | 704k/9.98M [00:10<02:28, 65.7kB/s]"
     ]
    },
    {
     "name": "stderr",
     "output_type": "stream",
     "text": [
      "\r",
      "Downloading mixing_elbow.wbpz:   8%|▊         | 768k/9.98M [00:11<02:27, 65.5kB/s]"
     ]
    },
    {
     "name": "stderr",
     "output_type": "stream",
     "text": [
      "\r",
      "Downloading mixing_elbow.wbpz:   8%|▊         | 832k/9.98M [00:12<02:26, 65.4kB/s]"
     ]
    },
    {
     "name": "stderr",
     "output_type": "stream",
     "text": [
      "\r",
      "Downloading mixing_elbow.wbpz:   9%|▉         | 896k/9.98M [00:13<02:26, 65.4kB/s]"
     ]
    },
    {
     "name": "stderr",
     "output_type": "stream",
     "text": [
      "\r",
      "Downloading mixing_elbow.wbpz:   9%|▉         | 960k/9.98M [00:14<02:25, 65.1kB/s]"
     ]
    },
    {
     "name": "stderr",
     "output_type": "stream",
     "text": [
      "\r",
      "Downloading mixing_elbow.wbpz:  10%|█         | 1.00M/9.98M [00:15<02:25, 64.9kB/s]"
     ]
    },
    {
     "name": "stderr",
     "output_type": "stream",
     "text": [
      "\r",
      "Downloading mixing_elbow.wbpz:  11%|█         | 1.06M/9.98M [00:16<02:23, 65.3kB/s]"
     ]
    },
    {
     "name": "stderr",
     "output_type": "stream",
     "text": [
      "\r",
      "Downloading mixing_elbow.wbpz:  11%|█▏        | 1.12M/9.98M [00:17<02:22, 65.3kB/s]"
     ]
    },
    {
     "name": "stderr",
     "output_type": "stream",
     "text": [
      "\r",
      "Downloading mixing_elbow.wbpz:  12%|█▏        | 1.19M/9.98M [00:18<02:21, 65.1kB/s]"
     ]
    },
    {
     "name": "stderr",
     "output_type": "stream",
     "text": [
      "\r",
      "Downloading mixing_elbow.wbpz:  13%|█▎        | 1.25M/9.98M [00:19<02:21, 64.6kB/s]"
     ]
    },
    {
     "name": "stderr",
     "output_type": "stream",
     "text": [
      "\r",
      "Downloading mixing_elbow.wbpz:  13%|█▎        | 1.31M/9.98M [00:20<02:20, 64.9kB/s]"
     ]
    },
    {
     "name": "stderr",
     "output_type": "stream",
     "text": [
      "\r",
      "Downloading mixing_elbow.wbpz:  14%|█▍        | 1.38M/9.98M [00:21<02:19, 64.6kB/s]"
     ]
    },
    {
     "name": "stderr",
     "output_type": "stream",
     "text": [
      "\r",
      "Downloading mixing_elbow.wbpz:  14%|█▍        | 1.44M/9.98M [00:22<02:17, 64.9kB/s]"
     ]
    },
    {
     "name": "stderr",
     "output_type": "stream",
     "text": [
      "\r",
      "Downloading mixing_elbow.wbpz:  15%|█▌        | 1.50M/9.98M [00:23<02:17, 64.8kB/s]"
     ]
    },
    {
     "name": "stderr",
     "output_type": "stream",
     "text": [
      "\r",
      "Downloading mixing_elbow.wbpz:  16%|█▌        | 1.56M/9.98M [00:24<02:16, 64.8kB/s]"
     ]
    },
    {
     "name": "stderr",
     "output_type": "stream",
     "text": [
      "\r",
      "Downloading mixing_elbow.wbpz:  16%|█▋        | 1.62M/9.98M [00:25<02:14, 64.9kB/s]"
     ]
    },
    {
     "name": "stderr",
     "output_type": "stream",
     "text": [
      "\r",
      "Downloading mixing_elbow.wbpz:  17%|█▋        | 1.69M/9.98M [00:26<02:14, 64.8kB/s]"
     ]
    },
    {
     "name": "stderr",
     "output_type": "stream",
     "text": [
      "\r",
      "Downloading mixing_elbow.wbpz:  18%|█▊        | 1.75M/9.98M [00:27<02:13, 64.7kB/s]"
     ]
    },
    {
     "name": "stderr",
     "output_type": "stream",
     "text": [
      "\r",
      "Downloading mixing_elbow.wbpz:  18%|█▊        | 1.81M/9.98M [00:28<02:12, 64.7kB/s]"
     ]
    },
    {
     "name": "stderr",
     "output_type": "stream",
     "text": [
      "\r",
      "Downloading mixing_elbow.wbpz:  19%|█▉        | 1.88M/9.98M [00:29<02:10, 65.0kB/s]"
     ]
    },
    {
     "name": "stderr",
     "output_type": "stream",
     "text": [
      "\r",
      "Downloading mixing_elbow.wbpz:  19%|█▉        | 1.94M/9.98M [00:30<02:09, 65.1kB/s]"
     ]
    },
    {
     "name": "stderr",
     "output_type": "stream",
     "text": [
      "\r",
      "Downloading mixing_elbow.wbpz:  20%|██        | 2.00M/9.98M [00:31<02:08, 65.1kB/s]"
     ]
    },
    {
     "name": "stderr",
     "output_type": "stream",
     "text": [
      "\r",
      "Downloading mixing_elbow.wbpz:  21%|██        | 2.06M/9.98M [00:32<02:07, 65.0kB/s]"
     ]
    },
    {
     "name": "stderr",
     "output_type": "stream",
     "text": [
      "\r",
      "Downloading mixing_elbow.wbpz:  21%|██▏       | 2.12M/9.98M [00:33<02:07, 64.8kB/s]"
     ]
    },
    {
     "name": "stderr",
     "output_type": "stream",
     "text": [
      "\r",
      "Downloading mixing_elbow.wbpz:  22%|██▏       | 2.19M/9.98M [00:34<02:06, 64.5kB/s]"
     ]
    },
    {
     "name": "stderr",
     "output_type": "stream",
     "text": [
      "\r",
      "Downloading mixing_elbow.wbpz:  23%|██▎       | 2.25M/9.98M [00:35<02:05, 64.8kB/s]"
     ]
    },
    {
     "name": "stderr",
     "output_type": "stream",
     "text": [
      "\r",
      "Downloading mixing_elbow.wbpz:  23%|██▎       | 2.31M/9.98M [00:36<02:03, 65.0kB/s]"
     ]
    },
    {
     "name": "stderr",
     "output_type": "stream",
     "text": [
      "\r",
      "Downloading mixing_elbow.wbpz:  24%|██▍       | 2.38M/9.98M [00:37<02:02, 65.1kB/s]"
     ]
    },
    {
     "name": "stderr",
     "output_type": "stream",
     "text": [
      "\r",
      "Downloading mixing_elbow.wbpz:  24%|██▍       | 2.44M/9.98M [00:38<02:01, 65.2kB/s]"
     ]
    },
    {
     "name": "stderr",
     "output_type": "stream",
     "text": [
      "\r",
      "Downloading mixing_elbow.wbpz:  25%|██▌       | 2.50M/9.98M [00:39<02:00, 65.0kB/s]"
     ]
    },
    {
     "name": "stderr",
     "output_type": "stream",
     "text": [
      "\r",
      "Downloading mixing_elbow.wbpz:  26%|██▌       | 2.56M/9.98M [00:40<01:59, 64.9kB/s]"
     ]
    },
    {
     "name": "stderr",
     "output_type": "stream",
     "text": [
      "\r",
      "Downloading mixing_elbow.wbpz:  26%|██▋       | 2.62M/9.98M [00:41<01:59, 64.8kB/s]"
     ]
    },
    {
     "name": "stderr",
     "output_type": "stream",
     "text": [
      "\r",
      "Downloading mixing_elbow.wbpz:  27%|██▋       | 2.69M/9.98M [00:42<01:58, 64.8kB/s]"
     ]
    },
    {
     "name": "stderr",
     "output_type": "stream",
     "text": [
      "\r",
      "Downloading mixing_elbow.wbpz:  28%|██▊       | 2.75M/9.98M [00:43<01:57, 64.7kB/s]"
     ]
    },
    {
     "name": "stderr",
     "output_type": "stream",
     "text": [
      "\r",
      "Downloading mixing_elbow.wbpz:  28%|██▊       | 2.81M/9.98M [00:44<01:56, 64.7kB/s]"
     ]
    },
    {
     "name": "stderr",
     "output_type": "stream",
     "text": [
      "\r",
      "Downloading mixing_elbow.wbpz:  29%|██▉       | 2.88M/9.98M [00:45<01:55, 64.7kB/s]"
     ]
    },
    {
     "name": "stderr",
     "output_type": "stream",
     "text": [
      "\r",
      "Downloading mixing_elbow.wbpz:  29%|██▉       | 2.94M/9.98M [00:46<01:54, 64.7kB/s]"
     ]
    },
    {
     "name": "stderr",
     "output_type": "stream",
     "text": [
      "\r",
      "Downloading mixing_elbow.wbpz:  30%|███       | 3.00M/9.98M [00:47<01:53, 64.7kB/s]"
     ]
    },
    {
     "name": "stderr",
     "output_type": "stream",
     "text": [
      "\r",
      "Downloading mixing_elbow.wbpz:  31%|███       | 3.06M/9.98M [00:48<01:52, 64.7kB/s]"
     ]
    },
    {
     "name": "stderr",
     "output_type": "stream",
     "text": [
      "\r",
      "Downloading mixing_elbow.wbpz:  31%|███▏      | 3.12M/9.98M [00:49<01:51, 64.7kB/s]"
     ]
    },
    {
     "name": "stderr",
     "output_type": "stream",
     "text": [
      "\r",
      "Downloading mixing_elbow.wbpz:  32%|███▏      | 3.19M/9.98M [00:50<01:49, 64.8kB/s]"
     ]
    },
    {
     "name": "stderr",
     "output_type": "stream",
     "text": [
      "\r",
      "Downloading mixing_elbow.wbpz:  33%|███▎      | 3.25M/9.98M [00:51<01:49, 64.8kB/s]"
     ]
    },
    {
     "name": "stderr",
     "output_type": "stream",
     "text": [
      "\r",
      "Downloading mixing_elbow.wbpz:  33%|███▎      | 3.31M/9.98M [00:52<01:48, 64.7kB/s]"
     ]
    },
    {
     "name": "stderr",
     "output_type": "stream",
     "text": [
      "\r",
      "Downloading mixing_elbow.wbpz:  34%|███▍      | 3.38M/9.98M [00:53<01:47, 64.7kB/s]"
     ]
    },
    {
     "name": "stderr",
     "output_type": "stream",
     "text": [
      "\r",
      "Downloading mixing_elbow.wbpz:  34%|███▍      | 3.44M/9.98M [00:54<01:46, 64.7kB/s]"
     ]
    },
    {
     "name": "stderr",
     "output_type": "stream",
     "text": [
      "\r",
      "Downloading mixing_elbow.wbpz:  35%|███▌      | 3.50M/9.98M [00:55<01:45, 64.7kB/s]"
     ]
    },
    {
     "name": "stderr",
     "output_type": "stream",
     "text": [
      "\r",
      "Downloading mixing_elbow.wbpz:  36%|███▌      | 3.56M/9.98M [00:56<01:44, 64.3kB/s]"
     ]
    },
    {
     "name": "stderr",
     "output_type": "stream",
     "text": [
      "\r",
      "Downloading mixing_elbow.wbpz:  36%|███▋      | 3.62M/9.98M [00:57<01:43, 64.7kB/s]"
     ]
    },
    {
     "name": "stderr",
     "output_type": "stream",
     "text": [
      "\r",
      "Downloading mixing_elbow.wbpz:  37%|███▋      | 3.69M/9.98M [00:58<01:41, 64.8kB/s]"
     ]
    },
    {
     "name": "stderr",
     "output_type": "stream",
     "text": [
      "\r",
      "Downloading mixing_elbow.wbpz:  38%|███▊      | 3.75M/9.98M [00:59<01:40, 64.7kB/s]"
     ]
    },
    {
     "name": "stderr",
     "output_type": "stream",
     "text": [
      "\r",
      "Downloading mixing_elbow.wbpz:  38%|███▊      | 3.81M/9.98M [01:00<01:40, 64.7kB/s]"
     ]
    },
    {
     "name": "stderr",
     "output_type": "stream",
     "text": [
      "\r",
      "Downloading mixing_elbow.wbpz:  39%|███▉      | 3.88M/9.98M [01:01<01:38, 64.9kB/s]"
     ]
    },
    {
     "name": "stderr",
     "output_type": "stream",
     "text": [
      "\r",
      "Downloading mixing_elbow.wbpz:  39%|███▉      | 3.94M/9.98M [01:02<01:37, 64.8kB/s]"
     ]
    },
    {
     "name": "stderr",
     "output_type": "stream",
     "text": [
      "\r",
      "Downloading mixing_elbow.wbpz:  40%|████      | 4.00M/9.98M [01:03<01:36, 64.8kB/s]"
     ]
    },
    {
     "name": "stderr",
     "output_type": "stream",
     "text": [
      "\r",
      "Downloading mixing_elbow.wbpz:  41%|████      | 4.06M/9.98M [01:04<01:35, 64.7kB/s]"
     ]
    },
    {
     "name": "stderr",
     "output_type": "stream",
     "text": [
      "\r",
      "Downloading mixing_elbow.wbpz:  41%|████▏     | 4.12M/9.98M [01:05<01:34, 64.7kB/s]"
     ]
    },
    {
     "name": "stderr",
     "output_type": "stream",
     "text": [
      "\r",
      "Downloading mixing_elbow.wbpz:  42%|████▏     | 4.19M/9.98M [01:06<01:34, 64.3kB/s]"
     ]
    },
    {
     "name": "stderr",
     "output_type": "stream",
     "text": [
      "\r",
      "Downloading mixing_elbow.wbpz:  43%|████▎     | 4.25M/9.98M [01:07<01:32, 64.9kB/s]"
     ]
    },
    {
     "name": "stderr",
     "output_type": "stream",
     "text": [
      "\r",
      "Downloading mixing_elbow.wbpz:  43%|████▎     | 4.31M/9.98M [01:08<01:31, 64.9kB/s]"
     ]
    },
    {
     "name": "stderr",
     "output_type": "stream",
     "text": [
      "\r",
      "Downloading mixing_elbow.wbpz:  44%|████▍     | 4.38M/9.98M [01:09<01:30, 64.8kB/s]"
     ]
    },
    {
     "name": "stderr",
     "output_type": "stream",
     "text": [
      "\r",
      "Downloading mixing_elbow.wbpz:  44%|████▍     | 4.44M/9.98M [01:10<01:29, 64.8kB/s]"
     ]
    },
    {
     "name": "stderr",
     "output_type": "stream",
     "text": [
      "\r",
      "Downloading mixing_elbow.wbpz:  45%|████▌     | 4.50M/9.98M [01:11<01:28, 64.8kB/s]"
     ]
    },
    {
     "name": "stderr",
     "output_type": "stream",
     "text": [
      "\r",
      "Downloading mixing_elbow.wbpz:  46%|████▌     | 4.56M/9.98M [01:12<01:27, 64.8kB/s]"
     ]
    },
    {
     "name": "stderr",
     "output_type": "stream",
     "text": [
      "\r",
      "Downloading mixing_elbow.wbpz:  46%|████▋     | 4.62M/9.98M [01:13<01:26, 64.9kB/s]"
     ]
    },
    {
     "name": "stderr",
     "output_type": "stream",
     "text": [
      "\r",
      "Downloading mixing_elbow.wbpz:  47%|████▋     | 4.69M/9.98M [01:14<01:25, 65.1kB/s]"
     ]
    },
    {
     "name": "stderr",
     "output_type": "stream",
     "text": [
      "\r",
      "Downloading mixing_elbow.wbpz:  48%|████▊     | 4.75M/9.98M [01:15<01:24, 64.9kB/s]"
     ]
    },
    {
     "name": "stderr",
     "output_type": "stream",
     "text": [
      "\r",
      "Downloading mixing_elbow.wbpz:  48%|████▊     | 4.81M/9.98M [01:16<01:23, 64.8kB/s]"
     ]
    },
    {
     "name": "stderr",
     "output_type": "stream",
     "text": [
      "\r",
      "Downloading mixing_elbow.wbpz:  49%|████▉     | 4.88M/9.98M [01:17<01:22, 64.9kB/s]"
     ]
    },
    {
     "name": "stderr",
     "output_type": "stream",
     "text": [
      "\r",
      "Downloading mixing_elbow.wbpz:  49%|████▉     | 4.94M/9.98M [01:18<01:21, 65.0kB/s]"
     ]
    },
    {
     "name": "stderr",
     "output_type": "stream",
     "text": [
      "\r",
      "Downloading mixing_elbow.wbpz:  50%|█████     | 5.00M/9.98M [01:19<01:20, 65.1kB/s]"
     ]
    },
    {
     "name": "stderr",
     "output_type": "stream",
     "text": [
      "\r",
      "Downloading mixing_elbow.wbpz:  51%|█████     | 5.06M/9.98M [01:20<01:19, 65.0kB/s]"
     ]
    },
    {
     "name": "stderr",
     "output_type": "stream",
     "text": [
      "\r",
      "Downloading mixing_elbow.wbpz:  51%|█████▏    | 5.12M/9.98M [01:21<01:18, 64.8kB/s]"
     ]
    },
    {
     "name": "stderr",
     "output_type": "stream",
     "text": [
      "\r",
      "Downloading mixing_elbow.wbpz:  52%|█████▏    | 5.19M/9.98M [01:22<01:17, 65.0kB/s]"
     ]
    },
    {
     "name": "stderr",
     "output_type": "stream",
     "text": [
      "\r",
      "Downloading mixing_elbow.wbpz:  53%|█████▎    | 5.25M/9.98M [01:23<01:16, 64.9kB/s]"
     ]
    },
    {
     "name": "stderr",
     "output_type": "stream",
     "text": [
      "\r",
      "Downloading mixing_elbow.wbpz:  53%|█████▎    | 5.31M/9.98M [01:24<01:15, 64.9kB/s]"
     ]
    },
    {
     "name": "stderr",
     "output_type": "stream",
     "text": [
      "\r",
      "Downloading mixing_elbow.wbpz:  54%|█████▍    | 5.38M/9.98M [01:25<01:14, 64.8kB/s]"
     ]
    },
    {
     "name": "stderr",
     "output_type": "stream",
     "text": [
      "\r",
      "Downloading mixing_elbow.wbpz:  54%|█████▍    | 5.44M/9.98M [01:26<01:13, 64.5kB/s]"
     ]
    },
    {
     "name": "stderr",
     "output_type": "stream",
     "text": [
      "\r",
      "Downloading mixing_elbow.wbpz:  55%|█████▌    | 5.50M/9.98M [01:27<01:12, 64.8kB/s]"
     ]
    },
    {
     "name": "stderr",
     "output_type": "stream",
     "text": [
      "\r",
      "Downloading mixing_elbow.wbpz:  56%|█████▌    | 5.56M/9.98M [01:28<01:11, 64.8kB/s]"
     ]
    },
    {
     "name": "stderr",
     "output_type": "stream",
     "text": [
      "\r",
      "Downloading mixing_elbow.wbpz:  56%|█████▋    | 5.62M/9.98M [01:29<01:10, 64.7kB/s]"
     ]
    },
    {
     "name": "stderr",
     "output_type": "stream",
     "text": [
      "\r",
      "Downloading mixing_elbow.wbpz:  57%|█████▋    | 5.69M/9.98M [01:30<01:09, 64.7kB/s]"
     ]
    },
    {
     "name": "stderr",
     "output_type": "stream",
     "text": [
      "\r",
      "Downloading mixing_elbow.wbpz:  58%|█████▊    | 5.75M/9.98M [01:31<01:08, 64.7kB/s]"
     ]
    },
    {
     "name": "stderr",
     "output_type": "stream",
     "text": [
      "\r",
      "Downloading mixing_elbow.wbpz:  58%|█████▊    | 5.81M/9.98M [01:33<01:07, 64.9kB/s]"
     ]
    },
    {
     "name": "stderr",
     "output_type": "stream",
     "text": [
      "\r",
      "Downloading mixing_elbow.wbpz:  59%|█████▉    | 5.88M/9.98M [01:34<01:06, 64.8kB/s]"
     ]
    },
    {
     "name": "stderr",
     "output_type": "stream",
     "text": [
      "\r",
      "Downloading mixing_elbow.wbpz:  59%|█████▉    | 5.94M/9.98M [01:35<01:05, 64.7kB/s]"
     ]
    },
    {
     "name": "stderr",
     "output_type": "stream",
     "text": [
      "\r",
      "Downloading mixing_elbow.wbpz:  60%|██████    | 6.00M/9.98M [01:36<01:04, 64.7kB/s]"
     ]
    },
    {
     "name": "stderr",
     "output_type": "stream",
     "text": [
      "\r",
      "Downloading mixing_elbow.wbpz:  61%|██████    | 6.06M/9.98M [01:37<01:03, 64.7kB/s]"
     ]
    },
    {
     "name": "stderr",
     "output_type": "stream",
     "text": [
      "\r",
      "Downloading mixing_elbow.wbpz:  61%|██████▏   | 6.12M/9.98M [01:38<01:02, 64.4kB/s]"
     ]
    },
    {
     "name": "stderr",
     "output_type": "stream",
     "text": [
      "\r",
      "Downloading mixing_elbow.wbpz:  62%|██████▏   | 6.19M/9.98M [01:39<01:01, 64.7kB/s]"
     ]
    },
    {
     "name": "stderr",
     "output_type": "stream",
     "text": [
      "\r",
      "Downloading mixing_elbow.wbpz:  63%|██████▎   | 6.25M/9.98M [01:40<01:00, 64.7kB/s]"
     ]
    },
    {
     "name": "stderr",
     "output_type": "stream",
     "text": [
      "\r",
      "Downloading mixing_elbow.wbpz:  63%|██████▎   | 6.31M/9.98M [01:41<00:59, 64.6kB/s]"
     ]
    },
    {
     "name": "stderr",
     "output_type": "stream",
     "text": [
      "\r",
      "Downloading mixing_elbow.wbpz:  64%|██████▍   | 6.38M/9.98M [01:42<00:58, 64.9kB/s]"
     ]
    },
    {
     "name": "stderr",
     "output_type": "stream",
     "text": [
      "\r",
      "Downloading mixing_elbow.wbpz:  64%|██████▍   | 6.44M/9.98M [01:43<00:57, 64.8kB/s]"
     ]
    },
    {
     "name": "stderr",
     "output_type": "stream",
     "text": [
      "\r",
      "Downloading mixing_elbow.wbpz:  65%|██████▌   | 6.50M/9.98M [01:44<00:56, 64.5kB/s]"
     ]
    },
    {
     "name": "stderr",
     "output_type": "stream",
     "text": [
      "\r",
      "Downloading mixing_elbow.wbpz:  66%|██████▌   | 6.56M/9.98M [01:45<00:55, 64.6kB/s]"
     ]
    },
    {
     "name": "stderr",
     "output_type": "stream",
     "text": [
      "\r",
      "Downloading mixing_elbow.wbpz:  66%|██████▋   | 6.62M/9.98M [01:46<00:54, 64.9kB/s]"
     ]
    },
    {
     "name": "stderr",
     "output_type": "stream",
     "text": [
      "\r",
      "Downloading mixing_elbow.wbpz:  67%|██████▋   | 6.69M/9.98M [01:47<00:53, 64.8kB/s]"
     ]
    },
    {
     "name": "stderr",
     "output_type": "stream",
     "text": [
      "\r",
      "Downloading mixing_elbow.wbpz:  68%|██████▊   | 6.75M/9.98M [01:48<00:52, 64.8kB/s]"
     ]
    },
    {
     "name": "stderr",
     "output_type": "stream",
     "text": [
      "\r",
      "Downloading mixing_elbow.wbpz:  68%|██████▊   | 6.81M/9.98M [01:49<00:51, 64.7kB/s]"
     ]
    },
    {
     "name": "stderr",
     "output_type": "stream",
     "text": [
      "\r",
      "Downloading mixing_elbow.wbpz:  69%|██████▉   | 6.88M/9.98M [01:50<00:50, 64.7kB/s]"
     ]
    },
    {
     "name": "stderr",
     "output_type": "stream",
     "text": [
      "\r",
      "Downloading mixing_elbow.wbpz:  69%|██████▉   | 6.94M/9.98M [01:51<00:49, 64.9kB/s]"
     ]
    },
    {
     "name": "stderr",
     "output_type": "stream",
     "text": [
      "\r",
      "Downloading mixing_elbow.wbpz:  70%|███████   | 7.00M/9.98M [01:52<00:48, 64.5kB/s]"
     ]
    },
    {
     "name": "stderr",
     "output_type": "stream",
     "text": [
      "\r",
      "Downloading mixing_elbow.wbpz:  71%|███████   | 7.06M/9.98M [01:53<00:47, 64.9kB/s]"
     ]
    },
    {
     "name": "stderr",
     "output_type": "stream",
     "text": [
      "\r",
      "Downloading mixing_elbow.wbpz:  71%|███████▏  | 7.12M/9.98M [01:54<00:46, 64.8kB/s]"
     ]
    },
    {
     "name": "stderr",
     "output_type": "stream",
     "text": [
      "\r",
      "Downloading mixing_elbow.wbpz:  72%|███████▏  | 7.19M/9.98M [01:55<00:45, 64.7kB/s]"
     ]
    },
    {
     "name": "stderr",
     "output_type": "stream",
     "text": [
      "\r",
      "Downloading mixing_elbow.wbpz:  73%|███████▎  | 7.25M/9.98M [01:56<00:44, 64.7kB/s]"
     ]
    },
    {
     "name": "stderr",
     "output_type": "stream",
     "text": [
      "\r",
      "Downloading mixing_elbow.wbpz:  73%|███████▎  | 7.31M/9.98M [01:57<00:43, 64.6kB/s]"
     ]
    },
    {
     "name": "stderr",
     "output_type": "stream",
     "text": [
      "\r",
      "Downloading mixing_elbow.wbpz:  74%|███████▍  | 7.38M/9.98M [01:58<00:42, 64.7kB/s]"
     ]
    },
    {
     "name": "stderr",
     "output_type": "stream",
     "text": [
      "\r",
      "Downloading mixing_elbow.wbpz:  75%|███████▍  | 7.44M/9.98M [01:59<00:41, 65.0kB/s]"
     ]
    },
    {
     "name": "stderr",
     "output_type": "stream",
     "text": [
      "\r",
      "Downloading mixing_elbow.wbpz:  75%|███████▌  | 7.50M/9.98M [02:00<00:40, 64.9kB/s]"
     ]
    },
    {
     "name": "stderr",
     "output_type": "stream",
     "text": [
      "\r",
      "Downloading mixing_elbow.wbpz:  76%|███████▌  | 7.56M/9.98M [02:01<00:39, 64.8kB/s]"
     ]
    },
    {
     "name": "stderr",
     "output_type": "stream",
     "text": [
      "\r",
      "Downloading mixing_elbow.wbpz:  76%|███████▋  | 7.62M/9.98M [02:02<00:38, 64.9kB/s]"
     ]
    },
    {
     "name": "stderr",
     "output_type": "stream",
     "text": [
      "\r",
      "Downloading mixing_elbow.wbpz:  77%|███████▋  | 7.69M/9.98M [02:03<00:37, 64.8kB/s]"
     ]
    },
    {
     "name": "stderr",
     "output_type": "stream",
     "text": [
      "\r",
      "Downloading mixing_elbow.wbpz:  78%|███████▊  | 7.75M/9.98M [02:04<00:35, 65.2kB/s]"
     ]
    },
    {
     "name": "stderr",
     "output_type": "stream",
     "text": [
      "\r",
      "Downloading mixing_elbow.wbpz:  78%|███████▊  | 7.81M/9.98M [02:05<00:35, 64.8kB/s]"
     ]
    },
    {
     "name": "stderr",
     "output_type": "stream",
     "text": [
      "\r",
      "Downloading mixing_elbow.wbpz:  79%|███████▉  | 7.88M/9.98M [02:06<00:33, 65.1kB/s]"
     ]
    },
    {
     "name": "stderr",
     "output_type": "stream",
     "text": [
      "\r",
      "Downloading mixing_elbow.wbpz:  80%|███████▉  | 7.94M/9.98M [02:07<00:33, 64.9kB/s]"
     ]
    },
    {
     "name": "stderr",
     "output_type": "stream",
     "text": [
      "\r",
      "Downloading mixing_elbow.wbpz:  80%|████████  | 8.00M/9.98M [02:08<00:31, 65.0kB/s]"
     ]
    },
    {
     "name": "stderr",
     "output_type": "stream",
     "text": [
      "\r",
      "Downloading mixing_elbow.wbpz:  81%|████████  | 8.06M/9.98M [02:09<00:31, 64.9kB/s]"
     ]
    },
    {
     "name": "stderr",
     "output_type": "stream",
     "text": [
      "\r",
      "Downloading mixing_elbow.wbpz:  81%|████████▏ | 8.12M/9.98M [02:10<00:30, 64.9kB/s]"
     ]
    },
    {
     "name": "stderr",
     "output_type": "stream",
     "text": [
      "\r",
      "Downloading mixing_elbow.wbpz:  82%|████████▏ | 8.19M/9.98M [02:11<00:29, 64.8kB/s]"
     ]
    },
    {
     "name": "stderr",
     "output_type": "stream",
     "text": [
      "\r",
      "Downloading mixing_elbow.wbpz:  83%|████████▎ | 8.25M/9.98M [02:12<00:28, 64.8kB/s]"
     ]
    },
    {
     "name": "stderr",
     "output_type": "stream",
     "text": [
      "\r",
      "Downloading mixing_elbow.wbpz:  83%|████████▎ | 8.31M/9.98M [02:13<00:27, 64.5kB/s]"
     ]
    },
    {
     "name": "stderr",
     "output_type": "stream",
     "text": [
      "\r",
      "Downloading mixing_elbow.wbpz:  84%|████████▍ | 8.38M/9.98M [02:14<00:25, 64.8kB/s]"
     ]
    },
    {
     "name": "stderr",
     "output_type": "stream",
     "text": [
      "\r",
      "Downloading mixing_elbow.wbpz:  85%|████████▍ | 8.44M/9.98M [02:15<00:25, 64.8kB/s]"
     ]
    },
    {
     "name": "stderr",
     "output_type": "stream",
     "text": [
      "\r",
      "Downloading mixing_elbow.wbpz:  85%|████████▌ | 8.50M/9.98M [02:16<00:24, 64.8kB/s]"
     ]
    },
    {
     "name": "stderr",
     "output_type": "stream",
     "text": [
      "\r",
      "Downloading mixing_elbow.wbpz:  86%|████████▌ | 8.56M/9.98M [02:17<00:23, 64.7kB/s]"
     ]
    },
    {
     "name": "stderr",
     "output_type": "stream",
     "text": [
      "\r",
      "Downloading mixing_elbow.wbpz:  86%|████████▋ | 8.62M/9.98M [02:18<00:22, 64.6kB/s]"
     ]
    },
    {
     "name": "stderr",
     "output_type": "stream",
     "text": [
      "\r",
      "Downloading mixing_elbow.wbpz:  87%|████████▋ | 8.69M/9.98M [02:19<00:20, 64.7kB/s]"
     ]
    },
    {
     "name": "stderr",
     "output_type": "stream",
     "text": [
      "\r",
      "Downloading mixing_elbow.wbpz:  88%|████████▊ | 8.75M/9.98M [02:20<00:19, 64.9kB/s]"
     ]
    },
    {
     "name": "stderr",
     "output_type": "stream",
     "text": [
      "\r",
      "Downloading mixing_elbow.wbpz:  88%|████████▊ | 8.81M/9.98M [02:21<00:18, 64.8kB/s]"
     ]
    },
    {
     "name": "stderr",
     "output_type": "stream",
     "text": [
      "\r",
      "Downloading mixing_elbow.wbpz:  89%|████████▉ | 8.88M/9.98M [02:22<00:17, 64.7kB/s]"
     ]
    },
    {
     "name": "stderr",
     "output_type": "stream",
     "text": [
      "\r",
      "Downloading mixing_elbow.wbpz:  90%|████████▉ | 8.94M/9.98M [02:23<00:16, 64.8kB/s]"
     ]
    },
    {
     "name": "stderr",
     "output_type": "stream",
     "text": [
      "\r",
      "Downloading mixing_elbow.wbpz:  90%|█████████ | 9.00M/9.98M [02:24<00:15, 64.7kB/s]"
     ]
    },
    {
     "name": "stderr",
     "output_type": "stream",
     "text": [
      "\r",
      "Downloading mixing_elbow.wbpz:  91%|█████████ | 9.06M/9.98M [02:25<00:14, 64.7kB/s]"
     ]
    },
    {
     "name": "stderr",
     "output_type": "stream",
     "text": [
      "\r",
      "Downloading mixing_elbow.wbpz:  91%|█████████▏| 9.12M/9.98M [02:26<00:13, 64.7kB/s]"
     ]
    },
    {
     "name": "stderr",
     "output_type": "stream",
     "text": [
      "\r",
      "Downloading mixing_elbow.wbpz:  92%|█████████▏| 9.19M/9.98M [02:27<00:12, 64.7kB/s]"
     ]
    },
    {
     "name": "stderr",
     "output_type": "stream",
     "text": [
      "\r",
      "Downloading mixing_elbow.wbpz:  93%|█████████▎| 9.25M/9.98M [02:28<00:11, 64.7kB/s]"
     ]
    },
    {
     "name": "stderr",
     "output_type": "stream",
     "text": [
      "\r",
      "Downloading mixing_elbow.wbpz:  93%|█████████▎| 9.31M/9.98M [02:29<00:10, 64.6kB/s]"
     ]
    },
    {
     "name": "stderr",
     "output_type": "stream",
     "text": [
      "\r",
      "Downloading mixing_elbow.wbpz:  94%|█████████▍| 9.38M/9.98M [02:30<00:09, 64.6kB/s]"
     ]
    },
    {
     "name": "stderr",
     "output_type": "stream",
     "text": [
      "\r",
      "Downloading mixing_elbow.wbpz:  95%|█████████▍| 9.44M/9.98M [02:31<00:08, 64.6kB/s]"
     ]
    },
    {
     "name": "stderr",
     "output_type": "stream",
     "text": [
      "\r",
      "Downloading mixing_elbow.wbpz:  95%|█████████▌| 9.50M/9.98M [02:32<00:07, 64.4kB/s]"
     ]
    },
    {
     "name": "stderr",
     "output_type": "stream",
     "text": [
      "\r",
      "Downloading mixing_elbow.wbpz:  96%|█████████▌| 9.56M/9.98M [02:33<00:06, 64.5kB/s]"
     ]
    },
    {
     "name": "stderr",
     "output_type": "stream",
     "text": [
      "\r",
      "Downloading mixing_elbow.wbpz:  96%|█████████▋| 9.62M/9.98M [02:34<00:05, 65.0kB/s]"
     ]
    },
    {
     "name": "stderr",
     "output_type": "stream",
     "text": [
      "\r",
      "Downloading mixing_elbow.wbpz:  97%|█████████▋| 9.69M/9.98M [02:35<00:04, 64.8kB/s]"
     ]
    },
    {
     "name": "stderr",
     "output_type": "stream",
     "text": [
      "\r",
      "Downloading mixing_elbow.wbpz:  98%|█████████▊| 9.75M/9.98M [02:36<00:03, 65.0kB/s]"
     ]
    },
    {
     "name": "stderr",
     "output_type": "stream",
     "text": [
      "\r",
      "Downloading mixing_elbow.wbpz:  98%|█████████▊| 9.81M/9.98M [02:37<00:02, 64.9kB/s]"
     ]
    },
    {
     "name": "stderr",
     "output_type": "stream",
     "text": [
      "\r",
      "Downloading mixing_elbow.wbpz:  99%|█████████▉| 9.88M/9.98M [02:38<00:01, 64.9kB/s]"
     ]
    },
    {
     "name": "stderr",
     "output_type": "stream",
     "text": [
      "\r",
      "Downloading mixing_elbow.wbpz: 100%|█████████▉| 9.94M/9.98M [02:39<00:00, 64.8kB/s]"
     ]
    },
    {
     "name": "stderr",
     "output_type": "stream",
     "text": [
      "\r",
      "Downloading mixing_elbow.wbpz: 100%|██████████| 9.98M/9.98M [02:40<00:00, 59.6kB/s]"
     ]
    },
    {
     "name": "stderr",
     "output_type": "stream",
     "text": [
      "\r",
      "Downloading mixing_elbow.wbpz: 100%|██████████| 9.98M/9.98M [02:41<00:00, 64.7kB/s]"
     ]
    },
    {
     "name": "stderr",
     "output_type": "stream",
     "text": [
      "\n"
     ]
    },
    {
     "data": {
      "text/plain": [
       "'mixing_elbow.wbpz'"
      ]
     },
     "execution_count": 27,
     "metadata": {},
     "output_type": "execute_result"
    }
   ],
   "source": [
    "wb.download_file(\"mixing_elbow.wbpz\")"
   ]
  },
  {
   "cell_type": "markdown",
   "id": "409e5346",
   "metadata": {},
   "source": [
    "## Exit Workbench Session."
   ]
  },
  {
   "cell_type": "code",
   "execution_count": 28,
   "id": "c6663641",
   "metadata": {
    "execution": {
     "iopub.execute_input": "2025-10-07T21:02:11.738928Z",
     "iopub.status.busy": "2025-10-07T21:02:11.738928Z",
     "iopub.status.idle": "2025-10-07T21:02:25.003518Z",
     "shell.execute_reply": "2025-10-07T21:02:25.003518Z"
    }
   },
   "outputs": [],
   "source": [
    "wb.exit()"
   ]
  }
 ],
 "metadata": {
  "jupytext": {
   "cell_metadata_filter": "-all",
   "main_language": "python",
   "notebook_metadata_filter": "-all",
   "text_representation": {
    "extension": ".py",
    "format_name": "light"
   }
  },
  "language_info": {
   "codemirror_mode": {
    "name": "ipython",
    "version": 3
   },
   "file_extension": ".py",
   "mimetype": "text/x-python",
   "name": "python",
   "nbconvert_exporter": "python",
   "pygments_lexer": "ipython3",
   "version": "3.11.9"
  }
 },
 "nbformat": 4,
 "nbformat_minor": 5
}
