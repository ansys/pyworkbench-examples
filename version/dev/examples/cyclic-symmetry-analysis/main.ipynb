{
 "cells": [
  {
   "cell_type": "markdown",
   "id": "0e07bb2b",
   "metadata": {},
   "source": [
    "# Cyclic symmetry analysis"
   ]
  },
  {
   "cell_type": "markdown",
   "id": "f21e9c03",
   "metadata": {},
   "source": [
    "This notebook demonstrates how to use the Workbench client to manage projects on a remote host, run scripts, and handle output files.\n",
    "It covers launching services, uploading files, executing scripts, and visualizing results using PyMechanical."
   ]
  },
  {
   "cell_type": "code",
   "execution_count": 1,
   "id": "86c5fddc",
   "metadata": {
    "execution": {
     "iopub.execute_input": "2025-10-07T20:42:21.368466Z",
     "iopub.status.busy": "2025-10-07T20:42:21.368466Z",
     "iopub.status.idle": "2025-10-07T20:42:21.385363Z",
     "shell.execute_reply": "2025-10-07T20:42:21.385363Z"
    }
   },
   "outputs": [],
   "source": [
    "import os\n",
    "import pathlib"
   ]
  },
  {
   "cell_type": "code",
   "execution_count": 2,
   "id": "13510968",
   "metadata": {
    "execution": {
     "iopub.execute_input": "2025-10-07T20:42:21.385363Z",
     "iopub.status.busy": "2025-10-07T20:42:21.385363Z",
     "iopub.status.idle": "2025-10-07T20:42:21.641503Z",
     "shell.execute_reply": "2025-10-07T20:42:21.641503Z"
    }
   },
   "outputs": [],
   "source": [
    "from ansys.workbench.core import launch_workbench\n",
    "from ansys.mechanical.core import connect_to_mechanical"
   ]
  },
  {
   "cell_type": "markdown",
   "id": "6d0b1d34",
   "metadata": {},
   "source": [
    "Launch the Workbench service on a remote host machine, specifying the remote host machine name and user login credentials.\n",
    "Define several directories that will be used during the session.\n",
    "`workdir` is set to the parent directory of the current file.\n",
    "`assets`, `scripts`, and `cdb` are subdirectories within the working directory.\n",
    "The `launch_workbench` function is called to start a Workbench session with specified directory."
   ]
  },
  {
   "cell_type": "code",
   "execution_count": 3,
   "id": "532cdc1e",
   "metadata": {
    "execution": {
     "iopub.execute_input": "2025-10-07T20:42:21.641503Z",
     "iopub.status.busy": "2025-10-07T20:42:21.641503Z",
     "iopub.status.idle": "2025-10-07T20:42:21.649370Z",
     "shell.execute_reply": "2025-10-07T20:42:21.649370Z"
    }
   },
   "outputs": [],
   "source": [
    "workdir = pathlib.Path(\"__file__\").parent"
   ]
  },
  {
   "cell_type": "code",
   "execution_count": 4,
   "id": "e069b5a8",
   "metadata": {
    "execution": {
     "iopub.execute_input": "2025-10-07T20:42:21.649370Z",
     "iopub.status.busy": "2025-10-07T20:42:21.649370Z",
     "iopub.status.idle": "2025-10-07T20:42:21.656183Z",
     "shell.execute_reply": "2025-10-07T20:42:21.656183Z"
    }
   },
   "outputs": [],
   "source": [
    "assets = workdir / \"assets\"\n",
    "scripts = workdir / \"scripts\""
   ]
  },
  {
   "cell_type": "code",
   "execution_count": 5,
   "id": "70899e25",
   "metadata": {
    "execution": {
     "iopub.execute_input": "2025-10-07T20:42:21.656183Z",
     "iopub.status.busy": "2025-10-07T20:42:21.656183Z",
     "iopub.status.idle": "2025-10-07T20:42:55.320928Z",
     "shell.execute_reply": "2025-10-07T20:42:55.320928Z"
    }
   },
   "outputs": [],
   "source": [
    "wb = launch_workbench(client_workdir=str(workdir.absolute()))"
   ]
  },
  {
   "cell_type": "markdown",
   "id": "74aaaf4c",
   "metadata": {},
   "source": [
    "Upload the project files to the server using the `upload_file_from_example_repo` method.\n",
    "The file to upload is `sector_model.cdb`."
   ]
  },
  {
   "cell_type": "code",
   "execution_count": 6,
   "id": "ef97910e",
   "metadata": {
    "execution": {
     "iopub.execute_input": "2025-10-07T20:42:55.320928Z",
     "iopub.status.busy": "2025-10-07T20:42:55.320928Z",
     "iopub.status.idle": "2025-10-07T20:42:56.400570Z",
     "shell.execute_reply": "2025-10-07T20:42:56.399558Z"
    }
   },
   "outputs": [
    {
     "name": "stderr",
     "output_type": "stream",
     "text": [
      "\r",
      "Uploading sector_model.cdb:   0%|          | 0.00/7.86M [00:00<?, ?B/s]"
     ]
    },
    {
     "name": "stderr",
     "output_type": "stream",
     "text": [
      "\r",
      "Uploading sector_model.cdb: 100%|██████████| 7.86M/7.86M [00:00<00:00, 87.0MB/s]"
     ]
    },
    {
     "name": "stderr",
     "output_type": "stream",
     "text": [
      "\n"
     ]
    }
   ],
   "source": [
    "wb.upload_file_from_example_repo(\"cyclic-symmetry-analysis/cdb/sector_model.cdb\")"
   ]
  },
  {
   "cell_type": "markdown",
   "id": "bfe035cd",
   "metadata": {},
   "source": [
    "Execute a Workbench script (`project.wbjn`) to define the project and load the geometry using the `run_script_file` method.\n",
    "The `set_log_file` method is used to direct the logs to `wb_log_file.log`.\n",
    "The name of the system created is stored in `sys_name` and printed."
   ]
  },
  {
   "cell_type": "code",
   "execution_count": 7,
   "id": "ca6a3c42",
   "metadata": {
    "execution": {
     "iopub.execute_input": "2025-10-07T20:42:56.400570Z",
     "iopub.status.busy": "2025-10-07T20:42:56.400570Z",
     "iopub.status.idle": "2025-10-07T20:43:26.749316Z",
     "shell.execute_reply": "2025-10-07T20:43:26.749316Z"
    }
   },
   "outputs": [
    {
     "name": "stdout",
     "output_type": "stream",
     "text": [
      "SYS 1\n"
     ]
    }
   ],
   "source": [
    "export_path = 'wb_log_file.log'\n",
    "wb.set_log_file(export_path)\n",
    "sys_name = wb.run_script_file(str((assets / \"project.wbjn\").absolute()), log_level='info')\n",
    "print(sys_name)"
   ]
  },
  {
   "cell_type": "markdown",
   "id": "8a912b6c",
   "metadata": {},
   "source": [
    "Start a PyMechanical server for the system using the `start_mechanical_server` method.\n",
    "Create a PyMechanical client session connected to this server using `connect_to_mechanical`.\n",
    "The project directory is printed to verify the connection."
   ]
  },
  {
   "cell_type": "code",
   "execution_count": 8,
   "id": "3f4a620b",
   "metadata": {
    "execution": {
     "iopub.execute_input": "2025-10-07T20:43:26.753000Z",
     "iopub.status.busy": "2025-10-07T20:43:26.753000Z",
     "iopub.status.idle": "2025-10-07T20:43:49.723689Z",
     "shell.execute_reply": "2025-10-07T20:43:49.722251Z"
    }
   },
   "outputs": [],
   "source": [
    "server_port = wb.start_mechanical_server(system_name=sys_name)"
   ]
  },
  {
   "cell_type": "code",
   "execution_count": 9,
   "id": "c8251548",
   "metadata": {
    "execution": {
     "iopub.execute_input": "2025-10-07T20:43:49.727690Z",
     "iopub.status.busy": "2025-10-07T20:43:49.726679Z",
     "iopub.status.idle": "2025-10-07T20:43:49.799195Z",
     "shell.execute_reply": "2025-10-07T20:43:49.798183Z"
    }
   },
   "outputs": [],
   "source": [
    "mechanical = connect_to_mechanical(ip='localhost', port=server_port)"
   ]
  },
  {
   "cell_type": "code",
   "execution_count": 10,
   "id": "3bb5f73b",
   "metadata": {
    "execution": {
     "iopub.execute_input": "2025-10-07T20:43:49.802192Z",
     "iopub.status.busy": "2025-10-07T20:43:49.802192Z",
     "iopub.status.idle": "2025-10-07T20:43:49.811055Z",
     "shell.execute_reply": "2025-10-07T20:43:49.810045Z"
    }
   },
   "outputs": [
    {
     "name": "stdout",
     "output_type": "stream",
     "text": [
      "C:\\Users\\ansys\\AppData\\Local\\Temp\\WB_ansys_9228_2\\wbnew_files\\\n"
     ]
    }
   ],
   "source": [
    "print(mechanical.project_directory)"
   ]
  },
  {
   "cell_type": "markdown",
   "id": "624583a9",
   "metadata": {},
   "source": [
    "Read and execute the script `cyclic_symmetry_analysis.py` via the PyMechanical client using `run_python_script`.\n",
    "This script typically contains commands to mesh and solve the model.\n",
    "The output of the script is printed."
   ]
  },
  {
   "cell_type": "code",
   "execution_count": 11,
   "id": "268b345e",
   "metadata": {
    "execution": {
     "iopub.execute_input": "2025-10-07T20:43:49.814054Z",
     "iopub.status.busy": "2025-10-07T20:43:49.813057Z",
     "iopub.status.idle": "2025-10-07T20:52:59.969143Z",
     "shell.execute_reply": "2025-10-07T20:52:59.968635Z"
    }
   },
   "outputs": [
    {
     "name": "stdout",
     "output_type": "stream",
     "text": [
      "{\"Total Deformation\": \"5.202362674608513 [mm]\", \"Total Deformation 2\": \"2.182211520602412 [mm]\"}\n"
     ]
    }
   ],
   "source": [
    "with open(scripts / \"cyclic_symmetry_analysis.py\") as sf:\n",
    "    mech_script = sf.read()\n",
    "mech_output = mechanical.run_python_script(mech_script)\n",
    "print(mech_output)"
   ]
  },
  {
   "cell_type": "markdown",
   "id": "e614c528",
   "metadata": {},
   "source": [
    "Specify the Mechanical directory and run a script to fetch the working directory path.\n",
    "The path where all solver files are stored on the server is printed.\n",
    "Download the solver output file (`solve.out`) from the server to the client's current working directory and print its contents."
   ]
  },
  {
   "cell_type": "code",
   "execution_count": 12,
   "id": "b8b06e46",
   "metadata": {
    "execution": {
     "iopub.execute_input": "2025-10-07T20:52:59.973156Z",
     "iopub.status.busy": "2025-10-07T20:52:59.972155Z",
     "iopub.status.idle": "2025-10-07T20:52:59.999061Z",
     "shell.execute_reply": "2025-10-07T20:52:59.999061Z"
    }
   },
   "outputs": [
    {
     "name": "stdout",
     "output_type": "stream",
     "text": [
      "All solver files are stored on the server at: C:\\Users\\ansys\\AppData\\Local\\Temp\\WB_ansys_9228_2\\wbnew_files\\dp0\\SYS-6\\MECH\\\n"
     ]
    }
   ],
   "source": [
    "mechanical.run_python_script(f\"solve_dir=ExtAPI.DataModel.AnalysisList[5].WorkingDir\")\n",
    "result_solve_dir_server = mechanical.run_python_script(f\"solve_dir\")\n",
    "print(f\"All solver files are stored on the server at: {result_solve_dir_server}\")"
   ]
  },
  {
   "cell_type": "code",
   "execution_count": 13,
   "id": "62772478",
   "metadata": {
    "execution": {
     "iopub.execute_input": "2025-10-07T20:53:00.003102Z",
     "iopub.status.busy": "2025-10-07T20:53:00.002067Z",
     "iopub.status.idle": "2025-10-07T20:53:00.007469Z",
     "shell.execute_reply": "2025-10-07T20:53:00.006462Z"
    },
    "lines_to_next_cell": 1
   },
   "outputs": [],
   "source": [
    "solve_out_path = os.path.join(result_solve_dir_server, \"solve.out\")"
   ]
  },
  {
   "cell_type": "code",
   "execution_count": 14,
   "id": "98a54e4b",
   "metadata": {
    "execution": {
     "iopub.execute_input": "2025-10-07T20:53:00.010484Z",
     "iopub.status.busy": "2025-10-07T20:53:00.009469Z",
     "iopub.status.idle": "2025-10-07T20:53:00.016443Z",
     "shell.execute_reply": "2025-10-07T20:53:00.015434Z"
    },
    "lines_to_next_cell": 1
   },
   "outputs": [],
   "source": [
    "def write_file_contents_to_console(path):\n",
    "    \"\"\"Write file contents to console.\"\"\"\n",
    "    with open(path, \"rt\") as file:\n",
    "        for line in file:\n",
    "            print(line, end=\"\")"
   ]
  },
  {
   "cell_type": "code",
   "execution_count": 15,
   "id": "0b46f0f9",
   "metadata": {
    "execution": {
     "iopub.execute_input": "2025-10-07T20:53:00.019444Z",
     "iopub.status.busy": "2025-10-07T20:53:00.019444Z",
     "iopub.status.idle": "2025-10-07T20:53:00.185953Z",
     "shell.execute_reply": "2025-10-07T20:53:00.185446Z"
    }
   },
   "outputs": [
    {
     "name": "stderr",
     "output_type": "stream",
     "text": [
      "\r",
      "Downloading dns:///127.0.0.1:54031:C:\\Users\\ansys\\AppData\\Local\\Temp\\WB_ansys_9228_2\\wbnew_files\\dp0\\SYS-6\\MECH\\solve.out to C:\\Users\\ansys\\actions-runner\\_work\\pyworkbench-examples\\pyworkbench-examples\\pyworkbench-examples\\doc\\source\\examples\\cyclic-symmetry-analysis\\solve.out:   0%|          | 0.00/50.3k [00:00<?, ?B/s]"
     ]
    },
    {
     "name": "stderr",
     "output_type": "stream",
     "text": [
      "\r",
      "Downloading dns:///127.0.0.1:54031:C:\\Users\\ansys\\AppData\\Local\\Temp\\WB_ansys_9228_2\\wbnew_files\\dp0\\SYS-6\\MECH\\solve.out to C:\\Users\\ansys\\actions-runner\\_work\\pyworkbench-examples\\pyworkbench-examples\\pyworkbench-examples\\doc\\source\\examples\\cyclic-symmetry-analysis\\solve.out: 100%|██████████| 50.3k/50.3k [00:00<00:00, 51.4MB/s]"
     ]
    },
    {
     "name": "stdout",
     "output_type": "stream",
     "text": [
      "\n",
      " Ansys Mechanical Enterprise                       \n",
      "\n",
      "\n",
      " *------------------------------------------------------------------*\n",
      " |                                                                  |\n",
      " |   W E L C O M E   T O   T H E   A N S Y S (R)  P R O G R A M     |\n",
      " |                                                                  |\n",
      " *------------------------------------------------------------------*\n",
      "\n",
      "\n",
      "\n",
      "\n",
      " ***************************************************************\n",
      " *         ANSYS MAPDL 2024 R2          LEGAL NOTICES          *\n",
      " ***************************************************************\n",
      " *                                                             *\n",
      " * Copyright 1971-2024 Ansys, Inc.  All rights reserved.       *\n",
      " * Unauthorized use, distribution or duplication is            *\n",
      " * prohibited.                                                 *\n",
      " *                                                             *\n",
      " * Ansys is a registered trademark of Ansys, Inc. or its       *\n",
      " * subsidiaries in the United States or other countries.       *\n",
      " * See the Ansys, Inc. online documentation or the Ansys, Inc. *\n",
      " * documentation CD or online help for the complete Legal      *\n",
      " * Notice.                                                     *\n",
      " *                                                             *\n",
      " ***************************************************************\n",
      " *                                                             *\n",
      " * THIS ANSYS SOFTWARE PRODUCT AND PROGRAM DOCUMENTATION       *\n",
      " * INCLUDE TRADE SECRETS AND CONFIDENTIAL AND PROPRIETARY      *\n",
      " * PRODUCTS OF ANSYS, INC., ITS SUBSIDIARIES, OR LICENSORS.    *\n",
      " * The software products and documentation are furnished by    *\n",
      " * Ansys, Inc. or its subsidiaries under a software license    *\n",
      " * agreement that contains provisions concerning               *\n",
      " * non-disclosure, copying, length and nature of use,          *\n",
      " * compliance with exporting laws, warranties, disclaimers,    *\n",
      " * limitations of liability, and remedies, and other           *\n",
      " * provisions.  The software products and documentation may be *\n",
      " * used, disclosed, transferred, or copied only in accordance  *\n",
      " * with the terms and conditions of that software license      *\n",
      " * agreement.                                                  *\n",
      " *                                                             *\n",
      " * Ansys, Inc. is a UL registered                              *\n",
      " * ISO 9001:2015 company.                                      *\n",
      " *                                                             *\n",
      " ***************************************************************\n",
      " *                                                             *\n",
      " * This product is subject to U.S. laws governing export and   *\n",
      " * re-export.                                                  *\n",
      " *                                                             *\n",
      " * For U.S. Government users, except as specifically granted   *\n",
      " * by the Ansys, Inc. software license agreement, the use,     *\n",
      " * duplication, or disclosure by the United States Government  *\n",
      " * is subject to restrictions stated in the Ansys, Inc.        *\n",
      " * software license agreement and FAR 12.212 (for non-DOD      *\n",
      " * licenses).                                                  *\n",
      " *                                                             *\n",
      " ***************************************************************\n",
      "\n",
      " 2024 R2 \n",
      "     \n",
      " Point Releases and Patches installed:   \n",
      "     \n",
      " Ansys Service Pack 2024 R2.01   \n",
      " Ansys Service Pack 2024 R2.02   \n",
      " Ansys Service Pack 2024 R2.03   \n",
      " Ansys, Inc. License Manager 2024 R2 \n",
      " Ansys, Inc. License Manager 2024 R2.01  \n",
      " Ansys, Inc. License Manager 2024 R2.02  \n",
      " Ansys, Inc. License Manager 2024 R2.03  \n",
      " Discovery 2024 R2   \n",
      " Discovery 2024 R2.01\n",
      " Discovery 2024 R2.02\n",
      " Discovery 2024 R2.03\n",
      " Core WB Files 2024 R2   \n",
      " Core WB Files 2024 R2.01\n",
      " Core WB Files 2024 R2.02\n",
      " Core WB Files 2024 R2.03\n",
      " SpaceClaim 2024 R2  \n",
      " SpaceClaim 2024 R2.01   \n",
      " SpaceClaim 2024 R2.02   \n",
      " SpaceClaim 2024 R2.03   \n",
      " Icepak (includes CFD-Post) 2024 R2  \n",
      " Icepak (includes CFD-Post) 2024 R2.01   \n",
      " Icepak (includes CFD-Post) 2024 R2.02   \n",
      " Icepak (includes CFD-Post) 2024 R2.03   \n",
      " CFD-Post only 2024 R2   \n",
      " CFD-Post only 2024 R2.01\n",
      " CFD-Post only 2024 R2.02\n",
      " CFD-Post only 2024 R2.03\n",
      " CFX (includes CFD-Post) 2024 R2 \n",
      " CFX (includes CFD-Post) 2024 R2.01  \n",
      " CFX (includes CFD-Post) 2024 R2.02  \n",
      " CFX (includes CFD-Post) 2024 R2.03  \n",
      " Chemkin 2024 R2 \n",
      " Chemkin 2024 R2.01  \n",
      " Chemkin 2024 R2.02  \n",
      " Chemkin 2024 R2.03  \n",
      " EnSight 2024 R2 \n",
      " EnSight 2024 R2.01  \n",
      " EnSight 2024 R2.02  \n",
      " EnSight 2024 R2.03  \n",
      " FENSAP-ICE 2024 R2  \n",
      " FENSAP-ICE 2024 R2.01   \n",
      " FENSAP-ICE 2024 R2.02   \n",
      " FENSAP-ICE 2024 R2.03   \n",
      " Fluent (includes CFD-Post) 2024 R2  \n",
      " Fluent (includes CFD-Post) 2024 R2.01   \n",
      " Fluent (includes CFD-Post) 2024 R2.02   \n",
      " Fluent (includes CFD-Post) 2024 R2.03   \n",
      " Polyflow (includes CFD-Post) 2024 R2\n",
      " Polyflow (includes CFD-Post) 2024 R2.01 \n",
      " Polyflow (includes CFD-Post) 2024 R2.02 \n",
      " Polyflow (includes CFD-Post) 2024 R2.03 \n",
      " Forte (includes EnSight) 2024 R2\n",
      " Forte (includes EnSight) 2024 R2.01 \n",
      " Forte (includes EnSight) 2024 R2.02 \n",
      " Forte (includes EnSight) 2024 R2.03 \n",
      " ICEM CFD 2024 R2\n",
      " ICEM CFD 2024 R2.01 \n",
      " ICEM CFD 2024 R2.02 \n",
      " ICEM CFD 2024 R2.03 \n",
      " TurboGrid 2024 R2   \n",
      " TurboGrid 2024 R2.01\n",
      " TurboGrid 2024 R2.02\n",
      " TurboGrid 2024 R2.03\n",
      " Speos 2024 R2   \n",
      " Speos 2024 R2.01\n",
      " Speos 2024 R2.02\n",
      " Speos 2024 R2.03\n",
      " Speos HPC 2024 R2   \n",
      " Speos HPC 2024 R2.01\n",
      " Speos HPC 2024 R2.02\n",
      " Speos HPC 2024 R2.03\n",
      " optiSLang 2024 R2   \n",
      " optiSLang 2024 R2.01\n",
      " optiSLang 2024 R2.02\n",
      " optiSLang 2024 R2.03\n",
      " Remote Solve Manager Standalone Services 2024 R2\n",
      " Remote Solve Manager Standalone Services 2024 R2.01 \n",
      " Remote Solve Manager Standalone Services 2024 R2.02 \n",
      " Remote Solve Manager Standalone Services 2024 R2.03 \n",
      " Additive 2024 R2\n",
      " Additive 2024 R2.01 \n",
      " Additive 2024 R2.02 \n",
      " Additive 2024 R2.03 \n",
      " Aqwa 2024 R2\n",
      " Aqwa 2024 R2.01 \n",
      " Aqwa 2024 R2.02 \n",
      " Aqwa 2024 R2.03 \n",
      " Autodyn 2024 R2 \n",
      " Autodyn 2024 R2.01  \n",
      " Autodyn 2024 R2.02  \n",
      " Autodyn 2024 R2.03  \n",
      " Customization Files for User Programmable Features 2024 R2  \n",
      " Customization Files for User Programmable Features 2024 R2.01   \n",
      " Customization Files for User Programmable Features 2024 R2.02   \n",
      " Customization Files for User Programmable Features 2024 R2.03   \n",
      " LS-DYNA 2024 R2 \n",
      " LS-DYNA 2024 R2.01  \n",
      " LS-DYNA 2024 R2.02  \n",
      " LS-DYNA 2024 R2.03  \n",
      " Mechanical Products 2024 R2 \n",
      " Mechanical Products 2024 R2.01  \n",
      " Mechanical Products 2024 R2.02  \n",
      " Mechanical Products 2024 R2.03  \n",
      " Motion 2024 R2  \n",
      " Motion 2024 R2.01   \n",
      " Motion 2024 R2.02   \n",
      " Motion 2024 R2.03   \n",
      " Sherlock 2024 R2\n",
      " Sherlock 2024 R2.01 \n",
      " Sherlock 2024 R2.02 \n",
      " Sherlock 2024 R2.03 \n",
      " Sound - SAS 2024 R2 \n",
      " Sound - SAS 2024 R2.01  \n",
      " Sound - SAS 2024 R2.02  \n",
      " Sound - SAS 2024 R2.03  \n",
      " ACIS Geometry Interface 2024 R2 \n",
      " ACIS Geometry Interface 2024 R2.01  \n",
      " ACIS Geometry Interface 2024 R2.02  \n",
      " ACIS Geometry Interface 2024 R2.03  \n",
      " AutoCAD Geometry Interface 2024 R2  \n",
      " AutoCAD Geometry Interface 2024 R2.01   \n",
      " AutoCAD Geometry Interface 2024 R2.02   \n",
      " AutoCAD Geometry Interface 2024 R2.03   \n",
      " Catia, Version 4 Geometry Interface 2024 R2 \n",
      " Catia, Version 4 Geometry Interface 2024 R2.01  \n",
      " Catia, Version 4 Geometry Interface 2024 R2.02  \n",
      " Catia, Version 4 Geometry Interface 2024 R2.03  \n",
      " Catia, Version 5 Geometry Interface 2024 R2 \n",
      " Catia, Version 5 Geometry Interface 2024 R2.01  \n",
      " Catia, Version 5 Geometry Interface 2024 R2.02  \n",
      " Catia, Version 5 Geometry Interface 2024 R2.03  \n",
      " Catia, Version 6 Geometry Interface 2024 R2 \n",
      " Catia, Version 6 Geometry Interface 2024 R2.01  \n",
      " Catia, Version 6 Geometry Interface 2024 R2.02  \n",
      " Catia, Version 6 Geometry Interface 2024 R2.03  \n",
      " Creo Elements/Direct Modeling Geometry Interface 2024 R2\n",
      " Creo Elements/Direct Modeling Geometry Interface 2024 R2.01 \n",
      " Creo Elements/Direct Modeling Geometry Interface 2024 R2.02 \n",
      " Creo Elements/Direct Modeling Geometry Interface 2024 R2.03 \n",
      " Creo Parametric Geometry Interface 2024 R2  \n",
      " Creo Parametric Geometry Interface 2024 R2.01   \n",
      " Creo Parametric Geometry Interface 2024 R2.02   \n",
      " Creo Parametric Geometry Interface 2024 R2.03   \n",
      " Inventor Geometry Interface 2024 R2 \n",
      " Inventor Geometry Interface 2024 R2.01  \n",
      " Inventor Geometry Interface 2024 R2.02  \n",
      " Inventor Geometry Interface 2024 R2.03  \n",
      " JTOpen Geometry Interface 2024 R2   \n",
      " JTOpen Geometry Interface 2024 R2.01\n",
      " JTOpen Geometry Interface 2024 R2.02\n",
      " JTOpen Geometry Interface 2024 R2.03\n",
      " NX Geometry Interface 2024 R2   \n",
      " NX Geometry Interface 2024 R2.01\n",
      " NX Geometry Interface 2024 R2.02\n",
      " NX Geometry Interface 2024 R2.03\n",
      " Parasolid Geometry Interface  2024 R2   \n",
      " Parasolid Geometry Interface  2024 R2.01\n",
      " Parasolid Geometry Interface  2024 R2.02\n",
      " Parasolid Geometry Interface  2024 R2.03\n",
      " Solid Edge Geometry Interface 2024 R2   \n",
      " Solid Edge Geometry Interface 2024 R2.01\n",
      " Solid Edge Geometry Interface 2024 R2.02\n",
      " Solid Edge Geometry Interface 2024 R2.03\n",
      " SOLIDWORKS Geometry Interface 2024 R2   \n",
      " SOLIDWORKS Geometry Interface 2024 R2.01\n",
      " SOLIDWORKS Geometry Interface 2024 R2.02\n",
      " SOLIDWORKS Geometry Interface 2024 R2.03\n",
      "\n",
      "\n",
      "          *****  MAPDL COMMAND LINE ARGUMENTS  *****\n",
      "  BATCH MODE REQUESTED (-b)    = NOLIST\n",
      "  INPUT FILE COPY MODE (-c)    = COPY\n",
      "  DISTRIBUTED MEMORY PARALLEL REQUESTED\n",
      "       4 PARALLEL PROCESSES REQUESTED WITH SINGLE THREAD PER PROCESS\n",
      "    TOTAL OF     4 CORES REQUESTED\n",
      "  INPUT FILE NAME              = C:\\Users\\ansys\\AppData\\Local\\Temp\\WB_ansys_9228_2\\_ProjectScratch\\ScrE020\\dummy.dat\n",
      "  OUTPUT FILE NAME             = C:\\Users\\ansys\\AppData\\Local\\Temp\\WB_ansys_9228_2\\_ProjectScratch\\ScrE020\\solve.out\n",
      "  START-UP FILE MODE           = NOREAD\n",
      "  STOP FILE MODE               = NOREAD\n",
      "\n",
      " RELEASE= 2024 R2              BUILD= 24.2      UP20240603   VERSION=WINDOWS x64 \n",
      " CURRENT JOBNAME=file0  20:49:42  OCT 07, 2025 CP=      0.094\n",
      "\n",
      "\n",
      " PARAMETER _DS_PROGRESS =     999.0000000    \n",
      "\n",
      " /INPUT FILE= ds.dat  LINE=       0\n",
      "\n",
      "\n",
      "\n",
      " *** NOTE ***                            CP =       0.438   TIME= 20:49:42\n",
      " The /CONFIG,NOELDB command is not valid in a distributed memory         \n",
      " parallel solution.  Command is ignored.                                 \n",
      "\n",
      " *GET  _WALLSTRT  FROM  ACTI  ITEM=TIME WALL  VALUE=  20.8283333    \n",
      "\n",
      " TITLE= \n",
      " wbnew--Harmonic Response (G4)                                                 \n",
      "\n",
      "  ACT Extensions:\n",
      "      LSDYNA, 2024.2\n",
      "      5f463412-bd3e-484b-87e7-cbc0a665e474, wbex\n",
      " /COM,     ANSYSMotion, 2024.2\n",
      "      20180725-3f81-49eb-9f31-41364844c769, wbex\n",
      "  \n",
      "\n",
      " SET PARAMETER DIMENSIONS ON  _WB_PROJECTSCRATCH_DIR\n",
      "  TYPE=STRI  DIMENSIONS=      248        1        1\n",
      "\n",
      " PARAMETER _WB_PROJECTSCRATCH_DIR(1) = C:\\Users\\ansys\\AppData\\Local\\Temp\\WB_ansys_9228_2\\_ProjectScratch\\ScrE020\\\n",
      "\n",
      " SET PARAMETER DIMENSIONS ON  _WB_SOLVERFILES_DIR\n",
      "  TYPE=STRI  DIMENSIONS=      248        1        1\n",
      "\n",
      " PARAMETER _WB_SOLVERFILES_DIR(1) = C:\\Users\\ansys\\AppData\\Local\\Temp\\WB_ansys_9228_2\\wbnew_files\\dp0\\SYS-6\\MECH\\\n",
      "\n",
      " SET PARAMETER DIMENSIONS ON  _WB_USERFILES_DIR\n",
      "  TYPE=STRI  DIMENSIONS=      248        1        1\n",
      "\n",
      " PARAMETER _WB_USERFILES_DIR(1) = C:\\Users\\ansys\\AppData\\Local\\Temp\\WB_ansys_9228_2\\wbnew_files\\user_files\\\n",
      " --- Data in consistent NMM units. See Solving Units in the help system for more\n",
      "\n",
      " MPA UNITS SPECIFIED FOR INTERNAL    \n",
      "  LENGTH      = MILLIMETERS (mm)\n",
      "  MASS        = TONNE (Mg)\n",
      "  TIME        = SECONDS (sec)\n",
      "  TEMPERATURE = CELSIUS (C)\n",
      "  TOFFSET     = 273.0\n",
      "  FORCE       = NEWTON (N)\n",
      "  HEAT        = MILLIJOULES (mJ)\n",
      "\n",
      " INPUT  UNITS ARE ALSO SET TO MPA \n",
      "\n",
      " *** MAPDL - ENGINEERING ANALYSIS SYSTEM  RELEASE 2024 R2          24.2     ***\n",
      " Ansys Mechanical Enterprise                       \n",
      " 00000000  VERSION=WINDOWS x64   20:49:42  OCT 07, 2025 CP=      0.453\n",
      "\n",
      " wbnew--Harmonic Response (G4)                                                 \n",
      "\n",
      "\n",
      "\n",
      "          ***** MAPDL ANALYSIS DEFINITION (PREP7) *****\n",
      " *********** Nodes for the whole assembly ***********\n",
      " *********** Elements for Body 1 'Solid Body 1(External Model)' ***********\n",
      " *********** Elements for Body 2 'Solid Body 2(External Model)' ***********\n",
      " *********** Send User Defined Coordinate System(s) ***********\n",
      " *********** Set Reference Temperature ***********\n",
      " *********** Send Materials ***********\n",
      " *********** Create Contact \"Contacts(External Model) Index = 1\" ***********\n",
      "             Real Constant Set For Above Contact Is 4 & 3\n",
      " *********** Create Contact \"Contacts(External Model) Index = 2\" ***********\n",
      "             Real Constant Set For Above Contact Is 6 & 5\n",
      " *********** Send Named Selection as Node Component ***********\n",
      " *********** Send Named Selection as Node Component ***********\n",
      " *********** Send Named Selection as Node Component ***********\n",
      " *********** Send Named Selection as Element Component ***********\n",
      " *********** Send Named Selection as Node Component ***********\n",
      " *********** Define Pressure Using Surface Effect Elements \"Pressure\" **********\n",
      " *********** Create Pre-Meshed Cyclic Symmetry ***********\n",
      "\n",
      "\n",
      " ***** ROUTINE COMPLETED *****  CP =         2.562\n",
      "\n",
      "\n",
      " --- Number of total nodes = 40644\n",
      " --- Number of contact elements = 2930\n",
      " --- Number of spring elements = 0\n",
      " --- Number of bearing elements = 0\n",
      " --- Number of solid elements = 23239\n",
      " --- Number of condensed parts = 0\n",
      " --- Number of total elements = 26169\n",
      "\n",
      " *GET  _WALLBSOL  FROM  ACTI  ITEM=TIME WALL  VALUE=  20.8286111    \n",
      "\n",
      " *****  MAPDL SOLUTION ROUTINE  *****\n",
      "\n",
      "\n",
      " PERFORM A HARMONIC ANALYSIS\n",
      "  THIS WILL BE A NEW ANALYSIS\n",
      "\n",
      "\n",
      " PERFORM A FULL HARMONIC RESPONSE ANALYSIS\n",
      "\n",
      " THERMAL STRAINS ARE NOT INCLUDED IN THE LOAD VECTOR.\n",
      "\n",
      " STEP BOUNDARY CONDITION KEY= 1\n",
      "\n",
      " HARMONIC FREQUENCY RANGE - END=  5500.0      BEGIN=  1200.0    \n",
      "\n",
      " USE    20 SUBSTEP(S) THIS LOAD STEP FOR ALL  DEGREES OF FREEDOM\n",
      "\n",
      " STRUCTURAL DAMPING COEFFICIENT = 0.20000E-01\n",
      "\n",
      " ERASE THE CURRENT DATABASE OUTPUT CONTROL TABLE.\n",
      "\n",
      "\n",
      " WRITE ALL  ITEMS TO THE DATABASE WITH A FREQUENCY OF NONE\n",
      "   FOR ALL APPLICABLE ENTITIES\n",
      "\n",
      " WRITE NSOL ITEMS TO THE DATABASE WITH A FREQUENCY OF ALL \n",
      "   FOR ALL APPLICABLE ENTITIES\n",
      "\n",
      " WRITE EANG ITEMS TO THE DATABASE WITH A FREQUENCY OF ALL \n",
      "   FOR ALL APPLICABLE ENTITIES\n",
      "\n",
      " WRITE ETMP ITEMS TO THE DATABASE WITH A FREQUENCY OF ALL \n",
      "   FOR ALL APPLICABLE ENTITIES\n",
      "\n",
      " WRITE VENG ITEMS TO THE DATABASE WITH A FREQUENCY OF ALL \n",
      "   FOR ALL APPLICABLE ENTITIES\n",
      "\n",
      " WRITE STRS ITEMS TO THE DATABASE WITH A FREQUENCY OF ALL \n",
      "   FOR ALL APPLICABLE ENTITIES\n",
      "\n",
      " WRITE EPEL ITEMS TO THE DATABASE WITH A FREQUENCY OF ALL \n",
      "   FOR ALL APPLICABLE ENTITIES\n",
      "\n",
      " WRITE RSOL ITEMS TO THE DATABASE WITH A FREQUENCY OF ALL \n",
      "   FOR ALL APPLICABLE ENTITIES\n",
      "\n",
      " WRITE CONT ITEMS TO THE DATABASE WITH A FREQUENCY OF ALL \n",
      "   FOR ALL APPLICABLE ENTITIES\n",
      "\n",
      " *GET  ANSINTER_  FROM  ACTI  ITEM=INT        VALUE=  0.00000000    \n",
      "\n",
      " *IF  ANSINTER_  ( =   0.00000     )  NE  \n",
      "      0  ( =   0.00000     )  THEN    \n",
      "\n",
      " *ENDIF\n",
      "\n",
      " *** NOTE ***                            CP =       3.797   TIME= 20:49:43\n",
      " The automatic domain decomposition logic has selected the FREQ domain   \n",
      " decomposition method with 1 processes per frequency solution.           \n",
      "\n",
      " *** SELECTION OF ELEMENT TECHNOLOGIES FOR APPLICABLE ELEMENTS ***\n",
      "      --- GIVE SUGGESTIONS AND RESET THE KEY OPTIONS ---\n",
      "\n",
      " ELEMENT TYPE         1 IS SOLID187. IT IS NOT ASSOCIATED WITH FULLY INCOMPRESSIBLE\n",
      " HYPERELASTIC MATERIALS. NO SUGGESTION IS AVAILABLE AND NO RESETTING IS NEEDED.\n",
      "\n",
      " ELEMENT TYPE         2 IS SOLID187. IT IS NOT ASSOCIATED WITH FULLY INCOMPRESSIBLE\n",
      " HYPERELASTIC MATERIALS. NO SUGGESTION IS AVAILABLE AND NO RESETTING IS NEEDED.\n",
      "\n",
      "\n",
      "\n",
      " *** WARNING ***                         CP =       8.031   TIME= 20:49:46\n",
      " Element shape checking is currently inactive.  Issue SHPP,ON or         \n",
      " SHPP,WARN to reactivate, if desired.                                    \n",
      "\n",
      " *** NOTE ***                            CP =       8.781   TIME= 20:49:46\n",
      " The model data was checked and warning messages were found.             \n",
      "  Please review output or errors file (                                  \n",
      " C:\\Users\\ansys\\AppData\\Local\\Temp\\WB_ansys_9228_2\\_ProjectScratch\\ScrE0 \n",
      " 020\\file0.err ) for these warning messages.                             \n",
      "\n",
      " GENERATE CYCLIC SYMMETRY CONSTRAINT EQUATIONS \n",
      "\n",
      " NUMBER OF CONSTRAINT EQUATIONS GENERATED=  6669\n",
      "   (USING THE MATCHED NODES ALGORITHM -- MAX NODE LOCATION ERROR = 0.78308E-02)\n",
      "\n",
      " *****  MAPDL SOLVE    COMMAND  *****\n",
      "\n",
      "\n",
      "\n",
      "   D I S T R I B U T E D   D O M A I N   D E C O M P O S E R\n",
      "\n",
      " ...Number of frequency solutions:  20\n",
      " ...Decompose to 4 frequency domains (with 1 processes per domain)\n",
      "\n",
      "\n",
      " *** SELECTION OF ELEMENT TECHNOLOGIES FOR APPLICABLE ELEMENTS ***\n",
      "      --- GIVE SUGGESTIONS AND RESET THE KEY OPTIONS ---\n",
      "\n",
      " ELEMENT TYPE         1 IS SOLID187. IT IS NOT ASSOCIATED WITH FULLY INCOMPRESSIBLE\n",
      " HYPERELASTIC MATERIALS. NO SUGGESTION IS AVAILABLE AND NO RESETTING IS NEEDED.\n",
      "\n",
      " ELEMENT TYPE         2 IS SOLID187. IT IS NOT ASSOCIATED WITH FULLY INCOMPRESSIBLE\n",
      " HYPERELASTIC MATERIALS. NO SUGGESTION IS AVAILABLE AND NO RESETTING IS NEEDED.\n",
      "\n",
      "\n",
      "\n",
      " *** MAPDL - ENGINEERING ANALYSIS SYSTEM  RELEASE 2024 R2          24.2     ***\n",
      " Ansys Mechanical Enterprise                       \n",
      " 00000000  VERSION=WINDOWS x64   20:49:48  OCT 07, 2025 CP=     11.781\n",
      "\n",
      " wbnew--Harmonic Response (G4)                                                 \n",
      "\n",
      "\n",
      "\n",
      "                       S O L U T I O N   O P T I O N S\n",
      "\n",
      "   PROBLEM DIMENSIONALITY. . . . . . . . . . . . .3-D                  \n",
      "   CYCLIC SYMMETRY SECTOR ANGLE. . . . . . . . . .   27.692     DEGREES\n",
      "   DEGREES OF FREEDOM. . . . . . UX   UY   UZ  \n",
      "   ANALYSIS TYPE . . . . . . . . . . . . . . . . .HARMONIC             \n",
      "      SOLUTION METHOD. . . . . . . . . . . . . . .FULL\n",
      "   OFFSET TEMPERATURE FROM ABSOLUTE ZERO . . . . .  273.15    \n",
      "   THERMAL EXPANSION . . . . . . . . . . . . . . .OFF\n",
      "   COMPLEX DISPLACEMENT PRINT OPTION . . . . . . .REAL AND IMAGINARY       \n",
      "   GLOBALLY ASSEMBLED MATRIX . . . . . . . . . . .SYMMETRIC  \n",
      "\n",
      " *** WARNING ***                         CP =      12.094   TIME= 20:49:48\n",
      " Material number 7 (used by element 33548) should normally have at least \n",
      " one MP or one TB type command associated with it.  Output of energy by  \n",
      " material may not be available.                                          \n",
      "\n",
      " *** NOTE ***                            CP =      12.281   TIME= 20:49:48\n",
      " The step data was checked and warning messages were found.              \n",
      "  Please review output or errors file (                                  \n",
      " C:\\Users\\ansys\\AppData\\Local\\Temp\\WB_ansys_9228_2\\_ProjectScratch\\ScrE0 \n",
      " 020\\file0.err ) for these warning messages.                             \n",
      "\n",
      " *** NOTE ***                            CP =      12.281   TIME= 20:49:48\n",
      " The conditions for direct assembly have been met.  No .emat or .erot    \n",
      " files will be produced.                                                 \n",
      "\n",
      " *** NOTE ***                            CP =      13.469   TIME= 20:49:48\n",
      " Symmetric Deformable- deformable contact pair identified by real        \n",
      " constant set 3 and contact element type 3 has been set up.  The         \n",
      " companion pair has real constant set ID 5.  Both pairs should have the  \n",
      " same behavior.                                                          \n",
      " For asymmetric contact analysis, you may deactivate the current pair    \n",
      " and keep its companion pair.                                            \n",
      " Contact algorithm: Penalty method\n",
      " Contact detection at: Gauss integration point\n",
      " Contact stiffness factor FKN                  10.000    \n",
      " The resulting initial contact stiffness      0.27905E+08\n",
      " Default penetration tolerance factor FTOLN   0.10000    \n",
      " The resulting penetration tolerance          0.14334    \n",
      " Default opening contact stiffness OPSF will be used.\n",
      " Default tangent stiffness factor FKT          1.0000    \n",
      " Default elastic slip factor SLTOL            0.50000E-02\n",
      " The resulting elastic slip tolerance         0.92303E-02\n",
      " Update contact stiffness at each iteration\n",
      " Default Max. friction stress TAUMAX          0.10000E+21\n",
      " Average contact surface length                1.8461    \n",
      " Average contact pair depth                    1.4334    \n",
      " Average target surface length                 1.4202    \n",
      " Default pinball region factor PINB           0.25000    \n",
      " The resulting pinball region                 0.35836    \n",
      " Initial penetration/gap is excluded.\n",
      " Bonded contact (always) is defined.\n",
      "\n",
      " *** NOTE ***                            CP =      13.469   TIME= 20:49:48\n",
      " Min.  Initial gap 0.119687086 was detected between contact element      \n",
      " 32561 and target element 32831.                                         \n",
      " Contact is detected due to initial settings.                            \n",
      "  \n",
      " Max.  Geometric gap 0.136413796 has been detected between contact       \n",
      " element 32668 and target element 32894.                                 \n",
      " ****************************************\n",
      "  \n",
      "\n",
      " *** WARNING ***                         CP =      13.469   TIME= 20:49:48\n",
      " Material number 7 (used by element 33548) should normally have at least \n",
      " one MP or one TB type command associated with it.  Output of energy by  \n",
      " material may not be available.                                          \n",
      "\n",
      " *** WARNING ***                         CP =      13.469   TIME= 20:49:48\n",
      " Material number 7 (used by element 33548) should normally have at least \n",
      " one MP or one TB type command associated with it.  Output of energy by  \n",
      " material may not be available.                                          \n",
      "\n",
      " *** NOTE ***                            CP =      13.469   TIME= 20:49:48\n",
      " Symmetric Deformable- deformable contact pair identified by real        \n",
      " constant set 5 and contact element type 5 has been set up.  The         \n",
      " companion pair has real constant set ID 3.  Both pairs should have the  \n",
      " same behavior.                                                          \n",
      " For asymmetric contact analysis, you may keep the current pair and      \n",
      " deactivate its companion pair.                                          \n",
      " Contact algorithm: Penalty method\n",
      " Contact detection at: Gauss integration point\n",
      " Contact stiffness factor FKN                  10.000    \n",
      " The resulting initial contact stiffness      0.27905E+08\n",
      " Default penetration tolerance factor FTOLN   0.10000    \n",
      " The resulting penetration tolerance          0.11335    \n",
      " Default opening contact stiffness OPSF will be used.\n",
      " Default tangent stiffness factor FKT          1.0000    \n",
      " Default elastic slip factor SLTOL            0.50000E-02\n",
      " The resulting elastic slip tolerance         0.71970E-02\n",
      " Update contact stiffness at each iteration\n",
      " Default Max. friction stress TAUMAX          0.10000E+21\n",
      " Average contact surface length                1.4394    \n",
      " Average contact pair depth                    1.1335    \n",
      " Average target surface length                 1.8316    \n",
      " Default pinball region factor PINB           0.25000    \n",
      " The resulting pinball region                 0.28337    \n",
      " Initial penetration/gap is excluded.\n",
      " Bonded contact (always) is defined.\n",
      "\n",
      " *** NOTE ***                            CP =      13.469   TIME= 20:49:48\n",
      " Min.  Initial gap 0.121762256 was detected between contact element      \n",
      " 32999 and target element 33214.                                         \n",
      " Contact is detected due to initial settings.                            \n",
      "  \n",
      " Max.  Geometric gap 0.136856675 has been detected between contact       \n",
      " element 33059 and target element 33401.                                 \n",
      " ****************************************\n",
      "  \n",
      "\n",
      " *** WARNING ***                         CP =      13.469   TIME= 20:49:48\n",
      " Material number 7 (used by element 33548) should normally have at least \n",
      " one MP or one TB type command associated with it.  Output of energy by  \n",
      " material may not be available.                                          \n",
      "\n",
      " *** NOTE ***                            CP =      13.469   TIME= 20:49:48\n",
      " Symmetric Deformable- deformable contact pair identified by real        \n",
      " constant set 10 and contact element type 3 has been set up.  The        \n",
      " companion pair has real constant set ID 12.  Both pairs should have     \n",
      " the same behavior.                                                      \n",
      " For asymmetric contact analysis, you may deactivate the current pair    \n",
      " and keep its companion pair.                                            \n",
      " Contact algorithm: Penalty method\n",
      " Contact detection at: Gauss integration point\n",
      " Contact stiffness factor FKN                  10.000    \n",
      " The resulting initial contact stiffness      0.27905E+08\n",
      " Default penetration tolerance factor FTOLN   0.10000    \n",
      " The resulting penetration tolerance          0.14334    \n",
      " Default opening contact stiffness OPSF will be used.\n",
      " Default tangent stiffness factor FKT          1.0000    \n",
      " Default elastic slip factor SLTOL            0.50000E-02\n",
      " The resulting elastic slip tolerance         0.92303E-02\n",
      " Update contact stiffness at each iteration\n",
      " Default Max. friction stress TAUMAX          0.10000E+21\n",
      " Average contact surface length                1.8461    \n",
      " Average contact pair depth                    1.4334    \n",
      " Average target surface length                 1.4202    \n",
      " Default pinball region factor PINB           0.25000    \n",
      " The resulting pinball region                 0.35836    \n",
      " Initial penetration/gap is excluded.\n",
      " Bonded contact (always) is defined.\n",
      "\n",
      " *** NOTE ***                            CP =      13.500   TIME= 20:49:48\n",
      " Min.  Initial gap 0.119687086 was detected between contact element      \n",
      " 67902 and target element 68172.                                         \n",
      " Contact is detected due to initial settings.                            \n",
      "  \n",
      " Max.  Geometric gap 0.136413796 has been detected between contact       \n",
      " element 68009 and target element 68235.                                 \n",
      " ****************************************\n",
      "  \n",
      "\n",
      " *** NOTE ***                            CP =      13.500   TIME= 20:49:48\n",
      " Symmetric Deformable- deformable contact pair identified by real        \n",
      " constant set 12 and contact element type 5 has been set up.  The        \n",
      " companion pair has real constant set ID 10.  Both pairs should have     \n",
      " the same behavior.                                                      \n",
      " For asymmetric contact analysis, you may keep the current pair and      \n",
      " deactivate its companion pair.                                          \n",
      " Contact algorithm: Penalty method\n",
      " Contact detection at: Gauss integration point\n",
      " Contact stiffness factor FKN                  10.000    \n",
      " The resulting initial contact stiffness      0.27905E+08\n",
      " Default penetration tolerance factor FTOLN   0.10000    \n",
      " The resulting penetration tolerance          0.11335    \n",
      " Default opening contact stiffness OPSF will be used.\n",
      " Default tangent stiffness factor FKT          1.0000    \n",
      " Default elastic slip factor SLTOL            0.50000E-02\n",
      " The resulting elastic slip tolerance         0.71970E-02\n",
      " Update contact stiffness at each iteration\n",
      " Default Max. friction stress TAUMAX          0.10000E+21\n",
      " Average contact surface length                1.4394    \n",
      " Average contact pair depth                    1.1335    \n",
      " Average target surface length                 1.8316    \n",
      " Default pinball region factor PINB           0.25000    \n",
      " The resulting pinball region                 0.28337    \n",
      " Initial penetration/gap is excluded.\n",
      " Bonded contact (always) is defined.\n",
      "\n",
      " *** NOTE ***                            CP =      13.500   TIME= 20:49:48\n",
      " Min.  Initial gap 0.121762256 was detected between contact element      \n",
      " 68340 and target element 68555.                                         \n",
      " Contact is detected due to initial settings.                            \n",
      "  \n",
      " Max.  Geometric gap 0.136856675 has been detected between contact       \n",
      " element 68400 and target element 68742.                                 \n",
      " ****************************************\n",
      "  \n",
      "  \n",
      "  \n",
      "\n",
      "                      L O A D   S T E P   O P T I O N S\n",
      "\n",
      "   LOAD STEP NUMBER. . . . . . . . . . . . . . . .     1\n",
      "   CYCLIC SYMMETRY HARMONIC INDEX. . . . . . . . .     0\n",
      "   FREQUENCY RANGE . . . . . . . . . . . . . . . .  1200.0     TO   5500.0    \n",
      "   NUMBER OF SUBSTEPS. . . . . . . . . . . . . . .    20\n",
      "   STEP CHANGE BOUNDARY CONDITIONS . . . . . . . .   YES\n",
      "   STRUCTURAL DAMPING COEFFICIENT. . . . . . . . . 0.20000E-01\n",
      "   PRINT OUTPUT CONTROLS . . . . . . . . . . . . .NO PRINTOUT\n",
      "   DATABASE OUTPUT CONTROLS\n",
      "      ITEM     FREQUENCY   COMPONENT\n",
      "       ALL       NONE               \n",
      "      NSOL        ALL               \n",
      "      EANG        ALL               \n",
      "      ETMP        ALL               \n",
      "      VENG        ALL               \n",
      "      STRS        ALL               \n",
      "      EPEL        ALL               \n",
      "      RSOL        ALL               \n",
      "      CONT        ALL               \n",
      "\n",
      "\n",
      " *** NOTE ***                            CP =      16.594   TIME= 20:49:49\n",
      " Symmetric Deformable- deformable contact pair identified by real        \n",
      " constant set 3 and contact element type 3 has been set up.  The         \n",
      " companion pair has real constant set ID 5.  Both pairs should have the  \n",
      " same behavior.                                                          \n",
      " For asymmetric contact analysis, you may deactivate the current pair    \n",
      " and keep its companion pair.                                            \n",
      " Contact algorithm: Penalty method\n",
      " Contact detection at: Gauss integration point\n",
      " Contact stiffness factor FKN                  10.000    \n",
      " The resulting initial contact stiffness      0.27905E+08\n",
      " Default penetration tolerance factor FTOLN   0.10000    \n",
      " The resulting penetration tolerance          0.14334    \n",
      " Default opening contact stiffness OPSF will be used.\n",
      " Default tangent stiffness factor FKT          1.0000    \n",
      " Default elastic slip factor SLTOL            0.50000E-02\n",
      " The resulting elastic slip tolerance         0.92303E-02\n",
      " Update contact stiffness at each iteration\n",
      " Default Max. friction stress TAUMAX          0.10000E+21\n",
      " Average contact surface length                1.8461    \n",
      " Average contact pair depth                    1.4334    \n",
      " Average target surface length                 1.4202    \n",
      " Default pinball region factor PINB           0.25000    \n",
      " The resulting pinball region                 0.35836    \n",
      " Initial penetration/gap is excluded.\n",
      " Bonded contact (always) is defined.\n",
      "\n",
      " *** NOTE ***                            CP =      16.594   TIME= 20:49:49\n",
      " Min.  Initial gap 0.119687086 was detected between contact element      \n",
      " 32561 and target element 32831.                                         \n",
      " Contact is detected due to initial settings.                            \n",
      "  \n",
      " Max.  Geometric gap 0.136413796 has been detected between contact       \n",
      " element 32668 and target element 32894.                                 \n",
      " ****************************************\n",
      "  \n",
      "\n",
      " *** NOTE ***                            CP =      16.594   TIME= 20:49:49\n",
      " Symmetric Deformable- deformable contact pair identified by real        \n",
      " constant set 5 and contact element type 5 has been set up.  The         \n",
      " companion pair has real constant set ID 3.  Both pairs should have the  \n",
      " same behavior.                                                          \n",
      " For asymmetric contact analysis, you may keep the current pair and      \n",
      " deactivate its companion pair.                                          \n",
      " Contact algorithm: Penalty method\n",
      " Contact detection at: Gauss integration point\n",
      " Contact stiffness factor FKN                  10.000    \n",
      " The resulting initial contact stiffness      0.27905E+08\n",
      " Default penetration tolerance factor FTOLN   0.10000    \n",
      " The resulting penetration tolerance          0.11335    \n",
      " Default opening contact stiffness OPSF will be used.\n",
      " Default tangent stiffness factor FKT          1.0000    \n",
      " Default elastic slip factor SLTOL            0.50000E-02\n",
      " The resulting elastic slip tolerance         0.71970E-02\n",
      " Update contact stiffness at each iteration\n",
      " Default Max. friction stress TAUMAX          0.10000E+21\n",
      " Average contact surface length                1.4394    \n",
      " Average contact pair depth                    1.1335    \n",
      " Average target surface length                 1.8316    \n",
      " Default pinball region factor PINB           0.25000    \n",
      " The resulting pinball region                 0.28337    \n",
      " Initial penetration/gap is excluded.\n",
      " Bonded contact (always) is defined.\n",
      "\n",
      " *** NOTE ***                            CP =      16.594   TIME= 20:49:49\n",
      " Min.  Initial gap 0.121762256 was detected between contact element      \n",
      " 32999 and target element 33214.                                         \n",
      " Contact is detected due to initial settings.                            \n",
      "  \n",
      " Max.  Geometric gap 0.136856675 has been detected between contact       \n",
      " element 33059 and target element 33401.                                 \n",
      " ****************************************\n",
      "  \n",
      "\n",
      " *** NOTE ***                            CP =      16.594   TIME= 20:49:49\n",
      " Symmetric Deformable- deformable contact pair identified by real        \n",
      " constant set 10 and contact element type 3 has been set up.  The        \n",
      " companion pair has real constant set ID 12.  Both pairs should have     \n",
      " the same behavior.                                                      \n",
      " For asymmetric contact analysis, you may deactivate the current pair    \n",
      " and keep its companion pair.                                            \n",
      " Contact algorithm: Penalty method\n",
      " Contact detection at: Gauss integration point\n",
      " Contact stiffness factor FKN                  10.000    \n",
      " The resulting initial contact stiffness      0.27905E+08\n",
      " Default penetration tolerance factor FTOLN   0.10000    \n",
      " The resulting penetration tolerance          0.14334    \n",
      " Default opening contact stiffness OPSF will be used.\n",
      " Default tangent stiffness factor FKT          1.0000    \n",
      " Default elastic slip factor SLTOL            0.50000E-02\n",
      " The resulting elastic slip tolerance         0.92303E-02\n",
      " Update contact stiffness at each iteration\n",
      " Default Max. friction stress TAUMAX          0.10000E+21\n",
      " Average contact surface length                1.8461    \n",
      " Average contact pair depth                    1.4334    \n",
      " Average target surface length                 1.4202    \n",
      " Default pinball region factor PINB           0.25000    \n",
      " The resulting pinball region                 0.35836    \n",
      " Initial penetration/gap is excluded.\n",
      " Bonded contact (always) is defined.\n",
      "\n",
      " *** NOTE ***                            CP =      16.594   TIME= 20:49:49\n",
      " Min.  Initial gap 0.119687086 was detected between contact element      \n",
      " 67902 and target element 68172.                                         \n",
      " Contact is detected due to initial settings.                            \n",
      "  \n",
      " Max.  Geometric gap 0.136413796 has been detected between contact       \n",
      " element 68009 and target element 68235.                                 \n",
      " ****************************************\n",
      "  \n",
      "\n",
      " *** NOTE ***                            CP =      16.594   TIME= 20:49:49\n",
      " Symmetric Deformable- deformable contact pair identified by real        \n",
      " constant set 12 and contact element type 5 has been set up.  The        \n",
      " companion pair has real constant set ID 10.  Both pairs should have     \n",
      " the same behavior.                                                      \n",
      " For asymmetric contact analysis, you may keep the current pair and      \n",
      " deactivate its companion pair.                                          \n",
      " Contact algorithm: Penalty method\n",
      " Contact detection at: Gauss integration point\n",
      " Contact stiffness factor FKN                  10.000    \n",
      " The resulting initial contact stiffness      0.27905E+08\n",
      " Default penetration tolerance factor FTOLN   0.10000    \n",
      " The resulting penetration tolerance          0.11335    \n",
      " Default opening contact stiffness OPSF will be used.\n",
      " Default tangent stiffness factor FKT          1.0000    \n",
      " Default elastic slip factor SLTOL            0.50000E-02\n",
      " The resulting elastic slip tolerance         0.71970E-02\n",
      " Update contact stiffness at each iteration\n",
      " Default Max. friction stress TAUMAX          0.10000E+21\n",
      " Average contact surface length                1.4394    \n",
      " Average contact pair depth                    1.1335    \n",
      " Average target surface length                 1.8316    \n",
      " Default pinball region factor PINB           0.25000    \n",
      " The resulting pinball region                 0.28337    \n",
      " Initial penetration/gap is excluded.\n",
      " Bonded contact (always) is defined.\n",
      "\n",
      " *** NOTE ***                            CP =      16.594   TIME= 20:49:49\n",
      " Min.  Initial gap 0.121762256 was detected between contact element      \n",
      " 68340 and target element 68555.                                         \n",
      " Contact is detected due to initial settings.                            \n",
      "  \n",
      " Max.  Geometric gap 0.136856675 has been detected between contact       \n",
      " element 68400 and target element 68742.                                 \n",
      " ****************************************\n",
      "  \n",
      "\n",
      "\n",
      "\n",
      "            **** CENTER OF MASS, MASS, AND MASS MOMENTS OF INERTIA ****\n",
      "\n",
      "  CALCULATIONS ASSUME ELEMENT MASS AT ELEMENT CENTROID\n",
      "\n",
      "  TOTAL MASS =  0.38387E-03\n",
      "\n",
      "                           MOM. OF INERTIA         MOM. OF INERTIA\n",
      "  CENTER OF MASS            ABOUT ORIGIN        ABOUT CENTER OF MASS\n",
      "\n",
      "  XC =   36.912          IXX =    5.701          IXX =   0.7970E-01\n",
      "  YC =   117.35          IYY =    1.140          IYY =   0.2817    \n",
      "  ZC =   29.541          IZZ =    6.082          IZZ =   0.2729    \n",
      "                         IXY =   -1.699          IXY =  -0.3613E-01\n",
      "                         IYZ =   -1.329          IYZ =   0.1306E-02\n",
      "                         IZX =  -0.4730          IZX =  -0.5439E-01\n",
      "\n",
      "\n",
      "  *** MASS SUMMARY BY ELEMENT TYPE ***\n",
      "\n",
      "  TYPE      MASS\n",
      "     1  0.190222E-03\n",
      "     2  0.193645E-03\n",
      "\n",
      " Range of element maximum matrix coefficients in global coordinates\n",
      " Maximum = 9031711.02 at element 67895.                                  \n",
      " Minimum = 40118.4069 at element 49928.                                  \n",
      "\n",
      "   *** ELEMENT MATRIX FORMULATION TIMES\n",
      "     TYPE    NUMBER   ENAME      TOTAL CP  AVE CP\n",
      "\n",
      "        1     24706  SOLID187      2.922   0.000118\n",
      "        2     21772  SOLID187      2.281   0.000105\n",
      "        3       806  CONTA174      0.141   0.000174\n",
      "        4       330  TARGE170      0.000   0.000000\n",
      "        5       330  CONTA174      0.125   0.000379\n",
      "        6       806  TARGE170      0.016   0.000019\n",
      "        7      3588  SURF154       0.297   0.000083\n",
      " Time at end of element matrix formulation CP = 23.03125.                \n",
      "\n",
      " *** NOTE ***                            CP =      24.078   TIME= 20:49:57\n",
      " The initial memory allocation (-m) has been exceeded.                   \n",
      "  Supplemental memory allocations are being used.                        \n",
      "\n",
      " SPARSE MATRIX DIRECT SOLVER.\n",
      "  Number of equations =      229620,    Maximum wavefront =    276\n",
      "\n",
      "\n",
      "  Memory allocated on this process\n",
      "  -------------------------------------------------------------------\n",
      "  Equation solver memory allocated                     =  2531.406 MB\n",
      "  Equation solver memory required for in-core mode     =  2421.917 MB\n",
      "  Equation solver memory required for out-of-core mode =   701.570 MB\n",
      "  Total (solver and non-solver) memory allocated       =  4173.918 MB\n",
      "\n",
      " *** NOTE ***                            CP =      26.359   TIME= 20:49:59\n",
      " The Sparse Matrix Solver is currently running in the in-core memory     \n",
      " mode.  This memory mode uses the most amount of memory in order to      \n",
      " avoid using the hard drive as much as possible, which most often        \n",
      " results in the fastest solution time.  This mode is recommended if      \n",
      " enough physical memory is present to accommodate all of the solver      \n",
      " data.                                                                   \n",
      " Sparse solver maximum pivot= 17281797.7 at node 27603 UY.               \n",
      " Sparse solver minimum pivot= 10088.7419 at node 1358 UY.                \n",
      " Sparse solver minimum pivot in absolute value= 10088.7419 at node 1358  \n",
      " UY.                                                                     \n",
      "\n",
      "   *** ELEMENT RESULT CALCULATION TIMES\n",
      "     TYPE    NUMBER   ENAME      TOTAL CP  AVE CP\n",
      "\n",
      "        1     24706  SOLID187      3.047   0.000123\n",
      "        2     21772  SOLID187      2.500   0.000115\n",
      "        3       806  CONTA174      0.078   0.000097\n",
      "        5       330  CONTA174      0.062   0.000189\n",
      "        7      3588  SURF154       0.281   0.000078\n",
      "\n",
      "   *** NODAL LOAD CALCULATION TIMES\n",
      "     TYPE    NUMBER   ENAME      TOTAL CP  AVE CP\n",
      "\n",
      "        1     24706  SOLID187      0.875   0.000035\n",
      "        2     21772  SOLID187      0.641   0.000029\n",
      "        3       806  CONTA174      0.000   0.000000\n",
      "        5       330  CONTA174      0.016   0.000047\n",
      "        7      3588  SURF154       0.016   0.000004\n",
      " *** LOAD STEP     1   SUBSTEP     1  COMPLETED.  FREQUENCY=   1415.00    \n",
      " *** LOAD STEP     1   SUBSTEP     2  COMPLETED.  FREQUENCY=   1630.00    \n",
      " *** LOAD STEP     1   SUBSTEP     3  COMPLETED.  FREQUENCY=   1845.00    \n",
      " *** LOAD STEP     1   SUBSTEP     4  COMPLETED.  FREQUENCY=   2060.00    \n",
      " *** LOAD STEP     1   SUBSTEP     5  COMPLETED.  FREQUENCY=   2275.00    \n",
      " *** LOAD STEP     1   SUBSTEP     6  COMPLETED.  FREQUENCY=   2490.00    \n",
      " *** LOAD STEP     1   SUBSTEP     7  COMPLETED.  FREQUENCY=   2705.00    \n",
      " *** LOAD STEP     1   SUBSTEP     8  COMPLETED.  FREQUENCY=   2920.00    \n",
      " *** LOAD STEP     1   SUBSTEP     9  COMPLETED.  FREQUENCY=   3135.00    \n",
      " *** LOAD STEP     1   SUBSTEP    10  COMPLETED.  FREQUENCY=   3350.00    \n",
      " *** LOAD STEP     1   SUBSTEP    11  COMPLETED.  FREQUENCY=   3565.00    \n",
      " *** LOAD STEP     1   SUBSTEP    12  COMPLETED.  FREQUENCY=   3780.00    \n",
      " *** LOAD STEP     1   SUBSTEP    13  COMPLETED.  FREQUENCY=   3995.00    \n",
      " *** LOAD STEP     1   SUBSTEP    14  COMPLETED.  FREQUENCY=   4210.00    \n",
      " *** LOAD STEP     1   SUBSTEP    15  COMPLETED.  FREQUENCY=   4425.00    \n",
      " *** LOAD STEP     1   SUBSTEP    16  COMPLETED.  FREQUENCY=   4640.00    \n",
      " *** LOAD STEP     1   SUBSTEP    17  COMPLETED.  FREQUENCY=   4855.00    \n",
      " *** LOAD STEP     1   SUBSTEP    18  COMPLETED.  FREQUENCY=   5070.00    \n",
      " *** LOAD STEP     1   SUBSTEP    19  COMPLETED.  FREQUENCY=   5285.00    \n",
      " *** LOAD STEP     1   SUBSTEP    20  COMPLETED.  FREQUENCY=   5500.00    \n",
      "\n",
      "\n",
      " *** MAPDL BINARY FILE STATISTICS\n",
      "  BUFFER SIZE USED= 16384\n",
      "       24.000 MB WRITTEN ON ELEMENT SAVED DATA FILE: file0.esav\n",
      "      192.062 MB WRITTEN ON ASSEMBLED MATRIX FILE: file0.full\n",
      "      197.125 MB WRITTEN ON RESULTS FILE: file0.rst\n",
      " *************** Write FE CONNECTORS *********\n",
      "\n",
      " WRITE OUT CONSTRAINT EQUATIONS TO FILE= file.ce                                                                                                                                                                                                                                                             \n",
      " ************ Write Pre-Meshed Cyclic Pairs ************\n",
      "\n",
      " *GET  NUM_PAIRS  FROM  PARM  CYCLIC_XREF_N  ITEM=DIM  2     VALUE=  4446.00000    \n",
      "\n",
      " *IF  num_pairs  ( =   4446.00     )  NE  \n",
      "      0  ( =   0.00000     )  THEN    \n",
      "\n",
      " OPENED FILE= cyclic_map.json FOR COMMAND FILE DATA \n",
      "\n",
      "\n",
      " *DO LOOP ON PARAMETER= I FROM  1.0000     TO  4446.0     BY  1.0000    \n",
      "\n",
      " *ENDDO  INDEX= I                               \n",
      "\n",
      "  COMMAND FILE CLOSED \n",
      "\n",
      "\n",
      " *ENDIF\n",
      "\n",
      " FINISH SOLUTION PROCESSING\n",
      "\n",
      "\n",
      " ***** ROUTINE COMPLETED *****  CP =       199.953\n",
      "\n",
      "\n",
      "\n",
      " PRINTOUT RESUMED BY /GOP\n",
      "\n",
      " *GET  _WALLASOL  FROM  ACTI  ITEM=TIME WALL  VALUE=  20.8816667    \n",
      "\n",
      " *** MAPDL - ENGINEERING ANALYSIS SYSTEM  RELEASE 2024 R2          24.2     ***\n",
      " Ansys Mechanical Enterprise                       \n",
      " 00000000  VERSION=WINDOWS x64   20:52:54  OCT 07, 2025 CP=    199.969\n",
      "\n",
      " wbnew--Harmonic Response (G4)                                                 \n",
      "\n",
      "\n",
      "\n",
      "          ***** MAPDL RESULTS INTERPRETATION (POST1) *****\n",
      "\n",
      " *** NOTE ***                            CP =     199.969   TIME= 20:52:54\n",
      " Reading results into the database (SET command) will update the current \n",
      " displacement and force boundary conditions in the database with the     \n",
      " values from the results file for that load set.  Note that any          \n",
      " subsequent solutions will use these values unless action is taken to    \n",
      " either SAVE the current values or not overwrite them (/EXIT,NOSAVE).    \n",
      "\n",
      " Set Encoding of XML File to:ISO-8859-1\n",
      "\n",
      " Set Output of XML File to:\n",
      "     PARM,     ,     ,     ,     ,     ,     ,     ,     ,     ,     ,     ,\n",
      "         ,     ,     ,     ,     ,     ,     ,\n",
      "\n",
      " DATABASE WRITTEN ON FILE  parm.xml                                                                                                                                                                                                                                                            \n",
      "\n",
      " EXIT THE MAPDL POST1 DATABASE PROCESSOR\n",
      "\n",
      "\n",
      " ***** ROUTINE COMPLETED *****  CP =       199.984\n",
      "\n",
      "\n",
      "\n",
      " PRINTOUT RESUMED BY /GOP\n",
      "\n",
      " *GET  _WALLDONE  FROM  ACTI  ITEM=TIME WALL  VALUE=  20.8816667    \n",
      "\n",
      " PARAMETER _PREPTIME =     1.000000000    \n",
      "\n",
      " PARAMETER _SOLVTIME =     191.0000000    \n",
      "\n",
      " PARAMETER _POSTTIME =     0.000000000    \n",
      "\n",
      " PARAMETER _TOTALTIM =     192.0000000    \n",
      "\n",
      " *GET  _DLBRATIO  FROM  ACTI  ITEM=SOLU DLBR  VALUE=  0.00000000    \n",
      "\n",
      " *GET  _COMBTIME  FROM  ACTI  ITEM=SOLU COMB  VALUE=  1.41419910    \n",
      "\n",
      " *GET  _SSMODE   FROM  ACTI  ITEM=SOLU SSMM  VALUE=  2.00000000    \n",
      "\n",
      " *GET  _NDOFS    FROM  ACTI  ITEM=SOLU NDOF  VALUE=  229620.000    \n",
      "\n",
      " /FCLEAN COMMAND REMOVING ALL LOCAL FILES\n",
      " --- Total number of nodes = 81288\n",
      " --- Total number of elements = 52338\n",
      " --- Element load balance ratio = 0\n",
      " --- Time to combine distributed files = 1.4141991\n",
      " --- Sparse memory mode = 2\n",
      " --- Number of DOF = 229620\n",
      "\n",
      " EXIT MAPDL WITHOUT SAVING DATABASE\n",
      "\n",
      "\n",
      " NUMBER OF WARNING MESSAGES ENCOUNTERED=          5\n",
      " NUMBER OF ERROR   MESSAGES ENCOUNTERED=          0\n",
      "\n",
      "+--------------------- M A P D L   S T A T I S T I C S ------------------------+\n",
      "\n",
      "Release: 2024 R2            Build: 24.2       Update: UP20240603   Platform: WINDOWS x64 \n",
      "Date Run: 10/07/2025   Time: 20:52     Process ID: 20620\n",
      "Operating System: Windows 11  (Build: 26100)\n",
      "\n",
      "Processor Model: Intel(R) Xeon(R) Platinum 8171M CPU @ 2.60GHz\n",
      "\n",
      "Compiler: Intel(R) Fortran Compiler Classic Version 2021.9  (Build: 20230302)\n",
      "          Intel(R) C/C++ Compiler Classic Version 2021.9  (Build: 20230302)\n",
      "          Intel(R) oneAPI Math Kernel Library Version 2023.1-Product Build 20230303\n",
      "\n",
      "Number of machines requested            :    1\n",
      "Total number of cores available         :    8\n",
      "Number of physical cores available      :    4\n",
      "Number of processes requested           :    4\n",
      "Number of threads per process requested :    1\n",
      "Total number of cores requested         :    4 (Distributed Memory Parallel)               \n",
      "MPI Type: INTELMPI\n",
      "MPI Version: Intel(R) MPI Library 2021.11 for Windows* OS\n",
      "\n",
      "\n",
      "GPU Acceleration: Not Requested\n",
      "\n",
      "Job Name: file0\n",
      "Input File: dummy.dat\n",
      "\n",
      "  Core                Machine Name   Working Directory\n",
      " -----------------------------------------------------\n",
      "     0                 pyworkbench   C:\\Users\\ansys\\AppData\\Local\\Temp\\WB_ansys_9228_2\\_ProjectScratch\\ScrE020\n",
      "     1                 pyworkbench   C:\\Users\\ansys\\AppData\\Local\\Temp\\WB_ansys_9228_2\\_ProjectScratch\\ScrE020\n",
      "     2                 pyworkbench   C:\\Users\\ansys\\AppData\\Local\\Temp\\WB_ansys_9228_2\\_ProjectScratch\\ScrE020\n",
      "     3                 pyworkbench   C:\\Users\\ansys\\AppData\\Local\\Temp\\WB_ansys_9228_2\\_ProjectScratch\\ScrE020\n",
      " \n",
      "Latency time from master to core     1 =    3.090 microseconds\n",
      "Latency time from master to core     2 =    4.346 microseconds\n",
      "Latency time from master to core     3 =    2.987 microseconds\n",
      " \n",
      "Communication speed from master to core     1 =  5007.17 MB/sec\n",
      "Communication speed from master to core     2 =  5342.34 MB/sec\n",
      "Communication speed from master to core     3 =  5482.04 MB/sec\n",
      "\n",
      "Total CPU time for main thread                    :      190.8 seconds\n",
      "Total CPU time summed for all threads             :      200.1 seconds\n",
      "\n",
      "Elapsed time spent obtaining a license            :        0.5 seconds\n",
      "Elapsed time spent pre-processing model (/PREP7)  :        0.5 seconds\n",
      "Elapsed time spent solution - preprocessing       :        2.1 seconds\n",
      "Elapsed time spent computing solution             :      183.0 seconds\n",
      "Elapsed time spent solution - postprocessing      :        1.4 seconds\n",
      "Elapsed time spent post-processing model (/POST1) :        0.0 seconds\n",
      " \n",
      "Equation solver used                              :            Sparse (symmetric)\n",
      "Equation solver computational rate                :        8.8 Gflops\n",
      "\n",
      "Sum of disk space used on all processes           :     2301.8 MB\n",
      "\n",
      "Sum of memory used on all processes               :    11719.0 MB\n",
      "Sum of memory allocated on all processes          :    15207.0 MB\n",
      "Physical memory available                         :         32 GB\n",
      "Total amount of I/O written to disk               :        2.3 GB\n",
      "Total amount of I/O read from disk                :        1.8 GB\n",
      "\n",
      "+------------------ E N D   M A P D L   S T A T I S T I C S -------------------+\n",
      "\n",
      "\n",
      " *-----------------------------------------------------------------------------*\n",
      " |                                                                             |\n",
      " |                               RUN COMPLETED                                 |\n",
      " |                                                                             |\n",
      " |-----------------------------------------------------------------------------|\n",
      " |                                                                             |\n",
      " |  Ansys MAPDL 2024 R2         Build 24.2         UP20240603    WINDOWS x64   |\n",
      " |                                                                             |\n",
      " |-----------------------------------------------------------------------------|\n",
      " |                                                                             |\n",
      " |  Database Requested(-db)     1024 MB     Scratch Memory Requested   1024 MB |\n",
      " |  Max Database Used(Master)     61 MB     Max Scratch Used(Master)   2871 MB |\n",
      " |  Max Database Used(Workers)    59 MB     Max Scratch Used(Workers)  2870 MB |\n",
      " |  Sum Database Used(All)       238 MB     Sum Scratch Used(All)     11481 MB |\n",
      " |                                                                             |\n",
      " |-----------------------------------------------------------------------------|\n",
      " |                                                                             |\n",
      " |        CP Time      (sec) =        200.094       Time  =  20:52:56          |\n",
      " |        Elapsed Time (sec) =        196.000       Date  =  10/07/2025        |\n",
      " |                                                                             |\n",
      " *-----------------------------------------------------------------------------*\n"
     ]
    },
    {
     "name": "stderr",
     "output_type": "stream",
     "text": [
      "\n"
     ]
    }
   ],
   "source": [
    "current_working_directory = os.getcwd()\n",
    "mechanical.download(solve_out_path, target_dir=current_working_directory)\n",
    "solve_out_local_path = os.path.join(current_working_directory, \"solve.out\")\n",
    "write_file_contents_to_console(solve_out_local_path)\n",
    "os.remove(solve_out_local_path)"
   ]
  },
  {
   "cell_type": "markdown",
   "id": "e7d0e429",
   "metadata": {},
   "source": [
    "Specify the Mechanical directory path for images and run a script to fetch the directory path.\n",
    "The path where images are stored on the server is printed.\n",
    "Download an image file (`deformation.png`) from the server to the client's current working directory and display it using `matplotlib`."
   ]
  },
  {
   "cell_type": "code",
   "execution_count": 16,
   "id": "43f90158",
   "metadata": {
    "execution": {
     "iopub.execute_input": "2025-10-07T20:53:00.188963Z",
     "iopub.status.busy": "2025-10-07T20:53:00.188963Z",
     "iopub.status.idle": "2025-10-07T20:53:01.052490Z",
     "shell.execute_reply": "2025-10-07T20:53:01.051980Z"
    }
   },
   "outputs": [],
   "source": [
    "from matplotlib import image as mpimg\n",
    "from matplotlib import pyplot as plt"
   ]
  },
  {
   "cell_type": "code",
   "execution_count": 17,
   "id": "17599d84",
   "metadata": {
    "execution": {
     "iopub.execute_input": "2025-10-07T20:53:01.056507Z",
     "iopub.status.busy": "2025-10-07T20:53:01.056507Z",
     "iopub.status.idle": "2025-10-07T20:53:01.069407Z",
     "shell.execute_reply": "2025-10-07T20:53:01.068400Z"
    },
    "lines_to_next_cell": 1
   },
   "outputs": [
    {
     "name": "stdout",
     "output_type": "stream",
     "text": [
      "Images are stored on the server at: C:\\Users\\ansys\\AppData\\Local\\Temp\\WB_ansys_9228_2\\wbnew_files\\dp0\\SYS-6\\MECH\\\n"
     ]
    }
   ],
   "source": [
    "mechanical.run_python_script(f\"image_dir=ExtAPI.DataModel.AnalysisList[5].WorkingDir\")\n",
    "result_image_dir_server = mechanical.run_python_script(f\"image_dir\")\n",
    "print(f\"Images are stored on the server at: {result_image_dir_server}\")"
   ]
  },
  {
   "cell_type": "code",
   "execution_count": 18,
   "id": "b50c63a4",
   "metadata": {
    "execution": {
     "iopub.execute_input": "2025-10-07T20:53:01.072414Z",
     "iopub.status.busy": "2025-10-07T20:53:01.071410Z",
     "iopub.status.idle": "2025-10-07T20:53:01.076430Z",
     "shell.execute_reply": "2025-10-07T20:53:01.076430Z"
    },
    "lines_to_next_cell": 1
   },
   "outputs": [],
   "source": [
    "def get_image_path(image_name):\n",
    "    return os.path.join(result_image_dir_server, image_name)"
   ]
  },
  {
   "cell_type": "code",
   "execution_count": 19,
   "id": "5ab96adc",
   "metadata": {
    "execution": {
     "iopub.execute_input": "2025-10-07T20:53:01.080833Z",
     "iopub.status.busy": "2025-10-07T20:53:01.079824Z",
     "iopub.status.idle": "2025-10-07T20:53:01.085744Z",
     "shell.execute_reply": "2025-10-07T20:53:01.084737Z"
    },
    "lines_to_next_cell": 1
   },
   "outputs": [],
   "source": [
    "def display_image(path):\n",
    "    print(f\"Printing {path} using matplotlib\")\n",
    "    image1 = mpimg.imread(path)\n",
    "    plt.figure(figsize=(15, 15))\n",
    "    plt.axis(\"off\")\n",
    "    plt.imshow(image1)\n",
    "    plt.show()"
   ]
  },
  {
   "cell_type": "code",
   "execution_count": 20,
   "id": "d9110e31",
   "metadata": {
    "execution": {
     "iopub.execute_input": "2025-10-07T20:53:01.088749Z",
     "iopub.status.busy": "2025-10-07T20:53:01.087754Z",
     "iopub.status.idle": "2025-10-07T20:53:01.092300Z",
     "shell.execute_reply": "2025-10-07T20:53:01.092300Z"
    }
   },
   "outputs": [],
   "source": [
    "image_name = \"deformation.png\"\n",
    "image_path_server = get_image_path(image_name)"
   ]
  },
  {
   "cell_type": "code",
   "execution_count": 21,
   "id": "fe9e138b",
   "metadata": {
    "execution": {
     "iopub.execute_input": "2025-10-07T20:53:01.096314Z",
     "iopub.status.busy": "2025-10-07T20:53:01.095316Z",
     "iopub.status.idle": "2025-10-07T20:53:01.395460Z",
     "shell.execute_reply": "2025-10-07T20:53:01.394448Z"
    }
   },
   "outputs": [
    {
     "name": "stderr",
     "output_type": "stream",
     "text": [
      "\r",
      "Downloading dns:///127.0.0.1:54031:C:\\Users\\ansys\\AppData\\Local\\Temp\\WB_ansys_9228_2\\wbnew_files\\dp0\\SYS-6\\MECH\\deformation.png to C:\\Users\\ansys\\actions-runner\\_work\\pyworkbench-examples\\pyworkbench-examples\\pyworkbench-examples\\doc\\source\\examples\\cyclic-symmetry-analysis\\deformation.png:   0%|          | 0.00/9.46k [00:00<?, ?B/s]"
     ]
    },
    {
     "name": "stderr",
     "output_type": "stream",
     "text": [
      "\r",
      "Downloading dns:///127.0.0.1:54031:C:\\Users\\ansys\\AppData\\Local\\Temp\\WB_ansys_9228_2\\wbnew_files\\dp0\\SYS-6\\MECH\\deformation.png to C:\\Users\\ansys\\actions-runner\\_work\\pyworkbench-examples\\pyworkbench-examples\\pyworkbench-examples\\doc\\source\\examples\\cyclic-symmetry-analysis\\deformation.png: 100%|██████████| 9.46k/9.46k [00:00<?, ?B/s]"
     ]
    },
    {
     "name": "stdout",
     "output_type": "stream",
     "text": [
      "Local image path : C:\\Users\\ansys\\actions-runner\\_work\\pyworkbench-examples\\pyworkbench-examples\\pyworkbench-examples\\doc\\source\\examples\\cyclic-symmetry-analysis\\deformation.png\n",
      "Printing C:\\Users\\ansys\\actions-runner\\_work\\pyworkbench-examples\\pyworkbench-examples\\pyworkbench-examples\\doc\\source\\examples\\cyclic-symmetry-analysis\\deformation.png using matplotlib\n"
     ]
    },
    {
     "name": "stderr",
     "output_type": "stream",
     "text": [
      "\n"
     ]
    },
    {
     "data": {
      "image/png": "[encoded data removed]",
      "text/plain": [
       "<Figure size 1500x1500 with 1 Axes>"
      ]
     },
     "metadata": {},
     "output_type": "display_data"
    }
   ],
   "source": [
    "if image_path_server != \"\":\n",
    "    current_working_directory = os.getcwd()\n",
    "\n",
    "    local_file_path_list = mechanical.download(\n",
    "        image_path_server, target_dir=current_working_directory\n",
    "    )\n",
    "    image_local_path = local_file_path_list[0]\n",
    "    print(f\"Local image path : {image_local_path}\")\n",
    "\n",
    "    display_image(image_local_path)"
   ]
  },
  {
   "cell_type": "markdown",
   "id": "a4c60755",
   "metadata": {},
   "source": [
    "Download all the files from the server to the current working directory.\n",
    "Verify the source path for the directory and copy all files from the server to the client."
   ]
  },
  {
   "cell_type": "code",
   "execution_count": 22,
   "id": "53e48745",
   "metadata": {
    "execution": {
     "iopub.execute_input": "2025-10-07T20:53:01.399455Z",
     "iopub.status.busy": "2025-10-07T20:53:01.398455Z",
     "iopub.status.idle": "2025-10-07T20:53:01.409485Z",
     "shell.execute_reply": "2025-10-07T20:53:01.409485Z"
    }
   },
   "outputs": [
    {
     "name": "stdout",
     "output_type": "stream",
     "text": [
      "All solver files are stored on the server at: C:\\Users\\ansys\\AppData\\Local\\Temp\\WB_ansys_9228_2\\wbnew_files\\dp0\\SYS-6\\MECH\\\n"
     ]
    }
   ],
   "source": [
    "mechanical.run_python_script(f\"solve_dir=ExtAPI.DataModel.AnalysisList[5].WorkingDir\")\n",
    "result_solve_dir_server = mechanical.run_python_script(f\"solve_dir\")\n",
    "print(f\"All solver files are stored on the server at: {result_solve_dir_server}\")"
   ]
  },
  {
   "cell_type": "code",
   "execution_count": 23,
   "id": "40da5c37",
   "metadata": {
    "execution": {
     "iopub.execute_input": "2025-10-07T20:53:01.413498Z",
     "iopub.status.busy": "2025-10-07T20:53:01.412491Z",
     "iopub.status.idle": "2025-10-07T20:53:01.416875Z",
     "shell.execute_reply": "2025-10-07T20:53:01.416875Z"
    }
   },
   "outputs": [],
   "source": [
    "solve_out_path = os.path.join(result_solve_dir_server, \"*.*\")"
   ]
  },
  {
   "cell_type": "code",
   "execution_count": 24,
   "id": "60900bb1",
   "metadata": {
    "execution": {
     "iopub.execute_input": "2025-10-07T20:53:01.420343Z",
     "iopub.status.busy": "2025-10-07T20:53:01.418890Z",
     "iopub.status.idle": "2025-10-07T20:53:08.004049Z",
     "shell.execute_reply": "2025-10-07T20:53:08.003039Z"
    }
   },
   "outputs": [
    {
     "name": "stderr",
     "output_type": "stream",
     "text": [
      "\r",
      "Downloading dns:///127.0.0.1:54031:C:\\Users\\ansys\\AppData\\Local\\Temp\\WB_ansys_9228_2\\wbnew_files\\dp0\\SYS-6\\MECH\\CAERep.xml to C:\\Users\\ansys\\actions-runner\\_work\\pyworkbench-examples\\pyworkbench-examples\\pyworkbench-examples\\doc\\source\\examples\\cyclic-symmetry-analysis\\CAERep.xml:   0%|          | 0.00/171k [00:00<?, ?B/s]"
     ]
    },
    {
     "name": "stderr",
     "output_type": "stream",
     "text": [
      "\r",
      "Downloading dns:///127.0.0.1:54031:C:\\Users\\ansys\\AppData\\Local\\Temp\\WB_ansys_9228_2\\wbnew_files\\dp0\\SYS-6\\MECH\\CAERep.xml to C:\\Users\\ansys\\actions-runner\\_work\\pyworkbench-examples\\pyworkbench-examples\\pyworkbench-examples\\doc\\source\\examples\\cyclic-symmetry-analysis\\CAERep.xml: 100%|██████████| 171k/171k [00:00<?, ?B/s]"
     ]
    },
    {
     "name": "stderr",
     "output_type": "stream",
     "text": [
      "\n"
     ]
    },
    {
     "name": "stderr",
     "output_type": "stream",
     "text": [
      "\r",
      "Downloading dns:///127.0.0.1:54031:C:\\Users\\ansys\\AppData\\Local\\Temp\\WB_ansys_9228_2\\wbnew_files\\dp0\\SYS-6\\MECH\\CAERepOutput.xml to C:\\Users\\ansys\\actions-runner\\_work\\pyworkbench-examples\\pyworkbench-examples\\pyworkbench-examples\\doc\\source\\examples\\cyclic-symmetry-analysis\\CAERepOutput.xml:   0%|          | 0.00/789 [00:00<?, ?B/s]"
     ]
    },
    {
     "name": "stderr",
     "output_type": "stream",
     "text": [
      "\r",
      "Downloading dns:///127.0.0.1:54031:C:\\Users\\ansys\\AppData\\Local\\Temp\\WB_ansys_9228_2\\wbnew_files\\dp0\\SYS-6\\MECH\\CAERepOutput.xml to C:\\Users\\ansys\\actions-runner\\_work\\pyworkbench-examples\\pyworkbench-examples\\pyworkbench-examples\\doc\\source\\examples\\cyclic-symmetry-analysis\\CAERepOutput.xml: 100%|██████████| 789/789 [00:00<?, ?B/s] "
     ]
    },
    {
     "name": "stderr",
     "output_type": "stream",
     "text": [
      "\n"
     ]
    },
    {
     "name": "stderr",
     "output_type": "stream",
     "text": [
      "\r",
      "Downloading dns:///127.0.0.1:54031:C:\\Users\\ansys\\AppData\\Local\\Temp\\WB_ansys_9228_2\\wbnew_files\\dp0\\SYS-6\\MECH\\cyclic_map.json to C:\\Users\\ansys\\actions-runner\\_work\\pyworkbench-examples\\pyworkbench-examples\\pyworkbench-examples\\doc\\source\\examples\\cyclic-symmetry-analysis\\cyclic_map.json:   0%|          | 0.00/109k [00:00<?, ?B/s]"
     ]
    },
    {
     "name": "stderr",
     "output_type": "stream",
     "text": [
      "\r",
      "Downloading dns:///127.0.0.1:54031:C:\\Users\\ansys\\AppData\\Local\\Temp\\WB_ansys_9228_2\\wbnew_files\\dp0\\SYS-6\\MECH\\cyclic_map.json to C:\\Users\\ansys\\actions-runner\\_work\\pyworkbench-examples\\pyworkbench-examples\\pyworkbench-examples\\doc\\source\\examples\\cyclic-symmetry-analysis\\cyclic_map.json: 100%|██████████| 109k/109k [00:00<00:00, 111MB/s]"
     ]
    },
    {
     "name": "stderr",
     "output_type": "stream",
     "text": [
      "\n"
     ]
    },
    {
     "name": "stderr",
     "output_type": "stream",
     "text": [
      "\r",
      "Downloading dns:///127.0.0.1:54031:C:\\Users\\ansys\\AppData\\Local\\Temp\\WB_ansys_9228_2\\wbnew_files\\dp0\\SYS-6\\MECH\\deformation.png to C:\\Users\\ansys\\actions-runner\\_work\\pyworkbench-examples\\pyworkbench-examples\\pyworkbench-examples\\doc\\source\\examples\\cyclic-symmetry-analysis\\deformation.png:   0%|          | 0.00/9.46k [00:00<?, ?B/s]"
     ]
    },
    {
     "name": "stderr",
     "output_type": "stream",
     "text": [
      "\r",
      "Downloading dns:///127.0.0.1:54031:C:\\Users\\ansys\\AppData\\Local\\Temp\\WB_ansys_9228_2\\wbnew_files\\dp0\\SYS-6\\MECH\\deformation.png to C:\\Users\\ansys\\actions-runner\\_work\\pyworkbench-examples\\pyworkbench-examples\\pyworkbench-examples\\doc\\source\\examples\\cyclic-symmetry-analysis\\deformation.png: 100%|██████████| 9.46k/9.46k [00:00<?, ?B/s]"
     ]
    },
    {
     "name": "stderr",
     "output_type": "stream",
     "text": [
      "\n"
     ]
    },
    {
     "name": "stderr",
     "output_type": "stream",
     "text": [
      "\r",
      "Downloading dns:///127.0.0.1:54031:C:\\Users\\ansys\\AppData\\Local\\Temp\\WB_ansys_9228_2\\wbnew_files\\dp0\\SYS-6\\MECH\\ds.dat to C:\\Users\\ansys\\actions-runner\\_work\\pyworkbench-examples\\pyworkbench-examples\\pyworkbench-examples\\doc\\source\\examples\\cyclic-symmetry-analysis\\ds.dat:   0%|          | 0.00/7.50M [00:00<?, ?B/s]"
     ]
    },
    {
     "name": "stderr",
     "output_type": "stream",
     "text": [
      "\r",
      "Downloading dns:///127.0.0.1:54031:C:\\Users\\ansys\\AppData\\Local\\Temp\\WB_ansys_9228_2\\wbnew_files\\dp0\\SYS-6\\MECH\\ds.dat to C:\\Users\\ansys\\actions-runner\\_work\\pyworkbench-examples\\pyworkbench-examples\\pyworkbench-examples\\doc\\source\\examples\\cyclic-symmetry-analysis\\ds.dat: 100%|██████████| 7.50M/7.50M [00:00<00:00, 315MB/s]"
     ]
    },
    {
     "name": "stderr",
     "output_type": "stream",
     "text": [
      "\n"
     ]
    },
    {
     "name": "stderr",
     "output_type": "stream",
     "text": [
      "\r",
      "Downloading dns:///127.0.0.1:54031:C:\\Users\\ansys\\AppData\\Local\\Temp\\WB_ansys_9228_2\\wbnew_files\\dp0\\SYS-6\\MECH\\file.aapresults to C:\\Users\\ansys\\actions-runner\\_work\\pyworkbench-examples\\pyworkbench-examples\\pyworkbench-examples\\doc\\source\\examples\\cyclic-symmetry-analysis\\file.aapresults:   0%|          | 0.00/1.07k [00:00<?, ?B/s]"
     ]
    },
    {
     "name": "stderr",
     "output_type": "stream",
     "text": [
      "\r",
      "Downloading dns:///127.0.0.1:54031:C:\\Users\\ansys\\AppData\\Local\\Temp\\WB_ansys_9228_2\\wbnew_files\\dp0\\SYS-6\\MECH\\file.aapresults to C:\\Users\\ansys\\actions-runner\\_work\\pyworkbench-examples\\pyworkbench-examples\\pyworkbench-examples\\doc\\source\\examples\\cyclic-symmetry-analysis\\file.aapresults: 100%|██████████| 1.07k/1.07k [00:00<00:00, 1.10MB/s]"
     ]
    },
    {
     "name": "stderr",
     "output_type": "stream",
     "text": [
      "\n"
     ]
    },
    {
     "name": "stderr",
     "output_type": "stream",
     "text": [
      "\r",
      "Downloading dns:///127.0.0.1:54031:C:\\Users\\ansys\\AppData\\Local\\Temp\\WB_ansys_9228_2\\wbnew_files\\dp0\\SYS-6\\MECH\\file.rst to C:\\Users\\ansys\\actions-runner\\_work\\pyworkbench-examples\\pyworkbench-examples\\pyworkbench-examples\\doc\\source\\examples\\cyclic-symmetry-analysis\\file.rst:   0%|          | 0.00/751M [00:00<?, ?B/s]"
     ]
    },
    {
     "name": "stderr",
     "output_type": "stream",
     "text": [
      "\r",
      "Downloading dns:///127.0.0.1:54031:C:\\Users\\ansys\\AppData\\Local\\Temp\\WB_ansys_9228_2\\wbnew_files\\dp0\\SYS-6\\MECH\\file.rst to C:\\Users\\ansys\\actions-runner\\_work\\pyworkbench-examples\\pyworkbench-examples\\pyworkbench-examples\\doc\\source\\examples\\cyclic-symmetry-analysis\\file.rst:   0%|          | 2.25M/751M [00:00<00:33, 23.6MB/s]"
     ]
    },
    {
     "name": "stderr",
     "output_type": "stream",
     "text": [
      "\r",
      "Downloading dns:///127.0.0.1:54031:C:\\Users\\ansys\\AppData\\Local\\Temp\\WB_ansys_9228_2\\wbnew_files\\dp0\\SYS-6\\MECH\\file.rst to C:\\Users\\ansys\\actions-runner\\_work\\pyworkbench-examples\\pyworkbench-examples\\pyworkbench-examples\\doc\\source\\examples\\cyclic-symmetry-analysis\\file.rst:   2%|▏         | 17.8M/751M [00:00<00:08, 89.5MB/s]"
     ]
    },
    {
     "name": "stderr",
     "output_type": "stream",
     "text": [
      "\r",
      "Downloading dns:///127.0.0.1:54031:C:\\Users\\ansys\\AppData\\Local\\Temp\\WB_ansys_9228_2\\wbnew_files\\dp0\\SYS-6\\MECH\\file.rst to C:\\Users\\ansys\\actions-runner\\_work\\pyworkbench-examples\\pyworkbench-examples\\pyworkbench-examples\\doc\\source\\examples\\cyclic-symmetry-analysis\\file.rst:   5%|▍         | 34.2M/751M [00:00<00:06, 108MB/s] "
     ]
    },
    {
     "name": "stderr",
     "output_type": "stream",
     "text": [
      "\r",
      "Downloading dns:///127.0.0.1:54031:C:\\Users\\ansys\\AppData\\Local\\Temp\\WB_ansys_9228_2\\wbnew_files\\dp0\\SYS-6\\MECH\\file.rst to C:\\Users\\ansys\\actions-runner\\_work\\pyworkbench-examples\\pyworkbench-examples\\pyworkbench-examples\\doc\\source\\examples\\cyclic-symmetry-analysis\\file.rst:   7%|▋         | 50.8M/751M [00:00<00:06, 116MB/s]"
     ]
    },
    {
     "name": "stderr",
     "output_type": "stream",
     "text": [
      "\r",
      "Downloading dns:///127.0.0.1:54031:C:\\Users\\ansys\\AppData\\Local\\Temp\\WB_ansys_9228_2\\wbnew_files\\dp0\\SYS-6\\MECH\\file.rst to C:\\Users\\ansys\\actions-runner\\_work\\pyworkbench-examples\\pyworkbench-examples\\pyworkbench-examples\\doc\\source\\examples\\cyclic-symmetry-analysis\\file.rst:   9%|▉         | 67.2M/751M [00:00<00:06, 119MB/s]"
     ]
    },
    {
     "name": "stderr",
     "output_type": "stream",
     "text": [
      "\r",
      "Downloading dns:///127.0.0.1:54031:C:\\Users\\ansys\\AppData\\Local\\Temp\\WB_ansys_9228_2\\wbnew_files\\dp0\\SYS-6\\MECH\\file.rst to C:\\Users\\ansys\\actions-runner\\_work\\pyworkbench-examples\\pyworkbench-examples\\pyworkbench-examples\\doc\\source\\examples\\cyclic-symmetry-analysis\\file.rst:  11%|█         | 83.8M/751M [00:00<00:05, 121MB/s]"
     ]
    },
    {
     "name": "stderr",
     "output_type": "stream",
     "text": [
      "\r",
      "Downloading dns:///127.0.0.1:54031:C:\\Users\\ansys\\AppData\\Local\\Temp\\WB_ansys_9228_2\\wbnew_files\\dp0\\SYS-6\\MECH\\file.rst to C:\\Users\\ansys\\actions-runner\\_work\\pyworkbench-examples\\pyworkbench-examples\\pyworkbench-examples\\doc\\source\\examples\\cyclic-symmetry-analysis\\file.rst:  13%|█▎        | 100M/751M [00:00<00:05, 123MB/s] "
     ]
    },
    {
     "name": "stderr",
     "output_type": "stream",
     "text": [
      "\r",
      "Downloading dns:///127.0.0.1:54031:C:\\Users\\ansys\\AppData\\Local\\Temp\\WB_ansys_9228_2\\wbnew_files\\dp0\\SYS-6\\MECH\\file.rst to C:\\Users\\ansys\\actions-runner\\_work\\pyworkbench-examples\\pyworkbench-examples\\pyworkbench-examples\\doc\\source\\examples\\cyclic-symmetry-analysis\\file.rst:  16%|█▌        | 117M/751M [00:01<00:05, 125MB/s]"
     ]
    },
    {
     "name": "stderr",
     "output_type": "stream",
     "text": [
      "\r",
      "Downloading dns:///127.0.0.1:54031:C:\\Users\\ansys\\AppData\\Local\\Temp\\WB_ansys_9228_2\\wbnew_files\\dp0\\SYS-6\\MECH\\file.rst to C:\\Users\\ansys\\actions-runner\\_work\\pyworkbench-examples\\pyworkbench-examples\\pyworkbench-examples\\doc\\source\\examples\\cyclic-symmetry-analysis\\file.rst:  18%|█▊        | 133M/751M [00:01<00:05, 126MB/s]"
     ]
    },
    {
     "name": "stderr",
     "output_type": "stream",
     "text": [
      "\r",
      "Downloading dns:///127.0.0.1:54031:C:\\Users\\ansys\\AppData\\Local\\Temp\\WB_ansys_9228_2\\wbnew_files\\dp0\\SYS-6\\MECH\\file.rst to C:\\Users\\ansys\\actions-runner\\_work\\pyworkbench-examples\\pyworkbench-examples\\pyworkbench-examples\\doc\\source\\examples\\cyclic-symmetry-analysis\\file.rst:  20%|█▉        | 150M/751M [00:01<00:05, 124MB/s]"
     ]
    },
    {
     "name": "stderr",
     "output_type": "stream",
     "text": [
      "\r",
      "Downloading dns:///127.0.0.1:54031:C:\\Users\\ansys\\AppData\\Local\\Temp\\WB_ansys_9228_2\\wbnew_files\\dp0\\SYS-6\\MECH\\file.rst to C:\\Users\\ansys\\actions-runner\\_work\\pyworkbench-examples\\pyworkbench-examples\\pyworkbench-examples\\doc\\source\\examples\\cyclic-symmetry-analysis\\file.rst:  22%|██▏       | 166M/751M [00:01<00:04, 123MB/s]"
     ]
    },
    {
     "name": "stderr",
     "output_type": "stream",
     "text": [
      "\r",
      "Downloading dns:///127.0.0.1:54031:C:\\Users\\ansys\\AppData\\Local\\Temp\\WB_ansys_9228_2\\wbnew_files\\dp0\\SYS-6\\MECH\\file.rst to C:\\Users\\ansys\\actions-runner\\_work\\pyworkbench-examples\\pyworkbench-examples\\pyworkbench-examples\\doc\\source\\examples\\cyclic-symmetry-analysis\\file.rst:  24%|██▍       | 183M/751M [00:01<00:04, 122MB/s]"
     ]
    },
    {
     "name": "stderr",
     "output_type": "stream",
     "text": [
      "\r",
      "Downloading dns:///127.0.0.1:54031:C:\\Users\\ansys\\AppData\\Local\\Temp\\WB_ansys_9228_2\\wbnew_files\\dp0\\SYS-6\\MECH\\file.rst to C:\\Users\\ansys\\actions-runner\\_work\\pyworkbench-examples\\pyworkbench-examples\\pyworkbench-examples\\doc\\source\\examples\\cyclic-symmetry-analysis\\file.rst:  27%|██▋       | 199M/751M [00:01<00:04, 119MB/s]"
     ]
    },
    {
     "name": "stderr",
     "output_type": "stream",
     "text": [
      "\r",
      "Downloading dns:///127.0.0.1:54031:C:\\Users\\ansys\\AppData\\Local\\Temp\\WB_ansys_9228_2\\wbnew_files\\dp0\\SYS-6\\MECH\\file.rst to C:\\Users\\ansys\\actions-runner\\_work\\pyworkbench-examples\\pyworkbench-examples\\pyworkbench-examples\\doc\\source\\examples\\cyclic-symmetry-analysis\\file.rst:  29%|██▊       | 216M/751M [00:01<00:04, 122MB/s]"
     ]
    },
    {
     "name": "stderr",
     "output_type": "stream",
     "text": [
      "\r",
      "Downloading dns:///127.0.0.1:54031:C:\\Users\\ansys\\AppData\\Local\\Temp\\WB_ansys_9228_2\\wbnew_files\\dp0\\SYS-6\\MECH\\file.rst to C:\\Users\\ansys\\actions-runner\\_work\\pyworkbench-examples\\pyworkbench-examples\\pyworkbench-examples\\doc\\source\\examples\\cyclic-symmetry-analysis\\file.rst:  31%|███       | 232M/751M [00:02<00:04, 124MB/s]"
     ]
    },
    {
     "name": "stderr",
     "output_type": "stream",
     "text": [
      "\r",
      "Downloading dns:///127.0.0.1:54031:C:\\Users\\ansys\\AppData\\Local\\Temp\\WB_ansys_9228_2\\wbnew_files\\dp0\\SYS-6\\MECH\\file.rst to C:\\Users\\ansys\\actions-runner\\_work\\pyworkbench-examples\\pyworkbench-examples\\pyworkbench-examples\\doc\\source\\examples\\cyclic-symmetry-analysis\\file.rst:  33%|███▎      | 249M/751M [00:02<00:04, 125MB/s]"
     ]
    },
    {
     "name": "stderr",
     "output_type": "stream",
     "text": [
      "\r",
      "Downloading dns:///127.0.0.1:54031:C:\\Users\\ansys\\AppData\\Local\\Temp\\WB_ansys_9228_2\\wbnew_files\\dp0\\SYS-6\\MECH\\file.rst to C:\\Users\\ansys\\actions-runner\\_work\\pyworkbench-examples\\pyworkbench-examples\\pyworkbench-examples\\doc\\source\\examples\\cyclic-symmetry-analysis\\file.rst:  35%|███▌      | 265M/751M [00:02<00:04, 127MB/s]"
     ]
    },
    {
     "name": "stderr",
     "output_type": "stream",
     "text": [
      "\r",
      "Downloading dns:///127.0.0.1:54031:C:\\Users\\ansys\\AppData\\Local\\Temp\\WB_ansys_9228_2\\wbnew_files\\dp0\\SYS-6\\MECH\\file.rst to C:\\Users\\ansys\\actions-runner\\_work\\pyworkbench-examples\\pyworkbench-examples\\pyworkbench-examples\\doc\\source\\examples\\cyclic-symmetry-analysis\\file.rst:  38%|███▊      | 282M/751M [00:02<00:03, 124MB/s]"
     ]
    },
    {
     "name": "stderr",
     "output_type": "stream",
     "text": [
      "\r",
      "Downloading dns:///127.0.0.1:54031:C:\\Users\\ansys\\AppData\\Local\\Temp\\WB_ansys_9228_2\\wbnew_files\\dp0\\SYS-6\\MECH\\file.rst to C:\\Users\\ansys\\actions-runner\\_work\\pyworkbench-examples\\pyworkbench-examples\\pyworkbench-examples\\doc\\source\\examples\\cyclic-symmetry-analysis\\file.rst:  40%|███▉      | 298M/751M [00:02<00:03, 124MB/s]"
     ]
    },
    {
     "name": "stderr",
     "output_type": "stream",
     "text": [
      "\r",
      "Downloading dns:///127.0.0.1:54031:C:\\Users\\ansys\\AppData\\Local\\Temp\\WB_ansys_9228_2\\wbnew_files\\dp0\\SYS-6\\MECH\\file.rst to C:\\Users\\ansys\\actions-runner\\_work\\pyworkbench-examples\\pyworkbench-examples\\pyworkbench-examples\\doc\\source\\examples\\cyclic-symmetry-analysis\\file.rst:  42%|████▏     | 315M/751M [00:02<00:03, 123MB/s]"
     ]
    },
    {
     "name": "stderr",
     "output_type": "stream",
     "text": [
      "\r",
      "Downloading dns:///127.0.0.1:54031:C:\\Users\\ansys\\AppData\\Local\\Temp\\WB_ansys_9228_2\\wbnew_files\\dp0\\SYS-6\\MECH\\file.rst to C:\\Users\\ansys\\actions-runner\\_work\\pyworkbench-examples\\pyworkbench-examples\\pyworkbench-examples\\doc\\source\\examples\\cyclic-symmetry-analysis\\file.rst:  44%|████▍     | 331M/751M [00:02<00:03, 125MB/s]"
     ]
    },
    {
     "name": "stderr",
     "output_type": "stream",
     "text": [
      "\r",
      "Downloading dns:///127.0.0.1:54031:C:\\Users\\ansys\\AppData\\Local\\Temp\\WB_ansys_9228_2\\wbnew_files\\dp0\\SYS-6\\MECH\\file.rst to C:\\Users\\ansys\\actions-runner\\_work\\pyworkbench-examples\\pyworkbench-examples\\pyworkbench-examples\\doc\\source\\examples\\cyclic-symmetry-analysis\\file.rst:  46%|████▋     | 348M/751M [00:03<00:03, 127MB/s]"
     ]
    },
    {
     "name": "stderr",
     "output_type": "stream",
     "text": [
      "\r",
      "Downloading dns:///127.0.0.1:54031:C:\\Users\\ansys\\AppData\\Local\\Temp\\WB_ansys_9228_2\\wbnew_files\\dp0\\SYS-6\\MECH\\file.rst to C:\\Users\\ansys\\actions-runner\\_work\\pyworkbench-examples\\pyworkbench-examples\\pyworkbench-examples\\doc\\source\\examples\\cyclic-symmetry-analysis\\file.rst:  48%|████▊     | 364M/751M [00:03<00:03, 127MB/s]"
     ]
    },
    {
     "name": "stderr",
     "output_type": "stream",
     "text": [
      "\r",
      "Downloading dns:///127.0.0.1:54031:C:\\Users\\ansys\\AppData\\Local\\Temp\\WB_ansys_9228_2\\wbnew_files\\dp0\\SYS-6\\MECH\\file.rst to C:\\Users\\ansys\\actions-runner\\_work\\pyworkbench-examples\\pyworkbench-examples\\pyworkbench-examples\\doc\\source\\examples\\cyclic-symmetry-analysis\\file.rst:  51%|█████     | 381M/751M [00:03<00:03, 113MB/s]"
     ]
    },
    {
     "name": "stderr",
     "output_type": "stream",
     "text": [
      "\r",
      "Downloading dns:///127.0.0.1:54031:C:\\Users\\ansys\\AppData\\Local\\Temp\\WB_ansys_9228_2\\wbnew_files\\dp0\\SYS-6\\MECH\\file.rst to C:\\Users\\ansys\\actions-runner\\_work\\pyworkbench-examples\\pyworkbench-examples\\pyworkbench-examples\\doc\\source\\examples\\cyclic-symmetry-analysis\\file.rst:  53%|█████▎    | 397M/751M [00:03<00:03, 117MB/s]"
     ]
    },
    {
     "name": "stderr",
     "output_type": "stream",
     "text": [
      "\r",
      "Downloading dns:///127.0.0.1:54031:C:\\Users\\ansys\\AppData\\Local\\Temp\\WB_ansys_9228_2\\wbnew_files\\dp0\\SYS-6\\MECH\\file.rst to C:\\Users\\ansys\\actions-runner\\_work\\pyworkbench-examples\\pyworkbench-examples\\pyworkbench-examples\\doc\\source\\examples\\cyclic-symmetry-analysis\\file.rst:  55%|█████▌    | 414M/751M [00:03<00:03, 117MB/s]"
     ]
    },
    {
     "name": "stderr",
     "output_type": "stream",
     "text": [
      "\r",
      "Downloading dns:///127.0.0.1:54031:C:\\Users\\ansys\\AppData\\Local\\Temp\\WB_ansys_9228_2\\wbnew_files\\dp0\\SYS-6\\MECH\\file.rst to C:\\Users\\ansys\\actions-runner\\_work\\pyworkbench-examples\\pyworkbench-examples\\pyworkbench-examples\\doc\\source\\examples\\cyclic-symmetry-analysis\\file.rst:  57%|█████▋    | 430M/751M [00:03<00:02, 116MB/s]"
     ]
    },
    {
     "name": "stderr",
     "output_type": "stream",
     "text": [
      "\r",
      "Downloading dns:///127.0.0.1:54031:C:\\Users\\ansys\\AppData\\Local\\Temp\\WB_ansys_9228_2\\wbnew_files\\dp0\\SYS-6\\MECH\\file.rst to C:\\Users\\ansys\\actions-runner\\_work\\pyworkbench-examples\\pyworkbench-examples\\pyworkbench-examples\\doc\\source\\examples\\cyclic-symmetry-analysis\\file.rst:  59%|█████▉    | 447M/751M [00:03<00:02, 118MB/s]"
     ]
    },
    {
     "name": "stderr",
     "output_type": "stream",
     "text": [
      "\r",
      "Downloading dns:///127.0.0.1:54031:C:\\Users\\ansys\\AppData\\Local\\Temp\\WB_ansys_9228_2\\wbnew_files\\dp0\\SYS-6\\MECH\\file.rst to C:\\Users\\ansys\\actions-runner\\_work\\pyworkbench-examples\\pyworkbench-examples\\pyworkbench-examples\\doc\\source\\examples\\cyclic-symmetry-analysis\\file.rst:  62%|██████▏   | 463M/751M [00:04<00:02, 121MB/s]"
     ]
    },
    {
     "name": "stderr",
     "output_type": "stream",
     "text": [
      "\r",
      "Downloading dns:///127.0.0.1:54031:C:\\Users\\ansys\\AppData\\Local\\Temp\\WB_ansys_9228_2\\wbnew_files\\dp0\\SYS-6\\MECH\\file.rst to C:\\Users\\ansys\\actions-runner\\_work\\pyworkbench-examples\\pyworkbench-examples\\pyworkbench-examples\\doc\\source\\examples\\cyclic-symmetry-analysis\\file.rst:  64%|██████▍   | 480M/751M [00:04<00:02, 121MB/s]"
     ]
    },
    {
     "name": "stderr",
     "output_type": "stream",
     "text": [
      "\r",
      "Downloading dns:///127.0.0.1:54031:C:\\Users\\ansys\\AppData\\Local\\Temp\\WB_ansys_9228_2\\wbnew_files\\dp0\\SYS-6\\MECH\\file.rst to C:\\Users\\ansys\\actions-runner\\_work\\pyworkbench-examples\\pyworkbench-examples\\pyworkbench-examples\\doc\\source\\examples\\cyclic-symmetry-analysis\\file.rst:  66%|██████▌   | 496M/751M [00:04<00:02, 122MB/s]"
     ]
    },
    {
     "name": "stderr",
     "output_type": "stream",
     "text": [
      "\r",
      "Downloading dns:///127.0.0.1:54031:C:\\Users\\ansys\\AppData\\Local\\Temp\\WB_ansys_9228_2\\wbnew_files\\dp0\\SYS-6\\MECH\\file.rst to C:\\Users\\ansys\\actions-runner\\_work\\pyworkbench-examples\\pyworkbench-examples\\pyworkbench-examples\\doc\\source\\examples\\cyclic-symmetry-analysis\\file.rst:  68%|██████▊   | 513M/751M [00:04<00:02, 123MB/s]"
     ]
    },
    {
     "name": "stderr",
     "output_type": "stream",
     "text": [
      "\r",
      "Downloading dns:///127.0.0.1:54031:C:\\Users\\ansys\\AppData\\Local\\Temp\\WB_ansys_9228_2\\wbnew_files\\dp0\\SYS-6\\MECH\\file.rst to C:\\Users\\ansys\\actions-runner\\_work\\pyworkbench-examples\\pyworkbench-examples\\pyworkbench-examples\\doc\\source\\examples\\cyclic-symmetry-analysis\\file.rst:  70%|███████   | 529M/751M [00:04<00:01, 124MB/s]"
     ]
    },
    {
     "name": "stderr",
     "output_type": "stream",
     "text": [
      "\r",
      "Downloading dns:///127.0.0.1:54031:C:\\Users\\ansys\\AppData\\Local\\Temp\\WB_ansys_9228_2\\wbnew_files\\dp0\\SYS-6\\MECH\\file.rst to C:\\Users\\ansys\\actions-runner\\_work\\pyworkbench-examples\\pyworkbench-examples\\pyworkbench-examples\\doc\\source\\examples\\cyclic-symmetry-analysis\\file.rst:  73%|███████▎  | 546M/751M [00:04<00:01, 122MB/s]"
     ]
    },
    {
     "name": "stderr",
     "output_type": "stream",
     "text": [
      "\r",
      "Downloading dns:///127.0.0.1:54031:C:\\Users\\ansys\\AppData\\Local\\Temp\\WB_ansys_9228_2\\wbnew_files\\dp0\\SYS-6\\MECH\\file.rst to C:\\Users\\ansys\\actions-runner\\_work\\pyworkbench-examples\\pyworkbench-examples\\pyworkbench-examples\\doc\\source\\examples\\cyclic-symmetry-analysis\\file.rst:  75%|███████▍  | 562M/751M [00:04<00:01, 124MB/s]"
     ]
    },
    {
     "name": "stderr",
     "output_type": "stream",
     "text": [
      "\r",
      "Downloading dns:///127.0.0.1:54031:C:\\Users\\ansys\\AppData\\Local\\Temp\\WB_ansys_9228_2\\wbnew_files\\dp0\\SYS-6\\MECH\\file.rst to C:\\Users\\ansys\\actions-runner\\_work\\pyworkbench-examples\\pyworkbench-examples\\pyworkbench-examples\\doc\\source\\examples\\cyclic-symmetry-analysis\\file.rst:  77%|███████▋  | 579M/751M [00:05<00:01, 124MB/s]"
     ]
    },
    {
     "name": "stderr",
     "output_type": "stream",
     "text": [
      "\r",
      "Downloading dns:///127.0.0.1:54031:C:\\Users\\ansys\\AppData\\Local\\Temp\\WB_ansys_9228_2\\wbnew_files\\dp0\\SYS-6\\MECH\\file.rst to C:\\Users\\ansys\\actions-runner\\_work\\pyworkbench-examples\\pyworkbench-examples\\pyworkbench-examples\\doc\\source\\examples\\cyclic-symmetry-analysis\\file.rst:  79%|███████▉  | 595M/751M [00:05<00:01, 125MB/s]"
     ]
    },
    {
     "name": "stderr",
     "output_type": "stream",
     "text": [
      "\r",
      "Downloading dns:///127.0.0.1:54031:C:\\Users\\ansys\\AppData\\Local\\Temp\\WB_ansys_9228_2\\wbnew_files\\dp0\\SYS-6\\MECH\\file.rst to C:\\Users\\ansys\\actions-runner\\_work\\pyworkbench-examples\\pyworkbench-examples\\pyworkbench-examples\\doc\\source\\examples\\cyclic-symmetry-analysis\\file.rst:  81%|████████▏ | 612M/751M [00:05<00:01, 126MB/s]"
     ]
    },
    {
     "name": "stderr",
     "output_type": "stream",
     "text": [
      "\r",
      "Downloading dns:///127.0.0.1:54031:C:\\Users\\ansys\\AppData\\Local\\Temp\\WB_ansys_9228_2\\wbnew_files\\dp0\\SYS-6\\MECH\\file.rst to C:\\Users\\ansys\\actions-runner\\_work\\pyworkbench-examples\\pyworkbench-examples\\pyworkbench-examples\\doc\\source\\examples\\cyclic-symmetry-analysis\\file.rst:  84%|████████▎ | 628M/751M [00:05<00:01, 126MB/s]"
     ]
    },
    {
     "name": "stderr",
     "output_type": "stream",
     "text": [
      "\r",
      "Downloading dns:///127.0.0.1:54031:C:\\Users\\ansys\\AppData\\Local\\Temp\\WB_ansys_9228_2\\wbnew_files\\dp0\\SYS-6\\MECH\\file.rst to C:\\Users\\ansys\\actions-runner\\_work\\pyworkbench-examples\\pyworkbench-examples\\pyworkbench-examples\\doc\\source\\examples\\cyclic-symmetry-analysis\\file.rst:  86%|████████▌ | 645M/751M [00:05<00:00, 125MB/s]"
     ]
    },
    {
     "name": "stderr",
     "output_type": "stream",
     "text": [
      "\r",
      "Downloading dns:///127.0.0.1:54031:C:\\Users\\ansys\\AppData\\Local\\Temp\\WB_ansys_9228_2\\wbnew_files\\dp0\\SYS-6\\MECH\\file.rst to C:\\Users\\ansys\\actions-runner\\_work\\pyworkbench-examples\\pyworkbench-examples\\pyworkbench-examples\\doc\\source\\examples\\cyclic-symmetry-analysis\\file.rst:  88%|████████▊ | 661M/751M [00:05<00:00, 122MB/s]"
     ]
    },
    {
     "name": "stderr",
     "output_type": "stream",
     "text": [
      "\r",
      "Downloading dns:///127.0.0.1:54031:C:\\Users\\ansys\\AppData\\Local\\Temp\\WB_ansys_9228_2\\wbnew_files\\dp0\\SYS-6\\MECH\\file.rst to C:\\Users\\ansys\\actions-runner\\_work\\pyworkbench-examples\\pyworkbench-examples\\pyworkbench-examples\\doc\\source\\examples\\cyclic-symmetry-analysis\\file.rst:  90%|█████████ | 678M/751M [00:05<00:00, 122MB/s]"
     ]
    },
    {
     "name": "stderr",
     "output_type": "stream",
     "text": [
      "\r",
      "Downloading dns:///127.0.0.1:54031:C:\\Users\\ansys\\AppData\\Local\\Temp\\WB_ansys_9228_2\\wbnew_files\\dp0\\SYS-6\\MECH\\file.rst to C:\\Users\\ansys\\actions-runner\\_work\\pyworkbench-examples\\pyworkbench-examples\\pyworkbench-examples\\doc\\source\\examples\\cyclic-symmetry-analysis\\file.rst:  92%|█████████▏| 694M/751M [00:06<00:00, 122MB/s]"
     ]
    },
    {
     "name": "stderr",
     "output_type": "stream",
     "text": [
      "\r",
      "Downloading dns:///127.0.0.1:54031:C:\\Users\\ansys\\AppData\\Local\\Temp\\WB_ansys_9228_2\\wbnew_files\\dp0\\SYS-6\\MECH\\file.rst to C:\\Users\\ansys\\actions-runner\\_work\\pyworkbench-examples\\pyworkbench-examples\\pyworkbench-examples\\doc\\source\\examples\\cyclic-symmetry-analysis\\file.rst:  95%|█████████▍| 711M/751M [00:06<00:00, 122MB/s]"
     ]
    },
    {
     "name": "stderr",
     "output_type": "stream",
     "text": [
      "\r",
      "Downloading dns:///127.0.0.1:54031:C:\\Users\\ansys\\AppData\\Local\\Temp\\WB_ansys_9228_2\\wbnew_files\\dp0\\SYS-6\\MECH\\file.rst to C:\\Users\\ansys\\actions-runner\\_work\\pyworkbench-examples\\pyworkbench-examples\\pyworkbench-examples\\doc\\source\\examples\\cyclic-symmetry-analysis\\file.rst:  97%|█████████▋| 727M/751M [00:06<00:00, 123MB/s]"
     ]
    },
    {
     "name": "stderr",
     "output_type": "stream",
     "text": [
      "\r",
      "Downloading dns:///127.0.0.1:54031:C:\\Users\\ansys\\AppData\\Local\\Temp\\WB_ansys_9228_2\\wbnew_files\\dp0\\SYS-6\\MECH\\file.rst to C:\\Users\\ansys\\actions-runner\\_work\\pyworkbench-examples\\pyworkbench-examples\\pyworkbench-examples\\doc\\source\\examples\\cyclic-symmetry-analysis\\file.rst:  99%|█████████▉| 744M/751M [00:06<00:00, 124MB/s]"
     ]
    },
    {
     "name": "stderr",
     "output_type": "stream",
     "text": [
      "\r",
      "Downloading dns:///127.0.0.1:54031:C:\\Users\\ansys\\AppData\\Local\\Temp\\WB_ansys_9228_2\\wbnew_files\\dp0\\SYS-6\\MECH\\file.rst to C:\\Users\\ansys\\actions-runner\\_work\\pyworkbench-examples\\pyworkbench-examples\\pyworkbench-examples\\doc\\source\\examples\\cyclic-symmetry-analysis\\file.rst: 100%|██████████| 751M/751M [00:06<00:00, 122MB/s]"
     ]
    },
    {
     "name": "stderr",
     "output_type": "stream",
     "text": [
      "\n"
     ]
    },
    {
     "name": "stderr",
     "output_type": "stream",
     "text": [
      "\r",
      "Downloading dns:///127.0.0.1:54031:C:\\Users\\ansys\\AppData\\Local\\Temp\\WB_ansys_9228_2\\wbnew_files\\dp0\\SYS-6\\MECH\\file0.err to C:\\Users\\ansys\\actions-runner\\_work\\pyworkbench-examples\\pyworkbench-examples\\pyworkbench-examples\\doc\\source\\examples\\cyclic-symmetry-analysis\\file0.err:   0%|          | 0.00/1.48k [00:00<?, ?B/s]"
     ]
    },
    {
     "name": "stderr",
     "output_type": "stream",
     "text": [
      "\r",
      "Downloading dns:///127.0.0.1:54031:C:\\Users\\ansys\\AppData\\Local\\Temp\\WB_ansys_9228_2\\wbnew_files\\dp0\\SYS-6\\MECH\\file0.err to C:\\Users\\ansys\\actions-runner\\_work\\pyworkbench-examples\\pyworkbench-examples\\pyworkbench-examples\\doc\\source\\examples\\cyclic-symmetry-analysis\\file0.err: 100%|██████████| 1.48k/1.48k [00:00<00:00, 1.52MB/s]"
     ]
    },
    {
     "name": "stderr",
     "output_type": "stream",
     "text": [
      "\n"
     ]
    },
    {
     "name": "stderr",
     "output_type": "stream",
     "text": [
      "\r",
      "Downloading dns:///127.0.0.1:54031:C:\\Users\\ansys\\AppData\\Local\\Temp\\WB_ansys_9228_2\\wbnew_files\\dp0\\SYS-6\\MECH\\MatML.xml to C:\\Users\\ansys\\actions-runner\\_work\\pyworkbench-examples\\pyworkbench-examples\\pyworkbench-examples\\doc\\source\\examples\\cyclic-symmetry-analysis\\MatML.xml:   0%|          | 0.00/28.4k [00:00<?, ?B/s]"
     ]
    },
    {
     "name": "stderr",
     "output_type": "stream",
     "text": [
      "\r",
      "Downloading dns:///127.0.0.1:54031:C:\\Users\\ansys\\AppData\\Local\\Temp\\WB_ansys_9228_2\\wbnew_files\\dp0\\SYS-6\\MECH\\MatML.xml to C:\\Users\\ansys\\actions-runner\\_work\\pyworkbench-examples\\pyworkbench-examples\\pyworkbench-examples\\doc\\source\\examples\\cyclic-symmetry-analysis\\MatML.xml: 100%|██████████| 28.4k/28.4k [00:00<?, ?B/s]"
     ]
    },
    {
     "name": "stderr",
     "output_type": "stream",
     "text": [
      "\n"
     ]
    },
    {
     "name": "stderr",
     "output_type": "stream",
     "text": [
      "\r",
      "Downloading dns:///127.0.0.1:54031:C:\\Users\\ansys\\AppData\\Local\\Temp\\WB_ansys_9228_2\\wbnew_files\\dp0\\SYS-6\\MECH\\solve.out to C:\\Users\\ansys\\actions-runner\\_work\\pyworkbench-examples\\pyworkbench-examples\\pyworkbench-examples\\doc\\source\\examples\\cyclic-symmetry-analysis\\solve.out:   0%|          | 0.00/50.3k [00:00<?, ?B/s]"
     ]
    },
    {
     "name": "stderr",
     "output_type": "stream",
     "text": [
      "\r",
      "Downloading dns:///127.0.0.1:54031:C:\\Users\\ansys\\AppData\\Local\\Temp\\WB_ansys_9228_2\\wbnew_files\\dp0\\SYS-6\\MECH\\solve.out to C:\\Users\\ansys\\actions-runner\\_work\\pyworkbench-examples\\pyworkbench-examples\\pyworkbench-examples\\doc\\source\\examples\\cyclic-symmetry-analysis\\solve.out: 100%|██████████| 50.3k/50.3k [00:00<00:00, 51.1MB/s]"
     ]
    },
    {
     "name": "stderr",
     "output_type": "stream",
     "text": [
      "\n"
     ]
    },
    {
     "data": {
      "text/plain": [
       "['C:\\\\Users\\\\ansys\\\\actions-runner\\\\_work\\\\pyworkbench-examples\\\\pyworkbench-examples\\\\pyworkbench-examples\\\\doc\\\\source\\\\examples\\\\cyclic-symmetry-analysis\\\\CAERep.xml',\n",
       " 'C:\\\\Users\\\\ansys\\\\actions-runner\\\\_work\\\\pyworkbench-examples\\\\pyworkbench-examples\\\\pyworkbench-examples\\\\doc\\\\source\\\\examples\\\\cyclic-symmetry-analysis\\\\CAERepOutput.xml',\n",
       " 'C:\\\\Users\\\\ansys\\\\actions-runner\\\\_work\\\\pyworkbench-examples\\\\pyworkbench-examples\\\\pyworkbench-examples\\\\doc\\\\source\\\\examples\\\\cyclic-symmetry-analysis\\\\cyclic_map.json',\n",
       " 'C:\\\\Users\\\\ansys\\\\actions-runner\\\\_work\\\\pyworkbench-examples\\\\pyworkbench-examples\\\\pyworkbench-examples\\\\doc\\\\source\\\\examples\\\\cyclic-symmetry-analysis\\\\deformation.png',\n",
       " 'C:\\\\Users\\\\ansys\\\\actions-runner\\\\_work\\\\pyworkbench-examples\\\\pyworkbench-examples\\\\pyworkbench-examples\\\\doc\\\\source\\\\examples\\\\cyclic-symmetry-analysis\\\\ds.dat',\n",
       " 'C:\\\\Users\\\\ansys\\\\actions-runner\\\\_work\\\\pyworkbench-examples\\\\pyworkbench-examples\\\\pyworkbench-examples\\\\doc\\\\source\\\\examples\\\\cyclic-symmetry-analysis\\\\file.aapresults',\n",
       " 'C:\\\\Users\\\\ansys\\\\actions-runner\\\\_work\\\\pyworkbench-examples\\\\pyworkbench-examples\\\\pyworkbench-examples\\\\doc\\\\source\\\\examples\\\\cyclic-symmetry-analysis\\\\file.rst',\n",
       " 'C:\\\\Users\\\\ansys\\\\actions-runner\\\\_work\\\\pyworkbench-examples\\\\pyworkbench-examples\\\\pyworkbench-examples\\\\doc\\\\source\\\\examples\\\\cyclic-symmetry-analysis\\\\file0.err',\n",
       " 'C:\\\\Users\\\\ansys\\\\actions-runner\\\\_work\\\\pyworkbench-examples\\\\pyworkbench-examples\\\\pyworkbench-examples\\\\doc\\\\source\\\\examples\\\\cyclic-symmetry-analysis\\\\MatML.xml',\n",
       " 'C:\\\\Users\\\\ansys\\\\actions-runner\\\\_work\\\\pyworkbench-examples\\\\pyworkbench-examples\\\\pyworkbench-examples\\\\doc\\\\source\\\\examples\\\\cyclic-symmetry-analysis\\\\solve.out']"
      ]
     },
     "execution_count": 24,
     "metadata": {},
     "output_type": "execute_result"
    }
   ],
   "source": [
    "current_working_directory = os.getcwd()\n",
    "mechanical.download(solve_out_path, target_dir=current_working_directory)"
   ]
  },
  {
   "cell_type": "markdown",
   "id": "cf6d9587",
   "metadata": {},
   "source": [
    "Finally, the `exit` method is called on both the PyMechanical and Workbench clients to gracefully shut down the services, ensuring that all resources are properly released."
   ]
  },
  {
   "cell_type": "code",
   "execution_count": 25,
   "id": "cc757c63",
   "metadata": {
    "execution": {
     "iopub.execute_input": "2025-10-07T20:53:08.007053Z",
     "iopub.status.busy": "2025-10-07T20:53:08.007053Z",
     "iopub.status.idle": "2025-10-07T20:53:21.496152Z",
     "shell.execute_reply": "2025-10-07T20:53:21.496152Z"
    }
   },
   "outputs": [],
   "source": [
    "mechanical.exit()\n",
    "wb.exit()"
   ]
  }
 ],
 "metadata": {
  "jupytext": {
   "cell_metadata_filter": "-all",
   "main_language": "python",
   "notebook_metadata_filter": "-all",
   "text_representation": {
    "extension": ".py",
    "format_name": "light"
   }
  },
  "language_info": {
   "codemirror_mode": {
    "name": "ipython",
    "version": 3
   },
   "file_extension": ".py",
   "mimetype": "text/x-python",
   "name": "python",
   "nbconvert_exporter": "python",
   "pygments_lexer": "ipython3",
   "version": "3.11.9"
  }
 },
 "nbformat": 4,
 "nbformat_minor": 5
}
