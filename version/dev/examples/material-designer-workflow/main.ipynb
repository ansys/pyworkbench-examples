{
 "cells": [
  {
   "cell_type": "markdown",
   "id": "d5e47aac",
   "metadata": {},
   "source": [
    "# Material Designer"
   ]
  },
  {
   "cell_type": "markdown",
   "id": "29297c5a",
   "metadata": {},
   "source": [
    "This notebook demonstrates the process of sending user-defined parameter values to a parameterized analysis and receive the corresponding simulation output via a Workbench service on a local machine."
   ]
  },
  {
   "cell_type": "code",
   "execution_count": 1,
   "id": "26bdb011",
   "metadata": {
    "execution": {
     "iopub.execute_input": "2025-10-07T20:54:17.753020Z",
     "iopub.status.busy": "2025-10-07T20:54:17.753020Z",
     "iopub.status.idle": "2025-10-07T20:54:17.770329Z",
     "shell.execute_reply": "2025-10-07T20:54:17.770329Z"
    }
   },
   "outputs": [],
   "source": [
    "import os\n",
    "import pathlib"
   ]
  },
  {
   "cell_type": "code",
   "execution_count": 2,
   "id": "931db01a",
   "metadata": {
    "execution": {
     "iopub.execute_input": "2025-10-07T20:54:17.770329Z",
     "iopub.status.busy": "2025-10-07T20:54:17.770329Z",
     "iopub.status.idle": "2025-10-07T20:54:17.945929Z",
     "shell.execute_reply": "2025-10-07T20:54:17.945929Z"
    }
   },
   "outputs": [],
   "source": [
    "from ansys.workbench.core import launch_workbench"
   ]
  },
  {
   "cell_type": "markdown",
   "id": "f7b2a41f",
   "metadata": {},
   "source": [
    "Launch the Workbench service on the local machine, using some options.\n",
    "Define several directories that will be used during the session.\n",
    "`workdir` is set to the parent directory of the current file.\n",
    "`assets`, `scripts`, and `wbpz` are subdirectories within the working directory.\n",
    "The `launch_workbench` function is called to start a Workbench session with specified directory."
   ]
  },
  {
   "cell_type": "code",
   "execution_count": 3,
   "id": "a927b680",
   "metadata": {
    "execution": {
     "iopub.execute_input": "2025-10-07T20:54:17.949661Z",
     "iopub.status.busy": "2025-10-07T20:54:17.949661Z",
     "iopub.status.idle": "2025-10-07T20:54:17.954759Z",
     "shell.execute_reply": "2025-10-07T20:54:17.954759Z"
    }
   },
   "outputs": [],
   "source": [
    "workdir = pathlib.Path(\"__file__\").parent"
   ]
  },
  {
   "cell_type": "code",
   "execution_count": 4,
   "id": "f28bfc30",
   "metadata": {
    "execution": {
     "iopub.execute_input": "2025-10-07T20:54:17.954759Z",
     "iopub.status.busy": "2025-10-07T20:54:17.954759Z",
     "iopub.status.idle": "2025-10-07T20:54:17.964054Z",
     "shell.execute_reply": "2025-10-07T20:54:17.964054Z"
    }
   },
   "outputs": [],
   "source": [
    "assets = workdir / \"assets\""
   ]
  },
  {
   "cell_type": "code",
   "execution_count": 5,
   "id": "cacc04d8",
   "metadata": {
    "execution": {
     "iopub.execute_input": "2025-10-07T20:54:17.967343Z",
     "iopub.status.busy": "2025-10-07T20:54:17.967343Z",
     "iopub.status.idle": "2025-10-07T20:54:51.576564Z",
     "shell.execute_reply": "2025-10-07T20:54:51.576564Z"
    }
   },
   "outputs": [],
   "source": [
    "wb = launch_workbench(client_workdir=str(workdir.absolute()))"
   ]
  },
  {
   "cell_type": "markdown",
   "id": "78ea8b7c",
   "metadata": {},
   "source": [
    "Upload the project files to the server using the `upload_file_from_example_repo` method.\n",
    "The file to upload is `MatDesigner.wbpz`."
   ]
  },
  {
   "cell_type": "code",
   "execution_count": 6,
   "id": "d969e457",
   "metadata": {
    "execution": {
     "iopub.execute_input": "2025-10-07T20:54:51.576564Z",
     "iopub.status.busy": "2025-10-07T20:54:51.576564Z",
     "iopub.status.idle": "2025-10-07T20:54:52.000829Z",
     "shell.execute_reply": "2025-10-07T20:54:52.000829Z"
    }
   },
   "outputs": [
    {
     "name": "stderr",
     "output_type": "stream",
     "text": [
      "\r",
      "Uploading MatDesigner.wbpz:   0%|          | 0.00/261k [00:00<?, ?B/s]"
     ]
    },
    {
     "name": "stderr",
     "output_type": "stream",
     "text": [
      "\r",
      "Uploading MatDesigner.wbpz: 100%|██████████| 261k/261k [00:00<00:00, 8.37MB/s]"
     ]
    },
    {
     "name": "stderr",
     "output_type": "stream",
     "text": [
      "\n"
     ]
    }
   ],
   "source": [
    "wb.upload_file_from_example_repo('material-designer-workflow/wbpz/MatDesigner.wbpz')"
   ]
  },
  {
   "cell_type": "markdown",
   "id": "ea9d3cfc",
   "metadata": {},
   "source": [
    "Execute a Workbench script (`project.wbjn`) to define the project and load the geometry using the `run_script_file` method.\n",
    "The `set_log_file` method is used to direct the logs to `wb_log_file.log`."
   ]
  },
  {
   "cell_type": "code",
   "execution_count": 7,
   "id": "815d3812",
   "metadata": {
    "execution": {
     "iopub.execute_input": "2025-10-07T20:54:52.002335Z",
     "iopub.status.busy": "2025-10-07T20:54:52.002335Z",
     "iopub.status.idle": "2025-10-07T20:54:58.852140Z",
     "shell.execute_reply": "2025-10-07T20:54:58.852140Z"
    }
   },
   "outputs": [],
   "source": [
    "export_path = 'wb_log_file.log'\n",
    "wb.set_log_file(export_path)\n",
    "sys_name = wb.run_script_file(str((assets / \"project.wbjn\").absolute()), log_level='info')"
   ]
  },
  {
   "cell_type": "markdown",
   "id": "a50003d5",
   "metadata": {},
   "source": [
    "Prepare the Workbench command template to make modifications to the material property, in this case the Young's modulus of the material"
   ]
  },
  {
   "cell_type": "code",
   "execution_count": 8,
   "id": "04ee6aba",
   "metadata": {
    "execution": {
     "iopub.execute_input": "2025-10-07T20:54:58.852140Z",
     "iopub.status.busy": "2025-10-07T20:54:58.852140Z",
     "iopub.status.idle": "2025-10-07T20:54:58.860854Z",
     "shell.execute_reply": "2025-10-07T20:54:58.860854Z"
    }
   },
   "outputs": [],
   "source": [
    "wbjn_template = \"\"\"designPoint1 = Parameters.GetDesignPoint(Name=\"0\")\n",
    "parameter1 = Parameters.GetParameter(Name=\"P1\")\n",
    "designPoint1.SetParameterExpression(\n",
    "    Parameter=parameter1,\n",
    "    Expression=\"{} [Pa]\")\n",
    "backgroundSession1 = UpdateAllDesignPoints(DesignPoints=[designPoint1])\n",
    "\"\"\""
   ]
  },
  {
   "cell_type": "markdown",
   "id": "f93da201",
   "metadata": {},
   "source": [
    "Update the project with a new value for the Young's modulus"
   ]
  },
  {
   "cell_type": "code",
   "execution_count": 9,
   "id": "91c050d8",
   "metadata": {
    "execution": {
     "iopub.execute_input": "2025-10-07T20:54:58.860854Z",
     "iopub.status.busy": "2025-10-07T20:54:58.860854Z",
     "iopub.status.idle": "2025-10-07T20:56:06.804667Z",
     "shell.execute_reply": "2025-10-07T20:56:06.804667Z"
    }
   },
   "outputs": [
    {
     "data": {
      "text/plain": [
       "{}"
      ]
     },
     "execution_count": 9,
     "metadata": {},
     "output_type": "execute_result"
    }
   ],
   "source": [
    "my_command = wbjn_template.format( 1.6e10 )\n",
    "wb.run_script_string( my_command )"
   ]
  },
  {
   "cell_type": "markdown",
   "id": "3e7aae1a",
   "metadata": {},
   "source": [
    "Extract output values. First, we prepare the Workbench script to quiry output parameter values"
   ]
  },
  {
   "cell_type": "code",
   "execution_count": 10,
   "id": "4d18dede",
   "metadata": {
    "execution": {
     "iopub.execute_input": "2025-10-07T20:56:06.804667Z",
     "iopub.status.busy": "2025-10-07T20:56:06.804667Z",
     "iopub.status.idle": "2025-10-07T20:56:06.813664Z",
     "shell.execute_reply": "2025-10-07T20:56:06.813664Z"
    }
   },
   "outputs": [],
   "source": [
    "extract_output = '''import json\n",
    "p = Parameters.GetParameter(Name=\"P{}\")\n",
    "my_tag = p.DisplayText\n",
    "wb_script_result =json.dumps( my_tag + ',' + str(p.Value) )\n",
    "'''"
   ]
  },
  {
   "cell_type": "markdown",
   "id": "4c0419ad",
   "metadata": {},
   "source": [
    "Get updated output values"
   ]
  },
  {
   "cell_type": "code",
   "execution_count": 11,
   "id": "d946eab9",
   "metadata": {
    "execution": {
     "iopub.execute_input": "2025-10-07T20:56:06.813664Z",
     "iopub.status.busy": "2025-10-07T20:56:06.813664Z",
     "iopub.status.idle": "2025-10-07T20:56:07.022818Z",
     "shell.execute_reply": "2025-10-07T20:56:07.022818Z"
    }
   },
   "outputs": [
    {
     "name": "stdout",
     "output_type": "stream",
     "text": [
      "{'E1': 3610882.9131690366, 'E2': 3610879.6096576294, 'E3': 799999806.0920515, 'G12': 898955.9989929767, 'G23': 157509427.7626837, 'G31': 157509427.7626837, 'nu12': 0.9912444183605882, 'nu13': 0.0013540814399848606, 'nu23': 0.0013540802011677141, 'rho': 392.499922259344}\n"
     ]
    }
   ],
   "source": [
    "outputs = {}\n",
    "for p in range( 2 , 12 ):\n",
    "    return_val = wb.run_script_string( extract_output.format( p ) ).split(',')\n",
    "    name = return_val[0]\n",
    "    parameter_val = float(return_val[1])\n",
    "    outputs[ name ] = parameter_val\n",
    "print( outputs )"
   ]
  },
  {
   "cell_type": "markdown",
   "id": "0a0b4192",
   "metadata": {},
   "source": [
    "Finally, call the `exit` method on the Workbench client to gracefully shut down the service."
   ]
  },
  {
   "cell_type": "code",
   "execution_count": 12,
   "id": "1a772d03",
   "metadata": {
    "execution": {
     "iopub.execute_input": "2025-10-07T20:56:07.026853Z",
     "iopub.status.busy": "2025-10-07T20:56:07.026853Z",
     "iopub.status.idle": "2025-10-07T20:56:19.299475Z",
     "shell.execute_reply": "2025-10-07T20:56:19.299475Z"
    }
   },
   "outputs": [],
   "source": [
    "wb.exit()"
   ]
  }
 ],
 "metadata": {
  "jupytext": {
   "cell_metadata_filter": "-all",
   "main_language": "python",
   "notebook_metadata_filter": "-all",
   "text_representation": {
    "extension": ".py",
    "format_name": "light"
   }
  },
  "language_info": {
   "codemirror_mode": {
    "name": "ipython",
    "version": 3
   },
   "file_extension": ".py",
   "mimetype": "text/x-python",
   "name": "python",
   "nbconvert_exporter": "python",
   "pygments_lexer": "ipython3",
   "version": "3.11.9"
  }
 },
 "nbformat": 4,
 "nbformat_minor": 5
}
