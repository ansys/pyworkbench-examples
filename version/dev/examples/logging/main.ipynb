{
 "cells": [
  {
   "cell_type": "markdown",
   "id": "68a4b4ba",
   "metadata": {},
   "source": [
    "# Logging\n",
    "\n",
    "This example showcases the logging capabilities of PyWorkbench."
   ]
  },
  {
   "cell_type": "code",
   "execution_count": 1,
   "id": "edadea2a",
   "metadata": {
    "execution": {
     "iopub.execute_input": "2025-10-07T20:53:25.464376Z",
     "iopub.status.busy": "2025-10-07T20:53:25.464376Z",
     "iopub.status.idle": "2025-10-07T20:53:25.660294Z",
     "shell.execute_reply": "2025-10-07T20:53:25.660294Z"
    }
   },
   "outputs": [],
   "source": [
    "import pathlib\n",
    "import os\n",
    "from ansys.workbench.core import launch_workbench"
   ]
  },
  {
   "cell_type": "markdown",
   "id": "9d735399",
   "metadata": {},
   "source": [
    "First, import the necessary modules. We import `pathlib` for handling filesystem paths and `os` for interacting with the operating system. The `launch_workbench` function from `ansys.workbench.core` is imported to start a Workbench session."
   ]
  },
  {
   "cell_type": "markdown",
   "id": "6695abae",
   "metadata": {},
   "source": [
    "Next, launch a Workbench session using PyWorkbench. Different directories are declared, including the client and server working directories, which should NOT be the same."
   ]
  },
  {
   "cell_type": "code",
   "execution_count": 2,
   "id": "5cfa251c",
   "metadata": {
    "execution": {
     "iopub.execute_input": "2025-10-07T20:53:25.660294Z",
     "iopub.status.busy": "2025-10-07T20:53:25.660294Z",
     "iopub.status.idle": "2025-10-07T20:53:25.668941Z",
     "shell.execute_reply": "2025-10-07T20:53:25.668941Z"
    }
   },
   "outputs": [],
   "source": [
    "workdir = pathlib.Path(\"__file__\").parent\n",
    "server_workdir = workdir / \"server_workdir\"\n",
    "client_workdir = workdir / \"client_workdir\"\n",
    "alternative_target_dir = workdir / \"alternative_target_dir\""
   ]
  },
  {
   "cell_type": "markdown",
   "id": "6941cb77",
   "metadata": {},
   "source": [
    "Here, we define several directories that will be used during the session.\n",
    "`workdir` is set to the directory containing the current file.\n",
    "`server_workdir`, `client_workdir`, and `alternative_target_dir` are subdirectories within the working directory."
   ]
  },
  {
   "cell_type": "markdown",
   "id": "8b9cfe17",
   "metadata": {},
   "source": [
    "Launch Workbench using previous directories:"
   ]
  },
  {
   "cell_type": "code",
   "execution_count": 3,
   "id": "a712d815",
   "metadata": {
    "execution": {
     "iopub.execute_input": "2025-10-07T20:53:25.670695Z",
     "iopub.status.busy": "2025-10-07T20:53:25.670695Z",
     "iopub.status.idle": "2025-10-07T20:53:59.320516Z",
     "shell.execute_reply": "2025-10-07T20:53:59.320516Z"
    }
   },
   "outputs": [],
   "source": [
    "wb = launch_workbench(server_workdir=str(server_workdir.absolute()), client_workdir=str(client_workdir.absolute()))"
   ]
  },
  {
   "cell_type": "markdown",
   "id": "3c7074e7",
   "metadata": {},
   "source": [
    "The `launch_workbench` function is called to start a Workbench session.\n",
    "`server_workdir` and `client_workdir` are set to their absolute paths to avoid any ambiguity in directory locations."
   ]
  },
  {
   "cell_type": "code",
   "execution_count": 4,
   "id": "32f4e283",
   "metadata": {
    "execution": {
     "iopub.execute_input": "2025-10-07T20:53:59.325344Z",
     "iopub.status.busy": "2025-10-07T20:53:59.320516Z",
     "iopub.status.idle": "2025-10-07T20:54:00.610431Z",
     "shell.execute_reply": "2025-10-07T20:54:00.610431Z"
    }
   },
   "outputs": [
    {
     "name": "stderr",
     "output_type": "stream",
     "text": [
      "\r",
      "Downloading server1._.zip:   0%|          | 0.00/337 [00:00<?, ?B/s]"
     ]
    },
    {
     "name": "stderr",
     "output_type": "stream",
     "text": [
      "\r",
      "Downloading server1._.zip: 100%|██████████| 337/337 [00:01<00:00, 329B/s]"
     ]
    },
    {
     "name": "stderr",
     "output_type": "stream",
     "text": [
      "\n"
     ]
    }
   ],
   "source": [
    "downloaded1 = wb.download_file('server1.*')"
   ]
  },
  {
   "cell_type": "markdown",
   "id": "902c2567",
   "metadata": {},
   "source": [
    "This command demonstrates how to download files from the server using a wildcard.\n",
    "The `download_file` method is used to fetch all files matching the pattern `server1.*` from the server to the client."
   ]
  },
  {
   "cell_type": "code",
   "execution_count": 5,
   "id": "6b0c414f",
   "metadata": {
    "execution": {
     "iopub.execute_input": "2025-10-07T20:54:00.610431Z",
     "iopub.status.busy": "2025-10-07T20:54:00.610431Z",
     "iopub.status.idle": "2025-10-07T20:54:01.676196Z",
     "shell.execute_reply": "2025-10-07T20:54:01.676196Z"
    }
   },
   "outputs": [
    {
     "name": "stderr",
     "output_type": "stream",
     "text": [
      "\r",
      "Downloading _.zip:   0%|          | 0.00/652 [00:00<?, ?B/s]"
     ]
    },
    {
     "name": "stderr",
     "output_type": "stream",
     "text": [
      "\r",
      "Downloading _.zip: 100%|██████████| 652/652 [00:01<00:00, 630B/s]"
     ]
    },
    {
     "name": "stderr",
     "output_type": "stream",
     "text": [
      "\n"
     ]
    }
   ],
   "source": [
    "downloaded2 = wb.download_file('*', target_dir=alternative_target_dir)"
   ]
  },
  {
   "cell_type": "markdown",
   "id": "883ff99a",
   "metadata": {},
   "source": [
    "This command downloads the entire contents of the server directory to an alternative local directory specified by `alternative_target_dir`."
   ]
  },
  {
   "cell_type": "code",
   "execution_count": 6,
   "id": "8c2e2996",
   "metadata": {
    "execution": {
     "iopub.execute_input": "2025-10-07T20:54:01.676196Z",
     "iopub.status.busy": "2025-10-07T20:54:01.676196Z",
     "iopub.status.idle": "2025-10-07T20:54:01.776845Z",
     "shell.execute_reply": "2025-10-07T20:54:01.776845Z"
    }
   },
   "outputs": [
    {
     "name": "stderr",
     "output_type": "stream",
     "text": [
      "\r",
      "Uploading cylinder.txt:   0%|          | 0.00/10.0 [00:00<?, ?B/s]"
     ]
    },
    {
     "name": "stderr",
     "output_type": "stream",
     "text": [
      "\r",
      "Uploading cylinder.txt: 100%|██████████| 10.0/10.0 [00:00<00:00, 632B/s]"
     ]
    },
    {
     "name": "stderr",
     "output_type": "stream",
     "text": [
      "\n"
     ]
    },
    {
     "name": "stderr",
     "output_type": "stream",
     "text": [
      "\r",
      "Uploading longbar.txt:   0%|          | 0.00/9.00 [00:00<?, ?B/s]"
     ]
    },
    {
     "name": "stderr",
     "output_type": "stream",
     "text": [
      "\r",
      "Uploading longbar.txt: 100%|██████████| 9.00/9.00 [00:00<00:00, 992B/s]"
     ]
    },
    {
     "name": "stderr",
     "output_type": "stream",
     "text": [
      "\n"
     ]
    },
    {
     "name": "stderr",
     "output_type": "stream",
     "text": [
      "\r",
      "Uploading model3.prt:   0%|          | 0.00/8.00 [00:00<?, ?B/s]"
     ]
    },
    {
     "name": "stderr",
     "output_type": "stream",
     "text": [
      "\r",
      "Uploading model3.prt: 100%|██████████| 8.00/8.00 [00:00<00:00, 2.68kB/s]"
     ]
    },
    {
     "name": "stderr",
     "output_type": "stream",
     "text": [
      "\n"
     ]
    },
    {
     "name": "stderr",
     "output_type": "stream",
     "text": [
      "\r",
      "Uploading model7.prt:   0%|          | 0.00/8.00 [00:00<?, ?B/s]"
     ]
    },
    {
     "name": "stderr",
     "output_type": "stream",
     "text": [
      "\r",
      "Uploading model7.prt: 100%|██████████| 8.00/8.00 [00:00<?, ?B/s]"
     ]
    },
    {
     "name": "stderr",
     "output_type": "stream",
     "text": [
      "\n"
     ]
    }
   ],
   "source": [
    "wb.upload_file('*.txt', 'model?.prt')"
   ]
  },
  {
   "cell_type": "markdown",
   "id": "4188c34d",
   "metadata": {},
   "source": [
    "This command shows how to upload files to the server using wildcards.\n",
    "All `.txt` files and files matching the pattern `model?.prt` in the client directory are uploaded to the server."
   ]
  },
  {
   "cell_type": "code",
   "execution_count": 7,
   "id": "1dc30cc6",
   "metadata": {
    "execution": {
     "iopub.execute_input": "2025-10-07T20:54:01.780027Z",
     "iopub.status.busy": "2025-10-07T20:54:01.780027Z",
     "iopub.status.idle": "2025-10-07T20:54:01.785945Z",
     "shell.execute_reply": "2025-10-07T20:54:01.785945Z"
    }
   },
   "outputs": [
    {
     "name": "stderr",
     "output_type": "stream",
     "text": [
      "WARNING:root:The following files do not exist and are skipped: C:\\Users\\ansys\\actions-runner\\_work\\pyworkbench-examples\\pyworkbench-examples\\pyworkbench-examples\\doc\\source\\examples\\logging\\client_workdir\\alternative_target_dir\\app.py\n",
      "C:\\Users\\ansys\\actions-runner\\_work\\pyworkbench-examples\\pyworkbench-examples\\pyworkbench-examples\\doc\\source\\examples\\logging\\client_workdir\\non_existing_file1\n",
      "C:\\Users\\ansys\\actions-runner\\_work\\pyworkbench-examples\\pyworkbench-examples\\pyworkbench-examples\\doc\\source\\examples\\logging\\client_workdir\\non_existing_file2\n"
     ]
    }
   ],
   "source": [
    "wb.upload_file(os.path.join(alternative_target_dir, 'app.py'), 'non_existing_file1', 'non_existing_file2', show_progress=False)"
   ]
  },
  {
   "cell_type": "markdown",
   "id": "dde56dbf",
   "metadata": {},
   "source": [
    "Here, files are uploaded from an alternative directory, and non-existing files are specified.\n",
    "The `show_progress` parameter is set to `False` to disable the progress bar during the upload."
   ]
  },
  {
   "cell_type": "code",
   "execution_count": 8,
   "id": "c5e943be",
   "metadata": {
    "execution": {
     "iopub.execute_input": "2025-10-07T20:54:01.785945Z",
     "iopub.status.busy": "2025-10-07T20:54:01.785945Z",
     "iopub.status.idle": "2025-10-07T20:54:01.843313Z",
     "shell.execute_reply": "2025-10-07T20:54:01.843313Z"
    }
   },
   "outputs": [
    {
     "name": "stderr",
     "output_type": "stream",
     "text": [
      "ERROR:root:Error when running the script: CommandFailedException: Template Thermal not found in Project.\n"
     ]
    },
    {
     "name": "stdout",
     "output_type": "stream",
     "text": [
      "None\n"
     ]
    }
   ],
   "source": [
    "export_path = 'wb_log_file.log'\n",
    "wb.set_log_file(export_path)\n",
    "print(wb.run_script_file('wb.wbjn', log_level='info'))"
   ]
  },
  {
   "cell_type": "markdown",
   "id": "93160b0e",
   "metadata": {},
   "source": [
    "This segment sets up a log file for the script execution.\n",
    "The `set_log_file` method directs the logs to `wb_log_file.log`, and `run_script_file` executes a script with `info` log level.\n",
    "The output of the script is printed to the console."
   ]
  },
  {
   "cell_type": "code",
   "execution_count": 9,
   "id": "4d3895b4",
   "metadata": {
    "execution": {
     "iopub.execute_input": "2025-10-07T20:54:01.843313Z",
     "iopub.status.busy": "2025-10-07T20:54:01.843313Z",
     "iopub.status.idle": "2025-10-07T20:54:01.863718Z",
     "shell.execute_reply": "2025-10-07T20:54:01.863718Z"
    }
   },
   "outputs": [
    {
     "name": "stderr",
     "output_type": "stream",
     "text": [
      "ERROR:root:Error when running the script: CommandFailedException: Template Thermal not found in Project.\n"
     ]
    },
    {
     "name": "stdout",
     "output_type": "stream",
     "text": [
      "None\n"
     ]
    }
   ],
   "source": [
    "wb.reset_log_file()\n",
    "wb.set_console_log_level('info')\n",
    "print(wb.run_script_file('wb.wbjn', log_level='info'))"
   ]
  },
  {
   "cell_type": "markdown",
   "id": "a57b1585",
   "metadata": {},
   "source": [
    "To change the logging configuration, we first disable the log file using `reset_log_file`.\n",
    "The console log level is then set to `info` using `set_console_log_level`.\n",
    "The script is run again with the same log level, and the output is printed."
   ]
  },
  {
   "cell_type": "code",
   "execution_count": 10,
   "id": "cdbf8ee4",
   "metadata": {
    "execution": {
     "iopub.execute_input": "2025-10-07T20:54:01.863718Z",
     "iopub.status.busy": "2025-10-07T20:54:01.863718Z",
     "iopub.status.idle": "2025-10-07T20:54:01.885963Z",
     "shell.execute_reply": "2025-10-07T20:54:01.885963Z"
    }
   },
   "outputs": [
    {
     "name": "stderr",
     "output_type": "stream",
     "text": [
      "ERROR:root:Error when running the script: CommandFailedException: Template Thermal not found in Project.\n"
     ]
    },
    {
     "name": "stdout",
     "output_type": "stream",
     "text": [
      "None\n"
     ]
    }
   ],
   "source": [
    "wb.set_console_log_level('error')\n",
    "print(wb.run_script_file('wb.wbjn', log_level='info'))"
   ]
  },
  {
   "cell_type": "markdown",
   "id": "a795d01b",
   "metadata": {},
   "source": [
    "In this step, the console log level is set to `error`, making the logging more restrictive.\n",
    "The script is executed again, and only error-level logs are shown."
   ]
  },
  {
   "cell_type": "code",
   "execution_count": 11,
   "id": "85799b64",
   "metadata": {
    "execution": {
     "iopub.execute_input": "2025-10-07T20:54:01.885963Z",
     "iopub.status.busy": "2025-10-07T20:54:01.885963Z",
     "iopub.status.idle": "2025-10-07T20:54:13.978578Z",
     "shell.execute_reply": "2025-10-07T20:54:13.978578Z"
    }
   },
   "outputs": [],
   "source": [
    "wb.exit()"
   ]
  }
 ],
 "metadata": {
  "jupytext": {
   "cell_metadata_filter": "-all",
   "main_language": "python",
   "notebook_metadata_filter": "-all",
   "text_representation": {
    "extension": ".py",
    "format_name": "light"
   }
  },
  "language_info": {
   "codemirror_mode": {
    "name": "ipython",
    "version": 3
   },
   "file_extension": ".py",
   "mimetype": "text/x-python",
   "name": "python",
   "nbconvert_exporter": "python",
   "pygments_lexer": "ipython3",
   "version": "3.11.9"
  }
 },
 "nbformat": 4,
 "nbformat_minor": 5
}
