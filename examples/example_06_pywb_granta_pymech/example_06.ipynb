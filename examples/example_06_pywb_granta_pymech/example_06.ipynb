{
 "cells": [
  {
   "cell_type": "markdown",
   "id": "558376fd-674a-424c-8885-65a872acfd95",
   "metadata": {},
   "source": [
    "# Workbench Client"
   ]
  },
  {
   "cell_type": "code",
   "execution_count": null,
   "id": "014c5732-9f2b-423d-81ed-8e70928b2e47",
   "metadata": {
    "tags": []
   },
   "outputs": [],
   "source": [
    "from ansys.workbench.core import launch_workbench\n",
    "from ansys.mechanical.core import launch_mechanical\n",
    "import os\n",
    "import pyvista as pv"
   ]
  },
  {
   "cell_type": "code",
   "execution_count": null,
   "id": "705a3b24-b51d-4724-8a17-f7307873197c",
   "metadata": {
    "tags": []
   },
   "outputs": [],
   "source": [
    "# launch Workbench service on the local machine; using some options\n",
    "\n",
    "client_dir = r'D:\\GPS_Team\\Engagements_2023\\PyAnsys\\PyWorkbench\\Examples\\Tech_demo_55\\client_dir'\n",
    "server_dir = r'D:\\GPS_Team\\Engagements_2023\\PyAnsys\\PyWorkbench\\Examples\\Tech_demo_55\\server_dir'\n",
    "\n",
    "host = 'localhost'\n",
    "release = '242'\n",
    "\n",
    "wb = launch_workbench(release=release, server_workdir=server_dir, client_workdir=client_dir)"
   ]
  },
  {
   "cell_type": "code",
   "execution_count": null,
   "id": "b0d6e3b4",
   "metadata": {},
   "outputs": [],
   "source": [
    "###################################################################################\n",
    "# Define function to import material from Granta MI Server\n",
    "# ~~~~~~~~~~~~~~~~~~~~~~~~~~~~~~~~~~~~~~~~~~~~~~~~~~~~~~~~~~~~~\n",
    "import os\n",
    "\n",
    "# Use matlabplotlib to display the images.\n",
    "cwd = os.path.join(os.getcwd(), \"out\")\n",
    "\n",
    "def getMaterial(name,output):\n",
    "\n",
    "    from GRANTA_MIScriptingToolkit import granta as mpy\n",
    "    mi = mpy.connect('http://azeww22sim01/mi_servicelayer', autologon=True)\n",
    "    #db = mi.get_db(db_key='MI_Pro')\n",
    "    #table = db.get_table('MaterialUniverse')\n",
    "    db = mi.get_db('MaterialUniverse')\n",
    "    table = db.get_table('MaterialUniverse')\n",
    "\n",
    "    # Search for material\n",
    "    rec = table.search_for_records_by_name(name)[0]\n",
    "    exporter = rec.get_available_exporters(package=\"Ansys Workbench\")[0]\n",
    "    # Check if any required parameters are needed for export!\n",
    "    parameters_required = exporter.get_parameters_required_for_export([rec])\n",
    "    if parameters_required != {}:\n",
    "        print(\"Parameters required!   :    \", parameters_required)\n",
    "        exit()\n",
    "    material_card = exporter.run_exporter([rec], parameter_defs=parameters_required)\n",
    "\n",
    "    #path_to_save = \"./\"\n",
    "    path_to_save = os.path.join(client_dir + \"/\")\n",
    "    exporter.save(path_to_save, file_name=name)\n",
    "    file_extension = exporter.default_file_extension\n",
    "    print(\"Exporter output saved to \\\"{}{}.{}\\\"\".format(path_to_save, name, file_extension))"
   ]
  },
  {
   "cell_type": "code",
   "execution_count": null,
   "id": "aa9d981e",
   "metadata": {},
   "outputs": [],
   "source": [
    "# Export required material in xml file format to import in Mechanical\n",
    "imp_materials = ['Structural steel, ASTM A500 Grade A']\n",
    "for nmat in imp_materials:\n",
    "    # Get the material from Granta\n",
    "    getMaterial(nmat,'gradeA')"
   ]
  },
  {
   "cell_type": "code",
   "execution_count": null,
   "id": "221ad401-82d1-480d-8910-da0dd34b5a2c",
   "metadata": {
    "tags": []
   },
   "outputs": [],
   "source": [
    "# upload input files from example data repo\n",
    "wb.upload_file_from_example_repo(\"example_6_td_055_Rotor_Blade_Geom.pmdb\", \"example_06\")\n",
    "wb.upload_file_from_example_repo(\"example_6_CFX_ExportResults_FT_10P_EO2.csv\", \"example_06\")\n",
    "wb.upload_file_from_example_repo(\"example_6_Temperature_Data.txt\", \"example_06\")\n",
    "\n",
    "# upload input files from client working directory to server working directory\n",
    "wb.upload_file(\"Structural steel, ASTM A500 Grade A.xml\")\n",
    "wb.upload_file(\"example_6_Mech.py\")"
   ]
  },
  {
   "cell_type": "code",
   "execution_count": null,
   "id": "4d4218ea-9199-495e-be54-b524906fb920",
   "metadata": {
    "tags": []
   },
   "outputs": [],
   "source": [
    "# run a Workbench script to define the project and load geometry\n",
    "export_path = os.path.join(client_dir, 'wb_log_file.log')\n",
    "wb.set_log_file(export_path)\n",
    "sys_name = wb.run_script_file('example_06_geom_prep.wbjn', log_level='info')\n",
    "print(sys_name)"
   ]
  },
  {
   "cell_type": "code",
   "execution_count": null,
   "id": "02a4d18a-7eae-4ddc-8635-fc1932c6b670",
   "metadata": {
    "tags": []
   },
   "outputs": [],
   "source": [
    "# start PyMechanical server on the system, then create a PyMechanical client session\n",
    "# to solve Inverse analysis on NASA 67 Fan Blade Model\n",
    "\n",
    "server_port = wb.start_mechanical_server(system_name=sys_name)\n",
    "mechanical = launch_mechanical(start_instance=False, ip='localhost', port=server_port)\n",
    "\n",
    "print(mechanical.project_directory)"
   ]
  },
  {
   "cell_type": "code",
   "execution_count": null,
   "id": "5939119f",
   "metadata": {},
   "outputs": [],
   "source": [
    "# run a Mechanical python script via PyMechanical to mesh and solve the model\n",
    "with open (os.path.join(client_dir, \"example_6_Mech.py\")) as sf:\n",
    "    mech_script = sf.read()\n",
    "mech_output = mechanical.run_python_script(mech_script)\n",
    "print(mech_output)"
   ]
  },
  {
   "cell_type": "code",
   "execution_count": null,
   "id": "7f67413b",
   "metadata": {},
   "outputs": [],
   "source": [
    "# Download output file from PyMechanical working directory and print contents\n",
    "\n",
    "# Specify Mechanical directory \n",
    "mechanical.run_python_script(f\"solve_dir=ExtAPI.DataModel.AnalysisList[0].WorkingDir\")\n",
    "\n",
    "result_solve_dir_server = mechanical.run_python_script(f\"solve_dir\")\n",
    "print(f\"All solver files are stored on the server at: {result_solve_dir_server}\")\n",
    "\n",
    "solve_out_path = os.path.join(result_solve_dir_server, \"solve.out\")\n",
    "\n",
    "def write_file_contents_to_console(path):\n",
    "    \"\"\"Write file contents to console.\"\"\"\n",
    "    with open(path, \"rt\") as file:\n",
    "        for line in file:\n",
    "            print(line, end=\"\")\n",
    "\n",
    "current_working_directory = os.getcwd()\n",
    "mechanical.download(solve_out_path, target_dir=current_working_directory)\n",
    "solve_out_local_path = os.path.join(current_working_directory, \"solve.out\")\n",
    "write_file_contents_to_console(solve_out_local_path)\n",
    "os.remove(solve_out_local_path)"
   ]
  },
  {
   "cell_type": "code",
   "execution_count": null,
   "id": "7a9f2cf4",
   "metadata": {},
   "outputs": [],
   "source": [
    "# Download postprocess/output images from PyMechanical working directory and display\n",
    "\n",
    "from matplotlib import image as mpimg\n",
    "from matplotlib import pyplot as plt\n",
    "\n",
    "#Specify Mechanical directory path\n",
    "mechanical.run_python_script(f\"image_dir=ExtAPI.DataModel.AnalysisList[0].WorkingDir\")\n",
    "\n",
    "# Verify the path for image directory.\n",
    "result_image_dir_server = mechanical.run_python_script(f\"image_dir\")\n",
    "print(f\"Images are stored on the server at: {result_image_dir_server}\")\n",
    "\n",
    "# Download one image file from the server to the current working directory and plot\n",
    "# using matplotlib.\n",
    "\n",
    "def get_image_path(image_name):\n",
    "    return os.path.join(result_image_dir_server, image_name)\n",
    "\n",
    "def display_image(path):\n",
    "    print(f\"Printing {path} using matplotlib\")\n",
    "    image1 = mpimg.imread(path)\n",
    "    plt.figure(figsize=(15, 15))\n",
    "    plt.axis(\"off\")\n",
    "    plt.imshow(image1)\n",
    "    plt.show()\n",
    "\n",
    "image_name = \"thermal_strain.png\"\n",
    "image_path_server = get_image_path(image_name)\n",
    "\n",
    "if image_path_server != \"\":\n",
    "    current_working_directory = os.getcwd()\n",
    "\n",
    "    local_file_path_list = mechanical.download(\n",
    "        image_path_server, target_dir=current_working_directory\n",
    "    )\n",
    "    image_local_path = local_file_path_list[0]\n",
    "    print(f\"Local image path : {image_local_path}\")\n",
    "    \n",
    "    display_image(image_local_path)"
   ]
  },
  {
   "cell_type": "code",
   "execution_count": null,
   "id": "90916a84",
   "metadata": {},
   "outputs": [],
   "source": [
    "# Download all the files from the server to the client working directory\n",
    "\n",
    "import shutil\n",
    "import glob\n",
    "\n",
    "current_working_directory = os.getcwd()\n",
    "destination_dir = client_dir\n",
    "# Verify the target path to copy the files.\n",
    "print(f\"Download the files from server path to: {destination_dir}\")\n",
    "\n",
    "# Verify the source path for directory.\n",
    "print(f\"All the solver file is stored on the server at: {result_solve_dir_server}\")\n",
    "\n",
    "source_dir = result_solve_dir_server\n",
    "# Copy all the files\n",
    "for file in glob.glob(source_dir + '/*'):\n",
    "    shutil.copy(file, destination_dir)"
   ]
  },
  {
   "cell_type": "code",
   "execution_count": null,
   "id": "6dfe8b49-c81b-4718-851e-e1f6f0f30a12",
   "metadata": {
    "tags": []
   },
   "outputs": [],
   "source": [
    "# shutdown the Workbench client and service\n",
    "wb.exit()"
   ]
  }
 ],
 "metadata": {
  "kernelspec": {
   "display_name": ".venv",
   "language": "python",
   "name": "python3"
  },
  "language_info": {
   "codemirror_mode": {
    "name": "ipython",
    "version": 3
   },
   "file_extension": ".py",
   "mimetype": "text/x-python",
   "name": "python",
   "nbconvert_exporter": "python",
   "pygments_lexer": "ipython3",
   "version": "3.8.10"
  },
  "vscode": {
   "interpreter": {
    "hash": "e4af4103cf65d15f478052ad93acb8d8b93f11fa7671171ea93b2a1a759e91b8"
   }
  }
 },
 "nbformat": 4,
 "nbformat_minor": 5
}
