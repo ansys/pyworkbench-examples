{
 "cells": [
  {
   "cell_type": "markdown",
   "id": "558376fd-674a-424c-8885-65a872acfd95",
   "metadata": {},
   "source": [
    "# new PyWorkbench features"
   ]
  },
  {
   "cell_type": "code",
   "execution_count": null,
   "id": "014c5732-9f2b-423d-81ed-8e70928b2e47",
   "metadata": {
    "tags": []
   },
   "outputs": [],
   "source": [
    "import os\n",
    "import json\n",
    "from ansys.api.workbench.v0.launch_workbench import launch_workbench"
   ]
  },
  {
   "cell_type": "code",
   "execution_count": null,
   "id": "705a3b24-b51d-4724-8a17-f7307873197c",
   "metadata": {
    "tags": []
   },
   "outputs": [],
   "source": [
    "# launch Workbench service on the local machine; using some options\n",
    "server_workdir = 'C:/Users/fli/pywb_demo/server_workdir'\n",
    "client_workdir = 'C:/Users/fli/pywb_demo/client_workdir'\n",
    "alternative_target_dir = 'C:/Users/fli/pywb_demo/alternative_target_dir'\n",
    "release = '241'\n",
    "wb = launch_workbench(release=release, server_workdir=server_workdir, client_workdir=client_workdir)"
   ]
  },
  {
   "cell_type": "code",
   "execution_count": null,
   "id": "8650cb48-363a-4c7c-aa48-62012b2cc896",
   "metadata": {},
   "outputs": [],
   "source": [
    "# demo downloading files with wildcard\n",
    "downloaded1 = wb.download_file('server1.*')"
   ]
  },
  {
   "cell_type": "code",
   "execution_count": null,
   "id": "e17776fc-644c-4aa5-9df0-a730f95babd8",
   "metadata": {},
   "outputs": [],
   "source": [
    "# demo downloading whole server directory and also into an alternative local directory\n",
    "downloaded2 = wb.download_file('*', target_dir=alternative_target_dir)"
   ]
  },
  {
   "cell_type": "code",
   "execution_count": null,
   "id": "23f45ab1-7244-45ca-aaba-06001fefcaac",
   "metadata": {
    "scrolled": true
   },
   "outputs": [],
   "source": [
    "# demo uploading files with wildcard\n",
    "wb.upload_file('*.txt', 'model?.prt')"
   ]
  },
  {
   "cell_type": "code",
   "execution_count": null,
   "id": "df060f00-370e-41f6-bf6f-4ded9aa3f442",
   "metadata": {
    "scrolled": true
   },
   "outputs": [],
   "source": [
    "# demo uploading files sitting at alternative local dir, or files that do not exist\n",
    "wb.upload_file(os.path.join(alternative_target_dir, 'app.py'), 'non_existing_file1', 'non_existing_file2', show_progress=False)"
   ]
  },
  {
   "cell_type": "code",
   "execution_count": null,
   "id": "4d4218ea-9199-495e-be54-b524906fb920",
   "metadata": {
    "tags": []
   },
   "outputs": [],
   "source": [
    "# demo logging levels\n",
    "wb.set_log_file('C:/Users/fli/pywb_demo/w2.log')\n",
    "print(wb.run_script_file('wb.wbjn', log_level='info'))"
   ]
  },
  {
   "cell_type": "code",
   "execution_count": null,
   "id": "1f178015-55da-4426-9e06-0798b5a16107",
   "metadata": {
    "tags": []
   },
   "outputs": [],
   "source": [
    "# demo logging levels\n",
    "wb.reset_log_file()\n",
    "print(wb.run_script_file('wb.wbjn', log_level='warning'))"
   ]
  },
  {
   "cell_type": "code",
   "execution_count": 7,
   "id": "6dfe8b49-c81b-4718-851e-e1f6f0f30a12",
   "metadata": {
    "tags": []
   },
   "outputs": [],
   "source": [
    "# shutdown the Workbench client and service\n",
    "wb.exit()"
   ]
  }
 ],
 "metadata": {
  "kernelspec": {
   "display_name": "Python 3 (ipykernel)",
   "language": "python",
   "name": "python3"
  },
  "language_info": {
   "codemirror_mode": {
    "name": "ipython",
    "version": 3
   },
   "file_extension": ".py",
   "mimetype": "text/x-python",
   "name": "python",
   "nbconvert_exporter": "python",
   "pygments_lexer": "ipython3",
   "version": "3.9.4"
  }
 },
 "nbformat": 4,
 "nbformat_minor": 5
}
