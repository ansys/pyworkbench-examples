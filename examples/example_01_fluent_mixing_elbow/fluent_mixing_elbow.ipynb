{
 "cells": [
  {
   "attachments": {},
   "cell_type": "markdown",
   "id": "558376fd-674a-424c-8885-65a872acfd95",
   "metadata": {},
   "source": [
    "# PyWorkbench - Fluent Use Case - Mixing Elbow\n",
    "\n",
    "#### This is a Ansys Fluent use case to demonstrates PyWorkbench features like:\n",
    "- Launch the Workbench server locally and connect a local client to the server\n",
    "- Update the required input data\n",
    "- Run the wbjn script on the server which will run the Fluent simulation using setup.jou & solve.jou tui scripts\n",
    "- Download the results from the server\n",
    "- Disconnect the client from the server and shutdown the server\n"
   ]
  },
  {
   "attachments": {},
   "cell_type": "markdown",
   "id": "5cfa61a6",
   "metadata": {},
   "source": [
    "### Import necessary libraries"
   ]
  },
  {
   "cell_type": "code",
   "execution_count": null,
   "id": "014c5732-9f2b-423d-81ed-8e70928b2e47",
   "metadata": {
    "tags": []
   },
   "outputs": [],
   "source": [
    "from ansys.workbench.core import launch_workbench as lw"
   ]
  },
  {
   "attachments": {},
   "cell_type": "markdown",
   "id": "d9b6b0e8",
   "metadata": {},
   "source": [
    "### Define the working directory"
   ]
  },
  {
   "cell_type": "code",
   "execution_count": null,
   "id": "8af20f9f",
   "metadata": {},
   "outputs": [],
   "source": [
    "workdir = \"D:\\Research\\pyworkbench\\example\""
   ]
  },
  {
   "attachments": {},
   "cell_type": "markdown",
   "id": "18abfe2d",
   "metadata": {},
   "source": [
    "### Launch the workbench session"
   ]
  },
  {
   "cell_type": "code",
   "execution_count": null,
   "id": "705a3b24-b51d-4724-8a17-f7307873197c",
   "metadata": {
    "tags": []
   },
   "outputs": [],
   "source": [
    "# launch Workbench service\n",
    "client = lw(client_workdir = workdir)\n"
   ]
  },
  {
   "attachments": {},
   "cell_type": "markdown",
   "id": "0e70fda1",
   "metadata": {},
   "source": [
    "### Upload the CAD model"
   ]
  },
  {
   "cell_type": "code",
   "execution_count": null,
   "id": "221ad401-82d1-480d-8910-da0dd34b5a2c",
   "metadata": {
    "tags": []
   },
   "outputs": [],
   "source": [
    "# upload a couple of input files, This files get uploaded to the host\n",
    "client.upload_file(\"mixing_elbow.scdoc\")\n",
    "client.upload_file(\"setup.jou\")\n",
    "client.upload_file(\"solve.jou\")"
   ]
  },
  {
   "attachments": {},
   "cell_type": "markdown",
   "id": "46899b79",
   "metadata": {},
   "source": [
    "### Run the script"
   ]
  },
  {
   "cell_type": "code",
   "execution_count": null,
   "id": "4d4218ea-9199-495e-be54-b524906fb920",
   "metadata": {
    "tags": []
   },
   "outputs": [],
   "source": [
    "# run a Workbench script to define the Workbench Project Schematic\n",
    "output = client.run_script_file('wb_setup.wbjn')\n",
    "print(output)"
   ]
  },
  {
   "attachments": {},
   "cell_type": "markdown",
   "id": "04898268",
   "metadata": {},
   "source": [
    "### Download the simulation data"
   ]
  },
  {
   "cell_type": "code",
   "execution_count": null,
   "id": "f78e2229-018b-4715-8ec5-d518109921f5",
   "metadata": {
    "tags": []
   },
   "outputs": [],
   "source": [
    "# download a output files in working directory at client side working directory\n",
    "client.download_file(\"contour_1.jpeg\")"
   ]
  },
  {
   "attachments": {},
   "cell_type": "markdown",
   "id": "be80ff96",
   "metadata": {},
   "source": [
    "### Shutdown the service"
   ]
  },
  {
   "cell_type": "code",
   "execution_count": null,
   "id": "6dfe8b49-c81b-4718-851e-e1f6f0f30a12",
   "metadata": {
    "tags": []
   },
   "outputs": [],
   "source": [
    "# shutdown the server and client\n",
    "client.exit()"
   ]
  }
 ],
 "metadata": {
  "kernelspec": {
   "display_name": ".venv",
   "language": "python",
   "name": "python3"
  },
  "language_info": {
   "codemirror_mode": {
    "name": "ipython",
    "version": 3
   },
   "file_extension": ".py",
   "mimetype": "text/x-python",
   "name": "python",
   "nbconvert_exporter": "python",
   "pygments_lexer": "ipython3",
   "version": "3.8.10"
  },
  "vscode": {
   "interpreter": {
    "hash": "e4af4103cf65d15f478052ad93acb8d8b93f11fa7671171ea93b2a1a759e91b8"
   }
  }
 },
 "nbformat": 4,
 "nbformat_minor": 5
}
