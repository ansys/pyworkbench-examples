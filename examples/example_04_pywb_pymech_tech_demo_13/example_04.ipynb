{
 "cells": [
  {
   "cell_type": "markdown",
   "id": "558376fd-674a-424c-8885-65a872acfd95",
   "metadata": {},
   "source": [
    "# Workbench Client"
   ]
  },
  {
   "cell_type": "code",
   "execution_count": null,
   "id": "014c5732-9f2b-423d-81ed-8e70928b2e47",
   "metadata": {
    "tags": []
   },
   "outputs": [],
   "source": [
    "from ansys.workbench.core import launch_workbench\n",
    "from ansys.mechanical.core import launch_mechanical\n",
    "import os\n",
    "import pyvista as pv"
   ]
  },
  {
   "cell_type": "code",
   "execution_count": null,
   "id": "705a3b24-b51d-4724-8a17-f7307873197c",
   "metadata": {
    "tags": []
   },
   "outputs": [],
   "source": [
    "# launch Workbench service on the remote host machine; specify remote host machine name and user login credentials\n",
    "\n",
    "client_dir = r'D:\\GPS_Team\\Engagements_2023\\PyAnsys\\PyWorkbench\\Examples\\Tech_Demo_13\\client_dir'\n",
    "server_dir = r'C:\\Users\\vnamdeo\\Project_Data\\PyWorkbench_demo\\server_dir'\n",
    "\n",
    "host = 'PUNVDHPG01023.win.ansys.com'\n",
    "release = '241'\n",
    "\n",
    "usrname = \"vnamdeo\"\n",
    "key = os.getenv('PRIVATE_KEY')\n",
    "passwrd = key\n",
    "\n",
    "wb = launch_workbench(release=release, server_workdir=server_dir, client_workdir=client_dir,host=host,username=usrname,password=passwrd)"
   ]
  },
  {
   "cell_type": "code",
   "execution_count": null,
   "id": "53ff356e-e07e-4256-afbc-24af6422c2f1",
   "metadata": {
    "tags": []
   },
   "outputs": [],
   "source": [
    "# upload a couple of input files from example-data repo\n",
    "wb.upload_file_from_example_repo(\"example_04_sector_model.cdb\", \"example_04\")\n",
    "\n",
    "# upload a input file from client directory to server working directory\n",
    "wb.upload_file(\"example_04_cyclic_symm_analyses.py\")"
   ]
  },
  {
   "cell_type": "code",
   "execution_count": null,
   "id": "4d4218ea-9199-495e-be54-b524906fb920",
   "metadata": {
    "tags": []
   },
   "outputs": [],
   "source": [
    "# run a Workbench script to define the project and load geometry\n",
    "log_path = os.path.join(client_dir, 'wb_log_file.log')\n",
    "wb.set_log_file(log_path)\n",
    "sys_nam = wb.run_script_file('example_04_geom_prep.wbjn', log_level='info')\n",
    "\n",
    "print(sys_nam)"
   ]
  },
  {
   "cell_type": "code",
   "execution_count": null,
   "id": "02a4d18a-7eae-4ddc-8635-fc1932c6b670",
   "metadata": {
    "tags": []
   },
   "outputs": [],
   "source": [
    "# start PyMechanical server on the system, then create a PyMechanical client session\n",
    "# to solve turbine blade Model\n",
    "\n",
    "server_port = wb.start_mechanical_server(system_name=sys_nam)\n",
    "mechanical = launch_mechanical(start_instance=False, ip=host, port=server_port)\n",
    "\n",
    "print(mechanical.project_directory)"
   ]
  },
  {
   "cell_type": "code",
   "execution_count": null,
   "id": "347aaa32-c3b3-43aa-b0ae-dfc47542435e",
   "metadata": {
    "tags": []
   },
   "outputs": [],
   "source": [
    "# run a Mechanical python script via PyMechanical to mesh/solve the model\n",
    "with open (os.path.join(client_dir, \"example_04_cyclic_symm_analyses.py\")) as sf:\n",
    "    mech_script = sf.read()\n",
    "mech_output = mechanical.run_python_script(mech_script)\n",
    "print(mech_output)"
   ]
  },
  {
   "cell_type": "code",
   "execution_count": null,
   "id": "0168490a",
   "metadata": {},
   "outputs": [],
   "source": [
    "# Download output file from PyMechanical working directory and print contents\n",
    "# Specify Mechanical directory \n",
    "mechanical.run_python_script(f\"solve_dir=ExtAPI.DataModel.AnalysisList[5].WorkingDir\")\n",
    "result_solve_dir_server = mechanical.run_python_script(f\"solve_dir\")\n",
    "print(f\"All solver files are stored on the server at: {result_solve_dir_server}\")\n",
    "\n",
    "solve_out_path = os.path.join(result_solve_dir_server, \"solve.out\")\n",
    "\n",
    "def write_file_contents_to_console(path):\n",
    "    \"\"\"Write file contents to console.\"\"\"\n",
    "    with open(path, \"rt\") as file:\n",
    "        for line in file:\n",
    "            print(line, end=\"\")\n",
    "\n",
    "current_working_directory = os.getcwd()\n",
    "mechanical.download(solve_out_path, target_dir=current_working_directory)\n",
    "solve_out_local_path = os.path.join(current_working_directory, \"solve.out\")\n",
    "write_file_contents_to_console(solve_out_local_path)\n",
    "os.remove(solve_out_local_path)"
   ]
  },
  {
   "cell_type": "code",
   "execution_count": null,
   "id": "a6c9bf97-8c9d-4c54-819c-0cf5da8c6673",
   "metadata": {
    "tags": []
   },
   "outputs": [],
   "source": [
    "# Download postprocess/output images from PyMechanical working directory and display\n",
    "\n",
    "from matplotlib import image as mpimg\n",
    "from matplotlib import pyplot as plt\n",
    "\n",
    "#Specify Mechanical directory path\n",
    "mechanical.run_python_script(f\"image_dir=ExtAPI.DataModel.AnalysisList[5].WorkingDir\")\n",
    "\n",
    "# Verify the path for image directory.\n",
    "result_image_dir_server = mechanical.run_python_script(f\"image_dir\")\n",
    "print(f\"Images are stored on the server at: {result_image_dir_server}\")\n",
    "\n",
    "# Download one image file from the server to the current working directory and plot\n",
    "# using matplotlib.\n",
    "\n",
    "def get_image_path(image_name):\n",
    "    return os.path.join(result_image_dir_server, image_name)\n",
    "\n",
    "def display_image(path):\n",
    "    print(f\"Printing {path} using matplotlib\")\n",
    "    image1 = mpimg.imread(path)\n",
    "    plt.figure(figsize=(15, 15))\n",
    "    plt.axis(\"off\")\n",
    "    plt.imshow(image1)\n",
    "    plt.show()\n",
    "\n",
    "image_name = \"deformation.png\"\n",
    "image_path_server = get_image_path(image_name)\n",
    "\n",
    "if image_path_server != \"\":\n",
    "    current_working_directory = os.getcwd()\n",
    "\n",
    "    local_file_path_list = mechanical.download(\n",
    "        image_path_server, target_dir=current_working_directory\n",
    "    )\n",
    "    image_local_path = local_file_path_list[0]\n",
    "    print(f\"Local image path : {image_local_path}\")\n",
    "    \n",
    "    display_image(image_local_path)"
   ]
  },
  {
   "cell_type": "code",
   "execution_count": null,
   "id": "d5286153-dcf7-45c3-ae97-29b87a350649",
   "metadata": {
    "tags": []
   },
   "outputs": [],
   "source": [
    "# Download all the files from the server to the current working directory\n",
    "\n",
    "# Specify Mechanical directory \n",
    "mechanical.run_python_script(f\"solve_dir=ExtAPI.DataModel.AnalysisList[5].WorkingDir\")\n",
    "result_solve_dir_server = mechanical.run_python_script(f\"solve_dir\")\n",
    "print(f\"All solver files are stored on the server at: {result_solve_dir_server}\")\n",
    "\n",
    "solve_out_path = os.path.join(result_solve_dir_server, \"*.*\")\n",
    "\n",
    "current_working_directory = os.getcwd()\n",
    "mechanical.download(solve_out_path, target_dir=current_working_directory)"
   ]
  },
  {
   "cell_type": "code",
   "execution_count": null,
   "id": "44dcdd93-8d06-4f51-ac54-691e7f60ae09",
   "metadata": {
    "tags": []
   },
   "outputs": [],
   "source": [
    "# shutdown the Workbench client and service\n",
    "wb.exit()"
   ]
  }
 ],
 "metadata": {
  "kernelspec": {
   "display_name": ".venv",
   "language": "python",
   "name": "python3"
  },
  "language_info": {
   "codemirror_mode": {
    "name": "ipython",
    "version": 3
   },
   "file_extension": ".py",
   "mimetype": "text/x-python",
   "name": "python",
   "nbconvert_exporter": "python",
   "pygments_lexer": "ipython3",
   "version": "3.8.10"
  },
  "vscode": {
   "interpreter": {
    "hash": "e4af4103cf65d15f478052ad93acb8d8b93f11fa7671171ea93b2a1a759e91b8"
   }
  }
 },
 "nbformat": 4,
 "nbformat_minor": 5
}
