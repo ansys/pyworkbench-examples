{
 "cells": [
  {
   "attachments": {},
   "cell_type": "markdown",
   "id": "558376fd-674a-424c-8885-65a872acfd95",
   "metadata": {},
   "source": [
    "# PyWorkbench - Fluent Use Case - Mixing Elbow\n",
    "\n",
    "#### This is a Ansys Fluent use case to demonstrates PyWorkbench features like:\n",
    "- Launch the Workbench server locally\n",
    "- Connect local client to the server\n",
    "- Update the required input data\n",
    "- Run the wbjn script on the server which will run the Fluent simulation using setup.jou & solve.jou tui scripts\n",
    "- Download the results from the server\n",
    "- Disconnect the client from the server\n",
    "- Shutdown the server"
   ]
  },
  {
   "attachments": {},
   "cell_type": "markdown",
   "id": "5cfa61a6",
   "metadata": {},
   "source": [
    "### Import necessary libraries"
   ]
  },
  {
   "cell_type": "code",
   "execution_count": null,
   "id": "014c5732-9f2b-423d-81ed-8e70928b2e47",
   "metadata": {
    "tags": []
   },
   "outputs": [],
   "source": [
    "from ansys.api.workbench.v0 import workbench_client as wc\n",
    "from ansys.api.workbench.v0 import launch_workbench as lw"
   ]
  },
  {
   "attachments": {},
   "cell_type": "markdown",
   "id": "d9b6b0e8",
   "metadata": {},
   "source": [
    "### Define the host and working directory"
   ]
  },
  {
   "cell_type": "code",
   "execution_count": null,
   "id": "8af20f9f",
   "metadata": {},
   "outputs": [],
   "source": [
    "host = \"localhost\"\n",
    "workdir = \"D:\\Research\\pyworkbench\\example\""
   ]
  },
  {
   "attachments": {},
   "cell_type": "markdown",
   "id": "18abfe2d",
   "metadata": {},
   "source": [
    "### Launch the workbench session"
   ]
  },
  {
   "cell_type": "code",
   "execution_count": null,
   "id": "705a3b24-b51d-4724-8a17-f7307873197c",
   "metadata": {
    "tags": []
   },
   "outputs": [],
   "source": [
    "# launch Workbench service on the remote host and retrieve the port\n",
    "launcher = lw.LaunchWorkbench()\n",
    "port = launcher.launch()"
   ]
  },
  {
   "cell_type": "code",
   "execution_count": null,
   "id": "53ff356e-e07e-4256-afbc-24af6422c2f1",
   "metadata": {},
   "outputs": [],
   "source": [
    "# create a local client and connect it to the server\n",
    "client = wc.WorkbenchClient(local_workdir=workdir, server_host=host, server_port=port)\n",
    "client.connect()"
   ]
  },
  {
   "attachments": {},
   "cell_type": "markdown",
   "id": "0e70fda1",
   "metadata": {},
   "source": [
    "### Upload the CAD model"
   ]
  },
  {
   "cell_type": "code",
   "execution_count": null,
   "id": "221ad401-82d1-480d-8910-da0dd34b5a2c",
   "metadata": {
    "tags": []
   },
   "outputs": [],
   "source": [
    "# upload a couple of input files, This files get uploaded to the remote host under C:\\Users\\<username>\\AppData\\Local\\Temp\\\n",
    "client.upload_file(\"mixing_elbow.scdoc\")\n",
    "client.upload_file(\"setup.jou\")\n",
    "client.upload_file(\"solve.jou\")"
   ]
  },
  {
   "attachments": {},
   "cell_type": "markdown",
   "id": "46899b79",
   "metadata": {},
   "source": [
    "### Run the script"
   ]
  },
  {
   "cell_type": "code",
   "execution_count": null,
   "id": "4d4218ea-9199-495e-be54-b524906fb920",
   "metadata": {
    "tags": []
   },
   "outputs": [],
   "source": [
    "# run a Workbench script to define the Workbench Project Schematic\n",
    "output = client.run_script_file('wb_setup.wbjn')\n",
    "print(output)"
   ]
  },
  {
   "attachments": {},
   "cell_type": "markdown",
   "id": "04898268",
   "metadata": {},
   "source": [
    "### Download the simulation data"
   ]
  },
  {
   "cell_type": "code",
   "execution_count": null,
   "id": "f78e2229-018b-4715-8ec5-d518109921f5",
   "metadata": {
    "tags": []
   },
   "outputs": [],
   "source": [
    "# download a output files in working directory at client side working directory\n",
    "client.download_file(\"contour_1.jpeg\")"
   ]
  },
  {
   "attachments": {},
   "cell_type": "markdown",
   "id": "998f334d",
   "metadata": {},
   "source": [
    "### Close out the client"
   ]
  },
  {
   "cell_type": "code",
   "execution_count": null,
   "id": "44dcdd93-8d06-4f51-ac54-691e7f60ae09",
   "metadata": {
    "tags": []
   },
   "outputs": [],
   "source": [
    "# close the connection\n",
    "client.close()"
   ]
  },
  {
   "attachments": {},
   "cell_type": "markdown",
   "id": "be80ff96",
   "metadata": {},
   "source": [
    "### Shutdown the remote service"
   ]
  },
  {
   "cell_type": "code",
   "execution_count": null,
   "id": "6dfe8b49-c81b-4718-851e-e1f6f0f30a12",
   "metadata": {
    "tags": []
   },
   "outputs": [],
   "source": [
    "# shutdown the server\n",
    "launcher.shutdown()"
   ]
  }
 ],
 "metadata": {
  "kernelspec": {
   "display_name": "venv",
   "language": "python",
   "name": "python3"
  },
  "language_info": {
   "codemirror_mode": {
    "name": "ipython",
    "version": 3
   },
   "file_extension": ".py",
   "mimetype": "text/x-python",
   "name": "python",
   "nbconvert_exporter": "python",
   "pygments_lexer": "ipython3",
   "version": "3.8.10"
  },
  "vscode": {
   "interpreter": {
    "hash": "ac2d56871f1cdd65902ed9814457b49e65675bd9891965ce7471b1d3e465ad67"
   }
  }
 },
 "nbformat": 4,
 "nbformat_minor": 5
}
