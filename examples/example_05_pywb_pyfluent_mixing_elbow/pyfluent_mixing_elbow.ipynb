{
 "cells": [
  {
   "cell_type": "markdown",
   "metadata": {},
   "source": [
    "# Fluent setup and solution using PyFluent APIs\n",
    "------------------------------------------------\n",
    "This example sets up and solves a three-dimensional turbulent fluid flow\n",
    "and heat transfer problem in a mixing elbow, which is common in piping\n",
    "systems in power plants and process industries. Predicting the flow field\n",
    "and temperature field in the area of the mixing region is important to\n",
    "designing the junction properly.\n",
    "\n",
    "This example uses settings objects.\n",
    "\n",
    "**Problem description**\n",
    "\n",
    "A cold fluid at 20 deg C flows into the pipe through a large inlet. It then mixes\n",
    "with a warmer fluid at 40 deg C that enters through a smaller inlet located at\n",
    "the elbow. The pipe dimensions are in inches, and the fluid properties and\n",
    "boundary conditions are given in SI units. Because the Reynolds number for the\n",
    "flow at the larger inlet is ``50, 800``, a turbulent flow model is required."
   ]
  },
  {
   "cell_type": "markdown",
   "metadata": {},
   "source": [
    "###############################################################################\n",
    "# Perform required imports\n",
    "# ~~~~~~~~~~~~~~~~~~~~~~~~"
   ]
  },
  {
   "cell_type": "code",
   "execution_count": null,
   "metadata": {},
   "outputs": [],
   "source": [
    "import os\n",
    "from ansys.workbench.core import launch_workbench"
   ]
  },
  {
   "cell_type": "code",
   "execution_count": null,
   "metadata": {},
   "outputs": [],
   "source": [
    "import ansys.fluent.core as pyfluent\n",
    "from ansys.fluent.core import examples\n",
    "from ansys.fluent.visualization.pyvista import Graphics"
   ]
  },
  {
   "cell_type": "markdown",
   "metadata": {},
   "source": [
    "# Specify client and server directories and launch WB service (This example launches WB locally)"
   ]
  },
  {
   "cell_type": "code",
   "execution_count": null,
   "metadata": {},
   "outputs": [],
   "source": [
    "client_dir = r'D:\\users\\mvani\\PyWB\\PyWB-examples\\pyfluent_mixing_elbow\\client_work_dir'\n",
    "server_dir = r'D:\\users\\mvani\\PyWB\\PyWB-examples\\pyfluent_mixing_elbow\\server_work_dir'\n",
    "\n",
    "host = 'localhost'\n",
    "release = '241'\n",
    "\n",
    "wb = launch_workbench(release=release, server_workdir=server_dir, client_workdir=client_dir)"
   ]
  },
  {
   "cell_type": "markdown",
   "metadata": {},
   "source": [
    "# Get the input file from example data and upload to server directory"
   ]
  },
  {
   "cell_type": "code",
   "execution_count": null,
   "metadata": {},
   "outputs": [],
   "source": [
    "import_filename = examples.download_file(\"mixing_elbow.msh.h5\", \"pyfluent/mixing_elbow\")\n",
    "wb.upload_file(import_filename)"
   ]
  },
  {
   "cell_type": "code",
   "execution_count": null,
   "metadata": {},
   "outputs": [],
   "source": [
    "# run a Workbench script to define the project and load geometry\n",
    "\n",
    "export_path = os.path.join(client_dir, 'wb_log_file.log')\n",
    "wb.set_log_file(export_path)\n",
    "wb.run_script_string('template1 = GetTemplate(TemplateName=\"FLUENT\")', log_level='info')\n",
    "wb.run_script_string('system1 = template1.CreateSystem()')\n"
   ]
  },
  {
   "cell_type": "markdown",
   "metadata": {},
   "source": [
    "###############################################################################\n",
    "# Launch Fluent\n",
    "# ~~~~~~~~~~~~~\n",
    "# Launch Fluent as a service in meshing mode with double precision running on\n",
    "# two processors."
   ]
  },
  {
   "cell_type": "code",
   "execution_count": null,
   "metadata": {},
   "outputs": [],
   "source": [
    "server_info_file = wb.start_fluent_server(system_name= \"FLU\")\n",
    "fluent_session = pyfluent.connect_to_fluent(server_info_filepath= server_info_file)"
   ]
  },
  {
   "cell_type": "markdown",
   "metadata": {},
   "source": [
    "###############################################################################\n",
    "# Import mesh and perform mesh check\n",
    "# ~~~~~~~~~~~~~~~~~~~~~~~~~~~~~~~~~~\n",
    "# Import the mesh and perform a mesh check, which lists the minimum and maximum\n",
    "# x, y, and z values from the mesh in the default SI units of meters. The mesh\n",
    "# check also reports a number of other mesh features that are checked. Any errors\n",
    "# in the mesh are reported. Ensure that the minimum volume is not negative because\n",
    "# Fluent cannot begin a calculation when this is the case."
   ]
  },
  {
   "cell_type": "code",
   "execution_count": null,
   "metadata": {},
   "outputs": [],
   "source": [
    "import_filename = os.path.join(server_dir, 'mixing_elbow.msh.h5')\n",
    "fluent_session.file.read(file_type=\"case\", file_name= import_filename)"
   ]
  },
  {
   "cell_type": "markdown",
   "metadata": {},
   "source": [
    "###############################################################################\n",
    "# Set working units for mesh\n",
    "# ~~~~~~~~~~~~~~~~~~~~~~~~~~\n",
    "# Set the working units for the mesh to inches. Because the default SI units are\n",
    "# used for everything except length, you do not have to change any other units\n",
    "# in this example. If you want working units for length to be other than inches\n",
    "# (for example, millimeters), make the appropriate change."
   ]
  },
  {
   "cell_type": "code",
   "execution_count": null,
   "metadata": {},
   "outputs": [],
   "source": [
    "fluent_session.tui.define.units(\"length\", \"in\")"
   ]
  },
  {
   "cell_type": "markdown",
   "metadata": {},
   "source": [
    "###############################################################################\n",
    "# Enable heat transfer\n",
    "# ~~~~~~~~~~~~~~~~~~~~\n",
    "# Enable heat transfer by activating the energy equation."
   ]
  },
  {
   "cell_type": "code",
   "execution_count": null,
   "metadata": {},
   "outputs": [],
   "source": [
    "fluent_session.setup.models.energy.enabled = True"
   ]
  },
  {
   "cell_type": "markdown",
   "metadata": {},
   "source": [
    "###############################################################################\n",
    "# Create material\n",
    "# ~~~~~~~~~~~~~~~\n",
    "# Create a material named ``\"water-liquid\"``."
   ]
  },
  {
   "cell_type": "code",
   "execution_count": null,
   "metadata": {},
   "outputs": [],
   "source": [
    "fluent_session.setup.materials.database.copy_by_name(type=\"fluid\", name=\"water-liquid\")"
   ]
  },
  {
   "cell_type": "markdown",
   "metadata": {},
   "source": [
    "###############################################################################\n",
    "# Set up cell zone conditions\n",
    "# ~~~~~~~~~~~~~~~~~~~~~~~~~~~\n",
    "# Set up the cell zone conditions for the fluid zone (``elbow-fluid``). Set ``material``\n",
    "# to ``\"water-liquid\"``."
   ]
  },
  {
   "cell_type": "code",
   "execution_count": null,
   "metadata": {},
   "outputs": [],
   "source": [
    "fluent_session.setup.cell_zone_conditions.fluid[\"elbow-fluid\"].material = \"water-liquid\""
   ]
  },
  {
   "cell_type": "markdown",
   "metadata": {},
   "source": [
    "###############################################################################\n",
    "# Set up boundary conditions for CFD analysis\n",
    "# ~~~~~~~~~~~~~~~~~~~~~~~~~~~~~~~~~~~~~~~~~~~\n",
    "# Set up the boundary conditions for the inlets, outlet, and walls for CFD\n",
    "# analysis.\n",
    "\n",
    "# cold inlet (cold-inlet), Setting: Value:\n",
    "# Velocity Specification Method: Magnitude, Normal to Boundary\n",
    "# Velocity Magnitude: 0.4 [m/s]\n",
    "# Specification Method: Intensity and Hydraulic Diameter\n",
    "# Turbulent Intensity: 5 [%]\n",
    "# Hydraulic Diameter: 4 [inch]\n",
    "# Temperature: 293.15 [K]"
   ]
  },
  {
   "cell_type": "code",
   "execution_count": null,
   "metadata": {},
   "outputs": [],
   "source": [
    "cold_inlet = fluent_session.setup.boundary_conditions.velocity_inlet[\"cold-inlet\"]"
   ]
  },
  {
   "cell_type": "code",
   "execution_count": null,
   "metadata": {},
   "outputs": [],
   "source": [
    "cold_inlet.get_state()\n"
   ]
  },
  {
   "cell_type": "code",
   "execution_count": null,
   "metadata": {},
   "outputs": [],
   "source": [
    "cold_inlet.momentum.velocity.value = 0.4\n",
    "cold_inlet.turbulence.turbulent_specification = \"Intensity and Hydraulic Diameter\"\n",
    "cold_inlet.turbulence.turbulent_intensity = 0.05\n",
    "cold_inlet.turbulence. hydraulic_diameter = \"4 [in]\"\n",
    "cold_inlet.thermal.t.value = 293.15"
   ]
  },
  {
   "cell_type": "markdown",
   "metadata": {},
   "source": [
    "# hot inlet (hot-inlet), Setting: Value:\n",
    "# Velocity Specification Method: Magnitude, Normal to Boundary\n",
    "# Velocity Magnitude: 1.2 [m/s]\n",
    "# Specification Method: Intensity and Hydraulic Diameter\n",
    "# Turbulent Intensity: 5 [%]\n",
    "# Hydraulic Diameter: 1 [inch]\n",
    "# Temperature: 313.15 [K]"
   ]
  },
  {
   "cell_type": "code",
   "execution_count": null,
   "metadata": {},
   "outputs": [],
   "source": [
    "hot_inlet = fluent_session.setup.boundary_conditions.velocity_inlet[\"hot-inlet\"]\n",
    "\n",
    "hot_inlet.momentum.velocity.value = 1.2\n",
    "hot_inlet.turbulence.turbulent_specification = \"Intensity and Hydraulic Diameter\"\n",
    "hot_inlet.turbulence.turbulent_intensity = 0.05\n",
    "hot_inlet.turbulence. hydraulic_diameter = \"1 [in]\"\n",
    "hot_inlet.thermal.t.value = 313.15"
   ]
  },
  {
   "cell_type": "markdown",
   "metadata": {},
   "source": [
    "# pressure outlet (outlet), Setting: Value:\n",
    "# Backflow Turbulent Intensity: 5 [%]\n",
    "# Backflow Turbulent Viscosity Ratio: 4"
   ]
  },
  {
   "cell_type": "code",
   "execution_count": null,
   "metadata": {},
   "outputs": [],
   "source": [
    "fluent_session.setup.boundary_conditions.pressure_outlet[\"outlet\"].turbulence.turbulent_viscosity_ratio_real = 4"
   ]
  },
  {
   "cell_type": "markdown",
   "metadata": {},
   "source": [
    "# Set 150 iterations for solution"
   ]
  },
  {
   "cell_type": "code",
   "execution_count": null,
   "metadata": {},
   "outputs": [],
   "source": [
    "fluent_session.solution.run_calculation.iter_count = 150"
   ]
  },
  {
   "cell_type": "markdown",
   "metadata": {},
   "source": [
    "# Update Solution using WB Journal Command"
   ]
  },
  {
   "cell_type": "code",
   "execution_count": null,
   "metadata": {},
   "outputs": [],
   "source": [
    "wb.run_script_string(\"system1 = GetSystem(Name=\\\"FLU\\\")\")\n",
    "wb.run_script_string(\"solutionComponent1 = system1.GetComponent(Name=\\\"Solution\\\")\")\n",
    "wb.run_script_string(\"solutionComponent1.Update(AllDependencies=True)\")"
   ]
  },
  {
   "cell_type": "markdown",
   "metadata": {},
   "source": [
    "###############################################################################\n",
    "# Create velocity vectors\n",
    "# ~~~~~~~~~~~~~~~~~~~~~~~\n",
    "# Create and display velocity vectors on the ``symmetry-xyplane`` plane"
   ]
  },
  {
   "cell_type": "markdown",
   "metadata": {},
   "source": [
    "###############################################\n",
    "# Post processing with PyVista (3D visualization)\n",
    "# ============================================="
   ]
  },
  {
   "cell_type": "code",
   "execution_count": null,
   "metadata": {},
   "outputs": [],
   "source": [
    "graphics_session_vec = Graphics(fluent_session)\n",
    "velocity_vector = graphics_session_vec.Vectors[\"velocity-vector\"]\n",
    "velocity_vector.field = \"temperature\"\n",
    "velocity_vector.surfaces_list = [\"symmetry-xyplane\"]\n",
    "velocity_vector.scale = 2\n",
    "velocity_vector.display()"
   ]
  },
  {
   "cell_type": "markdown",
   "metadata": {},
   "source": [
    "###############################################################################\n",
    "# Compute mass flow rate\n",
    "# ~~~~~~~~~~~~~~~~~~~~~~\n",
    "# Compute the mass flow rate."
   ]
  },
  {
   "cell_type": "code",
   "execution_count": null,
   "metadata": {},
   "outputs": [],
   "source": [
    "fluent_session.solution.report_definitions.flux[\"mass_flow_rate\"] = {}\n",
    "\n",
    "mass_flow_rate = fluent_session.solution.report_definitions.flux[\"mass_flow_rate\"]\n",
    "mass_flow_rate.boundaries = [\n",
    "    \"cold-inlet\",\n",
    "    \"hot-inlet\",\n",
    "    \"outlet\",\n",
    "]\n",
    "mass_flow_rate.print_state()\n",
    "fluent_session.solution.report_definitions.compute(report_defs=[\"mass_flow_rate\"])"
   ]
  },
  {
   "cell_type": "markdown",
   "metadata": {},
   "source": [
    "# Save project"
   ]
  },
  {
   "cell_type": "code",
   "execution_count": null,
   "metadata": {},
   "outputs": [],
   "source": [
    "file_path = os.path.join(server_dir, \"mixing_elbow.wbpj\")\n",
    "save_string = \"Save(FilePath=\\\"\" + file_path + \"\\\",\" + \"Overwrite=True)\"\n",
    "# wb.run_script_string('Save(FilePath=\"mixing_elbow1.wbpj\", Overwrite=True)')\n",
    "wb.run_script_string(save_string)\n"
   ]
  },
  {
   "cell_type": "code",
   "execution_count": null,
   "metadata": {},
   "outputs": [],
   "source": [
    "file_path = os.path.join(server_dir, \"mixing_elbow.wbpz\")\n",
    "archive_string = \"Archive(FilePath=\\\"\" + file_path + \"\\\")\"\n",
    "wb.run_script_string(archive_string)"
   ]
  },
  {
   "cell_type": "markdown",
   "metadata": {},
   "source": [
    "# Download the WB archived project"
   ]
  },
  {
   "cell_type": "code",
   "execution_count": null,
   "metadata": {},
   "outputs": [],
   "source": [
    "wb.download_file(\"mixing_elbow.wbpz\")"
   ]
  },
  {
   "cell_type": "code",
   "execution_count": null,
   "metadata": {},
   "outputs": [],
   "source": [
    "fluent_session.exit()"
   ]
  },
  {
   "cell_type": "code",
   "execution_count": null,
   "metadata": {},
   "outputs": [],
   "source": [
    "wb.exit()"
   ]
  }
 ],
 "metadata": {
  "kernelspec": {
   "display_name": "Python 3.8.10 ('pywb_env': venv)",
   "language": "python",
   "name": "python3"
  },
  "language_info": {
   "codemirror_mode": {
    "name": "ipython",
    "version": 3
   },
   "file_extension": ".py",
   "mimetype": "text/x-python",
   "name": "python",
   "nbconvert_exporter": "python",
   "pygments_lexer": "ipython3",
   "version": "3.8.10"
  },
  "orig_nbformat": 4,
  "vscode": {
   "interpreter": {
    "hash": "5f23ad26fee7c19123ec76d553ab471d3eaf1846113f788a900a81491aee844f"
   }
  }
 },
 "nbformat": 4,
 "nbformat_minor": 2
}
