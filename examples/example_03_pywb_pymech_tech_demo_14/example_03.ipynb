{
 "cells": [
  {
   "cell_type": "markdown",
   "id": "558376fd-674a-424c-8885-65a872acfd95",
   "metadata": {},
   "source": [
    "# Workbench Client"
   ]
  },
  {
   "cell_type": "code",
   "execution_count": null,
   "id": "014c5732-9f2b-423d-81ed-8e70928b2e47",
   "metadata": {
    "tags": []
   },
   "outputs": [],
   "source": [
    "from ansys.workbench.core import launch_workbench\n",
    "from ansys.mechanical.core import launch_mechanical\n",
    "import os\n",
    "import pyvista as pv"
   ]
  },
  {
   "cell_type": "code",
   "execution_count": null,
   "id": "705a3b24-b51d-4724-8a17-f7307873197c",
   "metadata": {
    "tags": []
   },
   "outputs": [],
   "source": [
    "# launch Workbench service on the local machine; using some options\n",
    "\n",
    "client_dir = r'D:\\GPS_Team\\Engagements_2023\\PyAnsys\\PyWorkbench\\Examples\\Tech_Demo_14\\client_dir'\n",
    "server_dir = r'D:\\GPS_Team\\Engagements_2023\\PyAnsys\\PyWorkbench\\Examples\\Tech_Demo_14\\server_dir'\n",
    "\n",
    "host = 'localhost'\n",
    "release = '241'\n",
    "\n",
    "wb = launch_workbench(release=release, server_workdir=server_dir, client_workdir=client_dir)"
   ]
  },
  {
   "cell_type": "code",
   "execution_count": null,
   "id": "221ad401-82d1-480d-8910-da0dd34b5a2c",
   "metadata": {
    "tags": []
   },
   "outputs": [],
   "source": [
    "# upload a couple of input files from example data repo\n",
    "wb.upload_file_from_example_repo(\"example_03_GenAxisymmModel.agdb\", \"example_03\")\n",
    "wb.upload_file_from_example_repo(\"example_03_3d_rotor_model.agdb\", \"example_03\")\n",
    "# upload a couple of input files from client working directory to server working directory\n",
    "wb.upload_file(\"example_03_Gen_Axisymm_rotor.py\")\n",
    "wb.upload_file(\"example_03_3D_rotor.py\")"
   ]
  },
  {
   "cell_type": "code",
   "execution_count": null,
   "id": "4d4218ea-9199-495e-be54-b524906fb920",
   "metadata": {
    "tags": []
   },
   "outputs": [],
   "source": [
    "# run a Workbench script to define the project and load geometry. Export workbench log to a file w2.log.\n",
    "export_path = os.path.join(client_dir, 'wb_log_file.log')\n",
    "wb.set_log_file(export_path)\n",
    "sys_name = wb.run_script_file('example_03_geom_prep.wbjn', log_level='info')\n",
    "print(sys_name)"
   ]
  },
  {
   "cell_type": "code",
   "execution_count": null,
   "id": "dee42682",
   "metadata": {},
   "outputs": [],
   "source": [
    "# start PyMechanical server on the system, then create a PyMechanical client session\n",
    "# to solve 2D General Axisymmetric Rotor Model\n",
    "\n",
    "server_port = wb.start_mechanical_server(system_name=sys_name[1])\n",
    "mechanical = launch_mechanical(start_instance=False, ip='localhost', port=server_port)\n",
    "\n",
    "print(mechanical.project_directory)"
   ]
  },
  {
   "cell_type": "code",
   "execution_count": null,
   "id": "347aaa32-c3b3-43aa-b0ae-dfc47542435e",
   "metadata": {
    "tags": []
   },
   "outputs": [],
   "source": [
    "# run a Mechanical python script via PyMechanical to mesh and solve the 2D general axisymmetric rotor model\n",
    "with open (os.path.join(client_dir, \"example_03_Gen_Axisymm_rotor.py\")) as sf:\n",
    "    mech_script = sf.read()\n",
    "mech_output = mechanical.run_python_script(mech_script)\n",
    "print(mech_output)"
   ]
  },
  {
   "cell_type": "code",
   "execution_count": null,
   "id": "0bedc14e",
   "metadata": {},
   "outputs": [],
   "source": [
    "# Download output file from PyMechanical working directory and print contents of 2D general axisymmetric rotor model\n",
    "\n",
    "# Specify Mechanical directory of Modal Campbell Analysis\n",
    "mechanical.run_python_script(f\"solve_dir=ExtAPI.DataModel.AnalysisList[2].WorkingDir\")\n",
    "\n",
    "result_solve_dir_server = mechanical.run_python_script(f\"solve_dir\")\n",
    "print(f\"All solver files are stored on the server at: {result_solve_dir_server}\")\n",
    "\n",
    "solve_out_path = os.path.join(result_solve_dir_server, \"solve.out\")\n",
    "\n",
    "def write_file_contents_to_console(path):\n",
    "    \"\"\"Write file contents to console.\"\"\"\n",
    "    with open(path, \"rt\") as file:\n",
    "        for line in file:\n",
    "            print(line, end=\"\")\n",
    "\n",
    "current_working_directory = os.getcwd()\n",
    "mechanical.download(solve_out_path, target_dir=current_working_directory)\n",
    "solve_out_local_path = os.path.join(current_working_directory, \"solve.out\")\n",
    "write_file_contents_to_console(solve_out_local_path)\n",
    "os.remove(solve_out_local_path)"
   ]
  },
  {
   "cell_type": "code",
   "execution_count": null,
   "id": "fbcf21cd",
   "metadata": {},
   "outputs": [],
   "source": [
    "# Download postprocess/output images from PyMechanical working directory and display of 2D general axisymmetric rotor model\n",
    "\n",
    "from matplotlib import image as mpimg\n",
    "from matplotlib import pyplot as plt\n",
    "\n",
    "#Specify Mechanical directory path of Modal Campbell Analysis\n",
    "mechanical.run_python_script(f\"image_dir=ExtAPI.DataModel.AnalysisList[2].WorkingDir\")\n",
    "\n",
    "# Verify the path for image directory.\n",
    "result_image_dir_server = mechanical.run_python_script(f\"image_dir\")\n",
    "print(f\"Images are stored on the server at: {result_image_dir_server}\")\n",
    "\n",
    "# Download one image file from the server to the current working directory and plot\n",
    "# using matplotlib.\n",
    "\n",
    "def get_image_path(image_name):\n",
    "    return os.path.join(result_image_dir_server, image_name)\n",
    "\n",
    "def display_image(path):\n",
    "    print(f\"Printing {path} using matplotlib\")\n",
    "    image1 = mpimg.imread(path)\n",
    "    plt.figure(figsize=(15, 15))\n",
    "    plt.axis(\"off\")\n",
    "    plt.imshow(image1)\n",
    "    plt.show()\n",
    "\n",
    "image_name = \"tot_deform_2D.png\"\n",
    "image_path_server = get_image_path(image_name)\n",
    "\n",
    "if image_path_server != \"\":\n",
    "    current_working_directory = os.getcwd()\n",
    "\n",
    "    local_file_path_list = mechanical.download(\n",
    "        image_path_server, target_dir=current_working_directory\n",
    "    )\n",
    "    image_local_path = local_file_path_list[0]\n",
    "    print(f\"Local image path : {image_local_path}\")\n",
    "    \n",
    "    display_image(image_local_path)"
   ]
  },
  {
   "cell_type": "code",
   "execution_count": null,
   "id": "680f155a",
   "metadata": {},
   "outputs": [],
   "source": [
    "# Download output file from PyMechanical working directory and print contents of 2D general axisymmetric rotor model\n",
    "\n",
    "# Specify Mechanical directory of Unbalance response Analysis\n",
    "mechanical.run_python_script(f\"solve_dir=ExtAPI.DataModel.AnalysisList[3].WorkingDir\")\n",
    "\n",
    "result_solve_dir_server = mechanical.run_python_script(f\"solve_dir\")\n",
    "print(f\"All solver files are stored on the server at: {result_solve_dir_server}\")\n",
    "\n",
    "solve_out_path = os.path.join(result_solve_dir_server, \"solve.out\")\n",
    "\n",
    "def write_file_contents_to_console(path):\n",
    "    \"\"\"Write file contents to console.\"\"\"\n",
    "    with open(path, \"rt\") as file:\n",
    "        for line in file:\n",
    "            print(line, end=\"\")\n",
    "\n",
    "current_working_directory = os.getcwd()\n",
    "mechanical.download(solve_out_path, target_dir=current_working_directory)\n",
    "solve_out_local_path = os.path.join(current_working_directory, \"solve.out\")\n",
    "write_file_contents_to_console(solve_out_local_path)\n",
    "os.remove(solve_out_local_path)"
   ]
  },
  {
   "cell_type": "code",
   "execution_count": null,
   "id": "e12642d7",
   "metadata": {},
   "outputs": [],
   "source": [
    "# start PyMechanical server on the system, then create a PyMechanical client session\n",
    "# Reference solution: to solve 3D Rotor Model\n",
    "\n",
    "server_port = wb.start_mechanical_server(system_name=sys_name[0])\n",
    "mechanical = launch_mechanical(start_instance=False, ip='localhost', port=server_port)\n",
    "\n",
    "print(mechanical.project_directory)"
   ]
  },
  {
   "cell_type": "code",
   "execution_count": null,
   "id": "06a42ba7",
   "metadata": {},
   "outputs": [],
   "source": [
    "# run a Mechanical python script via PyMechanical to mesh and solve the 3D rotor model\n",
    "with open (os.path.join(client_dir, \"example_03_3D_rotor.py\")) as sf:\n",
    "    mech_script = sf.read()\n",
    "mech_output = mechanical.run_python_script(mech_script)\n",
    "print(mech_output)"
   ]
  },
  {
   "cell_type": "code",
   "execution_count": null,
   "id": "9ae9b0f0",
   "metadata": {},
   "outputs": [],
   "source": [
    "# Download output file from PyMechanical working directory and print contents of 3D Rotor Model\n",
    "\n",
    "# Specify Mechanical directory of Modal Campbell Analysis\n",
    "mechanical.run_python_script(f\"solve_dir=ExtAPI.DataModel.AnalysisList[2].WorkingDir\")\n",
    "\n",
    "result_solve_dir_server = mechanical.run_python_script(f\"solve_dir\")\n",
    "print(f\"All solver files are stored on the server at: {result_solve_dir_server}\")\n",
    "\n",
    "solve_out_path = os.path.join(result_solve_dir_server, \"solve.out\")\n",
    "\n",
    "def write_file_contents_to_console(path):\n",
    "    \"\"\"Write file contents to console.\"\"\"\n",
    "    with open(path, \"rt\") as file:\n",
    "        for line in file:\n",
    "            print(line, end=\"\")\n",
    "\n",
    "current_working_directory = os.getcwd()\n",
    "mechanical.download(solve_out_path, target_dir=current_working_directory)\n",
    "solve_out_local_path = os.path.join(current_working_directory, \"solve.out\")\n",
    "write_file_contents_to_console(solve_out_local_path)\n",
    "os.remove(solve_out_local_path)"
   ]
  },
  {
   "cell_type": "code",
   "execution_count": null,
   "id": "b1a27f95",
   "metadata": {},
   "outputs": [],
   "source": [
    "# Download postprocess/output images from PyMechanical working directory and display of 3D rotor model\n",
    "\n",
    "from matplotlib import image as mpimg\n",
    "from matplotlib import pyplot as plt\n",
    "\n",
    "#Specify Mechanical directory path of Modal Campbell Analysis\n",
    "mechanical.run_python_script(f\"image_dir=ExtAPI.DataModel.AnalysisList[2].WorkingDir\")\n",
    "\n",
    "# Verify the path for image directory.\n",
    "result_image_dir_server = mechanical.run_python_script(f\"image_dir\")\n",
    "print(f\"Images are stored on the server at: {result_image_dir_server}\")\n",
    "\n",
    "# Download one image file from the server to the current working directory and plot\n",
    "# using matplotlib.\n",
    "\n",
    "def get_image_path(image_name):\n",
    "    return os.path.join(result_image_dir_server, image_name)\n",
    "\n",
    "def display_image(path):\n",
    "    print(f\"Printing {path} using matplotlib\")\n",
    "    image1 = mpimg.imread(path)\n",
    "    plt.figure(figsize=(15, 15))\n",
    "    plt.axis(\"off\")\n",
    "    plt.imshow(image1)\n",
    "    plt.show()\n",
    "\n",
    "image_name = \"tot_deform_3D.png\"\n",
    "image_path_server = get_image_path(image_name)\n",
    "\n",
    "if image_path_server != \"\":\n",
    "    current_working_directory = os.getcwd()\n",
    "\n",
    "    local_file_path_list = mechanical.download(\n",
    "        image_path_server, target_dir=current_working_directory\n",
    "    )\n",
    "    image_local_path = local_file_path_list[0]\n",
    "    print(f\"Local image path : {image_local_path}\")\n",
    "    \n",
    "    display_image(image_local_path)"
   ]
  },
  {
   "cell_type": "code",
   "execution_count": null,
   "id": "72dcc766",
   "metadata": {},
   "outputs": [],
   "source": [
    "# Download output file from PyMechanical working directory and print contents of 3D Rotor Model\n",
    "\n",
    "# Specify Mechanical directory of Unbalance Response Analysis\n",
    "mechanical.run_python_script(f\"solve_dir=ExtAPI.DataModel.AnalysisList[3].WorkingDir\")\n",
    "\n",
    "result_solve_dir_server = mechanical.run_python_script(f\"solve_dir\")\n",
    "print(f\"All solver files are stored on the server at: {result_solve_dir_server}\")\n",
    "\n",
    "solve_out_path = os.path.join(result_solve_dir_server, \"solve.out\")\n",
    "\n",
    "def write_file_contents_to_console(path):\n",
    "    \"\"\"Write file contents to console.\"\"\"\n",
    "    with open(path, \"rt\") as file:\n",
    "        for line in file:\n",
    "            print(line, end=\"\")\n",
    "\n",
    "current_working_directory = os.getcwd()\n",
    "mechanical.download(solve_out_path, target_dir=current_working_directory)\n",
    "solve_out_local_path = os.path.join(current_working_directory, \"solve.out\")\n",
    "write_file_contents_to_console(solve_out_local_path)\n",
    "os.remove(solve_out_local_path)"
   ]
  },
  {
   "cell_type": "code",
   "execution_count": null,
   "id": "57d69dc3",
   "metadata": {},
   "outputs": [],
   "source": [
    "# Download all the files from the server to the current working directory of 3D Rotor Model\n",
    "# set working directory accordingly\n",
    "\n",
    "import shutil\n",
    "import glob\n",
    "\n",
    "current_working_directory = os.getcwd()\n",
    "target_dir2 = current_working_directory\n",
    "# Verify the target path to copy the files.\n",
    "print(f\"Files to be copied from server path at: {target_dir2}\")\n",
    "\n",
    "# Verify the source path for directory.\n",
    "print(f\"All the solver file is stored on the server at: {result_solve_dir_server}\")\n",
    "\n",
    "source_dir = result_solve_dir_server\n",
    "destination_dir = target_dir2\n",
    "# Copy all the files\n",
    "for file in glob.glob(source_dir + '/*'):\n",
    "    shutil.copy(file, destination_dir)"
   ]
  },
  {
   "cell_type": "code",
   "execution_count": null,
   "id": "6dfe8b49-c81b-4718-851e-e1f6f0f30a12",
   "metadata": {
    "tags": []
   },
   "outputs": [],
   "source": [
    "# shutdown the Workbench client and service\n",
    "wb.exit()"
   ]
  }
 ],
 "metadata": {
  "kernelspec": {
   "display_name": ".venv",
   "language": "python",
   "name": "python3"
  },
  "language_info": {
   "codemirror_mode": {
    "name": "ipython",
    "version": 3
   },
   "file_extension": ".py",
   "mimetype": "text/x-python",
   "name": "python",
   "nbconvert_exporter": "python",
   "pygments_lexer": "ipython3",
   "version": "3.8.10"
  },
  "vscode": {
   "interpreter": {
    "hash": "e4af4103cf65d15f478052ad93acb8d8b93f11fa7671171ea93b2a1a759e91b8"
   }
  }
 },
 "nbformat": 4,
 "nbformat_minor": 5
}
